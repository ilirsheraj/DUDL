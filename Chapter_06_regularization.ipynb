{
  "nbformat": 4,
  "nbformat_minor": 0,
  "metadata": {
    "colab": {
      "name": "Chapter_06_regularization.ipynb",
      "provenance": [],
      "collapsed_sections": [],
      "authorship_tag": "ABX9TyPQDd8PA5SkfErIspgnrQbo",
      "include_colab_link": true
    },
    "kernelspec": {
      "name": "python3",
      "display_name": "Python 3"
    },
    "language_info": {
      "name": "python"
    }
  },
  "cells": [
    {
      "cell_type": "markdown",
      "metadata": {
        "id": "view-in-github",
        "colab_type": "text"
      },
      "source": [
        "<a href=\"https://colab.research.google.com/github/ilirsheraj/DUDL/blob/main/Chapter_06_regularization.ipynb\" target=\"_parent\"><img src=\"https://colab.research.google.com/assets/colab-badge.svg\" alt=\"Open In Colab\"/></a>"
      ]
    },
    {
      "cell_type": "code",
      "execution_count": 1,
      "metadata": {
        "id": "qH17iZHVbU3q"
      },
      "outputs": [],
      "source": [
        "import torch\n",
        "import torch.nn as nn\n",
        "import torch.nn.functional as F"
      ]
    },
    {
      "cell_type": "markdown",
      "source": [
        "## Regular Dropout"
      ],
      "metadata": {
        "id": "TzhlsKcf0ReD"
      }
    },
    {
      "cell_type": "code",
      "source": [
        "# Define a dropout instance and create some data\n",
        "# define the probability\n",
        "prob = 0.5 # default\n",
        "\n",
        "dropout = nn.Dropout(p=prob)\n",
        "dropout"
      ],
      "metadata": {
        "colab": {
          "base_uri": "https://localhost:8080/"
        },
        "id": "MLQVZXoK0jbg",
        "outputId": "59d57013-8914-4c14-e139-22b3b47df15a"
      },
      "execution_count": 2,
      "outputs": [
        {
          "output_type": "execute_result",
          "data": {
            "text/plain": [
              "Dropout(p=0.5, inplace=False)"
            ]
          },
          "metadata": {},
          "execution_count": 2
        }
      ]
    },
    {
      "cell_type": "code",
      "source": [
        "# Lets see what dropout returns\n",
        "x = torch.ones(10)\n",
        "\n",
        "y = dropout(x)\n",
        "print(x)\n",
        "print()\n",
        "print(y) # y/(1-p), SCALED UP\n",
        "print()\n",
        "print(torch.mean(y))\n",
        "# Independent probabilities"
      ],
      "metadata": {
        "colab": {
          "base_uri": "https://localhost:8080/"
        },
        "id": "F3kNQyXa0ztL",
        "outputId": "af9c2372-7b4b-4a0e-b7d6-e6b9b10c5552"
      },
      "execution_count": 3,
      "outputs": [
        {
          "output_type": "stream",
          "name": "stdout",
          "text": [
            "tensor([1., 1., 1., 1., 1., 1., 1., 1., 1., 1.])\n",
            "\n",
            "tensor([0., 0., 2., 0., 2., 0., 2., 0., 2., 2.])\n",
            "\n",
            "tensor(1.)\n"
          ]
        }
      ]
    },
    {
      "cell_type": "code",
      "source": [
        "# dropout is turned off when evaluating the model\n",
        "dropout.eval()\n",
        "# All lines within its identation will have dropout mode off\n",
        "y = dropout(x)\n",
        "print(y)\n",
        "print(torch.mean(y))"
      ],
      "metadata": {
        "colab": {
          "base_uri": "https://localhost:8080/"
        },
        "id": "9G6aLas81Bya",
        "outputId": "0c261771-cab8-4a37-a35b-7d7676b7cdde"
      },
      "execution_count": 4,
      "outputs": [
        {
          "output_type": "stream",
          "name": "stdout",
          "text": [
            "tensor([1., 1., 1., 1., 1., 1., 1., 1., 1., 1.])\n",
            "tensor(1.)\n"
          ]
        }
      ]
    },
    {
      "cell_type": "code",
      "source": [
        "# Another way to use dropout is to use F.dropout()\n",
        "dropout.eval()\n",
        "y = F.dropout(x) # no need to specify instance\n",
        "print(y)\n",
        "print()\n",
        "print(torch.mean(y))"
      ],
      "metadata": {
        "colab": {
          "base_uri": "https://localhost:8080/"
        },
        "id": "z9z8wA9U2LVA",
        "outputId": "d3654721-196e-4cc3-837d-96cd6f8674f8"
      },
      "execution_count": 5,
      "outputs": [
        {
          "output_type": "stream",
          "name": "stdout",
          "text": [
            "tensor([0., 0., 2., 2., 2., 0., 0., 2., 0., 0.])\n",
            "\n",
            "tensor(0.8000)\n"
          ]
        }
      ]
    },
    {
      "cell_type": "code",
      "source": [
        "# We can manually switch it off with F\n",
        "dropout.eval()\n",
        "y = F.dropout(x, training=False)\n",
        "print(y)\n",
        "print()\n",
        "print(torch.mean(y))"
      ],
      "metadata": {
        "colab": {
          "base_uri": "https://localhost:8080/"
        },
        "id": "qHOOEYpR1HhD",
        "outputId": "8129a233-5572-45cc-e2e9-388bd3950f69"
      },
      "execution_count": 6,
      "outputs": [
        {
          "output_type": "stream",
          "name": "stdout",
          "text": [
            "tensor([1., 1., 1., 1., 1., 1., 1., 1., 1., 1.])\n",
            "\n",
            "tensor(1.)\n"
          ]
        }
      ]
    },
    {
      "cell_type": "code",
      "source": [
        "# When a model is switched to eval mode it stays in it until it is switched back to training mode\n",
        "dropout.train()\n",
        "y = dropout(x)\n",
        "print(y)\n",
        "print()\n",
        "\n",
        "dropout.eval()\n",
        "y = dropout(x)\n",
        "print(y)\n",
        "print()\n",
        "\n",
        "# dropout.train()\n",
        "y = dropout(x) # will still be in eval unless dropout.train() is activated\n",
        "print(y)"
      ],
      "metadata": {
        "colab": {
          "base_uri": "https://localhost:8080/"
        },
        "id": "6GxoyemA2uNV",
        "outputId": "2e685025-6fb4-4b90-8c49-6bead2cf0f63"
      },
      "execution_count": 7,
      "outputs": [
        {
          "output_type": "stream",
          "name": "stdout",
          "text": [
            "tensor([2., 0., 0., 0., 2., 2., 2., 0., 0., 0.])\n",
            "\n",
            "tensor([1., 1., 1., 1., 1., 1., 1., 1., 1., 1.])\n",
            "\n",
            "tensor([1., 1., 1., 1., 1., 1., 1., 1., 1., 1.])\n"
          ]
        }
      ]
    },
    {
      "cell_type": "markdown",
      "source": [
        "## Drop-Out Regularization"
      ],
      "metadata": {
        "id": "2iuAc9eaibd5"
      }
    },
    {
      "cell_type": "code",
      "source": [
        "# Load all the additional libraries\n",
        "import numpy as np\n",
        "import matplotlib.pyplot as plt\n",
        "from IPython import display\n",
        "display.set_matplotlib_formats(\"svg\")\n",
        "\n",
        "from sklearn.model_selection import train_test_split\n",
        "from torch.utils.data import DataLoader, TensorDataset"
      ],
      "metadata": {
        "id": "Eqm91Kbm3aMM"
      },
      "execution_count": 8,
      "outputs": []
    },
    {
      "cell_type": "code",
      "source": [
        "# The data is not linearly separable and DL is not necessary, but here we do it for practical purposes\n",
        "nPerClust = 200\n",
        "\n",
        "# define the angles\n",
        "th = np.linspace(0, 4*np.pi, nPerClust)\n",
        "\n",
        "# define the radii\n",
        "r1 = 10\n",
        "r2 = 15\n",
        "\n",
        "# generate the data\n",
        "a = [ r1*np.cos(th) + np.random.randn(nPerClust)*3,\n",
        "      r1*np.sin(th) + np.random.randn(nPerClust)]\n",
        "\n",
        "b = [r2*np.cos(th) + np.random.randn(nPerClust),\n",
        "     r2*np.sin(th) + np.random.randn(nPerClust)*3]\n",
        "\n",
        "# Define the true labels\n",
        "labels_np = np.vstack((np.zeros((nPerClust,1)), np.ones((nPerClust,1))))\n",
        "\n",
        "[print(len(i)) for i in a]\n",
        "print()\n",
        "[print(len(i)) for i in b]\n",
        "print()\n",
        "print(labels_np.shape)"
      ],
      "metadata": {
        "colab": {
          "base_uri": "https://localhost:8080/"
        },
        "id": "CxI-T68rjwXw",
        "outputId": "644317d8-f2a3-4f86-c84a-8da19c81a5f7"
      },
      "execution_count": 15,
      "outputs": [
        {
          "output_type": "stream",
          "name": "stdout",
          "text": [
            "200\n",
            "200\n",
            "\n",
            "200\n",
            "200\n",
            "\n",
            "(400, 1)\n"
          ]
        }
      ]
    },
    {
      "cell_type": "code",
      "source": [
        "# Concatenate into a single matrix\n",
        "data_np = np.hstack((a,b)).T\n",
        "\n",
        "# Convert to Tensor\n",
        "data = torch.tensor(data_np).float()\n",
        "labels = torch.tensor(labels_np).float()"
      ],
      "metadata": {
        "id": "pnqh3lgrkFdq"
      },
      "execution_count": 16,
      "outputs": []
    },
    {
      "cell_type": "code",
      "source": [
        "# Plot the whole thing\n",
        "fig = plt.figure(figsize=(5,5))\n",
        "plt.plot(data[np.where(labels==0)[0],0], data[np.where(labels==0)[0],1], \"bs\")\n",
        "plt.plot(data[np.where(labels==1)[0],0], data[np.where(labels==1)[0],1], \"ko\")\n",
        "plt.title(\"Original Data Points\")\n",
        "plt.xlabel(\"Data Dimesnion 1\")\n",
        "plt.ylabel(\"Data Dimension 2\")\n",
        "plt.show()"
      ],
      "metadata": {
        "colab": {
          "base_uri": "https://localhost:8080/",
          "height": 463
        },
        "id": "P0vgO9BNnDac",
        "outputId": "cef8e1de-41a6-49b4-e7a4-8f746f7bdd92"
      },
      "execution_count": 21,
      "outputs": [
        {
          "output_type": "display_data",
          "data": {
            "text/plain": [
              "<Figure size 360x360 with 1 Axes>"
            ],
            "image/svg+xml": "<?xml version=\"1.0\" encoding=\"utf-8\" standalone=\"no\"?>\n<!DOCTYPE svg PUBLIC \"-//W3C//DTD SVG 1.1//EN\"\n  \"http://www.w3.org/Graphics/SVG/1.1/DTD/svg11.dtd\">\n<!-- Created with matplotlib (https://matplotlib.org/) -->\n<svg height=\"331.674375pt\" version=\"1.1\" viewBox=\"0 0 335.182812 331.674375\" width=\"335.182812pt\" xmlns=\"http://www.w3.org/2000/svg\" xmlns:xlink=\"http://www.w3.org/1999/xlink\">\n <defs>\n  <style type=\"text/css\">\n*{stroke-linecap:butt;stroke-linejoin:round;}\n  </style>\n </defs>\n <g id=\"figure_1\">\n  <g id=\"patch_1\">\n   <path d=\"M 0 331.674375 \nL 335.182812 331.674375 \nL 335.182812 0 \nL 0 0 \nz\n\" style=\"fill:none;\"/>\n  </g>\n  <g id=\"axes_1\">\n   <g id=\"patch_2\">\n    <path d=\"M 48.982813 294.118125 \nL 327.982813 294.118125 \nL 327.982813 22.318125 \nL 48.982813 22.318125 \nz\n\" style=\"fill:#ffffff;\"/>\n   </g>\n   <g id=\"matplotlib.axis_1\">\n    <g id=\"xtick_1\">\n     <g id=\"line2d_1\">\n      <defs>\n       <path d=\"M 0 0 \nL 0 3.5 \n\" id=\"mb040405cee\" style=\"stroke:#000000;stroke-width:0.8;\"/>\n      </defs>\n      <g>\n       <use style=\"stroke:#000000;stroke-width:0.8;\" x=\"72.019365\" xlink:href=\"#mb040405cee\" y=\"294.118125\"/>\n      </g>\n     </g>\n     <g id=\"text_1\">\n      <!-- −15 -->\n      <defs>\n       <path d=\"M 10.59375 35.5 \nL 73.1875 35.5 \nL 73.1875 27.203125 \nL 10.59375 27.203125 \nz\n\" id=\"DejaVuSans-8722\"/>\n       <path d=\"M 12.40625 8.296875 \nL 28.515625 8.296875 \nL 28.515625 63.921875 \nL 10.984375 60.40625 \nL 10.984375 69.390625 \nL 28.421875 72.90625 \nL 38.28125 72.90625 \nL 38.28125 8.296875 \nL 54.390625 8.296875 \nL 54.390625 0 \nL 12.40625 0 \nz\n\" id=\"DejaVuSans-49\"/>\n       <path d=\"M 10.796875 72.90625 \nL 49.515625 72.90625 \nL 49.515625 64.59375 \nL 19.828125 64.59375 \nL 19.828125 46.734375 \nQ 21.96875 47.46875 24.109375 47.828125 \nQ 26.265625 48.1875 28.421875 48.1875 \nQ 40.625 48.1875 47.75 41.5 \nQ 54.890625 34.8125 54.890625 23.390625 \nQ 54.890625 11.625 47.5625 5.09375 \nQ 40.234375 -1.421875 26.90625 -1.421875 \nQ 22.3125 -1.421875 17.546875 -0.640625 \nQ 12.796875 0.140625 7.71875 1.703125 \nL 7.71875 11.625 \nQ 12.109375 9.234375 16.796875 8.0625 \nQ 21.484375 6.890625 26.703125 6.890625 \nQ 35.15625 6.890625 40.078125 11.328125 \nQ 45.015625 15.765625 45.015625 23.390625 \nQ 45.015625 31 40.078125 35.4375 \nQ 35.15625 39.890625 26.703125 39.890625 \nQ 22.75 39.890625 18.8125 39.015625 \nQ 14.890625 38.140625 10.796875 36.28125 \nz\n\" id=\"DejaVuSans-53\"/>\n      </defs>\n      <g transform=\"translate(61.467021 308.716563)scale(0.1 -0.1)\">\n       <use xlink:href=\"#DejaVuSans-8722\"/>\n       <use x=\"83.789062\" xlink:href=\"#DejaVuSans-49\"/>\n       <use x=\"147.412109\" xlink:href=\"#DejaVuSans-53\"/>\n      </g>\n     </g>\n    </g>\n    <g id=\"xtick_2\">\n     <g id=\"line2d_2\">\n      <g>\n       <use style=\"stroke:#000000;stroke-width:0.8;\" x=\"110.288145\" xlink:href=\"#mb040405cee\" y=\"294.118125\"/>\n      </g>\n     </g>\n     <g id=\"text_2\">\n      <!-- −10 -->\n      <defs>\n       <path d=\"M 31.78125 66.40625 \nQ 24.171875 66.40625 20.328125 58.90625 \nQ 16.5 51.421875 16.5 36.375 \nQ 16.5 21.390625 20.328125 13.890625 \nQ 24.171875 6.390625 31.78125 6.390625 \nQ 39.453125 6.390625 43.28125 13.890625 \nQ 47.125 21.390625 47.125 36.375 \nQ 47.125 51.421875 43.28125 58.90625 \nQ 39.453125 66.40625 31.78125 66.40625 \nz\nM 31.78125 74.21875 \nQ 44.046875 74.21875 50.515625 64.515625 \nQ 56.984375 54.828125 56.984375 36.375 \nQ 56.984375 17.96875 50.515625 8.265625 \nQ 44.046875 -1.421875 31.78125 -1.421875 \nQ 19.53125 -1.421875 13.0625 8.265625 \nQ 6.59375 17.96875 6.59375 36.375 \nQ 6.59375 54.828125 13.0625 64.515625 \nQ 19.53125 74.21875 31.78125 74.21875 \nz\n\" id=\"DejaVuSans-48\"/>\n      </defs>\n      <g transform=\"translate(99.735802 308.716563)scale(0.1 -0.1)\">\n       <use xlink:href=\"#DejaVuSans-8722\"/>\n       <use x=\"83.789062\" xlink:href=\"#DejaVuSans-49\"/>\n       <use x=\"147.412109\" xlink:href=\"#DejaVuSans-48\"/>\n      </g>\n     </g>\n    </g>\n    <g id=\"xtick_3\">\n     <g id=\"line2d_3\">\n      <g>\n       <use style=\"stroke:#000000;stroke-width:0.8;\" x=\"148.556926\" xlink:href=\"#mb040405cee\" y=\"294.118125\"/>\n      </g>\n     </g>\n     <g id=\"text_3\">\n      <!-- −5 -->\n      <g transform=\"translate(141.185832 308.716563)scale(0.1 -0.1)\">\n       <use xlink:href=\"#DejaVuSans-8722\"/>\n       <use x=\"83.789062\" xlink:href=\"#DejaVuSans-53\"/>\n      </g>\n     </g>\n    </g>\n    <g id=\"xtick_4\">\n     <g id=\"line2d_4\">\n      <g>\n       <use style=\"stroke:#000000;stroke-width:0.8;\" x=\"186.825706\" xlink:href=\"#mb040405cee\" y=\"294.118125\"/>\n      </g>\n     </g>\n     <g id=\"text_4\">\n      <!-- 0 -->\n      <g transform=\"translate(183.644456 308.716563)scale(0.1 -0.1)\">\n       <use xlink:href=\"#DejaVuSans-48\"/>\n      </g>\n     </g>\n    </g>\n    <g id=\"xtick_5\">\n     <g id=\"line2d_5\">\n      <g>\n       <use style=\"stroke:#000000;stroke-width:0.8;\" x=\"225.094487\" xlink:href=\"#mb040405cee\" y=\"294.118125\"/>\n      </g>\n     </g>\n     <g id=\"text_5\">\n      <!-- 5 -->\n      <g transform=\"translate(221.913237 308.716563)scale(0.1 -0.1)\">\n       <use xlink:href=\"#DejaVuSans-53\"/>\n      </g>\n     </g>\n    </g>\n    <g id=\"xtick_6\">\n     <g id=\"line2d_6\">\n      <g>\n       <use style=\"stroke:#000000;stroke-width:0.8;\" x=\"263.363268\" xlink:href=\"#mb040405cee\" y=\"294.118125\"/>\n      </g>\n     </g>\n     <g id=\"text_6\">\n      <!-- 10 -->\n      <g transform=\"translate(257.000768 308.716563)scale(0.1 -0.1)\">\n       <use xlink:href=\"#DejaVuSans-49\"/>\n       <use x=\"63.623047\" xlink:href=\"#DejaVuSans-48\"/>\n      </g>\n     </g>\n    </g>\n    <g id=\"xtick_7\">\n     <g id=\"line2d_7\">\n      <g>\n       <use style=\"stroke:#000000;stroke-width:0.8;\" x=\"301.632048\" xlink:href=\"#mb040405cee\" y=\"294.118125\"/>\n      </g>\n     </g>\n     <g id=\"text_7\">\n      <!-- 15 -->\n      <g transform=\"translate(295.269548 308.716563)scale(0.1 -0.1)\">\n       <use xlink:href=\"#DejaVuSans-49\"/>\n       <use x=\"63.623047\" xlink:href=\"#DejaVuSans-53\"/>\n      </g>\n     </g>\n    </g>\n    <g id=\"text_8\">\n     <!-- Data Dimesnion 1 -->\n     <defs>\n      <path d=\"M 19.671875 64.796875 \nL 19.671875 8.109375 \nL 31.59375 8.109375 \nQ 46.6875 8.109375 53.6875 14.9375 \nQ 60.6875 21.78125 60.6875 36.53125 \nQ 60.6875 51.171875 53.6875 57.984375 \nQ 46.6875 64.796875 31.59375 64.796875 \nz\nM 9.8125 72.90625 \nL 30.078125 72.90625 \nQ 51.265625 72.90625 61.171875 64.09375 \nQ 71.09375 55.28125 71.09375 36.53125 \nQ 71.09375 17.671875 61.125 8.828125 \nQ 51.171875 0 30.078125 0 \nL 9.8125 0 \nz\n\" id=\"DejaVuSans-68\"/>\n      <path d=\"M 34.28125 27.484375 \nQ 23.390625 27.484375 19.1875 25 \nQ 14.984375 22.515625 14.984375 16.5 \nQ 14.984375 11.71875 18.140625 8.90625 \nQ 21.296875 6.109375 26.703125 6.109375 \nQ 34.1875 6.109375 38.703125 11.40625 \nQ 43.21875 16.703125 43.21875 25.484375 \nL 43.21875 27.484375 \nz\nM 52.203125 31.203125 \nL 52.203125 0 \nL 43.21875 0 \nL 43.21875 8.296875 \nQ 40.140625 3.328125 35.546875 0.953125 \nQ 30.953125 -1.421875 24.3125 -1.421875 \nQ 15.921875 -1.421875 10.953125 3.296875 \nQ 6 8.015625 6 15.921875 \nQ 6 25.140625 12.171875 29.828125 \nQ 18.359375 34.515625 30.609375 34.515625 \nL 43.21875 34.515625 \nL 43.21875 35.40625 \nQ 43.21875 41.609375 39.140625 45 \nQ 35.0625 48.390625 27.6875 48.390625 \nQ 23 48.390625 18.546875 47.265625 \nQ 14.109375 46.140625 10.015625 43.890625 \nL 10.015625 52.203125 \nQ 14.9375 54.109375 19.578125 55.046875 \nQ 24.21875 56 28.609375 56 \nQ 40.484375 56 46.34375 49.84375 \nQ 52.203125 43.703125 52.203125 31.203125 \nz\n\" id=\"DejaVuSans-97\"/>\n      <path d=\"M 18.3125 70.21875 \nL 18.3125 54.6875 \nL 36.8125 54.6875 \nL 36.8125 47.703125 \nL 18.3125 47.703125 \nL 18.3125 18.015625 \nQ 18.3125 11.328125 20.140625 9.421875 \nQ 21.96875 7.515625 27.59375 7.515625 \nL 36.8125 7.515625 \nL 36.8125 0 \nL 27.59375 0 \nQ 17.1875 0 13.234375 3.875 \nQ 9.28125 7.765625 9.28125 18.015625 \nL 9.28125 47.703125 \nL 2.6875 47.703125 \nL 2.6875 54.6875 \nL 9.28125 54.6875 \nL 9.28125 70.21875 \nz\n\" id=\"DejaVuSans-116\"/>\n      <path id=\"DejaVuSans-32\"/>\n      <path d=\"M 9.421875 54.6875 \nL 18.40625 54.6875 \nL 18.40625 0 \nL 9.421875 0 \nz\nM 9.421875 75.984375 \nL 18.40625 75.984375 \nL 18.40625 64.59375 \nL 9.421875 64.59375 \nz\n\" id=\"DejaVuSans-105\"/>\n      <path d=\"M 52 44.1875 \nQ 55.375 50.25 60.0625 53.125 \nQ 64.75 56 71.09375 56 \nQ 79.640625 56 84.28125 50.015625 \nQ 88.921875 44.046875 88.921875 33.015625 \nL 88.921875 0 \nL 79.890625 0 \nL 79.890625 32.71875 \nQ 79.890625 40.578125 77.09375 44.375 \nQ 74.3125 48.1875 68.609375 48.1875 \nQ 61.625 48.1875 57.5625 43.546875 \nQ 53.515625 38.921875 53.515625 30.90625 \nL 53.515625 0 \nL 44.484375 0 \nL 44.484375 32.71875 \nQ 44.484375 40.625 41.703125 44.40625 \nQ 38.921875 48.1875 33.109375 48.1875 \nQ 26.21875 48.1875 22.15625 43.53125 \nQ 18.109375 38.875 18.109375 30.90625 \nL 18.109375 0 \nL 9.078125 0 \nL 9.078125 54.6875 \nL 18.109375 54.6875 \nL 18.109375 46.1875 \nQ 21.1875 51.21875 25.484375 53.609375 \nQ 29.78125 56 35.6875 56 \nQ 41.65625 56 45.828125 52.96875 \nQ 50 49.953125 52 44.1875 \nz\n\" id=\"DejaVuSans-109\"/>\n      <path d=\"M 56.203125 29.59375 \nL 56.203125 25.203125 \nL 14.890625 25.203125 \nQ 15.484375 15.921875 20.484375 11.0625 \nQ 25.484375 6.203125 34.421875 6.203125 \nQ 39.59375 6.203125 44.453125 7.46875 \nQ 49.3125 8.734375 54.109375 11.28125 \nL 54.109375 2.78125 \nQ 49.265625 0.734375 44.1875 -0.34375 \nQ 39.109375 -1.421875 33.890625 -1.421875 \nQ 20.796875 -1.421875 13.15625 6.1875 \nQ 5.515625 13.8125 5.515625 26.8125 \nQ 5.515625 40.234375 12.765625 48.109375 \nQ 20.015625 56 32.328125 56 \nQ 43.359375 56 49.78125 48.890625 \nQ 56.203125 41.796875 56.203125 29.59375 \nz\nM 47.21875 32.234375 \nQ 47.125 39.59375 43.09375 43.984375 \nQ 39.0625 48.390625 32.421875 48.390625 \nQ 24.90625 48.390625 20.390625 44.140625 \nQ 15.875 39.890625 15.1875 32.171875 \nz\n\" id=\"DejaVuSans-101\"/>\n      <path d=\"M 44.28125 53.078125 \nL 44.28125 44.578125 \nQ 40.484375 46.53125 36.375 47.5 \nQ 32.28125 48.484375 27.875 48.484375 \nQ 21.1875 48.484375 17.84375 46.4375 \nQ 14.5 44.390625 14.5 40.28125 \nQ 14.5 37.15625 16.890625 35.375 \nQ 19.28125 33.59375 26.515625 31.984375 \nL 29.59375 31.296875 \nQ 39.15625 29.25 43.1875 25.515625 \nQ 47.21875 21.78125 47.21875 15.09375 \nQ 47.21875 7.46875 41.1875 3.015625 \nQ 35.15625 -1.421875 24.609375 -1.421875 \nQ 20.21875 -1.421875 15.453125 -0.5625 \nQ 10.6875 0.296875 5.421875 2 \nL 5.421875 11.28125 \nQ 10.40625 8.6875 15.234375 7.390625 \nQ 20.0625 6.109375 24.8125 6.109375 \nQ 31.15625 6.109375 34.5625 8.28125 \nQ 37.984375 10.453125 37.984375 14.40625 \nQ 37.984375 18.0625 35.515625 20.015625 \nQ 33.0625 21.96875 24.703125 23.78125 \nL 21.578125 24.515625 \nQ 13.234375 26.265625 9.515625 29.90625 \nQ 5.8125 33.546875 5.8125 39.890625 \nQ 5.8125 47.609375 11.28125 51.796875 \nQ 16.75 56 26.8125 56 \nQ 31.78125 56 36.171875 55.265625 \nQ 40.578125 54.546875 44.28125 53.078125 \nz\n\" id=\"DejaVuSans-115\"/>\n      <path d=\"M 54.890625 33.015625 \nL 54.890625 0 \nL 45.90625 0 \nL 45.90625 32.71875 \nQ 45.90625 40.484375 42.875 44.328125 \nQ 39.84375 48.1875 33.796875 48.1875 \nQ 26.515625 48.1875 22.3125 43.546875 \nQ 18.109375 38.921875 18.109375 30.90625 \nL 18.109375 0 \nL 9.078125 0 \nL 9.078125 54.6875 \nL 18.109375 54.6875 \nL 18.109375 46.1875 \nQ 21.34375 51.125 25.703125 53.5625 \nQ 30.078125 56 35.796875 56 \nQ 45.21875 56 50.046875 50.171875 \nQ 54.890625 44.34375 54.890625 33.015625 \nz\n\" id=\"DejaVuSans-110\"/>\n      <path d=\"M 30.609375 48.390625 \nQ 23.390625 48.390625 19.1875 42.75 \nQ 14.984375 37.109375 14.984375 27.296875 \nQ 14.984375 17.484375 19.15625 11.84375 \nQ 23.34375 6.203125 30.609375 6.203125 \nQ 37.796875 6.203125 41.984375 11.859375 \nQ 46.1875 17.53125 46.1875 27.296875 \nQ 46.1875 37.015625 41.984375 42.703125 \nQ 37.796875 48.390625 30.609375 48.390625 \nz\nM 30.609375 56 \nQ 42.328125 56 49.015625 48.375 \nQ 55.71875 40.765625 55.71875 27.296875 \nQ 55.71875 13.875 49.015625 6.21875 \nQ 42.328125 -1.421875 30.609375 -1.421875 \nQ 18.84375 -1.421875 12.171875 6.21875 \nQ 5.515625 13.875 5.515625 27.296875 \nQ 5.515625 40.765625 12.171875 48.375 \nQ 18.84375 56 30.609375 56 \nz\n\" id=\"DejaVuSans-111\"/>\n     </defs>\n     <g transform=\"translate(143.608594 322.394687)scale(0.1 -0.1)\">\n      <use xlink:href=\"#DejaVuSans-68\"/>\n      <use x=\"77.001953\" xlink:href=\"#DejaVuSans-97\"/>\n      <use x=\"138.28125\" xlink:href=\"#DejaVuSans-116\"/>\n      <use x=\"177.490234\" xlink:href=\"#DejaVuSans-97\"/>\n      <use x=\"238.769531\" xlink:href=\"#DejaVuSans-32\"/>\n      <use x=\"270.556641\" xlink:href=\"#DejaVuSans-68\"/>\n      <use x=\"347.558594\" xlink:href=\"#DejaVuSans-105\"/>\n      <use x=\"375.341797\" xlink:href=\"#DejaVuSans-109\"/>\n      <use x=\"472.753906\" xlink:href=\"#DejaVuSans-101\"/>\n      <use x=\"534.277344\" xlink:href=\"#DejaVuSans-115\"/>\n      <use x=\"586.376953\" xlink:href=\"#DejaVuSans-110\"/>\n      <use x=\"649.755859\" xlink:href=\"#DejaVuSans-105\"/>\n      <use x=\"677.539062\" xlink:href=\"#DejaVuSans-111\"/>\n      <use x=\"738.720703\" xlink:href=\"#DejaVuSans-110\"/>\n      <use x=\"802.099609\" xlink:href=\"#DejaVuSans-32\"/>\n      <use x=\"833.886719\" xlink:href=\"#DejaVuSans-49\"/>\n     </g>\n    </g>\n   </g>\n   <g id=\"matplotlib.axis_2\">\n    <g id=\"ytick_1\">\n     <g id=\"line2d_8\">\n      <defs>\n       <path d=\"M 0 0 \nL -3.5 0 \n\" id=\"m85d00e21cd\" style=\"stroke:#000000;stroke-width:0.8;\"/>\n      </defs>\n      <g>\n       <use style=\"stroke:#000000;stroke-width:0.8;\" x=\"48.982813\" xlink:href=\"#m85d00e21cd\" y=\"267.599347\"/>\n      </g>\n     </g>\n     <g id=\"text_9\">\n      <!-- −20 -->\n      <defs>\n       <path d=\"M 19.1875 8.296875 \nL 53.609375 8.296875 \nL 53.609375 0 \nL 7.328125 0 \nL 7.328125 8.296875 \nQ 12.9375 14.109375 22.625 23.890625 \nQ 32.328125 33.6875 34.8125 36.53125 \nQ 39.546875 41.84375 41.421875 45.53125 \nQ 43.3125 49.21875 43.3125 52.78125 \nQ 43.3125 58.59375 39.234375 62.25 \nQ 35.15625 65.921875 28.609375 65.921875 \nQ 23.96875 65.921875 18.8125 64.3125 \nQ 13.671875 62.703125 7.8125 59.421875 \nL 7.8125 69.390625 \nQ 13.765625 71.78125 18.9375 73 \nQ 24.125 74.21875 28.421875 74.21875 \nQ 39.75 74.21875 46.484375 68.546875 \nQ 53.21875 62.890625 53.21875 53.421875 \nQ 53.21875 48.921875 51.53125 44.890625 \nQ 49.859375 40.875 45.40625 35.40625 \nQ 44.1875 33.984375 37.640625 27.21875 \nQ 31.109375 20.453125 19.1875 8.296875 \nz\n\" id=\"DejaVuSans-50\"/>\n      </defs>\n      <g transform=\"translate(20.878125 271.398566)scale(0.1 -0.1)\">\n       <use xlink:href=\"#DejaVuSans-8722\"/>\n       <use x=\"83.789062\" xlink:href=\"#DejaVuSans-50\"/>\n       <use x=\"147.412109\" xlink:href=\"#DejaVuSans-48\"/>\n      </g>\n     </g>\n    </g>\n    <g id=\"ytick_2\">\n     <g id=\"line2d_9\">\n      <g>\n       <use style=\"stroke:#000000;stroke-width:0.8;\" x=\"48.982813\" xlink:href=\"#m85d00e21cd\" y=\"208.232662\"/>\n      </g>\n     </g>\n     <g id=\"text_10\">\n      <!-- −10 -->\n      <g transform=\"translate(20.878125 212.031881)scale(0.1 -0.1)\">\n       <use xlink:href=\"#DejaVuSans-8722\"/>\n       <use x=\"83.789062\" xlink:href=\"#DejaVuSans-49\"/>\n       <use x=\"147.412109\" xlink:href=\"#DejaVuSans-48\"/>\n      </g>\n     </g>\n    </g>\n    <g id=\"ytick_3\">\n     <g id=\"line2d_10\">\n      <g>\n       <use style=\"stroke:#000000;stroke-width:0.8;\" x=\"48.982813\" xlink:href=\"#m85d00e21cd\" y=\"148.865977\"/>\n      </g>\n     </g>\n     <g id=\"text_11\">\n      <!-- 0 -->\n      <g transform=\"translate(35.620313 152.665195)scale(0.1 -0.1)\">\n       <use xlink:href=\"#DejaVuSans-48\"/>\n      </g>\n     </g>\n    </g>\n    <g id=\"ytick_4\">\n     <g id=\"line2d_11\">\n      <g>\n       <use style=\"stroke:#000000;stroke-width:0.8;\" x=\"48.982813\" xlink:href=\"#m85d00e21cd\" y=\"89.499291\"/>\n      </g>\n     </g>\n     <g id=\"text_12\">\n      <!-- 10 -->\n      <g transform=\"translate(29.257813 93.29851)scale(0.1 -0.1)\">\n       <use xlink:href=\"#DejaVuSans-49\"/>\n       <use x=\"63.623047\" xlink:href=\"#DejaVuSans-48\"/>\n      </g>\n     </g>\n    </g>\n    <g id=\"ytick_5\">\n     <g id=\"line2d_12\">\n      <g>\n       <use style=\"stroke:#000000;stroke-width:0.8;\" x=\"48.982813\" xlink:href=\"#m85d00e21cd\" y=\"30.132606\"/>\n      </g>\n     </g>\n     <g id=\"text_13\">\n      <!-- 20 -->\n      <g transform=\"translate(29.257813 33.931825)scale(0.1 -0.1)\">\n       <use xlink:href=\"#DejaVuSans-50\"/>\n       <use x=\"63.623047\" xlink:href=\"#DejaVuSans-48\"/>\n      </g>\n     </g>\n    </g>\n    <g id=\"text_14\">\n     <!-- Data Dimension 2 -->\n     <g transform=\"translate(14.798438 203.092344)rotate(-90)scale(0.1 -0.1)\">\n      <use xlink:href=\"#DejaVuSans-68\"/>\n      <use x=\"77.001953\" xlink:href=\"#DejaVuSans-97\"/>\n      <use x=\"138.28125\" xlink:href=\"#DejaVuSans-116\"/>\n      <use x=\"177.490234\" xlink:href=\"#DejaVuSans-97\"/>\n      <use x=\"238.769531\" xlink:href=\"#DejaVuSans-32\"/>\n      <use x=\"270.556641\" xlink:href=\"#DejaVuSans-68\"/>\n      <use x=\"347.558594\" xlink:href=\"#DejaVuSans-105\"/>\n      <use x=\"375.341797\" xlink:href=\"#DejaVuSans-109\"/>\n      <use x=\"472.753906\" xlink:href=\"#DejaVuSans-101\"/>\n      <use x=\"534.277344\" xlink:href=\"#DejaVuSans-110\"/>\n      <use x=\"597.65625\" xlink:href=\"#DejaVuSans-115\"/>\n      <use x=\"649.755859\" xlink:href=\"#DejaVuSans-105\"/>\n      <use x=\"677.539062\" xlink:href=\"#DejaVuSans-111\"/>\n      <use x=\"738.720703\" xlink:href=\"#DejaVuSans-110\"/>\n      <use x=\"802.099609\" xlink:href=\"#DejaVuSans-32\"/>\n      <use x=\"833.886719\" xlink:href=\"#DejaVuSans-50\"/>\n     </g>\n    </g>\n   </g>\n   <g id=\"line2d_13\">\n    <defs>\n     <path d=\"M -3 3 \nL 3 3 \nL 3 -3 \nL -3 -3 \nz\n\" id=\"mbbe0f5ebf2\" style=\"stroke:#0000ff;stroke-linejoin:miter;\"/>\n    </defs>\n    <g clip-path=\"url(#p82e5adfc98)\">\n     <use style=\"fill:#0000ff;stroke:#0000ff;stroke-linejoin:miter;\" x=\"291.221052\" xlink:href=\"#mbbe0f5ebf2\" y=\"138.280413\"/>\n     <use style=\"fill:#0000ff;stroke:#0000ff;stroke-linejoin:miter;\" x=\"252.048143\" xlink:href=\"#mbbe0f5ebf2\" y=\"153.150373\"/>\n     <use style=\"fill:#0000ff;stroke:#0000ff;stroke-linejoin:miter;\" x=\"254.195367\" xlink:href=\"#mbbe0f5ebf2\" y=\"143.31851\"/>\n     <use style=\"fill:#0000ff;stroke:#0000ff;stroke-linejoin:miter;\" x=\"292.87218\" xlink:href=\"#mbbe0f5ebf2\" y=\"137.80742\"/>\n     <use style=\"fill:#0000ff;stroke:#0000ff;stroke-linejoin:miter;\" x=\"263.009432\" xlink:href=\"#mbbe0f5ebf2\" y=\"147.592022\"/>\n     <use style=\"fill:#0000ff;stroke:#0000ff;stroke-linejoin:miter;\" x=\"246.13428\" xlink:href=\"#mbbe0f5ebf2\" y=\"135.78972\"/>\n     <use style=\"fill:#0000ff;stroke:#0000ff;stroke-linejoin:miter;\" x=\"260.978943\" xlink:href=\"#mbbe0f5ebf2\" y=\"119.667574\"/>\n     <use style=\"fill:#0000ff;stroke:#0000ff;stroke-linejoin:miter;\" x=\"267.696775\" xlink:href=\"#mbbe0f5ebf2\" y=\"119.981526\"/>\n     <use style=\"fill:#0000ff;stroke:#0000ff;stroke-linejoin:miter;\" x=\"257.757037\" xlink:href=\"#mbbe0f5ebf2\" y=\"143.039391\"/>\n     <use style=\"fill:#0000ff;stroke:#0000ff;stroke-linejoin:miter;\" x=\"237.934533\" xlink:href=\"#mbbe0f5ebf2\" y=\"104.601826\"/>\n     <use style=\"fill:#0000ff;stroke:#0000ff;stroke-linejoin:miter;\" x=\"246.797108\" xlink:href=\"#mbbe0f5ebf2\" y=\"124.902308\"/>\n     <use style=\"fill:#0000ff;stroke:#0000ff;stroke-linejoin:miter;\" x=\"229.943664\" xlink:href=\"#mbbe0f5ebf2\" y=\"113.721148\"/>\n     <use style=\"fill:#0000ff;stroke:#0000ff;stroke-linejoin:miter;\" x=\"250.62126\" xlink:href=\"#mbbe0f5ebf2\" y=\"121.015021\"/>\n     <use style=\"fill:#0000ff;stroke:#0000ff;stroke-linejoin:miter;\" x=\"239.842086\" xlink:href=\"#mbbe0f5ebf2\" y=\"100.29221\"/>\n     <use style=\"fill:#0000ff;stroke:#0000ff;stroke-linejoin:miter;\" x=\"237.542508\" xlink:href=\"#mbbe0f5ebf2\" y=\"95.286504\"/>\n     <use style=\"fill:#0000ff;stroke:#0000ff;stroke-linejoin:miter;\" x=\"235.791104\" xlink:href=\"#mbbe0f5ebf2\" y=\"89.350565\"/>\n     <use style=\"fill:#0000ff;stroke:#0000ff;stroke-linejoin:miter;\" x=\"268.902704\" xlink:href=\"#mbbe0f5ebf2\" y=\"90.463866\"/>\n     <use style=\"fill:#0000ff;stroke:#0000ff;stroke-linejoin:miter;\" x=\"252.85117\" xlink:href=\"#mbbe0f5ebf2\" y=\"101.963277\"/>\n     <use style=\"fill:#0000ff;stroke:#0000ff;stroke-linejoin:miter;\" x=\"202.9895\" xlink:href=\"#mbbe0f5ebf2\" y=\"86.413251\"/>\n     <use style=\"fill:#0000ff;stroke:#0000ff;stroke-linejoin:miter;\" x=\"263.356925\" xlink:href=\"#mbbe0f5ebf2\" y=\"88.130112\"/>\n     <use style=\"fill:#0000ff;stroke:#0000ff;stroke-linejoin:miter;\" x=\"247.942841\" xlink:href=\"#mbbe0f5ebf2\" y=\"87.298359\"/>\n     <use style=\"fill:#0000ff;stroke:#0000ff;stroke-linejoin:miter;\" x=\"219.570664\" xlink:href=\"#mbbe0f5ebf2\" y=\"72.943731\"/>\n     <use style=\"fill:#0000ff;stroke:#0000ff;stroke-linejoin:miter;\" x=\"204.337498\" xlink:href=\"#mbbe0f5ebf2\" y=\"97.632855\"/>\n     <use style=\"fill:#0000ff;stroke:#0000ff;stroke-linejoin:miter;\" x=\"171.045008\" xlink:href=\"#mbbe0f5ebf2\" y=\"89.567129\"/>\n     <use style=\"fill:#0000ff;stroke:#0000ff;stroke-linejoin:miter;\" x=\"170.901351\" xlink:href=\"#mbbe0f5ebf2\" y=\"96.953333\"/>\n     <use style=\"fill:#0000ff;stroke:#0000ff;stroke-linejoin:miter;\" x=\"217.727458\" xlink:href=\"#mbbe0f5ebf2\" y=\"87.045335\"/>\n     <use style=\"fill:#0000ff;stroke:#0000ff;stroke-linejoin:miter;\" x=\"177.986636\" xlink:href=\"#mbbe0f5ebf2\" y=\"95.407068\"/>\n     <use style=\"fill:#0000ff;stroke:#0000ff;stroke-linejoin:miter;\" x=\"176.30718\" xlink:href=\"#mbbe0f5ebf2\" y=\"92.853376\"/>\n     <use style=\"fill:#0000ff;stroke:#0000ff;stroke-linejoin:miter;\" x=\"145.636943\" xlink:href=\"#mbbe0f5ebf2\" y=\"87.595404\"/>\n     <use style=\"fill:#0000ff;stroke:#0000ff;stroke-linejoin:miter;\" x=\"212.143787\" xlink:href=\"#mbbe0f5ebf2\" y=\"89.024834\"/>\n     <use style=\"fill:#0000ff;stroke:#0000ff;stroke-linejoin:miter;\" x=\"140.949326\" xlink:href=\"#mbbe0f5ebf2\" y=\"106.293645\"/>\n     <use style=\"fill:#0000ff;stroke:#0000ff;stroke-linejoin:miter;\" x=\"183.668935\" xlink:href=\"#mbbe0f5ebf2\" y=\"92.00345\"/>\n     <use style=\"fill:#0000ff;stroke:#0000ff;stroke-linejoin:miter;\" x=\"217.441001\" xlink:href=\"#mbbe0f5ebf2\" y=\"100.174839\"/>\n     <use style=\"fill:#0000ff;stroke:#0000ff;stroke-linejoin:miter;\" x=\"138.353796\" xlink:href=\"#mbbe0f5ebf2\" y=\"93.513139\"/>\n     <use style=\"fill:#0000ff;stroke:#0000ff;stroke-linejoin:miter;\" x=\"148.659286\" xlink:href=\"#mbbe0f5ebf2\" y=\"92.988565\"/>\n     <use style=\"fill:#0000ff;stroke:#0000ff;stroke-linejoin:miter;\" x=\"142.191886\" xlink:href=\"#mbbe0f5ebf2\" y=\"116.763457\"/>\n     <use style=\"fill:#0000ff;stroke:#0000ff;stroke-linejoin:miter;\" x=\"121.92526\" xlink:href=\"#mbbe0f5ebf2\" y=\"96.436062\"/>\n     <use style=\"fill:#0000ff;stroke:#0000ff;stroke-linejoin:miter;\" x=\"144.023435\" xlink:href=\"#mbbe0f5ebf2\" y=\"109.062687\"/>\n     <use style=\"fill:#0000ff;stroke:#0000ff;stroke-linejoin:miter;\" x=\"118.998766\" xlink:href=\"#mbbe0f5ebf2\" y=\"103.67671\"/>\n     <use style=\"fill:#0000ff;stroke:#0000ff;stroke-linejoin:miter;\" x=\"87.997906\" xlink:href=\"#mbbe0f5ebf2\" y=\"118.394051\"/>\n     <use style=\"fill:#0000ff;stroke:#0000ff;stroke-linejoin:miter;\" x=\"102.694622\" xlink:href=\"#mbbe0f5ebf2\" y=\"118.525651\"/>\n     <use style=\"fill:#0000ff;stroke:#0000ff;stroke-linejoin:miter;\" x=\"147.985206\" xlink:href=\"#mbbe0f5ebf2\" y=\"124.489535\"/>\n     <use style=\"fill:#0000ff;stroke:#0000ff;stroke-linejoin:miter;\" x=\"112.963408\" xlink:href=\"#mbbe0f5ebf2\" y=\"112.462325\"/>\n     <use style=\"fill:#0000ff;stroke:#0000ff;stroke-linejoin:miter;\" x=\"109.224485\" xlink:href=\"#mbbe0f5ebf2\" y=\"125.576908\"/>\n     <use style=\"fill:#0000ff;stroke:#0000ff;stroke-linejoin:miter;\" x=\"121.887647\" xlink:href=\"#mbbe0f5ebf2\" y=\"120.3869\"/>\n     <use style=\"fill:#0000ff;stroke:#0000ff;stroke-linejoin:miter;\" x=\"127.166396\" xlink:href=\"#mbbe0f5ebf2\" y=\"133.732924\"/>\n     <use style=\"fill:#0000ff;stroke:#0000ff;stroke-linejoin:miter;\" x=\"148.32925\" xlink:href=\"#mbbe0f5ebf2\" y=\"134.391361\"/>\n     <use style=\"fill:#0000ff;stroke:#0000ff;stroke-linejoin:miter;\" x=\"129.725105\" xlink:href=\"#mbbe0f5ebf2\" y=\"142.796683\"/>\n     <use style=\"fill:#0000ff;stroke:#0000ff;stroke-linejoin:miter;\" x=\"103.367053\" xlink:href=\"#mbbe0f5ebf2\" y=\"143.858302\"/>\n     <use style=\"fill:#0000ff;stroke:#0000ff;stroke-linejoin:miter;\" x=\"97.480847\" xlink:href=\"#mbbe0f5ebf2\" y=\"151.991977\"/>\n     <use style=\"fill:#0000ff;stroke:#0000ff;stroke-linejoin:miter;\" x=\"88.111978\" xlink:href=\"#mbbe0f5ebf2\" y=\"147.60221\"/>\n     <use style=\"fill:#0000ff;stroke:#0000ff;stroke-linejoin:miter;\" x=\"103.653926\" xlink:href=\"#mbbe0f5ebf2\" y=\"158.279502\"/>\n     <use style=\"fill:#0000ff;stroke:#0000ff;stroke-linejoin:miter;\" x=\"99.753654\" xlink:href=\"#mbbe0f5ebf2\" y=\"157.22078\"/>\n     <use style=\"fill:#0000ff;stroke:#0000ff;stroke-linejoin:miter;\" x=\"114.085841\" xlink:href=\"#mbbe0f5ebf2\" y=\"161.505176\"/>\n     <use style=\"fill:#0000ff;stroke:#0000ff;stroke-linejoin:miter;\" x=\"103.965134\" xlink:href=\"#mbbe0f5ebf2\" y=\"165.433223\"/>\n     <use style=\"fill:#0000ff;stroke:#0000ff;stroke-linejoin:miter;\" x=\"130.177732\" xlink:href=\"#mbbe0f5ebf2\" y=\"173.644053\"/>\n     <use style=\"fill:#0000ff;stroke:#0000ff;stroke-linejoin:miter;\" x=\"97.717888\" xlink:href=\"#mbbe0f5ebf2\" y=\"171.975121\"/>\n     <use style=\"fill:#0000ff;stroke:#0000ff;stroke-linejoin:miter;\" x=\"106.078337\" xlink:href=\"#mbbe0f5ebf2\" y=\"167.333451\"/>\n     <use style=\"fill:#0000ff;stroke:#0000ff;stroke-linejoin:miter;\" x=\"165.337367\" xlink:href=\"#mbbe0f5ebf2\" y=\"184.636285\"/>\n     <use style=\"fill:#0000ff;stroke:#0000ff;stroke-linejoin:miter;\" x=\"143.987844\" xlink:href=\"#mbbe0f5ebf2\" y=\"175.373565\"/>\n     <use style=\"fill:#0000ff;stroke:#0000ff;stroke-linejoin:miter;\" x=\"119.021189\" xlink:href=\"#mbbe0f5ebf2\" y=\"200.66716\"/>\n     <use style=\"fill:#0000ff;stroke:#0000ff;stroke-linejoin:miter;\" x=\"141.399686\" xlink:href=\"#mbbe0f5ebf2\" y=\"193.14594\"/>\n     <use style=\"fill:#0000ff;stroke:#0000ff;stroke-linejoin:miter;\" x=\"132.427634\" xlink:href=\"#mbbe0f5ebf2\" y=\"191.634054\"/>\n     <use style=\"fill:#0000ff;stroke:#0000ff;stroke-linejoin:miter;\" x=\"149.134069\" xlink:href=\"#mbbe0f5ebf2\" y=\"188.904794\"/>\n     <use style=\"fill:#0000ff;stroke:#0000ff;stroke-linejoin:miter;\" x=\"140.837875\" xlink:href=\"#mbbe0f5ebf2\" y=\"194.618306\"/>\n     <use style=\"fill:#0000ff;stroke:#0000ff;stroke-linejoin:miter;\" x=\"146.524579\" xlink:href=\"#mbbe0f5ebf2\" y=\"192.371727\"/>\n     <use style=\"fill:#0000ff;stroke:#0000ff;stroke-linejoin:miter;\" x=\"176.575172\" xlink:href=\"#mbbe0f5ebf2\" y=\"194.801384\"/>\n     <use style=\"fill:#0000ff;stroke:#0000ff;stroke-linejoin:miter;\" x=\"135.919063\" xlink:href=\"#mbbe0f5ebf2\" y=\"204.228376\"/>\n     <use style=\"fill:#0000ff;stroke:#0000ff;stroke-linejoin:miter;\" x=\"131.942508\" xlink:href=\"#mbbe0f5ebf2\" y=\"209.345249\"/>\n     <use style=\"fill:#0000ff;stroke:#0000ff;stroke-linejoin:miter;\" x=\"157.37797\" xlink:href=\"#mbbe0f5ebf2\" y=\"201.574354\"/>\n     <use style=\"fill:#0000ff;stroke:#0000ff;stroke-linejoin:miter;\" x=\"205.444971\" xlink:href=\"#mbbe0f5ebf2\" y=\"204.153495\"/>\n     <use style=\"fill:#0000ff;stroke:#0000ff;stroke-linejoin:miter;\" x=\"165.465058\" xlink:href=\"#mbbe0f5ebf2\" y=\"207.430769\"/>\n     <use style=\"fill:#0000ff;stroke:#0000ff;stroke-linejoin:miter;\" x=\"148.648129\" xlink:href=\"#mbbe0f5ebf2\" y=\"207.898098\"/>\n     <use style=\"fill:#0000ff;stroke:#0000ff;stroke-linejoin:miter;\" x=\"209.329423\" xlink:href=\"#mbbe0f5ebf2\" y=\"216.204178\"/>\n     <use style=\"fill:#0000ff;stroke:#0000ff;stroke-linejoin:miter;\" x=\"141.218495\" xlink:href=\"#mbbe0f5ebf2\" y=\"216.805399\"/>\n     <use style=\"fill:#0000ff;stroke:#0000ff;stroke-linejoin:miter;\" x=\"169.582327\" xlink:href=\"#mbbe0f5ebf2\" y=\"211.293587\"/>\n     <use style=\"fill:#0000ff;stroke:#0000ff;stroke-linejoin:miter;\" x=\"161.350922\" xlink:href=\"#mbbe0f5ebf2\" y=\"218.470134\"/>\n     <use style=\"fill:#0000ff;stroke:#0000ff;stroke-linejoin:miter;\" x=\"210.402576\" xlink:href=\"#mbbe0f5ebf2\" y=\"203.94231\"/>\n     <use style=\"fill:#0000ff;stroke:#0000ff;stroke-linejoin:miter;\" x=\"225.764385\" xlink:href=\"#mbbe0f5ebf2\" y=\"203.400088\"/>\n     <use style=\"fill:#0000ff;stroke:#0000ff;stroke-linejoin:miter;\" x=\"215.067364\" xlink:href=\"#mbbe0f5ebf2\" y=\"194.809522\"/>\n     <use style=\"fill:#0000ff;stroke:#0000ff;stroke-linejoin:miter;\" x=\"224.353897\" xlink:href=\"#mbbe0f5ebf2\" y=\"197.891973\"/>\n     <use style=\"fill:#0000ff;stroke:#0000ff;stroke-linejoin:miter;\" x=\"234.424159\" xlink:href=\"#mbbe0f5ebf2\" y=\"205.367783\"/>\n     <use style=\"fill:#0000ff;stroke:#0000ff;stroke-linejoin:miter;\" x=\"213.617771\" xlink:href=\"#mbbe0f5ebf2\" y=\"210.40832\"/>\n     <use style=\"fill:#0000ff;stroke:#0000ff;stroke-linejoin:miter;\" x=\"217.087191\" xlink:href=\"#mbbe0f5ebf2\" y=\"205.041191\"/>\n     <use style=\"fill:#0000ff;stroke:#0000ff;stroke-linejoin:miter;\" x=\"208.043348\" xlink:href=\"#mbbe0f5ebf2\" y=\"198.865669\"/>\n     <use style=\"fill:#0000ff;stroke:#0000ff;stroke-linejoin:miter;\" x=\"178.138565\" xlink:href=\"#mbbe0f5ebf2\" y=\"188.352387\"/>\n     <use style=\"fill:#0000ff;stroke:#0000ff;stroke-linejoin:miter;\" x=\"234.604245\" xlink:href=\"#mbbe0f5ebf2\" y=\"207.275147\"/>\n     <use style=\"fill:#0000ff;stroke:#0000ff;stroke-linejoin:miter;\" x=\"261.864174\" xlink:href=\"#mbbe0f5ebf2\" y=\"189.656748\"/>\n     <use style=\"fill:#0000ff;stroke:#0000ff;stroke-linejoin:miter;\" x=\"198.683449\" xlink:href=\"#mbbe0f5ebf2\" y=\"178.55249\"/>\n     <use style=\"fill:#0000ff;stroke:#0000ff;stroke-linejoin:miter;\" x=\"219.843208\" xlink:href=\"#mbbe0f5ebf2\" y=\"192.110895\"/>\n     <use style=\"fill:#0000ff;stroke:#0000ff;stroke-linejoin:miter;\" x=\"240.329471\" xlink:href=\"#mbbe0f5ebf2\" y=\"188.257704\"/>\n     <use style=\"fill:#0000ff;stroke:#0000ff;stroke-linejoin:miter;\" x=\"237.599358\" xlink:href=\"#mbbe0f5ebf2\" y=\"180.50421\"/>\n     <use style=\"fill:#0000ff;stroke:#0000ff;stroke-linejoin:miter;\" x=\"239.532885\" xlink:href=\"#mbbe0f5ebf2\" y=\"173.721289\"/>\n     <use style=\"fill:#0000ff;stroke:#0000ff;stroke-linejoin:miter;\" x=\"253.510258\" xlink:href=\"#mbbe0f5ebf2\" y=\"167.06925\"/>\n     <use style=\"fill:#0000ff;stroke:#0000ff;stroke-linejoin:miter;\" x=\"284.158304\" xlink:href=\"#mbbe0f5ebf2\" y=\"179.637748\"/>\n     <use style=\"fill:#0000ff;stroke:#0000ff;stroke-linejoin:miter;\" x=\"254.278221\" xlink:href=\"#mbbe0f5ebf2\" y=\"149.684165\"/>\n     <use style=\"fill:#0000ff;stroke:#0000ff;stroke-linejoin:miter;\" x=\"264.716822\" xlink:href=\"#mbbe0f5ebf2\" y=\"155.780993\"/>\n     <use style=\"fill:#0000ff;stroke:#0000ff;stroke-linejoin:miter;\" x=\"247.714175\" xlink:href=\"#mbbe0f5ebf2\" y=\"157.159901\"/>\n     <use style=\"fill:#0000ff;stroke:#0000ff;stroke-linejoin:miter;\" x=\"292.051481\" xlink:href=\"#mbbe0f5ebf2\" y=\"156.587517\"/>\n     <use style=\"fill:#0000ff;stroke:#0000ff;stroke-linejoin:miter;\" x=\"243.329832\" xlink:href=\"#mbbe0f5ebf2\" y=\"150.198985\"/>\n     <use style=\"fill:#0000ff;stroke:#0000ff;stroke-linejoin:miter;\" x=\"237.010781\" xlink:href=\"#mbbe0f5ebf2\" y=\"146.954259\"/>\n     <use style=\"fill:#0000ff;stroke:#0000ff;stroke-linejoin:miter;\" x=\"257.665914\" xlink:href=\"#mbbe0f5ebf2\" y=\"146.649494\"/>\n     <use style=\"fill:#0000ff;stroke:#0000ff;stroke-linejoin:miter;\" x=\"235.796403\" xlink:href=\"#mbbe0f5ebf2\" y=\"152.444451\"/>\n     <use style=\"fill:#0000ff;stroke:#0000ff;stroke-linejoin:miter;\" x=\"240.059189\" xlink:href=\"#mbbe0f5ebf2\" y=\"139.618429\"/>\n     <use style=\"fill:#0000ff;stroke:#0000ff;stroke-linejoin:miter;\" x=\"226.450746\" xlink:href=\"#mbbe0f5ebf2\" y=\"141.761807\"/>\n     <use style=\"fill:#0000ff;stroke:#0000ff;stroke-linejoin:miter;\" x=\"243.490196\" xlink:href=\"#mbbe0f5ebf2\" y=\"135.252993\"/>\n     <use style=\"fill:#0000ff;stroke:#0000ff;stroke-linejoin:miter;\" x=\"259.715753\" xlink:href=\"#mbbe0f5ebf2\" y=\"133.528713\"/>\n     <use style=\"fill:#0000ff;stroke:#0000ff;stroke-linejoin:miter;\" x=\"271.874774\" xlink:href=\"#mbbe0f5ebf2\" y=\"118.480626\"/>\n     <use style=\"fill:#0000ff;stroke:#0000ff;stroke-linejoin:miter;\" x=\"256.210725\" xlink:href=\"#mbbe0f5ebf2\" y=\"124.113072\"/>\n     <use style=\"fill:#0000ff;stroke:#0000ff;stroke-linejoin:miter;\" x=\"252.81074\" xlink:href=\"#mbbe0f5ebf2\" y=\"115.391436\"/>\n     <use style=\"fill:#0000ff;stroke:#0000ff;stroke-linejoin:miter;\" x=\"289.927117\" xlink:href=\"#mbbe0f5ebf2\" y=\"114.056023\"/>\n     <use style=\"fill:#0000ff;stroke:#0000ff;stroke-linejoin:miter;\" x=\"217.385803\" xlink:href=\"#mbbe0f5ebf2\" y=\"110.232652\"/>\n     <use style=\"fill:#0000ff;stroke:#0000ff;stroke-linejoin:miter;\" x=\"191.059438\" xlink:href=\"#mbbe0f5ebf2\" y=\"113.178705\"/>\n     <use style=\"fill:#0000ff;stroke:#0000ff;stroke-linejoin:miter;\" x=\"209.031952\" xlink:href=\"#mbbe0f5ebf2\" y=\"101.705494\"/>\n     <use style=\"fill:#0000ff;stroke:#0000ff;stroke-linejoin:miter;\" x=\"260.450219\" xlink:href=\"#mbbe0f5ebf2\" y=\"97.367624\"/>\n     <use style=\"fill:#0000ff;stroke:#0000ff;stroke-linejoin:miter;\" x=\"244.985792\" xlink:href=\"#mbbe0f5ebf2\" y=\"99.019811\"/>\n     <use style=\"fill:#0000ff;stroke:#0000ff;stroke-linejoin:miter;\" x=\"194.898787\" xlink:href=\"#mbbe0f5ebf2\" y=\"94.347802\"/>\n     <use style=\"fill:#0000ff;stroke:#0000ff;stroke-linejoin:miter;\" x=\"129.646121\" xlink:href=\"#mbbe0f5ebf2\" y=\"105.906278\"/>\n     <use style=\"fill:#0000ff;stroke:#0000ff;stroke-linejoin:miter;\" x=\"212.928576\" xlink:href=\"#mbbe0f5ebf2\" y=\"94.938878\"/>\n     <use style=\"fill:#0000ff;stroke:#0000ff;stroke-linejoin:miter;\" x=\"178.455733\" xlink:href=\"#mbbe0f5ebf2\" y=\"84.089694\"/>\n     <use style=\"fill:#0000ff;stroke:#0000ff;stroke-linejoin:miter;\" x=\"190.588701\" xlink:href=\"#mbbe0f5ebf2\" y=\"98.907796\"/>\n     <use style=\"fill:#0000ff;stroke:#0000ff;stroke-linejoin:miter;\" x=\"205.537702\" xlink:href=\"#mbbe0f5ebf2\" y=\"87.353821\"/>\n     <use style=\"fill:#0000ff;stroke:#0000ff;stroke-linejoin:miter;\" x=\"181.445852\" xlink:href=\"#mbbe0f5ebf2\" y=\"84.334204\"/>\n     <use style=\"fill:#0000ff;stroke:#0000ff;stroke-linejoin:miter;\" x=\"195.900931\" xlink:href=\"#mbbe0f5ebf2\" y=\"85.104578\"/>\n     <use style=\"fill:#0000ff;stroke:#0000ff;stroke-linejoin:miter;\" x=\"177.250779\" xlink:href=\"#mbbe0f5ebf2\" y=\"89.063446\"/>\n     <use style=\"fill:#0000ff;stroke:#0000ff;stroke-linejoin:miter;\" x=\"177.810249\" xlink:href=\"#mbbe0f5ebf2\" y=\"92.560624\"/>\n     <use style=\"fill:#0000ff;stroke:#0000ff;stroke-linejoin:miter;\" x=\"170.264449\" xlink:href=\"#mbbe0f5ebf2\" y=\"99.503186\"/>\n     <use style=\"fill:#0000ff;stroke:#0000ff;stroke-linejoin:miter;\" x=\"172.218359\" xlink:href=\"#mbbe0f5ebf2\" y=\"87.524933\"/>\n     <use style=\"fill:#0000ff;stroke:#0000ff;stroke-linejoin:miter;\" x=\"188.443101\" xlink:href=\"#mbbe0f5ebf2\" y=\"89.269989\"/>\n     <use style=\"fill:#0000ff;stroke:#0000ff;stroke-linejoin:miter;\" x=\"143.470883\" xlink:href=\"#mbbe0f5ebf2\" y=\"83.015758\"/>\n     <use style=\"fill:#0000ff;stroke:#0000ff;stroke-linejoin:miter;\" x=\"138.15782\" xlink:href=\"#mbbe0f5ebf2\" y=\"95.181078\"/>\n     <use style=\"fill:#0000ff;stroke:#0000ff;stroke-linejoin:miter;\" x=\"194.067559\" xlink:href=\"#mbbe0f5ebf2\" y=\"85.579613\"/>\n     <use style=\"fill:#0000ff;stroke:#0000ff;stroke-linejoin:miter;\" x=\"168.60054\" xlink:href=\"#mbbe0f5ebf2\" y=\"88.16851\"/>\n     <use style=\"fill:#0000ff;stroke:#0000ff;stroke-linejoin:miter;\" x=\"134.006175\" xlink:href=\"#mbbe0f5ebf2\" y=\"98.970889\"/>\n     <use style=\"fill:#0000ff;stroke:#0000ff;stroke-linejoin:miter;\" x=\"101.078107\" xlink:href=\"#mbbe0f5ebf2\" y=\"97.181384\"/>\n     <use style=\"fill:#0000ff;stroke:#0000ff;stroke-linejoin:miter;\" x=\"127.642121\" xlink:href=\"#mbbe0f5ebf2\" y=\"106.558676\"/>\n     <use style=\"fill:#0000ff;stroke:#0000ff;stroke-linejoin:miter;\" x=\"139.961884\" xlink:href=\"#mbbe0f5ebf2\" y=\"103.502968\"/>\n     <use style=\"fill:#0000ff;stroke:#0000ff;stroke-linejoin:miter;\" x=\"164.879982\" xlink:href=\"#mbbe0f5ebf2\" y=\"120.798335\"/>\n     <use style=\"fill:#0000ff;stroke:#0000ff;stroke-linejoin:miter;\" x=\"163.927724\" xlink:href=\"#mbbe0f5ebf2\" y=\"112.240108\"/>\n     <use style=\"fill:#0000ff;stroke:#0000ff;stroke-linejoin:miter;\" x=\"140.505962\" xlink:href=\"#mbbe0f5ebf2\" y=\"110.729598\"/>\n     <use style=\"fill:#0000ff;stroke:#0000ff;stroke-linejoin:miter;\" x=\"131.113919\" xlink:href=\"#mbbe0f5ebf2\" y=\"111.541226\"/>\n     <use style=\"fill:#0000ff;stroke:#0000ff;stroke-linejoin:miter;\" x=\"115.679649\" xlink:href=\"#mbbe0f5ebf2\" y=\"117.336546\"/>\n     <use style=\"fill:#0000ff;stroke:#0000ff;stroke-linejoin:miter;\" x=\"119.746371\" xlink:href=\"#mbbe0f5ebf2\" y=\"126.311888\"/>\n     <use style=\"fill:#0000ff;stroke:#0000ff;stroke-linejoin:miter;\" x=\"100.874036\" xlink:href=\"#mbbe0f5ebf2\" y=\"123.734775\"/>\n     <use style=\"fill:#0000ff;stroke:#0000ff;stroke-linejoin:miter;\" x=\"101.666108\" xlink:href=\"#mbbe0f5ebf2\" y=\"130.580821\"/>\n     <use style=\"fill:#0000ff;stroke:#0000ff;stroke-linejoin:miter;\" x=\"122.095104\" xlink:href=\"#mbbe0f5ebf2\" y=\"130.796522\"/>\n     <use style=\"fill:#0000ff;stroke:#0000ff;stroke-linejoin:miter;\" x=\"121.228917\" xlink:href=\"#mbbe0f5ebf2\" y=\"138.221084\"/>\n     <use style=\"fill:#0000ff;stroke:#0000ff;stroke-linejoin:miter;\" x=\"134.723211\" xlink:href=\"#mbbe0f5ebf2\" y=\"148.313254\"/>\n     <use style=\"fill:#0000ff;stroke:#0000ff;stroke-linejoin:miter;\" x=\"80.348259\" xlink:href=\"#mbbe0f5ebf2\" y=\"138.272948\"/>\n     <use style=\"fill:#0000ff;stroke:#0000ff;stroke-linejoin:miter;\" x=\"61.664631\" xlink:href=\"#mbbe0f5ebf2\" y=\"151.659007\"/>\n     <use style=\"fill:#0000ff;stroke:#0000ff;stroke-linejoin:miter;\" x=\"85.061055\" xlink:href=\"#mbbe0f5ebf2\" y=\"147.209325\"/>\n     <use style=\"fill:#0000ff;stroke:#0000ff;stroke-linejoin:miter;\" x=\"75.056317\" xlink:href=\"#mbbe0f5ebf2\" y=\"151.318471\"/>\n     <use style=\"fill:#0000ff;stroke:#0000ff;stroke-linejoin:miter;\" x=\"142.28352\" xlink:href=\"#mbbe0f5ebf2\" y=\"158.782493\"/>\n     <use style=\"fill:#0000ff;stroke:#0000ff;stroke-linejoin:miter;\" x=\"143.124532\" xlink:href=\"#mbbe0f5ebf2\" y=\"162.017707\"/>\n     <use style=\"fill:#0000ff;stroke:#0000ff;stroke-linejoin:miter;\" x=\"141.018176\" xlink:href=\"#mbbe0f5ebf2\" y=\"163.614183\"/>\n     <use style=\"fill:#0000ff;stroke:#0000ff;stroke-linejoin:miter;\" x=\"110.965379\" xlink:href=\"#mbbe0f5ebf2\" y=\"175.65055\"/>\n     <use style=\"fill:#0000ff;stroke:#0000ff;stroke-linejoin:miter;\" x=\"121.274361\" xlink:href=\"#mbbe0f5ebf2\" y=\"173.200265\"/>\n     <use style=\"fill:#0000ff;stroke:#0000ff;stroke-linejoin:miter;\" x=\"169.748892\" xlink:href=\"#mbbe0f5ebf2\" y=\"178.229377\"/>\n     <use style=\"fill:#0000ff;stroke:#0000ff;stroke-linejoin:miter;\" x=\"135.19121\" xlink:href=\"#mbbe0f5ebf2\" y=\"177.145143\"/>\n     <use style=\"fill:#0000ff;stroke:#0000ff;stroke-linejoin:miter;\" x=\"121.541526\" xlink:href=\"#mbbe0f5ebf2\" y=\"173.95993\"/>\n     <use style=\"fill:#0000ff;stroke:#0000ff;stroke-linejoin:miter;\" x=\"83.568312\" xlink:href=\"#mbbe0f5ebf2\" y=\"180.635959\"/>\n     <use style=\"fill:#0000ff;stroke:#0000ff;stroke-linejoin:miter;\" x=\"122.259562\" xlink:href=\"#mbbe0f5ebf2\" y=\"187.070926\"/>\n     <use style=\"fill:#0000ff;stroke:#0000ff;stroke-linejoin:miter;\" x=\"110.617434\" xlink:href=\"#mbbe0f5ebf2\" y=\"197.213622\"/>\n     <use style=\"fill:#0000ff;stroke:#0000ff;stroke-linejoin:miter;\" x=\"144.896947\" xlink:href=\"#mbbe0f5ebf2\" y=\"194.517211\"/>\n     <use style=\"fill:#0000ff;stroke:#0000ff;stroke-linejoin:miter;\" x=\"125.943168\" xlink:href=\"#mbbe0f5ebf2\" y=\"194.263199\"/>\n     <use style=\"fill:#0000ff;stroke:#0000ff;stroke-linejoin:miter;\" x=\"151.426168\" xlink:href=\"#mbbe0f5ebf2\" y=\"207.062546\"/>\n     <use style=\"fill:#0000ff;stroke:#0000ff;stroke-linejoin:miter;\" x=\"165.601487\" xlink:href=\"#mbbe0f5ebf2\" y=\"199.758244\"/>\n     <use style=\"fill:#0000ff;stroke:#0000ff;stroke-linejoin:miter;\" x=\"157.551197\" xlink:href=\"#mbbe0f5ebf2\" y=\"211.883372\"/>\n     <use style=\"fill:#0000ff;stroke:#0000ff;stroke-linejoin:miter;\" x=\"158.349971\" xlink:href=\"#mbbe0f5ebf2\" y=\"208.33717\"/>\n     <use style=\"fill:#0000ff;stroke:#0000ff;stroke-linejoin:miter;\" x=\"181.0245\" xlink:href=\"#mbbe0f5ebf2\" y=\"206.377759\"/>\n     <use style=\"fill:#0000ff;stroke:#0000ff;stroke-linejoin:miter;\" x=\"142.10458\" xlink:href=\"#mbbe0f5ebf2\" y=\"218.558886\"/>\n     <use style=\"fill:#0000ff;stroke:#0000ff;stroke-linejoin:miter;\" x=\"149.129766\" xlink:href=\"#mbbe0f5ebf2\" y=\"199.571217\"/>\n     <use style=\"fill:#0000ff;stroke:#0000ff;stroke-linejoin:miter;\" x=\"168.188274\" xlink:href=\"#mbbe0f5ebf2\" y=\"209.25575\"/>\n     <use style=\"fill:#0000ff;stroke:#0000ff;stroke-linejoin:miter;\" x=\"167.236911\" xlink:href=\"#mbbe0f5ebf2\" y=\"207.930052\"/>\n     <use style=\"fill:#0000ff;stroke:#0000ff;stroke-linejoin:miter;\" x=\"170.399309\" xlink:href=\"#mbbe0f5ebf2\" y=\"207.429829\"/>\n     <use style=\"fill:#0000ff;stroke:#0000ff;stroke-linejoin:miter;\" x=\"172.219887\" xlink:href=\"#mbbe0f5ebf2\" y=\"205.581618\"/>\n     <use style=\"fill:#0000ff;stroke:#0000ff;stroke-linejoin:miter;\" x=\"210.964849\" xlink:href=\"#mbbe0f5ebf2\" y=\"219.522396\"/>\n     <use style=\"fill:#0000ff;stroke:#0000ff;stroke-linejoin:miter;\" x=\"219.460939\" xlink:href=\"#mbbe0f5ebf2\" y=\"213.095576\"/>\n     <use style=\"fill:#0000ff;stroke:#0000ff;stroke-linejoin:miter;\" x=\"206.793641\" xlink:href=\"#mbbe0f5ebf2\" y=\"206.754049\"/>\n     <use style=\"fill:#0000ff;stroke:#0000ff;stroke-linejoin:miter;\" x=\"193.721447\" xlink:href=\"#mbbe0f5ebf2\" y=\"211.670109\"/>\n     <use style=\"fill:#0000ff;stroke:#0000ff;stroke-linejoin:miter;\" x=\"206.521857\" xlink:href=\"#mbbe0f5ebf2\" y=\"211.135395\"/>\n     <use style=\"fill:#0000ff;stroke:#0000ff;stroke-linejoin:miter;\" x=\"263.708132\" xlink:href=\"#mbbe0f5ebf2\" y=\"202.483632\"/>\n     <use style=\"fill:#0000ff;stroke:#0000ff;stroke-linejoin:miter;\" x=\"236.958639\" xlink:href=\"#mbbe0f5ebf2\" y=\"204.46432\"/>\n     <use style=\"fill:#0000ff;stroke:#0000ff;stroke-linejoin:miter;\" x=\"220.078042\" xlink:href=\"#mbbe0f5ebf2\" y=\"202.901937\"/>\n     <use style=\"fill:#0000ff;stroke:#0000ff;stroke-linejoin:miter;\" x=\"231.870556\" xlink:href=\"#mbbe0f5ebf2\" y=\"195.075702\"/>\n     <use style=\"fill:#0000ff;stroke:#0000ff;stroke-linejoin:miter;\" x=\"258.313396\" xlink:href=\"#mbbe0f5ebf2\" y=\"187.412746\"/>\n     <use style=\"fill:#0000ff;stroke:#0000ff;stroke-linejoin:miter;\" x=\"206.252106\" xlink:href=\"#mbbe0f5ebf2\" y=\"192.817066\"/>\n     <use style=\"fill:#0000ff;stroke:#0000ff;stroke-linejoin:miter;\" x=\"242.530272\" xlink:href=\"#mbbe0f5ebf2\" y=\"188.213175\"/>\n     <use style=\"fill:#0000ff;stroke:#0000ff;stroke-linejoin:miter;\" x=\"217.78161\" xlink:href=\"#mbbe0f5ebf2\" y=\"193.452629\"/>\n     <use style=\"fill:#0000ff;stroke:#0000ff;stroke-linejoin:miter;\" x=\"250.948753\" xlink:href=\"#mbbe0f5ebf2\" y=\"182.735681\"/>\n     <use style=\"fill:#0000ff;stroke:#0000ff;stroke-linejoin:miter;\" x=\"247.423934\" xlink:href=\"#mbbe0f5ebf2\" y=\"177.226761\"/>\n     <use style=\"fill:#0000ff;stroke:#0000ff;stroke-linejoin:miter;\" x=\"211.611351\" xlink:href=\"#mbbe0f5ebf2\" y=\"181.072368\"/>\n     <use style=\"fill:#0000ff;stroke:#0000ff;stroke-linejoin:miter;\" x=\"291.323182\" xlink:href=\"#mbbe0f5ebf2\" y=\"183.06122\"/>\n     <use style=\"fill:#0000ff;stroke:#0000ff;stroke-linejoin:miter;\" x=\"269.182869\" xlink:href=\"#mbbe0f5ebf2\" y=\"174.520289\"/>\n     <use style=\"fill:#0000ff;stroke:#0000ff;stroke-linejoin:miter;\" x=\"265.208299\" xlink:href=\"#mbbe0f5ebf2\" y=\"159.305707\"/>\n     <use style=\"fill:#0000ff;stroke:#0000ff;stroke-linejoin:miter;\" x=\"267.264641\" xlink:href=\"#mbbe0f5ebf2\" y=\"176.718266\"/>\n     <use style=\"fill:#0000ff;stroke:#0000ff;stroke-linejoin:miter;\" x=\"278.994703\" xlink:href=\"#mbbe0f5ebf2\" y=\"161.4104\"/>\n     <use style=\"fill:#0000ff;stroke:#0000ff;stroke-linejoin:miter;\" x=\"247.422777\" xlink:href=\"#mbbe0f5ebf2\" y=\"158.494228\"/>\n     <use style=\"fill:#0000ff;stroke:#0000ff;stroke-linejoin:miter;\" x=\"259.362669\" xlink:href=\"#mbbe0f5ebf2\" y=\"154.166839\"/>\n     <use style=\"fill:#0000ff;stroke:#0000ff;stroke-linejoin:miter;\" x=\"222.120757\" xlink:href=\"#mbbe0f5ebf2\" y=\"151.199327\"/>\n    </g>\n   </g>\n   <g id=\"line2d_14\">\n    <defs>\n     <path d=\"M 0 3 \nC 0.795609 3 1.55874 2.683901 2.12132 2.12132 \nC 2.683901 1.55874 3 0.795609 3 0 \nC 3 -0.795609 2.683901 -1.55874 2.12132 -2.12132 \nC 1.55874 -2.683901 0.795609 -3 0 -3 \nC -0.795609 -3 -1.55874 -2.683901 -2.12132 -2.12132 \nC -2.683901 -1.55874 -3 -0.795609 -3 0 \nC -3 0.795609 -2.683901 1.55874 -2.12132 2.12132 \nC -1.55874 2.683901 -0.795609 3 0 3 \nz\n\" id=\"m7f16a67223\" style=\"stroke:#000000;\"/>\n    </defs>\n    <g clip-path=\"url(#p82e5adfc98)\">\n     <use style=\"stroke:#000000;\" x=\"304.703934\" xlink:href=\"#m7f16a67223\" y=\"159.271971\"/>\n     <use style=\"stroke:#000000;\" x=\"315.164164\" xlink:href=\"#m7f16a67223\" y=\"159.530997\"/>\n     <use style=\"stroke:#000000;\" x=\"306.398909\" xlink:href=\"#m7f16a67223\" y=\"138.81586\"/>\n     <use style=\"stroke:#000000;\" x=\"294.611081\" xlink:href=\"#m7f16a67223\" y=\"118.752238\"/>\n     <use style=\"stroke:#000000;\" x=\"286.280296\" xlink:href=\"#m7f16a67223\" y=\"143.564085\"/>\n     <use style=\"stroke:#000000;\" x=\"296.698839\" xlink:href=\"#m7f16a67223\" y=\"130.748437\"/>\n     <use style=\"stroke:#000000;\" x=\"292.280303\" xlink:href=\"#m7f16a67223\" y=\"110.292133\"/>\n     <use style=\"stroke:#000000;\" x=\"309.39281\" xlink:href=\"#m7f16a67223\" y=\"123.102479\"/>\n     <use style=\"stroke:#000000;\" x=\"288.862501\" xlink:href=\"#m7f16a67223\" y=\"97.855154\"/>\n     <use style=\"stroke:#000000;\" x=\"288.631504\" xlink:href=\"#m7f16a67223\" y=\"116.287417\"/>\n     <use style=\"stroke:#000000;\" x=\"272.942397\" xlink:href=\"#m7f16a67223\" y=\"117.937771\"/>\n     <use style=\"stroke:#000000;\" x=\"278.262755\" xlink:href=\"#m7f16a67223\" y=\"108.587326\"/>\n     <use style=\"stroke:#000000;\" x=\"261.417566\" xlink:href=\"#m7f16a67223\" y=\"82.074492\"/>\n     <use style=\"stroke:#000000;\" x=\"255.133\" xlink:href=\"#m7f16a67223\" y=\"84.850987\"/>\n     <use style=\"stroke:#000000;\" x=\"248.38027\" xlink:href=\"#m7f16a67223\" y=\"79.148575\"/>\n     <use style=\"stroke:#000000;\" x=\"264.744552\" xlink:href=\"#m7f16a67223\" y=\"70.810785\"/>\n     <use style=\"stroke:#000000;\" x=\"241.487079\" xlink:href=\"#m7f16a67223\" y=\"63.866422\"/>\n     <use style=\"stroke:#000000;\" x=\"249.572965\" xlink:href=\"#m7f16a67223\" y=\"77.095933\"/>\n     <use style=\"stroke:#000000;\" x=\"235.642336\" xlink:href=\"#m7f16a67223\" y=\"112.558002\"/>\n     <use style=\"stroke:#000000;\" x=\"218.805238\" xlink:href=\"#m7f16a67223\" y=\"38.807406\"/>\n     <use style=\"stroke:#000000;\" x=\"232.270591\" xlink:href=\"#m7f16a67223\" y=\"60.795199\"/>\n     <use style=\"stroke:#000000;\" x=\"207.070791\" xlink:href=\"#m7f16a67223\" y=\"63.966605\"/>\n     <use style=\"stroke:#000000;\" x=\"203.380899\" xlink:href=\"#m7f16a67223\" y=\"37.563587\"/>\n     <use style=\"stroke:#000000;\" x=\"203.99141\" xlink:href=\"#m7f16a67223\" y=\"46.218153\"/>\n     <use style=\"stroke:#000000;\" x=\"196.02988\" xlink:href=\"#m7f16a67223\" y=\"70.486072\"/>\n     <use style=\"stroke:#000000;\" x=\"187.829631\" xlink:href=\"#m7f16a67223\" y=\"41.976231\"/>\n     <use style=\"stroke:#000000;\" x=\"171.946548\" xlink:href=\"#m7f16a67223\" y=\"40.411011\"/>\n     <use style=\"stroke:#000000;\" x=\"170.243385\" xlink:href=\"#m7f16a67223\" y=\"54.947899\"/>\n     <use style=\"stroke:#000000;\" x=\"156.752008\" xlink:href=\"#m7f16a67223\" y=\"75.712832\"/>\n     <use style=\"stroke:#000000;\" x=\"165.077655\" xlink:href=\"#m7f16a67223\" y=\"66.997619\"/>\n     <use style=\"stroke:#000000;\" x=\"153.653188\" xlink:href=\"#m7f16a67223\" y=\"58.83825\"/>\n     <use style=\"stroke:#000000;\" x=\"147.242772\" xlink:href=\"#m7f16a67223\" y=\"66.814408\"/>\n     <use style=\"stroke:#000000;\" x=\"132.169385\" xlink:href=\"#m7f16a67223\" y=\"52.470764\"/>\n     <use style=\"stroke:#000000;\" x=\"124.038966\" xlink:href=\"#m7f16a67223\" y=\"39.778526\"/>\n     <use style=\"stroke:#000000;\" x=\"125.999025\" xlink:href=\"#m7f16a67223\" y=\"60.509778\"/>\n     <use style=\"stroke:#000000;\" x=\"112.522413\" xlink:href=\"#m7f16a67223\" y=\"61.512026\"/>\n     <use style=\"stroke:#000000;\" x=\"114.606967\" xlink:href=\"#m7f16a67223\" y=\"71.600919\"/>\n     <use style=\"stroke:#000000;\" x=\"83.519342\" xlink:href=\"#m7f16a67223\" y=\"96.623677\"/>\n     <use style=\"stroke:#000000;\" x=\"113.192647\" xlink:href=\"#m7f16a67223\" y=\"67.365145\"/>\n     <use style=\"stroke:#000000;\" x=\"98.392596\" xlink:href=\"#m7f16a67223\" y=\"84.615723\"/>\n     <use style=\"stroke:#000000;\" x=\"103.141369\" xlink:href=\"#m7f16a67223\" y=\"92.82081\"/>\n     <use style=\"stroke:#000000;\" x=\"91.668246\" xlink:href=\"#m7f16a67223\" y=\"111.770506\"/>\n     <use style=\"stroke:#000000;\" x=\"91.490124\" xlink:href=\"#m7f16a67223\" y=\"100.645118\"/>\n     <use style=\"stroke:#000000;\" x=\"74.998303\" xlink:href=\"#m7f16a67223\" y=\"130.968559\"/>\n     <use style=\"stroke:#000000;\" x=\"79.35084\" xlink:href=\"#m7f16a67223\" y=\"122.007542\"/>\n     <use style=\"stroke:#000000;\" x=\"77.071375\" xlink:href=\"#m7f16a67223\" y=\"112.147838\"/>\n     <use style=\"stroke:#000000;\" x=\"66.184903\" xlink:href=\"#m7f16a67223\" y=\"112.902029\"/>\n     <use style=\"stroke:#000000;\" x=\"68.856552\" xlink:href=\"#m7f16a67223\" y=\"137.363097\"/>\n     <use style=\"stroke:#000000;\" x=\"77.778718\" xlink:href=\"#m7f16a67223\" y=\"119.20085\"/>\n     <use style=\"stroke:#000000;\" x=\"74.392083\" xlink:href=\"#m7f16a67223\" y=\"151.344438\"/>\n     <use style=\"stroke:#000000;\" x=\"70.395448\" xlink:href=\"#m7f16a67223\" y=\"142.002694\"/>\n     <use style=\"stroke:#000000;\" x=\"77.084492\" xlink:href=\"#m7f16a67223\" y=\"162.686946\"/>\n     <use style=\"stroke:#000000;\" x=\"85.190046\" xlink:href=\"#m7f16a67223\" y=\"135.668577\"/>\n     <use style=\"stroke:#000000;\" x=\"64.946223\" xlink:href=\"#m7f16a67223\" y=\"149.236209\"/>\n     <use style=\"stroke:#000000;\" x=\"66.922946\" xlink:href=\"#m7f16a67223\" y=\"182.346895\"/>\n     <use style=\"stroke:#000000;\" x=\"67.810535\" xlink:href=\"#m7f16a67223\" y=\"173.829415\"/>\n     <use style=\"stroke:#000000;\" x=\"65.073068\" xlink:href=\"#m7f16a67223\" y=\"185.460493\"/>\n     <use style=\"stroke:#000000;\" x=\"79.22087\" xlink:href=\"#m7f16a67223\" y=\"196.686177\"/>\n     <use style=\"stroke:#000000;\" x=\"99.815938\" xlink:href=\"#m7f16a67223\" y=\"160.186455\"/>\n     <use style=\"stroke:#000000;\" x=\"75.958336\" xlink:href=\"#m7f16a67223\" y=\"182.022002\"/>\n     <use style=\"stroke:#000000;\" x=\"89.043778\" xlink:href=\"#m7f16a67223\" y=\"188.980165\"/>\n     <use style=\"stroke:#000000;\" x=\"93.499029\" xlink:href=\"#m7f16a67223\" y=\"231.177981\"/>\n     <use style=\"stroke:#000000;\" x=\"110.396275\" xlink:href=\"#m7f16a67223\" y=\"210.525635\"/>\n     <use style=\"stroke:#000000;\" x=\"99.216974\" xlink:href=\"#m7f16a67223\" y=\"206.909053\"/>\n     <use style=\"stroke:#000000;\" x=\"122.665894\" xlink:href=\"#m7f16a67223\" y=\"224.244454\"/>\n     <use style=\"stroke:#000000;\" x=\"124.356175\" xlink:href=\"#m7f16a67223\" y=\"214.590727\"/>\n     <use style=\"stroke:#000000;\" x=\"117.337127\" xlink:href=\"#m7f16a67223\" y=\"245.719783\"/>\n     <use style=\"stroke:#000000;\" x=\"119.024568\" xlink:href=\"#m7f16a67223\" y=\"227.931699\"/>\n     <use style=\"stroke:#000000;\" x=\"146.526225\" xlink:href=\"#m7f16a67223\" y=\"281.76358\"/>\n     <use style=\"stroke:#000000;\" x=\"157.724799\" xlink:href=\"#m7f16a67223\" y=\"233.68052\"/>\n     <use style=\"stroke:#000000;\" x=\"154.434924\" xlink:href=\"#m7f16a67223\" y=\"243.36084\"/>\n     <use style=\"stroke:#000000;\" x=\"158.340336\" xlink:href=\"#m7f16a67223\" y=\"237.539024\"/>\n     <use style=\"stroke:#000000;\" x=\"180.538727\" xlink:href=\"#m7f16a67223\" y=\"278.441596\"/>\n     <use style=\"stroke:#000000;\" x=\"162.123643\" xlink:href=\"#m7f16a67223\" y=\"211.487679\"/>\n     <use style=\"stroke:#000000;\" x=\"182.139846\" xlink:href=\"#m7f16a67223\" y=\"237.57502\"/>\n     <use style=\"stroke:#000000;\" x=\"179.477534\" xlink:href=\"#m7f16a67223\" y=\"247.028722\"/>\n     <use style=\"stroke:#000000;\" x=\"188.795962\" xlink:href=\"#m7f16a67223\" y=\"252.62979\"/>\n     <use style=\"stroke:#000000;\" x=\"203.093403\" xlink:href=\"#m7f16a67223\" y=\"231.785306\"/>\n     <use style=\"stroke:#000000;\" x=\"208.901497\" xlink:href=\"#m7f16a67223\" y=\"230.895776\"/>\n     <use style=\"stroke:#000000;\" x=\"209.655571\" xlink:href=\"#m7f16a67223\" y=\"234.523647\"/>\n     <use style=\"stroke:#000000;\" x=\"221.538467\" xlink:href=\"#m7f16a67223\" y=\"241.884763\"/>\n     <use style=\"stroke:#000000;\" x=\"226.236854\" xlink:href=\"#m7f16a67223\" y=\"258.867817\"/>\n     <use style=\"stroke:#000000;\" x=\"246.05189\" xlink:href=\"#m7f16a67223\" y=\"215.835678\"/>\n     <use style=\"stroke:#000000;\" x=\"239.828228\" xlink:href=\"#m7f16a67223\" y=\"210.896971\"/>\n     <use style=\"stroke:#000000;\" x=\"247.989665\" xlink:href=\"#m7f16a67223\" y=\"258.817236\"/>\n     <use style=\"stroke:#000000;\" x=\"249.464528\" xlink:href=\"#m7f16a67223\" y=\"236.986566\"/>\n     <use style=\"stroke:#000000;\" x=\"260.522226\" xlink:href=\"#m7f16a67223\" y=\"220.887589\"/>\n     <use style=\"stroke:#000000;\" x=\"268.837259\" xlink:href=\"#m7f16a67223\" y=\"190.937512\"/>\n     <use style=\"stroke:#000000;\" x=\"273.345816\" xlink:href=\"#m7f16a67223\" y=\"175.392455\"/>\n     <use style=\"stroke:#000000;\" x=\"282.260675\" xlink:href=\"#m7f16a67223\" y=\"201.187097\"/>\n     <use style=\"stroke:#000000;\" x=\"284.34082\" xlink:href=\"#m7f16a67223\" y=\"202.700173\"/>\n     <use style=\"stroke:#000000;\" x=\"286.463067\" xlink:href=\"#m7f16a67223\" y=\"171.002721\"/>\n     <use style=\"stroke:#000000;\" x=\"296.331989\" xlink:href=\"#m7f16a67223\" y=\"181.867427\"/>\n     <use style=\"stroke:#000000;\" x=\"297.251884\" xlink:href=\"#m7f16a67223\" y=\"198.095277\"/>\n     <use style=\"stroke:#000000;\" x=\"293.797411\" xlink:href=\"#m7f16a67223\" y=\"160.75804\"/>\n     <use style=\"stroke:#000000;\" x=\"308.954414\" xlink:href=\"#m7f16a67223\" y=\"148.566546\"/>\n     <use style=\"stroke:#000000;\" x=\"300.373785\" xlink:href=\"#m7f16a67223\" y=\"165.000348\"/>\n     <use style=\"stroke:#000000;\" x=\"289.882665\" xlink:href=\"#m7f16a67223\" y=\"149.845642\"/>\n     <use style=\"stroke:#000000;\" x=\"314.264597\" xlink:href=\"#m7f16a67223\" y=\"159.800881\"/>\n     <use style=\"stroke:#000000;\" x=\"290.543724\" xlink:href=\"#m7f16a67223\" y=\"159.447679\"/>\n     <use style=\"stroke:#000000;\" x=\"307.546641\" xlink:href=\"#m7f16a67223\" y=\"139.229494\"/>\n     <use style=\"stroke:#000000;\" x=\"315.300994\" xlink:href=\"#m7f16a67223\" y=\"112.489498\"/>\n     <use style=\"stroke:#000000;\" x=\"312.774233\" xlink:href=\"#m7f16a67223\" y=\"173.534225\"/>\n     <use style=\"stroke:#000000;\" x=\"298.991924\" xlink:href=\"#m7f16a67223\" y=\"125.832383\"/>\n     <use style=\"stroke:#000000;\" x=\"300.825495\" xlink:href=\"#m7f16a67223\" y=\"102.607032\"/>\n     <use style=\"stroke:#000000;\" x=\"292.279486\" xlink:href=\"#m7f16a67223\" y=\"109.927138\"/>\n     <use style=\"stroke:#000000;\" x=\"309.449788\" xlink:href=\"#m7f16a67223\" y=\"101.186168\"/>\n     <use style=\"stroke:#000000;\" x=\"297.364693\" xlink:href=\"#m7f16a67223\" y=\"96.257861\"/>\n     <use style=\"stroke:#000000;\" x=\"284.991609\" xlink:href=\"#m7f16a67223\" y=\"106.428514\"/>\n     <use style=\"stroke:#000000;\" x=\"295.896673\" xlink:href=\"#m7f16a67223\" y=\"77.521117\"/>\n     <use style=\"stroke:#000000;\" x=\"266.613196\" xlink:href=\"#m7f16a67223\" y=\"91.548112\"/>\n     <use style=\"stroke:#000000;\" x=\"275.735549\" xlink:href=\"#m7f16a67223\" y=\"99.469595\"/>\n     <use style=\"stroke:#000000;\" x=\"254.260834\" xlink:href=\"#m7f16a67223\" y=\"104.289781\"/>\n     <use style=\"stroke:#000000;\" x=\"270.026618\" xlink:href=\"#m7f16a67223\" y=\"90.733491\"/>\n     <use style=\"stroke:#000000;\" x=\"263.31348\" xlink:href=\"#m7f16a67223\" y=\"97.175767\"/>\n     <use style=\"stroke:#000000;\" x=\"245.945216\" xlink:href=\"#m7f16a67223\" y=\"70.397439\"/>\n     <use style=\"stroke:#000000;\" x=\"246.977599\" xlink:href=\"#m7f16a67223\" y=\"85.129376\"/>\n     <use style=\"stroke:#000000;\" x=\"236.852819\" xlink:href=\"#m7f16a67223\" y=\"81.346048\"/>\n     <use style=\"stroke:#000000;\" x=\"244.761656\" xlink:href=\"#m7f16a67223\" y=\"60.73236\"/>\n     <use style=\"stroke:#000000;\" x=\"220.168935\" xlink:href=\"#m7f16a67223\" y=\"59.537611\"/>\n     <use style=\"stroke:#000000;\" x=\"216.636163\" xlink:href=\"#m7f16a67223\" y=\"43.517422\"/>\n     <use style=\"stroke:#000000;\" x=\"205.465301\" xlink:href=\"#m7f16a67223\" y=\"99.904903\"/>\n     <use style=\"stroke:#000000;\" x=\"204.857583\" xlink:href=\"#m7f16a67223\" y=\"40.537776\"/>\n     <use style=\"stroke:#000000;\" x=\"208.20581\" xlink:href=\"#m7f16a67223\" y=\"95.068309\"/>\n     <use style=\"stroke:#000000;\" x=\"192.39942\" xlink:href=\"#m7f16a67223\" y=\"34.67267\"/>\n     <use style=\"stroke:#000000;\" x=\"192.606727\" xlink:href=\"#m7f16a67223\" y=\"64.362128\"/>\n     <use style=\"stroke:#000000;\" x=\"171.216648\" xlink:href=\"#m7f16a67223\" y=\"58.481911\"/>\n     <use style=\"stroke:#000000;\" x=\"167.063485\" xlink:href=\"#m7f16a67223\" y=\"74.135174\"/>\n     <use style=\"stroke:#000000;\" x=\"164.00269\" xlink:href=\"#m7f16a67223\" y=\"72.008348\"/>\n     <use style=\"stroke:#000000;\" x=\"154.607196\" xlink:href=\"#m7f16a67223\" y=\"44.511879\"/>\n     <use style=\"stroke:#000000;\" x=\"165.15486\" xlink:href=\"#m7f16a67223\" y=\"90.944099\"/>\n     <use style=\"stroke:#000000;\" x=\"122.484305\" xlink:href=\"#m7f16a67223\" y=\"83.011133\"/>\n     <use style=\"stroke:#000000;\" x=\"143.889655\" xlink:href=\"#m7f16a67223\" y=\"50.395792\"/>\n     <use style=\"stroke:#000000;\" x=\"115.973273\" xlink:href=\"#m7f16a67223\" y=\"53.966588\"/>\n     <use style=\"stroke:#000000;\" x=\"126.185666\" xlink:href=\"#m7f16a67223\" y=\"87.009417\"/>\n     <use style=\"stroke:#000000;\" x=\"113.62678\" xlink:href=\"#m7f16a67223\" y=\"65.84728\"/>\n     <use style=\"stroke:#000000;\" x=\"119.775874\" xlink:href=\"#m7f16a67223\" y=\"70.003688\"/>\n     <use style=\"stroke:#000000;\" x=\"107.212405\" xlink:href=\"#m7f16a67223\" y=\"100.390559\"/>\n     <use style=\"stroke:#000000;\" x=\"96.110533\" xlink:href=\"#m7f16a67223\" y=\"88.450171\"/>\n     <use style=\"stroke:#000000;\" x=\"109.228427\" xlink:href=\"#m7f16a67223\" y=\"94.389699\"/>\n     <use style=\"stroke:#000000;\" x=\"91.097055\" xlink:href=\"#m7f16a67223\" y=\"86.804188\"/>\n     <use style=\"stroke:#000000;\" x=\"81.955913\" xlink:href=\"#m7f16a67223\" y=\"79.643896\"/>\n     <use style=\"stroke:#000000;\" x=\"84.845751\" xlink:href=\"#m7f16a67223\" y=\"121.975621\"/>\n     <use style=\"stroke:#000000;\" x=\"99.651225\" xlink:href=\"#m7f16a67223\" y=\"117.993139\"/>\n     <use style=\"stroke:#000000;\" x=\"74.476046\" xlink:href=\"#m7f16a67223\" y=\"98.588852\"/>\n     <use style=\"stroke:#000000;\" x=\"87.73904\" xlink:href=\"#m7f16a67223\" y=\"113.584022\"/>\n     <use style=\"stroke:#000000;\" x=\"80.558542\" xlink:href=\"#m7f16a67223\" y=\"115.869633\"/>\n     <use style=\"stroke:#000000;\" x=\"73.532034\" xlink:href=\"#m7f16a67223\" y=\"123.144531\"/>\n     <use style=\"stroke:#000000;\" x=\"69.033784\" xlink:href=\"#m7f16a67223\" y=\"130.166502\"/>\n     <use style=\"stroke:#000000;\" x=\"65.723908\" xlink:href=\"#m7f16a67223\" y=\"158.47032\"/>\n     <use style=\"stroke:#000000;\" x=\"71.42067\" xlink:href=\"#m7f16a67223\" y=\"167.174737\"/>\n     <use style=\"stroke:#000000;\" x=\"76.561082\" xlink:href=\"#m7f16a67223\" y=\"176.842411\"/>\n     <use style=\"stroke:#000000;\" x=\"73.484093\" xlink:href=\"#m7f16a67223\" y=\"160.676691\"/>\n     <use style=\"stroke:#000000;\" x=\"76.237071\" xlink:href=\"#m7f16a67223\" y=\"190.653946\"/>\n     <use style=\"stroke:#000000;\" x=\"84.644563\" xlink:href=\"#m7f16a67223\" y=\"155.732484\"/>\n     <use style=\"stroke:#000000;\" x=\"90.611308\" xlink:href=\"#m7f16a67223\" y=\"121.626835\"/>\n     <use style=\"stroke:#000000;\" x=\"78.492791\" xlink:href=\"#m7f16a67223\" y=\"184.584648\"/>\n     <use style=\"stroke:#000000;\" x=\"93.326001\" xlink:href=\"#m7f16a67223\" y=\"183.905717\"/>\n     <use style=\"stroke:#000000;\" x=\"89.103347\" xlink:href=\"#m7f16a67223\" y=\"178.46521\"/>\n     <use style=\"stroke:#000000;\" x=\"95.583444\" xlink:href=\"#m7f16a67223\" y=\"192.540897\"/>\n     <use style=\"stroke:#000000;\" x=\"99.270959\" xlink:href=\"#m7f16a67223\" y=\"173.236816\"/>\n     <use style=\"stroke:#000000;\" x=\"103.210273\" xlink:href=\"#m7f16a67223\" y=\"217.563675\"/>\n     <use style=\"stroke:#000000;\" x=\"108.160512\" xlink:href=\"#m7f16a67223\" y=\"243.214328\"/>\n     <use style=\"stroke:#000000;\" x=\"109.031436\" xlink:href=\"#m7f16a67223\" y=\"226.211243\"/>\n     <use style=\"stroke:#000000;\" x=\"115.157793\" xlink:href=\"#m7f16a67223\" y=\"202.454842\"/>\n     <use style=\"stroke:#000000;\" x=\"127.436546\" xlink:href=\"#m7f16a67223\" y=\"159.09552\"/>\n     <use style=\"stroke:#000000;\" x=\"126.357087\" xlink:href=\"#m7f16a67223\" y=\"218.336337\"/>\n     <use style=\"stroke:#000000;\" x=\"148.456781\" xlink:href=\"#m7f16a67223\" y=\"269.252435\"/>\n     <use style=\"stroke:#000000;\" x=\"130.382419\" xlink:href=\"#m7f16a67223\" y=\"240.392302\"/>\n     <use style=\"stroke:#000000;\" x=\"160.897594\" xlink:href=\"#m7f16a67223\" y=\"197.243584\"/>\n     <use style=\"stroke:#000000;\" x=\"163.17613\" xlink:href=\"#m7f16a67223\" y=\"222.525425\"/>\n     <use style=\"stroke:#000000;\" x=\"160.946921\" xlink:href=\"#m7f16a67223\" y=\"228.418991\"/>\n     <use style=\"stroke:#000000;\" x=\"174.873417\" xlink:href=\"#m7f16a67223\" y=\"254.248093\"/>\n     <use style=\"stroke:#000000;\" x=\"174.327445\" xlink:href=\"#m7f16a67223\" y=\"235.908271\"/>\n     <use style=\"stroke:#000000;\" x=\"180.259388\" xlink:href=\"#m7f16a67223\" y=\"222.906941\"/>\n     <use style=\"stroke:#000000;\" x=\"183.006177\" xlink:href=\"#m7f16a67223\" y=\"237.422541\"/>\n     <use style=\"stroke:#000000;\" x=\"203.04278\" xlink:href=\"#m7f16a67223\" y=\"256.657011\"/>\n     <use style=\"stroke:#000000;\" x=\"199.405609\" xlink:href=\"#m7f16a67223\" y=\"256.076115\"/>\n     <use style=\"stroke:#000000;\" x=\"215.377516\" xlink:href=\"#m7f16a67223\" y=\"248.116143\"/>\n     <use style=\"stroke:#000000;\" x=\"230.69151\" xlink:href=\"#m7f16a67223\" y=\"230.348855\"/>\n     <use style=\"stroke:#000000;\" x=\"225.751359\" xlink:href=\"#m7f16a67223\" y=\"224.215399\"/>\n     <use style=\"stroke:#000000;\" x=\"242.485539\" xlink:href=\"#m7f16a67223\" y=\"221.19658\"/>\n     <use style=\"stroke:#000000;\" x=\"233.4806\" xlink:href=\"#m7f16a67223\" y=\"243.719336\"/>\n     <use style=\"stroke:#000000;\" x=\"247.667661\" xlink:href=\"#m7f16a67223\" y=\"198.093697\"/>\n     <use style=\"stroke:#000000;\" x=\"264.36795\" xlink:href=\"#m7f16a67223\" y=\"234.145845\"/>\n     <use style=\"stroke:#000000;\" x=\"258.413978\" xlink:href=\"#m7f16a67223\" y=\"215.321147\"/>\n     <use style=\"stroke:#000000;\" x=\"255.198342\" xlink:href=\"#m7f16a67223\" y=\"195.590634\"/>\n     <use style=\"stroke:#000000;\" x=\"279.107928\" xlink:href=\"#m7f16a67223\" y=\"189.558321\"/>\n     <use style=\"stroke:#000000;\" x=\"279.768315\" xlink:href=\"#m7f16a67223\" y=\"211.075625\"/>\n     <use style=\"stroke:#000000;\" x=\"284.740137\" xlink:href=\"#m7f16a67223\" y=\"203.101051\"/>\n     <use style=\"stroke:#000000;\" x=\"283.062126\" xlink:href=\"#m7f16a67223\" y=\"199.309819\"/>\n     <use style=\"stroke:#000000;\" x=\"289.043499\" xlink:href=\"#m7f16a67223\" y=\"199.486916\"/>\n     <use style=\"stroke:#000000;\" x=\"287.711105\" xlink:href=\"#m7f16a67223\" y=\"174.351428\"/>\n     <use style=\"stroke:#000000;\" x=\"291.631807\" xlink:href=\"#m7f16a67223\" y=\"196.250375\"/>\n     <use style=\"stroke:#000000;\" x=\"305.820025\" xlink:href=\"#m7f16a67223\" y=\"161.673528\"/>\n     <use style=\"stroke:#000000;\" x=\"299.649347\" xlink:href=\"#m7f16a67223\" y=\"187.007632\"/>\n     <use style=\"stroke:#000000;\" x=\"300.165225\" xlink:href=\"#m7f16a67223\" y=\"126.434179\"/>\n     <use style=\"stroke:#000000;\" x=\"303.194703\" xlink:href=\"#m7f16a67223\" y=\"157.336674\"/>\n     <use style=\"stroke:#000000;\" x=\"295.17679\" xlink:href=\"#m7f16a67223\" y=\"152.404831\"/>\n     <use style=\"stroke:#000000;\" x=\"292.762787\" xlink:href=\"#m7f16a67223\" y=\"169.578153\"/>\n    </g>\n   </g>\n   <g id=\"patch_3\">\n    <path d=\"M 48.982813 294.118125 \nL 48.982813 22.318125 \n\" style=\"fill:none;stroke:#000000;stroke-linecap:square;stroke-linejoin:miter;stroke-width:0.8;\"/>\n   </g>\n   <g id=\"patch_4\">\n    <path d=\"M 327.982813 294.118125 \nL 327.982813 22.318125 \n\" style=\"fill:none;stroke:#000000;stroke-linecap:square;stroke-linejoin:miter;stroke-width:0.8;\"/>\n   </g>\n   <g id=\"patch_5\">\n    <path d=\"M 48.982813 294.118125 \nL 327.982813 294.118125 \n\" style=\"fill:none;stroke:#000000;stroke-linecap:square;stroke-linejoin:miter;stroke-width:0.8;\"/>\n   </g>\n   <g id=\"patch_6\">\n    <path d=\"M 48.982813 22.318125 \nL 327.982813 22.318125 \n\" style=\"fill:none;stroke:#000000;stroke-linecap:square;stroke-linejoin:miter;stroke-width:0.8;\"/>\n   </g>\n   <g id=\"text_15\">\n    <!-- Original Data Points -->\n    <defs>\n     <path d=\"M 39.40625 66.21875 \nQ 28.65625 66.21875 22.328125 58.203125 \nQ 16.015625 50.203125 16.015625 36.375 \nQ 16.015625 22.609375 22.328125 14.59375 \nQ 28.65625 6.59375 39.40625 6.59375 \nQ 50.140625 6.59375 56.421875 14.59375 \nQ 62.703125 22.609375 62.703125 36.375 \nQ 62.703125 50.203125 56.421875 58.203125 \nQ 50.140625 66.21875 39.40625 66.21875 \nz\nM 39.40625 74.21875 \nQ 54.734375 74.21875 63.90625 63.9375 \nQ 73.09375 53.65625 73.09375 36.375 \nQ 73.09375 19.140625 63.90625 8.859375 \nQ 54.734375 -1.421875 39.40625 -1.421875 \nQ 24.03125 -1.421875 14.8125 8.828125 \nQ 5.609375 19.09375 5.609375 36.375 \nQ 5.609375 53.65625 14.8125 63.9375 \nQ 24.03125 74.21875 39.40625 74.21875 \nz\n\" id=\"DejaVuSans-79\"/>\n     <path d=\"M 41.109375 46.296875 \nQ 39.59375 47.171875 37.8125 47.578125 \nQ 36.03125 48 33.890625 48 \nQ 26.265625 48 22.1875 43.046875 \nQ 18.109375 38.09375 18.109375 28.8125 \nL 18.109375 0 \nL 9.078125 0 \nL 9.078125 54.6875 \nL 18.109375 54.6875 \nL 18.109375 46.1875 \nQ 20.953125 51.171875 25.484375 53.578125 \nQ 30.03125 56 36.53125 56 \nQ 37.453125 56 38.578125 55.875 \nQ 39.703125 55.765625 41.0625 55.515625 \nz\n\" id=\"DejaVuSans-114\"/>\n     <path d=\"M 45.40625 27.984375 \nQ 45.40625 37.75 41.375 43.109375 \nQ 37.359375 48.484375 30.078125 48.484375 \nQ 22.859375 48.484375 18.828125 43.109375 \nQ 14.796875 37.75 14.796875 27.984375 \nQ 14.796875 18.265625 18.828125 12.890625 \nQ 22.859375 7.515625 30.078125 7.515625 \nQ 37.359375 7.515625 41.375 12.890625 \nQ 45.40625 18.265625 45.40625 27.984375 \nz\nM 54.390625 6.78125 \nQ 54.390625 -7.171875 48.1875 -13.984375 \nQ 42 -20.796875 29.203125 -20.796875 \nQ 24.46875 -20.796875 20.265625 -20.09375 \nQ 16.0625 -19.390625 12.109375 -17.921875 \nL 12.109375 -9.1875 \nQ 16.0625 -11.328125 19.921875 -12.34375 \nQ 23.78125 -13.375 27.78125 -13.375 \nQ 36.625 -13.375 41.015625 -8.765625 \nQ 45.40625 -4.15625 45.40625 5.171875 \nL 45.40625 9.625 \nQ 42.625 4.78125 38.28125 2.390625 \nQ 33.9375 0 27.875 0 \nQ 17.828125 0 11.671875 7.65625 \nQ 5.515625 15.328125 5.515625 27.984375 \nQ 5.515625 40.671875 11.671875 48.328125 \nQ 17.828125 56 27.875 56 \nQ 33.9375 56 38.28125 53.609375 \nQ 42.625 51.21875 45.40625 46.390625 \nL 45.40625 54.6875 \nL 54.390625 54.6875 \nz\n\" id=\"DejaVuSans-103\"/>\n     <path d=\"M 9.421875 75.984375 \nL 18.40625 75.984375 \nL 18.40625 0 \nL 9.421875 0 \nz\n\" id=\"DejaVuSans-108\"/>\n     <path d=\"M 19.671875 64.796875 \nL 19.671875 37.40625 \nL 32.078125 37.40625 \nQ 38.96875 37.40625 42.71875 40.96875 \nQ 46.484375 44.53125 46.484375 51.125 \nQ 46.484375 57.671875 42.71875 61.234375 \nQ 38.96875 64.796875 32.078125 64.796875 \nz\nM 9.8125 72.90625 \nL 32.078125 72.90625 \nQ 44.34375 72.90625 50.609375 67.359375 \nQ 56.890625 61.8125 56.890625 51.125 \nQ 56.890625 40.328125 50.609375 34.8125 \nQ 44.34375 29.296875 32.078125 29.296875 \nL 19.671875 29.296875 \nL 19.671875 0 \nL 9.8125 0 \nz\n\" id=\"DejaVuSans-80\"/>\n    </defs>\n    <g transform=\"translate(128.845625 16.318125)scale(0.12 -0.12)\">\n     <use xlink:href=\"#DejaVuSans-79\"/>\n     <use x=\"78.710938\" xlink:href=\"#DejaVuSans-114\"/>\n     <use x=\"119.824219\" xlink:href=\"#DejaVuSans-105\"/>\n     <use x=\"147.607422\" xlink:href=\"#DejaVuSans-103\"/>\n     <use x=\"211.083984\" xlink:href=\"#DejaVuSans-105\"/>\n     <use x=\"238.867188\" xlink:href=\"#DejaVuSans-110\"/>\n     <use x=\"302.246094\" xlink:href=\"#DejaVuSans-97\"/>\n     <use x=\"363.525391\" xlink:href=\"#DejaVuSans-108\"/>\n     <use x=\"391.308594\" xlink:href=\"#DejaVuSans-32\"/>\n     <use x=\"423.095703\" xlink:href=\"#DejaVuSans-68\"/>\n     <use x=\"500.097656\" xlink:href=\"#DejaVuSans-97\"/>\n     <use x=\"561.376953\" xlink:href=\"#DejaVuSans-116\"/>\n     <use x=\"600.585938\" xlink:href=\"#DejaVuSans-97\"/>\n     <use x=\"661.865234\" xlink:href=\"#DejaVuSans-32\"/>\n     <use x=\"693.652344\" xlink:href=\"#DejaVuSans-80\"/>\n     <use x=\"750.330078\" xlink:href=\"#DejaVuSans-111\"/>\n     <use x=\"811.511719\" xlink:href=\"#DejaVuSans-105\"/>\n     <use x=\"839.294922\" xlink:href=\"#DejaVuSans-110\"/>\n     <use x=\"902.673828\" xlink:href=\"#DejaVuSans-116\"/>\n     <use x=\"941.882812\" xlink:href=\"#DejaVuSans-115\"/>\n    </g>\n   </g>\n  </g>\n </g>\n <defs>\n  <clipPath id=\"p82e5adfc98\">\n   <rect height=\"271.8\" width=\"279\" x=\"48.982813\" y=\"22.318125\"/>\n  </clipPath>\n </defs>\n</svg>\n"
          },
          "metadata": {
            "needs_background": "light"
          }
        }
      ]
    },
    {
      "cell_type": "code",
      "source": [
        "# Separate the data into data loaders\n",
        "train_data, test_data, train_labels, test_labels = train_test_split(data, labels, test_size=0.2)\n",
        "\n",
        "# Convert them to pytpruch datasets, they are a;ready tensors\n",
        "train_data = TensorDataset(train_data, train_labels)\n",
        "test_data = TensorDataset(test_data, test_labels)\n",
        "\n",
        "# Convert them to dataloader objects\n",
        "batchsize=16 # int(train_data.tensors[0].shape[0]/4) for soft coding\n",
        "train_loader = DataLoader(train_data, batch_size=batchsize, shuffle=True)\n",
        "test_loader = DataLoader(test_data, batch_size=test_data.tensors[0].shape[0])"
      ],
      "metadata": {
        "id": "aY9QGO5Znyn1"
      },
      "execution_count": 23,
      "outputs": []
    },
    {
      "cell_type": "code",
      "source": [
        "# Create the model class\n",
        "class theModelClass(nn.Module):\n",
        "    def __init__(self,dropoutRate):\n",
        "        super().__init__()\n",
        "\n",
        "        # Layers\n",
        "        self.input  = nn.Linear(2, 128)\n",
        "        self.hidden = nn.Linear(128, 128)\n",
        "        self.output = nn.Linear(128,1)\n",
        "\n",
        "        # Parameters\n",
        "        self.dr = dropoutRate\n",
        "\n",
        "    # Define forward pass\n",
        "    def forward(self,x):\n",
        "\n",
        "        # Pass the data through the input layer\n",
        "        x = F.relu(self.input(x))\n",
        "\n",
        "        # Dropout after input layer\n",
        "        x = F.dropout(x, p=self.dr, training=self.training) # No need to set to true or false every time\n",
        "\n",
        "        # Pass the data through the hidden layer\n",
        "        x = F.relu(self.hidden(x))\n",
        "\n",
        "        # Dropout after hidden layer\n",
        "        x = F.dropout(x, p=self.dr, training=self.training)\n",
        "\n",
        "        # Outout layer\n",
        "        x = self.output(x) # No dropout here\n",
        "\n",
        "        return x"
      ],
      "metadata": {
        "id": "DDZKk0S5qodL"
      },
      "execution_count": 31,
      "outputs": []
    },
    {
      "cell_type": "code",
      "source": [
        ""
      ],
      "metadata": {
        "id": "2bdYBXFLrxub"
      },
      "execution_count": null,
      "outputs": []
    }
  ]
}