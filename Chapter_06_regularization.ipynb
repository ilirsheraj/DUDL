{
  "nbformat": 4,
  "nbformat_minor": 0,
  "metadata": {
    "colab": {
      "name": "Chapter_06_regularization.ipynb",
      "provenance": [],
      "collapsed_sections": [],
      "authorship_tag": "ABX9TyNc0aO8W8VkXXgOsab9wBvL",
      "include_colab_link": true
    },
    "kernelspec": {
      "name": "python3",
      "display_name": "Python 3"
    },
    "language_info": {
      "name": "python"
    }
  },
  "cells": [
    {
      "cell_type": "markdown",
      "metadata": {
        "id": "view-in-github",
        "colab_type": "text"
      },
      "source": [
        "<a href=\"https://colab.research.google.com/github/ilirsheraj/DUDL/blob/main/Chapter_06_regularization.ipynb\" target=\"_parent\"><img src=\"https://colab.research.google.com/assets/colab-badge.svg\" alt=\"Open In Colab\"/></a>"
      ]
    },
    {
      "cell_type": "code",
      "execution_count": 1,
      "metadata": {
        "id": "qH17iZHVbU3q"
      },
      "outputs": [],
      "source": [
        "import torch\n",
        "import torch.nn as nn\n",
        "import torch.nn.functional as F"
      ]
    },
    {
      "cell_type": "markdown",
      "source": [
        "## Regular Dropout"
      ],
      "metadata": {
        "id": "TzhlsKcf0ReD"
      }
    },
    {
      "cell_type": "code",
      "source": [
        "# Define a dropout instance and create some data\n",
        "# define the probability\n",
        "prob = 0.5 # default\n",
        "\n",
        "dropout = nn.Dropout(p=prob)\n",
        "dropout"
      ],
      "metadata": {
        "colab": {
          "base_uri": "https://localhost:8080/"
        },
        "id": "MLQVZXoK0jbg",
        "outputId": "8a889b14-346b-4c41-b380-131e153a444e"
      },
      "execution_count": 2,
      "outputs": [
        {
          "output_type": "execute_result",
          "data": {
            "text/plain": [
              "Dropout(p=0.5, inplace=False)"
            ]
          },
          "metadata": {},
          "execution_count": 2
        }
      ]
    },
    {
      "cell_type": "code",
      "source": [
        "# Lets see what dropout returns\n",
        "x = torch.ones(10)\n",
        "\n",
        "y = dropout(x)\n",
        "print(x)\n",
        "print()\n",
        "print(y) # y/(1-p), SCALED UP\n",
        "print()\n",
        "print(torch.mean(y))\n",
        "# Independent probabilities"
      ],
      "metadata": {
        "colab": {
          "base_uri": "https://localhost:8080/"
        },
        "id": "F3kNQyXa0ztL",
        "outputId": "34179118-9bcb-4836-df1e-56ebf27ad626"
      },
      "execution_count": 11,
      "outputs": [
        {
          "output_type": "stream",
          "name": "stdout",
          "text": [
            "tensor([1., 1., 1., 1., 1., 1., 1., 1., 1., 1.])\n",
            "\n",
            "tensor([2., 0., 2., 0., 2., 2., 2., 0., 0., 0.])\n",
            "\n",
            "tensor(1.)\n"
          ]
        }
      ]
    },
    {
      "cell_type": "code",
      "source": [
        "# dropout is turned off when evaluating the model\n",
        "dropout.eval()\n",
        "# All lines within its identation will have dropout mode off\n",
        "y = dropout(x)\n",
        "print(y)\n",
        "print(torch.mean(y))"
      ],
      "metadata": {
        "colab": {
          "base_uri": "https://localhost:8080/"
        },
        "id": "9G6aLas81Bya",
        "outputId": "4056fdfd-112d-4c0a-e355-11ac1c9937d8"
      },
      "execution_count": 14,
      "outputs": [
        {
          "output_type": "stream",
          "name": "stdout",
          "text": [
            "tensor([1., 1., 1., 1., 1., 1., 1., 1., 1., 1.])\n",
            "tensor(1.)\n"
          ]
        }
      ]
    },
    {
      "cell_type": "code",
      "source": [
        "# Another way to use dropout is to use F.dropout()\n",
        "dropout.eval()\n",
        "y = F.dropout(x) # no need to specify instance\n",
        "print(y)\n",
        "print()\n",
        "print(torch.mean(y))"
      ],
      "metadata": {
        "colab": {
          "base_uri": "https://localhost:8080/"
        },
        "id": "z9z8wA9U2LVA",
        "outputId": "bff7e140-6e4f-4d55-d668-0580e81f8cec"
      },
      "execution_count": 15,
      "outputs": [
        {
          "output_type": "stream",
          "name": "stdout",
          "text": [
            "tensor([2., 0., 2., 0., 0., 2., 0., 0., 0., 2.])\n",
            "\n",
            "tensor(0.8000)\n"
          ]
        }
      ]
    },
    {
      "cell_type": "code",
      "source": [
        "# We can manually switch it off with F\n",
        "dropout.eval()\n",
        "y = F.dropout(x, training=False)\n",
        "print(y)\n",
        "print()\n",
        "print(torch.mean(y))"
      ],
      "metadata": {
        "colab": {
          "base_uri": "https://localhost:8080/"
        },
        "id": "qHOOEYpR1HhD",
        "outputId": "f9b72953-b06d-49e6-f3c2-ce2390adfaa3"
      },
      "execution_count": 16,
      "outputs": [
        {
          "output_type": "stream",
          "name": "stdout",
          "text": [
            "tensor([1., 1., 1., 1., 1., 1., 1., 1., 1., 1.])\n",
            "\n",
            "tensor(1.)\n"
          ]
        }
      ]
    },
    {
      "cell_type": "code",
      "source": [
        "# When a model is switched to eval mode it stays in it until it is switched back to training mode\n",
        "dropout.train()\n",
        "y = dropout(x)\n",
        "print(y)\n",
        "print()\n",
        "\n",
        "dropout.eval()\n",
        "y = dropout(x)\n",
        "print(y)\n",
        "print()\n",
        "\n",
        "# dropout.train()\n",
        "y = dropout(x) # will still be in eval unless dropout.train() is activated\n",
        "print(y)"
      ],
      "metadata": {
        "colab": {
          "base_uri": "https://localhost:8080/"
        },
        "id": "6GxoyemA2uNV",
        "outputId": "b3e38ad4-45d2-4fe4-9a63-e8674b0cf7dd"
      },
      "execution_count": 17,
      "outputs": [
        {
          "output_type": "stream",
          "name": "stdout",
          "text": [
            "tensor([2., 0., 2., 0., 2., 0., 2., 0., 0., 0.])\n",
            "\n",
            "tensor([1., 1., 1., 1., 1., 1., 1., 1., 1., 1.])\n",
            "\n",
            "tensor([1., 1., 1., 1., 1., 1., 1., 1., 1., 1.])\n"
          ]
        }
      ]
    },
    {
      "cell_type": "code",
      "source": [
        ""
      ],
      "metadata": {
        "id": "Eqm91Kbm3aMM"
      },
      "execution_count": null,
      "outputs": []
    }
  ]
}