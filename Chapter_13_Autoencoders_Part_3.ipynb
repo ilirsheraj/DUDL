{
  "nbformat": 4,
  "nbformat_minor": 0,
  "metadata": {
    "colab": {
      "provenance": [],
      "authorship_tag": "ABX9TyNXOLok6jCLuhGn5utFeClN",
      "include_colab_link": true
    },
    "kernelspec": {
      "name": "python3",
      "display_name": "Python 3"
    },
    "language_info": {
      "name": "python"
    }
  },
  "cells": [
    {
      "cell_type": "markdown",
      "metadata": {
        "id": "view-in-github",
        "colab_type": "text"
      },
      "source": [
        "<a href=\"https://colab.research.google.com/github/ilirsheraj/DUDL/blob/main/Chapter_13_Autoencoders_Part_3.ipynb\" target=\"_parent\"><img src=\"https://colab.research.google.com/assets/colab-badge.svg\" alt=\"Open In Colab\"/></a>"
      ]
    },
    {
      "cell_type": "code",
      "execution_count": 1,
      "metadata": {
        "id": "6vm387hd1iHN"
      },
      "outputs": [],
      "source": [
        "# Import the libraries\n",
        "import numpy as np\n",
        "\n",
        "import torch\n",
        "import torch.nn as nn\n",
        "import torch.nn.functional as F\n",
        "\n",
        "import copy\n",
        "\n",
        "# PCA for model output\n",
        "from sklearn.decomposition import PCA\n",
        "\n",
        "import matplotlib.pyplot as plt\n",
        "from IPython import display\n",
        "display.set_matplotlib_formats(\"svg\")"
      ]
    },
    {
      "cell_type": "markdown",
      "source": [
        "# Linear vs Parameter Classes"
      ],
      "metadata": {
        "id": "7k6YR8Fb21nM"
      }
    },
    {
      "cell_type": "code",
      "source": [
        "# create an input and weight matrix\n",
        "x = torch.rand(10, 50)  # a 10x50 matrix\n",
        "print(x.shape)"
      ],
      "metadata": {
        "id": "8RHkMOdC25aD",
        "outputId": "d4c42696-84e0-4315-c056-a5d5b8cde7ad",
        "colab": {
          "base_uri": "https://localhost:8080/"
        }
      },
      "execution_count": 2,
      "outputs": [
        {
          "output_type": "stream",
          "name": "stdout",
          "text": [
            "torch.Size([10, 50])\n"
          ]
        }
      ]
    },
    {
      "cell_type": "code",
      "source": [
        "W1 = nn.Parameter(torch.randn(128,50))\n",
        "print(W1)"
      ],
      "metadata": {
        "id": "0Tktsq3H25j9",
        "outputId": "e6f3e4ee-f800-430e-8db8-11d883f90cab",
        "colab": {
          "base_uri": "https://localhost:8080/"
        }
      },
      "execution_count": 3,
      "outputs": [
        {
          "output_type": "stream",
          "name": "stdout",
          "text": [
            "Parameter containing:\n",
            "tensor([[ 1.6995, -0.7426, -0.4550,  ..., -0.6970,  0.5929, -0.5466],\n",
            "        [-0.0408,  1.4621,  0.3485,  ...,  0.0375, -0.7657,  0.8681],\n",
            "        [-0.2320,  0.2816,  0.7189,  ...,  0.9369,  1.0530, -0.0169],\n",
            "        ...,\n",
            "        [ 1.0565, -0.4276, -1.1633,  ...,  0.3896, -0.5635,  0.8486],\n",
            "        [-0.7326, -1.9021, -1.9879,  ...,  0.4371, -1.6795, -0.5194],\n",
            "        [-0.4088, -0.7683, -1.0637,  ..., -0.9619, -1.9636,  0.5758]],\n",
            "       requires_grad=True)\n"
          ]
        }
      ]
    },
    {
      "cell_type": "code",
      "source": [
        "# Size and transpose of W1\n",
        "print(W1.shape)\n",
        "print(W1.t().shape)"
      ],
      "metadata": {
        "id": "VdGGhlpC3wqC",
        "outputId": "e68602c7-02fc-46b3-9277-b06b7956ed58",
        "colab": {
          "base_uri": "https://localhost:8080/"
        }
      },
      "execution_count": 4,
      "outputs": [
        {
          "output_type": "stream",
          "name": "stdout",
          "text": [
            "torch.Size([128, 50])\n",
            "torch.Size([50, 128])\n"
          ]
        }
      ]
    },
    {
      "cell_type": "code",
      "source": [
        "# Compute the output of this layer: transpose W\n",
        "y = x@W1.t()\n",
        "print(y.shape)"
      ],
      "metadata": {
        "id": "WmP-ZiNv3wyF",
        "outputId": "2b4776bf-439e-4e70-8364-62f73ba5f05c",
        "colab": {
          "base_uri": "https://localhost:8080/"
        }
      },
      "execution_count": 5,
      "outputs": [
        {
          "output_type": "stream",
          "name": "stdout",
          "text": [
            "torch.Size([10, 128])\n"
          ]
        }
      ]
    },
    {
      "cell_type": "code",
      "source": [
        "# Now try with linear method\n",
        "W2 = nn.Linear(128,50)\n",
        "print(W2)"
      ],
      "metadata": {
        "id": "VjkWDISR4xci",
        "outputId": "9cbe38c2-eeea-4d54-9700-120db6333001",
        "colab": {
          "base_uri": "https://localhost:8080/"
        }
      },
      "execution_count": 6,
      "outputs": [
        {
          "output_type": "stream",
          "name": "stdout",
          "text": [
            "Linear(in_features=128, out_features=50, bias=True)\n"
          ]
        }
      ]
    },
    {
      "cell_type": "code",
      "source": [
        "# This will not work\n",
        "# print(W2.shape)\n",
        "# We need to get the weights\n",
        "print(W2.weight.shape)\n",
        "print(W2.weight.t().shape)"
      ],
      "metadata": {
        "id": "fT0ZIdwz4xe7",
        "outputId": "461d1a79-4e3a-46b8-8170-65864d38d4e3",
        "colab": {
          "base_uri": "https://localhost:8080/"
        }
      },
      "execution_count": 7,
      "outputs": [
        {
          "output_type": "stream",
          "name": "stdout",
          "text": [
            "torch.Size([50, 128])\n",
            "torch.Size([128, 50])\n"
          ]
        }
      ]
    },
    {
      "cell_type": "code",
      "source": [
        "# Compute the matrix multiplication: No transpose here\n",
        "y = x @ (W2.weight)\n",
        "print(y.shape)"
      ],
      "metadata": {
        "id": "zIEofjyq4xhX",
        "outputId": "bba21161-1c70-448b-8d6b-6fd150efeead",
        "colab": {
          "base_uri": "https://localhost:8080/"
        }
      },
      "execution_count": 8,
      "outputs": [
        {
          "output_type": "stream",
          "name": "stdout",
          "text": [
            "torch.Size([10, 128])\n"
          ]
        }
      ]
    },
    {
      "cell_type": "code",
      "source": [
        "# See all attributes of a class Linear\n",
        "# dir(nn.Linear)\n",
        "# docstring for Linear.forward\n",
        "# ??nn.Linear.__init__()"
      ],
      "metadata": {
        "id": "sqI-zCUP4xjs"
      },
      "execution_count": 9,
      "outputs": []
    },
    {
      "cell_type": "markdown",
      "source": [
        "# Autoencoders with Tied Weights"
      ],
      "metadata": {
        "id": "r0svAL1a1p3C"
      }
    },
    {
      "cell_type": "code",
      "source": [],
      "metadata": {
        "id": "nCqSOQhp1o5u"
      },
      "execution_count": 10,
      "outputs": []
    }
  ]
}