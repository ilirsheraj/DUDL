{
  "nbformat": 4,
  "nbformat_minor": 0,
  "metadata": {
    "colab": {
      "name": "Chapter_09_Data.ipynb",
      "provenance": [],
      "collapsed_sections": [],
      "authorship_tag": "ABX9TyNlw6fghCVCXuKTqvF+iDBN",
      "include_colab_link": true
    },
    "kernelspec": {
      "name": "python3",
      "display_name": "Python 3"
    },
    "language_info": {
      "name": "python"
    },
    "gpuClass": "standard"
  },
  "cells": [
    {
      "cell_type": "markdown",
      "metadata": {
        "id": "view-in-github",
        "colab_type": "text"
      },
      "source": [
        "<a href=\"https://colab.research.google.com/github/ilirsheraj/DUDL/blob/main/Chapter_09_Data.ipynb\" target=\"_parent\"><img src=\"https://colab.research.google.com/assets/colab-badge.svg\" alt=\"Open In Colab\"/></a>"
      ]
    },
    {
      "cell_type": "markdown",
      "source": [
        "#TensorDataset"
      ],
      "metadata": {
        "id": "Phsz6v4bVADC"
      }
    },
    {
      "cell_type": "code",
      "execution_count": 1,
      "metadata": {
        "id": "HIVgTosmTffm"
      },
      "outputs": [],
      "source": [
        "# Import Libraries\n",
        "import torch\n",
        "import torch.nn as nn\n",
        "import torch.nn.functional as F\n",
        "from torch.utils.data import DataLoader, TensorDataset\n",
        "from sklearn.model_selection import train_test_split\n",
        "\n",
        "import numpy as np\n",
        "import pandas as pd\n",
        "import seaborn as sns\n",
        "import scipy.stats as stats\n",
        "\n",
        "import matplotlib.pyplot as plt\n",
        "from IPython import display\n",
        "display.set_matplotlib_formats(\"svg\")"
      ]
    },
    {
      "cell_type": "code",
      "source": [
        "# Create a dataset in Numpy\n",
        "nObservations = 100\n",
        "nFeatures = 20\n",
        "\n",
        "data = np.random.randn(nObservations, nFeatures)\n",
        "\n",
        "data.shape"
      ],
      "metadata": {
        "colab": {
          "base_uri": "https://localhost:8080/"
        },
        "id": "iVUHzzgbVNvP",
        "outputId": "d56b7386-a790-4b64-c7a3-4e20560d0c23"
      },
      "execution_count": null,
      "outputs": [
        {
          "output_type": "execute_result",
          "data": {
            "text/plain": [
              "(100, 20)"
            ]
          },
          "metadata": {},
          "execution_count": 2
        }
      ]
    },
    {
      "cell_type": "code",
      "source": [
        "# Convert the data into pytorch tensor\n",
        "dataT = torch.tensor(data)\n",
        "\n",
        "# Print out some information\n",
        "print(\"Numpy Data\")\n",
        "print(type(data))\n",
        "print()\n",
        "print(data.shape) # numpy -> .shape\n",
        "print()\n",
        "print(data.dtype) # The "
      ],
      "metadata": {
        "colab": {
          "base_uri": "https://localhost:8080/"
        },
        "id": "SmRYf79lZUeX",
        "outputId": "897436e9-f1b2-4d69-debc-288156bb8e6a"
      },
      "execution_count": null,
      "outputs": [
        {
          "output_type": "stream",
          "name": "stdout",
          "text": [
            "Numpy Data\n",
            "<class 'numpy.ndarray'>\n",
            "\n",
            "(100, 20)\n",
            "\n",
            "float64\n"
          ]
        }
      ]
    },
    {
      "cell_type": "code",
      "source": [
        "print(\"Tensor Data\")\n",
        "print(type(dataT))\n",
        "print()\n",
        "print(dataT.size()) # torch -> size() dataT.shape also works\n",
        "print()\n",
        "print(dataT.dtype)"
      ],
      "metadata": {
        "colab": {
          "base_uri": "https://localhost:8080/"
        },
        "id": "TQm9ZJ8JZu9g",
        "outputId": "a0363420-c772-41c5-a04c-b81e8271752d"
      },
      "execution_count": null,
      "outputs": [
        {
          "output_type": "stream",
          "name": "stdout",
          "text": [
            "Tensor Data\n",
            "<class 'torch.Tensor'>\n",
            "\n",
            "torch.Size([100, 20])\n",
            "\n",
            "torch.float64\n"
          ]
        }
      ]
    },
    {
      "cell_type": "code",
      "source": [
        "# Converting datatypes\n",
        "dataT2 = torch.tensor(data).float()\n",
        "print(dataT2.dtype)"
      ],
      "metadata": {
        "colab": {
          "base_uri": "https://localhost:8080/"
        },
        "id": "LaLRg0iFaKbN",
        "outputId": "cd4b9e87-b887-4477-be43-63c0ffc8eeb6"
      },
      "execution_count": null,
      "outputs": [
        {
          "output_type": "stream",
          "name": "stdout",
          "text": [
            "torch.float32\n"
          ]
        }
      ]
    },
    {
      "cell_type": "code",
      "source": [
        "# .long() works for integers, like we have always used to create labels\n",
        "dataT3 = torch.tensor(data).long()\n",
        "print(dataT3.dtype)"
      ],
      "metadata": {
        "colab": {
          "base_uri": "https://localhost:8080/"
        },
        "id": "C_3NdCxPcLx-",
        "outputId": "764ef33f-81b5-4a60-d298-d236c94bb504"
      },
      "execution_count": null,
      "outputs": [
        {
          "output_type": "stream",
          "name": "stdout",
          "text": [
            "torch.int64\n"
          ]
        }
      ]
    },
    {
      "cell_type": "code",
      "source": [
        "# Numpy Data\n",
        "data"
      ],
      "metadata": {
        "colab": {
          "base_uri": "https://localhost:8080/"
        },
        "id": "zGjsF42rcfSx",
        "outputId": "09d0ddd0-de37-4cbc-86ef-42faa3caeca9"
      },
      "execution_count": null,
      "outputs": [
        {
          "output_type": "execute_result",
          "data": {
            "text/plain": [
              "array([[ 0.9967915 ,  0.34323311,  0.37051492, ..., -0.13123295,\n",
              "        -1.8267084 ,  1.11413198],\n",
              "       [ 0.25180362, -2.25931033,  0.17148823, ..., -1.14323571,\n",
              "         2.02592951, -0.03974172],\n",
              "       [ 0.42656699,  0.42679475, -2.27714039, ..., -0.59696545,\n",
              "        -1.56227537, -1.03451708],\n",
              "       ...,\n",
              "       [ 1.03732373,  0.75888444, -0.65063706, ...,  0.05118021,\n",
              "         0.16738484, -0.67012479],\n",
              "       [-0.91117139, -0.63432906, -1.70847911, ..., -1.50201273,\n",
              "         0.31456932, -3.11636302],\n",
              "       [ 2.10332061, -0.00539816,  0.23472897, ..., -2.2432004 ,\n",
              "         0.25503878, -0.1597969 ]])"
            ]
          },
          "metadata": {},
          "execution_count": 7
        }
      ]
    },
    {
      "cell_type": "code",
      "source": [
        "# Tensor\n",
        "dataT2"
      ],
      "metadata": {
        "id": "pytUkEXLctrP",
        "outputId": "e6919087-16f8-469e-e027-2dac9f8357bf",
        "colab": {
          "base_uri": "https://localhost:8080/"
        }
      },
      "execution_count": null,
      "outputs": [
        {
          "output_type": "execute_result",
          "data": {
            "text/plain": [
              "tensor([[ 0.9968,  0.3432,  0.3705,  ..., -0.1312, -1.8267,  1.1141],\n",
              "        [ 0.2518, -2.2593,  0.1715,  ..., -1.1432,  2.0259, -0.0397],\n",
              "        [ 0.4266,  0.4268, -2.2771,  ..., -0.5970, -1.5623, -1.0345],\n",
              "        ...,\n",
              "        [ 1.0373,  0.7589, -0.6506,  ...,  0.0512,  0.1674, -0.6701],\n",
              "        [-0.9112, -0.6343, -1.7085,  ..., -1.5020,  0.3146, -3.1164],\n",
              "        [ 2.1033, -0.0054,  0.2347,  ..., -2.2432,  0.2550, -0.1598]])"
            ]
          },
          "metadata": {},
          "execution_count": 8
        }
      ]
    },
    {
      "cell_type": "code",
      "source": [
        "# Integer Tensor\n",
        "dataT3"
      ],
      "metadata": {
        "id": "zVvo-yxRcvD1",
        "outputId": "accbdc89-daef-4cb9-adb2-84766506c522",
        "colab": {
          "base_uri": "https://localhost:8080/"
        }
      },
      "execution_count": null,
      "outputs": [
        {
          "output_type": "execute_result",
          "data": {
            "text/plain": [
              "tensor([[ 0,  0,  0,  ...,  0, -1,  1],\n",
              "        [ 0, -2,  0,  ..., -1,  2,  0],\n",
              "        [ 0,  0, -2,  ...,  0, -1, -1],\n",
              "        ...,\n",
              "        [ 1,  0,  0,  ...,  0,  0,  0],\n",
              "        [ 0,  0, -1,  ..., -1,  0, -3],\n",
              "        [ 2,  0,  0,  ..., -2,  0,  0]])"
            ]
          },
          "metadata": {},
          "execution_count": 9
        }
      ]
    },
    {
      "cell_type": "code",
      "source": [
        "# Convert the tensors into PyTorch Datasets\n",
        "# dataset = TensorDataset(data) # This is not a tensor, so cannot be converted\n",
        "# We need tensor for that\n",
        "dataset = TensorDataset(dataT)\n",
        "# Dataset is a two-element tuple comprising of data and labels\n",
        "dataset.tensors"
      ],
      "metadata": {
        "id": "2sbkf_xrcy6Z",
        "colab": {
          "base_uri": "https://localhost:8080/"
        },
        "outputId": "f66752ed-ab6b-4314-8a23-6b37f3bba15c"
      },
      "execution_count": null,
      "outputs": [
        {
          "output_type": "execute_result",
          "data": {
            "text/plain": [
              "(tensor([[ 0.9968,  0.3432,  0.3705,  ..., -0.1312, -1.8267,  1.1141],\n",
              "         [ 0.2518, -2.2593,  0.1715,  ..., -1.1432,  2.0259, -0.0397],\n",
              "         [ 0.4266,  0.4268, -2.2771,  ..., -0.5970, -1.5623, -1.0345],\n",
              "         ...,\n",
              "         [ 1.0373,  0.7589, -0.6506,  ...,  0.0512,  0.1674, -0.6701],\n",
              "         [-0.9112, -0.6343, -1.7085,  ..., -1.5020,  0.3146, -3.1164],\n",
              "         [ 2.1033, -0.0054,  0.2347,  ..., -2.2432,  0.2550, -0.1598]],\n",
              "        dtype=torch.float64),)"
            ]
          },
          "metadata": {},
          "execution_count": 11
        }
      ]
    },
    {
      "cell_type": "code",
      "source": [
        "# We can access all the numbers by indexing on zero element of the tuple\n",
        "dataset.tensors[0]"
      ],
      "metadata": {
        "colab": {
          "base_uri": "https://localhost:8080/"
        },
        "id": "VLoyXbp4cdDs",
        "outputId": "2892b952-2a56-4a82-ec6e-8146b452e45d"
      },
      "execution_count": null,
      "outputs": [
        {
          "output_type": "execute_result",
          "data": {
            "text/plain": [
              "tensor([[ 0.9968,  0.3432,  0.3705,  ..., -0.1312, -1.8267,  1.1141],\n",
              "        [ 0.2518, -2.2593,  0.1715,  ..., -1.1432,  2.0259, -0.0397],\n",
              "        [ 0.4266,  0.4268, -2.2771,  ..., -0.5970, -1.5623, -1.0345],\n",
              "        ...,\n",
              "        [ 1.0373,  0.7589, -0.6506,  ...,  0.0512,  0.1674, -0.6701],\n",
              "        [-0.9112, -0.6343, -1.7085,  ..., -1.5020,  0.3146, -3.1164],\n",
              "        [ 2.1033, -0.0054,  0.2347,  ..., -2.2432,  0.2550, -0.1598]],\n",
              "       dtype=torch.float64)"
            ]
          },
          "metadata": {},
          "execution_count": 12
        }
      ]
    },
    {
      "cell_type": "code",
      "source": [
        "# Let's add labels to the data\n",
        "labels = torch.ceil(torch.linspace(0.01,4, nObservations))\n",
        "labels"
      ],
      "metadata": {
        "colab": {
          "base_uri": "https://localhost:8080/"
        },
        "id": "3KIppXN-dOvn",
        "outputId": "df3d43c6-654c-4e5e-e478-985328a1ba94"
      },
      "execution_count": null,
      "outputs": [
        {
          "output_type": "execute_result",
          "data": {
            "text/plain": [
              "tensor([1., 1., 1., 1., 1., 1., 1., 1., 1., 1., 1., 1., 1., 1., 1., 1., 1., 1.,\n",
              "        1., 1., 1., 1., 1., 1., 1., 2., 2., 2., 2., 2., 2., 2., 2., 2., 2., 2.,\n",
              "        2., 2., 2., 2., 2., 2., 2., 2., 2., 2., 2., 2., 2., 2., 3., 3., 3., 3.,\n",
              "        3., 3., 3., 3., 3., 3., 3., 3., 3., 3., 3., 3., 3., 3., 3., 3., 3., 3.,\n",
              "        3., 3., 3., 4., 4., 4., 4., 4., 4., 4., 4., 4., 4., 4., 4., 4., 4., 4.,\n",
              "        4., 4., 4., 4., 4., 4., 4., 4., 4., 4.])"
            ]
          },
          "metadata": {},
          "execution_count": 32
        }
      ]
    },
    {
      "cell_type": "code",
      "source": [
        "# The above is just a list, it is not a tensor with orientation\n",
        "# Lets transform it into an actual matrix (column vector)\n",
        "labels = labels.reshape((len(labels),1))\n",
        "print(labels.T)\n",
        "# Two sets of fquare brackets :)"
      ],
      "metadata": {
        "colab": {
          "base_uri": "https://localhost:8080/"
        },
        "id": "La8vx9l8duUN",
        "outputId": "251ff77a-4a86-4769-fcdc-46ecf3c50057"
      },
      "execution_count": null,
      "outputs": [
        {
          "output_type": "stream",
          "name": "stdout",
          "text": [
            "tensor([[1., 1., 1., 1., 1., 1., 1., 1., 1., 1., 1., 1., 1., 1., 1., 1., 1., 1.,\n",
            "         1., 1., 1., 1., 1., 1., 1., 2., 2., 2., 2., 2., 2., 2., 2., 2., 2., 2.,\n",
            "         2., 2., 2., 2., 2., 2., 2., 2., 2., 2., 2., 2., 2., 2., 3., 3., 3., 3.,\n",
            "         3., 3., 3., 3., 3., 3., 3., 3., 3., 3., 3., 3., 3., 3., 3., 3., 3., 3.,\n",
            "         3., 3., 3., 4., 4., 4., 4., 4., 4., 4., 4., 4., 4., 4., 4., 4., 4., 4.,\n",
            "         4., 4., 4., 4., 4., 4., 4., 4., 4., 4.]])\n"
          ]
        }
      ]
    },
    {
      "cell_type": "code",
      "source": [
        "# Let's create a new dataset\n",
        "dataset = TensorDataset(dataT, labels)\n",
        "print(dataset.tensors[0].size())\n",
        "print()\n",
        "print(dataset.tensors[1].size())"
      ],
      "metadata": {
        "colab": {
          "base_uri": "https://localhost:8080/"
        },
        "id": "WvFt3sIZeNEq",
        "outputId": "d4bef57e-fc76-4d61-b099-05bf88b50434"
      },
      "execution_count": null,
      "outputs": [
        {
          "output_type": "stream",
          "name": "stdout",
          "text": [
            "torch.Size([100, 20])\n",
            "\n",
            "torch.Size([100, 1])\n"
          ]
        }
      ]
    },
    {
      "cell_type": "code",
      "source": [
        "# See only first data and its labels\n",
        "dataset[0]"
      ],
      "metadata": {
        "colab": {
          "base_uri": "https://localhost:8080/"
        },
        "id": "0uSqvUvWfBFx",
        "outputId": "22c9b33e-4d49-4e96-9984-7bf7008399ec"
      },
      "execution_count": null,
      "outputs": [
        {
          "output_type": "execute_result",
          "data": {
            "text/plain": [
              "(tensor([ 0.9968,  0.3432,  0.3705, -0.2423,  0.1509, -1.0959, -1.8894, -0.8657,\n",
              "          0.0670, -1.7220,  0.7425,  0.3204,  0.7241,  0.2190,  2.1436,  1.3726,\n",
              "          1.1369, -0.1312, -1.8267,  1.1141], dtype=torch.float64),\n",
              " tensor([1.]))"
            ]
          },
          "metadata": {},
          "execution_count": 20
        }
      ]
    },
    {
      "cell_type": "code",
      "source": [
        "len(dataset.tensors)"
      ],
      "metadata": {
        "colab": {
          "base_uri": "https://localhost:8080/"
        },
        "id": "GPdYseDifluZ",
        "outputId": "effcfe71-b319-439c-99ac-c5b3b43ca604"
      },
      "execution_count": null,
      "outputs": [
        {
          "output_type": "execute_result",
          "data": {
            "text/plain": [
              "2"
            ]
          },
          "metadata": {},
          "execution_count": 21
        }
      ]
    },
    {
      "cell_type": "code",
      "source": [
        "# Just for comparison with a non-matrix ordered set of numbers\n",
        "print(np.shape(np.random.randint(5,size=nObservations)))"
      ],
      "metadata": {
        "colab": {
          "base_uri": "https://localhost:8080/"
        },
        "id": "nQgvTwmPevqk",
        "outputId": "e3006f86-95b7-4359-c215-b8a4510abbf8"
      },
      "execution_count": null,
      "outputs": [
        {
          "output_type": "stream",
          "name": "stdout",
          "text": [
            "(100,)\n"
          ]
        }
      ]
    },
    {
      "cell_type": "markdown",
      "source": [
        "# DataLoaders"
      ],
      "metadata": {
        "id": "kNgwKAgif1Gr"
      }
    },
    {
      "cell_type": "code",
      "source": [
        "# Create a DataLoader Object\n",
        "batchsize = 25\n",
        "dataloader = DataLoader(dataset, batch_size = batchsize) #shuffle=True,drop_last=True)\n",
        "dataloader"
      ],
      "metadata": {
        "colab": {
          "base_uri": "https://localhost:8080/"
        },
        "id": "5aHez3fHfzp-",
        "outputId": "024b8f9b-fd02-4e33-e3a2-ca47fd3f1eed"
      },
      "execution_count": null,
      "outputs": [
        {
          "output_type": "execute_result",
          "data": {
            "text/plain": [
              "<torch.utils.data.dataloader.DataLoader at 0x7f4df7c51c10>"
            ]
          },
          "metadata": {},
          "execution_count": 22
        }
      ]
    },
    {
      "cell_type": "code",
      "source": [
        "dataloader.dataset.tensors[0].size()"
      ],
      "metadata": {
        "colab": {
          "base_uri": "https://localhost:8080/"
        },
        "id": "w2caoIerghU1",
        "outputId": "d020d600-5f89-4065-ea73-343ec64a3a7c"
      },
      "execution_count": null,
      "outputs": [
        {
          "output_type": "execute_result",
          "data": {
            "text/plain": [
              "torch.Size([100, 20])"
            ]
          },
          "metadata": {},
          "execution_count": 23
        }
      ]
    },
    {
      "cell_type": "code",
      "source": [
        "dataloader.dataset.tensors[1].size()"
      ],
      "metadata": {
        "colab": {
          "base_uri": "https://localhost:8080/"
        },
        "id": "OGxcptzSgnoa",
        "outputId": "b2e9cd75-b03b-4806-c828-1e5c03ddf3d2"
      },
      "execution_count": null,
      "outputs": [
        {
          "output_type": "execute_result",
          "data": {
            "text/plain": [
              "torch.Size([100, 1])"
            ]
          },
          "metadata": {},
          "execution_count": 24
        }
      ]
    },
    {
      "cell_type": "code",
      "source": [
        "# Use the dataloader object in a for loop to break up the data inro minibatches\n",
        "for dat, labs in dataloader:\n",
        "    print(\"Batch Info\")\n",
        "    print(dat.size())\n",
        "    print(labs.size())\n",
        "    print()"
      ],
      "metadata": {
        "colab": {
          "base_uri": "https://localhost:8080/"
        },
        "id": "WeemPQp2hBG6",
        "outputId": "efd0693f-2c0e-431a-98a2-34bb2d011939"
      },
      "execution_count": null,
      "outputs": [
        {
          "output_type": "stream",
          "name": "stdout",
          "text": [
            "Batch Info\n",
            "torch.Size([25, 20])\n",
            "torch.Size([25, 1])\n",
            "\n",
            "Batch Info\n",
            "torch.Size([25, 20])\n",
            "torch.Size([25, 1])\n",
            "\n",
            "Batch Info\n",
            "torch.Size([25, 20])\n",
            "torch.Size([25, 1])\n",
            "\n",
            "Batch Info\n",
            "torch.Size([25, 20])\n",
            "torch.Size([25, 1])\n",
            "\n"
          ]
        }
      ]
    },
    {
      "cell_type": "code",
      "source": [
        "# We can also have a look at the labels\n",
        "for dat, labels in dataloader:\n",
        "    print(labels.T)\n",
        "    print()"
      ],
      "metadata": {
        "colab": {
          "base_uri": "https://localhost:8080/"
        },
        "id": "7wts90ZGhTc3",
        "outputId": "0e41fce4-85ea-430b-8217-39fa0c278bde"
      },
      "execution_count": null,
      "outputs": [
        {
          "output_type": "stream",
          "name": "stdout",
          "text": [
            "tensor([[1., 1., 1., 1., 1., 1., 1., 1., 1., 1., 1., 1., 1., 1., 1., 1., 1., 1.,\n",
            "         1., 1., 1., 1., 1., 1., 1.]])\n",
            "\n",
            "tensor([[2., 2., 2., 2., 2., 2., 2., 2., 2., 2., 2., 2., 2., 2., 2., 2., 2., 2.,\n",
            "         2., 2., 2., 2., 2., 2., 2.]])\n",
            "\n",
            "tensor([[3., 3., 3., 3., 3., 3., 3., 3., 3., 3., 3., 3., 3., 3., 3., 3., 3., 3.,\n",
            "         3., 3., 3., 3., 3., 3., 3.]])\n",
            "\n",
            "tensor([[4., 4., 4., 4., 4., 4., 4., 4., 4., 4., 4., 4., 4., 4., 4., 4., 4., 4.,\n",
            "         4., 4., 4., 4., 4., 4., 4.]])\n",
            "\n"
          ]
        }
      ]
    },
    {
      "cell_type": "code",
      "source": [
        "# Now lets try with shuffling and see what happens\n",
        "dataloader = DataLoader(dataset, batch_size=batchsize, shuffle=True)"
      ],
      "metadata": {
        "id": "AHySK6SBh_Xl"
      },
      "execution_count": null,
      "outputs": []
    },
    {
      "cell_type": "code",
      "source": [
        "for dat,labs in dataloader:\n",
        "    print(labs.T)\n",
        "    print()"
      ],
      "metadata": {
        "colab": {
          "base_uri": "https://localhost:8080/"
        },
        "id": "fcXPZKDziP85",
        "outputId": "74eb8cdf-06da-4527-bb6a-26797cea144a"
      },
      "execution_count": null,
      "outputs": [
        {
          "output_type": "stream",
          "name": "stdout",
          "text": [
            "tensor([[2., 1., 3., 2., 2., 2., 3., 3., 1., 4., 2., 4., 4., 2., 4., 1., 4., 1.,\n",
            "         3., 4., 4., 1., 1., 4., 3.]])\n",
            "\n",
            "tensor([[1., 1., 2., 3., 1., 4., 2., 2., 2., 3., 3., 3., 3., 3., 2., 4., 2., 1.,\n",
            "         3., 2., 3., 4., 3., 4., 4.]])\n",
            "\n",
            "tensor([[1., 4., 3., 1., 2., 3., 1., 2., 2., 4., 4., 1., 1., 4., 1., 1., 1., 1.,\n",
            "         2., 2., 4., 3., 3., 3., 4.]])\n",
            "\n",
            "tensor([[2., 4., 4., 1., 1., 4., 3., 4., 4., 1., 2., 4., 2., 3., 3., 3., 3., 2.,\n",
            "         1., 3., 1., 1., 2., 2., 2.]])\n",
            "\n"
          ]
        }
      ]
    },
    {
      "cell_type": "code",
      "source": [
        "# To get only one batch for testing (as we have been doing for  along time)\n",
        "dat,labs = next(iter(dataloader))\n",
        "labs.T"
      ],
      "metadata": {
        "colab": {
          "base_uri": "https://localhost:8080/"
        },
        "id": "jk3eFiiLiX2M",
        "outputId": "f6cdc3bb-0597-4135-bdec-17f88f8f139a"
      },
      "execution_count": null,
      "outputs": [
        {
          "output_type": "execute_result",
          "data": {
            "text/plain": [
              "tensor([[4., 1., 1., 2., 3., 4., 1., 1., 4., 2., 1., 3., 1., 2., 3., 2., 1., 4.,\n",
              "         3., 2., 1., 1., 3., 2., 2.]])"
            ]
          },
          "metadata": {},
          "execution_count": 30
        }
      ]
    },
    {
      "cell_type": "markdown",
      "source": [
        "# Data Size and Network Size"
      ],
      "metadata": {
        "id": "B8_jQCLUmLfO"
      }
    },
    {
      "cell_type": "markdown",
      "source": [
        "In this case we are going to train a model by parametrically varying the depth while keeping the number of units constant (80). \n",
        "\n",
        "We will also parametrically vary the amount of data from N=50 to N=550"
      ],
      "metadata": {
        "id": "TKPAOBqymQU8"
      }
    },
    {
      "cell_type": "code",
      "source": [
        "# define a function to create the dataset\n",
        "def createSomeData(nPerClust):\n",
        "    A = [1,1]\n",
        "    B = [5,1]\n",
        "    C = [4,4]\n",
        "\n",
        "    # Generate data\n",
        "    a = [A[0] + np.random.randn(nPerClust), A[1] + np.random.randn(nPerClust)]\n",
        "    b = [B[0] + np.random.randn(nPerClust), B[1] + np.random.randn(nPerClust)]\n",
        "    c = [C[0] + np.random.randn(nPerClust), C[1] + np.random.randn(nPerClust)]\n",
        "\n",
        "    # Define the true labels\n",
        "    labels_np = np.hstack((np.zeros((nPerClust)),\n",
        "                           np.ones((nPerClust)),\n",
        "                           np.ones((nPerClust))+1))\n",
        "    \n",
        "    # Concatenate everything intp a matrix\n",
        "    data_np = np.hstack((a,b,c)).T\n",
        "\n",
        "    # Put all the outputs into a dictionary\n",
        "    output = {}\n",
        "    output[\"data\"] = torch.tensor(data_np).float()\n",
        "    output[\"labels\"] = torch.tensor(labels_np).long()\n",
        "\n",
        "    # Split the data into training and test set\n",
        "    train_data, test_data, train_labels, test_labels = train_test_split(output[\"data\"], output[\"labels\"], test_size=0.1)\n",
        "\n",
        "    # Convert them into PyTorch datasets (they have already been converted into tensors)\n",
        "    train_data = TensorDataset(train_data, train_labels)\n",
        "    test_data = TensorDataset(test_data, test_labels)\n",
        "\n",
        "    # Translate them into DataLoader Objects\n",
        "    batchsize=8\n",
        "    output[\"train_data\"] = DataLoader(train_data, batch_size=batchsize, shuffle=True, drop_last=True)\n",
        "    output[\"test_data\"] = DataLoader(test_data, batch_size=test_data.tensors[0].shape[0])\n",
        "\n",
        "    return output"
      ],
      "metadata": {
        "id": "GQjWgaykjJGM"
      },
      "execution_count": null,
      "outputs": []
    },
    {
      "cell_type": "code",
      "source": [
        "# Check whether the function works\n",
        "theData = createSomeData(50)\n",
        "\n",
        "data = theData[\"data\"]\n",
        "labels = theData[\"labels\"]\n",
        "\n",
        "# Plot everything\n",
        "fig = plt.figure(figsize=(5,5))\n",
        "plt.plot(data[np.where(labels==0)[0],0], data[np.where(labels==0)[0],1], \"bs\", alpha=0.5)\n",
        "plt.plot(data[np.where(labels==1)[0],0], data[np.where(labels==1)[0],1], \"ko\", alpha=0.5)\n",
        "plt.plot(data[np.where(labels==2)[0],0], data[np.where(labels==2)[0],1], \"r^\", alpha=0.5)\n",
        "plt.title(\"Some Random Data\")\n",
        "plt.xlabel(\"Dimension 1\")\n",
        "plt.ylabel(\"Dimesnion 2\")\n",
        "plt.show()"
      ],
      "metadata": {
        "colab": {
          "base_uri": "https://localhost:8080/",
          "height": 464
        },
        "id": "7ld5wd74qRAl",
        "outputId": "3133cf34-a8ca-45cd-c1ec-88567687352d"
      },
      "execution_count": null,
      "outputs": [
        {
          "output_type": "display_data",
          "data": {
            "text/plain": [
              "<Figure size 360x360 with 1 Axes>"
            ],
            "image/svg+xml": "<?xml version=\"1.0\" encoding=\"utf-8\" standalone=\"no\"?>\n<!DOCTYPE svg PUBLIC \"-//W3C//DTD SVG 1.1//EN\"\n  \"http://www.w3.org/Graphics/SVG/1.1/DTD/svg11.dtd\">\n<!-- Created with matplotlib (https://matplotlib.org/) -->\n<svg height=\"331.674375pt\" version=\"1.1\" viewBox=\"0 0 328.820312 331.674375\" width=\"328.820312pt\" xmlns=\"http://www.w3.org/2000/svg\" xmlns:xlink=\"http://www.w3.org/1999/xlink\">\n <defs>\n  <style type=\"text/css\">\n*{stroke-linecap:butt;stroke-linejoin:round;}\n  </style>\n </defs>\n <g id=\"figure_1\">\n  <g id=\"patch_1\">\n   <path d=\"M 0 331.674375 \nL 328.820312 331.674375 \nL 328.820312 0 \nL 0 0 \nz\n\" style=\"fill:none;\"/>\n  </g>\n  <g id=\"axes_1\">\n   <g id=\"patch_2\">\n    <path d=\"M 42.620313 294.118125 \nL 321.620313 294.118125 \nL 321.620313 22.318125 \nL 42.620313 22.318125 \nz\n\" style=\"fill:#ffffff;\"/>\n   </g>\n   <g id=\"matplotlib.axis_1\">\n    <g id=\"xtick_1\">\n     <g id=\"line2d_1\">\n      <defs>\n       <path d=\"M 0 0 \nL 0 3.5 \n\" id=\"m7666846634\" style=\"stroke:#000000;stroke-width:0.8;\"/>\n      </defs>\n      <g>\n       <use style=\"stroke:#000000;stroke-width:0.8;\" x=\"90.082509\" xlink:href=\"#m7666846634\" y=\"294.118125\"/>\n      </g>\n     </g>\n     <g id=\"text_1\">\n      <!-- 0 -->\n      <defs>\n       <path d=\"M 31.78125 66.40625 \nQ 24.171875 66.40625 20.328125 58.90625 \nQ 16.5 51.421875 16.5 36.375 \nQ 16.5 21.390625 20.328125 13.890625 \nQ 24.171875 6.390625 31.78125 6.390625 \nQ 39.453125 6.390625 43.28125 13.890625 \nQ 47.125 21.390625 47.125 36.375 \nQ 47.125 51.421875 43.28125 58.90625 \nQ 39.453125 66.40625 31.78125 66.40625 \nz\nM 31.78125 74.21875 \nQ 44.046875 74.21875 50.515625 64.515625 \nQ 56.984375 54.828125 56.984375 36.375 \nQ 56.984375 17.96875 50.515625 8.265625 \nQ 44.046875 -1.421875 31.78125 -1.421875 \nQ 19.53125 -1.421875 13.0625 8.265625 \nQ 6.59375 17.96875 6.59375 36.375 \nQ 6.59375 54.828125 13.0625 64.515625 \nQ 19.53125 74.21875 31.78125 74.21875 \nz\n\" id=\"DejaVuSans-48\"/>\n      </defs>\n      <g transform=\"translate(86.901259 308.716563)scale(0.1 -0.1)\">\n       <use xlink:href=\"#DejaVuSans-48\"/>\n      </g>\n     </g>\n    </g>\n    <g id=\"xtick_2\">\n     <g id=\"line2d_2\">\n      <g>\n       <use style=\"stroke:#000000;stroke-width:0.8;\" x=\"150.524795\" xlink:href=\"#m7666846634\" y=\"294.118125\"/>\n      </g>\n     </g>\n     <g id=\"text_2\">\n      <!-- 2 -->\n      <defs>\n       <path d=\"M 19.1875 8.296875 \nL 53.609375 8.296875 \nL 53.609375 0 \nL 7.328125 0 \nL 7.328125 8.296875 \nQ 12.9375 14.109375 22.625 23.890625 \nQ 32.328125 33.6875 34.8125 36.53125 \nQ 39.546875 41.84375 41.421875 45.53125 \nQ 43.3125 49.21875 43.3125 52.78125 \nQ 43.3125 58.59375 39.234375 62.25 \nQ 35.15625 65.921875 28.609375 65.921875 \nQ 23.96875 65.921875 18.8125 64.3125 \nQ 13.671875 62.703125 7.8125 59.421875 \nL 7.8125 69.390625 \nQ 13.765625 71.78125 18.9375 73 \nQ 24.125 74.21875 28.421875 74.21875 \nQ 39.75 74.21875 46.484375 68.546875 \nQ 53.21875 62.890625 53.21875 53.421875 \nQ 53.21875 48.921875 51.53125 44.890625 \nQ 49.859375 40.875 45.40625 35.40625 \nQ 44.1875 33.984375 37.640625 27.21875 \nQ 31.109375 20.453125 19.1875 8.296875 \nz\n\" id=\"DejaVuSans-50\"/>\n      </defs>\n      <g transform=\"translate(147.343545 308.716563)scale(0.1 -0.1)\">\n       <use xlink:href=\"#DejaVuSans-50\"/>\n      </g>\n     </g>\n    </g>\n    <g id=\"xtick_3\">\n     <g id=\"line2d_3\">\n      <g>\n       <use style=\"stroke:#000000;stroke-width:0.8;\" x=\"210.96708\" xlink:href=\"#m7666846634\" y=\"294.118125\"/>\n      </g>\n     </g>\n     <g id=\"text_3\">\n      <!-- 4 -->\n      <defs>\n       <path d=\"M 37.796875 64.3125 \nL 12.890625 25.390625 \nL 37.796875 25.390625 \nz\nM 35.203125 72.90625 \nL 47.609375 72.90625 \nL 47.609375 25.390625 \nL 58.015625 25.390625 \nL 58.015625 17.1875 \nL 47.609375 17.1875 \nL 47.609375 0 \nL 37.796875 0 \nL 37.796875 17.1875 \nL 4.890625 17.1875 \nL 4.890625 26.703125 \nz\n\" id=\"DejaVuSans-52\"/>\n      </defs>\n      <g transform=\"translate(207.78583 308.716563)scale(0.1 -0.1)\">\n       <use xlink:href=\"#DejaVuSans-52\"/>\n      </g>\n     </g>\n    </g>\n    <g id=\"xtick_4\">\n     <g id=\"line2d_4\">\n      <g>\n       <use style=\"stroke:#000000;stroke-width:0.8;\" x=\"271.409366\" xlink:href=\"#m7666846634\" y=\"294.118125\"/>\n      </g>\n     </g>\n     <g id=\"text_4\">\n      <!-- 6 -->\n      <defs>\n       <path d=\"M 33.015625 40.375 \nQ 26.375 40.375 22.484375 35.828125 \nQ 18.609375 31.296875 18.609375 23.390625 \nQ 18.609375 15.53125 22.484375 10.953125 \nQ 26.375 6.390625 33.015625 6.390625 \nQ 39.65625 6.390625 43.53125 10.953125 \nQ 47.40625 15.53125 47.40625 23.390625 \nQ 47.40625 31.296875 43.53125 35.828125 \nQ 39.65625 40.375 33.015625 40.375 \nz\nM 52.59375 71.296875 \nL 52.59375 62.3125 \nQ 48.875 64.0625 45.09375 64.984375 \nQ 41.3125 65.921875 37.59375 65.921875 \nQ 27.828125 65.921875 22.671875 59.328125 \nQ 17.53125 52.734375 16.796875 39.40625 \nQ 19.671875 43.65625 24.015625 45.921875 \nQ 28.375 48.1875 33.59375 48.1875 \nQ 44.578125 48.1875 50.953125 41.515625 \nQ 57.328125 34.859375 57.328125 23.390625 \nQ 57.328125 12.15625 50.6875 5.359375 \nQ 44.046875 -1.421875 33.015625 -1.421875 \nQ 20.359375 -1.421875 13.671875 8.265625 \nQ 6.984375 17.96875 6.984375 36.375 \nQ 6.984375 53.65625 15.1875 63.9375 \nQ 23.390625 74.21875 37.203125 74.21875 \nQ 40.921875 74.21875 44.703125 73.484375 \nQ 48.484375 72.75 52.59375 71.296875 \nz\n\" id=\"DejaVuSans-54\"/>\n      </defs>\n      <g transform=\"translate(268.228116 308.716563)scale(0.1 -0.1)\">\n       <use xlink:href=\"#DejaVuSans-54\"/>\n      </g>\n     </g>\n    </g>\n    <g id=\"text_5\">\n     <!-- Dimension 1 -->\n     <defs>\n      <path d=\"M 19.671875 64.796875 \nL 19.671875 8.109375 \nL 31.59375 8.109375 \nQ 46.6875 8.109375 53.6875 14.9375 \nQ 60.6875 21.78125 60.6875 36.53125 \nQ 60.6875 51.171875 53.6875 57.984375 \nQ 46.6875 64.796875 31.59375 64.796875 \nz\nM 9.8125 72.90625 \nL 30.078125 72.90625 \nQ 51.265625 72.90625 61.171875 64.09375 \nQ 71.09375 55.28125 71.09375 36.53125 \nQ 71.09375 17.671875 61.125 8.828125 \nQ 51.171875 0 30.078125 0 \nL 9.8125 0 \nz\n\" id=\"DejaVuSans-68\"/>\n      <path d=\"M 9.421875 54.6875 \nL 18.40625 54.6875 \nL 18.40625 0 \nL 9.421875 0 \nz\nM 9.421875 75.984375 \nL 18.40625 75.984375 \nL 18.40625 64.59375 \nL 9.421875 64.59375 \nz\n\" id=\"DejaVuSans-105\"/>\n      <path d=\"M 52 44.1875 \nQ 55.375 50.25 60.0625 53.125 \nQ 64.75 56 71.09375 56 \nQ 79.640625 56 84.28125 50.015625 \nQ 88.921875 44.046875 88.921875 33.015625 \nL 88.921875 0 \nL 79.890625 0 \nL 79.890625 32.71875 \nQ 79.890625 40.578125 77.09375 44.375 \nQ 74.3125 48.1875 68.609375 48.1875 \nQ 61.625 48.1875 57.5625 43.546875 \nQ 53.515625 38.921875 53.515625 30.90625 \nL 53.515625 0 \nL 44.484375 0 \nL 44.484375 32.71875 \nQ 44.484375 40.625 41.703125 44.40625 \nQ 38.921875 48.1875 33.109375 48.1875 \nQ 26.21875 48.1875 22.15625 43.53125 \nQ 18.109375 38.875 18.109375 30.90625 \nL 18.109375 0 \nL 9.078125 0 \nL 9.078125 54.6875 \nL 18.109375 54.6875 \nL 18.109375 46.1875 \nQ 21.1875 51.21875 25.484375 53.609375 \nQ 29.78125 56 35.6875 56 \nQ 41.65625 56 45.828125 52.96875 \nQ 50 49.953125 52 44.1875 \nz\n\" id=\"DejaVuSans-109\"/>\n      <path d=\"M 56.203125 29.59375 \nL 56.203125 25.203125 \nL 14.890625 25.203125 \nQ 15.484375 15.921875 20.484375 11.0625 \nQ 25.484375 6.203125 34.421875 6.203125 \nQ 39.59375 6.203125 44.453125 7.46875 \nQ 49.3125 8.734375 54.109375 11.28125 \nL 54.109375 2.78125 \nQ 49.265625 0.734375 44.1875 -0.34375 \nQ 39.109375 -1.421875 33.890625 -1.421875 \nQ 20.796875 -1.421875 13.15625 6.1875 \nQ 5.515625 13.8125 5.515625 26.8125 \nQ 5.515625 40.234375 12.765625 48.109375 \nQ 20.015625 56 32.328125 56 \nQ 43.359375 56 49.78125 48.890625 \nQ 56.203125 41.796875 56.203125 29.59375 \nz\nM 47.21875 32.234375 \nQ 47.125 39.59375 43.09375 43.984375 \nQ 39.0625 48.390625 32.421875 48.390625 \nQ 24.90625 48.390625 20.390625 44.140625 \nQ 15.875 39.890625 15.1875 32.171875 \nz\n\" id=\"DejaVuSans-101\"/>\n      <path d=\"M 54.890625 33.015625 \nL 54.890625 0 \nL 45.90625 0 \nL 45.90625 32.71875 \nQ 45.90625 40.484375 42.875 44.328125 \nQ 39.84375 48.1875 33.796875 48.1875 \nQ 26.515625 48.1875 22.3125 43.546875 \nQ 18.109375 38.921875 18.109375 30.90625 \nL 18.109375 0 \nL 9.078125 0 \nL 9.078125 54.6875 \nL 18.109375 54.6875 \nL 18.109375 46.1875 \nQ 21.34375 51.125 25.703125 53.5625 \nQ 30.078125 56 35.796875 56 \nQ 45.21875 56 50.046875 50.171875 \nQ 54.890625 44.34375 54.890625 33.015625 \nz\n\" id=\"DejaVuSans-110\"/>\n      <path d=\"M 44.28125 53.078125 \nL 44.28125 44.578125 \nQ 40.484375 46.53125 36.375 47.5 \nQ 32.28125 48.484375 27.875 48.484375 \nQ 21.1875 48.484375 17.84375 46.4375 \nQ 14.5 44.390625 14.5 40.28125 \nQ 14.5 37.15625 16.890625 35.375 \nQ 19.28125 33.59375 26.515625 31.984375 \nL 29.59375 31.296875 \nQ 39.15625 29.25 43.1875 25.515625 \nQ 47.21875 21.78125 47.21875 15.09375 \nQ 47.21875 7.46875 41.1875 3.015625 \nQ 35.15625 -1.421875 24.609375 -1.421875 \nQ 20.21875 -1.421875 15.453125 -0.5625 \nQ 10.6875 0.296875 5.421875 2 \nL 5.421875 11.28125 \nQ 10.40625 8.6875 15.234375 7.390625 \nQ 20.0625 6.109375 24.8125 6.109375 \nQ 31.15625 6.109375 34.5625 8.28125 \nQ 37.984375 10.453125 37.984375 14.40625 \nQ 37.984375 18.0625 35.515625 20.015625 \nQ 33.0625 21.96875 24.703125 23.78125 \nL 21.578125 24.515625 \nQ 13.234375 26.265625 9.515625 29.90625 \nQ 5.8125 33.546875 5.8125 39.890625 \nQ 5.8125 47.609375 11.28125 51.796875 \nQ 16.75 56 26.8125 56 \nQ 31.78125 56 36.171875 55.265625 \nQ 40.578125 54.546875 44.28125 53.078125 \nz\n\" id=\"DejaVuSans-115\"/>\n      <path d=\"M 30.609375 48.390625 \nQ 23.390625 48.390625 19.1875 42.75 \nQ 14.984375 37.109375 14.984375 27.296875 \nQ 14.984375 17.484375 19.15625 11.84375 \nQ 23.34375 6.203125 30.609375 6.203125 \nQ 37.796875 6.203125 41.984375 11.859375 \nQ 46.1875 17.53125 46.1875 27.296875 \nQ 46.1875 37.015625 41.984375 42.703125 \nQ 37.796875 48.390625 30.609375 48.390625 \nz\nM 30.609375 56 \nQ 42.328125 56 49.015625 48.375 \nQ 55.71875 40.765625 55.71875 27.296875 \nQ 55.71875 13.875 49.015625 6.21875 \nQ 42.328125 -1.421875 30.609375 -1.421875 \nQ 18.84375 -1.421875 12.171875 6.21875 \nQ 5.515625 13.875 5.515625 27.296875 \nQ 5.515625 40.765625 12.171875 48.375 \nQ 18.84375 56 30.609375 56 \nz\n\" id=\"DejaVuSans-111\"/>\n      <path id=\"DejaVuSans-32\"/>\n      <path d=\"M 12.40625 8.296875 \nL 28.515625 8.296875 \nL 28.515625 63.921875 \nL 10.984375 60.40625 \nL 10.984375 69.390625 \nL 28.421875 72.90625 \nL 38.28125 72.90625 \nL 38.28125 8.296875 \nL 54.390625 8.296875 \nL 54.390625 0 \nL 12.40625 0 \nz\n\" id=\"DejaVuSans-49\"/>\n     </defs>\n     <g transform=\"translate(150.773438 322.394687)scale(0.1 -0.1)\">\n      <use xlink:href=\"#DejaVuSans-68\"/>\n      <use x=\"77.001953\" xlink:href=\"#DejaVuSans-105\"/>\n      <use x=\"104.785156\" xlink:href=\"#DejaVuSans-109\"/>\n      <use x=\"202.197266\" xlink:href=\"#DejaVuSans-101\"/>\n      <use x=\"263.720703\" xlink:href=\"#DejaVuSans-110\"/>\n      <use x=\"327.099609\" xlink:href=\"#DejaVuSans-115\"/>\n      <use x=\"379.199219\" xlink:href=\"#DejaVuSans-105\"/>\n      <use x=\"406.982422\" xlink:href=\"#DejaVuSans-111\"/>\n      <use x=\"468.164062\" xlink:href=\"#DejaVuSans-110\"/>\n      <use x=\"531.542969\" xlink:href=\"#DejaVuSans-32\"/>\n      <use x=\"563.330078\" xlink:href=\"#DejaVuSans-49\"/>\n     </g>\n    </g>\n   </g>\n   <g id=\"matplotlib.axis_2\">\n    <g id=\"ytick_1\">\n     <g id=\"line2d_5\">\n      <defs>\n       <path d=\"M 0 0 \nL -3.5 0 \n\" id=\"m33beed22e9\" style=\"stroke:#000000;stroke-width:0.8;\"/>\n      </defs>\n      <g>\n       <use style=\"stroke:#000000;stroke-width:0.8;\" x=\"42.620313\" xlink:href=\"#m33beed22e9\" y=\"275.329307\"/>\n      </g>\n     </g>\n     <g id=\"text_6\">\n      <!-- −2 -->\n      <defs>\n       <path d=\"M 10.59375 35.5 \nL 73.1875 35.5 \nL 73.1875 27.203125 \nL 10.59375 27.203125 \nz\n\" id=\"DejaVuSans-8722\"/>\n      </defs>\n      <g transform=\"translate(20.878125 279.128526)scale(0.1 -0.1)\">\n       <use xlink:href=\"#DejaVuSans-8722\"/>\n       <use x=\"83.789062\" xlink:href=\"#DejaVuSans-50\"/>\n      </g>\n     </g>\n    </g>\n    <g id=\"ytick_2\">\n     <g id=\"line2d_6\">\n      <g>\n       <use style=\"stroke:#000000;stroke-width:0.8;\" x=\"42.620313\" xlink:href=\"#m33beed22e9\" y=\"216.654385\"/>\n      </g>\n     </g>\n     <g id=\"text_7\">\n      <!-- 0 -->\n      <g transform=\"translate(29.257813 220.453603)scale(0.1 -0.1)\">\n       <use xlink:href=\"#DejaVuSans-48\"/>\n      </g>\n     </g>\n    </g>\n    <g id=\"ytick_3\">\n     <g id=\"line2d_7\">\n      <g>\n       <use style=\"stroke:#000000;stroke-width:0.8;\" x=\"42.620313\" xlink:href=\"#m33beed22e9\" y=\"157.979462\"/>\n      </g>\n     </g>\n     <g id=\"text_8\">\n      <!-- 2 -->\n      <g transform=\"translate(29.257813 161.778681)scale(0.1 -0.1)\">\n       <use xlink:href=\"#DejaVuSans-50\"/>\n      </g>\n     </g>\n    </g>\n    <g id=\"ytick_4\">\n     <g id=\"line2d_8\">\n      <g>\n       <use style=\"stroke:#000000;stroke-width:0.8;\" x=\"42.620313\" xlink:href=\"#m33beed22e9\" y=\"99.30454\"/>\n      </g>\n     </g>\n     <g id=\"text_9\">\n      <!-- 4 -->\n      <g transform=\"translate(29.257813 103.103759)scale(0.1 -0.1)\">\n       <use xlink:href=\"#DejaVuSans-52\"/>\n      </g>\n     </g>\n    </g>\n    <g id=\"ytick_5\">\n     <g id=\"line2d_9\">\n      <g>\n       <use style=\"stroke:#000000;stroke-width:0.8;\" x=\"42.620313\" xlink:href=\"#m33beed22e9\" y=\"40.629618\"/>\n      </g>\n     </g>\n     <g id=\"text_10\">\n      <!-- 6 -->\n      <g transform=\"translate(29.257813 44.428837)scale(0.1 -0.1)\">\n       <use xlink:href=\"#DejaVuSans-54\"/>\n      </g>\n     </g>\n    </g>\n    <g id=\"text_11\">\n     <!-- Dimesnion 2 -->\n     <g transform=\"translate(14.798438 189.565)rotate(-90)scale(0.1 -0.1)\">\n      <use xlink:href=\"#DejaVuSans-68\"/>\n      <use x=\"77.001953\" xlink:href=\"#DejaVuSans-105\"/>\n      <use x=\"104.785156\" xlink:href=\"#DejaVuSans-109\"/>\n      <use x=\"202.197266\" xlink:href=\"#DejaVuSans-101\"/>\n      <use x=\"263.720703\" xlink:href=\"#DejaVuSans-115\"/>\n      <use x=\"315.820312\" xlink:href=\"#DejaVuSans-110\"/>\n      <use x=\"379.199219\" xlink:href=\"#DejaVuSans-105\"/>\n      <use x=\"406.982422\" xlink:href=\"#DejaVuSans-111\"/>\n      <use x=\"468.164062\" xlink:href=\"#DejaVuSans-110\"/>\n      <use x=\"531.542969\" xlink:href=\"#DejaVuSans-32\"/>\n      <use x=\"563.330078\" xlink:href=\"#DejaVuSans-50\"/>\n     </g>\n    </g>\n   </g>\n   <g id=\"line2d_10\">\n    <defs>\n     <path d=\"M -3 3 \nL 3 3 \nL 3 -3 \nL -3 -3 \nz\n\" id=\"m1def958fe2\" style=\"stroke:#0000ff;stroke-linejoin:miter;stroke-opacity:0.5;\"/>\n    </defs>\n    <g clip-path=\"url(#p0cde342037)\">\n     <use style=\"fill:#0000ff;fill-opacity:0.5;stroke:#0000ff;stroke-linejoin:miter;stroke-opacity:0.5;\" x=\"85.347193\" xlink:href=\"#m1def958fe2\" y=\"149.577638\"/>\n     <use style=\"fill:#0000ff;fill-opacity:0.5;stroke:#0000ff;stroke-linejoin:miter;stroke-opacity:0.5;\" x=\"107.286049\" xlink:href=\"#m1def958fe2\" y=\"187.257921\"/>\n     <use style=\"fill:#0000ff;fill-opacity:0.5;stroke:#0000ff;stroke-linejoin:miter;stroke-opacity:0.5;\" x=\"102.323256\" xlink:href=\"#m1def958fe2\" y=\"199.702534\"/>\n     <use style=\"fill:#0000ff;fill-opacity:0.5;stroke:#0000ff;stroke-linejoin:miter;stroke-opacity:0.5;\" x=\"83.722822\" xlink:href=\"#m1def958fe2\" y=\"197.081626\"/>\n     <use style=\"fill:#0000ff;fill-opacity:0.5;stroke:#0000ff;stroke-linejoin:miter;stroke-opacity:0.5;\" x=\"130.035851\" xlink:href=\"#m1def958fe2\" y=\"183.501784\"/>\n     <use style=\"fill:#0000ff;fill-opacity:0.5;stroke:#0000ff;stroke-linejoin:miter;stroke-opacity:0.5;\" x=\"117.458827\" xlink:href=\"#m1def958fe2\" y=\"170.002938\"/>\n     <use style=\"fill:#0000ff;fill-opacity:0.5;stroke:#0000ff;stroke-linejoin:miter;stroke-opacity:0.5;\" x=\"120.341764\" xlink:href=\"#m1def958fe2\" y=\"197.737297\"/>\n     <use style=\"fill:#0000ff;fill-opacity:0.5;stroke:#0000ff;stroke-linejoin:miter;stroke-opacity:0.5;\" x=\"154.581729\" xlink:href=\"#m1def958fe2\" y=\"160.077173\"/>\n     <use style=\"fill:#0000ff;fill-opacity:0.5;stroke:#0000ff;stroke-linejoin:miter;stroke-opacity:0.5;\" x=\"120.372754\" xlink:href=\"#m1def958fe2\" y=\"192.513424\"/>\n     <use style=\"fill:#0000ff;fill-opacity:0.5;stroke:#0000ff;stroke-linejoin:miter;stroke-opacity:0.5;\" x=\"157.481638\" xlink:href=\"#m1def958fe2\" y=\"281.76358\"/>\n     <use style=\"fill:#0000ff;fill-opacity:0.5;stroke:#0000ff;stroke-linejoin:miter;stroke-opacity:0.5;\" x=\"125.476954\" xlink:href=\"#m1def958fe2\" y=\"150.509024\"/>\n     <use style=\"fill:#0000ff;fill-opacity:0.5;stroke:#0000ff;stroke-linejoin:miter;stroke-opacity:0.5;\" x=\"82.120414\" xlink:href=\"#m1def958fe2\" y=\"242.804641\"/>\n     <use style=\"fill:#0000ff;fill-opacity:0.5;stroke:#0000ff;stroke-linejoin:miter;stroke-opacity:0.5;\" x=\"158.443241\" xlink:href=\"#m1def958fe2\" y=\"157.619716\"/>\n     <use style=\"fill:#0000ff;fill-opacity:0.5;stroke:#0000ff;stroke-linejoin:miter;stroke-opacity:0.5;\" x=\"111.966977\" xlink:href=\"#m1def958fe2\" y=\"187.574239\"/>\n     <use style=\"fill:#0000ff;fill-opacity:0.5;stroke:#0000ff;stroke-linejoin:miter;stroke-opacity:0.5;\" x=\"148.098142\" xlink:href=\"#m1def958fe2\" y=\"150.706328\"/>\n     <use style=\"fill:#0000ff;fill-opacity:0.5;stroke:#0000ff;stroke-linejoin:miter;stroke-opacity:0.5;\" x=\"93.424798\" xlink:href=\"#m1def958fe2\" y=\"196.696287\"/>\n     <use style=\"fill:#0000ff;fill-opacity:0.5;stroke:#0000ff;stroke-linejoin:miter;stroke-opacity:0.5;\" x=\"161.914739\" xlink:href=\"#m1def958fe2\" y=\"192.912434\"/>\n     <use style=\"fill:#0000ff;fill-opacity:0.5;stroke:#0000ff;stroke-linejoin:miter;stroke-opacity:0.5;\" x=\"99.863914\" xlink:href=\"#m1def958fe2\" y=\"204.561021\"/>\n     <use style=\"fill:#0000ff;fill-opacity:0.5;stroke:#0000ff;stroke-linejoin:miter;stroke-opacity:0.5;\" x=\"123.135843\" xlink:href=\"#m1def958fe2\" y=\"165.407408\"/>\n     <use style=\"fill:#0000ff;fill-opacity:0.5;stroke:#0000ff;stroke-linejoin:miter;stroke-opacity:0.5;\" x=\"136.715173\" xlink:href=\"#m1def958fe2\" y=\"206.070946\"/>\n     <use style=\"fill:#0000ff;fill-opacity:0.5;stroke:#0000ff;stroke-linejoin:miter;stroke-opacity:0.5;\" x=\"153.651087\" xlink:href=\"#m1def958fe2\" y=\"229.877999\"/>\n     <use style=\"fill:#0000ff;fill-opacity:0.5;stroke:#0000ff;stroke-linejoin:miter;stroke-opacity:0.5;\" x=\"118.206218\" xlink:href=\"#m1def958fe2\" y=\"220.12914\"/>\n     <use style=\"fill:#0000ff;fill-opacity:0.5;stroke:#0000ff;stroke-linejoin:miter;stroke-opacity:0.5;\" x=\"57.646459\" xlink:href=\"#m1def958fe2\" y=\"205.915041\"/>\n     <use style=\"fill:#0000ff;fill-opacity:0.5;stroke:#0000ff;stroke-linejoin:miter;stroke-opacity:0.5;\" x=\"88.401001\" xlink:href=\"#m1def958fe2\" y=\"218.583339\"/>\n     <use style=\"fill:#0000ff;fill-opacity:0.5;stroke:#0000ff;stroke-linejoin:miter;stroke-opacity:0.5;\" x=\"68.356805\" xlink:href=\"#m1def958fe2\" y=\"221.720398\"/>\n     <use style=\"fill:#0000ff;fill-opacity:0.5;stroke:#0000ff;stroke-linejoin:miter;stroke-opacity:0.5;\" x=\"119.217317\" xlink:href=\"#m1def958fe2\" y=\"177.544386\"/>\n     <use style=\"fill:#0000ff;fill-opacity:0.5;stroke:#0000ff;stroke-linejoin:miter;stroke-opacity:0.5;\" x=\"96.681255\" xlink:href=\"#m1def958fe2\" y=\"199.505778\"/>\n     <use style=\"fill:#0000ff;fill-opacity:0.5;stroke:#0000ff;stroke-linejoin:miter;stroke-opacity:0.5;\" x=\"111.567159\" xlink:href=\"#m1def958fe2\" y=\"241.452141\"/>\n     <use style=\"fill:#0000ff;fill-opacity:0.5;stroke:#0000ff;stroke-linejoin:miter;stroke-opacity:0.5;\" x=\"155.065988\" xlink:href=\"#m1def958fe2\" y=\"198.657587\"/>\n     <use style=\"fill:#0000ff;fill-opacity:0.5;stroke:#0000ff;stroke-linejoin:miter;stroke-opacity:0.5;\" x=\"111.660126\" xlink:href=\"#m1def958fe2\" y=\"168.125631\"/>\n     <use style=\"fill:#0000ff;fill-opacity:0.5;stroke:#0000ff;stroke-linejoin:miter;stroke-opacity:0.5;\" x=\"71.679688\" xlink:href=\"#m1def958fe2\" y=\"169.034557\"/>\n     <use style=\"fill:#0000ff;fill-opacity:0.5;stroke:#0000ff;stroke-linejoin:miter;stroke-opacity:0.5;\" x=\"76.832069\" xlink:href=\"#m1def958fe2\" y=\"217.810049\"/>\n     <use style=\"fill:#0000ff;fill-opacity:0.5;stroke:#0000ff;stroke-linejoin:miter;stroke-opacity:0.5;\" x=\"152.525939\" xlink:href=\"#m1def958fe2\" y=\"157.846425\"/>\n     <use style=\"fill:#0000ff;fill-opacity:0.5;stroke:#0000ff;stroke-linejoin:miter;stroke-opacity:0.5;\" x=\"157.512888\" xlink:href=\"#m1def958fe2\" y=\"212.050824\"/>\n     <use style=\"fill:#0000ff;fill-opacity:0.5;stroke:#0000ff;stroke-linejoin:miter;stroke-opacity:0.5;\" x=\"115.716589\" xlink:href=\"#m1def958fe2\" y=\"201.808308\"/>\n     <use style=\"fill:#0000ff;fill-opacity:0.5;stroke:#0000ff;stroke-linejoin:miter;stroke-opacity:0.5;\" x=\"108.313978\" xlink:href=\"#m1def958fe2\" y=\"177.663479\"/>\n     <use style=\"fill:#0000ff;fill-opacity:0.5;stroke:#0000ff;stroke-linejoin:miter;stroke-opacity:0.5;\" x=\"55.302131\" xlink:href=\"#m1def958fe2\" y=\"158.270784\"/>\n     <use style=\"fill:#0000ff;fill-opacity:0.5;stroke:#0000ff;stroke-linejoin:miter;stroke-opacity:0.5;\" x=\"107.190068\" xlink:href=\"#m1def958fe2\" y=\"188.245888\"/>\n     <use style=\"fill:#0000ff;fill-opacity:0.5;stroke:#0000ff;stroke-linejoin:miter;stroke-opacity:0.5;\" x=\"138.905499\" xlink:href=\"#m1def958fe2\" y=\"216.899949\"/>\n     <use style=\"fill:#0000ff;fill-opacity:0.5;stroke:#0000ff;stroke-linejoin:miter;stroke-opacity:0.5;\" x=\"140.116733\" xlink:href=\"#m1def958fe2\" y=\"218.852456\"/>\n     <use style=\"fill:#0000ff;fill-opacity:0.5;stroke:#0000ff;stroke-linejoin:miter;stroke-opacity:0.5;\" x=\"139.985582\" xlink:href=\"#m1def958fe2\" y=\"188.255018\"/>\n     <use style=\"fill:#0000ff;fill-opacity:0.5;stroke:#0000ff;stroke-linejoin:miter;stroke-opacity:0.5;\" x=\"110.402534\" xlink:href=\"#m1def958fe2\" y=\"192.893363\"/>\n     <use style=\"fill:#0000ff;fill-opacity:0.5;stroke:#0000ff;stroke-linejoin:miter;stroke-opacity:0.5;\" x=\"173.762167\" xlink:href=\"#m1def958fe2\" y=\"228.637386\"/>\n     <use style=\"fill:#0000ff;fill-opacity:0.5;stroke:#0000ff;stroke-linejoin:miter;stroke-opacity:0.5;\" x=\"136.967394\" xlink:href=\"#m1def958fe2\" y=\"148.74554\"/>\n     <use style=\"fill:#0000ff;fill-opacity:0.5;stroke:#0000ff;stroke-linejoin:miter;stroke-opacity:0.5;\" x=\"74.788994\" xlink:href=\"#m1def958fe2\" y=\"201.660505\"/>\n     <use style=\"fill:#0000ff;fill-opacity:0.5;stroke:#0000ff;stroke-linejoin:miter;stroke-opacity:0.5;\" x=\"151.336009\" xlink:href=\"#m1def958fe2\" y=\"188.371834\"/>\n     <use style=\"fill:#0000ff;fill-opacity:0.5;stroke:#0000ff;stroke-linejoin:miter;stroke-opacity:0.5;\" x=\"202.605949\" xlink:href=\"#m1def958fe2\" y=\"174.883753\"/>\n     <use style=\"fill:#0000ff;fill-opacity:0.5;stroke:#0000ff;stroke-linejoin:miter;stroke-opacity:0.5;\" x=\"131.88143\" xlink:href=\"#m1def958fe2\" y=\"157.292628\"/>\n     <use style=\"fill:#0000ff;fill-opacity:0.5;stroke:#0000ff;stroke-linejoin:miter;stroke-opacity:0.5;\" x=\"77.824651\" xlink:href=\"#m1def958fe2\" y=\"227.178281\"/>\n     <use style=\"fill:#0000ff;fill-opacity:0.5;stroke:#0000ff;stroke-linejoin:miter;stroke-opacity:0.5;\" x=\"132.52078\" xlink:href=\"#m1def958fe2\" y=\"193.671767\"/>\n    </g>\n   </g>\n   <g id=\"line2d_11\">\n    <defs>\n     <path d=\"M 0 3 \nC 0.795609 3 1.55874 2.683901 2.12132 2.12132 \nC 2.683901 1.55874 3 0.795609 3 0 \nC 3 -0.795609 2.683901 -1.55874 2.12132 -2.12132 \nC 1.55874 -2.683901 0.795609 -3 0 -3 \nC -0.795609 -3 -1.55874 -2.683901 -2.12132 -2.12132 \nC -2.683901 -1.55874 -3 -0.795609 -3 0 \nC -3 0.795609 -2.683901 1.55874 -2.12132 2.12132 \nC -1.55874 2.683901 -0.795609 3 0 3 \nz\n\" id=\"ma12c3dde55\" style=\"stroke:#000000;stroke-opacity:0.5;\"/>\n    </defs>\n    <g clip-path=\"url(#p0cde342037)\">\n     <use style=\"fill-opacity:0.5;stroke:#000000;stroke-opacity:0.5;\" x=\"226.532824\" xlink:href=\"#ma12c3dde55\" y=\"189.441581\"/>\n     <use style=\"fill-opacity:0.5;stroke:#000000;stroke-opacity:0.5;\" x=\"220.471481\" xlink:href=\"#ma12c3dde55\" y=\"195.961934\"/>\n     <use style=\"fill-opacity:0.5;stroke:#000000;stroke-opacity:0.5;\" x=\"206.656772\" xlink:href=\"#ma12c3dde55\" y=\"174.637015\"/>\n     <use style=\"fill-opacity:0.5;stroke:#000000;stroke-opacity:0.5;\" x=\"220.950618\" xlink:href=\"#ma12c3dde55\" y=\"205.098458\"/>\n     <use style=\"fill-opacity:0.5;stroke:#000000;stroke-opacity:0.5;\" x=\"219.597941\" xlink:href=\"#ma12c3dde55\" y=\"214.954506\"/>\n     <use style=\"fill-opacity:0.5;stroke:#000000;stroke-opacity:0.5;\" x=\"293.396125\" xlink:href=\"#ma12c3dde55\" y=\"177.662175\"/>\n     <use style=\"fill-opacity:0.5;stroke:#000000;stroke-opacity:0.5;\" x=\"281.961688\" xlink:href=\"#ma12c3dde55\" y=\"208.139722\"/>\n     <use style=\"fill-opacity:0.5;stroke:#000000;stroke-opacity:0.5;\" x=\"191.545596\" xlink:href=\"#ma12c3dde55\" y=\"234.10804\"/>\n     <use style=\"fill-opacity:0.5;stroke:#000000;stroke-opacity:0.5;\" x=\"224.888463\" xlink:href=\"#ma12c3dde55\" y=\"194.021065\"/>\n     <use style=\"fill-opacity:0.5;stroke:#000000;stroke-opacity:0.5;\" x=\"265.146246\" xlink:href=\"#ma12c3dde55\" y=\"134.53641\"/>\n     <use style=\"fill-opacity:0.5;stroke:#000000;stroke-opacity:0.5;\" x=\"216.492249\" xlink:href=\"#ma12c3dde55\" y=\"177.899071\"/>\n     <use style=\"fill-opacity:0.5;stroke:#000000;stroke-opacity:0.5;\" x=\"217.793249\" xlink:href=\"#ma12c3dde55\" y=\"112.465026\"/>\n     <use style=\"fill-opacity:0.5;stroke:#000000;stroke-opacity:0.5;\" x=\"293.240303\" xlink:href=\"#ma12c3dde55\" y=\"167.031952\"/>\n     <use style=\"fill-opacity:0.5;stroke:#000000;stroke-opacity:0.5;\" x=\"229.076375\" xlink:href=\"#ma12c3dde55\" y=\"208.150116\"/>\n     <use style=\"fill-opacity:0.5;stroke:#000000;stroke-opacity:0.5;\" x=\"256.88114\" xlink:href=\"#ma12c3dde55\" y=\"182.712066\"/>\n     <use style=\"fill-opacity:0.5;stroke:#000000;stroke-opacity:0.5;\" x=\"206.417615\" xlink:href=\"#ma12c3dde55\" y=\"207.496312\"/>\n     <use style=\"fill-opacity:0.5;stroke:#000000;stroke-opacity:0.5;\" x=\"253.06907\" xlink:href=\"#ma12c3dde55\" y=\"240.547392\"/>\n     <use style=\"fill-opacity:0.5;stroke:#000000;stroke-opacity:0.5;\" x=\"219.466272\" xlink:href=\"#ma12c3dde55\" y=\"195.801503\"/>\n     <use style=\"fill-opacity:0.5;stroke:#000000;stroke-opacity:0.5;\" x=\"236.526823\" xlink:href=\"#ma12c3dde55\" y=\"96.908485\"/>\n     <use style=\"fill-opacity:0.5;stroke:#000000;stroke-opacity:0.5;\" x=\"242.917375\" xlink:href=\"#ma12c3dde55\" y=\"154.120348\"/>\n     <use style=\"fill-opacity:0.5;stroke:#000000;stroke-opacity:0.5;\" x=\"239.15655\" xlink:href=\"#ma12c3dde55\" y=\"155.258488\"/>\n     <use style=\"fill-opacity:0.5;stroke:#000000;stroke-opacity:0.5;\" x=\"300.787231\" xlink:href=\"#ma12c3dde55\" y=\"217.411905\"/>\n     <use style=\"fill-opacity:0.5;stroke:#000000;stroke-opacity:0.5;\" x=\"190.650923\" xlink:href=\"#ma12c3dde55\" y=\"205.860393\"/>\n     <use style=\"fill-opacity:0.5;stroke:#000000;stroke-opacity:0.5;\" x=\"229.966112\" xlink:href=\"#ma12c3dde55\" y=\"134.516238\"/>\n     <use style=\"fill-opacity:0.5;stroke:#000000;stroke-opacity:0.5;\" x=\"252.358658\" xlink:href=\"#ma12c3dde55\" y=\"225.914992\"/>\n     <use style=\"fill-opacity:0.5;stroke:#000000;stroke-opacity:0.5;\" x=\"215.461216\" xlink:href=\"#ma12c3dde55\" y=\"165.040262\"/>\n     <use style=\"fill-opacity:0.5;stroke:#000000;stroke-opacity:0.5;\" x=\"282.936001\" xlink:href=\"#ma12c3dde55\" y=\"249.29106\"/>\n     <use style=\"fill-opacity:0.5;stroke:#000000;stroke-opacity:0.5;\" x=\"290.610419\" xlink:href=\"#ma12c3dde55\" y=\"257.96942\"/>\n     <use style=\"fill-opacity:0.5;stroke:#000000;stroke-opacity:0.5;\" x=\"308.938494\" xlink:href=\"#ma12c3dde55\" y=\"211.690661\"/>\n     <use style=\"fill-opacity:0.5;stroke:#000000;stroke-opacity:0.5;\" x=\"161.700389\" xlink:href=\"#ma12c3dde55\" y=\"197.865732\"/>\n     <use style=\"fill-opacity:0.5;stroke:#000000;stroke-opacity:0.5;\" x=\"246.961585\" xlink:href=\"#ma12c3dde55\" y=\"195.494863\"/>\n     <use style=\"fill-opacity:0.5;stroke:#000000;stroke-opacity:0.5;\" x=\"189.0587\" xlink:href=\"#ma12c3dde55\" y=\"209.475636\"/>\n     <use style=\"fill-opacity:0.5;stroke:#000000;stroke-opacity:0.5;\" x=\"208.648773\" xlink:href=\"#ma12c3dde55\" y=\"153.217227\"/>\n     <use style=\"fill-opacity:0.5;stroke:#000000;stroke-opacity:0.5;\" x=\"278.105465\" xlink:href=\"#ma12c3dde55\" y=\"171.198192\"/>\n     <use style=\"fill-opacity:0.5;stroke:#000000;stroke-opacity:0.5;\" x=\"216.45945\" xlink:href=\"#ma12c3dde55\" y=\"207.681249\"/>\n     <use style=\"fill-opacity:0.5;stroke:#000000;stroke-opacity:0.5;\" x=\"218.687093\" xlink:href=\"#ma12c3dde55\" y=\"156.026963\"/>\n     <use style=\"fill-opacity:0.5;stroke:#000000;stroke-opacity:0.5;\" x=\"219.391741\" xlink:href=\"#ma12c3dde55\" y=\"136.758181\"/>\n     <use style=\"fill-opacity:0.5;stroke:#000000;stroke-opacity:0.5;\" x=\"264.302234\" xlink:href=\"#ma12c3dde55\" y=\"200.376734\"/>\n     <use style=\"fill-opacity:0.5;stroke:#000000;stroke-opacity:0.5;\" x=\"243.486016\" xlink:href=\"#ma12c3dde55\" y=\"190.650471\"/>\n     <use style=\"fill-opacity:0.5;stroke:#000000;stroke-opacity:0.5;\" x=\"191.154839\" xlink:href=\"#ma12c3dde55\" y=\"201.11625\"/>\n     <use style=\"fill-opacity:0.5;stroke:#000000;stroke-opacity:0.5;\" x=\"201.928767\" xlink:href=\"#ma12c3dde55\" y=\"200.228473\"/>\n     <use style=\"fill-opacity:0.5;stroke:#000000;stroke-opacity:0.5;\" x=\"199.710693\" xlink:href=\"#ma12c3dde55\" y=\"222.191715\"/>\n     <use style=\"fill-opacity:0.5;stroke:#000000;stroke-opacity:0.5;\" x=\"233.706662\" xlink:href=\"#ma12c3dde55\" y=\"162.118987\"/>\n     <use style=\"fill-opacity:0.5;stroke:#000000;stroke-opacity:0.5;\" x=\"226.313163\" xlink:href=\"#ma12c3dde55\" y=\"222.764775\"/>\n     <use style=\"fill-opacity:0.5;stroke:#000000;stroke-opacity:0.5;\" x=\"248.916306\" xlink:href=\"#ma12c3dde55\" y=\"195.155811\"/>\n     <use style=\"fill-opacity:0.5;stroke:#000000;stroke-opacity:0.5;\" x=\"243.196753\" xlink:href=\"#ma12c3dde55\" y=\"145.853694\"/>\n     <use style=\"fill-opacity:0.5;stroke:#000000;stroke-opacity:0.5;\" x=\"214.233105\" xlink:href=\"#ma12c3dde55\" y=\"201.012592\"/>\n     <use style=\"fill-opacity:0.5;stroke:#000000;stroke-opacity:0.5;\" x=\"250.275827\" xlink:href=\"#ma12c3dde55\" y=\"202.523445\"/>\n     <use style=\"fill-opacity:0.5;stroke:#000000;stroke-opacity:0.5;\" x=\"280.139069\" xlink:href=\"#ma12c3dde55\" y=\"159.829362\"/>\n     <use style=\"fill-opacity:0.5;stroke:#000000;stroke-opacity:0.5;\" x=\"209.620471\" xlink:href=\"#ma12c3dde55\" y=\"229.35568\"/>\n    </g>\n   </g>\n   <g id=\"line2d_12\">\n    <defs>\n     <path d=\"M 0 -3 \nL -3 3 \nL 3 3 \nz\n\" id=\"m83595b4590\" style=\"stroke:#ff0000;stroke-linejoin:miter;stroke-opacity:0.5;\"/>\n    </defs>\n    <g clip-path=\"url(#p0cde342037)\">\n     <use style=\"fill:#ff0000;fill-opacity:0.5;stroke:#ff0000;stroke-linejoin:miter;stroke-opacity:0.5;\" x=\"219.519289\" xlink:href=\"#m83595b4590\" y=\"88.756578\"/>\n     <use style=\"fill:#ff0000;fill-opacity:0.5;stroke:#ff0000;stroke-linejoin:miter;stroke-opacity:0.5;\" x=\"201.970817\" xlink:href=\"#m83595b4590\" y=\"108.30434\"/>\n     <use style=\"fill:#ff0000;fill-opacity:0.5;stroke:#ff0000;stroke-linejoin:miter;stroke-opacity:0.5;\" x=\"209.611932\" xlink:href=\"#m83595b4590\" y=\"133.337397\"/>\n     <use style=\"fill:#ff0000;fill-opacity:0.5;stroke:#ff0000;stroke-linejoin:miter;stroke-opacity:0.5;\" x=\"146.072698\" xlink:href=\"#m83595b4590\" y=\"126.573706\"/>\n     <use style=\"fill:#ff0000;fill-opacity:0.5;stroke:#ff0000;stroke-linejoin:miter;stroke-opacity:0.5;\" x=\"284.483955\" xlink:href=\"#m83595b4590\" y=\"94.735824\"/>\n     <use style=\"fill:#ff0000;fill-opacity:0.5;stroke:#ff0000;stroke-linejoin:miter;stroke-opacity:0.5;\" x=\"145.437833\" xlink:href=\"#m83595b4590\" y=\"139.963139\"/>\n     <use style=\"fill:#ff0000;fill-opacity:0.5;stroke:#ff0000;stroke-linejoin:miter;stroke-opacity:0.5;\" x=\"217.226193\" xlink:href=\"#m83595b4590\" y=\"98.263534\"/>\n     <use style=\"fill:#ff0000;fill-opacity:0.5;stroke:#ff0000;stroke-linejoin:miter;stroke-opacity:0.5;\" x=\"196.976224\" xlink:href=\"#m83595b4590\" y=\"55.599941\"/>\n     <use style=\"fill:#ff0000;fill-opacity:0.5;stroke:#ff0000;stroke-linejoin:miter;stroke-opacity:0.5;\" x=\"207.726382\" xlink:href=\"#m83595b4590\" y=\"73.861236\"/>\n     <use style=\"fill:#ff0000;fill-opacity:0.5;stroke:#ff0000;stroke-linejoin:miter;stroke-opacity:0.5;\" x=\"241.416501\" xlink:href=\"#m83595b4590\" y=\"87.913072\"/>\n     <use style=\"fill:#ff0000;fill-opacity:0.5;stroke:#ff0000;stroke-linejoin:miter;stroke-opacity:0.5;\" x=\"221.818091\" xlink:href=\"#m83595b4590\" y=\"80.103619\"/>\n     <use style=\"fill:#ff0000;fill-opacity:0.5;stroke:#ff0000;stroke-linejoin:miter;stroke-opacity:0.5;\" x=\"228.945872\" xlink:href=\"#m83595b4590\" y=\"121.321003\"/>\n     <use style=\"fill:#ff0000;fill-opacity:0.5;stroke:#ff0000;stroke-linejoin:miter;stroke-opacity:0.5;\" x=\"232.432047\" xlink:href=\"#m83595b4590\" y=\"34.67267\"/>\n     <use style=\"fill:#ff0000;fill-opacity:0.5;stroke:#ff0000;stroke-linejoin:miter;stroke-opacity:0.5;\" x=\"224.090954\" xlink:href=\"#m83595b4590\" y=\"70.823008\"/>\n     <use style=\"fill:#ff0000;fill-opacity:0.5;stroke:#ff0000;stroke-linejoin:miter;stroke-opacity:0.5;\" x=\"176.705633\" xlink:href=\"#m83595b4590\" y=\"139.241773\"/>\n     <use style=\"fill:#ff0000;fill-opacity:0.5;stroke:#ff0000;stroke-linejoin:miter;stroke-opacity:0.5;\" x=\"245.59225\" xlink:href=\"#m83595b4590\" y=\"101.796358\"/>\n     <use style=\"fill:#ff0000;fill-opacity:0.5;stroke:#ff0000;stroke-linejoin:miter;stroke-opacity:0.5;\" x=\"233.884315\" xlink:href=\"#m83595b4590\" y=\"77.769509\"/>\n     <use style=\"fill:#ff0000;fill-opacity:0.5;stroke:#ff0000;stroke-linejoin:miter;stroke-opacity:0.5;\" x=\"262.98678\" xlink:href=\"#m83595b4590\" y=\"50.774062\"/>\n     <use style=\"fill:#ff0000;fill-opacity:0.5;stroke:#ff0000;stroke-linejoin:miter;stroke-opacity:0.5;\" x=\"224.098375\" xlink:href=\"#m83595b4590\" y=\"64.229118\"/>\n     <use style=\"fill:#ff0000;fill-opacity:0.5;stroke:#ff0000;stroke-linejoin:miter;stroke-opacity:0.5;\" x=\"258.881873\" xlink:href=\"#m83595b4590\" y=\"92.419913\"/>\n     <use style=\"fill:#ff0000;fill-opacity:0.5;stroke:#ff0000;stroke-linejoin:miter;stroke-opacity:0.5;\" x=\"300.564862\" xlink:href=\"#m83595b4590\" y=\"85.544478\"/>\n     <use style=\"fill:#ff0000;fill-opacity:0.5;stroke:#ff0000;stroke-linejoin:miter;stroke-opacity:0.5;\" x=\"211.158669\" xlink:href=\"#m83595b4590\" y=\"82.084307\"/>\n     <use style=\"fill:#ff0000;fill-opacity:0.5;stroke:#ff0000;stroke-linejoin:miter;stroke-opacity:0.5;\" x=\"217.331823\" xlink:href=\"#m83595b4590\" y=\"129.710335\"/>\n     <use style=\"fill:#ff0000;fill-opacity:0.5;stroke:#ff0000;stroke-linejoin:miter;stroke-opacity:0.5;\" x=\"201.436964\" xlink:href=\"#m83595b4590\" y=\"93.177246\"/>\n     <use style=\"fill:#ff0000;fill-opacity:0.5;stroke:#ff0000;stroke-linejoin:miter;stroke-opacity:0.5;\" x=\"193.970137\" xlink:href=\"#m83595b4590\" y=\"127.442575\"/>\n     <use style=\"fill:#ff0000;fill-opacity:0.5;stroke:#ff0000;stroke-linejoin:miter;stroke-opacity:0.5;\" x=\"232.301934\" xlink:href=\"#m83595b4590\" y=\"90.398545\"/>\n     <use style=\"fill:#ff0000;fill-opacity:0.5;stroke:#ff0000;stroke-linejoin:miter;stroke-opacity:0.5;\" x=\"192.277681\" xlink:href=\"#m83595b4590\" y=\"171.335318\"/>\n     <use style=\"fill:#ff0000;fill-opacity:0.5;stroke:#ff0000;stroke-linejoin:miter;stroke-opacity:0.5;\" x=\"181.88724\" xlink:href=\"#m83595b4590\" y=\"47.867248\"/>\n     <use style=\"fill:#ff0000;fill-opacity:0.5;stroke:#ff0000;stroke-linejoin:miter;stroke-opacity:0.5;\" x=\"260.080818\" xlink:href=\"#m83595b4590\" y=\"123.304964\"/>\n     <use style=\"fill:#ff0000;fill-opacity:0.5;stroke:#ff0000;stroke-linejoin:miter;stroke-opacity:0.5;\" x=\"203.491694\" xlink:href=\"#m83595b4590\" y=\"94.189308\"/>\n     <use style=\"fill:#ff0000;fill-opacity:0.5;stroke:#ff0000;stroke-linejoin:miter;stroke-opacity:0.5;\" x=\"205.214859\" xlink:href=\"#m83595b4590\" y=\"99.195075\"/>\n     <use style=\"fill:#ff0000;fill-opacity:0.5;stroke:#ff0000;stroke-linejoin:miter;stroke-opacity:0.5;\" x=\"201.946305\" xlink:href=\"#m83595b4590\" y=\"126.632062\"/>\n     <use style=\"fill:#ff0000;fill-opacity:0.5;stroke:#ff0000;stroke-linejoin:miter;stroke-opacity:0.5;\" x=\"186.292671\" xlink:href=\"#m83595b4590\" y=\"35.883365\"/>\n     <use style=\"fill:#ff0000;fill-opacity:0.5;stroke:#ff0000;stroke-linejoin:miter;stroke-opacity:0.5;\" x=\"195.183888\" xlink:href=\"#m83595b4590\" y=\"122.637295\"/>\n     <use style=\"fill:#ff0000;fill-opacity:0.5;stroke:#ff0000;stroke-linejoin:miter;stroke-opacity:0.5;\" x=\"254.249281\" xlink:href=\"#m83595b4590\" y=\"115.271174\"/>\n     <use style=\"fill:#ff0000;fill-opacity:0.5;stroke:#ff0000;stroke-linejoin:miter;stroke-opacity:0.5;\" x=\"188.097097\" xlink:href=\"#m83595b4590\" y=\"98.759172\"/>\n     <use style=\"fill:#ff0000;fill-opacity:0.5;stroke:#ff0000;stroke-linejoin:miter;stroke-opacity:0.5;\" x=\"226.618076\" xlink:href=\"#m83595b4590\" y=\"133.689595\"/>\n     <use style=\"fill:#ff0000;fill-opacity:0.5;stroke:#ff0000;stroke-linejoin:miter;stroke-opacity:0.5;\" x=\"204.513893\" xlink:href=\"#m83595b4590\" y=\"163.691284\"/>\n     <use style=\"fill:#ff0000;fill-opacity:0.5;stroke:#ff0000;stroke-linejoin:miter;stroke-opacity:0.5;\" x=\"216.276969\" xlink:href=\"#m83595b4590\" y=\"93.669708\"/>\n     <use style=\"fill:#ff0000;fill-opacity:0.5;stroke:#ff0000;stroke-linejoin:miter;stroke-opacity:0.5;\" x=\"197.433464\" xlink:href=\"#m83595b4590\" y=\"70.558192\"/>\n     <use style=\"fill:#ff0000;fill-opacity:0.5;stroke:#ff0000;stroke-linejoin:miter;stroke-opacity:0.5;\" x=\"205.001856\" xlink:href=\"#m83595b4590\" y=\"164.608807\"/>\n     <use style=\"fill:#ff0000;fill-opacity:0.5;stroke:#ff0000;stroke-linejoin:miter;stroke-opacity:0.5;\" x=\"187.176507\" xlink:href=\"#m83595b4590\" y=\"101.686606\"/>\n     <use style=\"fill:#ff0000;fill-opacity:0.5;stroke:#ff0000;stroke-linejoin:miter;stroke-opacity:0.5;\" x=\"287.845377\" xlink:href=\"#m83595b4590\" y=\"67.655841\"/>\n     <use style=\"fill:#ff0000;fill-opacity:0.5;stroke:#ff0000;stroke-linejoin:miter;stroke-opacity:0.5;\" x=\"254.244597\" xlink:href=\"#m83595b4590\" y=\"87.742431\"/>\n     <use style=\"fill:#ff0000;fill-opacity:0.5;stroke:#ff0000;stroke-linejoin:miter;stroke-opacity:0.5;\" x=\"162.167529\" xlink:href=\"#m83595b4590\" y=\"103.005961\"/>\n     <use style=\"fill:#ff0000;fill-opacity:0.5;stroke:#ff0000;stroke-linejoin:miter;stroke-opacity:0.5;\" x=\"232.008132\" xlink:href=\"#m83595b4590\" y=\"111.583022\"/>\n     <use style=\"fill:#ff0000;fill-opacity:0.5;stroke:#ff0000;stroke-linejoin:miter;stroke-opacity:0.5;\" x=\"198.339024\" xlink:href=\"#m83595b4590\" y=\"58.797955\"/>\n     <use style=\"fill:#ff0000;fill-opacity:0.5;stroke:#ff0000;stroke-linejoin:miter;stroke-opacity:0.5;\" x=\"206.131061\" xlink:href=\"#m83595b4590\" y=\"59.323277\"/>\n     <use style=\"fill:#ff0000;fill-opacity:0.5;stroke:#ff0000;stroke-linejoin:miter;stroke-opacity:0.5;\" x=\"224.889774\" xlink:href=\"#m83595b4590\" y=\"85.423317\"/>\n     <use style=\"fill:#ff0000;fill-opacity:0.5;stroke:#ff0000;stroke-linejoin:miter;stroke-opacity:0.5;\" x=\"234.570071\" xlink:href=\"#m83595b4590\" y=\"83.982179\"/>\n    </g>\n   </g>\n   <g id=\"patch_3\">\n    <path d=\"M 42.620313 294.118125 \nL 42.620313 22.318125 \n\" style=\"fill:none;stroke:#000000;stroke-linecap:square;stroke-linejoin:miter;stroke-width:0.8;\"/>\n   </g>\n   <g id=\"patch_4\">\n    <path d=\"M 321.620313 294.118125 \nL 321.620313 22.318125 \n\" style=\"fill:none;stroke:#000000;stroke-linecap:square;stroke-linejoin:miter;stroke-width:0.8;\"/>\n   </g>\n   <g id=\"patch_5\">\n    <path d=\"M 42.620312 294.118125 \nL 321.620313 294.118125 \n\" style=\"fill:none;stroke:#000000;stroke-linecap:square;stroke-linejoin:miter;stroke-width:0.8;\"/>\n   </g>\n   <g id=\"patch_6\">\n    <path d=\"M 42.620312 22.318125 \nL 321.620313 22.318125 \n\" style=\"fill:none;stroke:#000000;stroke-linecap:square;stroke-linejoin:miter;stroke-width:0.8;\"/>\n   </g>\n   <g id=\"text_12\">\n    <!-- Some Random Data -->\n    <defs>\n     <path d=\"M 53.515625 70.515625 \nL 53.515625 60.890625 \nQ 47.90625 63.578125 42.921875 64.890625 \nQ 37.9375 66.21875 33.296875 66.21875 \nQ 25.25 66.21875 20.875 63.09375 \nQ 16.5 59.96875 16.5 54.203125 \nQ 16.5 49.359375 19.40625 46.890625 \nQ 22.3125 44.4375 30.421875 42.921875 \nL 36.375 41.703125 \nQ 47.40625 39.59375 52.65625 34.296875 \nQ 57.90625 29 57.90625 20.125 \nQ 57.90625 9.515625 50.796875 4.046875 \nQ 43.703125 -1.421875 29.984375 -1.421875 \nQ 24.8125 -1.421875 18.96875 -0.25 \nQ 13.140625 0.921875 6.890625 3.21875 \nL 6.890625 13.375 \nQ 12.890625 10.015625 18.65625 8.296875 \nQ 24.421875 6.59375 29.984375 6.59375 \nQ 38.421875 6.59375 43.015625 9.90625 \nQ 47.609375 13.234375 47.609375 19.390625 \nQ 47.609375 24.75 44.3125 27.78125 \nQ 41.015625 30.8125 33.5 32.328125 \nL 27.484375 33.5 \nQ 16.453125 35.6875 11.515625 40.375 \nQ 6.59375 45.0625 6.59375 53.421875 \nQ 6.59375 63.09375 13.40625 68.65625 \nQ 20.21875 74.21875 32.171875 74.21875 \nQ 37.3125 74.21875 42.625 73.28125 \nQ 47.953125 72.359375 53.515625 70.515625 \nz\n\" id=\"DejaVuSans-83\"/>\n     <path d=\"M 44.390625 34.1875 \nQ 47.5625 33.109375 50.5625 29.59375 \nQ 53.5625 26.078125 56.59375 19.921875 \nL 66.609375 0 \nL 56 0 \nL 46.6875 18.703125 \nQ 43.0625 26.03125 39.671875 28.421875 \nQ 36.28125 30.8125 30.421875 30.8125 \nL 19.671875 30.8125 \nL 19.671875 0 \nL 9.8125 0 \nL 9.8125 72.90625 \nL 32.078125 72.90625 \nQ 44.578125 72.90625 50.734375 67.671875 \nQ 56.890625 62.453125 56.890625 51.90625 \nQ 56.890625 45.015625 53.6875 40.46875 \nQ 50.484375 35.9375 44.390625 34.1875 \nz\nM 19.671875 64.796875 \nL 19.671875 38.921875 \nL 32.078125 38.921875 \nQ 39.203125 38.921875 42.84375 42.21875 \nQ 46.484375 45.515625 46.484375 51.90625 \nQ 46.484375 58.296875 42.84375 61.546875 \nQ 39.203125 64.796875 32.078125 64.796875 \nz\n\" id=\"DejaVuSans-82\"/>\n     <path d=\"M 34.28125 27.484375 \nQ 23.390625 27.484375 19.1875 25 \nQ 14.984375 22.515625 14.984375 16.5 \nQ 14.984375 11.71875 18.140625 8.90625 \nQ 21.296875 6.109375 26.703125 6.109375 \nQ 34.1875 6.109375 38.703125 11.40625 \nQ 43.21875 16.703125 43.21875 25.484375 \nL 43.21875 27.484375 \nz\nM 52.203125 31.203125 \nL 52.203125 0 \nL 43.21875 0 \nL 43.21875 8.296875 \nQ 40.140625 3.328125 35.546875 0.953125 \nQ 30.953125 -1.421875 24.3125 -1.421875 \nQ 15.921875 -1.421875 10.953125 3.296875 \nQ 6 8.015625 6 15.921875 \nQ 6 25.140625 12.171875 29.828125 \nQ 18.359375 34.515625 30.609375 34.515625 \nL 43.21875 34.515625 \nL 43.21875 35.40625 \nQ 43.21875 41.609375 39.140625 45 \nQ 35.0625 48.390625 27.6875 48.390625 \nQ 23 48.390625 18.546875 47.265625 \nQ 14.109375 46.140625 10.015625 43.890625 \nL 10.015625 52.203125 \nQ 14.9375 54.109375 19.578125 55.046875 \nQ 24.21875 56 28.609375 56 \nQ 40.484375 56 46.34375 49.84375 \nQ 52.203125 43.703125 52.203125 31.203125 \nz\n\" id=\"DejaVuSans-97\"/>\n     <path d=\"M 45.40625 46.390625 \nL 45.40625 75.984375 \nL 54.390625 75.984375 \nL 54.390625 0 \nL 45.40625 0 \nL 45.40625 8.203125 \nQ 42.578125 3.328125 38.25 0.953125 \nQ 33.9375 -1.421875 27.875 -1.421875 \nQ 17.96875 -1.421875 11.734375 6.484375 \nQ 5.515625 14.40625 5.515625 27.296875 \nQ 5.515625 40.1875 11.734375 48.09375 \nQ 17.96875 56 27.875 56 \nQ 33.9375 56 38.25 53.625 \nQ 42.578125 51.265625 45.40625 46.390625 \nz\nM 14.796875 27.296875 \nQ 14.796875 17.390625 18.875 11.75 \nQ 22.953125 6.109375 30.078125 6.109375 \nQ 37.203125 6.109375 41.296875 11.75 \nQ 45.40625 17.390625 45.40625 27.296875 \nQ 45.40625 37.203125 41.296875 42.84375 \nQ 37.203125 48.484375 30.078125 48.484375 \nQ 22.953125 48.484375 18.875 42.84375 \nQ 14.796875 37.203125 14.796875 27.296875 \nz\n\" id=\"DejaVuSans-100\"/>\n     <path d=\"M 18.3125 70.21875 \nL 18.3125 54.6875 \nL 36.8125 54.6875 \nL 36.8125 47.703125 \nL 18.3125 47.703125 \nL 18.3125 18.015625 \nQ 18.3125 11.328125 20.140625 9.421875 \nQ 21.96875 7.515625 27.59375 7.515625 \nL 36.8125 7.515625 \nL 36.8125 0 \nL 27.59375 0 \nQ 17.1875 0 13.234375 3.875 \nQ 9.28125 7.765625 9.28125 18.015625 \nL 9.28125 47.703125 \nL 2.6875 47.703125 \nL 2.6875 54.6875 \nL 9.28125 54.6875 \nL 9.28125 70.21875 \nz\n\" id=\"DejaVuSans-116\"/>\n    </defs>\n    <g transform=\"translate(122.125938 16.318125)scale(0.12 -0.12)\">\n     <use xlink:href=\"#DejaVuSans-83\"/>\n     <use x=\"63.476562\" xlink:href=\"#DejaVuSans-111\"/>\n     <use x=\"124.658203\" xlink:href=\"#DejaVuSans-109\"/>\n     <use x=\"222.070312\" xlink:href=\"#DejaVuSans-101\"/>\n     <use x=\"283.59375\" xlink:href=\"#DejaVuSans-32\"/>\n     <use x=\"315.380859\" xlink:href=\"#DejaVuSans-82\"/>\n     <use x=\"382.613281\" xlink:href=\"#DejaVuSans-97\"/>\n     <use x=\"443.892578\" xlink:href=\"#DejaVuSans-110\"/>\n     <use x=\"507.271484\" xlink:href=\"#DejaVuSans-100\"/>\n     <use x=\"570.748047\" xlink:href=\"#DejaVuSans-111\"/>\n     <use x=\"631.929688\" xlink:href=\"#DejaVuSans-109\"/>\n     <use x=\"729.341797\" xlink:href=\"#DejaVuSans-32\"/>\n     <use x=\"761.128906\" xlink:href=\"#DejaVuSans-68\"/>\n     <use x=\"838.130859\" xlink:href=\"#DejaVuSans-97\"/>\n     <use x=\"899.410156\" xlink:href=\"#DejaVuSans-116\"/>\n     <use x=\"938.619141\" xlink:href=\"#DejaVuSans-97\"/>\n    </g>\n   </g>\n  </g>\n </g>\n <defs>\n  <clipPath id=\"p0cde342037\">\n   <rect height=\"271.8\" width=\"279\" x=\"42.620313\" y=\"22.318125\"/>\n  </clipPath>\n </defs>\n</svg>\n"
          },
          "metadata": {
            "needs_background": "light"
          }
        }
      ]
    },
    {
      "cell_type": "code",
      "source": [
        "# Create a class for the model\n",
        "def createTheModel(nUnits,nLayers):\n",
        "\n",
        "    class QwertyNet(nn.Module):\n",
        "        def __init__(self, nUnits, nLayers):\n",
        "            super().__init__()\n",
        "\n",
        "            # Create a dictionary to store the layers\n",
        "            self.layers = nn.ModuleDict()\n",
        "            self.nLayers = nLayers\n",
        "\n",
        "            # Define the input Layer\n",
        "            self.layers[\"input\"] = nn.Linear(2,nUnits)\n",
        "\n",
        "            # Define the hidden layers\n",
        "            for i in range(nLayers):\n",
        "                self.layers[f\"hidden{i}\"] = nn.Linear(nUnits, nUnits)\n",
        "\n",
        "            # Output Layer\n",
        "            self.layers[\"output\"] = nn.Linear(nUnits,3)\n",
        "\n",
        "        # Forward Pass\n",
        "        def forward(self,x):\n",
        "            \n",
        "            # Input Layer\n",
        "            x = self.layers[\"input\"](x)\n",
        "\n",
        "            # Hidden Layers\n",
        "            for i in range(self.nLayers):\n",
        "                x = F.relu(self.layers[f\"hidden{i}\"](x))\n",
        "            \n",
        "            # Output Layer\n",
        "            x = self.layers[\"output\"](x)\n",
        "            return x\n",
        "    \n",
        "    # Create the model Instance\n",
        "    net = QwertyNet(nUnits,nLayers)\n",
        "\n",
        "    # Define the loss function\n",
        "    lossfun = nn.CrossEntropyLoss()\n",
        "\n",
        "    # Define the Optimizer\n",
        "    optimizer = torch.optim.SGD(net.parameters(),lr=0.01)\n",
        "\n",
        "    return net, lossfun, optimizer"
      ],
      "metadata": {
        "id": "qb-LuyFKrT4M"
      },
      "execution_count": null,
      "outputs": []
    },
    {
      "cell_type": "code",
      "source": [
        "# Test the model to make sure it is working\n",
        "nUnitsPerLayer = 12\n",
        "nLayers = 4\n",
        "\n",
        "net, lossfun, opt = createTheModel(nUnitsPerLayer, nLayers)\n",
        "print(net)\n",
        "input = torch.rand(10,2)\n",
        "net(input)"
      ],
      "metadata": {
        "colab": {
          "base_uri": "https://localhost:8080/"
        },
        "id": "6T1qvsm6x_tL",
        "outputId": "bd6af2aa-cbee-46eb-936d-d895aed96e80"
      },
      "execution_count": null,
      "outputs": [
        {
          "output_type": "stream",
          "name": "stdout",
          "text": [
            "QwertyNet(\n",
            "  (layers): ModuleDict(\n",
            "    (input): Linear(in_features=2, out_features=12, bias=True)\n",
            "    (hidden0): Linear(in_features=12, out_features=12, bias=True)\n",
            "    (hidden1): Linear(in_features=12, out_features=12, bias=True)\n",
            "    (hidden2): Linear(in_features=12, out_features=12, bias=True)\n",
            "    (hidden3): Linear(in_features=12, out_features=12, bias=True)\n",
            "    (output): Linear(in_features=12, out_features=3, bias=True)\n",
            "  )\n",
            ")\n"
          ]
        },
        {
          "output_type": "execute_result",
          "data": {
            "text/plain": [
              "tensor([[-0.2073,  0.1635, -0.3191],\n",
              "        [-0.2077,  0.1637, -0.3186],\n",
              "        [-0.2073,  0.1633, -0.3191],\n",
              "        [-0.2068,  0.1637, -0.3199],\n",
              "        [-0.2081,  0.1638, -0.3180],\n",
              "        [-0.2075,  0.1642, -0.3189],\n",
              "        [-0.2068,  0.1635, -0.3199],\n",
              "        [-0.2077,  0.1640, -0.3184],\n",
              "        [-0.2070,  0.1643, -0.3198],\n",
              "        [-0.2070,  0.1633, -0.3194]], grad_fn=<AddmmBackward0>)"
            ]
          },
          "metadata": {},
          "execution_count": 41
        }
      ]
    },
    {
      "cell_type": "code",
      "source": [
        "# Define a function to train the model\n",
        "def function2TrainTheModel(nUnits,nLayers):\n",
        "\n",
        "    # Define the number of epochs\n",
        "    numepochs = 50\n",
        "\n",
        "    # Create new model\n",
        "    net, lossfun, optimizer = createTheModel(nUnits, nLayers)\n",
        "\n",
        "    # Initialize the losses\n",
        "    losses = np.zeros((numepochs, 2))\n",
        "    trainAcc = []\n",
        "    testAcc = []\n",
        "\n",
        "    # Loop over the epochs\n",
        "    for epochi in range(numepochs):\n",
        "\n",
        "        # Initialize batch losses and accuracy\n",
        "        batchLoss = []\n",
        "        batchAcc = []\n",
        "\n",
        "        # Loop over the minibatches\n",
        "        for X,y in train_data:\n",
        "\n",
        "            # Forward Pass\n",
        "            yHat = net(X)\n",
        "            loss = lossfun(yHat,y)\n",
        "\n",
        "            # Backpropagation\n",
        "            optimizer.zero_grad()\n",
        "            loss.backward()\n",
        "            optimizer.step()\n",
        "\n",
        "            # Loss from this specific batch\n",
        "            batchLoss.append(loss.item())\n",
        "\n",
        "            # Compute batch Accuracy\n",
        "            batchAcc.append(100*torch.mean((torch.argmax(yHat,axis=1)==y).float()))\n",
        "        # End of the batch\n",
        "\n",
        "        # Train accuracy for one epoch\n",
        "        trainAcc.append(np.mean(batchAcc))\n",
        "        losses[epochi,0] = np.mean(batchLoss)\n",
        "\n",
        "        # Test Accuracy\n",
        "        X,y = next(iter(test_data))\n",
        "        with torch.no_grad():\n",
        "            yHat = net(X)\n",
        "        \n",
        "        # Test Accuracy\n",
        "        testAcc.append(100*torch.mean((torch.argmax(yHat,axis=1)==y).float()))\n",
        "        \n",
        "        # Test Loss\n",
        "        losses[epochi,1] = lossfun(yHat,y).item()\n",
        "    # End of epochs\n",
        "\n",
        "    # Return the model output\n",
        "    return trainAcc, testAcc, losses, net"
      ],
      "metadata": {
        "id": "IEiJPtZ3yjZL"
      },
      "execution_count": null,
      "outputs": []
    },
    {
      "cell_type": "code",
      "source": [
        "# Test the model again to make sure it works\n",
        "# Generate some random data\n",
        "theData = createSomeData(200)\n",
        "train_data = theData[\"train_data\"]\n",
        "test_data = theData[\"test_data\"]\n",
        "\n",
        "# Run the model\n",
        "trainAcc, testAcc, losses, net = function2TrainTheModel(80,1)"
      ],
      "metadata": {
        "id": "dmHXDJzT1x5a"
      },
      "execution_count": null,
      "outputs": []
    },
    {
      "cell_type": "code",
      "source": [
        "# Plot the whole thing\n",
        "fig, ax = plt.subplots(1,2, figsize=(13,4))\n",
        "\n",
        "ax[0].plot(losses)\n",
        "ax[0].set_ylabel(\"Losses\")\n",
        "ax[0].set_xlabel(\"Training Epochs\")\n",
        "ax[0].set_title(\"Losses per Epoch\")\n",
        "ax[0].legend([\"Train\", \"Test\"])\n",
        "\n",
        "ax[1].plot(trainAcc,label=\"Train\")\n",
        "ax[1].plot(testAcc, label=\"Test\")\n",
        "ax[1].set_ylabel(\"Accuracy (%)\")\n",
        "ax[1].set_xlabel(\"Training Epoch\")\n",
        "ax[1].legend()\n",
        "\n",
        "plt.show()"
      ],
      "metadata": {
        "colab": {
          "base_uri": "https://localhost:8080/",
          "height": 391
        },
        "id": "dDo-v7KX2Sj7",
        "outputId": "34d6a226-9023-4644-de01-50048ee79411"
      },
      "execution_count": null,
      "outputs": [
        {
          "output_type": "display_data",
          "data": {
            "text/plain": [
              "<Figure size 936x288 with 2 Axes>"
            ],
            "image/svg+xml": "<?xml version=\"1.0\" encoding=\"utf-8\" standalone=\"no\"?>\n<!DOCTYPE svg PUBLIC \"-//W3C//DTD SVG 1.1//EN\"\n  \"http://www.w3.org/Graphics/SVG/1.1/DTD/svg11.dtd\">\n<!-- Created with matplotlib (https://matplotlib.org/) -->\n<svg height=\"277.314375pt\" version=\"1.1\" viewBox=\"0 0 776.38125 277.314375\" width=\"776.38125pt\" xmlns=\"http://www.w3.org/2000/svg\" xmlns:xlink=\"http://www.w3.org/1999/xlink\">\n <defs>\n  <style type=\"text/css\">\n*{stroke-linecap:butt;stroke-linejoin:round;}\n  </style>\n </defs>\n <g id=\"figure_1\">\n  <g id=\"patch_1\">\n   <path d=\"M 0 277.314375 \nL 776.38125 277.314375 \nL 776.38125 0 \nL 0 0 \nz\n\" style=\"fill:none;\"/>\n  </g>\n  <g id=\"axes_1\">\n   <g id=\"patch_2\">\n    <path d=\"M 43.78125 239.758125 \nL 373.508523 239.758125 \nL 373.508523 22.318125 \nL 43.78125 22.318125 \nz\n\" style=\"fill:#ffffff;\"/>\n   </g>\n   <g id=\"matplotlib.axis_1\">\n    <g id=\"xtick_1\">\n     <g id=\"line2d_1\">\n      <defs>\n       <path d=\"M 0 0 \nL 0 3.5 \n\" id=\"mc266d0e54f\" style=\"stroke:#000000;stroke-width:0.8;\"/>\n      </defs>\n      <g>\n       <use style=\"stroke:#000000;stroke-width:0.8;\" x=\"58.768853\" xlink:href=\"#mc266d0e54f\" y=\"239.758125\"/>\n      </g>\n     </g>\n     <g id=\"text_1\">\n      <!-- 0 -->\n      <defs>\n       <path d=\"M 31.78125 66.40625 \nQ 24.171875 66.40625 20.328125 58.90625 \nQ 16.5 51.421875 16.5 36.375 \nQ 16.5 21.390625 20.328125 13.890625 \nQ 24.171875 6.390625 31.78125 6.390625 \nQ 39.453125 6.390625 43.28125 13.890625 \nQ 47.125 21.390625 47.125 36.375 \nQ 47.125 51.421875 43.28125 58.90625 \nQ 39.453125 66.40625 31.78125 66.40625 \nz\nM 31.78125 74.21875 \nQ 44.046875 74.21875 50.515625 64.515625 \nQ 56.984375 54.828125 56.984375 36.375 \nQ 56.984375 17.96875 50.515625 8.265625 \nQ 44.046875 -1.421875 31.78125 -1.421875 \nQ 19.53125 -1.421875 13.0625 8.265625 \nQ 6.59375 17.96875 6.59375 36.375 \nQ 6.59375 54.828125 13.0625 64.515625 \nQ 19.53125 74.21875 31.78125 74.21875 \nz\n\" id=\"DejaVuSans-48\"/>\n      </defs>\n      <g transform=\"translate(55.587603 254.356562)scale(0.1 -0.1)\">\n       <use xlink:href=\"#DejaVuSans-48\"/>\n      </g>\n     </g>\n    </g>\n    <g id=\"xtick_2\">\n     <g id=\"line2d_2\">\n      <g>\n       <use style=\"stroke:#000000;stroke-width:0.8;\" x=\"119.942744\" xlink:href=\"#mc266d0e54f\" y=\"239.758125\"/>\n      </g>\n     </g>\n     <g id=\"text_2\">\n      <!-- 10 -->\n      <defs>\n       <path d=\"M 12.40625 8.296875 \nL 28.515625 8.296875 \nL 28.515625 63.921875 \nL 10.984375 60.40625 \nL 10.984375 69.390625 \nL 28.421875 72.90625 \nL 38.28125 72.90625 \nL 38.28125 8.296875 \nL 54.390625 8.296875 \nL 54.390625 0 \nL 12.40625 0 \nz\n\" id=\"DejaVuSans-49\"/>\n      </defs>\n      <g transform=\"translate(113.580244 254.356562)scale(0.1 -0.1)\">\n       <use xlink:href=\"#DejaVuSans-49\"/>\n       <use x=\"63.623047\" xlink:href=\"#DejaVuSans-48\"/>\n      </g>\n     </g>\n    </g>\n    <g id=\"xtick_3\">\n     <g id=\"line2d_3\">\n      <g>\n       <use style=\"stroke:#000000;stroke-width:0.8;\" x=\"181.116635\" xlink:href=\"#mc266d0e54f\" y=\"239.758125\"/>\n      </g>\n     </g>\n     <g id=\"text_3\">\n      <!-- 20 -->\n      <defs>\n       <path d=\"M 19.1875 8.296875 \nL 53.609375 8.296875 \nL 53.609375 0 \nL 7.328125 0 \nL 7.328125 8.296875 \nQ 12.9375 14.109375 22.625 23.890625 \nQ 32.328125 33.6875 34.8125 36.53125 \nQ 39.546875 41.84375 41.421875 45.53125 \nQ 43.3125 49.21875 43.3125 52.78125 \nQ 43.3125 58.59375 39.234375 62.25 \nQ 35.15625 65.921875 28.609375 65.921875 \nQ 23.96875 65.921875 18.8125 64.3125 \nQ 13.671875 62.703125 7.8125 59.421875 \nL 7.8125 69.390625 \nQ 13.765625 71.78125 18.9375 73 \nQ 24.125 74.21875 28.421875 74.21875 \nQ 39.75 74.21875 46.484375 68.546875 \nQ 53.21875 62.890625 53.21875 53.421875 \nQ 53.21875 48.921875 51.53125 44.890625 \nQ 49.859375 40.875 45.40625 35.40625 \nQ 44.1875 33.984375 37.640625 27.21875 \nQ 31.109375 20.453125 19.1875 8.296875 \nz\n\" id=\"DejaVuSans-50\"/>\n      </defs>\n      <g transform=\"translate(174.754135 254.356562)scale(0.1 -0.1)\">\n       <use xlink:href=\"#DejaVuSans-50\"/>\n       <use x=\"63.623047\" xlink:href=\"#DejaVuSans-48\"/>\n      </g>\n     </g>\n    </g>\n    <g id=\"xtick_4\">\n     <g id=\"line2d_4\">\n      <g>\n       <use style=\"stroke:#000000;stroke-width:0.8;\" x=\"242.290526\" xlink:href=\"#mc266d0e54f\" y=\"239.758125\"/>\n      </g>\n     </g>\n     <g id=\"text_4\">\n      <!-- 30 -->\n      <defs>\n       <path d=\"M 40.578125 39.3125 \nQ 47.65625 37.796875 51.625 33 \nQ 55.609375 28.21875 55.609375 21.1875 \nQ 55.609375 10.40625 48.1875 4.484375 \nQ 40.765625 -1.421875 27.09375 -1.421875 \nQ 22.515625 -1.421875 17.65625 -0.515625 \nQ 12.796875 0.390625 7.625 2.203125 \nL 7.625 11.71875 \nQ 11.71875 9.328125 16.59375 8.109375 \nQ 21.484375 6.890625 26.8125 6.890625 \nQ 36.078125 6.890625 40.9375 10.546875 \nQ 45.796875 14.203125 45.796875 21.1875 \nQ 45.796875 27.640625 41.28125 31.265625 \nQ 36.765625 34.90625 28.71875 34.90625 \nL 20.21875 34.90625 \nL 20.21875 43.015625 \nL 29.109375 43.015625 \nQ 36.375 43.015625 40.234375 45.921875 \nQ 44.09375 48.828125 44.09375 54.296875 \nQ 44.09375 59.90625 40.109375 62.90625 \nQ 36.140625 65.921875 28.71875 65.921875 \nQ 24.65625 65.921875 20.015625 65.03125 \nQ 15.375 64.15625 9.8125 62.3125 \nL 9.8125 71.09375 \nQ 15.4375 72.65625 20.34375 73.4375 \nQ 25.25 74.21875 29.59375 74.21875 \nQ 40.828125 74.21875 47.359375 69.109375 \nQ 53.90625 64.015625 53.90625 55.328125 \nQ 53.90625 49.265625 50.4375 45.09375 \nQ 46.96875 40.921875 40.578125 39.3125 \nz\n\" id=\"DejaVuSans-51\"/>\n      </defs>\n      <g transform=\"translate(235.928026 254.356562)scale(0.1 -0.1)\">\n       <use xlink:href=\"#DejaVuSans-51\"/>\n       <use x=\"63.623047\" xlink:href=\"#DejaVuSans-48\"/>\n      </g>\n     </g>\n    </g>\n    <g id=\"xtick_5\">\n     <g id=\"line2d_5\">\n      <g>\n       <use style=\"stroke:#000000;stroke-width:0.8;\" x=\"303.464417\" xlink:href=\"#mc266d0e54f\" y=\"239.758125\"/>\n      </g>\n     </g>\n     <g id=\"text_5\">\n      <!-- 40 -->\n      <defs>\n       <path d=\"M 37.796875 64.3125 \nL 12.890625 25.390625 \nL 37.796875 25.390625 \nz\nM 35.203125 72.90625 \nL 47.609375 72.90625 \nL 47.609375 25.390625 \nL 58.015625 25.390625 \nL 58.015625 17.1875 \nL 47.609375 17.1875 \nL 47.609375 0 \nL 37.796875 0 \nL 37.796875 17.1875 \nL 4.890625 17.1875 \nL 4.890625 26.703125 \nz\n\" id=\"DejaVuSans-52\"/>\n      </defs>\n      <g transform=\"translate(297.101917 254.356562)scale(0.1 -0.1)\">\n       <use xlink:href=\"#DejaVuSans-52\"/>\n       <use x=\"63.623047\" xlink:href=\"#DejaVuSans-48\"/>\n      </g>\n     </g>\n    </g>\n    <g id=\"xtick_6\">\n     <g id=\"line2d_6\">\n      <g>\n       <use style=\"stroke:#000000;stroke-width:0.8;\" x=\"364.638309\" xlink:href=\"#mc266d0e54f\" y=\"239.758125\"/>\n      </g>\n     </g>\n     <g id=\"text_6\">\n      <!-- 50 -->\n      <defs>\n       <path d=\"M 10.796875 72.90625 \nL 49.515625 72.90625 \nL 49.515625 64.59375 \nL 19.828125 64.59375 \nL 19.828125 46.734375 \nQ 21.96875 47.46875 24.109375 47.828125 \nQ 26.265625 48.1875 28.421875 48.1875 \nQ 40.625 48.1875 47.75 41.5 \nQ 54.890625 34.8125 54.890625 23.390625 \nQ 54.890625 11.625 47.5625 5.09375 \nQ 40.234375 -1.421875 26.90625 -1.421875 \nQ 22.3125 -1.421875 17.546875 -0.640625 \nQ 12.796875 0.140625 7.71875 1.703125 \nL 7.71875 11.625 \nQ 12.109375 9.234375 16.796875 8.0625 \nQ 21.484375 6.890625 26.703125 6.890625 \nQ 35.15625 6.890625 40.078125 11.328125 \nQ 45.015625 15.765625 45.015625 23.390625 \nQ 45.015625 31 40.078125 35.4375 \nQ 35.15625 39.890625 26.703125 39.890625 \nQ 22.75 39.890625 18.8125 39.015625 \nQ 14.890625 38.140625 10.796875 36.28125 \nz\n\" id=\"DejaVuSans-53\"/>\n      </defs>\n      <g transform=\"translate(358.275809 254.356562)scale(0.1 -0.1)\">\n       <use xlink:href=\"#DejaVuSans-53\"/>\n       <use x=\"63.623047\" xlink:href=\"#DejaVuSans-48\"/>\n      </g>\n     </g>\n    </g>\n    <g id=\"text_7\">\n     <!-- Training Epochs -->\n     <defs>\n      <path d=\"M -0.296875 72.90625 \nL 61.375 72.90625 \nL 61.375 64.59375 \nL 35.5 64.59375 \nL 35.5 0 \nL 25.59375 0 \nL 25.59375 64.59375 \nL -0.296875 64.59375 \nz\n\" id=\"DejaVuSans-84\"/>\n      <path d=\"M 41.109375 46.296875 \nQ 39.59375 47.171875 37.8125 47.578125 \nQ 36.03125 48 33.890625 48 \nQ 26.265625 48 22.1875 43.046875 \nQ 18.109375 38.09375 18.109375 28.8125 \nL 18.109375 0 \nL 9.078125 0 \nL 9.078125 54.6875 \nL 18.109375 54.6875 \nL 18.109375 46.1875 \nQ 20.953125 51.171875 25.484375 53.578125 \nQ 30.03125 56 36.53125 56 \nQ 37.453125 56 38.578125 55.875 \nQ 39.703125 55.765625 41.0625 55.515625 \nz\n\" id=\"DejaVuSans-114\"/>\n      <path d=\"M 34.28125 27.484375 \nQ 23.390625 27.484375 19.1875 25 \nQ 14.984375 22.515625 14.984375 16.5 \nQ 14.984375 11.71875 18.140625 8.90625 \nQ 21.296875 6.109375 26.703125 6.109375 \nQ 34.1875 6.109375 38.703125 11.40625 \nQ 43.21875 16.703125 43.21875 25.484375 \nL 43.21875 27.484375 \nz\nM 52.203125 31.203125 \nL 52.203125 0 \nL 43.21875 0 \nL 43.21875 8.296875 \nQ 40.140625 3.328125 35.546875 0.953125 \nQ 30.953125 -1.421875 24.3125 -1.421875 \nQ 15.921875 -1.421875 10.953125 3.296875 \nQ 6 8.015625 6 15.921875 \nQ 6 25.140625 12.171875 29.828125 \nQ 18.359375 34.515625 30.609375 34.515625 \nL 43.21875 34.515625 \nL 43.21875 35.40625 \nQ 43.21875 41.609375 39.140625 45 \nQ 35.0625 48.390625 27.6875 48.390625 \nQ 23 48.390625 18.546875 47.265625 \nQ 14.109375 46.140625 10.015625 43.890625 \nL 10.015625 52.203125 \nQ 14.9375 54.109375 19.578125 55.046875 \nQ 24.21875 56 28.609375 56 \nQ 40.484375 56 46.34375 49.84375 \nQ 52.203125 43.703125 52.203125 31.203125 \nz\n\" id=\"DejaVuSans-97\"/>\n      <path d=\"M 9.421875 54.6875 \nL 18.40625 54.6875 \nL 18.40625 0 \nL 9.421875 0 \nz\nM 9.421875 75.984375 \nL 18.40625 75.984375 \nL 18.40625 64.59375 \nL 9.421875 64.59375 \nz\n\" id=\"DejaVuSans-105\"/>\n      <path d=\"M 54.890625 33.015625 \nL 54.890625 0 \nL 45.90625 0 \nL 45.90625 32.71875 \nQ 45.90625 40.484375 42.875 44.328125 \nQ 39.84375 48.1875 33.796875 48.1875 \nQ 26.515625 48.1875 22.3125 43.546875 \nQ 18.109375 38.921875 18.109375 30.90625 \nL 18.109375 0 \nL 9.078125 0 \nL 9.078125 54.6875 \nL 18.109375 54.6875 \nL 18.109375 46.1875 \nQ 21.34375 51.125 25.703125 53.5625 \nQ 30.078125 56 35.796875 56 \nQ 45.21875 56 50.046875 50.171875 \nQ 54.890625 44.34375 54.890625 33.015625 \nz\n\" id=\"DejaVuSans-110\"/>\n      <path d=\"M 45.40625 27.984375 \nQ 45.40625 37.75 41.375 43.109375 \nQ 37.359375 48.484375 30.078125 48.484375 \nQ 22.859375 48.484375 18.828125 43.109375 \nQ 14.796875 37.75 14.796875 27.984375 \nQ 14.796875 18.265625 18.828125 12.890625 \nQ 22.859375 7.515625 30.078125 7.515625 \nQ 37.359375 7.515625 41.375 12.890625 \nQ 45.40625 18.265625 45.40625 27.984375 \nz\nM 54.390625 6.78125 \nQ 54.390625 -7.171875 48.1875 -13.984375 \nQ 42 -20.796875 29.203125 -20.796875 \nQ 24.46875 -20.796875 20.265625 -20.09375 \nQ 16.0625 -19.390625 12.109375 -17.921875 \nL 12.109375 -9.1875 \nQ 16.0625 -11.328125 19.921875 -12.34375 \nQ 23.78125 -13.375 27.78125 -13.375 \nQ 36.625 -13.375 41.015625 -8.765625 \nQ 45.40625 -4.15625 45.40625 5.171875 \nL 45.40625 9.625 \nQ 42.625 4.78125 38.28125 2.390625 \nQ 33.9375 0 27.875 0 \nQ 17.828125 0 11.671875 7.65625 \nQ 5.515625 15.328125 5.515625 27.984375 \nQ 5.515625 40.671875 11.671875 48.328125 \nQ 17.828125 56 27.875 56 \nQ 33.9375 56 38.28125 53.609375 \nQ 42.625 51.21875 45.40625 46.390625 \nL 45.40625 54.6875 \nL 54.390625 54.6875 \nz\n\" id=\"DejaVuSans-103\"/>\n      <path id=\"DejaVuSans-32\"/>\n      <path d=\"M 9.8125 72.90625 \nL 55.90625 72.90625 \nL 55.90625 64.59375 \nL 19.671875 64.59375 \nL 19.671875 43.015625 \nL 54.390625 43.015625 \nL 54.390625 34.71875 \nL 19.671875 34.71875 \nL 19.671875 8.296875 \nL 56.78125 8.296875 \nL 56.78125 0 \nL 9.8125 0 \nz\n\" id=\"DejaVuSans-69\"/>\n      <path d=\"M 18.109375 8.203125 \nL 18.109375 -20.796875 \nL 9.078125 -20.796875 \nL 9.078125 54.6875 \nL 18.109375 54.6875 \nL 18.109375 46.390625 \nQ 20.953125 51.265625 25.265625 53.625 \nQ 29.59375 56 35.59375 56 \nQ 45.5625 56 51.78125 48.09375 \nQ 58.015625 40.1875 58.015625 27.296875 \nQ 58.015625 14.40625 51.78125 6.484375 \nQ 45.5625 -1.421875 35.59375 -1.421875 \nQ 29.59375 -1.421875 25.265625 0.953125 \nQ 20.953125 3.328125 18.109375 8.203125 \nz\nM 48.6875 27.296875 \nQ 48.6875 37.203125 44.609375 42.84375 \nQ 40.53125 48.484375 33.40625 48.484375 \nQ 26.265625 48.484375 22.1875 42.84375 \nQ 18.109375 37.203125 18.109375 27.296875 \nQ 18.109375 17.390625 22.1875 11.75 \nQ 26.265625 6.109375 33.40625 6.109375 \nQ 40.53125 6.109375 44.609375 11.75 \nQ 48.6875 17.390625 48.6875 27.296875 \nz\n\" id=\"DejaVuSans-112\"/>\n      <path d=\"M 30.609375 48.390625 \nQ 23.390625 48.390625 19.1875 42.75 \nQ 14.984375 37.109375 14.984375 27.296875 \nQ 14.984375 17.484375 19.15625 11.84375 \nQ 23.34375 6.203125 30.609375 6.203125 \nQ 37.796875 6.203125 41.984375 11.859375 \nQ 46.1875 17.53125 46.1875 27.296875 \nQ 46.1875 37.015625 41.984375 42.703125 \nQ 37.796875 48.390625 30.609375 48.390625 \nz\nM 30.609375 56 \nQ 42.328125 56 49.015625 48.375 \nQ 55.71875 40.765625 55.71875 27.296875 \nQ 55.71875 13.875 49.015625 6.21875 \nQ 42.328125 -1.421875 30.609375 -1.421875 \nQ 18.84375 -1.421875 12.171875 6.21875 \nQ 5.515625 13.875 5.515625 27.296875 \nQ 5.515625 40.765625 12.171875 48.375 \nQ 18.84375 56 30.609375 56 \nz\n\" id=\"DejaVuSans-111\"/>\n      <path d=\"M 48.78125 52.59375 \nL 48.78125 44.1875 \nQ 44.96875 46.296875 41.140625 47.34375 \nQ 37.3125 48.390625 33.40625 48.390625 \nQ 24.65625 48.390625 19.8125 42.84375 \nQ 14.984375 37.3125 14.984375 27.296875 \nQ 14.984375 17.28125 19.8125 11.734375 \nQ 24.65625 6.203125 33.40625 6.203125 \nQ 37.3125 6.203125 41.140625 7.25 \nQ 44.96875 8.296875 48.78125 10.40625 \nL 48.78125 2.09375 \nQ 45.015625 0.34375 40.984375 -0.53125 \nQ 36.96875 -1.421875 32.421875 -1.421875 \nQ 20.0625 -1.421875 12.78125 6.34375 \nQ 5.515625 14.109375 5.515625 27.296875 \nQ 5.515625 40.671875 12.859375 48.328125 \nQ 20.21875 56 33.015625 56 \nQ 37.15625 56 41.109375 55.140625 \nQ 45.0625 54.296875 48.78125 52.59375 \nz\n\" id=\"DejaVuSans-99\"/>\n      <path d=\"M 54.890625 33.015625 \nL 54.890625 0 \nL 45.90625 0 \nL 45.90625 32.71875 \nQ 45.90625 40.484375 42.875 44.328125 \nQ 39.84375 48.1875 33.796875 48.1875 \nQ 26.515625 48.1875 22.3125 43.546875 \nQ 18.109375 38.921875 18.109375 30.90625 \nL 18.109375 0 \nL 9.078125 0 \nL 9.078125 75.984375 \nL 18.109375 75.984375 \nL 18.109375 46.1875 \nQ 21.34375 51.125 25.703125 53.5625 \nQ 30.078125 56 35.796875 56 \nQ 45.21875 56 50.046875 50.171875 \nQ 54.890625 44.34375 54.890625 33.015625 \nz\n\" id=\"DejaVuSans-104\"/>\n      <path d=\"M 44.28125 53.078125 \nL 44.28125 44.578125 \nQ 40.484375 46.53125 36.375 47.5 \nQ 32.28125 48.484375 27.875 48.484375 \nQ 21.1875 48.484375 17.84375 46.4375 \nQ 14.5 44.390625 14.5 40.28125 \nQ 14.5 37.15625 16.890625 35.375 \nQ 19.28125 33.59375 26.515625 31.984375 \nL 29.59375 31.296875 \nQ 39.15625 29.25 43.1875 25.515625 \nQ 47.21875 21.78125 47.21875 15.09375 \nQ 47.21875 7.46875 41.1875 3.015625 \nQ 35.15625 -1.421875 24.609375 -1.421875 \nQ 20.21875 -1.421875 15.453125 -0.5625 \nQ 10.6875 0.296875 5.421875 2 \nL 5.421875 11.28125 \nQ 10.40625 8.6875 15.234375 7.390625 \nQ 20.0625 6.109375 24.8125 6.109375 \nQ 31.15625 6.109375 34.5625 8.28125 \nQ 37.984375 10.453125 37.984375 14.40625 \nQ 37.984375 18.0625 35.515625 20.015625 \nQ 33.0625 21.96875 24.703125 23.78125 \nL 21.578125 24.515625 \nQ 13.234375 26.265625 9.515625 29.90625 \nQ 5.8125 33.546875 5.8125 39.890625 \nQ 5.8125 47.609375 11.28125 51.796875 \nQ 16.75 56 26.8125 56 \nQ 31.78125 56 36.171875 55.265625 \nQ 40.578125 54.546875 44.28125 53.078125 \nz\n\" id=\"DejaVuSans-115\"/>\n     </defs>\n     <g transform=\"translate(169.414418 268.034687)scale(0.1 -0.1)\">\n      <use xlink:href=\"#DejaVuSans-84\"/>\n      <use x=\"46.333984\" xlink:href=\"#DejaVuSans-114\"/>\n      <use x=\"87.447266\" xlink:href=\"#DejaVuSans-97\"/>\n      <use x=\"148.726562\" xlink:href=\"#DejaVuSans-105\"/>\n      <use x=\"176.509766\" xlink:href=\"#DejaVuSans-110\"/>\n      <use x=\"239.888672\" xlink:href=\"#DejaVuSans-105\"/>\n      <use x=\"267.671875\" xlink:href=\"#DejaVuSans-110\"/>\n      <use x=\"331.050781\" xlink:href=\"#DejaVuSans-103\"/>\n      <use x=\"394.527344\" xlink:href=\"#DejaVuSans-32\"/>\n      <use x=\"426.314453\" xlink:href=\"#DejaVuSans-69\"/>\n      <use x=\"489.498047\" xlink:href=\"#DejaVuSans-112\"/>\n      <use x=\"552.974609\" xlink:href=\"#DejaVuSans-111\"/>\n      <use x=\"614.15625\" xlink:href=\"#DejaVuSans-99\"/>\n      <use x=\"669.136719\" xlink:href=\"#DejaVuSans-104\"/>\n      <use x=\"732.515625\" xlink:href=\"#DejaVuSans-115\"/>\n     </g>\n    </g>\n   </g>\n   <g id=\"matplotlib.axis_2\">\n    <g id=\"ytick_1\">\n     <g id=\"line2d_7\">\n      <defs>\n       <path d=\"M 0 0 \nL -3.5 0 \n\" id=\"m4aabbaa202\" style=\"stroke:#000000;stroke-width:0.8;\"/>\n      </defs>\n      <g>\n       <use style=\"stroke:#000000;stroke-width:0.8;\" x=\"43.78125\" xlink:href=\"#m4aabbaa202\" y=\"208.73734\"/>\n      </g>\n     </g>\n     <g id=\"text_8\">\n      <!-- 0.2 -->\n      <defs>\n       <path d=\"M 10.6875 12.40625 \nL 21 12.40625 \nL 21 0 \nL 10.6875 0 \nz\n\" id=\"DejaVuSans-46\"/>\n      </defs>\n      <g transform=\"translate(20.878125 212.536559)scale(0.1 -0.1)\">\n       <use xlink:href=\"#DejaVuSans-48\"/>\n       <use x=\"63.623047\" xlink:href=\"#DejaVuSans-46\"/>\n       <use x=\"95.410156\" xlink:href=\"#DejaVuSans-50\"/>\n      </g>\n     </g>\n    </g>\n    <g id=\"ytick_2\">\n     <g id=\"line2d_8\">\n      <g>\n       <use style=\"stroke:#000000;stroke-width:0.8;\" x=\"43.78125\" xlink:href=\"#m4aabbaa202\" y=\"174.52317\"/>\n      </g>\n     </g>\n     <g id=\"text_9\">\n      <!-- 0.3 -->\n      <g transform=\"translate(20.878125 178.322388)scale(0.1 -0.1)\">\n       <use xlink:href=\"#DejaVuSans-48\"/>\n       <use x=\"63.623047\" xlink:href=\"#DejaVuSans-46\"/>\n       <use x=\"95.410156\" xlink:href=\"#DejaVuSans-51\"/>\n      </g>\n     </g>\n    </g>\n    <g id=\"ytick_3\">\n     <g id=\"line2d_9\">\n      <g>\n       <use style=\"stroke:#000000;stroke-width:0.8;\" x=\"43.78125\" xlink:href=\"#m4aabbaa202\" y=\"140.308999\"/>\n      </g>\n     </g>\n     <g id=\"text_10\">\n      <!-- 0.4 -->\n      <g transform=\"translate(20.878125 144.108218)scale(0.1 -0.1)\">\n       <use xlink:href=\"#DejaVuSans-48\"/>\n       <use x=\"63.623047\" xlink:href=\"#DejaVuSans-46\"/>\n       <use x=\"95.410156\" xlink:href=\"#DejaVuSans-52\"/>\n      </g>\n     </g>\n    </g>\n    <g id=\"ytick_4\">\n     <g id=\"line2d_10\">\n      <g>\n       <use style=\"stroke:#000000;stroke-width:0.8;\" x=\"43.78125\" xlink:href=\"#m4aabbaa202\" y=\"106.094828\"/>\n      </g>\n     </g>\n     <g id=\"text_11\">\n      <!-- 0.5 -->\n      <g transform=\"translate(20.878125 109.894047)scale(0.1 -0.1)\">\n       <use xlink:href=\"#DejaVuSans-48\"/>\n       <use x=\"63.623047\" xlink:href=\"#DejaVuSans-46\"/>\n       <use x=\"95.410156\" xlink:href=\"#DejaVuSans-53\"/>\n      </g>\n     </g>\n    </g>\n    <g id=\"ytick_5\">\n     <g id=\"line2d_11\">\n      <g>\n       <use style=\"stroke:#000000;stroke-width:0.8;\" x=\"43.78125\" xlink:href=\"#m4aabbaa202\" y=\"71.880658\"/>\n      </g>\n     </g>\n     <g id=\"text_12\">\n      <!-- 0.6 -->\n      <defs>\n       <path d=\"M 33.015625 40.375 \nQ 26.375 40.375 22.484375 35.828125 \nQ 18.609375 31.296875 18.609375 23.390625 \nQ 18.609375 15.53125 22.484375 10.953125 \nQ 26.375 6.390625 33.015625 6.390625 \nQ 39.65625 6.390625 43.53125 10.953125 \nQ 47.40625 15.53125 47.40625 23.390625 \nQ 47.40625 31.296875 43.53125 35.828125 \nQ 39.65625 40.375 33.015625 40.375 \nz\nM 52.59375 71.296875 \nL 52.59375 62.3125 \nQ 48.875 64.0625 45.09375 64.984375 \nQ 41.3125 65.921875 37.59375 65.921875 \nQ 27.828125 65.921875 22.671875 59.328125 \nQ 17.53125 52.734375 16.796875 39.40625 \nQ 19.671875 43.65625 24.015625 45.921875 \nQ 28.375 48.1875 33.59375 48.1875 \nQ 44.578125 48.1875 50.953125 41.515625 \nQ 57.328125 34.859375 57.328125 23.390625 \nQ 57.328125 12.15625 50.6875 5.359375 \nQ 44.046875 -1.421875 33.015625 -1.421875 \nQ 20.359375 -1.421875 13.671875 8.265625 \nQ 6.984375 17.96875 6.984375 36.375 \nQ 6.984375 53.65625 15.1875 63.9375 \nQ 23.390625 74.21875 37.203125 74.21875 \nQ 40.921875 74.21875 44.703125 73.484375 \nQ 48.484375 72.75 52.59375 71.296875 \nz\n\" id=\"DejaVuSans-54\"/>\n      </defs>\n      <g transform=\"translate(20.878125 75.679876)scale(0.1 -0.1)\">\n       <use xlink:href=\"#DejaVuSans-48\"/>\n       <use x=\"63.623047\" xlink:href=\"#DejaVuSans-46\"/>\n       <use x=\"95.410156\" xlink:href=\"#DejaVuSans-54\"/>\n      </g>\n     </g>\n    </g>\n    <g id=\"ytick_6\">\n     <g id=\"line2d_12\">\n      <g>\n       <use style=\"stroke:#000000;stroke-width:0.8;\" x=\"43.78125\" xlink:href=\"#m4aabbaa202\" y=\"37.666487\"/>\n      </g>\n     </g>\n     <g id=\"text_13\">\n      <!-- 0.7 -->\n      <defs>\n       <path d=\"M 8.203125 72.90625 \nL 55.078125 72.90625 \nL 55.078125 68.703125 \nL 28.609375 0 \nL 18.3125 0 \nL 43.21875 64.59375 \nL 8.203125 64.59375 \nz\n\" id=\"DejaVuSans-55\"/>\n      </defs>\n      <g transform=\"translate(20.878125 41.465706)scale(0.1 -0.1)\">\n       <use xlink:href=\"#DejaVuSans-48\"/>\n       <use x=\"63.623047\" xlink:href=\"#DejaVuSans-46\"/>\n       <use x=\"95.410156\" xlink:href=\"#DejaVuSans-55\"/>\n      </g>\n     </g>\n    </g>\n    <g id=\"text_14\">\n     <!-- Losses -->\n     <defs>\n      <path d=\"M 9.8125 72.90625 \nL 19.671875 72.90625 \nL 19.671875 8.296875 \nL 55.171875 8.296875 \nL 55.171875 0 \nL 9.8125 0 \nz\n\" id=\"DejaVuSans-76\"/>\n      <path d=\"M 56.203125 29.59375 \nL 56.203125 25.203125 \nL 14.890625 25.203125 \nQ 15.484375 15.921875 20.484375 11.0625 \nQ 25.484375 6.203125 34.421875 6.203125 \nQ 39.59375 6.203125 44.453125 7.46875 \nQ 49.3125 8.734375 54.109375 11.28125 \nL 54.109375 2.78125 \nQ 49.265625 0.734375 44.1875 -0.34375 \nQ 39.109375 -1.421875 33.890625 -1.421875 \nQ 20.796875 -1.421875 13.15625 6.1875 \nQ 5.515625 13.8125 5.515625 26.8125 \nQ 5.515625 40.234375 12.765625 48.109375 \nQ 20.015625 56 32.328125 56 \nQ 43.359375 56 49.78125 48.890625 \nQ 56.203125 41.796875 56.203125 29.59375 \nz\nM 47.21875 32.234375 \nQ 47.125 39.59375 43.09375 43.984375 \nQ 39.0625 48.390625 32.421875 48.390625 \nQ 24.90625 48.390625 20.390625 44.140625 \nQ 15.875 39.890625 15.1875 32.171875 \nz\n\" id=\"DejaVuSans-101\"/>\n     </defs>\n     <g transform=\"translate(14.798438 147.686562)rotate(-90)scale(0.1 -0.1)\">\n      <use xlink:href=\"#DejaVuSans-76\"/>\n      <use x=\"53.962891\" xlink:href=\"#DejaVuSans-111\"/>\n      <use x=\"115.144531\" xlink:href=\"#DejaVuSans-115\"/>\n      <use x=\"167.244141\" xlink:href=\"#DejaVuSans-115\"/>\n      <use x=\"219.34375\" xlink:href=\"#DejaVuSans-101\"/>\n      <use x=\"280.867188\" xlink:href=\"#DejaVuSans-115\"/>\n     </g>\n    </g>\n   </g>\n   <g id=\"line2d_13\">\n    <path clip-path=\"url(#p384158e087)\" d=\"M 58.768853 32.201761 \nL 64.886242 112.145109 \nL 71.003632 148.030464 \nL 77.121021 170.403792 \nL 83.23841 185.513147 \nL 89.355799 196.367774 \nL 95.473188 201.578072 \nL 101.590577 205.028008 \nL 107.707966 207.972132 \nL 113.825355 209.089826 \nL 119.942744 216.064047 \nL 126.060133 214.134884 \nL 132.177523 215.103481 \nL 138.294912 214.201917 \nL 144.412301 213.894659 \nL 150.52969 217.480456 \nL 156.647079 216.282358 \nL 162.764468 217.535327 \nL 168.881857 218.476269 \nL 174.999246 218.270583 \nL 181.116635 216.854846 \nL 187.234024 218.341105 \nL 193.351414 220.144014 \nL 199.468803 221.988999 \nL 205.586192 221.152497 \nL 211.703581 219.17714 \nL 217.82097 219.894788 \nL 223.938359 218.510175 \nL 230.055748 221.110852 \nL 236.173137 221.337984 \nL 242.290526 218.506193 \nL 248.407916 220.26948 \nL 254.525305 220.693714 \nL 260.642694 219.935565 \nL 266.760083 221.25341 \nL 272.877472 221.351585 \nL 278.994861 219.661862 \nL 285.11225 224.791119 \nL 291.229639 218.031118 \nL 297.347028 220.765492 \nL 303.464417 220.097052 \nL 309.581807 219.859603 \nL 315.699196 221.826281 \nL 321.816585 221.110543 \nL 327.933974 221.249318 \nL 334.051363 222.10405 \nL 340.168752 220.50051 \nL 346.286141 223.467057 \nL 352.40353 222.140252 \nL 358.520919 222.80658 \n\" style=\"fill:none;stroke:#1f77b4;stroke-linecap:square;stroke-width:1.5;\"/>\n   </g>\n   <g id=\"line2d_14\">\n    <path clip-path=\"url(#p384158e087)\" d=\"M 58.768853 84.103437 \nL 64.886242 139.783351 \nL 71.003632 174.87136 \nL 77.121021 196.258132 \nL 83.23841 204.059177 \nL 89.355799 213.202652 \nL 95.473188 221.955286 \nL 101.590577 223.954251 \nL 107.707966 225.739082 \nL 113.825355 228.045404 \nL 119.942744 224.382106 \nL 126.060133 226.954835 \nL 132.177523 225.669154 \nL 138.294912 209.700797 \nL 144.412301 226.417116 \nL 150.52969 229.874489 \nL 156.647079 225.077133 \nL 162.764468 220.682809 \nL 168.881857 219.302605 \nL 174.999246 216.502165 \nL 181.116635 223.496973 \nL 187.234024 218.667249 \nL 193.351414 224.71654 \nL 199.468803 214.998506 \nL 205.586192 215.155722 \nL 211.703581 222.3517 \nL 217.82097 209.277403 \nL 223.938359 209.296889 \nL 230.055748 219.040521 \nL 236.173137 223.918537 \nL 242.290526 220.201335 \nL 248.407916 210.130768 \nL 254.525305 215.362296 \nL 260.642694 218.257773 \nL 266.760083 219.59459 \nL 272.877472 213.490956 \nL 278.994861 218.061269 \nL 285.11225 200.280825 \nL 291.229639 217.228057 \nL 297.347028 221.454978 \nL 303.464417 218.581444 \nL 309.581807 206.279021 \nL 315.699196 219.533936 \nL 321.816585 213.187459 \nL 327.933974 213.368857 \nL 334.051363 215.851626 \nL 340.168752 215.174581 \nL 346.286141 217.162233 \nL 352.40353 209.818257 \nL 358.520919 218.033998 \n\" style=\"fill:none;stroke:#ff7f0e;stroke-linecap:square;stroke-width:1.5;\"/>\n   </g>\n   <g id=\"patch_3\">\n    <path d=\"M 43.78125 239.758125 \nL 43.78125 22.318125 \n\" style=\"fill:none;stroke:#000000;stroke-linecap:square;stroke-linejoin:miter;stroke-width:0.8;\"/>\n   </g>\n   <g id=\"patch_4\">\n    <path d=\"M 373.508523 239.758125 \nL 373.508523 22.318125 \n\" style=\"fill:none;stroke:#000000;stroke-linecap:square;stroke-linejoin:miter;stroke-width:0.8;\"/>\n   </g>\n   <g id=\"patch_5\">\n    <path d=\"M 43.78125 239.758125 \nL 373.508523 239.758125 \n\" style=\"fill:none;stroke:#000000;stroke-linecap:square;stroke-linejoin:miter;stroke-width:0.8;\"/>\n   </g>\n   <g id=\"patch_6\">\n    <path d=\"M 43.78125 22.318125 \nL 373.508523 22.318125 \n\" style=\"fill:none;stroke:#000000;stroke-linecap:square;stroke-linejoin:miter;stroke-width:0.8;\"/>\n   </g>\n   <g id=\"text_15\">\n    <!-- Losses per Epoch -->\n    <g transform=\"translate(156.512386 16.318125)scale(0.12 -0.12)\">\n     <use xlink:href=\"#DejaVuSans-76\"/>\n     <use x=\"53.962891\" xlink:href=\"#DejaVuSans-111\"/>\n     <use x=\"115.144531\" xlink:href=\"#DejaVuSans-115\"/>\n     <use x=\"167.244141\" xlink:href=\"#DejaVuSans-115\"/>\n     <use x=\"219.34375\" xlink:href=\"#DejaVuSans-101\"/>\n     <use x=\"280.867188\" xlink:href=\"#DejaVuSans-115\"/>\n     <use x=\"332.966797\" xlink:href=\"#DejaVuSans-32\"/>\n     <use x=\"364.753906\" xlink:href=\"#DejaVuSans-112\"/>\n     <use x=\"428.230469\" xlink:href=\"#DejaVuSans-101\"/>\n     <use x=\"489.753906\" xlink:href=\"#DejaVuSans-114\"/>\n     <use x=\"530.867188\" xlink:href=\"#DejaVuSans-32\"/>\n     <use x=\"562.654297\" xlink:href=\"#DejaVuSans-69\"/>\n     <use x=\"625.837891\" xlink:href=\"#DejaVuSans-112\"/>\n     <use x=\"689.314453\" xlink:href=\"#DejaVuSans-111\"/>\n     <use x=\"750.496094\" xlink:href=\"#DejaVuSans-99\"/>\n     <use x=\"805.476562\" xlink:href=\"#DejaVuSans-104\"/>\n    </g>\n   </g>\n   <g id=\"legend_1\">\n    <g id=\"patch_7\">\n     <path d=\"M 310.521023 59.674375 \nL 366.508523 59.674375 \nQ 368.508523 59.674375 368.508523 57.674375 \nL 368.508523 29.318125 \nQ 368.508523 27.318125 366.508523 27.318125 \nL 310.521023 27.318125 \nQ 308.521023 27.318125 308.521023 29.318125 \nL 308.521023 57.674375 \nQ 308.521023 59.674375 310.521023 59.674375 \nz\n\" style=\"fill:#ffffff;opacity:0.8;stroke:#cccccc;stroke-linejoin:miter;\"/>\n    </g>\n    <g id=\"line2d_15\">\n     <path d=\"M 312.521023 35.416562 \nL 332.521023 35.416562 \n\" style=\"fill:none;stroke:#1f77b4;stroke-linecap:square;stroke-width:1.5;\"/>\n    </g>\n    <g id=\"line2d_16\"/>\n    <g id=\"text_16\">\n     <!-- Train -->\n     <g transform=\"translate(340.521023 38.916562)scale(0.1 -0.1)\">\n      <use xlink:href=\"#DejaVuSans-84\"/>\n      <use x=\"46.333984\" xlink:href=\"#DejaVuSans-114\"/>\n      <use x=\"87.447266\" xlink:href=\"#DejaVuSans-97\"/>\n      <use x=\"148.726562\" xlink:href=\"#DejaVuSans-105\"/>\n      <use x=\"176.509766\" xlink:href=\"#DejaVuSans-110\"/>\n     </g>\n    </g>\n    <g id=\"line2d_17\">\n     <path d=\"M 312.521023 50.094687 \nL 332.521023 50.094687 \n\" style=\"fill:none;stroke:#ff7f0e;stroke-linecap:square;stroke-width:1.5;\"/>\n    </g>\n    <g id=\"line2d_18\"/>\n    <g id=\"text_17\">\n     <!-- Test -->\n     <defs>\n      <path d=\"M 18.3125 70.21875 \nL 18.3125 54.6875 \nL 36.8125 54.6875 \nL 36.8125 47.703125 \nL 18.3125 47.703125 \nL 18.3125 18.015625 \nQ 18.3125 11.328125 20.140625 9.421875 \nQ 21.96875 7.515625 27.59375 7.515625 \nL 36.8125 7.515625 \nL 36.8125 0 \nL 27.59375 0 \nQ 17.1875 0 13.234375 3.875 \nQ 9.28125 7.765625 9.28125 18.015625 \nL 9.28125 47.703125 \nL 2.6875 47.703125 \nL 2.6875 54.6875 \nL 9.28125 54.6875 \nL 9.28125 70.21875 \nz\n\" id=\"DejaVuSans-116\"/>\n     </defs>\n     <g transform=\"translate(340.521023 53.594687)scale(0.1 -0.1)\">\n      <use xlink:href=\"#DejaVuSans-84\"/>\n      <use x=\"44.083984\" xlink:href=\"#DejaVuSans-101\"/>\n      <use x=\"105.607422\" xlink:href=\"#DejaVuSans-115\"/>\n      <use x=\"157.707031\" xlink:href=\"#DejaVuSans-116\"/>\n     </g>\n    </g>\n   </g>\n  </g>\n  <g id=\"axes_2\">\n   <g id=\"patch_8\">\n    <path d=\"M 439.453977 239.758125 \nL 769.18125 239.758125 \nL 769.18125 22.318125 \nL 439.453977 22.318125 \nz\n\" style=\"fill:#ffffff;\"/>\n   </g>\n   <g id=\"matplotlib.axis_3\">\n    <g id=\"xtick_7\">\n     <g id=\"line2d_19\">\n      <g>\n       <use style=\"stroke:#000000;stroke-width:0.8;\" x=\"454.441581\" xlink:href=\"#mc266d0e54f\" y=\"239.758125\"/>\n      </g>\n     </g>\n     <g id=\"text_18\">\n      <!-- 0 -->\n      <g transform=\"translate(451.260331 254.356562)scale(0.1 -0.1)\">\n       <use xlink:href=\"#DejaVuSans-48\"/>\n      </g>\n     </g>\n    </g>\n    <g id=\"xtick_8\">\n     <g id=\"line2d_20\">\n      <g>\n       <use style=\"stroke:#000000;stroke-width:0.8;\" x=\"515.615472\" xlink:href=\"#mc266d0e54f\" y=\"239.758125\"/>\n      </g>\n     </g>\n     <g id=\"text_19\">\n      <!-- 10 -->\n      <g transform=\"translate(509.252972 254.356562)scale(0.1 -0.1)\">\n       <use xlink:href=\"#DejaVuSans-49\"/>\n       <use x=\"63.623047\" xlink:href=\"#DejaVuSans-48\"/>\n      </g>\n     </g>\n    </g>\n    <g id=\"xtick_9\">\n     <g id=\"line2d_21\">\n      <g>\n       <use style=\"stroke:#000000;stroke-width:0.8;\" x=\"576.789363\" xlink:href=\"#mc266d0e54f\" y=\"239.758125\"/>\n      </g>\n     </g>\n     <g id=\"text_20\">\n      <!-- 20 -->\n      <g transform=\"translate(570.426863 254.356562)scale(0.1 -0.1)\">\n       <use xlink:href=\"#DejaVuSans-50\"/>\n       <use x=\"63.623047\" xlink:href=\"#DejaVuSans-48\"/>\n      </g>\n     </g>\n    </g>\n    <g id=\"xtick_10\">\n     <g id=\"line2d_22\">\n      <g>\n       <use style=\"stroke:#000000;stroke-width:0.8;\" x=\"637.963254\" xlink:href=\"#mc266d0e54f\" y=\"239.758125\"/>\n      </g>\n     </g>\n     <g id=\"text_21\">\n      <!-- 30 -->\n      <g transform=\"translate(631.600754 254.356562)scale(0.1 -0.1)\">\n       <use xlink:href=\"#DejaVuSans-51\"/>\n       <use x=\"63.623047\" xlink:href=\"#DejaVuSans-48\"/>\n      </g>\n     </g>\n    </g>\n    <g id=\"xtick_11\">\n     <g id=\"line2d_23\">\n      <g>\n       <use style=\"stroke:#000000;stroke-width:0.8;\" x=\"699.137145\" xlink:href=\"#mc266d0e54f\" y=\"239.758125\"/>\n      </g>\n     </g>\n     <g id=\"text_22\">\n      <!-- 40 -->\n      <g transform=\"translate(692.774645 254.356562)scale(0.1 -0.1)\">\n       <use xlink:href=\"#DejaVuSans-52\"/>\n       <use x=\"63.623047\" xlink:href=\"#DejaVuSans-48\"/>\n      </g>\n     </g>\n    </g>\n    <g id=\"xtick_12\">\n     <g id=\"line2d_24\">\n      <g>\n       <use style=\"stroke:#000000;stroke-width:0.8;\" x=\"760.311036\" xlink:href=\"#mc266d0e54f\" y=\"239.758125\"/>\n      </g>\n     </g>\n     <g id=\"text_23\">\n      <!-- 50 -->\n      <g transform=\"translate(753.948536 254.356562)scale(0.1 -0.1)\">\n       <use xlink:href=\"#DejaVuSans-53\"/>\n       <use x=\"63.623047\" xlink:href=\"#DejaVuSans-48\"/>\n      </g>\n     </g>\n    </g>\n    <g id=\"text_24\">\n     <!-- Training Epoch -->\n     <g transform=\"translate(567.691832 268.034687)scale(0.1 -0.1)\">\n      <use xlink:href=\"#DejaVuSans-84\"/>\n      <use x=\"46.333984\" xlink:href=\"#DejaVuSans-114\"/>\n      <use x=\"87.447266\" xlink:href=\"#DejaVuSans-97\"/>\n      <use x=\"148.726562\" xlink:href=\"#DejaVuSans-105\"/>\n      <use x=\"176.509766\" xlink:href=\"#DejaVuSans-110\"/>\n      <use x=\"239.888672\" xlink:href=\"#DejaVuSans-105\"/>\n      <use x=\"267.671875\" xlink:href=\"#DejaVuSans-110\"/>\n      <use x=\"331.050781\" xlink:href=\"#DejaVuSans-103\"/>\n      <use x=\"394.527344\" xlink:href=\"#DejaVuSans-32\"/>\n      <use x=\"426.314453\" xlink:href=\"#DejaVuSans-69\"/>\n      <use x=\"489.498047\" xlink:href=\"#DejaVuSans-112\"/>\n      <use x=\"552.974609\" xlink:href=\"#DejaVuSans-111\"/>\n      <use x=\"614.15625\" xlink:href=\"#DejaVuSans-99\"/>\n      <use x=\"669.136719\" xlink:href=\"#DejaVuSans-104\"/>\n     </g>\n    </g>\n   </g>\n   <g id=\"matplotlib.axis_4\">\n    <g id=\"ytick_7\">\n     <g id=\"line2d_25\">\n      <g>\n       <use style=\"stroke:#000000;stroke-width:0.8;\" x=\"439.453977\" xlink:href=\"#m4aabbaa202\" y=\"216.707783\"/>\n      </g>\n     </g>\n     <g id=\"text_25\">\n      <!-- 70 -->\n      <g transform=\"translate(419.728977 220.507002)scale(0.1 -0.1)\">\n       <use xlink:href=\"#DejaVuSans-55\"/>\n       <use x=\"63.623047\" xlink:href=\"#DejaVuSans-48\"/>\n      </g>\n     </g>\n    </g>\n    <g id=\"ytick_8\">\n     <g id=\"line2d_26\">\n      <g>\n       <use style=\"stroke:#000000;stroke-width:0.8;\" x=\"439.453977\" xlink:href=\"#m4aabbaa202\" y=\"182.112901\"/>\n      </g>\n     </g>\n     <g id=\"text_26\">\n      <!-- 75 -->\n      <g transform=\"translate(419.728977 185.912119)scale(0.1 -0.1)\">\n       <use xlink:href=\"#DejaVuSans-55\"/>\n       <use x=\"63.623047\" xlink:href=\"#DejaVuSans-53\"/>\n      </g>\n     </g>\n    </g>\n    <g id=\"ytick_9\">\n     <g id=\"line2d_27\">\n      <g>\n       <use style=\"stroke:#000000;stroke-width:0.8;\" x=\"439.453977\" xlink:href=\"#m4aabbaa202\" y=\"147.518018\"/>\n      </g>\n     </g>\n     <g id=\"text_27\">\n      <!-- 80 -->\n      <defs>\n       <path d=\"M 31.78125 34.625 \nQ 24.75 34.625 20.71875 30.859375 \nQ 16.703125 27.09375 16.703125 20.515625 \nQ 16.703125 13.921875 20.71875 10.15625 \nQ 24.75 6.390625 31.78125 6.390625 \nQ 38.8125 6.390625 42.859375 10.171875 \nQ 46.921875 13.96875 46.921875 20.515625 \nQ 46.921875 27.09375 42.890625 30.859375 \nQ 38.875 34.625 31.78125 34.625 \nz\nM 21.921875 38.8125 \nQ 15.578125 40.375 12.03125 44.71875 \nQ 8.5 49.078125 8.5 55.328125 \nQ 8.5 64.0625 14.71875 69.140625 \nQ 20.953125 74.21875 31.78125 74.21875 \nQ 42.671875 74.21875 48.875 69.140625 \nQ 55.078125 64.0625 55.078125 55.328125 \nQ 55.078125 49.078125 51.53125 44.71875 \nQ 48 40.375 41.703125 38.8125 \nQ 48.828125 37.15625 52.796875 32.3125 \nQ 56.78125 27.484375 56.78125 20.515625 \nQ 56.78125 9.90625 50.3125 4.234375 \nQ 43.84375 -1.421875 31.78125 -1.421875 \nQ 19.734375 -1.421875 13.25 4.234375 \nQ 6.78125 9.90625 6.78125 20.515625 \nQ 6.78125 27.484375 10.78125 32.3125 \nQ 14.796875 37.15625 21.921875 38.8125 \nz\nM 18.3125 54.390625 \nQ 18.3125 48.734375 21.84375 45.5625 \nQ 25.390625 42.390625 31.78125 42.390625 \nQ 38.140625 42.390625 41.71875 45.5625 \nQ 45.3125 48.734375 45.3125 54.390625 \nQ 45.3125 60.0625 41.71875 63.234375 \nQ 38.140625 66.40625 31.78125 66.40625 \nQ 25.390625 66.40625 21.84375 63.234375 \nQ 18.3125 60.0625 18.3125 54.390625 \nz\n\" id=\"DejaVuSans-56\"/>\n      </defs>\n      <g transform=\"translate(419.728977 151.317237)scale(0.1 -0.1)\">\n       <use xlink:href=\"#DejaVuSans-56\"/>\n       <use x=\"63.623047\" xlink:href=\"#DejaVuSans-48\"/>\n      </g>\n     </g>\n    </g>\n    <g id=\"ytick_10\">\n     <g id=\"line2d_28\">\n      <g>\n       <use style=\"stroke:#000000;stroke-width:0.8;\" x=\"439.453977\" xlink:href=\"#m4aabbaa202\" y=\"112.923136\"/>\n      </g>\n     </g>\n     <g id=\"text_28\">\n      <!-- 85 -->\n      <g transform=\"translate(419.728977 116.722355)scale(0.1 -0.1)\">\n       <use xlink:href=\"#DejaVuSans-56\"/>\n       <use x=\"63.623047\" xlink:href=\"#DejaVuSans-53\"/>\n      </g>\n     </g>\n    </g>\n    <g id=\"ytick_11\">\n     <g id=\"line2d_29\">\n      <g>\n       <use style=\"stroke:#000000;stroke-width:0.8;\" x=\"439.453977\" xlink:href=\"#m4aabbaa202\" y=\"78.328254\"/>\n      </g>\n     </g>\n     <g id=\"text_29\">\n      <!-- 90 -->\n      <defs>\n       <path d=\"M 10.984375 1.515625 \nL 10.984375 10.5 \nQ 14.703125 8.734375 18.5 7.8125 \nQ 22.3125 6.890625 25.984375 6.890625 \nQ 35.75 6.890625 40.890625 13.453125 \nQ 46.046875 20.015625 46.78125 33.40625 \nQ 43.953125 29.203125 39.59375 26.953125 \nQ 35.25 24.703125 29.984375 24.703125 \nQ 19.046875 24.703125 12.671875 31.3125 \nQ 6.296875 37.9375 6.296875 49.421875 \nQ 6.296875 60.640625 12.9375 67.421875 \nQ 19.578125 74.21875 30.609375 74.21875 \nQ 43.265625 74.21875 49.921875 64.515625 \nQ 56.59375 54.828125 56.59375 36.375 \nQ 56.59375 19.140625 48.40625 8.859375 \nQ 40.234375 -1.421875 26.421875 -1.421875 \nQ 22.703125 -1.421875 18.890625 -0.6875 \nQ 15.09375 0.046875 10.984375 1.515625 \nz\nM 30.609375 32.421875 \nQ 37.25 32.421875 41.125 36.953125 \nQ 45.015625 41.5 45.015625 49.421875 \nQ 45.015625 57.28125 41.125 61.84375 \nQ 37.25 66.40625 30.609375 66.40625 \nQ 23.96875 66.40625 20.09375 61.84375 \nQ 16.21875 57.28125 16.21875 49.421875 \nQ 16.21875 41.5 20.09375 36.953125 \nQ 23.96875 32.421875 30.609375 32.421875 \nz\n\" id=\"DejaVuSans-57\"/>\n      </defs>\n      <g transform=\"translate(419.728977 82.127472)scale(0.1 -0.1)\">\n       <use xlink:href=\"#DejaVuSans-57\"/>\n       <use x=\"63.623047\" xlink:href=\"#DejaVuSans-48\"/>\n      </g>\n     </g>\n    </g>\n    <g id=\"ytick_12\">\n     <g id=\"line2d_30\">\n      <g>\n       <use style=\"stroke:#000000;stroke-width:0.8;\" x=\"439.453977\" xlink:href=\"#m4aabbaa202\" y=\"43.733371\"/>\n      </g>\n     </g>\n     <g id=\"text_30\">\n      <!-- 95 -->\n      <g transform=\"translate(419.728977 47.53259)scale(0.1 -0.1)\">\n       <use xlink:href=\"#DejaVuSans-57\"/>\n       <use x=\"63.623047\" xlink:href=\"#DejaVuSans-53\"/>\n      </g>\n     </g>\n    </g>\n    <g id=\"text_31\">\n     <!-- Accuracy (%) -->\n     <defs>\n      <path d=\"M 34.1875 63.1875 \nL 20.796875 26.90625 \nL 47.609375 26.90625 \nz\nM 28.609375 72.90625 \nL 39.796875 72.90625 \nL 67.578125 0 \nL 57.328125 0 \nL 50.6875 18.703125 \nL 17.828125 18.703125 \nL 11.1875 0 \nL 0.78125 0 \nz\n\" id=\"DejaVuSans-65\"/>\n      <path d=\"M 8.5 21.578125 \nL 8.5 54.6875 \nL 17.484375 54.6875 \nL 17.484375 21.921875 \nQ 17.484375 14.15625 20.5 10.265625 \nQ 23.53125 6.390625 29.59375 6.390625 \nQ 36.859375 6.390625 41.078125 11.03125 \nQ 45.3125 15.671875 45.3125 23.6875 \nL 45.3125 54.6875 \nL 54.296875 54.6875 \nL 54.296875 0 \nL 45.3125 0 \nL 45.3125 8.40625 \nQ 42.046875 3.421875 37.71875 1 \nQ 33.40625 -1.421875 27.6875 -1.421875 \nQ 18.265625 -1.421875 13.375 4.4375 \nQ 8.5 10.296875 8.5 21.578125 \nz\nM 31.109375 56 \nz\n\" id=\"DejaVuSans-117\"/>\n      <path d=\"M 32.171875 -5.078125 \nQ 28.375 -14.84375 24.75 -17.8125 \nQ 21.140625 -20.796875 15.09375 -20.796875 \nL 7.90625 -20.796875 \nL 7.90625 -13.28125 \nL 13.1875 -13.28125 \nQ 16.890625 -13.28125 18.9375 -11.515625 \nQ 21 -9.765625 23.484375 -3.21875 \nL 25.09375 0.875 \nL 2.984375 54.6875 \nL 12.5 54.6875 \nL 29.59375 11.921875 \nL 46.6875 54.6875 \nL 56.203125 54.6875 \nz\n\" id=\"DejaVuSans-121\"/>\n      <path d=\"M 31 75.875 \nQ 24.46875 64.65625 21.28125 53.65625 \nQ 18.109375 42.671875 18.109375 31.390625 \nQ 18.109375 20.125 21.3125 9.0625 \nQ 24.515625 -2 31 -13.1875 \nL 23.1875 -13.1875 \nQ 15.875 -1.703125 12.234375 9.375 \nQ 8.59375 20.453125 8.59375 31.390625 \nQ 8.59375 42.28125 12.203125 53.3125 \nQ 15.828125 64.359375 23.1875 75.875 \nz\n\" id=\"DejaVuSans-40\"/>\n      <path d=\"M 72.703125 32.078125 \nQ 68.453125 32.078125 66.03125 28.46875 \nQ 63.625 24.859375 63.625 18.40625 \nQ 63.625 12.0625 66.03125 8.421875 \nQ 68.453125 4.78125 72.703125 4.78125 \nQ 76.859375 4.78125 79.265625 8.421875 \nQ 81.6875 12.0625 81.6875 18.40625 \nQ 81.6875 24.8125 79.265625 28.4375 \nQ 76.859375 32.078125 72.703125 32.078125 \nz\nM 72.703125 38.28125 \nQ 80.421875 38.28125 84.953125 32.90625 \nQ 89.5 27.546875 89.5 18.40625 \nQ 89.5 9.28125 84.9375 3.921875 \nQ 80.375 -1.421875 72.703125 -1.421875 \nQ 64.890625 -1.421875 60.34375 3.921875 \nQ 55.8125 9.28125 55.8125 18.40625 \nQ 55.8125 27.59375 60.375 32.9375 \nQ 64.9375 38.28125 72.703125 38.28125 \nz\nM 22.3125 68.015625 \nQ 18.109375 68.015625 15.6875 64.375 \nQ 13.28125 60.75 13.28125 54.390625 \nQ 13.28125 47.953125 15.671875 44.328125 \nQ 18.0625 40.71875 22.3125 40.71875 \nQ 26.5625 40.71875 28.96875 44.328125 \nQ 31.390625 47.953125 31.390625 54.390625 \nQ 31.390625 60.6875 28.953125 64.34375 \nQ 26.515625 68.015625 22.3125 68.015625 \nz\nM 66.40625 74.21875 \nL 74.21875 74.21875 \nL 28.609375 -1.421875 \nL 20.796875 -1.421875 \nz\nM 22.3125 74.21875 \nQ 30.03125 74.21875 34.609375 68.875 \nQ 39.203125 63.53125 39.203125 54.390625 \nQ 39.203125 45.171875 34.640625 39.84375 \nQ 30.078125 34.515625 22.3125 34.515625 \nQ 14.546875 34.515625 10.03125 39.859375 \nQ 5.515625 45.21875 5.515625 54.390625 \nQ 5.515625 63.484375 10.046875 68.84375 \nQ 14.59375 74.21875 22.3125 74.21875 \nz\n\" id=\"DejaVuSans-37\"/>\n      <path d=\"M 8.015625 75.875 \nL 15.828125 75.875 \nQ 23.140625 64.359375 26.78125 53.3125 \nQ 30.421875 42.28125 30.421875 31.390625 \nQ 30.421875 20.453125 26.78125 9.375 \nQ 23.140625 -1.703125 15.828125 -13.1875 \nL 8.015625 -13.1875 \nQ 14.5 -2 17.703125 9.0625 \nQ 20.90625 20.125 20.90625 31.390625 \nQ 20.90625 42.671875 17.703125 53.65625 \nQ 14.5 64.65625 8.015625 75.875 \nz\n\" id=\"DejaVuSans-41\"/>\n     </defs>\n     <g transform=\"translate(413.64929 164.107656)rotate(-90)scale(0.1 -0.1)\">\n      <use xlink:href=\"#DejaVuSans-65\"/>\n      <use x=\"66.658203\" xlink:href=\"#DejaVuSans-99\"/>\n      <use x=\"121.638672\" xlink:href=\"#DejaVuSans-99\"/>\n      <use x=\"176.619141\" xlink:href=\"#DejaVuSans-117\"/>\n      <use x=\"239.998047\" xlink:href=\"#DejaVuSans-114\"/>\n      <use x=\"281.111328\" xlink:href=\"#DejaVuSans-97\"/>\n      <use x=\"342.390625\" xlink:href=\"#DejaVuSans-99\"/>\n      <use x=\"397.371094\" xlink:href=\"#DejaVuSans-121\"/>\n      <use x=\"456.550781\" xlink:href=\"#DejaVuSans-32\"/>\n      <use x=\"488.337891\" xlink:href=\"#DejaVuSans-40\"/>\n      <use x=\"527.351562\" xlink:href=\"#DejaVuSans-37\"/>\n      <use x=\"622.371094\" xlink:href=\"#DejaVuSans-41\"/>\n     </g>\n    </g>\n   </g>\n   <g id=\"line2d_31\">\n    <path clip-path=\"url(#p6de0d99867)\" d=\"M 454.441581 229.874489 \nL 460.55897 127.897025 \nL 466.676359 87.880592 \nL 472.793748 76.262886 \nL 478.911137 62.063496 \nL 485.028526 59.481813 \nL 491.145915 55.609209 \nL 497.263304 59.481813 \nL 503.380693 54.318394 \nL 509.498083 58.190945 \nL 515.615472 62.063496 \nL 521.732861 54.318394 \nL 527.85025 59.481813 \nL 533.967639 58.190945 \nL 540.085028 58.190945 \nL 546.202417 55.609209 \nL 552.319806 62.063496 \nL 558.437195 54.318394 \nL 564.554584 59.481813 \nL 570.671974 58.190945 \nL 576.789363 53.027526 \nL 582.906752 53.027526 \nL 589.024141 51.736658 \nL 595.14153 53.027526 \nL 601.258919 58.190945 \nL 607.376308 53.027526 \nL 613.493697 53.027526 \nL 619.611086 51.736658 \nL 625.728476 58.190945 \nL 631.845865 54.318394 \nL 637.963254 58.190945 \nL 644.080643 55.609209 \nL 650.198032 53.027526 \nL 656.315421 53.027526 \nL 662.43281 55.609209 \nL 668.550199 58.190945 \nL 674.667588 56.900077 \nL 680.784977 50.44579 \nL 686.902367 54.318394 \nL 693.019756 58.190945 \nL 699.137145 50.44579 \nL 705.254534 53.027526 \nL 711.371923 54.318394 \nL 717.489312 51.736658 \nL 723.606701 53.027526 \nL 729.72409 55.609209 \nL 735.841479 62.063496 \nL 741.958868 49.154975 \nL 748.076258 50.44579 \nL 754.193647 56.900077 \n\" style=\"fill:none;stroke:#1f77b4;stroke-linecap:square;stroke-width:1.5;\"/>\n   </g>\n   <g id=\"line2d_32\">\n    <path clip-path=\"url(#p6de0d99867)\" d=\"M 454.441581 112.923136 \nL 460.55897 78.328254 \nL 466.676359 55.264981 \nL 472.793748 43.733371 \nL 478.911137 43.733371 \nL 485.028526 43.733371 \nL 491.145915 32.201761 \nL 497.263304 32.201761 \nL 503.380693 32.201761 \nL 509.498083 32.201761 \nL 515.615472 32.201761 \nL 521.732861 32.201761 \nL 527.85025 32.201761 \nL 533.967639 43.733371 \nL 540.085028 32.201761 \nL 546.202417 32.201761 \nL 552.319806 32.201761 \nL 558.437195 43.733371 \nL 564.554584 32.201761 \nL 570.671974 32.201761 \nL 576.789363 32.201761 \nL 582.906752 43.733371 \nL 589.024141 32.201761 \nL 595.14153 43.733371 \nL 601.258919 43.733371 \nL 607.376308 32.201761 \nL 613.493697 43.733371 \nL 619.611086 43.733371 \nL 625.728476 43.733371 \nL 631.845865 32.201761 \nL 637.963254 32.201761 \nL 644.080643 43.733371 \nL 650.198032 32.201761 \nL 656.315421 32.201761 \nL 662.43281 32.201761 \nL 668.550199 43.733371 \nL 674.667588 32.201761 \nL 680.784977 43.733371 \nL 686.902367 32.201761 \nL 693.019756 43.733371 \nL 699.137145 32.201761 \nL 705.254534 43.733371 \nL 711.371923 32.201761 \nL 717.489312 32.201761 \nL 723.606701 43.733371 \nL 729.72409 43.733371 \nL 735.841479 32.201761 \nL 741.958868 32.201761 \nL 748.076258 43.733371 \nL 754.193647 32.201761 \n\" style=\"fill:none;stroke:#ff7f0e;stroke-linecap:square;stroke-width:1.5;\"/>\n   </g>\n   <g id=\"patch_9\">\n    <path d=\"M 439.453977 239.758125 \nL 439.453977 22.318125 \n\" style=\"fill:none;stroke:#000000;stroke-linecap:square;stroke-linejoin:miter;stroke-width:0.8;\"/>\n   </g>\n   <g id=\"patch_10\">\n    <path d=\"M 769.18125 239.758125 \nL 769.18125 22.318125 \n\" style=\"fill:none;stroke:#000000;stroke-linecap:square;stroke-linejoin:miter;stroke-width:0.8;\"/>\n   </g>\n   <g id=\"patch_11\">\n    <path d=\"M 439.453977 239.758125 \nL 769.18125 239.758125 \n\" style=\"fill:none;stroke:#000000;stroke-linecap:square;stroke-linejoin:miter;stroke-width:0.8;\"/>\n   </g>\n   <g id=\"patch_12\">\n    <path d=\"M 439.453977 22.318125 \nL 769.18125 22.318125 \n\" style=\"fill:none;stroke:#000000;stroke-linecap:square;stroke-linejoin:miter;stroke-width:0.8;\"/>\n   </g>\n   <g id=\"legend_2\">\n    <g id=\"patch_13\">\n     <path d=\"M 706.19375 234.758125 \nL 762.18125 234.758125 \nQ 764.18125 234.758125 764.18125 232.758125 \nL 764.18125 204.401875 \nQ 764.18125 202.401875 762.18125 202.401875 \nL 706.19375 202.401875 \nQ 704.19375 202.401875 704.19375 204.401875 \nL 704.19375 232.758125 \nQ 704.19375 234.758125 706.19375 234.758125 \nz\n\" style=\"fill:#ffffff;opacity:0.8;stroke:#cccccc;stroke-linejoin:miter;\"/>\n    </g>\n    <g id=\"line2d_33\">\n     <path d=\"M 708.19375 210.500312 \nL 728.19375 210.500312 \n\" style=\"fill:none;stroke:#1f77b4;stroke-linecap:square;stroke-width:1.5;\"/>\n    </g>\n    <g id=\"line2d_34\"/>\n    <g id=\"text_32\">\n     <!-- Train -->\n     <g transform=\"translate(736.19375 214.000312)scale(0.1 -0.1)\">\n      <use xlink:href=\"#DejaVuSans-84\"/>\n      <use x=\"46.333984\" xlink:href=\"#DejaVuSans-114\"/>\n      <use x=\"87.447266\" xlink:href=\"#DejaVuSans-97\"/>\n      <use x=\"148.726562\" xlink:href=\"#DejaVuSans-105\"/>\n      <use x=\"176.509766\" xlink:href=\"#DejaVuSans-110\"/>\n     </g>\n    </g>\n    <g id=\"line2d_35\">\n     <path d=\"M 708.19375 225.178437 \nL 728.19375 225.178437 \n\" style=\"fill:none;stroke:#ff7f0e;stroke-linecap:square;stroke-width:1.5;\"/>\n    </g>\n    <g id=\"line2d_36\"/>\n    <g id=\"text_33\">\n     <!-- Test -->\n     <g transform=\"translate(736.19375 228.678437)scale(0.1 -0.1)\">\n      <use xlink:href=\"#DejaVuSans-84\"/>\n      <use x=\"44.083984\" xlink:href=\"#DejaVuSans-101\"/>\n      <use x=\"105.607422\" xlink:href=\"#DejaVuSans-115\"/>\n      <use x=\"157.707031\" xlink:href=\"#DejaVuSans-116\"/>\n     </g>\n    </g>\n   </g>\n  </g>\n </g>\n <defs>\n  <clipPath id=\"p384158e087\">\n   <rect height=\"217.44\" width=\"329.727273\" x=\"43.78125\" y=\"22.318125\"/>\n  </clipPath>\n  <clipPath id=\"p6de0d99867\">\n   <rect height=\"217.44\" width=\"329.727273\" x=\"439.453977\" y=\"22.318125\"/>\n  </clipPath>\n </defs>\n</svg>\n"
          },
          "metadata": {
            "needs_background": "light"
          }
        }
      ]
    },
    {
      "cell_type": "code",
      "source": [
        "# Define metaparameters before running the experiment\n",
        "nNodesInModel = 80\n",
        "layersRange = [1,5,10,20]\n",
        "nDataPoints = np.arange(50,551,50)\n",
        "\n",
        "# Create a legend for plotting later\n",
        "legend = []\n",
        "\n",
        "# Print out model architectures\n",
        "for lidx,layers in enumerate(layersRange):\n",
        "\n",
        "    # Create Model\n",
        "    unitsperlayer = int(nNodesInModel/layersRange[lidx])\n",
        "    net = createTheModel(unitsperlayer,layers)[0]\n",
        "\n",
        "    # Count the parameters\n",
        "    nparams = np.sum([p.numel() for p in net.parameters() if p.requires_grad])\n",
        "\n",
        "    legend.append(\"%s layers, %s units, %s params\" %(layers, unitsperlayer, nparams))\n",
        "    print(\"This model will have %s layers, each with %s units, totalling %s parameters\" %(layers, unitsperlayer, nparams))"
      ],
      "metadata": {
        "colab": {
          "base_uri": "https://localhost:8080/"
        },
        "id": "ybThncQF3vWK",
        "outputId": "5f11c2ca-49bb-4089-b69f-61fbb5228929"
      },
      "execution_count": null,
      "outputs": [
        {
          "output_type": "stream",
          "name": "stdout",
          "text": [
            "This model will have 1 layers, each with 80 units, totalling 6963 parameters\n",
            "This model will have 5 layers, each with 16 units, totalling 1459 parameters\n",
            "This model will have 10 layers, each with 8 units, totalling 771 parameters\n",
            "This model will have 20 layers, each with 4 units, totalling 427 parameters\n"
          ]
        }
      ]
    },
    {
      "cell_type": "code",
      "source": [
        "# Initialize the results matrix\n",
        "results = np.zeros((len(nDataPoints), len(layersRange),2))\n",
        "\n",
        "for didx,pnts in enumerate(nDataPoints):\n",
        "\n",
        "    # Create the data\n",
        "    theData = createSomeData(pnts)\n",
        "    train_data = theData[\"train_data\"]\n",
        "    test_data = theData[\"test_data\"]\n",
        "\n",
        "    # Loop over the layers\n",
        "    for lidx,layers in enumerate(layersRange):\n",
        "\n",
        "        unitsperlayer = int(nNodesInModel/layersRange[lidx])\n",
        "        trainAcc, testAcc, losses, net = function2TrainTheModel(unitsperlayer, layers)\n",
        "\n",
        "        # Average of the last 5 accuracies and losses\n",
        "        results[didx,lidx,0] = np.mean(testAcc[-5:])\n",
        "        results[didx,lidx,1] = np.mean(losses[-5:])"
      ],
      "metadata": {
        "id": "4fW-76yb53QT"
      },
      "execution_count": null,
      "outputs": []
    },
    {
      "cell_type": "code",
      "source": [
        "# Plot the whole thing\n",
        "fig, ax = plt.subplots(1,2, figsize=(13,4))\n",
        "\n",
        "ax[0].plot(nDataPoints, results[:,:,1], \"s-\")\n",
        "ax[0].set_ylabel(\"Losses\")\n",
        "ax[0].set_xlabel(\"Number of Data Points\")\n",
        "ax[0].set_title(\"Losses per Epoch\")\n",
        "ax[0].legend(legend)\n",
        "\n",
        "ax[1].plot(nDataPoints, results[:,:,0], \"o-\")\n",
        "ax[1].set_ylabel(\"Accuracy (%)\")\n",
        "ax[1].set_xlabel(\"Number of Data Points\")\n",
        "ax[1].legend(legend)\n",
        "\n",
        "plt.show()\n",
        "# A wide network performs very well, while very deep network performs horribly\n",
        "# Hard to predict how the model is going to perform; it depends strongly on the nature of the data"
      ],
      "metadata": {
        "colab": {
          "base_uri": "https://localhost:8080/",
          "height": 391
        },
        "id": "LJ6r5LG17jPm",
        "outputId": "bf1d09e3-7182-4def-a85f-4bc2d2e6052f"
      },
      "execution_count": null,
      "outputs": [
        {
          "output_type": "display_data",
          "data": {
            "text/plain": [
              "<Figure size 936x288 with 2 Axes>"
            ],
            "image/svg+xml": "<?xml version=\"1.0\" encoding=\"utf-8\" standalone=\"no\"?>\n<!DOCTYPE svg PUBLIC \"-//W3C//DTD SVG 1.1//EN\"\n  \"http://www.w3.org/Graphics/SVG/1.1/DTD/svg11.dtd\">\n<!-- Created with matplotlib (https://matplotlib.org/) -->\n<svg height=\"277.314375pt\" version=\"1.1\" viewBox=\"0 0 776.38125 277.314375\" width=\"776.38125pt\" xmlns=\"http://www.w3.org/2000/svg\" xmlns:xlink=\"http://www.w3.org/1999/xlink\">\n <defs>\n  <style type=\"text/css\">\n*{stroke-linecap:butt;stroke-linejoin:round;}\n  </style>\n </defs>\n <g id=\"figure_1\">\n  <g id=\"patch_1\">\n   <path d=\"M 0 277.314375 \nL 776.38125 277.314375 \nL 776.38125 0 \nL 0 0 \nz\n\" style=\"fill:none;\"/>\n  </g>\n  <g id=\"axes_1\">\n   <g id=\"patch_2\">\n    <path d=\"M 43.78125 239.758125 \nL 373.508523 239.758125 \nL 373.508523 22.318125 \nL 43.78125 22.318125 \nz\n\" style=\"fill:#ffffff;\"/>\n   </g>\n   <g id=\"matplotlib.axis_1\">\n    <g id=\"xtick_1\">\n     <g id=\"line2d_1\">\n      <defs>\n       <path d=\"M 0 0 \nL 0 3.5 \n\" id=\"ma2b2f8d925\" style=\"stroke:#000000;stroke-width:0.8;\"/>\n      </defs>\n      <g>\n       <use style=\"stroke:#000000;stroke-width:0.8;\" x=\"88.74406\" xlink:href=\"#ma2b2f8d925\" y=\"239.758125\"/>\n      </g>\n     </g>\n     <g id=\"text_1\">\n      <!-- 100 -->\n      <defs>\n       <path d=\"M 12.40625 8.296875 \nL 28.515625 8.296875 \nL 28.515625 63.921875 \nL 10.984375 60.40625 \nL 10.984375 69.390625 \nL 28.421875 72.90625 \nL 38.28125 72.90625 \nL 38.28125 8.296875 \nL 54.390625 8.296875 \nL 54.390625 0 \nL 12.40625 0 \nz\n\" id=\"DejaVuSans-49\"/>\n       <path d=\"M 31.78125 66.40625 \nQ 24.171875 66.40625 20.328125 58.90625 \nQ 16.5 51.421875 16.5 36.375 \nQ 16.5 21.390625 20.328125 13.890625 \nQ 24.171875 6.390625 31.78125 6.390625 \nQ 39.453125 6.390625 43.28125 13.890625 \nQ 47.125 21.390625 47.125 36.375 \nQ 47.125 51.421875 43.28125 58.90625 \nQ 39.453125 66.40625 31.78125 66.40625 \nz\nM 31.78125 74.21875 \nQ 44.046875 74.21875 50.515625 64.515625 \nQ 56.984375 54.828125 56.984375 36.375 \nQ 56.984375 17.96875 50.515625 8.265625 \nQ 44.046875 -1.421875 31.78125 -1.421875 \nQ 19.53125 -1.421875 13.0625 8.265625 \nQ 6.59375 17.96875 6.59375 36.375 \nQ 6.59375 54.828125 13.0625 64.515625 \nQ 19.53125 74.21875 31.78125 74.21875 \nz\n\" id=\"DejaVuSans-48\"/>\n      </defs>\n      <g transform=\"translate(79.20031 254.356562)scale(0.1 -0.1)\">\n       <use xlink:href=\"#DejaVuSans-49\"/>\n       <use x=\"63.623047\" xlink:href=\"#DejaVuSans-48\"/>\n       <use x=\"127.246094\" xlink:href=\"#DejaVuSans-48\"/>\n      </g>\n     </g>\n    </g>\n    <g id=\"xtick_2\">\n     <g id=\"line2d_2\">\n      <g>\n       <use style=\"stroke:#000000;stroke-width:0.8;\" x=\"148.694473\" xlink:href=\"#ma2b2f8d925\" y=\"239.758125\"/>\n      </g>\n     </g>\n     <g id=\"text_2\">\n      <!-- 200 -->\n      <defs>\n       <path d=\"M 19.1875 8.296875 \nL 53.609375 8.296875 \nL 53.609375 0 \nL 7.328125 0 \nL 7.328125 8.296875 \nQ 12.9375 14.109375 22.625 23.890625 \nQ 32.328125 33.6875 34.8125 36.53125 \nQ 39.546875 41.84375 41.421875 45.53125 \nQ 43.3125 49.21875 43.3125 52.78125 \nQ 43.3125 58.59375 39.234375 62.25 \nQ 35.15625 65.921875 28.609375 65.921875 \nQ 23.96875 65.921875 18.8125 64.3125 \nQ 13.671875 62.703125 7.8125 59.421875 \nL 7.8125 69.390625 \nQ 13.765625 71.78125 18.9375 73 \nQ 24.125 74.21875 28.421875 74.21875 \nQ 39.75 74.21875 46.484375 68.546875 \nQ 53.21875 62.890625 53.21875 53.421875 \nQ 53.21875 48.921875 51.53125 44.890625 \nQ 49.859375 40.875 45.40625 35.40625 \nQ 44.1875 33.984375 37.640625 27.21875 \nQ 31.109375 20.453125 19.1875 8.296875 \nz\n\" id=\"DejaVuSans-50\"/>\n      </defs>\n      <g transform=\"translate(139.150723 254.356562)scale(0.1 -0.1)\">\n       <use xlink:href=\"#DejaVuSans-50\"/>\n       <use x=\"63.623047\" xlink:href=\"#DejaVuSans-48\"/>\n       <use x=\"127.246094\" xlink:href=\"#DejaVuSans-48\"/>\n      </g>\n     </g>\n    </g>\n    <g id=\"xtick_3\">\n     <g id=\"line2d_3\">\n      <g>\n       <use style=\"stroke:#000000;stroke-width:0.8;\" x=\"208.644886\" xlink:href=\"#ma2b2f8d925\" y=\"239.758125\"/>\n      </g>\n     </g>\n     <g id=\"text_3\">\n      <!-- 300 -->\n      <defs>\n       <path d=\"M 40.578125 39.3125 \nQ 47.65625 37.796875 51.625 33 \nQ 55.609375 28.21875 55.609375 21.1875 \nQ 55.609375 10.40625 48.1875 4.484375 \nQ 40.765625 -1.421875 27.09375 -1.421875 \nQ 22.515625 -1.421875 17.65625 -0.515625 \nQ 12.796875 0.390625 7.625 2.203125 \nL 7.625 11.71875 \nQ 11.71875 9.328125 16.59375 8.109375 \nQ 21.484375 6.890625 26.8125 6.890625 \nQ 36.078125 6.890625 40.9375 10.546875 \nQ 45.796875 14.203125 45.796875 21.1875 \nQ 45.796875 27.640625 41.28125 31.265625 \nQ 36.765625 34.90625 28.71875 34.90625 \nL 20.21875 34.90625 \nL 20.21875 43.015625 \nL 29.109375 43.015625 \nQ 36.375 43.015625 40.234375 45.921875 \nQ 44.09375 48.828125 44.09375 54.296875 \nQ 44.09375 59.90625 40.109375 62.90625 \nQ 36.140625 65.921875 28.71875 65.921875 \nQ 24.65625 65.921875 20.015625 65.03125 \nQ 15.375 64.15625 9.8125 62.3125 \nL 9.8125 71.09375 \nQ 15.4375 72.65625 20.34375 73.4375 \nQ 25.25 74.21875 29.59375 74.21875 \nQ 40.828125 74.21875 47.359375 69.109375 \nQ 53.90625 64.015625 53.90625 55.328125 \nQ 53.90625 49.265625 50.4375 45.09375 \nQ 46.96875 40.921875 40.578125 39.3125 \nz\n\" id=\"DejaVuSans-51\"/>\n      </defs>\n      <g transform=\"translate(199.101136 254.356562)scale(0.1 -0.1)\">\n       <use xlink:href=\"#DejaVuSans-51\"/>\n       <use x=\"63.623047\" xlink:href=\"#DejaVuSans-48\"/>\n       <use x=\"127.246094\" xlink:href=\"#DejaVuSans-48\"/>\n      </g>\n     </g>\n    </g>\n    <g id=\"xtick_4\">\n     <g id=\"line2d_4\">\n      <g>\n       <use style=\"stroke:#000000;stroke-width:0.8;\" x=\"268.5953\" xlink:href=\"#ma2b2f8d925\" y=\"239.758125\"/>\n      </g>\n     </g>\n     <g id=\"text_4\">\n      <!-- 400 -->\n      <defs>\n       <path d=\"M 37.796875 64.3125 \nL 12.890625 25.390625 \nL 37.796875 25.390625 \nz\nM 35.203125 72.90625 \nL 47.609375 72.90625 \nL 47.609375 25.390625 \nL 58.015625 25.390625 \nL 58.015625 17.1875 \nL 47.609375 17.1875 \nL 47.609375 0 \nL 37.796875 0 \nL 37.796875 17.1875 \nL 4.890625 17.1875 \nL 4.890625 26.703125 \nz\n\" id=\"DejaVuSans-52\"/>\n      </defs>\n      <g transform=\"translate(259.05155 254.356562)scale(0.1 -0.1)\">\n       <use xlink:href=\"#DejaVuSans-52\"/>\n       <use x=\"63.623047\" xlink:href=\"#DejaVuSans-48\"/>\n       <use x=\"127.246094\" xlink:href=\"#DejaVuSans-48\"/>\n      </g>\n     </g>\n    </g>\n    <g id=\"xtick_5\">\n     <g id=\"line2d_5\">\n      <g>\n       <use style=\"stroke:#000000;stroke-width:0.8;\" x=\"328.545713\" xlink:href=\"#ma2b2f8d925\" y=\"239.758125\"/>\n      </g>\n     </g>\n     <g id=\"text_5\">\n      <!-- 500 -->\n      <defs>\n       <path d=\"M 10.796875 72.90625 \nL 49.515625 72.90625 \nL 49.515625 64.59375 \nL 19.828125 64.59375 \nL 19.828125 46.734375 \nQ 21.96875 47.46875 24.109375 47.828125 \nQ 26.265625 48.1875 28.421875 48.1875 \nQ 40.625 48.1875 47.75 41.5 \nQ 54.890625 34.8125 54.890625 23.390625 \nQ 54.890625 11.625 47.5625 5.09375 \nQ 40.234375 -1.421875 26.90625 -1.421875 \nQ 22.3125 -1.421875 17.546875 -0.640625 \nQ 12.796875 0.140625 7.71875 1.703125 \nL 7.71875 11.625 \nQ 12.109375 9.234375 16.796875 8.0625 \nQ 21.484375 6.890625 26.703125 6.890625 \nQ 35.15625 6.890625 40.078125 11.328125 \nQ 45.015625 15.765625 45.015625 23.390625 \nQ 45.015625 31 40.078125 35.4375 \nQ 35.15625 39.890625 26.703125 39.890625 \nQ 22.75 39.890625 18.8125 39.015625 \nQ 14.890625 38.140625 10.796875 36.28125 \nz\n\" id=\"DejaVuSans-53\"/>\n      </defs>\n      <g transform=\"translate(319.001963 254.356562)scale(0.1 -0.1)\">\n       <use xlink:href=\"#DejaVuSans-53\"/>\n       <use x=\"63.623047\" xlink:href=\"#DejaVuSans-48\"/>\n       <use x=\"127.246094\" xlink:href=\"#DejaVuSans-48\"/>\n      </g>\n     </g>\n    </g>\n    <g id=\"text_6\">\n     <!-- Number of Data Points -->\n     <defs>\n      <path d=\"M 9.8125 72.90625 \nL 23.09375 72.90625 \nL 55.421875 11.921875 \nL 55.421875 72.90625 \nL 64.984375 72.90625 \nL 64.984375 0 \nL 51.703125 0 \nL 19.390625 60.984375 \nL 19.390625 0 \nL 9.8125 0 \nz\n\" id=\"DejaVuSans-78\"/>\n      <path d=\"M 8.5 21.578125 \nL 8.5 54.6875 \nL 17.484375 54.6875 \nL 17.484375 21.921875 \nQ 17.484375 14.15625 20.5 10.265625 \nQ 23.53125 6.390625 29.59375 6.390625 \nQ 36.859375 6.390625 41.078125 11.03125 \nQ 45.3125 15.671875 45.3125 23.6875 \nL 45.3125 54.6875 \nL 54.296875 54.6875 \nL 54.296875 0 \nL 45.3125 0 \nL 45.3125 8.40625 \nQ 42.046875 3.421875 37.71875 1 \nQ 33.40625 -1.421875 27.6875 -1.421875 \nQ 18.265625 -1.421875 13.375 4.4375 \nQ 8.5 10.296875 8.5 21.578125 \nz\nM 31.109375 56 \nz\n\" id=\"DejaVuSans-117\"/>\n      <path d=\"M 52 44.1875 \nQ 55.375 50.25 60.0625 53.125 \nQ 64.75 56 71.09375 56 \nQ 79.640625 56 84.28125 50.015625 \nQ 88.921875 44.046875 88.921875 33.015625 \nL 88.921875 0 \nL 79.890625 0 \nL 79.890625 32.71875 \nQ 79.890625 40.578125 77.09375 44.375 \nQ 74.3125 48.1875 68.609375 48.1875 \nQ 61.625 48.1875 57.5625 43.546875 \nQ 53.515625 38.921875 53.515625 30.90625 \nL 53.515625 0 \nL 44.484375 0 \nL 44.484375 32.71875 \nQ 44.484375 40.625 41.703125 44.40625 \nQ 38.921875 48.1875 33.109375 48.1875 \nQ 26.21875 48.1875 22.15625 43.53125 \nQ 18.109375 38.875 18.109375 30.90625 \nL 18.109375 0 \nL 9.078125 0 \nL 9.078125 54.6875 \nL 18.109375 54.6875 \nL 18.109375 46.1875 \nQ 21.1875 51.21875 25.484375 53.609375 \nQ 29.78125 56 35.6875 56 \nQ 41.65625 56 45.828125 52.96875 \nQ 50 49.953125 52 44.1875 \nz\n\" id=\"DejaVuSans-109\"/>\n      <path d=\"M 48.6875 27.296875 \nQ 48.6875 37.203125 44.609375 42.84375 \nQ 40.53125 48.484375 33.40625 48.484375 \nQ 26.265625 48.484375 22.1875 42.84375 \nQ 18.109375 37.203125 18.109375 27.296875 \nQ 18.109375 17.390625 22.1875 11.75 \nQ 26.265625 6.109375 33.40625 6.109375 \nQ 40.53125 6.109375 44.609375 11.75 \nQ 48.6875 17.390625 48.6875 27.296875 \nz\nM 18.109375 46.390625 \nQ 20.953125 51.265625 25.265625 53.625 \nQ 29.59375 56 35.59375 56 \nQ 45.5625 56 51.78125 48.09375 \nQ 58.015625 40.1875 58.015625 27.296875 \nQ 58.015625 14.40625 51.78125 6.484375 \nQ 45.5625 -1.421875 35.59375 -1.421875 \nQ 29.59375 -1.421875 25.265625 0.953125 \nQ 20.953125 3.328125 18.109375 8.203125 \nL 18.109375 0 \nL 9.078125 0 \nL 9.078125 75.984375 \nL 18.109375 75.984375 \nz\n\" id=\"DejaVuSans-98\"/>\n      <path d=\"M 56.203125 29.59375 \nL 56.203125 25.203125 \nL 14.890625 25.203125 \nQ 15.484375 15.921875 20.484375 11.0625 \nQ 25.484375 6.203125 34.421875 6.203125 \nQ 39.59375 6.203125 44.453125 7.46875 \nQ 49.3125 8.734375 54.109375 11.28125 \nL 54.109375 2.78125 \nQ 49.265625 0.734375 44.1875 -0.34375 \nQ 39.109375 -1.421875 33.890625 -1.421875 \nQ 20.796875 -1.421875 13.15625 6.1875 \nQ 5.515625 13.8125 5.515625 26.8125 \nQ 5.515625 40.234375 12.765625 48.109375 \nQ 20.015625 56 32.328125 56 \nQ 43.359375 56 49.78125 48.890625 \nQ 56.203125 41.796875 56.203125 29.59375 \nz\nM 47.21875 32.234375 \nQ 47.125 39.59375 43.09375 43.984375 \nQ 39.0625 48.390625 32.421875 48.390625 \nQ 24.90625 48.390625 20.390625 44.140625 \nQ 15.875 39.890625 15.1875 32.171875 \nz\n\" id=\"DejaVuSans-101\"/>\n      <path d=\"M 41.109375 46.296875 \nQ 39.59375 47.171875 37.8125 47.578125 \nQ 36.03125 48 33.890625 48 \nQ 26.265625 48 22.1875 43.046875 \nQ 18.109375 38.09375 18.109375 28.8125 \nL 18.109375 0 \nL 9.078125 0 \nL 9.078125 54.6875 \nL 18.109375 54.6875 \nL 18.109375 46.1875 \nQ 20.953125 51.171875 25.484375 53.578125 \nQ 30.03125 56 36.53125 56 \nQ 37.453125 56 38.578125 55.875 \nQ 39.703125 55.765625 41.0625 55.515625 \nz\n\" id=\"DejaVuSans-114\"/>\n      <path id=\"DejaVuSans-32\"/>\n      <path d=\"M 30.609375 48.390625 \nQ 23.390625 48.390625 19.1875 42.75 \nQ 14.984375 37.109375 14.984375 27.296875 \nQ 14.984375 17.484375 19.15625 11.84375 \nQ 23.34375 6.203125 30.609375 6.203125 \nQ 37.796875 6.203125 41.984375 11.859375 \nQ 46.1875 17.53125 46.1875 27.296875 \nQ 46.1875 37.015625 41.984375 42.703125 \nQ 37.796875 48.390625 30.609375 48.390625 \nz\nM 30.609375 56 \nQ 42.328125 56 49.015625 48.375 \nQ 55.71875 40.765625 55.71875 27.296875 \nQ 55.71875 13.875 49.015625 6.21875 \nQ 42.328125 -1.421875 30.609375 -1.421875 \nQ 18.84375 -1.421875 12.171875 6.21875 \nQ 5.515625 13.875 5.515625 27.296875 \nQ 5.515625 40.765625 12.171875 48.375 \nQ 18.84375 56 30.609375 56 \nz\n\" id=\"DejaVuSans-111\"/>\n      <path d=\"M 37.109375 75.984375 \nL 37.109375 68.5 \nL 28.515625 68.5 \nQ 23.6875 68.5 21.796875 66.546875 \nQ 19.921875 64.59375 19.921875 59.515625 \nL 19.921875 54.6875 \nL 34.71875 54.6875 \nL 34.71875 47.703125 \nL 19.921875 47.703125 \nL 19.921875 0 \nL 10.890625 0 \nL 10.890625 47.703125 \nL 2.296875 47.703125 \nL 2.296875 54.6875 \nL 10.890625 54.6875 \nL 10.890625 58.5 \nQ 10.890625 67.625 15.140625 71.796875 \nQ 19.390625 75.984375 28.609375 75.984375 \nz\n\" id=\"DejaVuSans-102\"/>\n      <path d=\"M 19.671875 64.796875 \nL 19.671875 8.109375 \nL 31.59375 8.109375 \nQ 46.6875 8.109375 53.6875 14.9375 \nQ 60.6875 21.78125 60.6875 36.53125 \nQ 60.6875 51.171875 53.6875 57.984375 \nQ 46.6875 64.796875 31.59375 64.796875 \nz\nM 9.8125 72.90625 \nL 30.078125 72.90625 \nQ 51.265625 72.90625 61.171875 64.09375 \nQ 71.09375 55.28125 71.09375 36.53125 \nQ 71.09375 17.671875 61.125 8.828125 \nQ 51.171875 0 30.078125 0 \nL 9.8125 0 \nz\n\" id=\"DejaVuSans-68\"/>\n      <path d=\"M 34.28125 27.484375 \nQ 23.390625 27.484375 19.1875 25 \nQ 14.984375 22.515625 14.984375 16.5 \nQ 14.984375 11.71875 18.140625 8.90625 \nQ 21.296875 6.109375 26.703125 6.109375 \nQ 34.1875 6.109375 38.703125 11.40625 \nQ 43.21875 16.703125 43.21875 25.484375 \nL 43.21875 27.484375 \nz\nM 52.203125 31.203125 \nL 52.203125 0 \nL 43.21875 0 \nL 43.21875 8.296875 \nQ 40.140625 3.328125 35.546875 0.953125 \nQ 30.953125 -1.421875 24.3125 -1.421875 \nQ 15.921875 -1.421875 10.953125 3.296875 \nQ 6 8.015625 6 15.921875 \nQ 6 25.140625 12.171875 29.828125 \nQ 18.359375 34.515625 30.609375 34.515625 \nL 43.21875 34.515625 \nL 43.21875 35.40625 \nQ 43.21875 41.609375 39.140625 45 \nQ 35.0625 48.390625 27.6875 48.390625 \nQ 23 48.390625 18.546875 47.265625 \nQ 14.109375 46.140625 10.015625 43.890625 \nL 10.015625 52.203125 \nQ 14.9375 54.109375 19.578125 55.046875 \nQ 24.21875 56 28.609375 56 \nQ 40.484375 56 46.34375 49.84375 \nQ 52.203125 43.703125 52.203125 31.203125 \nz\n\" id=\"DejaVuSans-97\"/>\n      <path d=\"M 18.3125 70.21875 \nL 18.3125 54.6875 \nL 36.8125 54.6875 \nL 36.8125 47.703125 \nL 18.3125 47.703125 \nL 18.3125 18.015625 \nQ 18.3125 11.328125 20.140625 9.421875 \nQ 21.96875 7.515625 27.59375 7.515625 \nL 36.8125 7.515625 \nL 36.8125 0 \nL 27.59375 0 \nQ 17.1875 0 13.234375 3.875 \nQ 9.28125 7.765625 9.28125 18.015625 \nL 9.28125 47.703125 \nL 2.6875 47.703125 \nL 2.6875 54.6875 \nL 9.28125 54.6875 \nL 9.28125 70.21875 \nz\n\" id=\"DejaVuSans-116\"/>\n      <path d=\"M 19.671875 64.796875 \nL 19.671875 37.40625 \nL 32.078125 37.40625 \nQ 38.96875 37.40625 42.71875 40.96875 \nQ 46.484375 44.53125 46.484375 51.125 \nQ 46.484375 57.671875 42.71875 61.234375 \nQ 38.96875 64.796875 32.078125 64.796875 \nz\nM 9.8125 72.90625 \nL 32.078125 72.90625 \nQ 44.34375 72.90625 50.609375 67.359375 \nQ 56.890625 61.8125 56.890625 51.125 \nQ 56.890625 40.328125 50.609375 34.8125 \nQ 44.34375 29.296875 32.078125 29.296875 \nL 19.671875 29.296875 \nL 19.671875 0 \nL 9.8125 0 \nz\n\" id=\"DejaVuSans-80\"/>\n      <path d=\"M 9.421875 54.6875 \nL 18.40625 54.6875 \nL 18.40625 0 \nL 9.421875 0 \nz\nM 9.421875 75.984375 \nL 18.40625 75.984375 \nL 18.40625 64.59375 \nL 9.421875 64.59375 \nz\n\" id=\"DejaVuSans-105\"/>\n      <path d=\"M 54.890625 33.015625 \nL 54.890625 0 \nL 45.90625 0 \nL 45.90625 32.71875 \nQ 45.90625 40.484375 42.875 44.328125 \nQ 39.84375 48.1875 33.796875 48.1875 \nQ 26.515625 48.1875 22.3125 43.546875 \nQ 18.109375 38.921875 18.109375 30.90625 \nL 18.109375 0 \nL 9.078125 0 \nL 9.078125 54.6875 \nL 18.109375 54.6875 \nL 18.109375 46.1875 \nQ 21.34375 51.125 25.703125 53.5625 \nQ 30.078125 56 35.796875 56 \nQ 45.21875 56 50.046875 50.171875 \nQ 54.890625 44.34375 54.890625 33.015625 \nz\n\" id=\"DejaVuSans-110\"/>\n      <path d=\"M 44.28125 53.078125 \nL 44.28125 44.578125 \nQ 40.484375 46.53125 36.375 47.5 \nQ 32.28125 48.484375 27.875 48.484375 \nQ 21.1875 48.484375 17.84375 46.4375 \nQ 14.5 44.390625 14.5 40.28125 \nQ 14.5 37.15625 16.890625 35.375 \nQ 19.28125 33.59375 26.515625 31.984375 \nL 29.59375 31.296875 \nQ 39.15625 29.25 43.1875 25.515625 \nQ 47.21875 21.78125 47.21875 15.09375 \nQ 47.21875 7.46875 41.1875 3.015625 \nQ 35.15625 -1.421875 24.609375 -1.421875 \nQ 20.21875 -1.421875 15.453125 -0.5625 \nQ 10.6875 0.296875 5.421875 2 \nL 5.421875 11.28125 \nQ 10.40625 8.6875 15.234375 7.390625 \nQ 20.0625 6.109375 24.8125 6.109375 \nQ 31.15625 6.109375 34.5625 8.28125 \nQ 37.984375 10.453125 37.984375 14.40625 \nQ 37.984375 18.0625 35.515625 20.015625 \nQ 33.0625 21.96875 24.703125 23.78125 \nL 21.578125 24.515625 \nQ 13.234375 26.265625 9.515625 29.90625 \nQ 5.8125 33.546875 5.8125 39.890625 \nQ 5.8125 47.609375 11.28125 51.796875 \nQ 16.75 56 26.8125 56 \nQ 31.78125 56 36.171875 55.265625 \nQ 40.578125 54.546875 44.28125 53.078125 \nz\n\" id=\"DejaVuSans-115\"/>\n     </defs>\n     <g transform=\"translate(152.018324 268.034687)scale(0.1 -0.1)\">\n      <use xlink:href=\"#DejaVuSans-78\"/>\n      <use x=\"74.804688\" xlink:href=\"#DejaVuSans-117\"/>\n      <use x=\"138.183594\" xlink:href=\"#DejaVuSans-109\"/>\n      <use x=\"235.595703\" xlink:href=\"#DejaVuSans-98\"/>\n      <use x=\"299.072266\" xlink:href=\"#DejaVuSans-101\"/>\n      <use x=\"360.595703\" xlink:href=\"#DejaVuSans-114\"/>\n      <use x=\"401.708984\" xlink:href=\"#DejaVuSans-32\"/>\n      <use x=\"433.496094\" xlink:href=\"#DejaVuSans-111\"/>\n      <use x=\"494.677734\" xlink:href=\"#DejaVuSans-102\"/>\n      <use x=\"529.882812\" xlink:href=\"#DejaVuSans-32\"/>\n      <use x=\"561.669922\" xlink:href=\"#DejaVuSans-68\"/>\n      <use x=\"638.671875\" xlink:href=\"#DejaVuSans-97\"/>\n      <use x=\"699.951172\" xlink:href=\"#DejaVuSans-116\"/>\n      <use x=\"739.160156\" xlink:href=\"#DejaVuSans-97\"/>\n      <use x=\"800.439453\" xlink:href=\"#DejaVuSans-32\"/>\n      <use x=\"832.226562\" xlink:href=\"#DejaVuSans-80\"/>\n      <use x=\"888.904297\" xlink:href=\"#DejaVuSans-111\"/>\n      <use x=\"950.085938\" xlink:href=\"#DejaVuSans-105\"/>\n      <use x=\"977.869141\" xlink:href=\"#DejaVuSans-110\"/>\n      <use x=\"1041.248047\" xlink:href=\"#DejaVuSans-116\"/>\n      <use x=\"1080.457031\" xlink:href=\"#DejaVuSans-115\"/>\n     </g>\n    </g>\n   </g>\n   <g id=\"matplotlib.axis_2\">\n    <g id=\"ytick_1\">\n     <g id=\"line2d_6\">\n      <defs>\n       <path d=\"M 0 0 \nL -3.5 0 \n\" id=\"m53d882c86b\" style=\"stroke:#000000;stroke-width:0.8;\"/>\n      </defs>\n      <g>\n       <use style=\"stroke:#000000;stroke-width:0.8;\" x=\"43.78125\" xlink:href=\"#m53d882c86b\" y=\"209.33947\"/>\n      </g>\n     </g>\n     <g id=\"text_7\">\n      <!-- 0.2 -->\n      <defs>\n       <path d=\"M 10.6875 12.40625 \nL 21 12.40625 \nL 21 0 \nL 10.6875 0 \nz\n\" id=\"DejaVuSans-46\"/>\n      </defs>\n      <g transform=\"translate(20.878125 213.138688)scale(0.1 -0.1)\">\n       <use xlink:href=\"#DejaVuSans-48\"/>\n       <use x=\"63.623047\" xlink:href=\"#DejaVuSans-46\"/>\n       <use x=\"95.410156\" xlink:href=\"#DejaVuSans-50\"/>\n      </g>\n     </g>\n    </g>\n    <g id=\"ytick_2\">\n     <g id=\"line2d_7\">\n      <g>\n       <use style=\"stroke:#000000;stroke-width:0.8;\" x=\"43.78125\" xlink:href=\"#m53d882c86b\" y=\"170.328449\"/>\n      </g>\n     </g>\n     <g id=\"text_8\">\n      <!-- 0.4 -->\n      <g transform=\"translate(20.878125 174.127668)scale(0.1 -0.1)\">\n       <use xlink:href=\"#DejaVuSans-48\"/>\n       <use x=\"63.623047\" xlink:href=\"#DejaVuSans-46\"/>\n       <use x=\"95.410156\" xlink:href=\"#DejaVuSans-52\"/>\n      </g>\n     </g>\n    </g>\n    <g id=\"ytick_3\">\n     <g id=\"line2d_8\">\n      <g>\n       <use style=\"stroke:#000000;stroke-width:0.8;\" x=\"43.78125\" xlink:href=\"#m53d882c86b\" y=\"131.317428\"/>\n      </g>\n     </g>\n     <g id=\"text_9\">\n      <!-- 0.6 -->\n      <defs>\n       <path d=\"M 33.015625 40.375 \nQ 26.375 40.375 22.484375 35.828125 \nQ 18.609375 31.296875 18.609375 23.390625 \nQ 18.609375 15.53125 22.484375 10.953125 \nQ 26.375 6.390625 33.015625 6.390625 \nQ 39.65625 6.390625 43.53125 10.953125 \nQ 47.40625 15.53125 47.40625 23.390625 \nQ 47.40625 31.296875 43.53125 35.828125 \nQ 39.65625 40.375 33.015625 40.375 \nz\nM 52.59375 71.296875 \nL 52.59375 62.3125 \nQ 48.875 64.0625 45.09375 64.984375 \nQ 41.3125 65.921875 37.59375 65.921875 \nQ 27.828125 65.921875 22.671875 59.328125 \nQ 17.53125 52.734375 16.796875 39.40625 \nQ 19.671875 43.65625 24.015625 45.921875 \nQ 28.375 48.1875 33.59375 48.1875 \nQ 44.578125 48.1875 50.953125 41.515625 \nQ 57.328125 34.859375 57.328125 23.390625 \nQ 57.328125 12.15625 50.6875 5.359375 \nQ 44.046875 -1.421875 33.015625 -1.421875 \nQ 20.359375 -1.421875 13.671875 8.265625 \nQ 6.984375 17.96875 6.984375 36.375 \nQ 6.984375 53.65625 15.1875 63.9375 \nQ 23.390625 74.21875 37.203125 74.21875 \nQ 40.921875 74.21875 44.703125 73.484375 \nQ 48.484375 72.75 52.59375 71.296875 \nz\n\" id=\"DejaVuSans-54\"/>\n      </defs>\n      <g transform=\"translate(20.878125 135.116647)scale(0.1 -0.1)\">\n       <use xlink:href=\"#DejaVuSans-48\"/>\n       <use x=\"63.623047\" xlink:href=\"#DejaVuSans-46\"/>\n       <use x=\"95.410156\" xlink:href=\"#DejaVuSans-54\"/>\n      </g>\n     </g>\n    </g>\n    <g id=\"ytick_4\">\n     <g id=\"line2d_9\">\n      <g>\n       <use style=\"stroke:#000000;stroke-width:0.8;\" x=\"43.78125\" xlink:href=\"#m53d882c86b\" y=\"92.306407\"/>\n      </g>\n     </g>\n     <g id=\"text_10\">\n      <!-- 0.8 -->\n      <defs>\n       <path d=\"M 31.78125 34.625 \nQ 24.75 34.625 20.71875 30.859375 \nQ 16.703125 27.09375 16.703125 20.515625 \nQ 16.703125 13.921875 20.71875 10.15625 \nQ 24.75 6.390625 31.78125 6.390625 \nQ 38.8125 6.390625 42.859375 10.171875 \nQ 46.921875 13.96875 46.921875 20.515625 \nQ 46.921875 27.09375 42.890625 30.859375 \nQ 38.875 34.625 31.78125 34.625 \nz\nM 21.921875 38.8125 \nQ 15.578125 40.375 12.03125 44.71875 \nQ 8.5 49.078125 8.5 55.328125 \nQ 8.5 64.0625 14.71875 69.140625 \nQ 20.953125 74.21875 31.78125 74.21875 \nQ 42.671875 74.21875 48.875 69.140625 \nQ 55.078125 64.0625 55.078125 55.328125 \nQ 55.078125 49.078125 51.53125 44.71875 \nQ 48 40.375 41.703125 38.8125 \nQ 48.828125 37.15625 52.796875 32.3125 \nQ 56.78125 27.484375 56.78125 20.515625 \nQ 56.78125 9.90625 50.3125 4.234375 \nQ 43.84375 -1.421875 31.78125 -1.421875 \nQ 19.734375 -1.421875 13.25 4.234375 \nQ 6.78125 9.90625 6.78125 20.515625 \nQ 6.78125 27.484375 10.78125 32.3125 \nQ 14.796875 37.15625 21.921875 38.8125 \nz\nM 18.3125 54.390625 \nQ 18.3125 48.734375 21.84375 45.5625 \nQ 25.390625 42.390625 31.78125 42.390625 \nQ 38.140625 42.390625 41.71875 45.5625 \nQ 45.3125 48.734375 45.3125 54.390625 \nQ 45.3125 60.0625 41.71875 63.234375 \nQ 38.140625 66.40625 31.78125 66.40625 \nQ 25.390625 66.40625 21.84375 63.234375 \nQ 18.3125 60.0625 18.3125 54.390625 \nz\n\" id=\"DejaVuSans-56\"/>\n      </defs>\n      <g transform=\"translate(20.878125 96.105626)scale(0.1 -0.1)\">\n       <use xlink:href=\"#DejaVuSans-48\"/>\n       <use x=\"63.623047\" xlink:href=\"#DejaVuSans-46\"/>\n       <use x=\"95.410156\" xlink:href=\"#DejaVuSans-56\"/>\n      </g>\n     </g>\n    </g>\n    <g id=\"ytick_5\">\n     <g id=\"line2d_10\">\n      <g>\n       <use style=\"stroke:#000000;stroke-width:0.8;\" x=\"43.78125\" xlink:href=\"#m53d882c86b\" y=\"53.295386\"/>\n      </g>\n     </g>\n     <g id=\"text_11\">\n      <!-- 1.0 -->\n      <g transform=\"translate(20.878125 57.094605)scale(0.1 -0.1)\">\n       <use xlink:href=\"#DejaVuSans-49\"/>\n       <use x=\"63.623047\" xlink:href=\"#DejaVuSans-46\"/>\n       <use x=\"95.410156\" xlink:href=\"#DejaVuSans-48\"/>\n      </g>\n     </g>\n    </g>\n    <g id=\"text_12\">\n     <!-- Losses -->\n     <defs>\n      <path d=\"M 9.8125 72.90625 \nL 19.671875 72.90625 \nL 19.671875 8.296875 \nL 55.171875 8.296875 \nL 55.171875 0 \nL 9.8125 0 \nz\n\" id=\"DejaVuSans-76\"/>\n     </defs>\n     <g transform=\"translate(14.798438 147.686562)rotate(-90)scale(0.1 -0.1)\">\n      <use xlink:href=\"#DejaVuSans-76\"/>\n      <use x=\"53.962891\" xlink:href=\"#DejaVuSans-111\"/>\n      <use x=\"115.144531\" xlink:href=\"#DejaVuSans-115\"/>\n      <use x=\"167.244141\" xlink:href=\"#DejaVuSans-115\"/>\n      <use x=\"219.34375\" xlink:href=\"#DejaVuSans-101\"/>\n      <use x=\"280.867188\" xlink:href=\"#DejaVuSans-115\"/>\n     </g>\n    </g>\n   </g>\n   <g id=\"line2d_11\">\n    <path clip-path=\"url(#p8a9c26a63e)\" d=\"M 58.768853 218.397614 \nL 88.74406 219.988224 \nL 118.719267 229.874489 \nL 148.694473 208.097017 \nL 178.66968 222.472114 \nL 208.644886 211.920866 \nL 238.620093 219.395624 \nL 268.5953 218.682496 \nL 298.570506 213.029895 \nL 328.545713 211.433157 \nL 358.520919 211.463644 \n\" style=\"fill:none;stroke:#1f77b4;stroke-linecap:square;stroke-width:1.5;\"/>\n    <defs>\n     <path d=\"M -3 3 \nL 3 3 \nL 3 -3 \nL -3 -3 \nz\n\" id=\"m98c0947f36\" style=\"stroke:#1f77b4;stroke-linejoin:miter;\"/>\n    </defs>\n    <g clip-path=\"url(#p8a9c26a63e)\">\n     <use style=\"fill:#1f77b4;stroke:#1f77b4;stroke-linejoin:miter;\" x=\"58.768853\" xlink:href=\"#m98c0947f36\" y=\"218.397614\"/>\n     <use style=\"fill:#1f77b4;stroke:#1f77b4;stroke-linejoin:miter;\" x=\"88.74406\" xlink:href=\"#m98c0947f36\" y=\"219.988224\"/>\n     <use style=\"fill:#1f77b4;stroke:#1f77b4;stroke-linejoin:miter;\" x=\"118.719267\" xlink:href=\"#m98c0947f36\" y=\"229.874489\"/>\n     <use style=\"fill:#1f77b4;stroke:#1f77b4;stroke-linejoin:miter;\" x=\"148.694473\" xlink:href=\"#m98c0947f36\" y=\"208.097017\"/>\n     <use style=\"fill:#1f77b4;stroke:#1f77b4;stroke-linejoin:miter;\" x=\"178.66968\" xlink:href=\"#m98c0947f36\" y=\"222.472114\"/>\n     <use style=\"fill:#1f77b4;stroke:#1f77b4;stroke-linejoin:miter;\" x=\"208.644886\" xlink:href=\"#m98c0947f36\" y=\"211.920866\"/>\n     <use style=\"fill:#1f77b4;stroke:#1f77b4;stroke-linejoin:miter;\" x=\"238.620093\" xlink:href=\"#m98c0947f36\" y=\"219.395624\"/>\n     <use style=\"fill:#1f77b4;stroke:#1f77b4;stroke-linejoin:miter;\" x=\"268.5953\" xlink:href=\"#m98c0947f36\" y=\"218.682496\"/>\n     <use style=\"fill:#1f77b4;stroke:#1f77b4;stroke-linejoin:miter;\" x=\"298.570506\" xlink:href=\"#m98c0947f36\" y=\"213.029895\"/>\n     <use style=\"fill:#1f77b4;stroke:#1f77b4;stroke-linejoin:miter;\" x=\"328.545713\" xlink:href=\"#m98c0947f36\" y=\"211.433157\"/>\n     <use style=\"fill:#1f77b4;stroke:#1f77b4;stroke-linejoin:miter;\" x=\"358.520919\" xlink:href=\"#m98c0947f36\" y=\"211.463644\"/>\n    </g>\n   </g>\n   <g id=\"line2d_12\">\n    <path clip-path=\"url(#p8a9c26a63e)\" d=\"M 58.768853 36.806542 \nL 88.74406 132.979178 \nL 118.719267 223.155728 \nL 148.694473 204.671438 \nL 178.66968 221.537034 \nL 208.644886 206.574654 \nL 238.620093 218.489917 \nL 268.5953 219.139954 \nL 298.570506 211.340074 \nL 328.545713 210.11169 \nL 358.520919 208.516929 \n\" style=\"fill:none;stroke:#ff7f0e;stroke-linecap:square;stroke-width:1.5;\"/>\n    <defs>\n     <path d=\"M -3 3 \nL 3 3 \nL 3 -3 \nL -3 -3 \nz\n\" id=\"m4bd1fce6c1\" style=\"stroke:#ff7f0e;stroke-linejoin:miter;\"/>\n    </defs>\n    <g clip-path=\"url(#p8a9c26a63e)\">\n     <use style=\"fill:#ff7f0e;stroke:#ff7f0e;stroke-linejoin:miter;\" x=\"58.768853\" xlink:href=\"#m4bd1fce6c1\" y=\"36.806542\"/>\n     <use style=\"fill:#ff7f0e;stroke:#ff7f0e;stroke-linejoin:miter;\" x=\"88.74406\" xlink:href=\"#m4bd1fce6c1\" y=\"132.979178\"/>\n     <use style=\"fill:#ff7f0e;stroke:#ff7f0e;stroke-linejoin:miter;\" x=\"118.719267\" xlink:href=\"#m4bd1fce6c1\" y=\"223.155728\"/>\n     <use style=\"fill:#ff7f0e;stroke:#ff7f0e;stroke-linejoin:miter;\" x=\"148.694473\" xlink:href=\"#m4bd1fce6c1\" y=\"204.671438\"/>\n     <use style=\"fill:#ff7f0e;stroke:#ff7f0e;stroke-linejoin:miter;\" x=\"178.66968\" xlink:href=\"#m4bd1fce6c1\" y=\"221.537034\"/>\n     <use style=\"fill:#ff7f0e;stroke:#ff7f0e;stroke-linejoin:miter;\" x=\"208.644886\" xlink:href=\"#m4bd1fce6c1\" y=\"206.574654\"/>\n     <use style=\"fill:#ff7f0e;stroke:#ff7f0e;stroke-linejoin:miter;\" x=\"238.620093\" xlink:href=\"#m4bd1fce6c1\" y=\"218.489917\"/>\n     <use style=\"fill:#ff7f0e;stroke:#ff7f0e;stroke-linejoin:miter;\" x=\"268.5953\" xlink:href=\"#m4bd1fce6c1\" y=\"219.139954\"/>\n     <use style=\"fill:#ff7f0e;stroke:#ff7f0e;stroke-linejoin:miter;\" x=\"298.570506\" xlink:href=\"#m4bd1fce6c1\" y=\"211.340074\"/>\n     <use style=\"fill:#ff7f0e;stroke:#ff7f0e;stroke-linejoin:miter;\" x=\"328.545713\" xlink:href=\"#m4bd1fce6c1\" y=\"210.11169\"/>\n     <use style=\"fill:#ff7f0e;stroke:#ff7f0e;stroke-linejoin:miter;\" x=\"358.520919\" xlink:href=\"#m4bd1fce6c1\" y=\"208.516929\"/>\n    </g>\n   </g>\n   <g id=\"line2d_13\">\n    <path clip-path=\"url(#p8a9c26a63e)\" d=\"M 58.768853 34.001786 \nL 88.74406 33.859816 \nL 118.719267 32.404446 \nL 148.694473 33.943871 \nL 178.66968 33.247268 \nL 208.644886 33.91251 \nL 238.620093 33.688608 \nL 268.5953 33.924376 \nL 298.570506 33.975849 \nL 328.545713 33.660394 \nL 358.520919 33.794261 \n\" style=\"fill:none;stroke:#2ca02c;stroke-linecap:square;stroke-width:1.5;\"/>\n    <defs>\n     <path d=\"M -3 3 \nL 3 3 \nL 3 -3 \nL -3 -3 \nz\n\" id=\"m3f20681de1\" style=\"stroke:#2ca02c;stroke-linejoin:miter;\"/>\n    </defs>\n    <g clip-path=\"url(#p8a9c26a63e)\">\n     <use style=\"fill:#2ca02c;stroke:#2ca02c;stroke-linejoin:miter;\" x=\"58.768853\" xlink:href=\"#m3f20681de1\" y=\"34.001786\"/>\n     <use style=\"fill:#2ca02c;stroke:#2ca02c;stroke-linejoin:miter;\" x=\"88.74406\" xlink:href=\"#m3f20681de1\" y=\"33.859816\"/>\n     <use style=\"fill:#2ca02c;stroke:#2ca02c;stroke-linejoin:miter;\" x=\"118.719267\" xlink:href=\"#m3f20681de1\" y=\"32.404446\"/>\n     <use style=\"fill:#2ca02c;stroke:#2ca02c;stroke-linejoin:miter;\" x=\"148.694473\" xlink:href=\"#m3f20681de1\" y=\"33.943871\"/>\n     <use style=\"fill:#2ca02c;stroke:#2ca02c;stroke-linejoin:miter;\" x=\"178.66968\" xlink:href=\"#m3f20681de1\" y=\"33.247268\"/>\n     <use style=\"fill:#2ca02c;stroke:#2ca02c;stroke-linejoin:miter;\" x=\"208.644886\" xlink:href=\"#m3f20681de1\" y=\"33.91251\"/>\n     <use style=\"fill:#2ca02c;stroke:#2ca02c;stroke-linejoin:miter;\" x=\"238.620093\" xlink:href=\"#m3f20681de1\" y=\"33.688608\"/>\n     <use style=\"fill:#2ca02c;stroke:#2ca02c;stroke-linejoin:miter;\" x=\"268.5953\" xlink:href=\"#m3f20681de1\" y=\"33.924376\"/>\n     <use style=\"fill:#2ca02c;stroke:#2ca02c;stroke-linejoin:miter;\" x=\"298.570506\" xlink:href=\"#m3f20681de1\" y=\"33.975849\"/>\n     <use style=\"fill:#2ca02c;stroke:#2ca02c;stroke-linejoin:miter;\" x=\"328.545713\" xlink:href=\"#m3f20681de1\" y=\"33.660394\"/>\n     <use style=\"fill:#2ca02c;stroke:#2ca02c;stroke-linejoin:miter;\" x=\"358.520919\" xlink:href=\"#m3f20681de1\" y=\"33.794261\"/>\n    </g>\n   </g>\n   <g id=\"line2d_14\">\n    <path clip-path=\"url(#p8a9c26a63e)\" d=\"M 58.768853 33.961227 \nL 88.74406 33.789167 \nL 118.719267 32.201761 \nL 148.694473 33.972565 \nL 178.66968 33.221622 \nL 208.644886 33.893131 \nL 238.620093 33.706689 \nL 268.5953 33.942023 \nL 298.570506 33.909614 \nL 328.545713 33.757249 \nL 358.520919 33.8248 \n\" style=\"fill:none;stroke:#d62728;stroke-linecap:square;stroke-width:1.5;\"/>\n    <defs>\n     <path d=\"M -3 3 \nL 3 3 \nL 3 -3 \nL -3 -3 \nz\n\" id=\"m7d0967980d\" style=\"stroke:#d62728;stroke-linejoin:miter;\"/>\n    </defs>\n    <g clip-path=\"url(#p8a9c26a63e)\">\n     <use style=\"fill:#d62728;stroke:#d62728;stroke-linejoin:miter;\" x=\"58.768853\" xlink:href=\"#m7d0967980d\" y=\"33.961227\"/>\n     <use style=\"fill:#d62728;stroke:#d62728;stroke-linejoin:miter;\" x=\"88.74406\" xlink:href=\"#m7d0967980d\" y=\"33.789167\"/>\n     <use style=\"fill:#d62728;stroke:#d62728;stroke-linejoin:miter;\" x=\"118.719267\" xlink:href=\"#m7d0967980d\" y=\"32.201761\"/>\n     <use style=\"fill:#d62728;stroke:#d62728;stroke-linejoin:miter;\" x=\"148.694473\" xlink:href=\"#m7d0967980d\" y=\"33.972565\"/>\n     <use style=\"fill:#d62728;stroke:#d62728;stroke-linejoin:miter;\" x=\"178.66968\" xlink:href=\"#m7d0967980d\" y=\"33.221622\"/>\n     <use style=\"fill:#d62728;stroke:#d62728;stroke-linejoin:miter;\" x=\"208.644886\" xlink:href=\"#m7d0967980d\" y=\"33.893131\"/>\n     <use style=\"fill:#d62728;stroke:#d62728;stroke-linejoin:miter;\" x=\"238.620093\" xlink:href=\"#m7d0967980d\" y=\"33.706689\"/>\n     <use style=\"fill:#d62728;stroke:#d62728;stroke-linejoin:miter;\" x=\"268.5953\" xlink:href=\"#m7d0967980d\" y=\"33.942023\"/>\n     <use style=\"fill:#d62728;stroke:#d62728;stroke-linejoin:miter;\" x=\"298.570506\" xlink:href=\"#m7d0967980d\" y=\"33.909614\"/>\n     <use style=\"fill:#d62728;stroke:#d62728;stroke-linejoin:miter;\" x=\"328.545713\" xlink:href=\"#m7d0967980d\" y=\"33.757249\"/>\n     <use style=\"fill:#d62728;stroke:#d62728;stroke-linejoin:miter;\" x=\"358.520919\" xlink:href=\"#m7d0967980d\" y=\"33.8248\"/>\n    </g>\n   </g>\n   <g id=\"patch_3\">\n    <path d=\"M 43.78125 239.758125 \nL 43.78125 22.318125 \n\" style=\"fill:none;stroke:#000000;stroke-linecap:square;stroke-linejoin:miter;stroke-width:0.8;\"/>\n   </g>\n   <g id=\"patch_4\">\n    <path d=\"M 373.508523 239.758125 \nL 373.508523 22.318125 \n\" style=\"fill:none;stroke:#000000;stroke-linecap:square;stroke-linejoin:miter;stroke-width:0.8;\"/>\n   </g>\n   <g id=\"patch_5\">\n    <path d=\"M 43.78125 239.758125 \nL 373.508523 239.758125 \n\" style=\"fill:none;stroke:#000000;stroke-linecap:square;stroke-linejoin:miter;stroke-width:0.8;\"/>\n   </g>\n   <g id=\"patch_6\">\n    <path d=\"M 43.78125 22.318125 \nL 373.508523 22.318125 \n\" style=\"fill:none;stroke:#000000;stroke-linecap:square;stroke-linejoin:miter;stroke-width:0.8;\"/>\n   </g>\n   <g id=\"text_13\">\n    <!-- Losses per Epoch -->\n    <defs>\n     <path d=\"M 18.109375 8.203125 \nL 18.109375 -20.796875 \nL 9.078125 -20.796875 \nL 9.078125 54.6875 \nL 18.109375 54.6875 \nL 18.109375 46.390625 \nQ 20.953125 51.265625 25.265625 53.625 \nQ 29.59375 56 35.59375 56 \nQ 45.5625 56 51.78125 48.09375 \nQ 58.015625 40.1875 58.015625 27.296875 \nQ 58.015625 14.40625 51.78125 6.484375 \nQ 45.5625 -1.421875 35.59375 -1.421875 \nQ 29.59375 -1.421875 25.265625 0.953125 \nQ 20.953125 3.328125 18.109375 8.203125 \nz\nM 48.6875 27.296875 \nQ 48.6875 37.203125 44.609375 42.84375 \nQ 40.53125 48.484375 33.40625 48.484375 \nQ 26.265625 48.484375 22.1875 42.84375 \nQ 18.109375 37.203125 18.109375 27.296875 \nQ 18.109375 17.390625 22.1875 11.75 \nQ 26.265625 6.109375 33.40625 6.109375 \nQ 40.53125 6.109375 44.609375 11.75 \nQ 48.6875 17.390625 48.6875 27.296875 \nz\n\" id=\"DejaVuSans-112\"/>\n     <path d=\"M 9.8125 72.90625 \nL 55.90625 72.90625 \nL 55.90625 64.59375 \nL 19.671875 64.59375 \nL 19.671875 43.015625 \nL 54.390625 43.015625 \nL 54.390625 34.71875 \nL 19.671875 34.71875 \nL 19.671875 8.296875 \nL 56.78125 8.296875 \nL 56.78125 0 \nL 9.8125 0 \nz\n\" id=\"DejaVuSans-69\"/>\n     <path d=\"M 48.78125 52.59375 \nL 48.78125 44.1875 \nQ 44.96875 46.296875 41.140625 47.34375 \nQ 37.3125 48.390625 33.40625 48.390625 \nQ 24.65625 48.390625 19.8125 42.84375 \nQ 14.984375 37.3125 14.984375 27.296875 \nQ 14.984375 17.28125 19.8125 11.734375 \nQ 24.65625 6.203125 33.40625 6.203125 \nQ 37.3125 6.203125 41.140625 7.25 \nQ 44.96875 8.296875 48.78125 10.40625 \nL 48.78125 2.09375 \nQ 45.015625 0.34375 40.984375 -0.53125 \nQ 36.96875 -1.421875 32.421875 -1.421875 \nQ 20.0625 -1.421875 12.78125 6.34375 \nQ 5.515625 14.109375 5.515625 27.296875 \nQ 5.515625 40.671875 12.859375 48.328125 \nQ 20.21875 56 33.015625 56 \nQ 37.15625 56 41.109375 55.140625 \nQ 45.0625 54.296875 48.78125 52.59375 \nz\n\" id=\"DejaVuSans-99\"/>\n     <path d=\"M 54.890625 33.015625 \nL 54.890625 0 \nL 45.90625 0 \nL 45.90625 32.71875 \nQ 45.90625 40.484375 42.875 44.328125 \nQ 39.84375 48.1875 33.796875 48.1875 \nQ 26.515625 48.1875 22.3125 43.546875 \nQ 18.109375 38.921875 18.109375 30.90625 \nL 18.109375 0 \nL 9.078125 0 \nL 9.078125 75.984375 \nL 18.109375 75.984375 \nL 18.109375 46.1875 \nQ 21.34375 51.125 25.703125 53.5625 \nQ 30.078125 56 35.796875 56 \nQ 45.21875 56 50.046875 50.171875 \nQ 54.890625 44.34375 54.890625 33.015625 \nz\n\" id=\"DejaVuSans-104\"/>\n    </defs>\n    <g transform=\"translate(156.512386 16.318125)scale(0.12 -0.12)\">\n     <use xlink:href=\"#DejaVuSans-76\"/>\n     <use x=\"53.962891\" xlink:href=\"#DejaVuSans-111\"/>\n     <use x=\"115.144531\" xlink:href=\"#DejaVuSans-115\"/>\n     <use x=\"167.244141\" xlink:href=\"#DejaVuSans-115\"/>\n     <use x=\"219.34375\" xlink:href=\"#DejaVuSans-101\"/>\n     <use x=\"280.867188\" xlink:href=\"#DejaVuSans-115\"/>\n     <use x=\"332.966797\" xlink:href=\"#DejaVuSans-32\"/>\n     <use x=\"364.753906\" xlink:href=\"#DejaVuSans-112\"/>\n     <use x=\"428.230469\" xlink:href=\"#DejaVuSans-101\"/>\n     <use x=\"489.753906\" xlink:href=\"#DejaVuSans-114\"/>\n     <use x=\"530.867188\" xlink:href=\"#DejaVuSans-32\"/>\n     <use x=\"562.654297\" xlink:href=\"#DejaVuSans-69\"/>\n     <use x=\"625.837891\" xlink:href=\"#DejaVuSans-112\"/>\n     <use x=\"689.314453\" xlink:href=\"#DejaVuSans-111\"/>\n     <use x=\"750.496094\" xlink:href=\"#DejaVuSans-99\"/>\n     <use x=\"805.476562\" xlink:href=\"#DejaVuSans-104\"/>\n    </g>\n   </g>\n   <g id=\"legend_1\">\n    <g id=\"patch_7\">\n     <path d=\"M 175.177273 161.894375 \nL 366.508523 161.894375 \nQ 368.508523 161.894375 368.508523 159.894375 \nL 368.508523 102.181875 \nQ 368.508523 100.181875 366.508523 100.181875 \nL 175.177273 100.181875 \nQ 173.177273 100.181875 173.177273 102.181875 \nL 173.177273 159.894375 \nQ 173.177273 161.894375 175.177273 161.894375 \nz\n\" style=\"fill:#ffffff;opacity:0.8;stroke:#cccccc;stroke-linejoin:miter;\"/>\n    </g>\n    <g id=\"line2d_15\">\n     <path d=\"M 177.177273 108.280312 \nL 197.177273 108.280312 \n\" style=\"fill:none;stroke:#1f77b4;stroke-linecap:square;stroke-width:1.5;\"/>\n    </g>\n    <g id=\"line2d_16\">\n     <g>\n      <use style=\"fill:#1f77b4;stroke:#1f77b4;stroke-linejoin:miter;\" x=\"187.177273\" xlink:href=\"#m98c0947f36\" y=\"108.280312\"/>\n     </g>\n    </g>\n    <g id=\"text_14\">\n     <!-- 1 layers, 80 units, 6963 params -->\n     <defs>\n      <path d=\"M 9.421875 75.984375 \nL 18.40625 75.984375 \nL 18.40625 0 \nL 9.421875 0 \nz\n\" id=\"DejaVuSans-108\"/>\n      <path d=\"M 32.171875 -5.078125 \nQ 28.375 -14.84375 24.75 -17.8125 \nQ 21.140625 -20.796875 15.09375 -20.796875 \nL 7.90625 -20.796875 \nL 7.90625 -13.28125 \nL 13.1875 -13.28125 \nQ 16.890625 -13.28125 18.9375 -11.515625 \nQ 21 -9.765625 23.484375 -3.21875 \nL 25.09375 0.875 \nL 2.984375 54.6875 \nL 12.5 54.6875 \nL 29.59375 11.921875 \nL 46.6875 54.6875 \nL 56.203125 54.6875 \nz\n\" id=\"DejaVuSans-121\"/>\n      <path d=\"M 11.71875 12.40625 \nL 22.015625 12.40625 \nL 22.015625 4 \nL 14.015625 -11.625 \nL 7.71875 -11.625 \nL 11.71875 4 \nz\n\" id=\"DejaVuSans-44\"/>\n      <path d=\"M 10.984375 1.515625 \nL 10.984375 10.5 \nQ 14.703125 8.734375 18.5 7.8125 \nQ 22.3125 6.890625 25.984375 6.890625 \nQ 35.75 6.890625 40.890625 13.453125 \nQ 46.046875 20.015625 46.78125 33.40625 \nQ 43.953125 29.203125 39.59375 26.953125 \nQ 35.25 24.703125 29.984375 24.703125 \nQ 19.046875 24.703125 12.671875 31.3125 \nQ 6.296875 37.9375 6.296875 49.421875 \nQ 6.296875 60.640625 12.9375 67.421875 \nQ 19.578125 74.21875 30.609375 74.21875 \nQ 43.265625 74.21875 49.921875 64.515625 \nQ 56.59375 54.828125 56.59375 36.375 \nQ 56.59375 19.140625 48.40625 8.859375 \nQ 40.234375 -1.421875 26.421875 -1.421875 \nQ 22.703125 -1.421875 18.890625 -0.6875 \nQ 15.09375 0.046875 10.984375 1.515625 \nz\nM 30.609375 32.421875 \nQ 37.25 32.421875 41.125 36.953125 \nQ 45.015625 41.5 45.015625 49.421875 \nQ 45.015625 57.28125 41.125 61.84375 \nQ 37.25 66.40625 30.609375 66.40625 \nQ 23.96875 66.40625 20.09375 61.84375 \nQ 16.21875 57.28125 16.21875 49.421875 \nQ 16.21875 41.5 20.09375 36.953125 \nQ 23.96875 32.421875 30.609375 32.421875 \nz\n\" id=\"DejaVuSans-57\"/>\n     </defs>\n     <g transform=\"translate(205.177273 111.780312)scale(0.1 -0.1)\">\n      <use xlink:href=\"#DejaVuSans-49\"/>\n      <use x=\"63.623047\" xlink:href=\"#DejaVuSans-32\"/>\n      <use x=\"95.410156\" xlink:href=\"#DejaVuSans-108\"/>\n      <use x=\"123.193359\" xlink:href=\"#DejaVuSans-97\"/>\n      <use x=\"184.472656\" xlink:href=\"#DejaVuSans-121\"/>\n      <use x=\"243.652344\" xlink:href=\"#DejaVuSans-101\"/>\n      <use x=\"305.175781\" xlink:href=\"#DejaVuSans-114\"/>\n      <use x=\"346.289062\" xlink:href=\"#DejaVuSans-115\"/>\n      <use x=\"398.388672\" xlink:href=\"#DejaVuSans-44\"/>\n      <use x=\"430.175781\" xlink:href=\"#DejaVuSans-32\"/>\n      <use x=\"461.962891\" xlink:href=\"#DejaVuSans-56\"/>\n      <use x=\"525.585938\" xlink:href=\"#DejaVuSans-48\"/>\n      <use x=\"589.208984\" xlink:href=\"#DejaVuSans-32\"/>\n      <use x=\"620.996094\" xlink:href=\"#DejaVuSans-117\"/>\n      <use x=\"684.375\" xlink:href=\"#DejaVuSans-110\"/>\n      <use x=\"747.753906\" xlink:href=\"#DejaVuSans-105\"/>\n      <use x=\"775.537109\" xlink:href=\"#DejaVuSans-116\"/>\n      <use x=\"814.746094\" xlink:href=\"#DejaVuSans-115\"/>\n      <use x=\"866.845703\" xlink:href=\"#DejaVuSans-44\"/>\n      <use x=\"898.632812\" xlink:href=\"#DejaVuSans-32\"/>\n      <use x=\"930.419922\" xlink:href=\"#DejaVuSans-54\"/>\n      <use x=\"994.042969\" xlink:href=\"#DejaVuSans-57\"/>\n      <use x=\"1057.666016\" xlink:href=\"#DejaVuSans-54\"/>\n      <use x=\"1121.289062\" xlink:href=\"#DejaVuSans-51\"/>\n      <use x=\"1184.912109\" xlink:href=\"#DejaVuSans-32\"/>\n      <use x=\"1216.699219\" xlink:href=\"#DejaVuSans-112\"/>\n      <use x=\"1280.175781\" xlink:href=\"#DejaVuSans-97\"/>\n      <use x=\"1341.455078\" xlink:href=\"#DejaVuSans-114\"/>\n      <use x=\"1382.568359\" xlink:href=\"#DejaVuSans-97\"/>\n      <use x=\"1443.847656\" xlink:href=\"#DejaVuSans-109\"/>\n      <use x=\"1541.259766\" xlink:href=\"#DejaVuSans-115\"/>\n     </g>\n    </g>\n    <g id=\"line2d_17\">\n     <path d=\"M 177.177273 122.958437 \nL 197.177273 122.958437 \n\" style=\"fill:none;stroke:#ff7f0e;stroke-linecap:square;stroke-width:1.5;\"/>\n    </g>\n    <g id=\"line2d_18\">\n     <g>\n      <use style=\"fill:#ff7f0e;stroke:#ff7f0e;stroke-linejoin:miter;\" x=\"187.177273\" xlink:href=\"#m4bd1fce6c1\" y=\"122.958437\"/>\n     </g>\n    </g>\n    <g id=\"text_15\">\n     <!-- 5 layers, 16 units, 1459 params -->\n     <g transform=\"translate(205.177273 126.458437)scale(0.1 -0.1)\">\n      <use xlink:href=\"#DejaVuSans-53\"/>\n      <use x=\"63.623047\" xlink:href=\"#DejaVuSans-32\"/>\n      <use x=\"95.410156\" xlink:href=\"#DejaVuSans-108\"/>\n      <use x=\"123.193359\" xlink:href=\"#DejaVuSans-97\"/>\n      <use x=\"184.472656\" xlink:href=\"#DejaVuSans-121\"/>\n      <use x=\"243.652344\" xlink:href=\"#DejaVuSans-101\"/>\n      <use x=\"305.175781\" xlink:href=\"#DejaVuSans-114\"/>\n      <use x=\"346.289062\" xlink:href=\"#DejaVuSans-115\"/>\n      <use x=\"398.388672\" xlink:href=\"#DejaVuSans-44\"/>\n      <use x=\"430.175781\" xlink:href=\"#DejaVuSans-32\"/>\n      <use x=\"461.962891\" xlink:href=\"#DejaVuSans-49\"/>\n      <use x=\"525.585938\" xlink:href=\"#DejaVuSans-54\"/>\n      <use x=\"589.208984\" xlink:href=\"#DejaVuSans-32\"/>\n      <use x=\"620.996094\" xlink:href=\"#DejaVuSans-117\"/>\n      <use x=\"684.375\" xlink:href=\"#DejaVuSans-110\"/>\n      <use x=\"747.753906\" xlink:href=\"#DejaVuSans-105\"/>\n      <use x=\"775.537109\" xlink:href=\"#DejaVuSans-116\"/>\n      <use x=\"814.746094\" xlink:href=\"#DejaVuSans-115\"/>\n      <use x=\"866.845703\" xlink:href=\"#DejaVuSans-44\"/>\n      <use x=\"898.632812\" xlink:href=\"#DejaVuSans-32\"/>\n      <use x=\"930.419922\" xlink:href=\"#DejaVuSans-49\"/>\n      <use x=\"994.042969\" xlink:href=\"#DejaVuSans-52\"/>\n      <use x=\"1057.666016\" xlink:href=\"#DejaVuSans-53\"/>\n      <use x=\"1121.289062\" xlink:href=\"#DejaVuSans-57\"/>\n      <use x=\"1184.912109\" xlink:href=\"#DejaVuSans-32\"/>\n      <use x=\"1216.699219\" xlink:href=\"#DejaVuSans-112\"/>\n      <use x=\"1280.175781\" xlink:href=\"#DejaVuSans-97\"/>\n      <use x=\"1341.455078\" xlink:href=\"#DejaVuSans-114\"/>\n      <use x=\"1382.568359\" xlink:href=\"#DejaVuSans-97\"/>\n      <use x=\"1443.847656\" xlink:href=\"#DejaVuSans-109\"/>\n      <use x=\"1541.259766\" xlink:href=\"#DejaVuSans-115\"/>\n     </g>\n    </g>\n    <g id=\"line2d_19\">\n     <path d=\"M 177.177273 137.636562 \nL 197.177273 137.636562 \n\" style=\"fill:none;stroke:#2ca02c;stroke-linecap:square;stroke-width:1.5;\"/>\n    </g>\n    <g id=\"line2d_20\">\n     <g>\n      <use style=\"fill:#2ca02c;stroke:#2ca02c;stroke-linejoin:miter;\" x=\"187.177273\" xlink:href=\"#m3f20681de1\" y=\"137.636562\"/>\n     </g>\n    </g>\n    <g id=\"text_16\">\n     <!-- 10 layers, 8 units, 771 params -->\n     <defs>\n      <path d=\"M 8.203125 72.90625 \nL 55.078125 72.90625 \nL 55.078125 68.703125 \nL 28.609375 0 \nL 18.3125 0 \nL 43.21875 64.59375 \nL 8.203125 64.59375 \nz\n\" id=\"DejaVuSans-55\"/>\n     </defs>\n     <g transform=\"translate(205.177273 141.136562)scale(0.1 -0.1)\">\n      <use xlink:href=\"#DejaVuSans-49\"/>\n      <use x=\"63.623047\" xlink:href=\"#DejaVuSans-48\"/>\n      <use x=\"127.246094\" xlink:href=\"#DejaVuSans-32\"/>\n      <use x=\"159.033203\" xlink:href=\"#DejaVuSans-108\"/>\n      <use x=\"186.816406\" xlink:href=\"#DejaVuSans-97\"/>\n      <use x=\"248.095703\" xlink:href=\"#DejaVuSans-121\"/>\n      <use x=\"307.275391\" xlink:href=\"#DejaVuSans-101\"/>\n      <use x=\"368.798828\" xlink:href=\"#DejaVuSans-114\"/>\n      <use x=\"409.912109\" xlink:href=\"#DejaVuSans-115\"/>\n      <use x=\"462.011719\" xlink:href=\"#DejaVuSans-44\"/>\n      <use x=\"493.798828\" xlink:href=\"#DejaVuSans-32\"/>\n      <use x=\"525.585938\" xlink:href=\"#DejaVuSans-56\"/>\n      <use x=\"589.208984\" xlink:href=\"#DejaVuSans-32\"/>\n      <use x=\"620.996094\" xlink:href=\"#DejaVuSans-117\"/>\n      <use x=\"684.375\" xlink:href=\"#DejaVuSans-110\"/>\n      <use x=\"747.753906\" xlink:href=\"#DejaVuSans-105\"/>\n      <use x=\"775.537109\" xlink:href=\"#DejaVuSans-116\"/>\n      <use x=\"814.746094\" xlink:href=\"#DejaVuSans-115\"/>\n      <use x=\"866.845703\" xlink:href=\"#DejaVuSans-44\"/>\n      <use x=\"898.632812\" xlink:href=\"#DejaVuSans-32\"/>\n      <use x=\"930.419922\" xlink:href=\"#DejaVuSans-55\"/>\n      <use x=\"994.042969\" xlink:href=\"#DejaVuSans-55\"/>\n      <use x=\"1057.666016\" xlink:href=\"#DejaVuSans-49\"/>\n      <use x=\"1121.289062\" xlink:href=\"#DejaVuSans-32\"/>\n      <use x=\"1153.076172\" xlink:href=\"#DejaVuSans-112\"/>\n      <use x=\"1216.552734\" xlink:href=\"#DejaVuSans-97\"/>\n      <use x=\"1277.832031\" xlink:href=\"#DejaVuSans-114\"/>\n      <use x=\"1318.945312\" xlink:href=\"#DejaVuSans-97\"/>\n      <use x=\"1380.224609\" xlink:href=\"#DejaVuSans-109\"/>\n      <use x=\"1477.636719\" xlink:href=\"#DejaVuSans-115\"/>\n     </g>\n    </g>\n    <g id=\"line2d_21\">\n     <path d=\"M 177.177273 152.314687 \nL 197.177273 152.314687 \n\" style=\"fill:none;stroke:#d62728;stroke-linecap:square;stroke-width:1.5;\"/>\n    </g>\n    <g id=\"line2d_22\">\n     <g>\n      <use style=\"fill:#d62728;stroke:#d62728;stroke-linejoin:miter;\" x=\"187.177273\" xlink:href=\"#m7d0967980d\" y=\"152.314687\"/>\n     </g>\n    </g>\n    <g id=\"text_17\">\n     <!-- 20 layers, 4 units, 427 params -->\n     <g transform=\"translate(205.177273 155.814687)scale(0.1 -0.1)\">\n      <use xlink:href=\"#DejaVuSans-50\"/>\n      <use x=\"63.623047\" xlink:href=\"#DejaVuSans-48\"/>\n      <use x=\"127.246094\" xlink:href=\"#DejaVuSans-32\"/>\n      <use x=\"159.033203\" xlink:href=\"#DejaVuSans-108\"/>\n      <use x=\"186.816406\" xlink:href=\"#DejaVuSans-97\"/>\n      <use x=\"248.095703\" xlink:href=\"#DejaVuSans-121\"/>\n      <use x=\"307.275391\" xlink:href=\"#DejaVuSans-101\"/>\n      <use x=\"368.798828\" xlink:href=\"#DejaVuSans-114\"/>\n      <use x=\"409.912109\" xlink:href=\"#DejaVuSans-115\"/>\n      <use x=\"462.011719\" xlink:href=\"#DejaVuSans-44\"/>\n      <use x=\"493.798828\" xlink:href=\"#DejaVuSans-32\"/>\n      <use x=\"525.585938\" xlink:href=\"#DejaVuSans-52\"/>\n      <use x=\"589.208984\" xlink:href=\"#DejaVuSans-32\"/>\n      <use x=\"620.996094\" xlink:href=\"#DejaVuSans-117\"/>\n      <use x=\"684.375\" xlink:href=\"#DejaVuSans-110\"/>\n      <use x=\"747.753906\" xlink:href=\"#DejaVuSans-105\"/>\n      <use x=\"775.537109\" xlink:href=\"#DejaVuSans-116\"/>\n      <use x=\"814.746094\" xlink:href=\"#DejaVuSans-115\"/>\n      <use x=\"866.845703\" xlink:href=\"#DejaVuSans-44\"/>\n      <use x=\"898.632812\" xlink:href=\"#DejaVuSans-32\"/>\n      <use x=\"930.419922\" xlink:href=\"#DejaVuSans-52\"/>\n      <use x=\"994.042969\" xlink:href=\"#DejaVuSans-50\"/>\n      <use x=\"1057.666016\" xlink:href=\"#DejaVuSans-55\"/>\n      <use x=\"1121.289062\" xlink:href=\"#DejaVuSans-32\"/>\n      <use x=\"1153.076172\" xlink:href=\"#DejaVuSans-112\"/>\n      <use x=\"1216.552734\" xlink:href=\"#DejaVuSans-97\"/>\n      <use x=\"1277.832031\" xlink:href=\"#DejaVuSans-114\"/>\n      <use x=\"1318.945312\" xlink:href=\"#DejaVuSans-97\"/>\n      <use x=\"1380.224609\" xlink:href=\"#DejaVuSans-109\"/>\n      <use x=\"1477.636719\" xlink:href=\"#DejaVuSans-115\"/>\n     </g>\n    </g>\n   </g>\n  </g>\n  <g id=\"axes_2\">\n   <g id=\"patch_8\">\n    <path d=\"M 439.453977 239.758125 \nL 769.18125 239.758125 \nL 769.18125 22.318125 \nL 439.453977 22.318125 \nz\n\" style=\"fill:#ffffff;\"/>\n   </g>\n   <g id=\"matplotlib.axis_3\">\n    <g id=\"xtick_6\">\n     <g id=\"line2d_23\">\n      <g>\n       <use style=\"stroke:#000000;stroke-width:0.8;\" x=\"484.416787\" xlink:href=\"#ma2b2f8d925\" y=\"239.758125\"/>\n      </g>\n     </g>\n     <g id=\"text_18\">\n      <!-- 100 -->\n      <g transform=\"translate(474.873037 254.356562)scale(0.1 -0.1)\">\n       <use xlink:href=\"#DejaVuSans-49\"/>\n       <use x=\"63.623047\" xlink:href=\"#DejaVuSans-48\"/>\n       <use x=\"127.246094\" xlink:href=\"#DejaVuSans-48\"/>\n      </g>\n     </g>\n    </g>\n    <g id=\"xtick_7\">\n     <g id=\"line2d_24\">\n      <g>\n       <use style=\"stroke:#000000;stroke-width:0.8;\" x=\"544.3672\" xlink:href=\"#ma2b2f8d925\" y=\"239.758125\"/>\n      </g>\n     </g>\n     <g id=\"text_19\">\n      <!-- 200 -->\n      <g transform=\"translate(534.82345 254.356562)scale(0.1 -0.1)\">\n       <use xlink:href=\"#DejaVuSans-50\"/>\n       <use x=\"63.623047\" xlink:href=\"#DejaVuSans-48\"/>\n       <use x=\"127.246094\" xlink:href=\"#DejaVuSans-48\"/>\n      </g>\n     </g>\n    </g>\n    <g id=\"xtick_8\">\n     <g id=\"line2d_25\">\n      <g>\n       <use style=\"stroke:#000000;stroke-width:0.8;\" x=\"604.317614\" xlink:href=\"#ma2b2f8d925\" y=\"239.758125\"/>\n      </g>\n     </g>\n     <g id=\"text_20\">\n      <!-- 300 -->\n      <g transform=\"translate(594.773864 254.356562)scale(0.1 -0.1)\">\n       <use xlink:href=\"#DejaVuSans-51\"/>\n       <use x=\"63.623047\" xlink:href=\"#DejaVuSans-48\"/>\n       <use x=\"127.246094\" xlink:href=\"#DejaVuSans-48\"/>\n      </g>\n     </g>\n    </g>\n    <g id=\"xtick_9\">\n     <g id=\"line2d_26\">\n      <g>\n       <use style=\"stroke:#000000;stroke-width:0.8;\" x=\"664.268027\" xlink:href=\"#ma2b2f8d925\" y=\"239.758125\"/>\n      </g>\n     </g>\n     <g id=\"text_21\">\n      <!-- 400 -->\n      <g transform=\"translate(654.724277 254.356562)scale(0.1 -0.1)\">\n       <use xlink:href=\"#DejaVuSans-52\"/>\n       <use x=\"63.623047\" xlink:href=\"#DejaVuSans-48\"/>\n       <use x=\"127.246094\" xlink:href=\"#DejaVuSans-48\"/>\n      </g>\n     </g>\n    </g>\n    <g id=\"xtick_10\">\n     <g id=\"line2d_27\">\n      <g>\n       <use style=\"stroke:#000000;stroke-width:0.8;\" x=\"724.21844\" xlink:href=\"#ma2b2f8d925\" y=\"239.758125\"/>\n      </g>\n     </g>\n     <g id=\"text_22\">\n      <!-- 500 -->\n      <g transform=\"translate(714.67469 254.356562)scale(0.1 -0.1)\">\n       <use xlink:href=\"#DejaVuSans-53\"/>\n       <use x=\"63.623047\" xlink:href=\"#DejaVuSans-48\"/>\n       <use x=\"127.246094\" xlink:href=\"#DejaVuSans-48\"/>\n      </g>\n     </g>\n    </g>\n    <g id=\"text_23\">\n     <!-- Number of Data Points -->\n     <g transform=\"translate(547.691051 268.034687)scale(0.1 -0.1)\">\n      <use xlink:href=\"#DejaVuSans-78\"/>\n      <use x=\"74.804688\" xlink:href=\"#DejaVuSans-117\"/>\n      <use x=\"138.183594\" xlink:href=\"#DejaVuSans-109\"/>\n      <use x=\"235.595703\" xlink:href=\"#DejaVuSans-98\"/>\n      <use x=\"299.072266\" xlink:href=\"#DejaVuSans-101\"/>\n      <use x=\"360.595703\" xlink:href=\"#DejaVuSans-114\"/>\n      <use x=\"401.708984\" xlink:href=\"#DejaVuSans-32\"/>\n      <use x=\"433.496094\" xlink:href=\"#DejaVuSans-111\"/>\n      <use x=\"494.677734\" xlink:href=\"#DejaVuSans-102\"/>\n      <use x=\"529.882812\" xlink:href=\"#DejaVuSans-32\"/>\n      <use x=\"561.669922\" xlink:href=\"#DejaVuSans-68\"/>\n      <use x=\"638.671875\" xlink:href=\"#DejaVuSans-97\"/>\n      <use x=\"699.951172\" xlink:href=\"#DejaVuSans-116\"/>\n      <use x=\"739.160156\" xlink:href=\"#DejaVuSans-97\"/>\n      <use x=\"800.439453\" xlink:href=\"#DejaVuSans-32\"/>\n      <use x=\"832.226562\" xlink:href=\"#DejaVuSans-80\"/>\n      <use x=\"888.904297\" xlink:href=\"#DejaVuSans-111\"/>\n      <use x=\"950.085938\" xlink:href=\"#DejaVuSans-105\"/>\n      <use x=\"977.869141\" xlink:href=\"#DejaVuSans-110\"/>\n      <use x=\"1041.248047\" xlink:href=\"#DejaVuSans-116\"/>\n      <use x=\"1080.457031\" xlink:href=\"#DejaVuSans-115\"/>\n     </g>\n    </g>\n   </g>\n   <g id=\"matplotlib.axis_4\">\n    <g id=\"ytick_6\">\n     <g id=\"line2d_28\">\n      <g>\n       <use style=\"stroke:#000000;stroke-width:0.8;\" x=\"439.453977\" xlink:href=\"#m53d882c86b\" y=\"229.874489\"/>\n      </g>\n     </g>\n     <g id=\"text_24\">\n      <!-- 20 -->\n      <g transform=\"translate(419.728977 233.673707)scale(0.1 -0.1)\">\n       <use xlink:href=\"#DejaVuSans-50\"/>\n       <use x=\"63.623047\" xlink:href=\"#DejaVuSans-48\"/>\n      </g>\n     </g>\n    </g>\n    <g id=\"ytick_7\">\n     <g id=\"line2d_29\">\n      <g>\n       <use style=\"stroke:#000000;stroke-width:0.8;\" x=\"439.453977\" xlink:href=\"#m53d882c86b\" y=\"204.603825\"/>\n      </g>\n     </g>\n     <g id=\"text_25\">\n      <!-- 30 -->\n      <g transform=\"translate(419.728977 208.403043)scale(0.1 -0.1)\">\n       <use xlink:href=\"#DejaVuSans-51\"/>\n       <use x=\"63.623047\" xlink:href=\"#DejaVuSans-48\"/>\n      </g>\n     </g>\n    </g>\n    <g id=\"ytick_8\">\n     <g id=\"line2d_30\">\n      <g>\n       <use style=\"stroke:#000000;stroke-width:0.8;\" x=\"439.453977\" xlink:href=\"#m53d882c86b\" y=\"179.333161\"/>\n      </g>\n     </g>\n     <g id=\"text_26\">\n      <!-- 40 -->\n      <g transform=\"translate(419.728977 183.13238)scale(0.1 -0.1)\">\n       <use xlink:href=\"#DejaVuSans-52\"/>\n       <use x=\"63.623047\" xlink:href=\"#DejaVuSans-48\"/>\n      </g>\n     </g>\n    </g>\n    <g id=\"ytick_9\">\n     <g id=\"line2d_31\">\n      <g>\n       <use style=\"stroke:#000000;stroke-width:0.8;\" x=\"439.453977\" xlink:href=\"#m53d882c86b\" y=\"154.062497\"/>\n      </g>\n     </g>\n     <g id=\"text_27\">\n      <!-- 50 -->\n      <g transform=\"translate(419.728977 157.861716)scale(0.1 -0.1)\">\n       <use xlink:href=\"#DejaVuSans-53\"/>\n       <use x=\"63.623047\" xlink:href=\"#DejaVuSans-48\"/>\n      </g>\n     </g>\n    </g>\n    <g id=\"ytick_10\">\n     <g id=\"line2d_32\">\n      <g>\n       <use style=\"stroke:#000000;stroke-width:0.8;\" x=\"439.453977\" xlink:href=\"#m53d882c86b\" y=\"128.791833\"/>\n      </g>\n     </g>\n     <g id=\"text_28\">\n      <!-- 60 -->\n      <g transform=\"translate(419.728977 132.591052)scale(0.1 -0.1)\">\n       <use xlink:href=\"#DejaVuSans-54\"/>\n       <use x=\"63.623047\" xlink:href=\"#DejaVuSans-48\"/>\n      </g>\n     </g>\n    </g>\n    <g id=\"ytick_11\">\n     <g id=\"line2d_33\">\n      <g>\n       <use style=\"stroke:#000000;stroke-width:0.8;\" x=\"439.453977\" xlink:href=\"#m53d882c86b\" y=\"103.521169\"/>\n      </g>\n     </g>\n     <g id=\"text_29\">\n      <!-- 70 -->\n      <g transform=\"translate(419.728977 107.320388)scale(0.1 -0.1)\">\n       <use xlink:href=\"#DejaVuSans-55\"/>\n       <use x=\"63.623047\" xlink:href=\"#DejaVuSans-48\"/>\n      </g>\n     </g>\n    </g>\n    <g id=\"ytick_12\">\n     <g id=\"line2d_34\">\n      <g>\n       <use style=\"stroke:#000000;stroke-width:0.8;\" x=\"439.453977\" xlink:href=\"#m53d882c86b\" y=\"78.250505\"/>\n      </g>\n     </g>\n     <g id=\"text_30\">\n      <!-- 80 -->\n      <g transform=\"translate(419.728977 82.049724)scale(0.1 -0.1)\">\n       <use xlink:href=\"#DejaVuSans-56\"/>\n       <use x=\"63.623047\" xlink:href=\"#DejaVuSans-48\"/>\n      </g>\n     </g>\n    </g>\n    <g id=\"ytick_13\">\n     <g id=\"line2d_35\">\n      <g>\n       <use style=\"stroke:#000000;stroke-width:0.8;\" x=\"439.453977\" xlink:href=\"#m53d882c86b\" y=\"52.979841\"/>\n      </g>\n     </g>\n     <g id=\"text_31\">\n      <!-- 90 -->\n      <g transform=\"translate(419.728977 56.77906)scale(0.1 -0.1)\">\n       <use xlink:href=\"#DejaVuSans-57\"/>\n       <use x=\"63.623047\" xlink:href=\"#DejaVuSans-48\"/>\n      </g>\n     </g>\n    </g>\n    <g id=\"ytick_14\">\n     <g id=\"line2d_36\">\n      <g>\n       <use style=\"stroke:#000000;stroke-width:0.8;\" x=\"439.453977\" xlink:href=\"#m53d882c86b\" y=\"27.709177\"/>\n      </g>\n     </g>\n     <g id=\"text_32\">\n      <!-- 100 -->\n      <g transform=\"translate(413.366477 31.508396)scale(0.1 -0.1)\">\n       <use xlink:href=\"#DejaVuSans-49\"/>\n       <use x=\"63.623047\" xlink:href=\"#DejaVuSans-48\"/>\n       <use x=\"127.246094\" xlink:href=\"#DejaVuSans-48\"/>\n      </g>\n     </g>\n    </g>\n    <g id=\"text_33\">\n     <!-- Accuracy (%) -->\n     <defs>\n      <path d=\"M 34.1875 63.1875 \nL 20.796875 26.90625 \nL 47.609375 26.90625 \nz\nM 28.609375 72.90625 \nL 39.796875 72.90625 \nL 67.578125 0 \nL 57.328125 0 \nL 50.6875 18.703125 \nL 17.828125 18.703125 \nL 11.1875 0 \nL 0.78125 0 \nz\n\" id=\"DejaVuSans-65\"/>\n      <path d=\"M 31 75.875 \nQ 24.46875 64.65625 21.28125 53.65625 \nQ 18.109375 42.671875 18.109375 31.390625 \nQ 18.109375 20.125 21.3125 9.0625 \nQ 24.515625 -2 31 -13.1875 \nL 23.1875 -13.1875 \nQ 15.875 -1.703125 12.234375 9.375 \nQ 8.59375 20.453125 8.59375 31.390625 \nQ 8.59375 42.28125 12.203125 53.3125 \nQ 15.828125 64.359375 23.1875 75.875 \nz\n\" id=\"DejaVuSans-40\"/>\n      <path d=\"M 72.703125 32.078125 \nQ 68.453125 32.078125 66.03125 28.46875 \nQ 63.625 24.859375 63.625 18.40625 \nQ 63.625 12.0625 66.03125 8.421875 \nQ 68.453125 4.78125 72.703125 4.78125 \nQ 76.859375 4.78125 79.265625 8.421875 \nQ 81.6875 12.0625 81.6875 18.40625 \nQ 81.6875 24.8125 79.265625 28.4375 \nQ 76.859375 32.078125 72.703125 32.078125 \nz\nM 72.703125 38.28125 \nQ 80.421875 38.28125 84.953125 32.90625 \nQ 89.5 27.546875 89.5 18.40625 \nQ 89.5 9.28125 84.9375 3.921875 \nQ 80.375 -1.421875 72.703125 -1.421875 \nQ 64.890625 -1.421875 60.34375 3.921875 \nQ 55.8125 9.28125 55.8125 18.40625 \nQ 55.8125 27.59375 60.375 32.9375 \nQ 64.9375 38.28125 72.703125 38.28125 \nz\nM 22.3125 68.015625 \nQ 18.109375 68.015625 15.6875 64.375 \nQ 13.28125 60.75 13.28125 54.390625 \nQ 13.28125 47.953125 15.671875 44.328125 \nQ 18.0625 40.71875 22.3125 40.71875 \nQ 26.5625 40.71875 28.96875 44.328125 \nQ 31.390625 47.953125 31.390625 54.390625 \nQ 31.390625 60.6875 28.953125 64.34375 \nQ 26.515625 68.015625 22.3125 68.015625 \nz\nM 66.40625 74.21875 \nL 74.21875 74.21875 \nL 28.609375 -1.421875 \nL 20.796875 -1.421875 \nz\nM 22.3125 74.21875 \nQ 30.03125 74.21875 34.609375 68.875 \nQ 39.203125 63.53125 39.203125 54.390625 \nQ 39.203125 45.171875 34.640625 39.84375 \nQ 30.078125 34.515625 22.3125 34.515625 \nQ 14.546875 34.515625 10.03125 39.859375 \nQ 5.515625 45.21875 5.515625 54.390625 \nQ 5.515625 63.484375 10.046875 68.84375 \nQ 14.59375 74.21875 22.3125 74.21875 \nz\n\" id=\"DejaVuSans-37\"/>\n      <path d=\"M 8.015625 75.875 \nL 15.828125 75.875 \nQ 23.140625 64.359375 26.78125 53.3125 \nQ 30.421875 42.28125 30.421875 31.390625 \nQ 30.421875 20.453125 26.78125 9.375 \nQ 23.140625 -1.703125 15.828125 -13.1875 \nL 8.015625 -13.1875 \nQ 14.5 -2 17.703125 9.0625 \nQ 20.90625 20.125 20.90625 31.390625 \nQ 20.90625 42.671875 17.703125 53.65625 \nQ 14.5 64.65625 8.015625 75.875 \nz\n\" id=\"DejaVuSans-41\"/>\n     </defs>\n     <g transform=\"translate(407.28679 164.107656)rotate(-90)scale(0.1 -0.1)\">\n      <use xlink:href=\"#DejaVuSans-65\"/>\n      <use x=\"66.658203\" xlink:href=\"#DejaVuSans-99\"/>\n      <use x=\"121.638672\" xlink:href=\"#DejaVuSans-99\"/>\n      <use x=\"176.619141\" xlink:href=\"#DejaVuSans-117\"/>\n      <use x=\"239.998047\" xlink:href=\"#DejaVuSans-114\"/>\n      <use x=\"281.111328\" xlink:href=\"#DejaVuSans-97\"/>\n      <use x=\"342.390625\" xlink:href=\"#DejaVuSans-99\"/>\n      <use x=\"397.371094\" xlink:href=\"#DejaVuSans-121\"/>\n      <use x=\"456.550781\" xlink:href=\"#DejaVuSans-32\"/>\n      <use x=\"488.337891\" xlink:href=\"#DejaVuSans-40\"/>\n      <use x=\"527.351562\" xlink:href=\"#DejaVuSans-37\"/>\n      <use x=\"622.371094\" xlink:href=\"#DejaVuSans-41\"/>\n     </g>\n    </g>\n   </g>\n   <g id=\"line2d_37\">\n    <path clip-path=\"url(#p66356e5e73)\" d=\"M 454.441581 44.55628 \nL 484.416787 36.132739 \nL 514.391994 32.201761 \nL 544.3672 49.610413 \nL 574.342407 34.448015 \nL 604.317614 49.048845 \nL 634.29282 39.74282 \nL 664.268027 34.026824 \nL 694.243233 47.55133 \nL 724.21844 48.262646 \nL 754.193647 52.8267 \n\" style=\"fill:none;stroke:#1f77b4;stroke-linecap:square;stroke-width:1.5;\"/>\n    <defs>\n     <path d=\"M 0 3 \nC 0.795609 3 1.55874 2.683901 2.12132 2.12132 \nC 2.683901 1.55874 3 0.795609 3 0 \nC 3 -0.795609 2.683901 -1.55874 2.12132 -2.12132 \nC 1.55874 -2.683901 0.795609 -3 0 -3 \nC -0.795609 -3 -1.55874 -2.683901 -2.12132 -2.12132 \nC -2.683901 -1.55874 -3 -0.795609 -3 0 \nC -3 0.795609 -2.683901 1.55874 -2.12132 2.12132 \nC -1.55874 2.683901 -0.795609 3 0 3 \nz\n\" id=\"m401f743c83\" style=\"stroke:#1f77b4;\"/>\n    </defs>\n    <g clip-path=\"url(#p66356e5e73)\">\n     <use style=\"fill:#1f77b4;stroke:#1f77b4;\" x=\"454.441581\" xlink:href=\"#m401f743c83\" y=\"44.55628\"/>\n     <use style=\"fill:#1f77b4;stroke:#1f77b4;\" x=\"484.416787\" xlink:href=\"#m401f743c83\" y=\"36.132739\"/>\n     <use style=\"fill:#1f77b4;stroke:#1f77b4;\" x=\"514.391994\" xlink:href=\"#m401f743c83\" y=\"32.201761\"/>\n     <use style=\"fill:#1f77b4;stroke:#1f77b4;\" x=\"544.3672\" xlink:href=\"#m401f743c83\" y=\"49.610413\"/>\n     <use style=\"fill:#1f77b4;stroke:#1f77b4;\" x=\"574.342407\" xlink:href=\"#m401f743c83\" y=\"34.448015\"/>\n     <use style=\"fill:#1f77b4;stroke:#1f77b4;\" x=\"604.317614\" xlink:href=\"#m401f743c83\" y=\"49.048845\"/>\n     <use style=\"fill:#1f77b4;stroke:#1f77b4;\" x=\"634.29282\" xlink:href=\"#m401f743c83\" y=\"39.74282\"/>\n     <use style=\"fill:#1f77b4;stroke:#1f77b4;\" x=\"664.268027\" xlink:href=\"#m401f743c83\" y=\"34.026824\"/>\n     <use style=\"fill:#1f77b4;stroke:#1f77b4;\" x=\"694.243233\" xlink:href=\"#m401f743c83\" y=\"47.55133\"/>\n     <use style=\"fill:#1f77b4;stroke:#1f77b4;\" x=\"724.21844\" xlink:href=\"#m401f743c83\" y=\"48.262646\"/>\n     <use style=\"fill:#1f77b4;stroke:#1f77b4;\" x=\"754.193647\" xlink:href=\"#m401f743c83\" y=\"52.8267\"/>\n    </g>\n   </g>\n   <g id=\"line2d_38\">\n    <path clip-path=\"url(#p66356e5e73)\" d=\"M 454.441581 128.791814 \nL 484.416787 101.836445 \nL 514.391994 34.448015 \nL 544.3672 47.925709 \nL 574.342407 33.774121 \nL 604.317614 50.733549 \nL 634.29282 40.224164 \nL 664.268027 32.763291 \nL 694.243233 46.428174 \nL 724.21844 48.599583 \nL 754.193647 52.82672 \n\" style=\"fill:none;stroke:#ff7f0e;stroke-linecap:square;stroke-width:1.5;\"/>\n    <defs>\n     <path d=\"M 0 3 \nC 0.795609 3 1.55874 2.683901 2.12132 2.12132 \nC 2.683901 1.55874 3 0.795609 3 0 \nC 3 -0.795609 2.683901 -1.55874 2.12132 -2.12132 \nC 1.55874 -2.683901 0.795609 -3 0 -3 \nC -0.795609 -3 -1.55874 -2.683901 -2.12132 -2.12132 \nC -2.683901 -1.55874 -3 -0.795609 -3 0 \nC -3 0.795609 -2.683901 1.55874 -2.12132 2.12132 \nC -1.55874 2.683901 -0.795609 3 0 3 \nz\n\" id=\"mf0d25665f0\" style=\"stroke:#ff7f0e;\"/>\n    </defs>\n    <g clip-path=\"url(#p66356e5e73)\">\n     <use style=\"fill:#ff7f0e;stroke:#ff7f0e;\" x=\"454.441581\" xlink:href=\"#mf0d25665f0\" y=\"128.791814\"/>\n     <use style=\"fill:#ff7f0e;stroke:#ff7f0e;\" x=\"484.416787\" xlink:href=\"#mf0d25665f0\" y=\"101.836445\"/>\n     <use style=\"fill:#ff7f0e;stroke:#ff7f0e;\" x=\"514.391994\" xlink:href=\"#mf0d25665f0\" y=\"34.448015\"/>\n     <use style=\"fill:#ff7f0e;stroke:#ff7f0e;\" x=\"544.3672\" xlink:href=\"#mf0d25665f0\" y=\"47.925709\"/>\n     <use style=\"fill:#ff7f0e;stroke:#ff7f0e;\" x=\"574.342407\" xlink:href=\"#mf0d25665f0\" y=\"33.774121\"/>\n     <use style=\"fill:#ff7f0e;stroke:#ff7f0e;\" x=\"604.317614\" xlink:href=\"#mf0d25665f0\" y=\"50.733549\"/>\n     <use style=\"fill:#ff7f0e;stroke:#ff7f0e;\" x=\"634.29282\" xlink:href=\"#mf0d25665f0\" y=\"40.224164\"/>\n     <use style=\"fill:#ff7f0e;stroke:#ff7f0e;\" x=\"664.268027\" xlink:href=\"#mf0d25665f0\" y=\"32.763291\"/>\n     <use style=\"fill:#ff7f0e;stroke:#ff7f0e;\" x=\"694.243233\" xlink:href=\"#mf0d25665f0\" y=\"46.428174\"/>\n     <use style=\"fill:#ff7f0e;stroke:#ff7f0e;\" x=\"724.21844\" xlink:href=\"#mf0d25665f0\" y=\"48.599583\"/>\n     <use style=\"fill:#ff7f0e;stroke:#ff7f0e;\" x=\"754.193647\" xlink:href=\"#mf0d25665f0\" y=\"52.82672\"/>\n    </g>\n   </g>\n   <g id=\"line2d_39\">\n    <path clip-path=\"url(#p66356e5e73)\" d=\"M 454.441581 196.180264 \nL 484.416787 213.027376 \nL 514.391994 229.874489 \nL 544.3672 204.603815 \nL 574.342407 212.353492 \nL 604.317614 207.411675 \nL 634.29282 215.434102 \nL 664.268027 204.603815 \nL 694.243233 205.539777 \nL 724.21844 213.027376 \nL 754.193647 211.495817 \n\" style=\"fill:none;stroke:#2ca02c;stroke-linecap:square;stroke-width:1.5;\"/>\n    <defs>\n     <path d=\"M 0 3 \nC 0.795609 3 1.55874 2.683901 2.12132 2.12132 \nC 2.683901 1.55874 3 0.795609 3 0 \nC 3 -0.795609 2.683901 -1.55874 2.12132 -2.12132 \nC 1.55874 -2.683901 0.795609 -3 0 -3 \nC -0.795609 -3 -1.55874 -2.683901 -2.12132 -2.12132 \nC -2.683901 -1.55874 -3 -0.795609 -3 0 \nC -3 0.795609 -2.683901 1.55874 -2.12132 2.12132 \nC -1.55874 2.683901 -0.795609 3 0 3 \nz\n\" id=\"mbed29279f2\" style=\"stroke:#2ca02c;\"/>\n    </defs>\n    <g clip-path=\"url(#p66356e5e73)\">\n     <use style=\"fill:#2ca02c;stroke:#2ca02c;\" x=\"454.441581\" xlink:href=\"#mbed29279f2\" y=\"196.180264\"/>\n     <use style=\"fill:#2ca02c;stroke:#2ca02c;\" x=\"484.416787\" xlink:href=\"#mbed29279f2\" y=\"213.027376\"/>\n     <use style=\"fill:#2ca02c;stroke:#2ca02c;\" x=\"514.391994\" xlink:href=\"#mbed29279f2\" y=\"229.874489\"/>\n     <use style=\"fill:#2ca02c;stroke:#2ca02c;\" x=\"544.3672\" xlink:href=\"#mbed29279f2\" y=\"204.603815\"/>\n     <use style=\"fill:#2ca02c;stroke:#2ca02c;\" x=\"574.342407\" xlink:href=\"#mbed29279f2\" y=\"212.353492\"/>\n     <use style=\"fill:#2ca02c;stroke:#2ca02c;\" x=\"604.317614\" xlink:href=\"#mbed29279f2\" y=\"207.411675\"/>\n     <use style=\"fill:#2ca02c;stroke:#2ca02c;\" x=\"634.29282\" xlink:href=\"#mbed29279f2\" y=\"215.434102\"/>\n     <use style=\"fill:#2ca02c;stroke:#2ca02c;\" x=\"664.268027\" xlink:href=\"#mbed29279f2\" y=\"204.603815\"/>\n     <use style=\"fill:#2ca02c;stroke:#2ca02c;\" x=\"694.243233\" xlink:href=\"#mbed29279f2\" y=\"205.539777\"/>\n     <use style=\"fill:#2ca02c;stroke:#2ca02c;\" x=\"724.21844\" xlink:href=\"#mbed29279f2\" y=\"213.027376\"/>\n     <use style=\"fill:#2ca02c;stroke:#2ca02c;\" x=\"754.193647\" xlink:href=\"#mbed29279f2\" y=\"211.495817\"/>\n    </g>\n   </g>\n   <g id=\"line2d_40\">\n    <path clip-path=\"url(#p66356e5e73)\" d=\"M 454.441581 196.180264 \nL 484.416787 213.027376 \nL 514.391994 229.874489 \nL 544.3672 204.603815 \nL 574.342407 211.00572 \nL 604.317614 207.411675 \nL 634.29282 215.434102 \nL 664.268027 204.603815 \nL 694.243233 205.539777 \nL 724.21844 213.027376 \nL 754.193647 211.495817 \n\" style=\"fill:none;stroke:#d62728;stroke-linecap:square;stroke-width:1.5;\"/>\n    <defs>\n     <path d=\"M 0 3 \nC 0.795609 3 1.55874 2.683901 2.12132 2.12132 \nC 2.683901 1.55874 3 0.795609 3 0 \nC 3 -0.795609 2.683901 -1.55874 2.12132 -2.12132 \nC 1.55874 -2.683901 0.795609 -3 0 -3 \nC -0.795609 -3 -1.55874 -2.683901 -2.12132 -2.12132 \nC -2.683901 -1.55874 -3 -0.795609 -3 0 \nC -3 0.795609 -2.683901 1.55874 -2.12132 2.12132 \nC -1.55874 2.683901 -0.795609 3 0 3 \nz\n\" id=\"mf8ee63da02\" style=\"stroke:#d62728;\"/>\n    </defs>\n    <g clip-path=\"url(#p66356e5e73)\">\n     <use style=\"fill:#d62728;stroke:#d62728;\" x=\"454.441581\" xlink:href=\"#mf8ee63da02\" y=\"196.180264\"/>\n     <use style=\"fill:#d62728;stroke:#d62728;\" x=\"484.416787\" xlink:href=\"#mf8ee63da02\" y=\"213.027376\"/>\n     <use style=\"fill:#d62728;stroke:#d62728;\" x=\"514.391994\" xlink:href=\"#mf8ee63da02\" y=\"229.874489\"/>\n     <use style=\"fill:#d62728;stroke:#d62728;\" x=\"544.3672\" xlink:href=\"#mf8ee63da02\" y=\"204.603815\"/>\n     <use style=\"fill:#d62728;stroke:#d62728;\" x=\"574.342407\" xlink:href=\"#mf8ee63da02\" y=\"211.00572\"/>\n     <use style=\"fill:#d62728;stroke:#d62728;\" x=\"604.317614\" xlink:href=\"#mf8ee63da02\" y=\"207.411675\"/>\n     <use style=\"fill:#d62728;stroke:#d62728;\" x=\"634.29282\" xlink:href=\"#mf8ee63da02\" y=\"215.434102\"/>\n     <use style=\"fill:#d62728;stroke:#d62728;\" x=\"664.268027\" xlink:href=\"#mf8ee63da02\" y=\"204.603815\"/>\n     <use style=\"fill:#d62728;stroke:#d62728;\" x=\"694.243233\" xlink:href=\"#mf8ee63da02\" y=\"205.539777\"/>\n     <use style=\"fill:#d62728;stroke:#d62728;\" x=\"724.21844\" xlink:href=\"#mf8ee63da02\" y=\"213.027376\"/>\n     <use style=\"fill:#d62728;stroke:#d62728;\" x=\"754.193647\" xlink:href=\"#mf8ee63da02\" y=\"211.495817\"/>\n    </g>\n   </g>\n   <g id=\"patch_9\">\n    <path d=\"M 439.453977 239.758125 \nL 439.453977 22.318125 \n\" style=\"fill:none;stroke:#000000;stroke-linecap:square;stroke-linejoin:miter;stroke-width:0.8;\"/>\n   </g>\n   <g id=\"patch_10\">\n    <path d=\"M 769.18125 239.758125 \nL 769.18125 22.318125 \n\" style=\"fill:none;stroke:#000000;stroke-linecap:square;stroke-linejoin:miter;stroke-width:0.8;\"/>\n   </g>\n   <g id=\"patch_11\">\n    <path d=\"M 439.453977 239.758125 \nL 769.18125 239.758125 \n\" style=\"fill:none;stroke:#000000;stroke-linecap:square;stroke-linejoin:miter;stroke-width:0.8;\"/>\n   </g>\n   <g id=\"patch_12\">\n    <path d=\"M 439.453977 22.318125 \nL 769.18125 22.318125 \n\" style=\"fill:none;stroke:#000000;stroke-linecap:square;stroke-linejoin:miter;stroke-width:0.8;\"/>\n   </g>\n   <g id=\"legend_2\">\n    <g id=\"patch_13\">\n     <path d=\"M 570.85 161.894375 \nL 762.18125 161.894375 \nQ 764.18125 161.894375 764.18125 159.894375 \nL 764.18125 102.181875 \nQ 764.18125 100.181875 762.18125 100.181875 \nL 570.85 100.181875 \nQ 568.85 100.181875 568.85 102.181875 \nL 568.85 159.894375 \nQ 568.85 161.894375 570.85 161.894375 \nz\n\" style=\"fill:#ffffff;opacity:0.8;stroke:#cccccc;stroke-linejoin:miter;\"/>\n    </g>\n    <g id=\"line2d_41\">\n     <path d=\"M 572.85 108.280312 \nL 592.85 108.280312 \n\" style=\"fill:none;stroke:#1f77b4;stroke-linecap:square;stroke-width:1.5;\"/>\n    </g>\n    <g id=\"line2d_42\">\n     <g>\n      <use style=\"fill:#1f77b4;stroke:#1f77b4;\" x=\"582.85\" xlink:href=\"#m401f743c83\" y=\"108.280312\"/>\n     </g>\n    </g>\n    <g id=\"text_34\">\n     <!-- 1 layers, 80 units, 6963 params -->\n     <g transform=\"translate(600.85 111.780312)scale(0.1 -0.1)\">\n      <use xlink:href=\"#DejaVuSans-49\"/>\n      <use x=\"63.623047\" xlink:href=\"#DejaVuSans-32\"/>\n      <use x=\"95.410156\" xlink:href=\"#DejaVuSans-108\"/>\n      <use x=\"123.193359\" xlink:href=\"#DejaVuSans-97\"/>\n      <use x=\"184.472656\" xlink:href=\"#DejaVuSans-121\"/>\n      <use x=\"243.652344\" xlink:href=\"#DejaVuSans-101\"/>\n      <use x=\"305.175781\" xlink:href=\"#DejaVuSans-114\"/>\n      <use x=\"346.289062\" xlink:href=\"#DejaVuSans-115\"/>\n      <use x=\"398.388672\" xlink:href=\"#DejaVuSans-44\"/>\n      <use x=\"430.175781\" xlink:href=\"#DejaVuSans-32\"/>\n      <use x=\"461.962891\" xlink:href=\"#DejaVuSans-56\"/>\n      <use x=\"525.585938\" xlink:href=\"#DejaVuSans-48\"/>\n      <use x=\"589.208984\" xlink:href=\"#DejaVuSans-32\"/>\n      <use x=\"620.996094\" xlink:href=\"#DejaVuSans-117\"/>\n      <use x=\"684.375\" xlink:href=\"#DejaVuSans-110\"/>\n      <use x=\"747.753906\" xlink:href=\"#DejaVuSans-105\"/>\n      <use x=\"775.537109\" xlink:href=\"#DejaVuSans-116\"/>\n      <use x=\"814.746094\" xlink:href=\"#DejaVuSans-115\"/>\n      <use x=\"866.845703\" xlink:href=\"#DejaVuSans-44\"/>\n      <use x=\"898.632812\" xlink:href=\"#DejaVuSans-32\"/>\n      <use x=\"930.419922\" xlink:href=\"#DejaVuSans-54\"/>\n      <use x=\"994.042969\" xlink:href=\"#DejaVuSans-57\"/>\n      <use x=\"1057.666016\" xlink:href=\"#DejaVuSans-54\"/>\n      <use x=\"1121.289062\" xlink:href=\"#DejaVuSans-51\"/>\n      <use x=\"1184.912109\" xlink:href=\"#DejaVuSans-32\"/>\n      <use x=\"1216.699219\" xlink:href=\"#DejaVuSans-112\"/>\n      <use x=\"1280.175781\" xlink:href=\"#DejaVuSans-97\"/>\n      <use x=\"1341.455078\" xlink:href=\"#DejaVuSans-114\"/>\n      <use x=\"1382.568359\" xlink:href=\"#DejaVuSans-97\"/>\n      <use x=\"1443.847656\" xlink:href=\"#DejaVuSans-109\"/>\n      <use x=\"1541.259766\" xlink:href=\"#DejaVuSans-115\"/>\n     </g>\n    </g>\n    <g id=\"line2d_43\">\n     <path d=\"M 572.85 122.958437 \nL 592.85 122.958437 \n\" style=\"fill:none;stroke:#ff7f0e;stroke-linecap:square;stroke-width:1.5;\"/>\n    </g>\n    <g id=\"line2d_44\">\n     <g>\n      <use style=\"fill:#ff7f0e;stroke:#ff7f0e;\" x=\"582.85\" xlink:href=\"#mf0d25665f0\" y=\"122.958437\"/>\n     </g>\n    </g>\n    <g id=\"text_35\">\n     <!-- 5 layers, 16 units, 1459 params -->\n     <g transform=\"translate(600.85 126.458437)scale(0.1 -0.1)\">\n      <use xlink:href=\"#DejaVuSans-53\"/>\n      <use x=\"63.623047\" xlink:href=\"#DejaVuSans-32\"/>\n      <use x=\"95.410156\" xlink:href=\"#DejaVuSans-108\"/>\n      <use x=\"123.193359\" xlink:href=\"#DejaVuSans-97\"/>\n      <use x=\"184.472656\" xlink:href=\"#DejaVuSans-121\"/>\n      <use x=\"243.652344\" xlink:href=\"#DejaVuSans-101\"/>\n      <use x=\"305.175781\" xlink:href=\"#DejaVuSans-114\"/>\n      <use x=\"346.289062\" xlink:href=\"#DejaVuSans-115\"/>\n      <use x=\"398.388672\" xlink:href=\"#DejaVuSans-44\"/>\n      <use x=\"430.175781\" xlink:href=\"#DejaVuSans-32\"/>\n      <use x=\"461.962891\" xlink:href=\"#DejaVuSans-49\"/>\n      <use x=\"525.585938\" xlink:href=\"#DejaVuSans-54\"/>\n      <use x=\"589.208984\" xlink:href=\"#DejaVuSans-32\"/>\n      <use x=\"620.996094\" xlink:href=\"#DejaVuSans-117\"/>\n      <use x=\"684.375\" xlink:href=\"#DejaVuSans-110\"/>\n      <use x=\"747.753906\" xlink:href=\"#DejaVuSans-105\"/>\n      <use x=\"775.537109\" xlink:href=\"#DejaVuSans-116\"/>\n      <use x=\"814.746094\" xlink:href=\"#DejaVuSans-115\"/>\n      <use x=\"866.845703\" xlink:href=\"#DejaVuSans-44\"/>\n      <use x=\"898.632812\" xlink:href=\"#DejaVuSans-32\"/>\n      <use x=\"930.419922\" xlink:href=\"#DejaVuSans-49\"/>\n      <use x=\"994.042969\" xlink:href=\"#DejaVuSans-52\"/>\n      <use x=\"1057.666016\" xlink:href=\"#DejaVuSans-53\"/>\n      <use x=\"1121.289062\" xlink:href=\"#DejaVuSans-57\"/>\n      <use x=\"1184.912109\" xlink:href=\"#DejaVuSans-32\"/>\n      <use x=\"1216.699219\" xlink:href=\"#DejaVuSans-112\"/>\n      <use x=\"1280.175781\" xlink:href=\"#DejaVuSans-97\"/>\n      <use x=\"1341.455078\" xlink:href=\"#DejaVuSans-114\"/>\n      <use x=\"1382.568359\" xlink:href=\"#DejaVuSans-97\"/>\n      <use x=\"1443.847656\" xlink:href=\"#DejaVuSans-109\"/>\n      <use x=\"1541.259766\" xlink:href=\"#DejaVuSans-115\"/>\n     </g>\n    </g>\n    <g id=\"line2d_45\">\n     <path d=\"M 572.85 137.636562 \nL 592.85 137.636562 \n\" style=\"fill:none;stroke:#2ca02c;stroke-linecap:square;stroke-width:1.5;\"/>\n    </g>\n    <g id=\"line2d_46\">\n     <g>\n      <use style=\"fill:#2ca02c;stroke:#2ca02c;\" x=\"582.85\" xlink:href=\"#mbed29279f2\" y=\"137.636562\"/>\n     </g>\n    </g>\n    <g id=\"text_36\">\n     <!-- 10 layers, 8 units, 771 params -->\n     <g transform=\"translate(600.85 141.136562)scale(0.1 -0.1)\">\n      <use xlink:href=\"#DejaVuSans-49\"/>\n      <use x=\"63.623047\" xlink:href=\"#DejaVuSans-48\"/>\n      <use x=\"127.246094\" xlink:href=\"#DejaVuSans-32\"/>\n      <use x=\"159.033203\" xlink:href=\"#DejaVuSans-108\"/>\n      <use x=\"186.816406\" xlink:href=\"#DejaVuSans-97\"/>\n      <use x=\"248.095703\" xlink:href=\"#DejaVuSans-121\"/>\n      <use x=\"307.275391\" xlink:href=\"#DejaVuSans-101\"/>\n      <use x=\"368.798828\" xlink:href=\"#DejaVuSans-114\"/>\n      <use x=\"409.912109\" xlink:href=\"#DejaVuSans-115\"/>\n      <use x=\"462.011719\" xlink:href=\"#DejaVuSans-44\"/>\n      <use x=\"493.798828\" xlink:href=\"#DejaVuSans-32\"/>\n      <use x=\"525.585938\" xlink:href=\"#DejaVuSans-56\"/>\n      <use x=\"589.208984\" xlink:href=\"#DejaVuSans-32\"/>\n      <use x=\"620.996094\" xlink:href=\"#DejaVuSans-117\"/>\n      <use x=\"684.375\" xlink:href=\"#DejaVuSans-110\"/>\n      <use x=\"747.753906\" xlink:href=\"#DejaVuSans-105\"/>\n      <use x=\"775.537109\" xlink:href=\"#DejaVuSans-116\"/>\n      <use x=\"814.746094\" xlink:href=\"#DejaVuSans-115\"/>\n      <use x=\"866.845703\" xlink:href=\"#DejaVuSans-44\"/>\n      <use x=\"898.632812\" xlink:href=\"#DejaVuSans-32\"/>\n      <use x=\"930.419922\" xlink:href=\"#DejaVuSans-55\"/>\n      <use x=\"994.042969\" xlink:href=\"#DejaVuSans-55\"/>\n      <use x=\"1057.666016\" xlink:href=\"#DejaVuSans-49\"/>\n      <use x=\"1121.289062\" xlink:href=\"#DejaVuSans-32\"/>\n      <use x=\"1153.076172\" xlink:href=\"#DejaVuSans-112\"/>\n      <use x=\"1216.552734\" xlink:href=\"#DejaVuSans-97\"/>\n      <use x=\"1277.832031\" xlink:href=\"#DejaVuSans-114\"/>\n      <use x=\"1318.945312\" xlink:href=\"#DejaVuSans-97\"/>\n      <use x=\"1380.224609\" xlink:href=\"#DejaVuSans-109\"/>\n      <use x=\"1477.636719\" xlink:href=\"#DejaVuSans-115\"/>\n     </g>\n    </g>\n    <g id=\"line2d_47\">\n     <path d=\"M 572.85 152.314687 \nL 592.85 152.314687 \n\" style=\"fill:none;stroke:#d62728;stroke-linecap:square;stroke-width:1.5;\"/>\n    </g>\n    <g id=\"line2d_48\">\n     <g>\n      <use style=\"fill:#d62728;stroke:#d62728;\" x=\"582.85\" xlink:href=\"#mf8ee63da02\" y=\"152.314687\"/>\n     </g>\n    </g>\n    <g id=\"text_37\">\n     <!-- 20 layers, 4 units, 427 params -->\n     <g transform=\"translate(600.85 155.814687)scale(0.1 -0.1)\">\n      <use xlink:href=\"#DejaVuSans-50\"/>\n      <use x=\"63.623047\" xlink:href=\"#DejaVuSans-48\"/>\n      <use x=\"127.246094\" xlink:href=\"#DejaVuSans-32\"/>\n      <use x=\"159.033203\" xlink:href=\"#DejaVuSans-108\"/>\n      <use x=\"186.816406\" xlink:href=\"#DejaVuSans-97\"/>\n      <use x=\"248.095703\" xlink:href=\"#DejaVuSans-121\"/>\n      <use x=\"307.275391\" xlink:href=\"#DejaVuSans-101\"/>\n      <use x=\"368.798828\" xlink:href=\"#DejaVuSans-114\"/>\n      <use x=\"409.912109\" xlink:href=\"#DejaVuSans-115\"/>\n      <use x=\"462.011719\" xlink:href=\"#DejaVuSans-44\"/>\n      <use x=\"493.798828\" xlink:href=\"#DejaVuSans-32\"/>\n      <use x=\"525.585938\" xlink:href=\"#DejaVuSans-52\"/>\n      <use x=\"589.208984\" xlink:href=\"#DejaVuSans-32\"/>\n      <use x=\"620.996094\" xlink:href=\"#DejaVuSans-117\"/>\n      <use x=\"684.375\" xlink:href=\"#DejaVuSans-110\"/>\n      <use x=\"747.753906\" xlink:href=\"#DejaVuSans-105\"/>\n      <use x=\"775.537109\" xlink:href=\"#DejaVuSans-116\"/>\n      <use x=\"814.746094\" xlink:href=\"#DejaVuSans-115\"/>\n      <use x=\"866.845703\" xlink:href=\"#DejaVuSans-44\"/>\n      <use x=\"898.632812\" xlink:href=\"#DejaVuSans-32\"/>\n      <use x=\"930.419922\" xlink:href=\"#DejaVuSans-52\"/>\n      <use x=\"994.042969\" xlink:href=\"#DejaVuSans-50\"/>\n      <use x=\"1057.666016\" xlink:href=\"#DejaVuSans-55\"/>\n      <use x=\"1121.289062\" xlink:href=\"#DejaVuSans-32\"/>\n      <use x=\"1153.076172\" xlink:href=\"#DejaVuSans-112\"/>\n      <use x=\"1216.552734\" xlink:href=\"#DejaVuSans-97\"/>\n      <use x=\"1277.832031\" xlink:href=\"#DejaVuSans-114\"/>\n      <use x=\"1318.945312\" xlink:href=\"#DejaVuSans-97\"/>\n      <use x=\"1380.224609\" xlink:href=\"#DejaVuSans-109\"/>\n      <use x=\"1477.636719\" xlink:href=\"#DejaVuSans-115\"/>\n     </g>\n    </g>\n   </g>\n  </g>\n </g>\n <defs>\n  <clipPath id=\"p8a9c26a63e\">\n   <rect height=\"217.44\" width=\"329.727273\" x=\"43.78125\" y=\"22.318125\"/>\n  </clipPath>\n  <clipPath id=\"p66356e5e73\">\n   <rect height=\"217.44\" width=\"329.727273\" x=\"439.453977\" y=\"22.318125\"/>\n  </clipPath>\n </defs>\n</svg>\n"
          },
          "metadata": {
            "needs_background": "light"
          }
        }
      ]
    },
    {
      "cell_type": "markdown",
      "source": [
        "# Code Challenge: Unbalanced Data"
      ],
      "metadata": {
        "id": "IaAr8GpLh1gd"
      }
    },
    {
      "cell_type": "markdown",
      "source": [
        "Use the wine quality dataset and train a DL model using leaky_relu activation function, Adam optimizer, lr = 0.001 and 500 epochs for training.\n",
        "\n",
        "Create a python function that will create and expport train/test dataloaders with a specified quality threshold for binarizing bad/good. Use three different thresholds: 4.5, 5.5 and 6.5 and plot the results. "
      ],
      "metadata": {
        "id": "rLqINeyih6LO"
      }
    },
    {
      "cell_type": "code",
      "source": [
        "url = \"https://archive.ics.uci.edu/ml/machine-learning-databases/wine-quality/winequality-red.csv\"\n",
        "\n",
        "data = pd.read_csv(url, sep = \";\")\n",
        "# Remove the extreme outliers (as explored many weeks ago)\n",
        "data = data[data[\"total sulfur dioxide\"]<200]\n",
        "data.head()"
      ],
      "metadata": {
        "id": "aSvw8bwr92Dc",
        "colab": {
          "base_uri": "https://localhost:8080/",
          "height": 305
        },
        "outputId": "77431714-eff3-44cb-876a-e927ea669ee3"
      },
      "execution_count": 9,
      "outputs": [
        {
          "output_type": "execute_result",
          "data": {
            "text/plain": [
              "   fixed acidity  volatile acidity  citric acid  residual sugar  chlorides  \\\n",
              "0            7.4              0.70         0.00             1.9      0.076   \n",
              "1            7.8              0.88         0.00             2.6      0.098   \n",
              "2            7.8              0.76         0.04             2.3      0.092   \n",
              "3           11.2              0.28         0.56             1.9      0.075   \n",
              "4            7.4              0.70         0.00             1.9      0.076   \n",
              "\n",
              "   free sulfur dioxide  total sulfur dioxide  density    pH  sulphates  \\\n",
              "0                 11.0                  34.0   0.9978  3.51       0.56   \n",
              "1                 25.0                  67.0   0.9968  3.20       0.68   \n",
              "2                 15.0                  54.0   0.9970  3.26       0.65   \n",
              "3                 17.0                  60.0   0.9980  3.16       0.58   \n",
              "4                 11.0                  34.0   0.9978  3.51       0.56   \n",
              "\n",
              "   alcohol  quality  \n",
              "0      9.4        5  \n",
              "1      9.8        5  \n",
              "2      9.8        5  \n",
              "3      9.8        6  \n",
              "4      9.4        5  "
            ],
            "text/html": [
              "\n",
              "  <div id=\"df-bca1b15f-9523-43eb-bafe-45f56d59357b\">\n",
              "    <div class=\"colab-df-container\">\n",
              "      <div>\n",
              "<style scoped>\n",
              "    .dataframe tbody tr th:only-of-type {\n",
              "        vertical-align: middle;\n",
              "    }\n",
              "\n",
              "    .dataframe tbody tr th {\n",
              "        vertical-align: top;\n",
              "    }\n",
              "\n",
              "    .dataframe thead th {\n",
              "        text-align: right;\n",
              "    }\n",
              "</style>\n",
              "<table border=\"1\" class=\"dataframe\">\n",
              "  <thead>\n",
              "    <tr style=\"text-align: right;\">\n",
              "      <th></th>\n",
              "      <th>fixed acidity</th>\n",
              "      <th>volatile acidity</th>\n",
              "      <th>citric acid</th>\n",
              "      <th>residual sugar</th>\n",
              "      <th>chlorides</th>\n",
              "      <th>free sulfur dioxide</th>\n",
              "      <th>total sulfur dioxide</th>\n",
              "      <th>density</th>\n",
              "      <th>pH</th>\n",
              "      <th>sulphates</th>\n",
              "      <th>alcohol</th>\n",
              "      <th>quality</th>\n",
              "    </tr>\n",
              "  </thead>\n",
              "  <tbody>\n",
              "    <tr>\n",
              "      <th>0</th>\n",
              "      <td>7.4</td>\n",
              "      <td>0.70</td>\n",
              "      <td>0.00</td>\n",
              "      <td>1.9</td>\n",
              "      <td>0.076</td>\n",
              "      <td>11.0</td>\n",
              "      <td>34.0</td>\n",
              "      <td>0.9978</td>\n",
              "      <td>3.51</td>\n",
              "      <td>0.56</td>\n",
              "      <td>9.4</td>\n",
              "      <td>5</td>\n",
              "    </tr>\n",
              "    <tr>\n",
              "      <th>1</th>\n",
              "      <td>7.8</td>\n",
              "      <td>0.88</td>\n",
              "      <td>0.00</td>\n",
              "      <td>2.6</td>\n",
              "      <td>0.098</td>\n",
              "      <td>25.0</td>\n",
              "      <td>67.0</td>\n",
              "      <td>0.9968</td>\n",
              "      <td>3.20</td>\n",
              "      <td>0.68</td>\n",
              "      <td>9.8</td>\n",
              "      <td>5</td>\n",
              "    </tr>\n",
              "    <tr>\n",
              "      <th>2</th>\n",
              "      <td>7.8</td>\n",
              "      <td>0.76</td>\n",
              "      <td>0.04</td>\n",
              "      <td>2.3</td>\n",
              "      <td>0.092</td>\n",
              "      <td>15.0</td>\n",
              "      <td>54.0</td>\n",
              "      <td>0.9970</td>\n",
              "      <td>3.26</td>\n",
              "      <td>0.65</td>\n",
              "      <td>9.8</td>\n",
              "      <td>5</td>\n",
              "    </tr>\n",
              "    <tr>\n",
              "      <th>3</th>\n",
              "      <td>11.2</td>\n",
              "      <td>0.28</td>\n",
              "      <td>0.56</td>\n",
              "      <td>1.9</td>\n",
              "      <td>0.075</td>\n",
              "      <td>17.0</td>\n",
              "      <td>60.0</td>\n",
              "      <td>0.9980</td>\n",
              "      <td>3.16</td>\n",
              "      <td>0.58</td>\n",
              "      <td>9.8</td>\n",
              "      <td>6</td>\n",
              "    </tr>\n",
              "    <tr>\n",
              "      <th>4</th>\n",
              "      <td>7.4</td>\n",
              "      <td>0.70</td>\n",
              "      <td>0.00</td>\n",
              "      <td>1.9</td>\n",
              "      <td>0.076</td>\n",
              "      <td>11.0</td>\n",
              "      <td>34.0</td>\n",
              "      <td>0.9978</td>\n",
              "      <td>3.51</td>\n",
              "      <td>0.56</td>\n",
              "      <td>9.4</td>\n",
              "      <td>5</td>\n",
              "    </tr>\n",
              "  </tbody>\n",
              "</table>\n",
              "</div>\n",
              "      <button class=\"colab-df-convert\" onclick=\"convertToInteractive('df-bca1b15f-9523-43eb-bafe-45f56d59357b')\"\n",
              "              title=\"Convert this dataframe to an interactive table.\"\n",
              "              style=\"display:none;\">\n",
              "        \n",
              "  <svg xmlns=\"http://www.w3.org/2000/svg\" height=\"24px\"viewBox=\"0 0 24 24\"\n",
              "       width=\"24px\">\n",
              "    <path d=\"M0 0h24v24H0V0z\" fill=\"none\"/>\n",
              "    <path d=\"M18.56 5.44l.94 2.06.94-2.06 2.06-.94-2.06-.94-.94-2.06-.94 2.06-2.06.94zm-11 1L8.5 8.5l.94-2.06 2.06-.94-2.06-.94L8.5 2.5l-.94 2.06-2.06.94zm10 10l.94 2.06.94-2.06 2.06-.94-2.06-.94-.94-2.06-.94 2.06-2.06.94z\"/><path d=\"M17.41 7.96l-1.37-1.37c-.4-.4-.92-.59-1.43-.59-.52 0-1.04.2-1.43.59L10.3 9.45l-7.72 7.72c-.78.78-.78 2.05 0 2.83L4 21.41c.39.39.9.59 1.41.59.51 0 1.02-.2 1.41-.59l7.78-7.78 2.81-2.81c.8-.78.8-2.07 0-2.86zM5.41 20L4 18.59l7.72-7.72 1.47 1.35L5.41 20z\"/>\n",
              "  </svg>\n",
              "      </button>\n",
              "      \n",
              "  <style>\n",
              "    .colab-df-container {\n",
              "      display:flex;\n",
              "      flex-wrap:wrap;\n",
              "      gap: 12px;\n",
              "    }\n",
              "\n",
              "    .colab-df-convert {\n",
              "      background-color: #E8F0FE;\n",
              "      border: none;\n",
              "      border-radius: 50%;\n",
              "      cursor: pointer;\n",
              "      display: none;\n",
              "      fill: #1967D2;\n",
              "      height: 32px;\n",
              "      padding: 0 0 0 0;\n",
              "      width: 32px;\n",
              "    }\n",
              "\n",
              "    .colab-df-convert:hover {\n",
              "      background-color: #E2EBFA;\n",
              "      box-shadow: 0px 1px 2px rgba(60, 64, 67, 0.3), 0px 1px 3px 1px rgba(60, 64, 67, 0.15);\n",
              "      fill: #174EA6;\n",
              "    }\n",
              "\n",
              "    [theme=dark] .colab-df-convert {\n",
              "      background-color: #3B4455;\n",
              "      fill: #D2E3FC;\n",
              "    }\n",
              "\n",
              "    [theme=dark] .colab-df-convert:hover {\n",
              "      background-color: #434B5C;\n",
              "      box-shadow: 0px 1px 3px 1px rgba(0, 0, 0, 0.15);\n",
              "      filter: drop-shadow(0px 1px 2px rgba(0, 0, 0, 0.3));\n",
              "      fill: #FFFFFF;\n",
              "    }\n",
              "  </style>\n",
              "\n",
              "      <script>\n",
              "        const buttonEl =\n",
              "          document.querySelector('#df-bca1b15f-9523-43eb-bafe-45f56d59357b button.colab-df-convert');\n",
              "        buttonEl.style.display =\n",
              "          google.colab.kernel.accessAllowed ? 'block' : 'none';\n",
              "\n",
              "        async function convertToInteractive(key) {\n",
              "          const element = document.querySelector('#df-bca1b15f-9523-43eb-bafe-45f56d59357b');\n",
              "          const dataTable =\n",
              "            await google.colab.kernel.invokeFunction('convertToInteractive',\n",
              "                                                     [key], {});\n",
              "          if (!dataTable) return;\n",
              "\n",
              "          const docLinkHtml = 'Like what you see? Visit the ' +\n",
              "            '<a target=\"_blank\" href=https://colab.research.google.com/notebooks/data_table.ipynb>data table notebook</a>'\n",
              "            + ' to learn more about interactive tables.';\n",
              "          element.innerHTML = '';\n",
              "          dataTable['output_type'] = 'display_data';\n",
              "          await google.colab.output.renderOutput(dataTable, element);\n",
              "          const docLink = document.createElement('div');\n",
              "          docLink.innerHTML = docLinkHtml;\n",
              "          element.appendChild(docLink);\n",
              "        }\n",
              "      </script>\n",
              "    </div>\n",
              "  </div>\n",
              "  "
            ]
          },
          "metadata": {},
          "execution_count": 9
        }
      ]
    },
    {
      "cell_type": "code",
      "source": [
        "# Z-Score all columns except quality column\n",
        "cols2zscore = data.keys()\n",
        "cols2zscore = cols2zscore.drop(\"quality\")\n",
        "data[cols2zscore] = data[cols2zscore].apply(stats.zscore)\n",
        "data.head()"
      ],
      "metadata": {
        "colab": {
          "base_uri": "https://localhost:8080/",
          "height": 305
        },
        "id": "Rivg0P5SrL9U",
        "outputId": "8f33b3b1-89b2-4a50-8752-9286ac7c0dc2"
      },
      "execution_count": 10,
      "outputs": [
        {
          "output_type": "execute_result",
          "data": {
            "text/plain": [
              "   fixed acidity  volatile acidity  citric acid  residual sugar  chlorides  \\\n",
              "0      -0.528350          0.960657    -1.391823       -0.452579  -0.244648   \n",
              "1      -0.298673          1.966614    -1.391823        0.049020   0.222827   \n",
              "2      -0.298673          1.295976    -1.185980       -0.165951   0.095334   \n",
              "3       1.653579         -1.386577     1.489975       -0.452579  -0.265897   \n",
              "4      -0.528350          0.960657    -1.391823       -0.452579  -0.244648   \n",
              "\n",
              "   free sulfur dioxide  total sulfur dioxide   density        pH  sulphates  \\\n",
              "0            -0.464558             -0.382535  0.556807  1.288470  -0.580216   \n",
              "1             0.877032              0.654661  0.025923 -0.723652   0.127837   \n",
              "2            -0.081247              0.246069  0.132100 -0.334209  -0.049176   \n",
              "3             0.110409              0.434650  0.662984 -0.983280  -0.462207   \n",
              "4            -0.464558             -0.382535  0.556807  1.288470  -0.580216   \n",
              "\n",
              "    alcohol  quality  \n",
              "0 -0.959307        5  \n",
              "1 -0.583341        5  \n",
              "2 -0.583341        5  \n",
              "3 -0.583341        6  \n",
              "4 -0.959307        5  "
            ],
            "text/html": [
              "\n",
              "  <div id=\"df-38937c62-8fbd-401f-940c-08f1d097d583\">\n",
              "    <div class=\"colab-df-container\">\n",
              "      <div>\n",
              "<style scoped>\n",
              "    .dataframe tbody tr th:only-of-type {\n",
              "        vertical-align: middle;\n",
              "    }\n",
              "\n",
              "    .dataframe tbody tr th {\n",
              "        vertical-align: top;\n",
              "    }\n",
              "\n",
              "    .dataframe thead th {\n",
              "        text-align: right;\n",
              "    }\n",
              "</style>\n",
              "<table border=\"1\" class=\"dataframe\">\n",
              "  <thead>\n",
              "    <tr style=\"text-align: right;\">\n",
              "      <th></th>\n",
              "      <th>fixed acidity</th>\n",
              "      <th>volatile acidity</th>\n",
              "      <th>citric acid</th>\n",
              "      <th>residual sugar</th>\n",
              "      <th>chlorides</th>\n",
              "      <th>free sulfur dioxide</th>\n",
              "      <th>total sulfur dioxide</th>\n",
              "      <th>density</th>\n",
              "      <th>pH</th>\n",
              "      <th>sulphates</th>\n",
              "      <th>alcohol</th>\n",
              "      <th>quality</th>\n",
              "    </tr>\n",
              "  </thead>\n",
              "  <tbody>\n",
              "    <tr>\n",
              "      <th>0</th>\n",
              "      <td>-0.528350</td>\n",
              "      <td>0.960657</td>\n",
              "      <td>-1.391823</td>\n",
              "      <td>-0.452579</td>\n",
              "      <td>-0.244648</td>\n",
              "      <td>-0.464558</td>\n",
              "      <td>-0.382535</td>\n",
              "      <td>0.556807</td>\n",
              "      <td>1.288470</td>\n",
              "      <td>-0.580216</td>\n",
              "      <td>-0.959307</td>\n",
              "      <td>5</td>\n",
              "    </tr>\n",
              "    <tr>\n",
              "      <th>1</th>\n",
              "      <td>-0.298673</td>\n",
              "      <td>1.966614</td>\n",
              "      <td>-1.391823</td>\n",
              "      <td>0.049020</td>\n",
              "      <td>0.222827</td>\n",
              "      <td>0.877032</td>\n",
              "      <td>0.654661</td>\n",
              "      <td>0.025923</td>\n",
              "      <td>-0.723652</td>\n",
              "      <td>0.127837</td>\n",
              "      <td>-0.583341</td>\n",
              "      <td>5</td>\n",
              "    </tr>\n",
              "    <tr>\n",
              "      <th>2</th>\n",
              "      <td>-0.298673</td>\n",
              "      <td>1.295976</td>\n",
              "      <td>-1.185980</td>\n",
              "      <td>-0.165951</td>\n",
              "      <td>0.095334</td>\n",
              "      <td>-0.081247</td>\n",
              "      <td>0.246069</td>\n",
              "      <td>0.132100</td>\n",
              "      <td>-0.334209</td>\n",
              "      <td>-0.049176</td>\n",
              "      <td>-0.583341</td>\n",
              "      <td>5</td>\n",
              "    </tr>\n",
              "    <tr>\n",
              "      <th>3</th>\n",
              "      <td>1.653579</td>\n",
              "      <td>-1.386577</td>\n",
              "      <td>1.489975</td>\n",
              "      <td>-0.452579</td>\n",
              "      <td>-0.265897</td>\n",
              "      <td>0.110409</td>\n",
              "      <td>0.434650</td>\n",
              "      <td>0.662984</td>\n",
              "      <td>-0.983280</td>\n",
              "      <td>-0.462207</td>\n",
              "      <td>-0.583341</td>\n",
              "      <td>6</td>\n",
              "    </tr>\n",
              "    <tr>\n",
              "      <th>4</th>\n",
              "      <td>-0.528350</td>\n",
              "      <td>0.960657</td>\n",
              "      <td>-1.391823</td>\n",
              "      <td>-0.452579</td>\n",
              "      <td>-0.244648</td>\n",
              "      <td>-0.464558</td>\n",
              "      <td>-0.382535</td>\n",
              "      <td>0.556807</td>\n",
              "      <td>1.288470</td>\n",
              "      <td>-0.580216</td>\n",
              "      <td>-0.959307</td>\n",
              "      <td>5</td>\n",
              "    </tr>\n",
              "  </tbody>\n",
              "</table>\n",
              "</div>\n",
              "      <button class=\"colab-df-convert\" onclick=\"convertToInteractive('df-38937c62-8fbd-401f-940c-08f1d097d583')\"\n",
              "              title=\"Convert this dataframe to an interactive table.\"\n",
              "              style=\"display:none;\">\n",
              "        \n",
              "  <svg xmlns=\"http://www.w3.org/2000/svg\" height=\"24px\"viewBox=\"0 0 24 24\"\n",
              "       width=\"24px\">\n",
              "    <path d=\"M0 0h24v24H0V0z\" fill=\"none\"/>\n",
              "    <path d=\"M18.56 5.44l.94 2.06.94-2.06 2.06-.94-2.06-.94-.94-2.06-.94 2.06-2.06.94zm-11 1L8.5 8.5l.94-2.06 2.06-.94-2.06-.94L8.5 2.5l-.94 2.06-2.06.94zm10 10l.94 2.06.94-2.06 2.06-.94-2.06-.94-.94-2.06-.94 2.06-2.06.94z\"/><path d=\"M17.41 7.96l-1.37-1.37c-.4-.4-.92-.59-1.43-.59-.52 0-1.04.2-1.43.59L10.3 9.45l-7.72 7.72c-.78.78-.78 2.05 0 2.83L4 21.41c.39.39.9.59 1.41.59.51 0 1.02-.2 1.41-.59l7.78-7.78 2.81-2.81c.8-.78.8-2.07 0-2.86zM5.41 20L4 18.59l7.72-7.72 1.47 1.35L5.41 20z\"/>\n",
              "  </svg>\n",
              "      </button>\n",
              "      \n",
              "  <style>\n",
              "    .colab-df-container {\n",
              "      display:flex;\n",
              "      flex-wrap:wrap;\n",
              "      gap: 12px;\n",
              "    }\n",
              "\n",
              "    .colab-df-convert {\n",
              "      background-color: #E8F0FE;\n",
              "      border: none;\n",
              "      border-radius: 50%;\n",
              "      cursor: pointer;\n",
              "      display: none;\n",
              "      fill: #1967D2;\n",
              "      height: 32px;\n",
              "      padding: 0 0 0 0;\n",
              "      width: 32px;\n",
              "    }\n",
              "\n",
              "    .colab-df-convert:hover {\n",
              "      background-color: #E2EBFA;\n",
              "      box-shadow: 0px 1px 2px rgba(60, 64, 67, 0.3), 0px 1px 3px 1px rgba(60, 64, 67, 0.15);\n",
              "      fill: #174EA6;\n",
              "    }\n",
              "\n",
              "    [theme=dark] .colab-df-convert {\n",
              "      background-color: #3B4455;\n",
              "      fill: #D2E3FC;\n",
              "    }\n",
              "\n",
              "    [theme=dark] .colab-df-convert:hover {\n",
              "      background-color: #434B5C;\n",
              "      box-shadow: 0px 1px 3px 1px rgba(0, 0, 0, 0.15);\n",
              "      filter: drop-shadow(0px 1px 2px rgba(0, 0, 0, 0.3));\n",
              "      fill: #FFFFFF;\n",
              "    }\n",
              "  </style>\n",
              "\n",
              "      <script>\n",
              "        const buttonEl =\n",
              "          document.querySelector('#df-38937c62-8fbd-401f-940c-08f1d097d583 button.colab-df-convert');\n",
              "        buttonEl.style.display =\n",
              "          google.colab.kernel.accessAllowed ? 'block' : 'none';\n",
              "\n",
              "        async function convertToInteractive(key) {\n",
              "          const element = document.querySelector('#df-38937c62-8fbd-401f-940c-08f1d097d583');\n",
              "          const dataTable =\n",
              "            await google.colab.kernel.invokeFunction('convertToInteractive',\n",
              "                                                     [key], {});\n",
              "          if (!dataTable) return;\n",
              "\n",
              "          const docLinkHtml = 'Like what you see? Visit the ' +\n",
              "            '<a target=\"_blank\" href=https://colab.research.google.com/notebooks/data_table.ipynb>data table notebook</a>'\n",
              "            + ' to learn more about interactive tables.';\n",
              "          element.innerHTML = '';\n",
              "          dataTable['output_type'] = 'display_data';\n",
              "          await google.colab.output.renderOutput(dataTable, element);\n",
              "          const docLink = document.createElement('div');\n",
              "          docLink.innerHTML = docLinkHtml;\n",
              "          element.appendChild(docLink);\n",
              "        }\n",
              "      </script>\n",
              "    </div>\n",
              "  </div>\n",
              "  "
            ]
          },
          "metadata": {},
          "execution_count": 10
        }
      ]
    },
    {
      "cell_type": "code",
      "source": [
        "# Write a function to create the dataset we want\n",
        "def createAdataset(qualThreshold):\n",
        "\n",
        "    # Create a new column for binarized quality\n",
        "    data[\"boolQuality\"] = 0\n",
        "\n",
        "    tmp = (data[\"quality\"] > qualThreshold).astype(int)\n",
        "    data[\"boolQuality\"] = tmp\n",
        "\n",
        "    # Convert from pandas dataframe to tensor\n",
        "    dataT = torch.tensor(data[cols2zscore].values).float()\n",
        "    labels = torch.tensor(data[\"boolQuality\"].values).float()\n",
        "    # Turn labels into a matrix\n",
        "    labels = labels[:,None]\n",
        "\n",
        "    # Split the data\n",
        "    train_data, test_data, train_labels, test_labels = train_test_split(dataT, labels, test_size=0.1)\n",
        "\n",
        "    # Convert into PyTorch datasets\n",
        "    train_data = TensorDataset(train_data, train_labels)\n",
        "    test_data = TensorDataset(test_data, test_labels)\n",
        "\n",
        "    # Translate into dataloader objects\n",
        "    batchsize = 8\n",
        "    train_loader = DataLoader(train_data, batch_size = batchsize, shuffle=True, drop_last=True)\n",
        "    test_loader = DataLoader(test_data, batch_size=test_data.tensors[0].shape[0])\n",
        "\n",
        "    return train_loader, test_loader"
      ],
      "metadata": {
        "id": "YHMCqsEHsUIB"
      },
      "execution_count": 11,
      "outputs": []
    },
    {
      "cell_type": "code",
      "source": [
        "# Test to see whats going on\n",
        "train_loader, test_loader = createAdataset(6)\n",
        "\n",
        "# Get the number of high and low quality wines\n",
        "qualityRatings = train_loader.dataset.tensors[1].detach()\n",
        "print(\"Low-Rated Wines {}\".format(torch.sum(qualityRatings==0).item()))\n",
        "print(\"High-Quality Wines {}\".format(torch.sum(qualityRatings==1).item()))"
      ],
      "metadata": {
        "colab": {
          "base_uri": "https://localhost:8080/"
        },
        "id": "jwzljUnmwD9h",
        "outputId": "d9fb6906-39f5-418e-ad40-a775da9bf19c"
      },
      "execution_count": 15,
      "outputs": [
        {
          "output_type": "stream",
          "name": "stdout",
          "text": [
            "Low-Rated Wines 1240\n",
            "High-Quality Wines 197\n"
          ]
        }
      ]
    },
    {
      "cell_type": "code",
      "source": [
        "# Test to see whats going on: The most ballanced option\n",
        "train_loader, test_loader = createAdataset(5)\n",
        "\n",
        "# Get the number of high and low quality wines\n",
        "qualityRatings = train_loader.dataset.tensors[1].detach()\n",
        "print(\"Low-Rated Wines {}\".format(torch.sum(qualityRatings==0).item()))\n",
        "print(\"High-Quality Wines {}\".format(torch.sum(qualityRatings==1).item()))"
      ],
      "metadata": {
        "colab": {
          "base_uri": "https://localhost:8080/"
        },
        "id": "5aK86yBk-YKz",
        "outputId": "66f7c52f-53c8-496c-c3eb-d10f940b9251"
      },
      "execution_count": 25,
      "outputs": [
        {
          "output_type": "stream",
          "name": "stdout",
          "text": [
            "Low-Rated Wines 676\n",
            "High-Quality Wines 761\n"
          ]
        }
      ]
    },
    {
      "cell_type": "code",
      "source": [
        "# Define a class for the model\n",
        "class ANNwine(nn.Module):\n",
        "    def __init__(self):\n",
        "        super().__init__()\n",
        "\n",
        "        # define the input layer\n",
        "        self.input = nn.Linear(11,16)\n",
        "\n",
        "        # Define 2 hidden layers\n",
        "        self.fc1 = nn.Linear(16,32)\n",
        "        self.fc2 = nn.Linear(32,32)\n",
        "\n",
        "        # Define the output layer\n",
        "        self.output = nn.Linear(32,1)\n",
        "\n",
        "    # Define the forward pass\n",
        "    def forward(self,x):\n",
        "        x = F.leaky_relu(self.input(x))\n",
        "        x = F.leaky_relu(self.fc1(x))\n",
        "        x = F.leaky_relu(self.fc2(x))\n",
        "        return self.output(x)"
      ],
      "metadata": {
        "id": "srPragEqzGdl"
      },
      "execution_count": 26,
      "outputs": []
    },
    {
      "cell_type": "code",
      "source": [
        "# Define the function to train the model\n",
        "\n",
        "# Define the number of epochs\n",
        "numepochs = 500\n",
        "\n",
        "def trainTheModel():\n",
        "\n",
        "    # Define loss function and optimizer\n",
        "    lossfun = nn.BCEWithLogitsLoss()\n",
        "    optimizer = torch.optim.Adam(winenet.parameters(),lr=0.001)\n",
        "\n",
        "    # INitialize the losses\n",
        "    losses = []\n",
        "    trainAcc = []\n",
        "    testAcc = []\n",
        "\n",
        "    # Iterate over the epochs\n",
        "    for epochi in range(numepochs):\n",
        "\n",
        "        batchAcc = []\n",
        "        batchLoss = []\n",
        "\n",
        "        for X,y in train_loader:\n",
        "\n",
        "            # Forward Pass\n",
        "            yHat = winenet(X)\n",
        "            loss = lossfun(yHat,y)\n",
        "\n",
        "            # BackPropagation\n",
        "            optimizer.zero_grad()\n",
        "            loss.backward()\n",
        "            optimizer.step()\n",
        "\n",
        "            # Batch loss and accuracy\n",
        "            batchLoss.append(loss.item())\n",
        "            batchAcc.append(100*torch.mean(((yHat>0)==y).float()).item())\n",
        "        # End of a batch\n",
        "\n",
        "        # Train accuracy for this epoch\n",
        "        trainAcc.append(np.mean(batchAcc))\n",
        "\n",
        "        # LOsses for this epocj\n",
        "        losses.append(np.mean(batchLoss))\n",
        "\n",
        "        # Test\n",
        "        X,y = next(iter(test_loader))\n",
        "        with torch.no_grad():\n",
        "            yHat = winenet(X)\n",
        "        testAcc.append(100*torch.mean(((yHat>0)==y).float()).item())\n",
        "    # Overall Output\n",
        "    return trainAcc, testAcc, losses"
      ],
      "metadata": {
        "id": "ABh7fiad_zd1"
      },
      "execution_count": 27,
      "outputs": []
    },
    {
      "cell_type": "code",
      "source": [
        "# Create the data to test everything is working\n",
        "train_loader, test_loader = createAdataset(5)\n",
        "\n",
        "# Create a model and train it\n",
        "winenet = ANNwine()\n",
        "trainAcc, testAcc, losses = trainTheModel()\n",
        "\n",
        "# Compute accuracy per quality type\n",
        "X,y = next(iter(test_loader))\n",
        "yHat = winenet(X)\n",
        "itemAccuracy = ((yHat>0)==y).float()\n",
        "\n",
        "perQualAcc = [100*torch.mean(itemAccuracy[y==0]),100*torch.mean(itemAccuracy[y==1])]\n",
        "\n",
        "perQualAcc"
      ],
      "metadata": {
        "colab": {
          "base_uri": "https://localhost:8080/"
        },
        "id": "DqI59yhyCM-g",
        "outputId": "088466f5-354c-4741-bf29-5b205ca48e2f"
      },
      "execution_count": 28,
      "outputs": [
        {
          "output_type": "execute_result",
          "data": {
            "text/plain": [
              "[tensor(75.6410), tensor(75.6098)]"
            ]
          },
          "metadata": {},
          "execution_count": 28
        }
      ]
    },
    {
      "cell_type": "code",
      "source": [
        "# Run the Whole Thing\n"
      ],
      "metadata": {
        "id": "eZZP0XbQDsZS"
      },
      "execution_count": null,
      "outputs": []
    }
  ]
}