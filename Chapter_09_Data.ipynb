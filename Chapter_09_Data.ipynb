{
  "nbformat": 4,
  "nbformat_minor": 0,
  "metadata": {
    "colab": {
      "name": "Chapter_09_Data.ipynb",
      "provenance": [],
      "authorship_tag": "ABX9TyPk7AL4YSgJ4PjmJ2Q2uN9P",
      "include_colab_link": true
    },
    "kernelspec": {
      "name": "python3",
      "display_name": "Python 3"
    },
    "language_info": {
      "name": "python"
    },
    "gpuClass": "standard"
  },
  "cells": [
    {
      "cell_type": "markdown",
      "metadata": {
        "id": "view-in-github",
        "colab_type": "text"
      },
      "source": [
        "<a href=\"https://colab.research.google.com/github/ilirsheraj/DUDL/blob/main/Chapter_09_Data.ipynb\" target=\"_parent\"><img src=\"https://colab.research.google.com/assets/colab-badge.svg\" alt=\"Open In Colab\"/></a>"
      ]
    },
    {
      "cell_type": "markdown",
      "source": [
        "#DataSet Loader"
      ],
      "metadata": {
        "id": "Phsz6v4bVADC"
      }
    },
    {
      "cell_type": "code",
      "execution_count": 1,
      "metadata": {
        "id": "HIVgTosmTffm"
      },
      "outputs": [],
      "source": [
        "# Import Libraries\n",
        "import numpy as np\n",
        "import torch\n",
        "from torch.utils.data import DataLoader, TensorDataset"
      ]
    },
    {
      "cell_type": "code",
      "source": [
        "# Create a dataset in Numpy\n",
        "nObservations = 100\n",
        "nFeatures = 20\n",
        "\n",
        "data = np.random.randn(nObservations, nFeatures)\n",
        "\n",
        "data.shape"
      ],
      "metadata": {
        "colab": {
          "base_uri": "https://localhost:8080/"
        },
        "id": "iVUHzzgbVNvP",
        "outputId": "8d8a00db-0b49-4802-a507-d7c849a98e04"
      },
      "execution_count": 2,
      "outputs": [
        {
          "output_type": "execute_result",
          "data": {
            "text/plain": [
              "(100, 20)"
            ]
          },
          "metadata": {},
          "execution_count": 2
        }
      ]
    },
    {
      "cell_type": "code",
      "source": [
        "# Convert the data into pytorch tensor\n",
        "dataT = torch.tensor(data)\n",
        "\n",
        "# Print out some information\n",
        "print(\"Numpy Data\")\n",
        "print(type(data))\n",
        "print()\n",
        "print(data.shape) # numpy -> .shape\n",
        "print()\n",
        "print(data.dtype)"
      ],
      "metadata": {
        "colab": {
          "base_uri": "https://localhost:8080/"
        },
        "id": "SmRYf79lZUeX",
        "outputId": "813dabc8-9510-40e7-f884-d7952cdbb81c"
      },
      "execution_count": 3,
      "outputs": [
        {
          "output_type": "stream",
          "name": "stdout",
          "text": [
            "Numpy Data\n",
            "<class 'numpy.ndarray'>\n",
            "\n",
            "(100, 20)\n",
            "\n",
            "float64\n"
          ]
        }
      ]
    },
    {
      "cell_type": "code",
      "source": [
        "print(\"Tensor Data\")\n",
        "print(type(dataT))\n",
        "print()\n",
        "print(dataT.size()) # torch -> size()\n",
        "print()\n",
        "print(dataT.dtype)"
      ],
      "metadata": {
        "colab": {
          "base_uri": "https://localhost:8080/"
        },
        "id": "TQm9ZJ8JZu9g",
        "outputId": "355a28d5-8501-4d87-b53c-8619baed2a1e"
      },
      "execution_count": 4,
      "outputs": [
        {
          "output_type": "stream",
          "name": "stdout",
          "text": [
            "Tensor Data\n",
            "<class 'torch.Tensor'>\n",
            "\n",
            "torch.Size([100, 20])\n",
            "\n",
            "torch.float64\n"
          ]
        }
      ]
    },
    {
      "cell_type": "code",
      "source": [
        ""
      ],
      "metadata": {
        "id": "LaLRg0iFaKbN"
      },
      "execution_count": null,
      "outputs": []
    }
  ]
}