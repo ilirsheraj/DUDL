{
  "nbformat": 4,
  "nbformat_minor": 0,
  "metadata": {
    "colab": {
      "name": "Chapter_09_Data.ipynb",
      "provenance": [],
      "authorship_tag": "ABX9TyMy6UliJ9wZ7PGgIXTLQwXr",
      "include_colab_link": true
    },
    "kernelspec": {
      "name": "python3",
      "display_name": "Python 3"
    },
    "language_info": {
      "name": "python"
    },
    "gpuClass": "standard"
  },
  "cells": [
    {
      "cell_type": "markdown",
      "metadata": {
        "id": "view-in-github",
        "colab_type": "text"
      },
      "source": [
        "<a href=\"https://colab.research.google.com/github/ilirsheraj/DUDL/blob/main/Chapter_09_Data.ipynb\" target=\"_parent\"><img src=\"https://colab.research.google.com/assets/colab-badge.svg\" alt=\"Open In Colab\"/></a>"
      ]
    },
    {
      "cell_type": "markdown",
      "source": [
        "#DataSet Loader"
      ],
      "metadata": {
        "id": "Phsz6v4bVADC"
      }
    },
    {
      "cell_type": "code",
      "execution_count": 1,
      "metadata": {
        "id": "HIVgTosmTffm"
      },
      "outputs": [],
      "source": [
        "# Import Libraries\n",
        "import numpy as np\n",
        "import torch\n",
        "from torch.utils.data import DataLoader, TensorDataset"
      ]
    },
    {
      "cell_type": "code",
      "source": [
        "# Create a dataset in Numpy\n",
        "nObservations = 100\n",
        "nFeatures = 20\n",
        "\n",
        "data = np.random.randn(nObservations, nFeatures)\n",
        "\n",
        "data.shape"
      ],
      "metadata": {
        "colab": {
          "base_uri": "https://localhost:8080/"
        },
        "id": "iVUHzzgbVNvP",
        "outputId": "8d8a00db-0b49-4802-a507-d7c849a98e04"
      },
      "execution_count": 2,
      "outputs": [
        {
          "output_type": "execute_result",
          "data": {
            "text/plain": [
              "(100, 20)"
            ]
          },
          "metadata": {},
          "execution_count": 2
        }
      ]
    },
    {
      "cell_type": "code",
      "source": [
        "# Convert the data into pytorch tensor\n",
        "dataT = torch.tensor(data)\n",
        "\n",
        "# Print out some information\n",
        "print(\"Numpy Data\")\n",
        "print(type(data))\n",
        "print()\n",
        "print(data.shape) # numpy -> .shape\n",
        "print()\n",
        "print(data.dtype) # The "
      ],
      "metadata": {
        "colab": {
          "base_uri": "https://localhost:8080/"
        },
        "id": "SmRYf79lZUeX",
        "outputId": "813dabc8-9510-40e7-f884-d7952cdbb81c"
      },
      "execution_count": 3,
      "outputs": [
        {
          "output_type": "stream",
          "name": "stdout",
          "text": [
            "Numpy Data\n",
            "<class 'numpy.ndarray'>\n",
            "\n",
            "(100, 20)\n",
            "\n",
            "float64\n"
          ]
        }
      ]
    },
    {
      "cell_type": "code",
      "source": [
        "print(\"Tensor Data\")\n",
        "print(type(dataT))\n",
        "print()\n",
        "print(dataT.size()) # torch -> size() dataT.shape also works\n",
        "print()\n",
        "print(dataT.dtype)"
      ],
      "metadata": {
        "colab": {
          "base_uri": "https://localhost:8080/"
        },
        "id": "TQm9ZJ8JZu9g",
        "outputId": "355a28d5-8501-4d87-b53c-8619baed2a1e"
      },
      "execution_count": 4,
      "outputs": [
        {
          "output_type": "stream",
          "name": "stdout",
          "text": [
            "Tensor Data\n",
            "<class 'torch.Tensor'>\n",
            "\n",
            "torch.Size([100, 20])\n",
            "\n",
            "torch.float64\n"
          ]
        }
      ]
    },
    {
      "cell_type": "code",
      "source": [
        "# Converting datatypes\n",
        "dataT2 = torch.tensor(data).float()\n",
        "print(dataT2.dtype)"
      ],
      "metadata": {
        "colab": {
          "base_uri": "https://localhost:8080/"
        },
        "id": "LaLRg0iFaKbN",
        "outputId": "8672b74f-d34f-4232-8250-110bc13ea3c8"
      },
      "execution_count": 5,
      "outputs": [
        {
          "output_type": "stream",
          "name": "stdout",
          "text": [
            "torch.float32\n"
          ]
        }
      ]
    },
    {
      "cell_type": "code",
      "source": [
        "# .long() works for integers, like we have always used to create labels\n",
        "dataT3 = torch.tensor(data).long()\n",
        "print(dataT3.dtype)"
      ],
      "metadata": {
        "colab": {
          "base_uri": "https://localhost:8080/"
        },
        "id": "C_3NdCxPcLx-",
        "outputId": "1343d7fc-5c3c-4a67-eeb5-08b378c7b4f9"
      },
      "execution_count": 6,
      "outputs": [
        {
          "output_type": "stream",
          "name": "stdout",
          "text": [
            "torch.int64\n"
          ]
        }
      ]
    },
    {
      "cell_type": "code",
      "source": [
        "data"
      ],
      "metadata": {
        "colab": {
          "base_uri": "https://localhost:8080/"
        },
        "id": "zGjsF42rcfSx",
        "outputId": "d5834d6e-9b2d-4fab-cc56-fe88d387964e"
      },
      "execution_count": 7,
      "outputs": [
        {
          "output_type": "execute_result",
          "data": {
            "text/plain": [
              "array([[-0.82976739,  0.34754678,  1.39177293, ..., -0.10090905,\n",
              "        -2.40662971, -0.93024654],\n",
              "       [-0.47078504, -1.2031652 , -0.29491722, ..., -0.33086413,\n",
              "        -2.03526516, -0.1693245 ],\n",
              "       [-0.36169913,  0.89359374,  1.30586172, ...,  0.54162879,\n",
              "         1.13778047,  0.71966624],\n",
              "       ...,\n",
              "       [-1.77784199, -0.7895438 , -0.09308796, ..., -0.75162999,\n",
              "         0.33888008, -0.83388868],\n",
              "       [ 0.97350813, -0.21948429,  1.00061519, ...,  0.10455374,\n",
              "        -0.07579497,  2.94497991],\n",
              "       [ 0.18612095,  0.63066434,  1.01978561, ...,  0.2509639 ,\n",
              "         0.13576483,  0.29997071]])"
            ]
          },
          "metadata": {},
          "execution_count": 7
        }
      ]
    },
    {
      "cell_type": "code",
      "source": [
        "dataT2"
      ],
      "metadata": {
        "colab": {
          "base_uri": "https://localhost:8080/"
        },
        "id": "pytUkEXLctrP",
        "outputId": "f43be84e-8019-4677-bd89-1857edd3f891"
      },
      "execution_count": 9,
      "outputs": [
        {
          "output_type": "execute_result",
          "data": {
            "text/plain": [
              "tensor([[-0.8298,  0.3475,  1.3918,  ..., -0.1009, -2.4066, -0.9302],\n",
              "        [-0.4708, -1.2032, -0.2949,  ..., -0.3309, -2.0353, -0.1693],\n",
              "        [-0.3617,  0.8936,  1.3059,  ...,  0.5416,  1.1378,  0.7197],\n",
              "        ...,\n",
              "        [-1.7778, -0.7895, -0.0931,  ..., -0.7516,  0.3389, -0.8339],\n",
              "        [ 0.9735, -0.2195,  1.0006,  ...,  0.1046, -0.0758,  2.9450],\n",
              "        [ 0.1861,  0.6307,  1.0198,  ...,  0.2510,  0.1358,  0.3000]])"
            ]
          },
          "metadata": {},
          "execution_count": 9
        }
      ]
    },
    {
      "cell_type": "code",
      "source": [
        "dataT3"
      ],
      "metadata": {
        "colab": {
          "base_uri": "https://localhost:8080/"
        },
        "id": "zVvo-yxRcvD1",
        "outputId": "ace22975-99c2-4de2-fec4-e3c13eec24b3"
      },
      "execution_count": 10,
      "outputs": [
        {
          "output_type": "execute_result",
          "data": {
            "text/plain": [
              "tensor([[ 0,  0,  1,  ...,  0, -2,  0],\n",
              "        [ 0, -1,  0,  ...,  0, -2,  0],\n",
              "        [ 0,  0,  1,  ...,  0,  1,  0],\n",
              "        ...,\n",
              "        [-1,  0,  0,  ...,  0,  0,  0],\n",
              "        [ 0,  0,  1,  ...,  0,  0,  2],\n",
              "        [ 0,  0,  1,  ...,  0,  0,  0]])"
            ]
          },
          "metadata": {},
          "execution_count": 10
        }
      ]
    },
    {
      "cell_type": "code",
      "source": [
        ""
      ],
      "metadata": {
        "id": "2sbkf_xrcy6Z"
      },
      "execution_count": null,
      "outputs": []
    }
  ]
}