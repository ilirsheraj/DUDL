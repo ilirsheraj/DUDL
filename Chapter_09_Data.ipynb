{
  "nbformat": 4,
  "nbformat_minor": 0,
  "metadata": {
    "colab": {
      "name": "Chapter_09_Data.ipynb",
      "provenance": [],
      "collapsed_sections": [],
      "authorship_tag": "ABX9TyOETEa+fFKOA62k1AdKixdn",
      "include_colab_link": true
    },
    "kernelspec": {
      "name": "python3",
      "display_name": "Python 3"
    },
    "language_info": {
      "name": "python"
    },
    "gpuClass": "standard"
  },
  "cells": [
    {
      "cell_type": "markdown",
      "metadata": {
        "id": "view-in-github",
        "colab_type": "text"
      },
      "source": [
        "<a href=\"https://colab.research.google.com/github/ilirsheraj/DUDL/blob/main/Chapter_09_Data.ipynb\" target=\"_parent\"><img src=\"https://colab.research.google.com/assets/colab-badge.svg\" alt=\"Open In Colab\"/></a>"
      ]
    },
    {
      "cell_type": "markdown",
      "source": [
        "#TensorDataset"
      ],
      "metadata": {
        "id": "Phsz6v4bVADC"
      }
    },
    {
      "cell_type": "code",
      "execution_count": 34,
      "metadata": {
        "id": "HIVgTosmTffm"
      },
      "outputs": [],
      "source": [
        "# Import Libraries\n",
        "import torch\n",
        "import torch.nn as nn\n",
        "import torch.nn.functional as F\n",
        "from torch.utils.data import DataLoader, TensorDataset\n",
        "from sklearn.model_selection import train_test_split\n",
        "\n",
        "import numpy as np\n",
        "import matplotlib.pyplot as plt\n",
        "from IPython import display\n",
        "display.set_matplotlib_formats(\"svg\")"
      ]
    },
    {
      "cell_type": "code",
      "source": [
        "# Create a dataset in Numpy\n",
        "nObservations = 100\n",
        "nFeatures = 20\n",
        "\n",
        "data = np.random.randn(nObservations, nFeatures)\n",
        "\n",
        "data.shape"
      ],
      "metadata": {
        "colab": {
          "base_uri": "https://localhost:8080/"
        },
        "id": "iVUHzzgbVNvP",
        "outputId": "d56b7386-a790-4b64-c7a3-4e20560d0c23"
      },
      "execution_count": 2,
      "outputs": [
        {
          "output_type": "execute_result",
          "data": {
            "text/plain": [
              "(100, 20)"
            ]
          },
          "metadata": {},
          "execution_count": 2
        }
      ]
    },
    {
      "cell_type": "code",
      "source": [
        "# Convert the data into pytorch tensor\n",
        "dataT = torch.tensor(data)\n",
        "\n",
        "# Print out some information\n",
        "print(\"Numpy Data\")\n",
        "print(type(data))\n",
        "print()\n",
        "print(data.shape) # numpy -> .shape\n",
        "print()\n",
        "print(data.dtype) # The "
      ],
      "metadata": {
        "colab": {
          "base_uri": "https://localhost:8080/"
        },
        "id": "SmRYf79lZUeX",
        "outputId": "897436e9-f1b2-4d69-debc-288156bb8e6a"
      },
      "execution_count": 3,
      "outputs": [
        {
          "output_type": "stream",
          "name": "stdout",
          "text": [
            "Numpy Data\n",
            "<class 'numpy.ndarray'>\n",
            "\n",
            "(100, 20)\n",
            "\n",
            "float64\n"
          ]
        }
      ]
    },
    {
      "cell_type": "code",
      "source": [
        "print(\"Tensor Data\")\n",
        "print(type(dataT))\n",
        "print()\n",
        "print(dataT.size()) # torch -> size() dataT.shape also works\n",
        "print()\n",
        "print(dataT.dtype)"
      ],
      "metadata": {
        "colab": {
          "base_uri": "https://localhost:8080/"
        },
        "id": "TQm9ZJ8JZu9g",
        "outputId": "a0363420-c772-41c5-a04c-b81e8271752d"
      },
      "execution_count": 4,
      "outputs": [
        {
          "output_type": "stream",
          "name": "stdout",
          "text": [
            "Tensor Data\n",
            "<class 'torch.Tensor'>\n",
            "\n",
            "torch.Size([100, 20])\n",
            "\n",
            "torch.float64\n"
          ]
        }
      ]
    },
    {
      "cell_type": "code",
      "source": [
        "# Converting datatypes\n",
        "dataT2 = torch.tensor(data).float()\n",
        "print(dataT2.dtype)"
      ],
      "metadata": {
        "colab": {
          "base_uri": "https://localhost:8080/"
        },
        "id": "LaLRg0iFaKbN",
        "outputId": "cd4b9e87-b887-4477-be43-63c0ffc8eeb6"
      },
      "execution_count": 5,
      "outputs": [
        {
          "output_type": "stream",
          "name": "stdout",
          "text": [
            "torch.float32\n"
          ]
        }
      ]
    },
    {
      "cell_type": "code",
      "source": [
        "# .long() works for integers, like we have always used to create labels\n",
        "dataT3 = torch.tensor(data).long()\n",
        "print(dataT3.dtype)"
      ],
      "metadata": {
        "colab": {
          "base_uri": "https://localhost:8080/"
        },
        "id": "C_3NdCxPcLx-",
        "outputId": "764ef33f-81b5-4a60-d298-d236c94bb504"
      },
      "execution_count": 6,
      "outputs": [
        {
          "output_type": "stream",
          "name": "stdout",
          "text": [
            "torch.int64\n"
          ]
        }
      ]
    },
    {
      "cell_type": "code",
      "source": [
        "# Numpy Data\n",
        "data"
      ],
      "metadata": {
        "colab": {
          "base_uri": "https://localhost:8080/"
        },
        "id": "zGjsF42rcfSx",
        "outputId": "09d0ddd0-de37-4cbc-86ef-42faa3caeca9"
      },
      "execution_count": 7,
      "outputs": [
        {
          "output_type": "execute_result",
          "data": {
            "text/plain": [
              "array([[ 0.9967915 ,  0.34323311,  0.37051492, ..., -0.13123295,\n",
              "        -1.8267084 ,  1.11413198],\n",
              "       [ 0.25180362, -2.25931033,  0.17148823, ..., -1.14323571,\n",
              "         2.02592951, -0.03974172],\n",
              "       [ 0.42656699,  0.42679475, -2.27714039, ..., -0.59696545,\n",
              "        -1.56227537, -1.03451708],\n",
              "       ...,\n",
              "       [ 1.03732373,  0.75888444, -0.65063706, ...,  0.05118021,\n",
              "         0.16738484, -0.67012479],\n",
              "       [-0.91117139, -0.63432906, -1.70847911, ..., -1.50201273,\n",
              "         0.31456932, -3.11636302],\n",
              "       [ 2.10332061, -0.00539816,  0.23472897, ..., -2.2432004 ,\n",
              "         0.25503878, -0.1597969 ]])"
            ]
          },
          "metadata": {},
          "execution_count": 7
        }
      ]
    },
    {
      "cell_type": "code",
      "source": [
        "# Tensor\n",
        "dataT2"
      ],
      "metadata": {
        "id": "pytUkEXLctrP",
        "outputId": "e6919087-16f8-469e-e027-2dac9f8357bf",
        "colab": {
          "base_uri": "https://localhost:8080/"
        }
      },
      "execution_count": 8,
      "outputs": [
        {
          "output_type": "execute_result",
          "data": {
            "text/plain": [
              "tensor([[ 0.9968,  0.3432,  0.3705,  ..., -0.1312, -1.8267,  1.1141],\n",
              "        [ 0.2518, -2.2593,  0.1715,  ..., -1.1432,  2.0259, -0.0397],\n",
              "        [ 0.4266,  0.4268, -2.2771,  ..., -0.5970, -1.5623, -1.0345],\n",
              "        ...,\n",
              "        [ 1.0373,  0.7589, -0.6506,  ...,  0.0512,  0.1674, -0.6701],\n",
              "        [-0.9112, -0.6343, -1.7085,  ..., -1.5020,  0.3146, -3.1164],\n",
              "        [ 2.1033, -0.0054,  0.2347,  ..., -2.2432,  0.2550, -0.1598]])"
            ]
          },
          "metadata": {},
          "execution_count": 8
        }
      ]
    },
    {
      "cell_type": "code",
      "source": [
        "# Integer Tensor\n",
        "dataT3"
      ],
      "metadata": {
        "id": "zVvo-yxRcvD1",
        "outputId": "accbdc89-daef-4cb9-adb2-84766506c522",
        "colab": {
          "base_uri": "https://localhost:8080/"
        }
      },
      "execution_count": 9,
      "outputs": [
        {
          "output_type": "execute_result",
          "data": {
            "text/plain": [
              "tensor([[ 0,  0,  0,  ...,  0, -1,  1],\n",
              "        [ 0, -2,  0,  ..., -1,  2,  0],\n",
              "        [ 0,  0, -2,  ...,  0, -1, -1],\n",
              "        ...,\n",
              "        [ 1,  0,  0,  ...,  0,  0,  0],\n",
              "        [ 0,  0, -1,  ..., -1,  0, -3],\n",
              "        [ 2,  0,  0,  ..., -2,  0,  0]])"
            ]
          },
          "metadata": {},
          "execution_count": 9
        }
      ]
    },
    {
      "cell_type": "code",
      "source": [
        "# Convert the tensors into PyTorch Datasets\n",
        "# dataset = TensorDataset(data) # This is not a tensor, so cannot be converted\n",
        "# We need tensor for that\n",
        "dataset = TensorDataset(dataT)\n",
        "# Dataset is a two-element tuple comprising of data and labels\n",
        "dataset.tensors"
      ],
      "metadata": {
        "id": "2sbkf_xrcy6Z",
        "colab": {
          "base_uri": "https://localhost:8080/"
        },
        "outputId": "f66752ed-ab6b-4314-8a23-6b37f3bba15c"
      },
      "execution_count": 11,
      "outputs": [
        {
          "output_type": "execute_result",
          "data": {
            "text/plain": [
              "(tensor([[ 0.9968,  0.3432,  0.3705,  ..., -0.1312, -1.8267,  1.1141],\n",
              "         [ 0.2518, -2.2593,  0.1715,  ..., -1.1432,  2.0259, -0.0397],\n",
              "         [ 0.4266,  0.4268, -2.2771,  ..., -0.5970, -1.5623, -1.0345],\n",
              "         ...,\n",
              "         [ 1.0373,  0.7589, -0.6506,  ...,  0.0512,  0.1674, -0.6701],\n",
              "         [-0.9112, -0.6343, -1.7085,  ..., -1.5020,  0.3146, -3.1164],\n",
              "         [ 2.1033, -0.0054,  0.2347,  ..., -2.2432,  0.2550, -0.1598]],\n",
              "        dtype=torch.float64),)"
            ]
          },
          "metadata": {},
          "execution_count": 11
        }
      ]
    },
    {
      "cell_type": "code",
      "source": [
        "# We can access all the numbers by indexing on zero element of the tuple\n",
        "dataset.tensors[0]"
      ],
      "metadata": {
        "colab": {
          "base_uri": "https://localhost:8080/"
        },
        "id": "VLoyXbp4cdDs",
        "outputId": "2892b952-2a56-4a82-ec6e-8146b452e45d"
      },
      "execution_count": 12,
      "outputs": [
        {
          "output_type": "execute_result",
          "data": {
            "text/plain": [
              "tensor([[ 0.9968,  0.3432,  0.3705,  ..., -0.1312, -1.8267,  1.1141],\n",
              "        [ 0.2518, -2.2593,  0.1715,  ..., -1.1432,  2.0259, -0.0397],\n",
              "        [ 0.4266,  0.4268, -2.2771,  ..., -0.5970, -1.5623, -1.0345],\n",
              "        ...,\n",
              "        [ 1.0373,  0.7589, -0.6506,  ...,  0.0512,  0.1674, -0.6701],\n",
              "        [-0.9112, -0.6343, -1.7085,  ..., -1.5020,  0.3146, -3.1164],\n",
              "        [ 2.1033, -0.0054,  0.2347,  ..., -2.2432,  0.2550, -0.1598]],\n",
              "       dtype=torch.float64)"
            ]
          },
          "metadata": {},
          "execution_count": 12
        }
      ]
    },
    {
      "cell_type": "code",
      "source": [
        "# Let's add labels to the data\n",
        "labels = torch.ceil(torch.linspace(0.01,4, nObservations))\n",
        "labels"
      ],
      "metadata": {
        "colab": {
          "base_uri": "https://localhost:8080/"
        },
        "id": "3KIppXN-dOvn",
        "outputId": "df3d43c6-654c-4e5e-e478-985328a1ba94"
      },
      "execution_count": 32,
      "outputs": [
        {
          "output_type": "execute_result",
          "data": {
            "text/plain": [
              "tensor([1., 1., 1., 1., 1., 1., 1., 1., 1., 1., 1., 1., 1., 1., 1., 1., 1., 1.,\n",
              "        1., 1., 1., 1., 1., 1., 1., 2., 2., 2., 2., 2., 2., 2., 2., 2., 2., 2.,\n",
              "        2., 2., 2., 2., 2., 2., 2., 2., 2., 2., 2., 2., 2., 2., 3., 3., 3., 3.,\n",
              "        3., 3., 3., 3., 3., 3., 3., 3., 3., 3., 3., 3., 3., 3., 3., 3., 3., 3.,\n",
              "        3., 3., 3., 4., 4., 4., 4., 4., 4., 4., 4., 4., 4., 4., 4., 4., 4., 4.,\n",
              "        4., 4., 4., 4., 4., 4., 4., 4., 4., 4.])"
            ]
          },
          "metadata": {},
          "execution_count": 32
        }
      ]
    },
    {
      "cell_type": "code",
      "source": [
        "# The above is just a list, it is not a tensor with orientation\n",
        "# Lets transform it into an actual matrix (column vector)\n",
        "labels = labels.reshape((len(labels),1))\n",
        "print(labels.T)\n",
        "# Two sets of fquare brackets :)"
      ],
      "metadata": {
        "colab": {
          "base_uri": "https://localhost:8080/"
        },
        "id": "La8vx9l8duUN",
        "outputId": "251ff77a-4a86-4769-fcdc-46ecf3c50057"
      },
      "execution_count": 33,
      "outputs": [
        {
          "output_type": "stream",
          "name": "stdout",
          "text": [
            "tensor([[1., 1., 1., 1., 1., 1., 1., 1., 1., 1., 1., 1., 1., 1., 1., 1., 1., 1.,\n",
            "         1., 1., 1., 1., 1., 1., 1., 2., 2., 2., 2., 2., 2., 2., 2., 2., 2., 2.,\n",
            "         2., 2., 2., 2., 2., 2., 2., 2., 2., 2., 2., 2., 2., 2., 3., 3., 3., 3.,\n",
            "         3., 3., 3., 3., 3., 3., 3., 3., 3., 3., 3., 3., 3., 3., 3., 3., 3., 3.,\n",
            "         3., 3., 3., 4., 4., 4., 4., 4., 4., 4., 4., 4., 4., 4., 4., 4., 4., 4.,\n",
            "         4., 4., 4., 4., 4., 4., 4., 4., 4., 4.]])\n"
          ]
        }
      ]
    },
    {
      "cell_type": "code",
      "source": [
        "# Let's create a new dataset\n",
        "dataset = TensorDataset(dataT, labels)\n",
        "print(dataset.tensors[0].size())\n",
        "print()\n",
        "print(dataset.tensors[1].size())"
      ],
      "metadata": {
        "colab": {
          "base_uri": "https://localhost:8080/"
        },
        "id": "WvFt3sIZeNEq",
        "outputId": "d4bef57e-fc76-4d61-b099-05bf88b50434"
      },
      "execution_count": 15,
      "outputs": [
        {
          "output_type": "stream",
          "name": "stdout",
          "text": [
            "torch.Size([100, 20])\n",
            "\n",
            "torch.Size([100, 1])\n"
          ]
        }
      ]
    },
    {
      "cell_type": "code",
      "source": [
        "# See only first data and its labels\n",
        "dataset[0]"
      ],
      "metadata": {
        "colab": {
          "base_uri": "https://localhost:8080/"
        },
        "id": "0uSqvUvWfBFx",
        "outputId": "22c9b33e-4d49-4e96-9984-7bf7008399ec"
      },
      "execution_count": 20,
      "outputs": [
        {
          "output_type": "execute_result",
          "data": {
            "text/plain": [
              "(tensor([ 0.9968,  0.3432,  0.3705, -0.2423,  0.1509, -1.0959, -1.8894, -0.8657,\n",
              "          0.0670, -1.7220,  0.7425,  0.3204,  0.7241,  0.2190,  2.1436,  1.3726,\n",
              "          1.1369, -0.1312, -1.8267,  1.1141], dtype=torch.float64),\n",
              " tensor([1.]))"
            ]
          },
          "metadata": {},
          "execution_count": 20
        }
      ]
    },
    {
      "cell_type": "code",
      "source": [
        "len(dataset.tensors)"
      ],
      "metadata": {
        "colab": {
          "base_uri": "https://localhost:8080/"
        },
        "id": "GPdYseDifluZ",
        "outputId": "effcfe71-b319-439c-99ac-c5b3b43ca604"
      },
      "execution_count": 21,
      "outputs": [
        {
          "output_type": "execute_result",
          "data": {
            "text/plain": [
              "2"
            ]
          },
          "metadata": {},
          "execution_count": 21
        }
      ]
    },
    {
      "cell_type": "code",
      "source": [
        "# Just for comparison with a non-matrix ordered set of numbers\n",
        "print(np.shape(np.random.randint(5,size=nObservations)))"
      ],
      "metadata": {
        "colab": {
          "base_uri": "https://localhost:8080/"
        },
        "id": "nQgvTwmPevqk",
        "outputId": "e3006f86-95b7-4359-c215-b8a4510abbf8"
      },
      "execution_count": 16,
      "outputs": [
        {
          "output_type": "stream",
          "name": "stdout",
          "text": [
            "(100,)\n"
          ]
        }
      ]
    },
    {
      "cell_type": "markdown",
      "source": [
        "# DataLoaders"
      ],
      "metadata": {
        "id": "kNgwKAgif1Gr"
      }
    },
    {
      "cell_type": "code",
      "source": [
        "# Create a DataLoader Object\n",
        "batchsize = 25\n",
        "dataloader = DataLoader(dataset, batch_size = batchsize) #shuffle=True,drop_last=True)\n",
        "dataloader"
      ],
      "metadata": {
        "colab": {
          "base_uri": "https://localhost:8080/"
        },
        "id": "5aHez3fHfzp-",
        "outputId": "024b8f9b-fd02-4e33-e3a2-ca47fd3f1eed"
      },
      "execution_count": 22,
      "outputs": [
        {
          "output_type": "execute_result",
          "data": {
            "text/plain": [
              "<torch.utils.data.dataloader.DataLoader at 0x7f4df7c51c10>"
            ]
          },
          "metadata": {},
          "execution_count": 22
        }
      ]
    },
    {
      "cell_type": "code",
      "source": [
        "dataloader.dataset.tensors[0].size()"
      ],
      "metadata": {
        "colab": {
          "base_uri": "https://localhost:8080/"
        },
        "id": "w2caoIerghU1",
        "outputId": "d020d600-5f89-4065-ea73-343ec64a3a7c"
      },
      "execution_count": 23,
      "outputs": [
        {
          "output_type": "execute_result",
          "data": {
            "text/plain": [
              "torch.Size([100, 20])"
            ]
          },
          "metadata": {},
          "execution_count": 23
        }
      ]
    },
    {
      "cell_type": "code",
      "source": [
        "dataloader.dataset.tensors[1].size()"
      ],
      "metadata": {
        "colab": {
          "base_uri": "https://localhost:8080/"
        },
        "id": "OGxcptzSgnoa",
        "outputId": "b2e9cd75-b03b-4806-c828-1e5c03ddf3d2"
      },
      "execution_count": 24,
      "outputs": [
        {
          "output_type": "execute_result",
          "data": {
            "text/plain": [
              "torch.Size([100, 1])"
            ]
          },
          "metadata": {},
          "execution_count": 24
        }
      ]
    },
    {
      "cell_type": "code",
      "source": [
        "# Use the dataloader object in a for loop to break up the data inro minibatches\n",
        "for dat, labs in dataloader:\n",
        "    print(\"Batch Info\")\n",
        "    print(dat.size())\n",
        "    print(labs.size())\n",
        "    print()"
      ],
      "metadata": {
        "colab": {
          "base_uri": "https://localhost:8080/"
        },
        "id": "WeemPQp2hBG6",
        "outputId": "efd0693f-2c0e-431a-98a2-34bb2d011939"
      },
      "execution_count": 25,
      "outputs": [
        {
          "output_type": "stream",
          "name": "stdout",
          "text": [
            "Batch Info\n",
            "torch.Size([25, 20])\n",
            "torch.Size([25, 1])\n",
            "\n",
            "Batch Info\n",
            "torch.Size([25, 20])\n",
            "torch.Size([25, 1])\n",
            "\n",
            "Batch Info\n",
            "torch.Size([25, 20])\n",
            "torch.Size([25, 1])\n",
            "\n",
            "Batch Info\n",
            "torch.Size([25, 20])\n",
            "torch.Size([25, 1])\n",
            "\n"
          ]
        }
      ]
    },
    {
      "cell_type": "code",
      "source": [
        "# We can also have a look at the labels\n",
        "for dat, labels in dataloader:\n",
        "    print(labels.T)\n",
        "    print()"
      ],
      "metadata": {
        "colab": {
          "base_uri": "https://localhost:8080/"
        },
        "id": "7wts90ZGhTc3",
        "outputId": "0e41fce4-85ea-430b-8217-39fa0c278bde"
      },
      "execution_count": 26,
      "outputs": [
        {
          "output_type": "stream",
          "name": "stdout",
          "text": [
            "tensor([[1., 1., 1., 1., 1., 1., 1., 1., 1., 1., 1., 1., 1., 1., 1., 1., 1., 1.,\n",
            "         1., 1., 1., 1., 1., 1., 1.]])\n",
            "\n",
            "tensor([[2., 2., 2., 2., 2., 2., 2., 2., 2., 2., 2., 2., 2., 2., 2., 2., 2., 2.,\n",
            "         2., 2., 2., 2., 2., 2., 2.]])\n",
            "\n",
            "tensor([[3., 3., 3., 3., 3., 3., 3., 3., 3., 3., 3., 3., 3., 3., 3., 3., 3., 3.,\n",
            "         3., 3., 3., 3., 3., 3., 3.]])\n",
            "\n",
            "tensor([[4., 4., 4., 4., 4., 4., 4., 4., 4., 4., 4., 4., 4., 4., 4., 4., 4., 4.,\n",
            "         4., 4., 4., 4., 4., 4., 4.]])\n",
            "\n"
          ]
        }
      ]
    },
    {
      "cell_type": "code",
      "source": [
        "# Now lets try with shuffling and see what happens\n",
        "dataloader = DataLoader(dataset, batch_size=batchsize, shuffle=True)"
      ],
      "metadata": {
        "id": "AHySK6SBh_Xl"
      },
      "execution_count": 27,
      "outputs": []
    },
    {
      "cell_type": "code",
      "source": [
        "for dat,labs in dataloader:\n",
        "    print(labs.T)\n",
        "    print()"
      ],
      "metadata": {
        "colab": {
          "base_uri": "https://localhost:8080/"
        },
        "id": "fcXPZKDziP85",
        "outputId": "74eb8cdf-06da-4527-bb6a-26797cea144a"
      },
      "execution_count": 28,
      "outputs": [
        {
          "output_type": "stream",
          "name": "stdout",
          "text": [
            "tensor([[2., 1., 3., 2., 2., 2., 3., 3., 1., 4., 2., 4., 4., 2., 4., 1., 4., 1.,\n",
            "         3., 4., 4., 1., 1., 4., 3.]])\n",
            "\n",
            "tensor([[1., 1., 2., 3., 1., 4., 2., 2., 2., 3., 3., 3., 3., 3., 2., 4., 2., 1.,\n",
            "         3., 2., 3., 4., 3., 4., 4.]])\n",
            "\n",
            "tensor([[1., 4., 3., 1., 2., 3., 1., 2., 2., 4., 4., 1., 1., 4., 1., 1., 1., 1.,\n",
            "         2., 2., 4., 3., 3., 3., 4.]])\n",
            "\n",
            "tensor([[2., 4., 4., 1., 1., 4., 3., 4., 4., 1., 2., 4., 2., 3., 3., 3., 3., 2.,\n",
            "         1., 3., 1., 1., 2., 2., 2.]])\n",
            "\n"
          ]
        }
      ]
    },
    {
      "cell_type": "code",
      "source": [
        "# To get only one batch for testing (as we have been doing for  along time)\n",
        "dat,labs = next(iter(dataloader))\n",
        "labs.T"
      ],
      "metadata": {
        "colab": {
          "base_uri": "https://localhost:8080/"
        },
        "id": "jk3eFiiLiX2M",
        "outputId": "f6cdc3bb-0597-4135-bdec-17f88f8f139a"
      },
      "execution_count": 30,
      "outputs": [
        {
          "output_type": "execute_result",
          "data": {
            "text/plain": [
              "tensor([[4., 1., 1., 2., 3., 4., 1., 1., 4., 2., 1., 3., 1., 2., 3., 2., 1., 4.,\n",
              "         3., 2., 1., 1., 3., 2., 2.]])"
            ]
          },
          "metadata": {},
          "execution_count": 30
        }
      ]
    },
    {
      "cell_type": "markdown",
      "source": [
        "# Data Size and Network Size"
      ],
      "metadata": {
        "id": "B8_jQCLUmLfO"
      }
    },
    {
      "cell_type": "markdown",
      "source": [
        "In this case we are going to train a model by parametrically varying the depth while keeping the number of units constant (80). \n",
        "\n",
        "We will also parametrically vary the amount of data from N=50 to N=550"
      ],
      "metadata": {
        "id": "TKPAOBqymQU8"
      }
    },
    {
      "cell_type": "code",
      "source": [
        "# define a function to create the dataset\n",
        "def createSomeData(nPerClust):\n",
        "    A = [1,1]\n",
        "    B = [5,1]\n",
        "    C = [4,4]\n",
        "\n",
        "    # Generate data\n",
        "    a = [A[0] + np.random.randn(nPerClust), A[1] + np.random.randn(nPerClust)]\n",
        "    b = [B[0] + np.random.randn(nPerClust), B[1] + np.random.randn(nPerClust)]\n",
        "    c = [C[0] + np.random.randn(nPerClust), C[1] + np.random.randn(nPerClust)]\n",
        "\n",
        "    # Define the true labels\n",
        "    labels_np = np.hstack((np.zeros((nPerClust)),\n",
        "                           np.ones((nPerClust)),\n",
        "                           np.ones((nPerClust))+1))\n",
        "    \n",
        "    # Concatenate everything intp a matrix\n",
        "    data_np = np.hstack((a,b,c)).T\n",
        "\n",
        "    # Put all the outputs into a dictionary\n",
        "    output = {}\n",
        "    output[\"data\"] = torch.tensor(data_np).float()\n",
        "    output[\"labels\"] = torch.tensor(labels_np).long()\n",
        "\n",
        "    # Split the data into training and test set\n",
        "    train_data, test_data, train_labels, test_labels = train_test_split(output[\"data\"], output[\"labels\"], test_size=0.1)\n",
        "\n",
        "    # Convert them into PyTorch datasets (they have already been converted into tensors)\n",
        "    train_data = TensorDataset(train_data, train_labels)\n",
        "    test_data = TensorDataset(test_data, test_labels)\n",
        "\n",
        "    # Translate them into DataLoader Objects\n",
        "    batchsize=8\n",
        "    output[\"train_data\"] = DataLoader(train_data, batch_size=batchsize, shuffle=True, drop_last=True)\n",
        "    output[\"test_data\"] = DataLoader(test_data, batch_size=test_data.tensors[0].shape[0])\n",
        "\n",
        "    return output"
      ],
      "metadata": {
        "id": "GQjWgaykjJGM"
      },
      "execution_count": 35,
      "outputs": []
    },
    {
      "cell_type": "code",
      "source": [
        "# Check whether the function works\n",
        "theData = createSomeData(50)\n",
        "\n",
        "data = theData[\"data\"]\n",
        "labels = theData[\"labels\"]\n",
        "\n",
        "# Plot everything\n",
        "fig = plt.figure(figsize=(5,5))\n",
        "plt.plot(data[np.where(labels==0)[0],0], data[np.where(labels==0)[0],1], \"bs\", alpha=0.5)\n",
        "plt.plot(data[np.where(labels==1)[0],0], data[np.where(labels==1)[0],1], \"ko\", alpha=0.5)\n",
        "plt.plot(data[np.where(labels==2)[0],0], data[np.where(labels==2)[0],1], \"r^\", alpha=0.5)\n",
        "plt.title(\"Some Random Data\")\n",
        "plt.xlabel(\"Dimension 1\")\n",
        "plt.ylabel(\"Dimesnion 2\")\n",
        "plt.show()"
      ],
      "metadata": {
        "colab": {
          "base_uri": "https://localhost:8080/",
          "height": 464
        },
        "id": "7ld5wd74qRAl",
        "outputId": "3133cf34-a8ca-45cd-c1ec-88567687352d"
      },
      "execution_count": 37,
      "outputs": [
        {
          "output_type": "display_data",
          "data": {
            "text/plain": [
              "<Figure size 360x360 with 1 Axes>"
            ],
            "image/svg+xml": "<?xml version=\"1.0\" encoding=\"utf-8\" standalone=\"no\"?>\n<!DOCTYPE svg PUBLIC \"-//W3C//DTD SVG 1.1//EN\"\n  \"http://www.w3.org/Graphics/SVG/1.1/DTD/svg11.dtd\">\n<!-- Created with matplotlib (https://matplotlib.org/) -->\n<svg height=\"331.674375pt\" version=\"1.1\" viewBox=\"0 0 328.820312 331.674375\" width=\"328.820312pt\" xmlns=\"http://www.w3.org/2000/svg\" xmlns:xlink=\"http://www.w3.org/1999/xlink\">\n <defs>\n  <style type=\"text/css\">\n*{stroke-linecap:butt;stroke-linejoin:round;}\n  </style>\n </defs>\n <g id=\"figure_1\">\n  <g id=\"patch_1\">\n   <path d=\"M 0 331.674375 \nL 328.820312 331.674375 \nL 328.820312 0 \nL 0 0 \nz\n\" style=\"fill:none;\"/>\n  </g>\n  <g id=\"axes_1\">\n   <g id=\"patch_2\">\n    <path d=\"M 42.620313 294.118125 \nL 321.620313 294.118125 \nL 321.620313 22.318125 \nL 42.620313 22.318125 \nz\n\" style=\"fill:#ffffff;\"/>\n   </g>\n   <g id=\"matplotlib.axis_1\">\n    <g id=\"xtick_1\">\n     <g id=\"line2d_1\">\n      <defs>\n       <path d=\"M 0 0 \nL 0 3.5 \n\" id=\"m7666846634\" style=\"stroke:#000000;stroke-width:0.8;\"/>\n      </defs>\n      <g>\n       <use style=\"stroke:#000000;stroke-width:0.8;\" x=\"90.082509\" xlink:href=\"#m7666846634\" y=\"294.118125\"/>\n      </g>\n     </g>\n     <g id=\"text_1\">\n      <!-- 0 -->\n      <defs>\n       <path d=\"M 31.78125 66.40625 \nQ 24.171875 66.40625 20.328125 58.90625 \nQ 16.5 51.421875 16.5 36.375 \nQ 16.5 21.390625 20.328125 13.890625 \nQ 24.171875 6.390625 31.78125 6.390625 \nQ 39.453125 6.390625 43.28125 13.890625 \nQ 47.125 21.390625 47.125 36.375 \nQ 47.125 51.421875 43.28125 58.90625 \nQ 39.453125 66.40625 31.78125 66.40625 \nz\nM 31.78125 74.21875 \nQ 44.046875 74.21875 50.515625 64.515625 \nQ 56.984375 54.828125 56.984375 36.375 \nQ 56.984375 17.96875 50.515625 8.265625 \nQ 44.046875 -1.421875 31.78125 -1.421875 \nQ 19.53125 -1.421875 13.0625 8.265625 \nQ 6.59375 17.96875 6.59375 36.375 \nQ 6.59375 54.828125 13.0625 64.515625 \nQ 19.53125 74.21875 31.78125 74.21875 \nz\n\" id=\"DejaVuSans-48\"/>\n      </defs>\n      <g transform=\"translate(86.901259 308.716563)scale(0.1 -0.1)\">\n       <use xlink:href=\"#DejaVuSans-48\"/>\n      </g>\n     </g>\n    </g>\n    <g id=\"xtick_2\">\n     <g id=\"line2d_2\">\n      <g>\n       <use style=\"stroke:#000000;stroke-width:0.8;\" x=\"150.524795\" xlink:href=\"#m7666846634\" y=\"294.118125\"/>\n      </g>\n     </g>\n     <g id=\"text_2\">\n      <!-- 2 -->\n      <defs>\n       <path d=\"M 19.1875 8.296875 \nL 53.609375 8.296875 \nL 53.609375 0 \nL 7.328125 0 \nL 7.328125 8.296875 \nQ 12.9375 14.109375 22.625 23.890625 \nQ 32.328125 33.6875 34.8125 36.53125 \nQ 39.546875 41.84375 41.421875 45.53125 \nQ 43.3125 49.21875 43.3125 52.78125 \nQ 43.3125 58.59375 39.234375 62.25 \nQ 35.15625 65.921875 28.609375 65.921875 \nQ 23.96875 65.921875 18.8125 64.3125 \nQ 13.671875 62.703125 7.8125 59.421875 \nL 7.8125 69.390625 \nQ 13.765625 71.78125 18.9375 73 \nQ 24.125 74.21875 28.421875 74.21875 \nQ 39.75 74.21875 46.484375 68.546875 \nQ 53.21875 62.890625 53.21875 53.421875 \nQ 53.21875 48.921875 51.53125 44.890625 \nQ 49.859375 40.875 45.40625 35.40625 \nQ 44.1875 33.984375 37.640625 27.21875 \nQ 31.109375 20.453125 19.1875 8.296875 \nz\n\" id=\"DejaVuSans-50\"/>\n      </defs>\n      <g transform=\"translate(147.343545 308.716563)scale(0.1 -0.1)\">\n       <use xlink:href=\"#DejaVuSans-50\"/>\n      </g>\n     </g>\n    </g>\n    <g id=\"xtick_3\">\n     <g id=\"line2d_3\">\n      <g>\n       <use style=\"stroke:#000000;stroke-width:0.8;\" x=\"210.96708\" xlink:href=\"#m7666846634\" y=\"294.118125\"/>\n      </g>\n     </g>\n     <g id=\"text_3\">\n      <!-- 4 -->\n      <defs>\n       <path d=\"M 37.796875 64.3125 \nL 12.890625 25.390625 \nL 37.796875 25.390625 \nz\nM 35.203125 72.90625 \nL 47.609375 72.90625 \nL 47.609375 25.390625 \nL 58.015625 25.390625 \nL 58.015625 17.1875 \nL 47.609375 17.1875 \nL 47.609375 0 \nL 37.796875 0 \nL 37.796875 17.1875 \nL 4.890625 17.1875 \nL 4.890625 26.703125 \nz\n\" id=\"DejaVuSans-52\"/>\n      </defs>\n      <g transform=\"translate(207.78583 308.716563)scale(0.1 -0.1)\">\n       <use xlink:href=\"#DejaVuSans-52\"/>\n      </g>\n     </g>\n    </g>\n    <g id=\"xtick_4\">\n     <g id=\"line2d_4\">\n      <g>\n       <use style=\"stroke:#000000;stroke-width:0.8;\" x=\"271.409366\" xlink:href=\"#m7666846634\" y=\"294.118125\"/>\n      </g>\n     </g>\n     <g id=\"text_4\">\n      <!-- 6 -->\n      <defs>\n       <path d=\"M 33.015625 40.375 \nQ 26.375 40.375 22.484375 35.828125 \nQ 18.609375 31.296875 18.609375 23.390625 \nQ 18.609375 15.53125 22.484375 10.953125 \nQ 26.375 6.390625 33.015625 6.390625 \nQ 39.65625 6.390625 43.53125 10.953125 \nQ 47.40625 15.53125 47.40625 23.390625 \nQ 47.40625 31.296875 43.53125 35.828125 \nQ 39.65625 40.375 33.015625 40.375 \nz\nM 52.59375 71.296875 \nL 52.59375 62.3125 \nQ 48.875 64.0625 45.09375 64.984375 \nQ 41.3125 65.921875 37.59375 65.921875 \nQ 27.828125 65.921875 22.671875 59.328125 \nQ 17.53125 52.734375 16.796875 39.40625 \nQ 19.671875 43.65625 24.015625 45.921875 \nQ 28.375 48.1875 33.59375 48.1875 \nQ 44.578125 48.1875 50.953125 41.515625 \nQ 57.328125 34.859375 57.328125 23.390625 \nQ 57.328125 12.15625 50.6875 5.359375 \nQ 44.046875 -1.421875 33.015625 -1.421875 \nQ 20.359375 -1.421875 13.671875 8.265625 \nQ 6.984375 17.96875 6.984375 36.375 \nQ 6.984375 53.65625 15.1875 63.9375 \nQ 23.390625 74.21875 37.203125 74.21875 \nQ 40.921875 74.21875 44.703125 73.484375 \nQ 48.484375 72.75 52.59375 71.296875 \nz\n\" id=\"DejaVuSans-54\"/>\n      </defs>\n      <g transform=\"translate(268.228116 308.716563)scale(0.1 -0.1)\">\n       <use xlink:href=\"#DejaVuSans-54\"/>\n      </g>\n     </g>\n    </g>\n    <g id=\"text_5\">\n     <!-- Dimension 1 -->\n     <defs>\n      <path d=\"M 19.671875 64.796875 \nL 19.671875 8.109375 \nL 31.59375 8.109375 \nQ 46.6875 8.109375 53.6875 14.9375 \nQ 60.6875 21.78125 60.6875 36.53125 \nQ 60.6875 51.171875 53.6875 57.984375 \nQ 46.6875 64.796875 31.59375 64.796875 \nz\nM 9.8125 72.90625 \nL 30.078125 72.90625 \nQ 51.265625 72.90625 61.171875 64.09375 \nQ 71.09375 55.28125 71.09375 36.53125 \nQ 71.09375 17.671875 61.125 8.828125 \nQ 51.171875 0 30.078125 0 \nL 9.8125 0 \nz\n\" id=\"DejaVuSans-68\"/>\n      <path d=\"M 9.421875 54.6875 \nL 18.40625 54.6875 \nL 18.40625 0 \nL 9.421875 0 \nz\nM 9.421875 75.984375 \nL 18.40625 75.984375 \nL 18.40625 64.59375 \nL 9.421875 64.59375 \nz\n\" id=\"DejaVuSans-105\"/>\n      <path d=\"M 52 44.1875 \nQ 55.375 50.25 60.0625 53.125 \nQ 64.75 56 71.09375 56 \nQ 79.640625 56 84.28125 50.015625 \nQ 88.921875 44.046875 88.921875 33.015625 \nL 88.921875 0 \nL 79.890625 0 \nL 79.890625 32.71875 \nQ 79.890625 40.578125 77.09375 44.375 \nQ 74.3125 48.1875 68.609375 48.1875 \nQ 61.625 48.1875 57.5625 43.546875 \nQ 53.515625 38.921875 53.515625 30.90625 \nL 53.515625 0 \nL 44.484375 0 \nL 44.484375 32.71875 \nQ 44.484375 40.625 41.703125 44.40625 \nQ 38.921875 48.1875 33.109375 48.1875 \nQ 26.21875 48.1875 22.15625 43.53125 \nQ 18.109375 38.875 18.109375 30.90625 \nL 18.109375 0 \nL 9.078125 0 \nL 9.078125 54.6875 \nL 18.109375 54.6875 \nL 18.109375 46.1875 \nQ 21.1875 51.21875 25.484375 53.609375 \nQ 29.78125 56 35.6875 56 \nQ 41.65625 56 45.828125 52.96875 \nQ 50 49.953125 52 44.1875 \nz\n\" id=\"DejaVuSans-109\"/>\n      <path d=\"M 56.203125 29.59375 \nL 56.203125 25.203125 \nL 14.890625 25.203125 \nQ 15.484375 15.921875 20.484375 11.0625 \nQ 25.484375 6.203125 34.421875 6.203125 \nQ 39.59375 6.203125 44.453125 7.46875 \nQ 49.3125 8.734375 54.109375 11.28125 \nL 54.109375 2.78125 \nQ 49.265625 0.734375 44.1875 -0.34375 \nQ 39.109375 -1.421875 33.890625 -1.421875 \nQ 20.796875 -1.421875 13.15625 6.1875 \nQ 5.515625 13.8125 5.515625 26.8125 \nQ 5.515625 40.234375 12.765625 48.109375 \nQ 20.015625 56 32.328125 56 \nQ 43.359375 56 49.78125 48.890625 \nQ 56.203125 41.796875 56.203125 29.59375 \nz\nM 47.21875 32.234375 \nQ 47.125 39.59375 43.09375 43.984375 \nQ 39.0625 48.390625 32.421875 48.390625 \nQ 24.90625 48.390625 20.390625 44.140625 \nQ 15.875 39.890625 15.1875 32.171875 \nz\n\" id=\"DejaVuSans-101\"/>\n      <path d=\"M 54.890625 33.015625 \nL 54.890625 0 \nL 45.90625 0 \nL 45.90625 32.71875 \nQ 45.90625 40.484375 42.875 44.328125 \nQ 39.84375 48.1875 33.796875 48.1875 \nQ 26.515625 48.1875 22.3125 43.546875 \nQ 18.109375 38.921875 18.109375 30.90625 \nL 18.109375 0 \nL 9.078125 0 \nL 9.078125 54.6875 \nL 18.109375 54.6875 \nL 18.109375 46.1875 \nQ 21.34375 51.125 25.703125 53.5625 \nQ 30.078125 56 35.796875 56 \nQ 45.21875 56 50.046875 50.171875 \nQ 54.890625 44.34375 54.890625 33.015625 \nz\n\" id=\"DejaVuSans-110\"/>\n      <path d=\"M 44.28125 53.078125 \nL 44.28125 44.578125 \nQ 40.484375 46.53125 36.375 47.5 \nQ 32.28125 48.484375 27.875 48.484375 \nQ 21.1875 48.484375 17.84375 46.4375 \nQ 14.5 44.390625 14.5 40.28125 \nQ 14.5 37.15625 16.890625 35.375 \nQ 19.28125 33.59375 26.515625 31.984375 \nL 29.59375 31.296875 \nQ 39.15625 29.25 43.1875 25.515625 \nQ 47.21875 21.78125 47.21875 15.09375 \nQ 47.21875 7.46875 41.1875 3.015625 \nQ 35.15625 -1.421875 24.609375 -1.421875 \nQ 20.21875 -1.421875 15.453125 -0.5625 \nQ 10.6875 0.296875 5.421875 2 \nL 5.421875 11.28125 \nQ 10.40625 8.6875 15.234375 7.390625 \nQ 20.0625 6.109375 24.8125 6.109375 \nQ 31.15625 6.109375 34.5625 8.28125 \nQ 37.984375 10.453125 37.984375 14.40625 \nQ 37.984375 18.0625 35.515625 20.015625 \nQ 33.0625 21.96875 24.703125 23.78125 \nL 21.578125 24.515625 \nQ 13.234375 26.265625 9.515625 29.90625 \nQ 5.8125 33.546875 5.8125 39.890625 \nQ 5.8125 47.609375 11.28125 51.796875 \nQ 16.75 56 26.8125 56 \nQ 31.78125 56 36.171875 55.265625 \nQ 40.578125 54.546875 44.28125 53.078125 \nz\n\" id=\"DejaVuSans-115\"/>\n      <path d=\"M 30.609375 48.390625 \nQ 23.390625 48.390625 19.1875 42.75 \nQ 14.984375 37.109375 14.984375 27.296875 \nQ 14.984375 17.484375 19.15625 11.84375 \nQ 23.34375 6.203125 30.609375 6.203125 \nQ 37.796875 6.203125 41.984375 11.859375 \nQ 46.1875 17.53125 46.1875 27.296875 \nQ 46.1875 37.015625 41.984375 42.703125 \nQ 37.796875 48.390625 30.609375 48.390625 \nz\nM 30.609375 56 \nQ 42.328125 56 49.015625 48.375 \nQ 55.71875 40.765625 55.71875 27.296875 \nQ 55.71875 13.875 49.015625 6.21875 \nQ 42.328125 -1.421875 30.609375 -1.421875 \nQ 18.84375 -1.421875 12.171875 6.21875 \nQ 5.515625 13.875 5.515625 27.296875 \nQ 5.515625 40.765625 12.171875 48.375 \nQ 18.84375 56 30.609375 56 \nz\n\" id=\"DejaVuSans-111\"/>\n      <path id=\"DejaVuSans-32\"/>\n      <path d=\"M 12.40625 8.296875 \nL 28.515625 8.296875 \nL 28.515625 63.921875 \nL 10.984375 60.40625 \nL 10.984375 69.390625 \nL 28.421875 72.90625 \nL 38.28125 72.90625 \nL 38.28125 8.296875 \nL 54.390625 8.296875 \nL 54.390625 0 \nL 12.40625 0 \nz\n\" id=\"DejaVuSans-49\"/>\n     </defs>\n     <g transform=\"translate(150.773438 322.394687)scale(0.1 -0.1)\">\n      <use xlink:href=\"#DejaVuSans-68\"/>\n      <use x=\"77.001953\" xlink:href=\"#DejaVuSans-105\"/>\n      <use x=\"104.785156\" xlink:href=\"#DejaVuSans-109\"/>\n      <use x=\"202.197266\" xlink:href=\"#DejaVuSans-101\"/>\n      <use x=\"263.720703\" xlink:href=\"#DejaVuSans-110\"/>\n      <use x=\"327.099609\" xlink:href=\"#DejaVuSans-115\"/>\n      <use x=\"379.199219\" xlink:href=\"#DejaVuSans-105\"/>\n      <use x=\"406.982422\" xlink:href=\"#DejaVuSans-111\"/>\n      <use x=\"468.164062\" xlink:href=\"#DejaVuSans-110\"/>\n      <use x=\"531.542969\" xlink:href=\"#DejaVuSans-32\"/>\n      <use x=\"563.330078\" xlink:href=\"#DejaVuSans-49\"/>\n     </g>\n    </g>\n   </g>\n   <g id=\"matplotlib.axis_2\">\n    <g id=\"ytick_1\">\n     <g id=\"line2d_5\">\n      <defs>\n       <path d=\"M 0 0 \nL -3.5 0 \n\" id=\"m33beed22e9\" style=\"stroke:#000000;stroke-width:0.8;\"/>\n      </defs>\n      <g>\n       <use style=\"stroke:#000000;stroke-width:0.8;\" x=\"42.620313\" xlink:href=\"#m33beed22e9\" y=\"275.329307\"/>\n      </g>\n     </g>\n     <g id=\"text_6\">\n      <!-- −2 -->\n      <defs>\n       <path d=\"M 10.59375 35.5 \nL 73.1875 35.5 \nL 73.1875 27.203125 \nL 10.59375 27.203125 \nz\n\" id=\"DejaVuSans-8722\"/>\n      </defs>\n      <g transform=\"translate(20.878125 279.128526)scale(0.1 -0.1)\">\n       <use xlink:href=\"#DejaVuSans-8722\"/>\n       <use x=\"83.789062\" xlink:href=\"#DejaVuSans-50\"/>\n      </g>\n     </g>\n    </g>\n    <g id=\"ytick_2\">\n     <g id=\"line2d_6\">\n      <g>\n       <use style=\"stroke:#000000;stroke-width:0.8;\" x=\"42.620313\" xlink:href=\"#m33beed22e9\" y=\"216.654385\"/>\n      </g>\n     </g>\n     <g id=\"text_7\">\n      <!-- 0 -->\n      <g transform=\"translate(29.257813 220.453603)scale(0.1 -0.1)\">\n       <use xlink:href=\"#DejaVuSans-48\"/>\n      </g>\n     </g>\n    </g>\n    <g id=\"ytick_3\">\n     <g id=\"line2d_7\">\n      <g>\n       <use style=\"stroke:#000000;stroke-width:0.8;\" x=\"42.620313\" xlink:href=\"#m33beed22e9\" y=\"157.979462\"/>\n      </g>\n     </g>\n     <g id=\"text_8\">\n      <!-- 2 -->\n      <g transform=\"translate(29.257813 161.778681)scale(0.1 -0.1)\">\n       <use xlink:href=\"#DejaVuSans-50\"/>\n      </g>\n     </g>\n    </g>\n    <g id=\"ytick_4\">\n     <g id=\"line2d_8\">\n      <g>\n       <use style=\"stroke:#000000;stroke-width:0.8;\" x=\"42.620313\" xlink:href=\"#m33beed22e9\" y=\"99.30454\"/>\n      </g>\n     </g>\n     <g id=\"text_9\">\n      <!-- 4 -->\n      <g transform=\"translate(29.257813 103.103759)scale(0.1 -0.1)\">\n       <use xlink:href=\"#DejaVuSans-52\"/>\n      </g>\n     </g>\n    </g>\n    <g id=\"ytick_5\">\n     <g id=\"line2d_9\">\n      <g>\n       <use style=\"stroke:#000000;stroke-width:0.8;\" x=\"42.620313\" xlink:href=\"#m33beed22e9\" y=\"40.629618\"/>\n      </g>\n     </g>\n     <g id=\"text_10\">\n      <!-- 6 -->\n      <g transform=\"translate(29.257813 44.428837)scale(0.1 -0.1)\">\n       <use xlink:href=\"#DejaVuSans-54\"/>\n      </g>\n     </g>\n    </g>\n    <g id=\"text_11\">\n     <!-- Dimesnion 2 -->\n     <g transform=\"translate(14.798438 189.565)rotate(-90)scale(0.1 -0.1)\">\n      <use xlink:href=\"#DejaVuSans-68\"/>\n      <use x=\"77.001953\" xlink:href=\"#DejaVuSans-105\"/>\n      <use x=\"104.785156\" xlink:href=\"#DejaVuSans-109\"/>\n      <use x=\"202.197266\" xlink:href=\"#DejaVuSans-101\"/>\n      <use x=\"263.720703\" xlink:href=\"#DejaVuSans-115\"/>\n      <use x=\"315.820312\" xlink:href=\"#DejaVuSans-110\"/>\n      <use x=\"379.199219\" xlink:href=\"#DejaVuSans-105\"/>\n      <use x=\"406.982422\" xlink:href=\"#DejaVuSans-111\"/>\n      <use x=\"468.164062\" xlink:href=\"#DejaVuSans-110\"/>\n      <use x=\"531.542969\" xlink:href=\"#DejaVuSans-32\"/>\n      <use x=\"563.330078\" xlink:href=\"#DejaVuSans-50\"/>\n     </g>\n    </g>\n   </g>\n   <g id=\"line2d_10\">\n    <defs>\n     <path d=\"M -3 3 \nL 3 3 \nL 3 -3 \nL -3 -3 \nz\n\" id=\"m1def958fe2\" style=\"stroke:#0000ff;stroke-linejoin:miter;stroke-opacity:0.5;\"/>\n    </defs>\n    <g clip-path=\"url(#p0cde342037)\">\n     <use style=\"fill:#0000ff;fill-opacity:0.5;stroke:#0000ff;stroke-linejoin:miter;stroke-opacity:0.5;\" x=\"85.347193\" xlink:href=\"#m1def958fe2\" y=\"149.577638\"/>\n     <use style=\"fill:#0000ff;fill-opacity:0.5;stroke:#0000ff;stroke-linejoin:miter;stroke-opacity:0.5;\" x=\"107.286049\" xlink:href=\"#m1def958fe2\" y=\"187.257921\"/>\n     <use style=\"fill:#0000ff;fill-opacity:0.5;stroke:#0000ff;stroke-linejoin:miter;stroke-opacity:0.5;\" x=\"102.323256\" xlink:href=\"#m1def958fe2\" y=\"199.702534\"/>\n     <use style=\"fill:#0000ff;fill-opacity:0.5;stroke:#0000ff;stroke-linejoin:miter;stroke-opacity:0.5;\" x=\"83.722822\" xlink:href=\"#m1def958fe2\" y=\"197.081626\"/>\n     <use style=\"fill:#0000ff;fill-opacity:0.5;stroke:#0000ff;stroke-linejoin:miter;stroke-opacity:0.5;\" x=\"130.035851\" xlink:href=\"#m1def958fe2\" y=\"183.501784\"/>\n     <use style=\"fill:#0000ff;fill-opacity:0.5;stroke:#0000ff;stroke-linejoin:miter;stroke-opacity:0.5;\" x=\"117.458827\" xlink:href=\"#m1def958fe2\" y=\"170.002938\"/>\n     <use style=\"fill:#0000ff;fill-opacity:0.5;stroke:#0000ff;stroke-linejoin:miter;stroke-opacity:0.5;\" x=\"120.341764\" xlink:href=\"#m1def958fe2\" y=\"197.737297\"/>\n     <use style=\"fill:#0000ff;fill-opacity:0.5;stroke:#0000ff;stroke-linejoin:miter;stroke-opacity:0.5;\" x=\"154.581729\" xlink:href=\"#m1def958fe2\" y=\"160.077173\"/>\n     <use style=\"fill:#0000ff;fill-opacity:0.5;stroke:#0000ff;stroke-linejoin:miter;stroke-opacity:0.5;\" x=\"120.372754\" xlink:href=\"#m1def958fe2\" y=\"192.513424\"/>\n     <use style=\"fill:#0000ff;fill-opacity:0.5;stroke:#0000ff;stroke-linejoin:miter;stroke-opacity:0.5;\" x=\"157.481638\" xlink:href=\"#m1def958fe2\" y=\"281.76358\"/>\n     <use style=\"fill:#0000ff;fill-opacity:0.5;stroke:#0000ff;stroke-linejoin:miter;stroke-opacity:0.5;\" x=\"125.476954\" xlink:href=\"#m1def958fe2\" y=\"150.509024\"/>\n     <use style=\"fill:#0000ff;fill-opacity:0.5;stroke:#0000ff;stroke-linejoin:miter;stroke-opacity:0.5;\" x=\"82.120414\" xlink:href=\"#m1def958fe2\" y=\"242.804641\"/>\n     <use style=\"fill:#0000ff;fill-opacity:0.5;stroke:#0000ff;stroke-linejoin:miter;stroke-opacity:0.5;\" x=\"158.443241\" xlink:href=\"#m1def958fe2\" y=\"157.619716\"/>\n     <use style=\"fill:#0000ff;fill-opacity:0.5;stroke:#0000ff;stroke-linejoin:miter;stroke-opacity:0.5;\" x=\"111.966977\" xlink:href=\"#m1def958fe2\" y=\"187.574239\"/>\n     <use style=\"fill:#0000ff;fill-opacity:0.5;stroke:#0000ff;stroke-linejoin:miter;stroke-opacity:0.5;\" x=\"148.098142\" xlink:href=\"#m1def958fe2\" y=\"150.706328\"/>\n     <use style=\"fill:#0000ff;fill-opacity:0.5;stroke:#0000ff;stroke-linejoin:miter;stroke-opacity:0.5;\" x=\"93.424798\" xlink:href=\"#m1def958fe2\" y=\"196.696287\"/>\n     <use style=\"fill:#0000ff;fill-opacity:0.5;stroke:#0000ff;stroke-linejoin:miter;stroke-opacity:0.5;\" x=\"161.914739\" xlink:href=\"#m1def958fe2\" y=\"192.912434\"/>\n     <use style=\"fill:#0000ff;fill-opacity:0.5;stroke:#0000ff;stroke-linejoin:miter;stroke-opacity:0.5;\" x=\"99.863914\" xlink:href=\"#m1def958fe2\" y=\"204.561021\"/>\n     <use style=\"fill:#0000ff;fill-opacity:0.5;stroke:#0000ff;stroke-linejoin:miter;stroke-opacity:0.5;\" x=\"123.135843\" xlink:href=\"#m1def958fe2\" y=\"165.407408\"/>\n     <use style=\"fill:#0000ff;fill-opacity:0.5;stroke:#0000ff;stroke-linejoin:miter;stroke-opacity:0.5;\" x=\"136.715173\" xlink:href=\"#m1def958fe2\" y=\"206.070946\"/>\n     <use style=\"fill:#0000ff;fill-opacity:0.5;stroke:#0000ff;stroke-linejoin:miter;stroke-opacity:0.5;\" x=\"153.651087\" xlink:href=\"#m1def958fe2\" y=\"229.877999\"/>\n     <use style=\"fill:#0000ff;fill-opacity:0.5;stroke:#0000ff;stroke-linejoin:miter;stroke-opacity:0.5;\" x=\"118.206218\" xlink:href=\"#m1def958fe2\" y=\"220.12914\"/>\n     <use style=\"fill:#0000ff;fill-opacity:0.5;stroke:#0000ff;stroke-linejoin:miter;stroke-opacity:0.5;\" x=\"57.646459\" xlink:href=\"#m1def958fe2\" y=\"205.915041\"/>\n     <use style=\"fill:#0000ff;fill-opacity:0.5;stroke:#0000ff;stroke-linejoin:miter;stroke-opacity:0.5;\" x=\"88.401001\" xlink:href=\"#m1def958fe2\" y=\"218.583339\"/>\n     <use style=\"fill:#0000ff;fill-opacity:0.5;stroke:#0000ff;stroke-linejoin:miter;stroke-opacity:0.5;\" x=\"68.356805\" xlink:href=\"#m1def958fe2\" y=\"221.720398\"/>\n     <use style=\"fill:#0000ff;fill-opacity:0.5;stroke:#0000ff;stroke-linejoin:miter;stroke-opacity:0.5;\" x=\"119.217317\" xlink:href=\"#m1def958fe2\" y=\"177.544386\"/>\n     <use style=\"fill:#0000ff;fill-opacity:0.5;stroke:#0000ff;stroke-linejoin:miter;stroke-opacity:0.5;\" x=\"96.681255\" xlink:href=\"#m1def958fe2\" y=\"199.505778\"/>\n     <use style=\"fill:#0000ff;fill-opacity:0.5;stroke:#0000ff;stroke-linejoin:miter;stroke-opacity:0.5;\" x=\"111.567159\" xlink:href=\"#m1def958fe2\" y=\"241.452141\"/>\n     <use style=\"fill:#0000ff;fill-opacity:0.5;stroke:#0000ff;stroke-linejoin:miter;stroke-opacity:0.5;\" x=\"155.065988\" xlink:href=\"#m1def958fe2\" y=\"198.657587\"/>\n     <use style=\"fill:#0000ff;fill-opacity:0.5;stroke:#0000ff;stroke-linejoin:miter;stroke-opacity:0.5;\" x=\"111.660126\" xlink:href=\"#m1def958fe2\" y=\"168.125631\"/>\n     <use style=\"fill:#0000ff;fill-opacity:0.5;stroke:#0000ff;stroke-linejoin:miter;stroke-opacity:0.5;\" x=\"71.679688\" xlink:href=\"#m1def958fe2\" y=\"169.034557\"/>\n     <use style=\"fill:#0000ff;fill-opacity:0.5;stroke:#0000ff;stroke-linejoin:miter;stroke-opacity:0.5;\" x=\"76.832069\" xlink:href=\"#m1def958fe2\" y=\"217.810049\"/>\n     <use style=\"fill:#0000ff;fill-opacity:0.5;stroke:#0000ff;stroke-linejoin:miter;stroke-opacity:0.5;\" x=\"152.525939\" xlink:href=\"#m1def958fe2\" y=\"157.846425\"/>\n     <use style=\"fill:#0000ff;fill-opacity:0.5;stroke:#0000ff;stroke-linejoin:miter;stroke-opacity:0.5;\" x=\"157.512888\" xlink:href=\"#m1def958fe2\" y=\"212.050824\"/>\n     <use style=\"fill:#0000ff;fill-opacity:0.5;stroke:#0000ff;stroke-linejoin:miter;stroke-opacity:0.5;\" x=\"115.716589\" xlink:href=\"#m1def958fe2\" y=\"201.808308\"/>\n     <use style=\"fill:#0000ff;fill-opacity:0.5;stroke:#0000ff;stroke-linejoin:miter;stroke-opacity:0.5;\" x=\"108.313978\" xlink:href=\"#m1def958fe2\" y=\"177.663479\"/>\n     <use style=\"fill:#0000ff;fill-opacity:0.5;stroke:#0000ff;stroke-linejoin:miter;stroke-opacity:0.5;\" x=\"55.302131\" xlink:href=\"#m1def958fe2\" y=\"158.270784\"/>\n     <use style=\"fill:#0000ff;fill-opacity:0.5;stroke:#0000ff;stroke-linejoin:miter;stroke-opacity:0.5;\" x=\"107.190068\" xlink:href=\"#m1def958fe2\" y=\"188.245888\"/>\n     <use style=\"fill:#0000ff;fill-opacity:0.5;stroke:#0000ff;stroke-linejoin:miter;stroke-opacity:0.5;\" x=\"138.905499\" xlink:href=\"#m1def958fe2\" y=\"216.899949\"/>\n     <use style=\"fill:#0000ff;fill-opacity:0.5;stroke:#0000ff;stroke-linejoin:miter;stroke-opacity:0.5;\" x=\"140.116733\" xlink:href=\"#m1def958fe2\" y=\"218.852456\"/>\n     <use style=\"fill:#0000ff;fill-opacity:0.5;stroke:#0000ff;stroke-linejoin:miter;stroke-opacity:0.5;\" x=\"139.985582\" xlink:href=\"#m1def958fe2\" y=\"188.255018\"/>\n     <use style=\"fill:#0000ff;fill-opacity:0.5;stroke:#0000ff;stroke-linejoin:miter;stroke-opacity:0.5;\" x=\"110.402534\" xlink:href=\"#m1def958fe2\" y=\"192.893363\"/>\n     <use style=\"fill:#0000ff;fill-opacity:0.5;stroke:#0000ff;stroke-linejoin:miter;stroke-opacity:0.5;\" x=\"173.762167\" xlink:href=\"#m1def958fe2\" y=\"228.637386\"/>\n     <use style=\"fill:#0000ff;fill-opacity:0.5;stroke:#0000ff;stroke-linejoin:miter;stroke-opacity:0.5;\" x=\"136.967394\" xlink:href=\"#m1def958fe2\" y=\"148.74554\"/>\n     <use style=\"fill:#0000ff;fill-opacity:0.5;stroke:#0000ff;stroke-linejoin:miter;stroke-opacity:0.5;\" x=\"74.788994\" xlink:href=\"#m1def958fe2\" y=\"201.660505\"/>\n     <use style=\"fill:#0000ff;fill-opacity:0.5;stroke:#0000ff;stroke-linejoin:miter;stroke-opacity:0.5;\" x=\"151.336009\" xlink:href=\"#m1def958fe2\" y=\"188.371834\"/>\n     <use style=\"fill:#0000ff;fill-opacity:0.5;stroke:#0000ff;stroke-linejoin:miter;stroke-opacity:0.5;\" x=\"202.605949\" xlink:href=\"#m1def958fe2\" y=\"174.883753\"/>\n     <use style=\"fill:#0000ff;fill-opacity:0.5;stroke:#0000ff;stroke-linejoin:miter;stroke-opacity:0.5;\" x=\"131.88143\" xlink:href=\"#m1def958fe2\" y=\"157.292628\"/>\n     <use style=\"fill:#0000ff;fill-opacity:0.5;stroke:#0000ff;stroke-linejoin:miter;stroke-opacity:0.5;\" x=\"77.824651\" xlink:href=\"#m1def958fe2\" y=\"227.178281\"/>\n     <use style=\"fill:#0000ff;fill-opacity:0.5;stroke:#0000ff;stroke-linejoin:miter;stroke-opacity:0.5;\" x=\"132.52078\" xlink:href=\"#m1def958fe2\" y=\"193.671767\"/>\n    </g>\n   </g>\n   <g id=\"line2d_11\">\n    <defs>\n     <path d=\"M 0 3 \nC 0.795609 3 1.55874 2.683901 2.12132 2.12132 \nC 2.683901 1.55874 3 0.795609 3 0 \nC 3 -0.795609 2.683901 -1.55874 2.12132 -2.12132 \nC 1.55874 -2.683901 0.795609 -3 0 -3 \nC -0.795609 -3 -1.55874 -2.683901 -2.12132 -2.12132 \nC -2.683901 -1.55874 -3 -0.795609 -3 0 \nC -3 0.795609 -2.683901 1.55874 -2.12132 2.12132 \nC -1.55874 2.683901 -0.795609 3 0 3 \nz\n\" id=\"ma12c3dde55\" style=\"stroke:#000000;stroke-opacity:0.5;\"/>\n    </defs>\n    <g clip-path=\"url(#p0cde342037)\">\n     <use style=\"fill-opacity:0.5;stroke:#000000;stroke-opacity:0.5;\" x=\"226.532824\" xlink:href=\"#ma12c3dde55\" y=\"189.441581\"/>\n     <use style=\"fill-opacity:0.5;stroke:#000000;stroke-opacity:0.5;\" x=\"220.471481\" xlink:href=\"#ma12c3dde55\" y=\"195.961934\"/>\n     <use style=\"fill-opacity:0.5;stroke:#000000;stroke-opacity:0.5;\" x=\"206.656772\" xlink:href=\"#ma12c3dde55\" y=\"174.637015\"/>\n     <use style=\"fill-opacity:0.5;stroke:#000000;stroke-opacity:0.5;\" x=\"220.950618\" xlink:href=\"#ma12c3dde55\" y=\"205.098458\"/>\n     <use style=\"fill-opacity:0.5;stroke:#000000;stroke-opacity:0.5;\" x=\"219.597941\" xlink:href=\"#ma12c3dde55\" y=\"214.954506\"/>\n     <use style=\"fill-opacity:0.5;stroke:#000000;stroke-opacity:0.5;\" x=\"293.396125\" xlink:href=\"#ma12c3dde55\" y=\"177.662175\"/>\n     <use style=\"fill-opacity:0.5;stroke:#000000;stroke-opacity:0.5;\" x=\"281.961688\" xlink:href=\"#ma12c3dde55\" y=\"208.139722\"/>\n     <use style=\"fill-opacity:0.5;stroke:#000000;stroke-opacity:0.5;\" x=\"191.545596\" xlink:href=\"#ma12c3dde55\" y=\"234.10804\"/>\n     <use style=\"fill-opacity:0.5;stroke:#000000;stroke-opacity:0.5;\" x=\"224.888463\" xlink:href=\"#ma12c3dde55\" y=\"194.021065\"/>\n     <use style=\"fill-opacity:0.5;stroke:#000000;stroke-opacity:0.5;\" x=\"265.146246\" xlink:href=\"#ma12c3dde55\" y=\"134.53641\"/>\n     <use style=\"fill-opacity:0.5;stroke:#000000;stroke-opacity:0.5;\" x=\"216.492249\" xlink:href=\"#ma12c3dde55\" y=\"177.899071\"/>\n     <use style=\"fill-opacity:0.5;stroke:#000000;stroke-opacity:0.5;\" x=\"217.793249\" xlink:href=\"#ma12c3dde55\" y=\"112.465026\"/>\n     <use style=\"fill-opacity:0.5;stroke:#000000;stroke-opacity:0.5;\" x=\"293.240303\" xlink:href=\"#ma12c3dde55\" y=\"167.031952\"/>\n     <use style=\"fill-opacity:0.5;stroke:#000000;stroke-opacity:0.5;\" x=\"229.076375\" xlink:href=\"#ma12c3dde55\" y=\"208.150116\"/>\n     <use style=\"fill-opacity:0.5;stroke:#000000;stroke-opacity:0.5;\" x=\"256.88114\" xlink:href=\"#ma12c3dde55\" y=\"182.712066\"/>\n     <use style=\"fill-opacity:0.5;stroke:#000000;stroke-opacity:0.5;\" x=\"206.417615\" xlink:href=\"#ma12c3dde55\" y=\"207.496312\"/>\n     <use style=\"fill-opacity:0.5;stroke:#000000;stroke-opacity:0.5;\" x=\"253.06907\" xlink:href=\"#ma12c3dde55\" y=\"240.547392\"/>\n     <use style=\"fill-opacity:0.5;stroke:#000000;stroke-opacity:0.5;\" x=\"219.466272\" xlink:href=\"#ma12c3dde55\" y=\"195.801503\"/>\n     <use style=\"fill-opacity:0.5;stroke:#000000;stroke-opacity:0.5;\" x=\"236.526823\" xlink:href=\"#ma12c3dde55\" y=\"96.908485\"/>\n     <use style=\"fill-opacity:0.5;stroke:#000000;stroke-opacity:0.5;\" x=\"242.917375\" xlink:href=\"#ma12c3dde55\" y=\"154.120348\"/>\n     <use style=\"fill-opacity:0.5;stroke:#000000;stroke-opacity:0.5;\" x=\"239.15655\" xlink:href=\"#ma12c3dde55\" y=\"155.258488\"/>\n     <use style=\"fill-opacity:0.5;stroke:#000000;stroke-opacity:0.5;\" x=\"300.787231\" xlink:href=\"#ma12c3dde55\" y=\"217.411905\"/>\n     <use style=\"fill-opacity:0.5;stroke:#000000;stroke-opacity:0.5;\" x=\"190.650923\" xlink:href=\"#ma12c3dde55\" y=\"205.860393\"/>\n     <use style=\"fill-opacity:0.5;stroke:#000000;stroke-opacity:0.5;\" x=\"229.966112\" xlink:href=\"#ma12c3dde55\" y=\"134.516238\"/>\n     <use style=\"fill-opacity:0.5;stroke:#000000;stroke-opacity:0.5;\" x=\"252.358658\" xlink:href=\"#ma12c3dde55\" y=\"225.914992\"/>\n     <use style=\"fill-opacity:0.5;stroke:#000000;stroke-opacity:0.5;\" x=\"215.461216\" xlink:href=\"#ma12c3dde55\" y=\"165.040262\"/>\n     <use style=\"fill-opacity:0.5;stroke:#000000;stroke-opacity:0.5;\" x=\"282.936001\" xlink:href=\"#ma12c3dde55\" y=\"249.29106\"/>\n     <use style=\"fill-opacity:0.5;stroke:#000000;stroke-opacity:0.5;\" x=\"290.610419\" xlink:href=\"#ma12c3dde55\" y=\"257.96942\"/>\n     <use style=\"fill-opacity:0.5;stroke:#000000;stroke-opacity:0.5;\" x=\"308.938494\" xlink:href=\"#ma12c3dde55\" y=\"211.690661\"/>\n     <use style=\"fill-opacity:0.5;stroke:#000000;stroke-opacity:0.5;\" x=\"161.700389\" xlink:href=\"#ma12c3dde55\" y=\"197.865732\"/>\n     <use style=\"fill-opacity:0.5;stroke:#000000;stroke-opacity:0.5;\" x=\"246.961585\" xlink:href=\"#ma12c3dde55\" y=\"195.494863\"/>\n     <use style=\"fill-opacity:0.5;stroke:#000000;stroke-opacity:0.5;\" x=\"189.0587\" xlink:href=\"#ma12c3dde55\" y=\"209.475636\"/>\n     <use style=\"fill-opacity:0.5;stroke:#000000;stroke-opacity:0.5;\" x=\"208.648773\" xlink:href=\"#ma12c3dde55\" y=\"153.217227\"/>\n     <use style=\"fill-opacity:0.5;stroke:#000000;stroke-opacity:0.5;\" x=\"278.105465\" xlink:href=\"#ma12c3dde55\" y=\"171.198192\"/>\n     <use style=\"fill-opacity:0.5;stroke:#000000;stroke-opacity:0.5;\" x=\"216.45945\" xlink:href=\"#ma12c3dde55\" y=\"207.681249\"/>\n     <use style=\"fill-opacity:0.5;stroke:#000000;stroke-opacity:0.5;\" x=\"218.687093\" xlink:href=\"#ma12c3dde55\" y=\"156.026963\"/>\n     <use style=\"fill-opacity:0.5;stroke:#000000;stroke-opacity:0.5;\" x=\"219.391741\" xlink:href=\"#ma12c3dde55\" y=\"136.758181\"/>\n     <use style=\"fill-opacity:0.5;stroke:#000000;stroke-opacity:0.5;\" x=\"264.302234\" xlink:href=\"#ma12c3dde55\" y=\"200.376734\"/>\n     <use style=\"fill-opacity:0.5;stroke:#000000;stroke-opacity:0.5;\" x=\"243.486016\" xlink:href=\"#ma12c3dde55\" y=\"190.650471\"/>\n     <use style=\"fill-opacity:0.5;stroke:#000000;stroke-opacity:0.5;\" x=\"191.154839\" xlink:href=\"#ma12c3dde55\" y=\"201.11625\"/>\n     <use style=\"fill-opacity:0.5;stroke:#000000;stroke-opacity:0.5;\" x=\"201.928767\" xlink:href=\"#ma12c3dde55\" y=\"200.228473\"/>\n     <use style=\"fill-opacity:0.5;stroke:#000000;stroke-opacity:0.5;\" x=\"199.710693\" xlink:href=\"#ma12c3dde55\" y=\"222.191715\"/>\n     <use style=\"fill-opacity:0.5;stroke:#000000;stroke-opacity:0.5;\" x=\"233.706662\" xlink:href=\"#ma12c3dde55\" y=\"162.118987\"/>\n     <use style=\"fill-opacity:0.5;stroke:#000000;stroke-opacity:0.5;\" x=\"226.313163\" xlink:href=\"#ma12c3dde55\" y=\"222.764775\"/>\n     <use style=\"fill-opacity:0.5;stroke:#000000;stroke-opacity:0.5;\" x=\"248.916306\" xlink:href=\"#ma12c3dde55\" y=\"195.155811\"/>\n     <use style=\"fill-opacity:0.5;stroke:#000000;stroke-opacity:0.5;\" x=\"243.196753\" xlink:href=\"#ma12c3dde55\" y=\"145.853694\"/>\n     <use style=\"fill-opacity:0.5;stroke:#000000;stroke-opacity:0.5;\" x=\"214.233105\" xlink:href=\"#ma12c3dde55\" y=\"201.012592\"/>\n     <use style=\"fill-opacity:0.5;stroke:#000000;stroke-opacity:0.5;\" x=\"250.275827\" xlink:href=\"#ma12c3dde55\" y=\"202.523445\"/>\n     <use style=\"fill-opacity:0.5;stroke:#000000;stroke-opacity:0.5;\" x=\"280.139069\" xlink:href=\"#ma12c3dde55\" y=\"159.829362\"/>\n     <use style=\"fill-opacity:0.5;stroke:#000000;stroke-opacity:0.5;\" x=\"209.620471\" xlink:href=\"#ma12c3dde55\" y=\"229.35568\"/>\n    </g>\n   </g>\n   <g id=\"line2d_12\">\n    <defs>\n     <path d=\"M 0 -3 \nL -3 3 \nL 3 3 \nz\n\" id=\"m83595b4590\" style=\"stroke:#ff0000;stroke-linejoin:miter;stroke-opacity:0.5;\"/>\n    </defs>\n    <g clip-path=\"url(#p0cde342037)\">\n     <use style=\"fill:#ff0000;fill-opacity:0.5;stroke:#ff0000;stroke-linejoin:miter;stroke-opacity:0.5;\" x=\"219.519289\" xlink:href=\"#m83595b4590\" y=\"88.756578\"/>\n     <use style=\"fill:#ff0000;fill-opacity:0.5;stroke:#ff0000;stroke-linejoin:miter;stroke-opacity:0.5;\" x=\"201.970817\" xlink:href=\"#m83595b4590\" y=\"108.30434\"/>\n     <use style=\"fill:#ff0000;fill-opacity:0.5;stroke:#ff0000;stroke-linejoin:miter;stroke-opacity:0.5;\" x=\"209.611932\" xlink:href=\"#m83595b4590\" y=\"133.337397\"/>\n     <use style=\"fill:#ff0000;fill-opacity:0.5;stroke:#ff0000;stroke-linejoin:miter;stroke-opacity:0.5;\" x=\"146.072698\" xlink:href=\"#m83595b4590\" y=\"126.573706\"/>\n     <use style=\"fill:#ff0000;fill-opacity:0.5;stroke:#ff0000;stroke-linejoin:miter;stroke-opacity:0.5;\" x=\"284.483955\" xlink:href=\"#m83595b4590\" y=\"94.735824\"/>\n     <use style=\"fill:#ff0000;fill-opacity:0.5;stroke:#ff0000;stroke-linejoin:miter;stroke-opacity:0.5;\" x=\"145.437833\" xlink:href=\"#m83595b4590\" y=\"139.963139\"/>\n     <use style=\"fill:#ff0000;fill-opacity:0.5;stroke:#ff0000;stroke-linejoin:miter;stroke-opacity:0.5;\" x=\"217.226193\" xlink:href=\"#m83595b4590\" y=\"98.263534\"/>\n     <use style=\"fill:#ff0000;fill-opacity:0.5;stroke:#ff0000;stroke-linejoin:miter;stroke-opacity:0.5;\" x=\"196.976224\" xlink:href=\"#m83595b4590\" y=\"55.599941\"/>\n     <use style=\"fill:#ff0000;fill-opacity:0.5;stroke:#ff0000;stroke-linejoin:miter;stroke-opacity:0.5;\" x=\"207.726382\" xlink:href=\"#m83595b4590\" y=\"73.861236\"/>\n     <use style=\"fill:#ff0000;fill-opacity:0.5;stroke:#ff0000;stroke-linejoin:miter;stroke-opacity:0.5;\" x=\"241.416501\" xlink:href=\"#m83595b4590\" y=\"87.913072\"/>\n     <use style=\"fill:#ff0000;fill-opacity:0.5;stroke:#ff0000;stroke-linejoin:miter;stroke-opacity:0.5;\" x=\"221.818091\" xlink:href=\"#m83595b4590\" y=\"80.103619\"/>\n     <use style=\"fill:#ff0000;fill-opacity:0.5;stroke:#ff0000;stroke-linejoin:miter;stroke-opacity:0.5;\" x=\"228.945872\" xlink:href=\"#m83595b4590\" y=\"121.321003\"/>\n     <use style=\"fill:#ff0000;fill-opacity:0.5;stroke:#ff0000;stroke-linejoin:miter;stroke-opacity:0.5;\" x=\"232.432047\" xlink:href=\"#m83595b4590\" y=\"34.67267\"/>\n     <use style=\"fill:#ff0000;fill-opacity:0.5;stroke:#ff0000;stroke-linejoin:miter;stroke-opacity:0.5;\" x=\"224.090954\" xlink:href=\"#m83595b4590\" y=\"70.823008\"/>\n     <use style=\"fill:#ff0000;fill-opacity:0.5;stroke:#ff0000;stroke-linejoin:miter;stroke-opacity:0.5;\" x=\"176.705633\" xlink:href=\"#m83595b4590\" y=\"139.241773\"/>\n     <use style=\"fill:#ff0000;fill-opacity:0.5;stroke:#ff0000;stroke-linejoin:miter;stroke-opacity:0.5;\" x=\"245.59225\" xlink:href=\"#m83595b4590\" y=\"101.796358\"/>\n     <use style=\"fill:#ff0000;fill-opacity:0.5;stroke:#ff0000;stroke-linejoin:miter;stroke-opacity:0.5;\" x=\"233.884315\" xlink:href=\"#m83595b4590\" y=\"77.769509\"/>\n     <use style=\"fill:#ff0000;fill-opacity:0.5;stroke:#ff0000;stroke-linejoin:miter;stroke-opacity:0.5;\" x=\"262.98678\" xlink:href=\"#m83595b4590\" y=\"50.774062\"/>\n     <use style=\"fill:#ff0000;fill-opacity:0.5;stroke:#ff0000;stroke-linejoin:miter;stroke-opacity:0.5;\" x=\"224.098375\" xlink:href=\"#m83595b4590\" y=\"64.229118\"/>\n     <use style=\"fill:#ff0000;fill-opacity:0.5;stroke:#ff0000;stroke-linejoin:miter;stroke-opacity:0.5;\" x=\"258.881873\" xlink:href=\"#m83595b4590\" y=\"92.419913\"/>\n     <use style=\"fill:#ff0000;fill-opacity:0.5;stroke:#ff0000;stroke-linejoin:miter;stroke-opacity:0.5;\" x=\"300.564862\" xlink:href=\"#m83595b4590\" y=\"85.544478\"/>\n     <use style=\"fill:#ff0000;fill-opacity:0.5;stroke:#ff0000;stroke-linejoin:miter;stroke-opacity:0.5;\" x=\"211.158669\" xlink:href=\"#m83595b4590\" y=\"82.084307\"/>\n     <use style=\"fill:#ff0000;fill-opacity:0.5;stroke:#ff0000;stroke-linejoin:miter;stroke-opacity:0.5;\" x=\"217.331823\" xlink:href=\"#m83595b4590\" y=\"129.710335\"/>\n     <use style=\"fill:#ff0000;fill-opacity:0.5;stroke:#ff0000;stroke-linejoin:miter;stroke-opacity:0.5;\" x=\"201.436964\" xlink:href=\"#m83595b4590\" y=\"93.177246\"/>\n     <use style=\"fill:#ff0000;fill-opacity:0.5;stroke:#ff0000;stroke-linejoin:miter;stroke-opacity:0.5;\" x=\"193.970137\" xlink:href=\"#m83595b4590\" y=\"127.442575\"/>\n     <use style=\"fill:#ff0000;fill-opacity:0.5;stroke:#ff0000;stroke-linejoin:miter;stroke-opacity:0.5;\" x=\"232.301934\" xlink:href=\"#m83595b4590\" y=\"90.398545\"/>\n     <use style=\"fill:#ff0000;fill-opacity:0.5;stroke:#ff0000;stroke-linejoin:miter;stroke-opacity:0.5;\" x=\"192.277681\" xlink:href=\"#m83595b4590\" y=\"171.335318\"/>\n     <use style=\"fill:#ff0000;fill-opacity:0.5;stroke:#ff0000;stroke-linejoin:miter;stroke-opacity:0.5;\" x=\"181.88724\" xlink:href=\"#m83595b4590\" y=\"47.867248\"/>\n     <use style=\"fill:#ff0000;fill-opacity:0.5;stroke:#ff0000;stroke-linejoin:miter;stroke-opacity:0.5;\" x=\"260.080818\" xlink:href=\"#m83595b4590\" y=\"123.304964\"/>\n     <use style=\"fill:#ff0000;fill-opacity:0.5;stroke:#ff0000;stroke-linejoin:miter;stroke-opacity:0.5;\" x=\"203.491694\" xlink:href=\"#m83595b4590\" y=\"94.189308\"/>\n     <use style=\"fill:#ff0000;fill-opacity:0.5;stroke:#ff0000;stroke-linejoin:miter;stroke-opacity:0.5;\" x=\"205.214859\" xlink:href=\"#m83595b4590\" y=\"99.195075\"/>\n     <use style=\"fill:#ff0000;fill-opacity:0.5;stroke:#ff0000;stroke-linejoin:miter;stroke-opacity:0.5;\" x=\"201.946305\" xlink:href=\"#m83595b4590\" y=\"126.632062\"/>\n     <use style=\"fill:#ff0000;fill-opacity:0.5;stroke:#ff0000;stroke-linejoin:miter;stroke-opacity:0.5;\" x=\"186.292671\" xlink:href=\"#m83595b4590\" y=\"35.883365\"/>\n     <use style=\"fill:#ff0000;fill-opacity:0.5;stroke:#ff0000;stroke-linejoin:miter;stroke-opacity:0.5;\" x=\"195.183888\" xlink:href=\"#m83595b4590\" y=\"122.637295\"/>\n     <use style=\"fill:#ff0000;fill-opacity:0.5;stroke:#ff0000;stroke-linejoin:miter;stroke-opacity:0.5;\" x=\"254.249281\" xlink:href=\"#m83595b4590\" y=\"115.271174\"/>\n     <use style=\"fill:#ff0000;fill-opacity:0.5;stroke:#ff0000;stroke-linejoin:miter;stroke-opacity:0.5;\" x=\"188.097097\" xlink:href=\"#m83595b4590\" y=\"98.759172\"/>\n     <use style=\"fill:#ff0000;fill-opacity:0.5;stroke:#ff0000;stroke-linejoin:miter;stroke-opacity:0.5;\" x=\"226.618076\" xlink:href=\"#m83595b4590\" y=\"133.689595\"/>\n     <use style=\"fill:#ff0000;fill-opacity:0.5;stroke:#ff0000;stroke-linejoin:miter;stroke-opacity:0.5;\" x=\"204.513893\" xlink:href=\"#m83595b4590\" y=\"163.691284\"/>\n     <use style=\"fill:#ff0000;fill-opacity:0.5;stroke:#ff0000;stroke-linejoin:miter;stroke-opacity:0.5;\" x=\"216.276969\" xlink:href=\"#m83595b4590\" y=\"93.669708\"/>\n     <use style=\"fill:#ff0000;fill-opacity:0.5;stroke:#ff0000;stroke-linejoin:miter;stroke-opacity:0.5;\" x=\"197.433464\" xlink:href=\"#m83595b4590\" y=\"70.558192\"/>\n     <use style=\"fill:#ff0000;fill-opacity:0.5;stroke:#ff0000;stroke-linejoin:miter;stroke-opacity:0.5;\" x=\"205.001856\" xlink:href=\"#m83595b4590\" y=\"164.608807\"/>\n     <use style=\"fill:#ff0000;fill-opacity:0.5;stroke:#ff0000;stroke-linejoin:miter;stroke-opacity:0.5;\" x=\"187.176507\" xlink:href=\"#m83595b4590\" y=\"101.686606\"/>\n     <use style=\"fill:#ff0000;fill-opacity:0.5;stroke:#ff0000;stroke-linejoin:miter;stroke-opacity:0.5;\" x=\"287.845377\" xlink:href=\"#m83595b4590\" y=\"67.655841\"/>\n     <use style=\"fill:#ff0000;fill-opacity:0.5;stroke:#ff0000;stroke-linejoin:miter;stroke-opacity:0.5;\" x=\"254.244597\" xlink:href=\"#m83595b4590\" y=\"87.742431\"/>\n     <use style=\"fill:#ff0000;fill-opacity:0.5;stroke:#ff0000;stroke-linejoin:miter;stroke-opacity:0.5;\" x=\"162.167529\" xlink:href=\"#m83595b4590\" y=\"103.005961\"/>\n     <use style=\"fill:#ff0000;fill-opacity:0.5;stroke:#ff0000;stroke-linejoin:miter;stroke-opacity:0.5;\" x=\"232.008132\" xlink:href=\"#m83595b4590\" y=\"111.583022\"/>\n     <use style=\"fill:#ff0000;fill-opacity:0.5;stroke:#ff0000;stroke-linejoin:miter;stroke-opacity:0.5;\" x=\"198.339024\" xlink:href=\"#m83595b4590\" y=\"58.797955\"/>\n     <use style=\"fill:#ff0000;fill-opacity:0.5;stroke:#ff0000;stroke-linejoin:miter;stroke-opacity:0.5;\" x=\"206.131061\" xlink:href=\"#m83595b4590\" y=\"59.323277\"/>\n     <use style=\"fill:#ff0000;fill-opacity:0.5;stroke:#ff0000;stroke-linejoin:miter;stroke-opacity:0.5;\" x=\"224.889774\" xlink:href=\"#m83595b4590\" y=\"85.423317\"/>\n     <use style=\"fill:#ff0000;fill-opacity:0.5;stroke:#ff0000;stroke-linejoin:miter;stroke-opacity:0.5;\" x=\"234.570071\" xlink:href=\"#m83595b4590\" y=\"83.982179\"/>\n    </g>\n   </g>\n   <g id=\"patch_3\">\n    <path d=\"M 42.620313 294.118125 \nL 42.620313 22.318125 \n\" style=\"fill:none;stroke:#000000;stroke-linecap:square;stroke-linejoin:miter;stroke-width:0.8;\"/>\n   </g>\n   <g id=\"patch_4\">\n    <path d=\"M 321.620313 294.118125 \nL 321.620313 22.318125 \n\" style=\"fill:none;stroke:#000000;stroke-linecap:square;stroke-linejoin:miter;stroke-width:0.8;\"/>\n   </g>\n   <g id=\"patch_5\">\n    <path d=\"M 42.620312 294.118125 \nL 321.620313 294.118125 \n\" style=\"fill:none;stroke:#000000;stroke-linecap:square;stroke-linejoin:miter;stroke-width:0.8;\"/>\n   </g>\n   <g id=\"patch_6\">\n    <path d=\"M 42.620312 22.318125 \nL 321.620313 22.318125 \n\" style=\"fill:none;stroke:#000000;stroke-linecap:square;stroke-linejoin:miter;stroke-width:0.8;\"/>\n   </g>\n   <g id=\"text_12\">\n    <!-- Some Random Data -->\n    <defs>\n     <path d=\"M 53.515625 70.515625 \nL 53.515625 60.890625 \nQ 47.90625 63.578125 42.921875 64.890625 \nQ 37.9375 66.21875 33.296875 66.21875 \nQ 25.25 66.21875 20.875 63.09375 \nQ 16.5 59.96875 16.5 54.203125 \nQ 16.5 49.359375 19.40625 46.890625 \nQ 22.3125 44.4375 30.421875 42.921875 \nL 36.375 41.703125 \nQ 47.40625 39.59375 52.65625 34.296875 \nQ 57.90625 29 57.90625 20.125 \nQ 57.90625 9.515625 50.796875 4.046875 \nQ 43.703125 -1.421875 29.984375 -1.421875 \nQ 24.8125 -1.421875 18.96875 -0.25 \nQ 13.140625 0.921875 6.890625 3.21875 \nL 6.890625 13.375 \nQ 12.890625 10.015625 18.65625 8.296875 \nQ 24.421875 6.59375 29.984375 6.59375 \nQ 38.421875 6.59375 43.015625 9.90625 \nQ 47.609375 13.234375 47.609375 19.390625 \nQ 47.609375 24.75 44.3125 27.78125 \nQ 41.015625 30.8125 33.5 32.328125 \nL 27.484375 33.5 \nQ 16.453125 35.6875 11.515625 40.375 \nQ 6.59375 45.0625 6.59375 53.421875 \nQ 6.59375 63.09375 13.40625 68.65625 \nQ 20.21875 74.21875 32.171875 74.21875 \nQ 37.3125 74.21875 42.625 73.28125 \nQ 47.953125 72.359375 53.515625 70.515625 \nz\n\" id=\"DejaVuSans-83\"/>\n     <path d=\"M 44.390625 34.1875 \nQ 47.5625 33.109375 50.5625 29.59375 \nQ 53.5625 26.078125 56.59375 19.921875 \nL 66.609375 0 \nL 56 0 \nL 46.6875 18.703125 \nQ 43.0625 26.03125 39.671875 28.421875 \nQ 36.28125 30.8125 30.421875 30.8125 \nL 19.671875 30.8125 \nL 19.671875 0 \nL 9.8125 0 \nL 9.8125 72.90625 \nL 32.078125 72.90625 \nQ 44.578125 72.90625 50.734375 67.671875 \nQ 56.890625 62.453125 56.890625 51.90625 \nQ 56.890625 45.015625 53.6875 40.46875 \nQ 50.484375 35.9375 44.390625 34.1875 \nz\nM 19.671875 64.796875 \nL 19.671875 38.921875 \nL 32.078125 38.921875 \nQ 39.203125 38.921875 42.84375 42.21875 \nQ 46.484375 45.515625 46.484375 51.90625 \nQ 46.484375 58.296875 42.84375 61.546875 \nQ 39.203125 64.796875 32.078125 64.796875 \nz\n\" id=\"DejaVuSans-82\"/>\n     <path d=\"M 34.28125 27.484375 \nQ 23.390625 27.484375 19.1875 25 \nQ 14.984375 22.515625 14.984375 16.5 \nQ 14.984375 11.71875 18.140625 8.90625 \nQ 21.296875 6.109375 26.703125 6.109375 \nQ 34.1875 6.109375 38.703125 11.40625 \nQ 43.21875 16.703125 43.21875 25.484375 \nL 43.21875 27.484375 \nz\nM 52.203125 31.203125 \nL 52.203125 0 \nL 43.21875 0 \nL 43.21875 8.296875 \nQ 40.140625 3.328125 35.546875 0.953125 \nQ 30.953125 -1.421875 24.3125 -1.421875 \nQ 15.921875 -1.421875 10.953125 3.296875 \nQ 6 8.015625 6 15.921875 \nQ 6 25.140625 12.171875 29.828125 \nQ 18.359375 34.515625 30.609375 34.515625 \nL 43.21875 34.515625 \nL 43.21875 35.40625 \nQ 43.21875 41.609375 39.140625 45 \nQ 35.0625 48.390625 27.6875 48.390625 \nQ 23 48.390625 18.546875 47.265625 \nQ 14.109375 46.140625 10.015625 43.890625 \nL 10.015625 52.203125 \nQ 14.9375 54.109375 19.578125 55.046875 \nQ 24.21875 56 28.609375 56 \nQ 40.484375 56 46.34375 49.84375 \nQ 52.203125 43.703125 52.203125 31.203125 \nz\n\" id=\"DejaVuSans-97\"/>\n     <path d=\"M 45.40625 46.390625 \nL 45.40625 75.984375 \nL 54.390625 75.984375 \nL 54.390625 0 \nL 45.40625 0 \nL 45.40625 8.203125 \nQ 42.578125 3.328125 38.25 0.953125 \nQ 33.9375 -1.421875 27.875 -1.421875 \nQ 17.96875 -1.421875 11.734375 6.484375 \nQ 5.515625 14.40625 5.515625 27.296875 \nQ 5.515625 40.1875 11.734375 48.09375 \nQ 17.96875 56 27.875 56 \nQ 33.9375 56 38.25 53.625 \nQ 42.578125 51.265625 45.40625 46.390625 \nz\nM 14.796875 27.296875 \nQ 14.796875 17.390625 18.875 11.75 \nQ 22.953125 6.109375 30.078125 6.109375 \nQ 37.203125 6.109375 41.296875 11.75 \nQ 45.40625 17.390625 45.40625 27.296875 \nQ 45.40625 37.203125 41.296875 42.84375 \nQ 37.203125 48.484375 30.078125 48.484375 \nQ 22.953125 48.484375 18.875 42.84375 \nQ 14.796875 37.203125 14.796875 27.296875 \nz\n\" id=\"DejaVuSans-100\"/>\n     <path d=\"M 18.3125 70.21875 \nL 18.3125 54.6875 \nL 36.8125 54.6875 \nL 36.8125 47.703125 \nL 18.3125 47.703125 \nL 18.3125 18.015625 \nQ 18.3125 11.328125 20.140625 9.421875 \nQ 21.96875 7.515625 27.59375 7.515625 \nL 36.8125 7.515625 \nL 36.8125 0 \nL 27.59375 0 \nQ 17.1875 0 13.234375 3.875 \nQ 9.28125 7.765625 9.28125 18.015625 \nL 9.28125 47.703125 \nL 2.6875 47.703125 \nL 2.6875 54.6875 \nL 9.28125 54.6875 \nL 9.28125 70.21875 \nz\n\" id=\"DejaVuSans-116\"/>\n    </defs>\n    <g transform=\"translate(122.125938 16.318125)scale(0.12 -0.12)\">\n     <use xlink:href=\"#DejaVuSans-83\"/>\n     <use x=\"63.476562\" xlink:href=\"#DejaVuSans-111\"/>\n     <use x=\"124.658203\" xlink:href=\"#DejaVuSans-109\"/>\n     <use x=\"222.070312\" xlink:href=\"#DejaVuSans-101\"/>\n     <use x=\"283.59375\" xlink:href=\"#DejaVuSans-32\"/>\n     <use x=\"315.380859\" xlink:href=\"#DejaVuSans-82\"/>\n     <use x=\"382.613281\" xlink:href=\"#DejaVuSans-97\"/>\n     <use x=\"443.892578\" xlink:href=\"#DejaVuSans-110\"/>\n     <use x=\"507.271484\" xlink:href=\"#DejaVuSans-100\"/>\n     <use x=\"570.748047\" xlink:href=\"#DejaVuSans-111\"/>\n     <use x=\"631.929688\" xlink:href=\"#DejaVuSans-109\"/>\n     <use x=\"729.341797\" xlink:href=\"#DejaVuSans-32\"/>\n     <use x=\"761.128906\" xlink:href=\"#DejaVuSans-68\"/>\n     <use x=\"838.130859\" xlink:href=\"#DejaVuSans-97\"/>\n     <use x=\"899.410156\" xlink:href=\"#DejaVuSans-116\"/>\n     <use x=\"938.619141\" xlink:href=\"#DejaVuSans-97\"/>\n    </g>\n   </g>\n  </g>\n </g>\n <defs>\n  <clipPath id=\"p0cde342037\">\n   <rect height=\"271.8\" width=\"279\" x=\"42.620313\" y=\"22.318125\"/>\n  </clipPath>\n </defs>\n</svg>\n"
          },
          "metadata": {
            "needs_background": "light"
          }
        }
      ]
    },
    {
      "cell_type": "code",
      "source": [
        ""
      ],
      "metadata": {
        "id": "qb-LuyFKrT4M"
      },
      "execution_count": null,
      "outputs": []
    }
  ]
}