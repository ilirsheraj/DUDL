{
  "nbformat": 4,
  "nbformat_minor": 0,
  "metadata": {
    "colab": {
      "name": "Chapter_09_Data.ipynb",
      "provenance": [],
      "collapsed_sections": [],
      "authorship_tag": "ABX9TyPPYkDgy0MnBjE+vmrbsqHE",
      "include_colab_link": true
    },
    "kernelspec": {
      "name": "python3",
      "display_name": "Python 3"
    },
    "language_info": {
      "name": "python"
    },
    "gpuClass": "standard"
  },
  "cells": [
    {
      "cell_type": "markdown",
      "metadata": {
        "id": "view-in-github",
        "colab_type": "text"
      },
      "source": [
        "<a href=\"https://colab.research.google.com/github/ilirsheraj/DUDL/blob/main/Chapter_09_Data.ipynb\" target=\"_parent\"><img src=\"https://colab.research.google.com/assets/colab-badge.svg\" alt=\"Open In Colab\"/></a>"
      ]
    },
    {
      "cell_type": "markdown",
      "source": [
        "#TensorDataset"
      ],
      "metadata": {
        "id": "Phsz6v4bVADC"
      }
    },
    {
      "cell_type": "code",
      "execution_count": 1,
      "metadata": {
        "id": "HIVgTosmTffm"
      },
      "outputs": [],
      "source": [
        "# Import Libraries\n",
        "import numpy as np\n",
        "import torch\n",
        "from torch.utils.data import DataLoader, TensorDataset"
      ]
    },
    {
      "cell_type": "code",
      "source": [
        "# Create a dataset in Numpy\n",
        "nObservations = 100\n",
        "nFeatures = 20\n",
        "\n",
        "data = np.random.randn(nObservations, nFeatures)\n",
        "\n",
        "data.shape"
      ],
      "metadata": {
        "colab": {
          "base_uri": "https://localhost:8080/"
        },
        "id": "iVUHzzgbVNvP",
        "outputId": "d56b7386-a790-4b64-c7a3-4e20560d0c23"
      },
      "execution_count": 2,
      "outputs": [
        {
          "output_type": "execute_result",
          "data": {
            "text/plain": [
              "(100, 20)"
            ]
          },
          "metadata": {},
          "execution_count": 2
        }
      ]
    },
    {
      "cell_type": "code",
      "source": [
        "# Convert the data into pytorch tensor\n",
        "dataT = torch.tensor(data)\n",
        "\n",
        "# Print out some information\n",
        "print(\"Numpy Data\")\n",
        "print(type(data))\n",
        "print()\n",
        "print(data.shape) # numpy -> .shape\n",
        "print()\n",
        "print(data.dtype) # The "
      ],
      "metadata": {
        "colab": {
          "base_uri": "https://localhost:8080/"
        },
        "id": "SmRYf79lZUeX",
        "outputId": "897436e9-f1b2-4d69-debc-288156bb8e6a"
      },
      "execution_count": 3,
      "outputs": [
        {
          "output_type": "stream",
          "name": "stdout",
          "text": [
            "Numpy Data\n",
            "<class 'numpy.ndarray'>\n",
            "\n",
            "(100, 20)\n",
            "\n",
            "float64\n"
          ]
        }
      ]
    },
    {
      "cell_type": "code",
      "source": [
        "print(\"Tensor Data\")\n",
        "print(type(dataT))\n",
        "print()\n",
        "print(dataT.size()) # torch -> size() dataT.shape also works\n",
        "print()\n",
        "print(dataT.dtype)"
      ],
      "metadata": {
        "colab": {
          "base_uri": "https://localhost:8080/"
        },
        "id": "TQm9ZJ8JZu9g",
        "outputId": "a0363420-c772-41c5-a04c-b81e8271752d"
      },
      "execution_count": 4,
      "outputs": [
        {
          "output_type": "stream",
          "name": "stdout",
          "text": [
            "Tensor Data\n",
            "<class 'torch.Tensor'>\n",
            "\n",
            "torch.Size([100, 20])\n",
            "\n",
            "torch.float64\n"
          ]
        }
      ]
    },
    {
      "cell_type": "code",
      "source": [
        "# Converting datatypes\n",
        "dataT2 = torch.tensor(data).float()\n",
        "print(dataT2.dtype)"
      ],
      "metadata": {
        "colab": {
          "base_uri": "https://localhost:8080/"
        },
        "id": "LaLRg0iFaKbN",
        "outputId": "cd4b9e87-b887-4477-be43-63c0ffc8eeb6"
      },
      "execution_count": 5,
      "outputs": [
        {
          "output_type": "stream",
          "name": "stdout",
          "text": [
            "torch.float32\n"
          ]
        }
      ]
    },
    {
      "cell_type": "code",
      "source": [
        "# .long() works for integers, like we have always used to create labels\n",
        "dataT3 = torch.tensor(data).long()\n",
        "print(dataT3.dtype)"
      ],
      "metadata": {
        "colab": {
          "base_uri": "https://localhost:8080/"
        },
        "id": "C_3NdCxPcLx-",
        "outputId": "764ef33f-81b5-4a60-d298-d236c94bb504"
      },
      "execution_count": 6,
      "outputs": [
        {
          "output_type": "stream",
          "name": "stdout",
          "text": [
            "torch.int64\n"
          ]
        }
      ]
    },
    {
      "cell_type": "code",
      "source": [
        "# Numpy Data\n",
        "data"
      ],
      "metadata": {
        "colab": {
          "base_uri": "https://localhost:8080/"
        },
        "id": "zGjsF42rcfSx",
        "outputId": "09d0ddd0-de37-4cbc-86ef-42faa3caeca9"
      },
      "execution_count": 7,
      "outputs": [
        {
          "output_type": "execute_result",
          "data": {
            "text/plain": [
              "array([[ 0.9967915 ,  0.34323311,  0.37051492, ..., -0.13123295,\n",
              "        -1.8267084 ,  1.11413198],\n",
              "       [ 0.25180362, -2.25931033,  0.17148823, ..., -1.14323571,\n",
              "         2.02592951, -0.03974172],\n",
              "       [ 0.42656699,  0.42679475, -2.27714039, ..., -0.59696545,\n",
              "        -1.56227537, -1.03451708],\n",
              "       ...,\n",
              "       [ 1.03732373,  0.75888444, -0.65063706, ...,  0.05118021,\n",
              "         0.16738484, -0.67012479],\n",
              "       [-0.91117139, -0.63432906, -1.70847911, ..., -1.50201273,\n",
              "         0.31456932, -3.11636302],\n",
              "       [ 2.10332061, -0.00539816,  0.23472897, ..., -2.2432004 ,\n",
              "         0.25503878, -0.1597969 ]])"
            ]
          },
          "metadata": {},
          "execution_count": 7
        }
      ]
    },
    {
      "cell_type": "code",
      "source": [
        "# Tensor\n",
        "dataT2"
      ],
      "metadata": {
        "id": "pytUkEXLctrP",
        "outputId": "e6919087-16f8-469e-e027-2dac9f8357bf",
        "colab": {
          "base_uri": "https://localhost:8080/"
        }
      },
      "execution_count": 8,
      "outputs": [
        {
          "output_type": "execute_result",
          "data": {
            "text/plain": [
              "tensor([[ 0.9968,  0.3432,  0.3705,  ..., -0.1312, -1.8267,  1.1141],\n",
              "        [ 0.2518, -2.2593,  0.1715,  ..., -1.1432,  2.0259, -0.0397],\n",
              "        [ 0.4266,  0.4268, -2.2771,  ..., -0.5970, -1.5623, -1.0345],\n",
              "        ...,\n",
              "        [ 1.0373,  0.7589, -0.6506,  ...,  0.0512,  0.1674, -0.6701],\n",
              "        [-0.9112, -0.6343, -1.7085,  ..., -1.5020,  0.3146, -3.1164],\n",
              "        [ 2.1033, -0.0054,  0.2347,  ..., -2.2432,  0.2550, -0.1598]])"
            ]
          },
          "metadata": {},
          "execution_count": 8
        }
      ]
    },
    {
      "cell_type": "code",
      "source": [
        "# Integer Tensor\n",
        "dataT3"
      ],
      "metadata": {
        "id": "zVvo-yxRcvD1",
        "outputId": "accbdc89-daef-4cb9-adb2-84766506c522",
        "colab": {
          "base_uri": "https://localhost:8080/"
        }
      },
      "execution_count": 9,
      "outputs": [
        {
          "output_type": "execute_result",
          "data": {
            "text/plain": [
              "tensor([[ 0,  0,  0,  ...,  0, -1,  1],\n",
              "        [ 0, -2,  0,  ..., -1,  2,  0],\n",
              "        [ 0,  0, -2,  ...,  0, -1, -1],\n",
              "        ...,\n",
              "        [ 1,  0,  0,  ...,  0,  0,  0],\n",
              "        [ 0,  0, -1,  ..., -1,  0, -3],\n",
              "        [ 2,  0,  0,  ..., -2,  0,  0]])"
            ]
          },
          "metadata": {},
          "execution_count": 9
        }
      ]
    },
    {
      "cell_type": "code",
      "source": [
        "# Convert the tensors into PyTorch Datasets\n",
        "# dataset = TensorDataset(data) # This is not a tensor, so cannot be converted\n",
        "# We need tensor for that\n",
        "dataset = TensorDataset(dataT)\n",
        "# Dataset is a two-element tuple comprising of data and labels\n",
        "dataset.tensors"
      ],
      "metadata": {
        "id": "2sbkf_xrcy6Z",
        "colab": {
          "base_uri": "https://localhost:8080/"
        },
        "outputId": "f66752ed-ab6b-4314-8a23-6b37f3bba15c"
      },
      "execution_count": 11,
      "outputs": [
        {
          "output_type": "execute_result",
          "data": {
            "text/plain": [
              "(tensor([[ 0.9968,  0.3432,  0.3705,  ..., -0.1312, -1.8267,  1.1141],\n",
              "         [ 0.2518, -2.2593,  0.1715,  ..., -1.1432,  2.0259, -0.0397],\n",
              "         [ 0.4266,  0.4268, -2.2771,  ..., -0.5970, -1.5623, -1.0345],\n",
              "         ...,\n",
              "         [ 1.0373,  0.7589, -0.6506,  ...,  0.0512,  0.1674, -0.6701],\n",
              "         [-0.9112, -0.6343, -1.7085,  ..., -1.5020,  0.3146, -3.1164],\n",
              "         [ 2.1033, -0.0054,  0.2347,  ..., -2.2432,  0.2550, -0.1598]],\n",
              "        dtype=torch.float64),)"
            ]
          },
          "metadata": {},
          "execution_count": 11
        }
      ]
    },
    {
      "cell_type": "code",
      "source": [
        "# We can access all the numbers by indexing on zero element of the tuple\n",
        "dataset.tensors[0]"
      ],
      "metadata": {
        "colab": {
          "base_uri": "https://localhost:8080/"
        },
        "id": "VLoyXbp4cdDs",
        "outputId": "2892b952-2a56-4a82-ec6e-8146b452e45d"
      },
      "execution_count": 12,
      "outputs": [
        {
          "output_type": "execute_result",
          "data": {
            "text/plain": [
              "tensor([[ 0.9968,  0.3432,  0.3705,  ..., -0.1312, -1.8267,  1.1141],\n",
              "        [ 0.2518, -2.2593,  0.1715,  ..., -1.1432,  2.0259, -0.0397],\n",
              "        [ 0.4266,  0.4268, -2.2771,  ..., -0.5970, -1.5623, -1.0345],\n",
              "        ...,\n",
              "        [ 1.0373,  0.7589, -0.6506,  ...,  0.0512,  0.1674, -0.6701],\n",
              "        [-0.9112, -0.6343, -1.7085,  ..., -1.5020,  0.3146, -3.1164],\n",
              "        [ 2.1033, -0.0054,  0.2347,  ..., -2.2432,  0.2550, -0.1598]],\n",
              "       dtype=torch.float64)"
            ]
          },
          "metadata": {},
          "execution_count": 12
        }
      ]
    },
    {
      "cell_type": "code",
      "source": [
        "# Let's add labels to the data\n",
        "labels = torch.ceil(torch.linspace(0.01,4, nObservations))\n",
        "labels"
      ],
      "metadata": {
        "colab": {
          "base_uri": "https://localhost:8080/"
        },
        "id": "3KIppXN-dOvn",
        "outputId": "f5d881b2-472e-4ef4-94d4-2bcfe5695590"
      },
      "execution_count": 13,
      "outputs": [
        {
          "output_type": "execute_result",
          "data": {
            "text/plain": [
              "tensor([1., 1., 1., 1., 1., 1., 1., 1., 1., 1., 1., 1., 1., 1., 1., 1., 1., 1.,\n",
              "        1., 1., 1., 1., 1., 1., 1., 2., 2., 2., 2., 2., 2., 2., 2., 2., 2., 2.,\n",
              "        2., 2., 2., 2., 2., 2., 2., 2., 2., 2., 2., 2., 2., 2., 3., 3., 3., 3.,\n",
              "        3., 3., 3., 3., 3., 3., 3., 3., 3., 3., 3., 3., 3., 3., 3., 3., 3., 3.,\n",
              "        3., 3., 3., 4., 4., 4., 4., 4., 4., 4., 4., 4., 4., 4., 4., 4., 4., 4.,\n",
              "        4., 4., 4., 4., 4., 4., 4., 4., 4., 4.])"
            ]
          },
          "metadata": {},
          "execution_count": 13
        }
      ]
    },
    {
      "cell_type": "code",
      "source": [
        "# The above is just a list, it is not a tensor with orientation\n",
        "# Lets transform it into an actual matrix (column vector)\n",
        "labels = labels.reshape((len(labels),1))\n",
        "print(labels)\n",
        "# Two sets of fquare brackets :)"
      ],
      "metadata": {
        "colab": {
          "base_uri": "https://localhost:8080/"
        },
        "id": "La8vx9l8duUN",
        "outputId": "f179e3c6-9ea6-4707-c1d1-e95fd700e4e9"
      },
      "execution_count": 14,
      "outputs": [
        {
          "output_type": "stream",
          "name": "stdout",
          "text": [
            "tensor([[1.],\n",
            "        [1.],\n",
            "        [1.],\n",
            "        [1.],\n",
            "        [1.],\n",
            "        [1.],\n",
            "        [1.],\n",
            "        [1.],\n",
            "        [1.],\n",
            "        [1.],\n",
            "        [1.],\n",
            "        [1.],\n",
            "        [1.],\n",
            "        [1.],\n",
            "        [1.],\n",
            "        [1.],\n",
            "        [1.],\n",
            "        [1.],\n",
            "        [1.],\n",
            "        [1.],\n",
            "        [1.],\n",
            "        [1.],\n",
            "        [1.],\n",
            "        [1.],\n",
            "        [1.],\n",
            "        [2.],\n",
            "        [2.],\n",
            "        [2.],\n",
            "        [2.],\n",
            "        [2.],\n",
            "        [2.],\n",
            "        [2.],\n",
            "        [2.],\n",
            "        [2.],\n",
            "        [2.],\n",
            "        [2.],\n",
            "        [2.],\n",
            "        [2.],\n",
            "        [2.],\n",
            "        [2.],\n",
            "        [2.],\n",
            "        [2.],\n",
            "        [2.],\n",
            "        [2.],\n",
            "        [2.],\n",
            "        [2.],\n",
            "        [2.],\n",
            "        [2.],\n",
            "        [2.],\n",
            "        [2.],\n",
            "        [3.],\n",
            "        [3.],\n",
            "        [3.],\n",
            "        [3.],\n",
            "        [3.],\n",
            "        [3.],\n",
            "        [3.],\n",
            "        [3.],\n",
            "        [3.],\n",
            "        [3.],\n",
            "        [3.],\n",
            "        [3.],\n",
            "        [3.],\n",
            "        [3.],\n",
            "        [3.],\n",
            "        [3.],\n",
            "        [3.],\n",
            "        [3.],\n",
            "        [3.],\n",
            "        [3.],\n",
            "        [3.],\n",
            "        [3.],\n",
            "        [3.],\n",
            "        [3.],\n",
            "        [3.],\n",
            "        [4.],\n",
            "        [4.],\n",
            "        [4.],\n",
            "        [4.],\n",
            "        [4.],\n",
            "        [4.],\n",
            "        [4.],\n",
            "        [4.],\n",
            "        [4.],\n",
            "        [4.],\n",
            "        [4.],\n",
            "        [4.],\n",
            "        [4.],\n",
            "        [4.],\n",
            "        [4.],\n",
            "        [4.],\n",
            "        [4.],\n",
            "        [4.],\n",
            "        [4.],\n",
            "        [4.],\n",
            "        [4.],\n",
            "        [4.],\n",
            "        [4.],\n",
            "        [4.],\n",
            "        [4.]])\n"
          ]
        }
      ]
    },
    {
      "cell_type": "code",
      "source": [
        "# Let's create a new dataset\n",
        "dataset = TensorDataset(dataT, labels)\n",
        "print(dataset.tensors[0].size())\n",
        "print()\n",
        "print(dataset.tensors[1].size())"
      ],
      "metadata": {
        "colab": {
          "base_uri": "https://localhost:8080/"
        },
        "id": "WvFt3sIZeNEq",
        "outputId": "d4bef57e-fc76-4d61-b099-05bf88b50434"
      },
      "execution_count": 15,
      "outputs": [
        {
          "output_type": "stream",
          "name": "stdout",
          "text": [
            "torch.Size([100, 20])\n",
            "\n",
            "torch.Size([100, 1])\n"
          ]
        }
      ]
    },
    {
      "cell_type": "code",
      "source": [
        "# See only first data and its labels\n",
        "dataset[0]"
      ],
      "metadata": {
        "colab": {
          "base_uri": "https://localhost:8080/"
        },
        "id": "0uSqvUvWfBFx",
        "outputId": "22c9b33e-4d49-4e96-9984-7bf7008399ec"
      },
      "execution_count": 20,
      "outputs": [
        {
          "output_type": "execute_result",
          "data": {
            "text/plain": [
              "(tensor([ 0.9968,  0.3432,  0.3705, -0.2423,  0.1509, -1.0959, -1.8894, -0.8657,\n",
              "          0.0670, -1.7220,  0.7425,  0.3204,  0.7241,  0.2190,  2.1436,  1.3726,\n",
              "          1.1369, -0.1312, -1.8267,  1.1141], dtype=torch.float64),\n",
              " tensor([1.]))"
            ]
          },
          "metadata": {},
          "execution_count": 20
        }
      ]
    },
    {
      "cell_type": "code",
      "source": [
        "len(dataset.tensors)"
      ],
      "metadata": {
        "colab": {
          "base_uri": "https://localhost:8080/"
        },
        "id": "GPdYseDifluZ",
        "outputId": "effcfe71-b319-439c-99ac-c5b3b43ca604"
      },
      "execution_count": 21,
      "outputs": [
        {
          "output_type": "execute_result",
          "data": {
            "text/plain": [
              "2"
            ]
          },
          "metadata": {},
          "execution_count": 21
        }
      ]
    },
    {
      "cell_type": "code",
      "source": [
        "# Just for comparison with a non-matrix ordered set of numbers\n",
        "print(np.shape(np.random.randint(5,size=nObservations)))"
      ],
      "metadata": {
        "colab": {
          "base_uri": "https://localhost:8080/"
        },
        "id": "nQgvTwmPevqk",
        "outputId": "e3006f86-95b7-4359-c215-b8a4510abbf8"
      },
      "execution_count": 16,
      "outputs": [
        {
          "output_type": "stream",
          "name": "stdout",
          "text": [
            "(100,)\n"
          ]
        }
      ]
    },
    {
      "cell_type": "markdown",
      "source": [
        "# DataLoaders"
      ],
      "metadata": {
        "id": "kNgwKAgif1Gr"
      }
    },
    {
      "cell_type": "code",
      "source": [
        "# Create a DataLoader Object\n",
        "batchsize = 25\n",
        "dataloader = DataLoader(dataset, batch_size = batchsize) #shuffle=True,drop_last=True)\n",
        "dataloader"
      ],
      "metadata": {
        "colab": {
          "base_uri": "https://localhost:8080/"
        },
        "id": "5aHez3fHfzp-",
        "outputId": "024b8f9b-fd02-4e33-e3a2-ca47fd3f1eed"
      },
      "execution_count": 22,
      "outputs": [
        {
          "output_type": "execute_result",
          "data": {
            "text/plain": [
              "<torch.utils.data.dataloader.DataLoader at 0x7f4df7c51c10>"
            ]
          },
          "metadata": {},
          "execution_count": 22
        }
      ]
    },
    {
      "cell_type": "code",
      "source": [
        "dataloader.dataset.tensors[0].size()"
      ],
      "metadata": {
        "colab": {
          "base_uri": "https://localhost:8080/"
        },
        "id": "w2caoIerghU1",
        "outputId": "d020d600-5f89-4065-ea73-343ec64a3a7c"
      },
      "execution_count": 23,
      "outputs": [
        {
          "output_type": "execute_result",
          "data": {
            "text/plain": [
              "torch.Size([100, 20])"
            ]
          },
          "metadata": {},
          "execution_count": 23
        }
      ]
    },
    {
      "cell_type": "code",
      "source": [
        "dataloader.dataset.tensors[1].size()"
      ],
      "metadata": {
        "colab": {
          "base_uri": "https://localhost:8080/"
        },
        "id": "OGxcptzSgnoa",
        "outputId": "b2e9cd75-b03b-4806-c828-1e5c03ddf3d2"
      },
      "execution_count": 24,
      "outputs": [
        {
          "output_type": "execute_result",
          "data": {
            "text/plain": [
              "torch.Size([100, 1])"
            ]
          },
          "metadata": {},
          "execution_count": 24
        }
      ]
    },
    {
      "cell_type": "code",
      "source": [
        "# Use the dataloader object in a for loop to break up the data inro minibatches\n",
        "for dat, labs in dataloader:\n",
        "    print(\"Batch Info\")\n",
        "    print(dat.size())\n",
        "    print(labs.size())\n",
        "    print()"
      ],
      "metadata": {
        "colab": {
          "base_uri": "https://localhost:8080/"
        },
        "id": "WeemPQp2hBG6",
        "outputId": "efd0693f-2c0e-431a-98a2-34bb2d011939"
      },
      "execution_count": 25,
      "outputs": [
        {
          "output_type": "stream",
          "name": "stdout",
          "text": [
            "Batch Info\n",
            "torch.Size([25, 20])\n",
            "torch.Size([25, 1])\n",
            "\n",
            "Batch Info\n",
            "torch.Size([25, 20])\n",
            "torch.Size([25, 1])\n",
            "\n",
            "Batch Info\n",
            "torch.Size([25, 20])\n",
            "torch.Size([25, 1])\n",
            "\n",
            "Batch Info\n",
            "torch.Size([25, 20])\n",
            "torch.Size([25, 1])\n",
            "\n"
          ]
        }
      ]
    },
    {
      "cell_type": "code",
      "source": [
        "# We can also have a look at the labels\n",
        "for dat, labels in dataloader:\n",
        "    print(labels.T)\n",
        "    print()"
      ],
      "metadata": {
        "colab": {
          "base_uri": "https://localhost:8080/"
        },
        "id": "7wts90ZGhTc3",
        "outputId": "0e41fce4-85ea-430b-8217-39fa0c278bde"
      },
      "execution_count": 26,
      "outputs": [
        {
          "output_type": "stream",
          "name": "stdout",
          "text": [
            "tensor([[1., 1., 1., 1., 1., 1., 1., 1., 1., 1., 1., 1., 1., 1., 1., 1., 1., 1.,\n",
            "         1., 1., 1., 1., 1., 1., 1.]])\n",
            "\n",
            "tensor([[2., 2., 2., 2., 2., 2., 2., 2., 2., 2., 2., 2., 2., 2., 2., 2., 2., 2.,\n",
            "         2., 2., 2., 2., 2., 2., 2.]])\n",
            "\n",
            "tensor([[3., 3., 3., 3., 3., 3., 3., 3., 3., 3., 3., 3., 3., 3., 3., 3., 3., 3.,\n",
            "         3., 3., 3., 3., 3., 3., 3.]])\n",
            "\n",
            "tensor([[4., 4., 4., 4., 4., 4., 4., 4., 4., 4., 4., 4., 4., 4., 4., 4., 4., 4.,\n",
            "         4., 4., 4., 4., 4., 4., 4.]])\n",
            "\n"
          ]
        }
      ]
    },
    {
      "cell_type": "code",
      "source": [
        "# Now lets try with shuffling and see what happens\n",
        "dataloader = DataLoader(dataset, batch_size=batchsize, shuffle=True)"
      ],
      "metadata": {
        "id": "AHySK6SBh_Xl"
      },
      "execution_count": 27,
      "outputs": []
    },
    {
      "cell_type": "code",
      "source": [
        "for dat,labs in dataloader:\n",
        "    print(labs.T)\n",
        "    print()"
      ],
      "metadata": {
        "colab": {
          "base_uri": "https://localhost:8080/"
        },
        "id": "fcXPZKDziP85",
        "outputId": "74eb8cdf-06da-4527-bb6a-26797cea144a"
      },
      "execution_count": 28,
      "outputs": [
        {
          "output_type": "stream",
          "name": "stdout",
          "text": [
            "tensor([[2., 1., 3., 2., 2., 2., 3., 3., 1., 4., 2., 4., 4., 2., 4., 1., 4., 1.,\n",
            "         3., 4., 4., 1., 1., 4., 3.]])\n",
            "\n",
            "tensor([[1., 1., 2., 3., 1., 4., 2., 2., 2., 3., 3., 3., 3., 3., 2., 4., 2., 1.,\n",
            "         3., 2., 3., 4., 3., 4., 4.]])\n",
            "\n",
            "tensor([[1., 4., 3., 1., 2., 3., 1., 2., 2., 4., 4., 1., 1., 4., 1., 1., 1., 1.,\n",
            "         2., 2., 4., 3., 3., 3., 4.]])\n",
            "\n",
            "tensor([[2., 4., 4., 1., 1., 4., 3., 4., 4., 1., 2., 4., 2., 3., 3., 3., 3., 2.,\n",
            "         1., 3., 1., 1., 2., 2., 2.]])\n",
            "\n"
          ]
        }
      ]
    },
    {
      "cell_type": "code",
      "source": [
        "# To get only one batch for testing (as we have been doing for  along time)\n",
        "dat,labs = next(iter(dataloader))\n",
        "labs.T"
      ],
      "metadata": {
        "colab": {
          "base_uri": "https://localhost:8080/"
        },
        "id": "jk3eFiiLiX2M",
        "outputId": "f6cdc3bb-0597-4135-bdec-17f88f8f139a"
      },
      "execution_count": 30,
      "outputs": [
        {
          "output_type": "execute_result",
          "data": {
            "text/plain": [
              "tensor([[4., 1., 1., 2., 3., 4., 1., 1., 4., 2., 1., 3., 1., 2., 3., 2., 1., 4.,\n",
              "         3., 2., 1., 1., 3., 2., 2.]])"
            ]
          },
          "metadata": {},
          "execution_count": 30
        }
      ]
    },
    {
      "cell_type": "code",
      "source": [
        ""
      ],
      "metadata": {
        "id": "GQjWgaykjJGM"
      },
      "execution_count": null,
      "outputs": []
    }
  ]
}