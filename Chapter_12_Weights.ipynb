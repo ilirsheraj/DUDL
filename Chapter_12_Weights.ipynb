{
  "nbformat": 4,
  "nbformat_minor": 0,
  "metadata": {
    "colab": {
      "provenance": [],
      "authorship_tag": "ABX9TyOMvruF511ZLjZ26OUUartF",
      "include_colab_link": true
    },
    "kernelspec": {
      "name": "python3",
      "display_name": "Python 3"
    },
    "language_info": {
      "name": "python"
    }
  },
  "cells": [
    {
      "cell_type": "markdown",
      "metadata": {
        "id": "view-in-github",
        "colab_type": "text"
      },
      "source": [
        "<a href=\"https://colab.research.google.com/github/ilirsheraj/DUDL/blob/main/Chapter_12_Weights.ipynb\" target=\"_parent\"><img src=\"https://colab.research.google.com/assets/colab-badge.svg\" alt=\"Open In Colab\"/></a>"
      ]
    },
    {
      "cell_type": "code",
      "execution_count": 1,
      "metadata": {
        "id": "glusXn8JCMV5"
      },
      "outputs": [],
      "source": [
        "# Import the necessary libraries\n",
        "import torch\n",
        "import torch.nn as nn"
      ]
    },
    {
      "cell_type": "markdown",
      "source": [
        "##Create a Model and Inspect Weight Matrix Sizes"
      ],
      "metadata": {
        "id": "krtwVZMKCedG"
      }
    },
    {
      "cell_type": "code",
      "source": [
        "# Build a model\n",
        "aModel = nn.Sequential(\n",
        "    nn.Linear(10,14), # Input\n",
        "    nn.Linear(14,19), # Hidden\n",
        "    nn.Linear(19,8),  # Output\n",
        "    )\n",
        "\n",
        "aModel"
      ],
      "metadata": {
        "colab": {
          "base_uri": "https://localhost:8080/"
        },
        "id": "_2v5xXMWCcxd",
        "outputId": "72be481a-7029-46e6-8a90-f2c635b4cb36"
      },
      "execution_count": 2,
      "outputs": [
        {
          "output_type": "execute_result",
          "data": {
            "text/plain": [
              "Sequential(\n",
              "  (0): Linear(in_features=10, out_features=14, bias=True)\n",
              "  (1): Linear(in_features=14, out_features=19, bias=True)\n",
              "  (2): Linear(in_features=19, out_features=8, bias=True)\n",
              ")"
            ]
          },
          "metadata": {},
          "execution_count": 2
        }
      ]
    },
    {
      "cell_type": "code",
      "source": [
        "# print the sizes of the weight matrices in each layer\n",
        "for i in range(len(aModel)):\n",
        "    print(aModel[i].weight.shape)"
      ],
      "metadata": {
        "colab": {
          "base_uri": "https://localhost:8080/"
        },
        "id": "JxDpF-mQC7Lf",
        "outputId": "9cacc1bb-ab35-43f2-f84f-6635e1b73ee2"
      },
      "execution_count": 3,
      "outputs": [
        {
          "output_type": "stream",
          "name": "stdout",
          "text": [
            "torch.Size([14, 10])\n",
            "torch.Size([19, 14])\n",
            "torch.Size([8, 19])\n"
          ]
        }
      ]
    },
    {
      "cell_type": "code",
      "source": [
        "# Build a model with inconsitent layer shapes\n",
        "# Build a model\n",
        "M2 = nn.Sequential(\n",
        "    nn.Linear(10,14), # Input\n",
        "    nn.Linear(14,9), # Hidden\n",
        "    nn.Linear(19,8),  # Output\n",
        "    )\n",
        "\n",
        "M2"
      ],
      "metadata": {
        "colab": {
          "base_uri": "https://localhost:8080/"
        },
        "id": "Vo6__oj5DRNd",
        "outputId": "67ec6fcf-1be0-4895-9ed4-c4d0ff4466a1"
      },
      "execution_count": 4,
      "outputs": [
        {
          "output_type": "execute_result",
          "data": {
            "text/plain": [
              "Sequential(\n",
              "  (0): Linear(in_features=10, out_features=14, bias=True)\n",
              "  (1): Linear(in_features=14, out_features=9, bias=True)\n",
              "  (2): Linear(in_features=19, out_features=8, bias=True)\n",
              ")"
            ]
          },
          "metadata": {},
          "execution_count": 4
        }
      ]
    },
    {
      "cell_type": "code",
      "source": [
        "# print the sizes of the weight matrices in each layer\n",
        "for i in range(len(M2)):\n",
        "    print(M2[i].weight.shape)"
      ],
      "metadata": {
        "colab": {
          "base_uri": "https://localhost:8080/"
        },
        "id": "RHkQaDUnDe6o",
        "outputId": "3a368315-3aa3-4dd1-fae4-e2a5aa70c997"
      },
      "execution_count": 5,
      "outputs": [
        {
          "output_type": "stream",
          "name": "stdout",
          "text": [
            "torch.Size([14, 10])\n",
            "torch.Size([9, 14])\n",
            "torch.Size([8, 19])\n"
          ]
        }
      ]
    },
    {
      "cell_type": "markdown",
      "source": [
        "### Test both models with fake data"
      ],
      "metadata": {
        "id": "4gght-iGDtBS"
      }
    },
    {
      "cell_type": "code",
      "source": [
        "# generate the data\n",
        "nsamples = 5\n",
        "nfeatures = 10\n",
        "fakedata = torch.randn(nsamples, nfeatures)\n",
        "fakedata"
      ],
      "metadata": {
        "colab": {
          "base_uri": "https://localhost:8080/"
        },
        "id": "TVvoS9kqDoQR",
        "outputId": "662e58bc-eeb2-4237-91c8-96cb77144620"
      },
      "execution_count": 6,
      "outputs": [
        {
          "output_type": "execute_result",
          "data": {
            "text/plain": [
              "tensor([[ 0.7558,  2.2811, -0.4910, -1.2421, -0.7707, -0.5284,  0.3531, -0.2226,\n",
              "          0.1212,  0.3177],\n",
              "        [-1.5399, -0.7987, -0.1539,  0.8338, -0.1644,  0.8212, -1.4080, -1.9678,\n",
              "          0.0192,  1.8676],\n",
              "        [ 0.8841, -1.4054,  0.0936, -0.7689, -0.7687, -0.4409,  0.2208, -1.8608,\n",
              "          0.3293, -0.0167],\n",
              "        [-0.1972, -2.1446, -0.8011, -2.0125,  0.8249,  1.0730, -0.9423, -0.3212,\n",
              "         -0.5166,  0.6930],\n",
              "        [-1.0528, -0.2229, -0.3939, -0.1080, -0.6102, -1.4466,  0.0595, -0.2417,\n",
              "          0.9306, -1.1521]])"
            ]
          },
          "metadata": {},
          "execution_count": 6
        }
      ]
    },
    {
      "cell_type": "code",
      "source": [
        "# Test the first model\n",
        "aModel(fakedata).shape"
      ],
      "metadata": {
        "colab": {
          "base_uri": "https://localhost:8080/"
        },
        "id": "YBW4SrU6EAE-",
        "outputId": "7cd27ffb-fac2-407f-ba31-94c9258d06c0"
      },
      "execution_count": 7,
      "outputs": [
        {
          "output_type": "execute_result",
          "data": {
            "text/plain": [
              "torch.Size([5, 8])"
            ]
          },
          "metadata": {},
          "execution_count": 7
        }
      ]
    },
    {
      "cell_type": "code",
      "source": [
        "# Test the second model: It will fail!\n",
        "# M2(fakedata).shape"
      ],
      "metadata": {
        "id": "2-k-HPO0EN_J"
      },
      "execution_count": 8,
      "outputs": []
    }
  ]
}