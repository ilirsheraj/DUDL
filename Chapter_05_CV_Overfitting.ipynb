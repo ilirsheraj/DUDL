{
  "nbformat": 4,
  "nbformat_minor": 0,
  "metadata": {
    "colab": {
      "name": "Chapter_05_CV_Overfitting.ipynb",
      "provenance": [],
      "collapsed_sections": [],
      "authorship_tag": "ABX9TyMBBYEXmRv5937z2qvcpgMW",
      "include_colab_link": true
    },
    "kernelspec": {
      "name": "python3",
      "display_name": "Python 3"
    },
    "language_info": {
      "name": "python"
    }
  },
  "cells": [
    {
      "cell_type": "markdown",
      "metadata": {
        "id": "view-in-github",
        "colab_type": "text"
      },
      "source": [
        "<a href=\"https://colab.research.google.com/github/ilirsheraj/DUDL/blob/main/Chapter_05_CV_Overfitting.ipynb\" target=\"_parent\"><img src=\"https://colab.research.google.com/assets/colab-badge.svg\" alt=\"Open In Colab\"/></a>"
      ]
    },
    {
      "cell_type": "code",
      "execution_count": 19,
      "metadata": {
        "id": "uzaoX-C09GaL"
      },
      "outputs": [],
      "source": [
        "# Import the necessary libraries\n",
        "import torch\n",
        "import torch.nn as nn\n",
        "import numpy as np\n",
        "import seaborn as sns\n",
        "import matplotlib.pyplot as plt\n",
        "from sklearn.model_selection import train_test_split"
      ]
    },
    {
      "cell_type": "markdown",
      "source": [
        "## Manual Separation for Cross-Validation"
      ],
      "metadata": {
        "id": "-60I-uLX-ZgE"
      }
    },
    {
      "cell_type": "code",
      "source": [
        "iris = sns.load_dataset(\"iris\")\n",
        "iris.head()"
      ],
      "metadata": {
        "colab": {
          "base_uri": "https://localhost:8080/",
          "height": 206
        },
        "id": "KPvl-PJ5-fmx",
        "outputId": "458a1d25-6b68-449a-dc7c-a0859b545a32"
      },
      "execution_count": 2,
      "outputs": [
        {
          "output_type": "execute_result",
          "data": {
            "text/plain": [
              "   sepal_length  sepal_width  petal_length  petal_width species\n",
              "0           5.1          3.5           1.4          0.2  setosa\n",
              "1           4.9          3.0           1.4          0.2  setosa\n",
              "2           4.7          3.2           1.3          0.2  setosa\n",
              "3           4.6          3.1           1.5          0.2  setosa\n",
              "4           5.0          3.6           1.4          0.2  setosa"
            ],
            "text/html": [
              "\n",
              "  <div id=\"df-66af2082-4031-4d32-bb3e-e34624620b75\">\n",
              "    <div class=\"colab-df-container\">\n",
              "      <div>\n",
              "<style scoped>\n",
              "    .dataframe tbody tr th:only-of-type {\n",
              "        vertical-align: middle;\n",
              "    }\n",
              "\n",
              "    .dataframe tbody tr th {\n",
              "        vertical-align: top;\n",
              "    }\n",
              "\n",
              "    .dataframe thead th {\n",
              "        text-align: right;\n",
              "    }\n",
              "</style>\n",
              "<table border=\"1\" class=\"dataframe\">\n",
              "  <thead>\n",
              "    <tr style=\"text-align: right;\">\n",
              "      <th></th>\n",
              "      <th>sepal_length</th>\n",
              "      <th>sepal_width</th>\n",
              "      <th>petal_length</th>\n",
              "      <th>petal_width</th>\n",
              "      <th>species</th>\n",
              "    </tr>\n",
              "  </thead>\n",
              "  <tbody>\n",
              "    <tr>\n",
              "      <th>0</th>\n",
              "      <td>5.1</td>\n",
              "      <td>3.5</td>\n",
              "      <td>1.4</td>\n",
              "      <td>0.2</td>\n",
              "      <td>setosa</td>\n",
              "    </tr>\n",
              "    <tr>\n",
              "      <th>1</th>\n",
              "      <td>4.9</td>\n",
              "      <td>3.0</td>\n",
              "      <td>1.4</td>\n",
              "      <td>0.2</td>\n",
              "      <td>setosa</td>\n",
              "    </tr>\n",
              "    <tr>\n",
              "      <th>2</th>\n",
              "      <td>4.7</td>\n",
              "      <td>3.2</td>\n",
              "      <td>1.3</td>\n",
              "      <td>0.2</td>\n",
              "      <td>setosa</td>\n",
              "    </tr>\n",
              "    <tr>\n",
              "      <th>3</th>\n",
              "      <td>4.6</td>\n",
              "      <td>3.1</td>\n",
              "      <td>1.5</td>\n",
              "      <td>0.2</td>\n",
              "      <td>setosa</td>\n",
              "    </tr>\n",
              "    <tr>\n",
              "      <th>4</th>\n",
              "      <td>5.0</td>\n",
              "      <td>3.6</td>\n",
              "      <td>1.4</td>\n",
              "      <td>0.2</td>\n",
              "      <td>setosa</td>\n",
              "    </tr>\n",
              "  </tbody>\n",
              "</table>\n",
              "</div>\n",
              "      <button class=\"colab-df-convert\" onclick=\"convertToInteractive('df-66af2082-4031-4d32-bb3e-e34624620b75')\"\n",
              "              title=\"Convert this dataframe to an interactive table.\"\n",
              "              style=\"display:none;\">\n",
              "        \n",
              "  <svg xmlns=\"http://www.w3.org/2000/svg\" height=\"24px\"viewBox=\"0 0 24 24\"\n",
              "       width=\"24px\">\n",
              "    <path d=\"M0 0h24v24H0V0z\" fill=\"none\"/>\n",
              "    <path d=\"M18.56 5.44l.94 2.06.94-2.06 2.06-.94-2.06-.94-.94-2.06-.94 2.06-2.06.94zm-11 1L8.5 8.5l.94-2.06 2.06-.94-2.06-.94L8.5 2.5l-.94 2.06-2.06.94zm10 10l.94 2.06.94-2.06 2.06-.94-2.06-.94-.94-2.06-.94 2.06-2.06.94z\"/><path d=\"M17.41 7.96l-1.37-1.37c-.4-.4-.92-.59-1.43-.59-.52 0-1.04.2-1.43.59L10.3 9.45l-7.72 7.72c-.78.78-.78 2.05 0 2.83L4 21.41c.39.39.9.59 1.41.59.51 0 1.02-.2 1.41-.59l7.78-7.78 2.81-2.81c.8-.78.8-2.07 0-2.86zM5.41 20L4 18.59l7.72-7.72 1.47 1.35L5.41 20z\"/>\n",
              "  </svg>\n",
              "      </button>\n",
              "      \n",
              "  <style>\n",
              "    .colab-df-container {\n",
              "      display:flex;\n",
              "      flex-wrap:wrap;\n",
              "      gap: 12px;\n",
              "    }\n",
              "\n",
              "    .colab-df-convert {\n",
              "      background-color: #E8F0FE;\n",
              "      border: none;\n",
              "      border-radius: 50%;\n",
              "      cursor: pointer;\n",
              "      display: none;\n",
              "      fill: #1967D2;\n",
              "      height: 32px;\n",
              "      padding: 0 0 0 0;\n",
              "      width: 32px;\n",
              "    }\n",
              "\n",
              "    .colab-df-convert:hover {\n",
              "      background-color: #E2EBFA;\n",
              "      box-shadow: 0px 1px 2px rgba(60, 64, 67, 0.3), 0px 1px 3px 1px rgba(60, 64, 67, 0.15);\n",
              "      fill: #174EA6;\n",
              "    }\n",
              "\n",
              "    [theme=dark] .colab-df-convert {\n",
              "      background-color: #3B4455;\n",
              "      fill: #D2E3FC;\n",
              "    }\n",
              "\n",
              "    [theme=dark] .colab-df-convert:hover {\n",
              "      background-color: #434B5C;\n",
              "      box-shadow: 0px 1px 3px 1px rgba(0, 0, 0, 0.15);\n",
              "      filter: drop-shadow(0px 1px 2px rgba(0, 0, 0, 0.3));\n",
              "      fill: #FFFFFF;\n",
              "    }\n",
              "  </style>\n",
              "\n",
              "      <script>\n",
              "        const buttonEl =\n",
              "          document.querySelector('#df-66af2082-4031-4d32-bb3e-e34624620b75 button.colab-df-convert');\n",
              "        buttonEl.style.display =\n",
              "          google.colab.kernel.accessAllowed ? 'block' : 'none';\n",
              "\n",
              "        async function convertToInteractive(key) {\n",
              "          const element = document.querySelector('#df-66af2082-4031-4d32-bb3e-e34624620b75');\n",
              "          const dataTable =\n",
              "            await google.colab.kernel.invokeFunction('convertToInteractive',\n",
              "                                                     [key], {});\n",
              "          if (!dataTable) return;\n",
              "\n",
              "          const docLinkHtml = 'Like what you see? Visit the ' +\n",
              "            '<a target=\"_blank\" href=https://colab.research.google.com/notebooks/data_table.ipynb>data table notebook</a>'\n",
              "            + ' to learn more about interactive tables.';\n",
              "          element.innerHTML = '';\n",
              "          dataTable['output_type'] = 'display_data';\n",
              "          await google.colab.output.renderOutput(dataTable, element);\n",
              "          const docLink = document.createElement('div');\n",
              "          docLink.innerHTML = docLinkHtml;\n",
              "          element.appendChild(docLink);\n",
              "        }\n",
              "      </script>\n",
              "    </div>\n",
              "  </div>\n",
              "  "
            ]
          },
          "metadata": {},
          "execution_count": 2
        }
      ]
    },
    {
      "cell_type": "code",
      "source": [
        "# Convert data from pandas dataframe to tensor\n",
        "data = torch.tensor(iris[iris.columns[0:4]].values).float()\n",
        "\n",
        "# transform species into numbers\n",
        "labels = torch.zeros(len(data), dtype=torch.long)\n",
        "\n",
        "# Labels for the species\n",
        "labels[iris.species == \"seosa\"] = 0\n",
        "labels[iris.species == \"versicolor\"] = 1\n",
        "labels[iris.species == \"virginica\"] = 2"
      ],
      "metadata": {
        "id": "cEwFlEXS-pCd"
      },
      "execution_count": 3,
      "outputs": []
    },
    {
      "cell_type": "code",
      "source": [
        "data[1:5,:]"
      ],
      "metadata": {
        "colab": {
          "base_uri": "https://localhost:8080/"
        },
        "id": "SxPe4sR__YKC",
        "outputId": "adf31ad2-1e8c-41d8-87c4-59f22bac9170"
      },
      "execution_count": 4,
      "outputs": [
        {
          "output_type": "execute_result",
          "data": {
            "text/plain": [
              "tensor([[4.9000, 3.0000, 1.4000, 0.2000],\n",
              "        [4.7000, 3.2000, 1.3000, 0.2000],\n",
              "        [4.6000, 3.1000, 1.5000, 0.2000],\n",
              "        [5.0000, 3.6000, 1.4000, 0.2000]])"
            ]
          },
          "metadata": {},
          "execution_count": 4
        }
      ]
    },
    {
      "cell_type": "code",
      "source": [
        "labels"
      ],
      "metadata": {
        "colab": {
          "base_uri": "https://localhost:8080/"
        },
        "id": "sVEUVoO5_dVU",
        "outputId": "7519b325-ef02-47d0-d434-a134be4efea1"
      },
      "execution_count": 5,
      "outputs": [
        {
          "output_type": "execute_result",
          "data": {
            "text/plain": [
              "tensor([0, 0, 0, 0, 0, 0, 0, 0, 0, 0, 0, 0, 0, 0, 0, 0, 0, 0, 0, 0, 0, 0, 0, 0,\n",
              "        0, 0, 0, 0, 0, 0, 0, 0, 0, 0, 0, 0, 0, 0, 0, 0, 0, 0, 0, 0, 0, 0, 0, 0,\n",
              "        0, 0, 1, 1, 1, 1, 1, 1, 1, 1, 1, 1, 1, 1, 1, 1, 1, 1, 1, 1, 1, 1, 1, 1,\n",
              "        1, 1, 1, 1, 1, 1, 1, 1, 1, 1, 1, 1, 1, 1, 1, 1, 1, 1, 1, 1, 1, 1, 1, 1,\n",
              "        1, 1, 1, 1, 2, 2, 2, 2, 2, 2, 2, 2, 2, 2, 2, 2, 2, 2, 2, 2, 2, 2, 2, 2,\n",
              "        2, 2, 2, 2, 2, 2, 2, 2, 2, 2, 2, 2, 2, 2, 2, 2, 2, 2, 2, 2, 2, 2, 2, 2,\n",
              "        2, 2, 2, 2, 2, 2])"
            ]
          },
          "metadata": {},
          "execution_count": 5
        }
      ]
    },
    {
      "cell_type": "markdown",
      "source": [
        "### Separate into Train and Test Set"
      ],
      "metadata": {
        "id": "eYCEwHxS_iv4"
      }
    },
    {
      "cell_type": "code",
      "source": [
        "# define the proportion of training set\n",
        "propTraining = 0.8\n",
        "nTraining = int(len(labels)*propTraining)\n",
        "\n",
        "# initialize a boolean vector to select data and their labels\n",
        "traintestBool = np.zeros(len(labels), dtype=bool)\n",
        "\n",
        "# One way to select samples\n",
        "traintestBool[range(nTraining)] = True\n",
        "\n",
        "traintestBool\n",
        "# Very bad way, picks almost exclussively the last category"
      ],
      "metadata": {
        "colab": {
          "base_uri": "https://localhost:8080/"
        },
        "id": "WXHFvzAi_mcH",
        "outputId": "0ee8f6d1-e1ca-4c0c-86bf-2c57076f662c"
      },
      "execution_count": 6,
      "outputs": [
        {
          "output_type": "execute_result",
          "data": {
            "text/plain": [
              "array([ True,  True,  True,  True,  True,  True,  True,  True,  True,\n",
              "        True,  True,  True,  True,  True,  True,  True,  True,  True,\n",
              "        True,  True,  True,  True,  True,  True,  True,  True,  True,\n",
              "        True,  True,  True,  True,  True,  True,  True,  True,  True,\n",
              "        True,  True,  True,  True,  True,  True,  True,  True,  True,\n",
              "        True,  True,  True,  True,  True,  True,  True,  True,  True,\n",
              "        True,  True,  True,  True,  True,  True,  True,  True,  True,\n",
              "        True,  True,  True,  True,  True,  True,  True,  True,  True,\n",
              "        True,  True,  True,  True,  True,  True,  True,  True,  True,\n",
              "        True,  True,  True,  True,  True,  True,  True,  True,  True,\n",
              "        True,  True,  True,  True,  True,  True,  True,  True,  True,\n",
              "        True,  True,  True,  True,  True,  True,  True,  True,  True,\n",
              "        True,  True,  True,  True,  True,  True,  True,  True,  True,\n",
              "        True,  True,  True, False, False, False, False, False, False,\n",
              "       False, False, False, False, False, False, False, False, False,\n",
              "       False, False, False, False, False, False, False, False, False,\n",
              "       False, False, False, False, False, False])"
            ]
          },
          "metadata": {},
          "execution_count": 6
        }
      ]
    },
    {
      "cell_type": "code",
      "source": [
        "# Test data balance\n",
        "# remember, data were labeled as 0, 1 and 2. Average always expected to be 1\n",
        "print(\"Average of full data\")\n",
        "print(torch.mean(labels.float()))\n",
        "print()\n",
        "\n",
        "print(\"Average of Training Data\")\n",
        "print(torch.mean(labels[traintestBool].float()))\n",
        "print()\n",
        "\n",
        "print(\"Average of Test Data\")\n",
        "print(torch.mean(labels[~traintestBool].float()))"
      ],
      "metadata": {
        "colab": {
          "base_uri": "https://localhost:8080/"
        },
        "id": "JwRdPeCvAlTT",
        "outputId": "9a5d3d6e-1d16-457d-a856-670a6bb62450"
      },
      "execution_count": 7,
      "outputs": [
        {
          "output_type": "stream",
          "name": "stdout",
          "text": [
            "Average of full data\n",
            "tensor(1.)\n",
            "\n",
            "Average of Training Data\n",
            "tensor(0.7500)\n",
            "\n",
            "Average of Test Data\n",
            "tensor(2.)\n"
          ]
        }
      ]
    },
    {
      "cell_type": "code",
      "source": [
        "# A better way to separate the dataset\n",
        "traintestBool = np.zeros(len(labels), dtype=bool)\n",
        "items2use4train = np.random.choice(range(len(labels)),nTraining, replace=False)\n",
        "traintestBool[items2use4train] = True\n",
        "traintestBool"
      ],
      "metadata": {
        "colab": {
          "base_uri": "https://localhost:8080/"
        },
        "id": "uqqUBYbTByQJ",
        "outputId": "3275f72c-88b1-4b0c-b701-098dc34befc4"
      },
      "execution_count": 10,
      "outputs": [
        {
          "output_type": "execute_result",
          "data": {
            "text/plain": [
              "array([ True,  True, False,  True,  True,  True,  True, False,  True,\n",
              "       False,  True, False, False,  True, False,  True,  True,  True,\n",
              "        True,  True,  True, False,  True,  True, False,  True,  True,\n",
              "        True,  True,  True,  True,  True,  True,  True,  True, False,\n",
              "        True,  True,  True,  True,  True, False,  True,  True,  True,\n",
              "        True, False,  True,  True,  True,  True,  True,  True, False,\n",
              "        True,  True, False,  True,  True,  True, False,  True,  True,\n",
              "        True,  True,  True, False,  True,  True, False,  True,  True,\n",
              "        True,  True,  True,  True, False, False,  True,  True,  True,\n",
              "       False,  True, False, False,  True,  True,  True,  True,  True,\n",
              "        True,  True, False,  True,  True, False, False,  True,  True,\n",
              "        True,  True,  True,  True, False,  True,  True,  True,  True,\n",
              "       False,  True,  True,  True,  True, False,  True, False,  True,\n",
              "        True,  True,  True,  True,  True, False,  True,  True,  True,\n",
              "        True,  True,  True,  True, False,  True,  True,  True,  True,\n",
              "        True,  True,  True,  True,  True,  True,  True,  True,  True,\n",
              "        True,  True,  True,  True,  True,  True])"
            ]
          },
          "metadata": {},
          "execution_count": 10
        }
      ]
    },
    {
      "cell_type": "code",
      "source": [
        "# Now check the balance\n",
        "print(\"Average of full data\")\n",
        "print(torch.mean(labels.float()))\n",
        "print()\n",
        "\n",
        "print(\"Average of Training Data\")\n",
        "print(torch.mean(labels[traintestBool].float()))\n",
        "print()\n",
        "\n",
        "print(\"Average of Test Data\")\n",
        "print(torch.mean(labels[~traintestBool].float()))"
      ],
      "metadata": {
        "colab": {
          "base_uri": "https://localhost:8080/"
        },
        "id": "SQi7P_SfCtd7",
        "outputId": "ef5c46c7-831a-4e9b-b18d-c513e46a3430"
      },
      "execution_count": 11,
      "outputs": [
        {
          "output_type": "stream",
          "name": "stdout",
          "text": [
            "Average of full data\n",
            "tensor(1.)\n",
            "\n",
            "Average of Training Data\n",
            "tensor(1.0417)\n",
            "\n",
            "Average of Test Data\n",
            "tensor(0.8333)\n"
          ]
        }
      ]
    },
    {
      "cell_type": "code",
      "source": [
        "# Create the ANN Model\n",
        "ANNiris = nn.Sequential(\n",
        "    nn.Linear(4,64),\n",
        "    nn.ReLU(),\n",
        "    nn.Linear(64,64),\n",
        "    nn.ReLU(),\n",
        "    nn.Linear(64,3),\n",
        "    )\n",
        "\n",
        "# loss function\n",
        "lossfun = nn.CrossEntropyLoss()\n",
        "\n",
        "# optimizer\n",
        "optimizer = torch.optim.SGD(ANNiris.parameters(), lr=0.01)"
      ],
      "metadata": {
        "id": "gEDfXzOIC7dd"
      },
      "execution_count": 12,
      "outputs": []
    },
    {
      "cell_type": "code",
      "source": [
        "# Check data shape\n",
        "# Entire dataset\n",
        "print(data.shape)\n",
        "print()\n",
        "\n",
        "# Training Data\n",
        "print(data[traintestBool,:].shape)\n",
        "print()\n",
        "\n",
        "# test set\n",
        "print(data[~traintestBool, :].shape)"
      ],
      "metadata": {
        "colab": {
          "base_uri": "https://localhost:8080/"
        },
        "id": "gER7e-dpDp5m",
        "outputId": "d98d5b2f-d006-439f-cc52-b71530efe043"
      },
      "execution_count": 14,
      "outputs": [
        {
          "output_type": "stream",
          "name": "stdout",
          "text": [
            "torch.Size([150, 4])\n",
            "\n",
            "torch.Size([120, 4])\n",
            "\n",
            "torch.Size([30, 4])\n"
          ]
        }
      ]
    },
    {
      "cell_type": "code",
      "source": [
        "# Train the model\n",
        "numepochs = 1000\n",
        "\n",
        "losses = torch.zeros(numepochs)\n",
        "ongoingAcc = []\n",
        "\n",
        "for epochi in range(numepochs):\n",
        "\n",
        "    # forwad pass\n",
        "    yHat = ANNiris(data[traintestBool,:])\n",
        "\n",
        "    # Copute accuracy\n",
        "    ongoingAcc.append(100*torch.mean((\n",
        "        torch.argmax(yHat,axis=1) == labels[traintestBool]).float()))\n",
        "    \n",
        "    # Compute loss\n",
        "    loss = lossfun(yHat, labels[traintestBool])\n",
        "    losses[epochi] = loss\n",
        "\n",
        "    # Backpropagation\n",
        "    optimizer.zero_grad()\n",
        "    loss.backward()\n",
        "    optimizer.step()"
      ],
      "metadata": {
        "id": "7aG-3OWzEIpI"
      },
      "execution_count": 15,
      "outputs": []
    },
    {
      "cell_type": "code",
      "source": [
        "# Compute train and test accuracies\n",
        "\n",
        "# Final forward pass using training data\n",
        "predictions = ANNiris(data[traintestBool,:])\n",
        "trainacc = 100*torch.mean((torch.argmax(predictions,axis=1)==labels[traintestBool]).float())\n",
        "\n",
        "# Final forward pass using test data\n",
        "predictions = ANNiris(data[~traintestBool,:])\n",
        "testacc = 100*torch.mean((torch.argmax(predictions,axis=1)==labels[~traintestBool]).float())"
      ],
      "metadata": {
        "id": "uWzPgaj8FrKG"
      },
      "execution_count": 16,
      "outputs": []
    },
    {
      "cell_type": "code",
      "source": [
        "print(\"Final train accuracy is {:.3f}%\".format(trainacc))\n",
        "print()\n",
        "print(\"Final test accuracy is {:.3f}%\".format(testacc))"
      ],
      "metadata": {
        "colab": {
          "base_uri": "https://localhost:8080/"
        },
        "id": "BlwZrP4-Gbh4",
        "outputId": "f916d2d6-f6bb-44ad-9081-9b2bebe470a4"
      },
      "execution_count": 17,
      "outputs": [
        {
          "output_type": "stream",
          "name": "stdout",
          "text": [
            "Final train accuracy is 98.333%\n",
            "\n",
            "Final test accuracy is 93.333%\n"
          ]
        }
      ]
    },
    {
      "cell_type": "code",
      "source": [
        "# Loss by epoch\n",
        "fig, ax = plt.subplots(1,2,figsize=(12,4))\n",
        "\n",
        "ax[0].plot(losses.detach())\n",
        "ax[0].set_ylabel(\"Loss\")\n",
        "ax[0].set_xlabel(\"Epoch\")\n",
        "ax[0].set_title(\"Losses per epoch\")\n",
        "\n",
        "ax[1].plot(ongoingAcc)\n",
        "ax[1].set_ylabel(\"Accuracy\")\n",
        "ax[1].set_xlabel(\"Epoch\")\n",
        "ax[1].set_title(\"Accuracy per Epoch\")\n",
        "\n",
        "plt.show()"
      ],
      "metadata": {
        "colab": {
          "base_uri": "https://localhost:8080/",
          "height": 295
        },
        "id": "MZP7NPQFG_7T",
        "outputId": "de589256-a882-4246-a8d7-fbb92b6776ba"
      },
      "execution_count": 18,
      "outputs": [
        {
          "output_type": "display_data",
          "data": {
            "text/plain": [
              "<Figure size 864x288 with 2 Axes>"
            ],
            "image/png": "[encoded data removed]"
          },
          "metadata": {
            "needs_background": "light"
          }
        }
      ]
    },
    {
      "cell_type": "markdown",
      "source": [
        "## Cross-Validation with Scikitlearn"
      ],
      "metadata": {
        "id": "jE78ZSjtlUQS"
      }
    },
    {
      "cell_type": "code",
      "source": [
        "# How to use the train-test split\n",
        "fakedata = np.tile(np.array([1,2,3,4]),(10,1)) + np.tile(10*np.arange(1,11),(4,1)).T\n",
        "fakelabels = np.arange(10)>4\n",
        "print(fakedata)\n",
        "print()\n",
        "print(fakelabels)"
      ],
      "metadata": {
        "colab": {
          "base_uri": "https://localhost:8080/"
        },
        "id": "KkA7Zol1lcVj",
        "outputId": "c9cabcf5-090c-447f-9762-4d693dc96549"
      },
      "execution_count": 25,
      "outputs": [
        {
          "output_type": "stream",
          "name": "stdout",
          "text": [
            "[[ 11  12  13  14]\n",
            " [ 21  22  23  24]\n",
            " [ 31  32  33  34]\n",
            " [ 41  42  43  44]\n",
            " [ 51  52  53  54]\n",
            " [ 61  62  63  64]\n",
            " [ 71  72  73  74]\n",
            " [ 81  82  83  84]\n",
            " [ 91  92  93  94]\n",
            " [101 102 103 104]]\n",
            "\n",
            "[False False False False False  True  True  True  True  True]\n"
          ]
        }
      ]
    },
    {
      "cell_type": "code",
      "source": [
        "# Use sikitlearn to split the data\n",
        "train_data, test_data, train_labels, test_labels = train_test_split(fakedata, fakelabels, test_size=0.2)\n",
        "\n",
        "# Note the third parameter: it can be specified as test size or train size\n",
        "# Read carefully\n",
        "\n",
        "# print out the sizes\n",
        "print(\"Train data size: {}\".format(train_data.shape))\n",
        "print()\n",
        "print(\"Test data size: {}\".format(test_data.shape))\n",
        "\n",
        "# Print out the train/test data\n",
        "print(\"Training Data:\")\n",
        "print(train_data)\n",
        "print()\n",
        "print(\"Test Data:\")\n",
        "print(test_data)\n",
        "# Randomizing the order of the rows (shuffle = True by default) and train/testing data"
      ],
      "metadata": {
        "colab": {
          "base_uri": "https://localhost:8080/"
        },
        "id": "mXL-xlaLpUma",
        "outputId": "b8f8044a-1ae9-4312-da9e-316430f731dd"
      },
      "execution_count": 30,
      "outputs": [
        {
          "output_type": "stream",
          "name": "stdout",
          "text": [
            "Train data size: (8, 4)\n",
            "\n",
            "Test data size: (2, 4)\n",
            "Training Data:\n",
            "[[101 102 103 104]\n",
            " [ 91  92  93  94]\n",
            " [ 11  12  13  14]\n",
            " [ 81  82  83  84]\n",
            " [ 61  62  63  64]\n",
            " [ 31  32  33  34]\n",
            " [ 41  42  43  44]\n",
            " [ 21  22  23  24]]\n",
            "\n",
            "Test Data:\n",
            "[[71 72 73 74]\n",
            " [51 52 53 54]]\n"
          ]
        }
      ]
    },
    {
      "cell_type": "code",
      "source": [
        "# Define the model\n",
        "def createANewModel():\n",
        "\n",
        "    # Define model architecture\n",
        "    ANNiris = nn.Sequential(\n",
        "        nn.Linear(4,64),\n",
        "        nn.ReLU(),\n",
        "        nn.Linear(64,64),\n",
        "        nn.ReLU(),\n",
        "        nn.Linear(64,3),\n",
        "        )\n",
        "    \n",
        "    # Loss function\n",
        "    lossfun = nn.CrossEntropyLoss()\n",
        "\n",
        "    # Optimizer\n",
        "    optimizer = torch.optim.SGD(ANNiris.parameters(), lr = 0.01)\n",
        "\n",
        "    return ANNiris, lossfun, optimizer"
      ],
      "metadata": {
        "id": "UyND0byerHgw"
      },
      "execution_count": 40,
      "outputs": []
    },
    {
      "cell_type": "code",
      "source": [
        "# Define function to train the model\n",
        "\n",
        "numepochs = 200\n",
        "def trainTheModel(trainProp):\n",
        "\n",
        "    # separate train from test data\n",
        "    X_train, X_test, y_train, y_test = train_test_split(data, labels, train_size=trainProp)\n",
        "\n",
        "    # Initialize losses\n",
        "    losses = torch.zeros(numepochs)\n",
        "    trainAcc = []\n",
        "    testAcc = []\n",
        "\n",
        "    # Loop overr the epochs\n",
        "    for epochi in range(numepochs):\n",
        "\n",
        "\n",
        "        # Forward pass and loss\n",
        "        yHat = ANNiris(X_train)\n",
        "        loss = lossfun(yHat, y_train)\n",
        "\n",
        "        # Back Propagation\n",
        "        optimizer.zero_grad()\n",
        "        loss.backward()\n",
        "        optimizer.step()\n",
        "\n",
        "        # Compute the training accuracy\n",
        "        trainAcc.append(100*torch.mean((torch.argmax(yHat,axis=1)==y_train).float()).item())\n",
        "\n",
        "        # test accuracy\n",
        "        predlabels = torch.argmax(ANNiris(X_test), axis=1)\n",
        "        testAcc.append(100*torch.mean((predlabels == y_test).float()).item())\n",
        "\n",
        "    return trainAcc, testAcc"
      ],
      "metadata": {
        "id": "I71ewkWmvIld"
      },
      "execution_count": 41,
      "outputs": []
    },
    {
      "cell_type": "code",
      "source": [
        "# Run the mmodel once to make sure its working\n",
        "ANNiris, lossfun, optimizer = createANewModel()\n",
        "\n",
        "# Train it\n",
        "trainAcc, testAcc = trainTheModel(0.8)"
      ],
      "metadata": {
        "id": "MRvsW3hu0EIW"
      },
      "execution_count": 42,
      "outputs": []
    },
    {
      "cell_type": "code",
      "source": [
        "# Plot the results\n",
        "fir = plt.figure(figsize=(10,5))\n",
        "plt.plot(trainAcc, \"ro\")\n",
        "plt.plot(testAcc, \"bs\")\n",
        "plt.xlabel(\"Epochs\")\n",
        "plt.ylabel(\"Accuracy (%)\")\n",
        "plt.legend([\"Train\", \"Test\"])\n",
        "plt.show()"
      ],
      "metadata": {
        "colab": {
          "base_uri": "https://localhost:8080/",
          "height": 334
        },
        "id": "pXnggsZd1N_b",
        "outputId": "c68a8cfb-999a-4ae1-d45c-68d0036c9729"
      },
      "execution_count": 43,
      "outputs": [
        {
          "output_type": "display_data",
          "data": {
            "text/plain": [
              "<Figure size 720x360 with 1 Axes>"
            ],
            "image/png": "[encoded data removed]"
          },
          "metadata": {
            "needs_background": "light"
          }
        }
      ]
    },
    {
      "cell_type": "code",
      "source": [
        "print(trainAcc[-1])\n",
        "print()\n",
        "print(testAcc[-1])"
      ],
      "metadata": {
        "colab": {
          "base_uri": "https://localhost:8080/"
        },
        "id": "zdgP5FMu1rof",
        "outputId": "9258f5bd-b555-40da-be5d-cd3dacfb4f6b"
      },
      "execution_count": 44,
      "outputs": [
        {
          "output_type": "stream",
          "name": "stdout",
          "text": [
            "90.83333611488342\n",
            "\n",
            "83.33333134651184\n"
          ]
        }
      ]
    },
    {
      "cell_type": "code",
      "source": [
        "trainSetSizes = np.linspace(0.2, 0.95, 10)\n",
        "\n",
        "allTrainAcc = np.zeros((len(trainSetSizes), numepochs))\n",
        "allTestAcc = np.zeros((len(trainSetSizes), numepochs))\n",
        "\n",
        "for i in range(len(trainSetSizes)):\n",
        "    # Create the model\n",
        "    ANNiris, lossfun, optimizer = createANewModel()\n",
        "\n",
        "    # Train the model\n",
        "    trainAcc, testAcc = trainTheModel(trainSetSizes[i])\n",
        "\n",
        "    # store\n",
        "    allTrainAcc[i,:] = trainAcc\n",
        "    allTestAcc[i,:] = testAcc"
      ],
      "metadata": {
        "id": "wXiZlyTi2I1D"
      },
      "execution_count": 45,
      "outputs": []
    },
    {
      "cell_type": "code",
      "source": [
        "# Plot the stuff\n",
        "fig,ax = plt.subplots(1,2, figsize=(13,5))\n",
        "ax[0].imshow(allTrainAcc, aspect=\"auto\", vmin=50, vmax=90,\n",
        "             extent=[0,numepochs,trainSetSizes[-1], trainSetSizes[0]])\n",
        "ax[0].set_xlabel(\"Epochs\")\n",
        "ax[0].set_ylabel(\"Train Size Proportion\")\n",
        "ax[0].set_title(\"Training Accuracy\")\n",
        "\n",
        "p = ax[1].imshow(allTestAcc, aspect=\"auto\", vmin=50, vmax=90,\n",
        "             extent=[0,numepochs,trainSetSizes[-1], trainSetSizes[0]])\n",
        "ax[1].set_xlabel(\"Epochs\")\n",
        "ax[1].set_ylabel(\"Train Size Proportion\")\n",
        "ax[1].set_title(\"Test Accuracy\")\n",
        "fig.colorbar(p, ax=ax[1])\n",
        "plt.show()"
      ],
      "metadata": {
        "colab": {
          "base_uri": "https://localhost:8080/",
          "height": 350
        },
        "id": "JZVIKBcB22Yn",
        "outputId": "f6b0c3e9-6a98-4e1f-ad92-8c1112cf94ed"
      },
      "execution_count": 50,
      "outputs": [
        {
          "output_type": "display_data",
          "data": {
            "text/plain": [
              "<Figure size 936x360 with 3 Axes>"
            ],
            "image/png": "[encoded data removed]"
          },
          "metadata": {
            "needs_background": "light"
          }
        }
      ]
    }
  ]
}