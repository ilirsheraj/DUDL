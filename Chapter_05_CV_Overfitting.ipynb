{
  "nbformat": 4,
  "nbformat_minor": 0,
  "metadata": {
    "colab": {
      "provenance": [],
      "authorship_tag": "ABX9TyNwA1+fC3YUY8kFiUO3wQ0k",
      "include_colab_link": true
    },
    "kernelspec": {
      "name": "python3",
      "display_name": "Python 3"
    },
    "language_info": {
      "name": "python"
    }
  },
  "cells": [
    {
      "cell_type": "markdown",
      "metadata": {
        "id": "view-in-github",
        "colab_type": "text"
      },
      "source": [
        "<a href=\"https://colab.research.google.com/github/ilirsheraj/DUDL/blob/main/Chapter_05_CV_Overfitting.ipynb\" target=\"_parent\"><img src=\"https://colab.research.google.com/assets/colab-badge.svg\" alt=\"Open In Colab\"/></a>"
      ]
    },
    {
      "cell_type": "code",
      "execution_count": 1,
      "metadata": {
        "id": "uzaoX-C09GaL"
      },
      "outputs": [],
      "source": [
        "# Import the necessary libraries\n",
        "import torch\n",
        "import torch.nn as nn\n",
        "import numpy as np\n",
        "import seaborn as sns\n",
        "import matplotlib.pyplot as plt\n",
        "\n",
        "# splitting train test with sklearn\n",
        "from sklearn.model_selection import train_test_split\n",
        "\n",
        "# DataLoader\n",
        "from torch.utils.data import DataLoader"
      ]
    },
    {
      "cell_type": "markdown",
      "source": [
        "## Manual Separation for Cross-Validation"
      ],
      "metadata": {
        "id": "-60I-uLX-ZgE"
      }
    },
    {
      "cell_type": "code",
      "source": [
        "iris = sns.load_dataset(\"iris\")\n",
        "iris.head()"
      ],
      "metadata": {
        "colab": {
          "base_uri": "https://localhost:8080/",
          "height": 206
        },
        "id": "KPvl-PJ5-fmx",
        "outputId": "e0816120-7821-4840-d346-9bc8fefe7541"
      },
      "execution_count": 2,
      "outputs": [
        {
          "output_type": "execute_result",
          "data": {
            "text/plain": [
              "   sepal_length  sepal_width  petal_length  petal_width species\n",
              "0           5.1          3.5           1.4          0.2  setosa\n",
              "1           4.9          3.0           1.4          0.2  setosa\n",
              "2           4.7          3.2           1.3          0.2  setosa\n",
              "3           4.6          3.1           1.5          0.2  setosa\n",
              "4           5.0          3.6           1.4          0.2  setosa"
            ],
            "text/html": [
              "\n",
              "  <div id=\"df-94460884-b805-41f1-b95b-6a39bafdd932\">\n",
              "    <div class=\"colab-df-container\">\n",
              "      <div>\n",
              "<style scoped>\n",
              "    .dataframe tbody tr th:only-of-type {\n",
              "        vertical-align: middle;\n",
              "    }\n",
              "\n",
              "    .dataframe tbody tr th {\n",
              "        vertical-align: top;\n",
              "    }\n",
              "\n",
              "    .dataframe thead th {\n",
              "        text-align: right;\n",
              "    }\n",
              "</style>\n",
              "<table border=\"1\" class=\"dataframe\">\n",
              "  <thead>\n",
              "    <tr style=\"text-align: right;\">\n",
              "      <th></th>\n",
              "      <th>sepal_length</th>\n",
              "      <th>sepal_width</th>\n",
              "      <th>petal_length</th>\n",
              "      <th>petal_width</th>\n",
              "      <th>species</th>\n",
              "    </tr>\n",
              "  </thead>\n",
              "  <tbody>\n",
              "    <tr>\n",
              "      <th>0</th>\n",
              "      <td>5.1</td>\n",
              "      <td>3.5</td>\n",
              "      <td>1.4</td>\n",
              "      <td>0.2</td>\n",
              "      <td>setosa</td>\n",
              "    </tr>\n",
              "    <tr>\n",
              "      <th>1</th>\n",
              "      <td>4.9</td>\n",
              "      <td>3.0</td>\n",
              "      <td>1.4</td>\n",
              "      <td>0.2</td>\n",
              "      <td>setosa</td>\n",
              "    </tr>\n",
              "    <tr>\n",
              "      <th>2</th>\n",
              "      <td>4.7</td>\n",
              "      <td>3.2</td>\n",
              "      <td>1.3</td>\n",
              "      <td>0.2</td>\n",
              "      <td>setosa</td>\n",
              "    </tr>\n",
              "    <tr>\n",
              "      <th>3</th>\n",
              "      <td>4.6</td>\n",
              "      <td>3.1</td>\n",
              "      <td>1.5</td>\n",
              "      <td>0.2</td>\n",
              "      <td>setosa</td>\n",
              "    </tr>\n",
              "    <tr>\n",
              "      <th>4</th>\n",
              "      <td>5.0</td>\n",
              "      <td>3.6</td>\n",
              "      <td>1.4</td>\n",
              "      <td>0.2</td>\n",
              "      <td>setosa</td>\n",
              "    </tr>\n",
              "  </tbody>\n",
              "</table>\n",
              "</div>\n",
              "      <button class=\"colab-df-convert\" onclick=\"convertToInteractive('df-94460884-b805-41f1-b95b-6a39bafdd932')\"\n",
              "              title=\"Convert this dataframe to an interactive table.\"\n",
              "              style=\"display:none;\">\n",
              "        \n",
              "  <svg xmlns=\"http://www.w3.org/2000/svg\" height=\"24px\"viewBox=\"0 0 24 24\"\n",
              "       width=\"24px\">\n",
              "    <path d=\"M0 0h24v24H0V0z\" fill=\"none\"/>\n",
              "    <path d=\"M18.56 5.44l.94 2.06.94-2.06 2.06-.94-2.06-.94-.94-2.06-.94 2.06-2.06.94zm-11 1L8.5 8.5l.94-2.06 2.06-.94-2.06-.94L8.5 2.5l-.94 2.06-2.06.94zm10 10l.94 2.06.94-2.06 2.06-.94-2.06-.94-.94-2.06-.94 2.06-2.06.94z\"/><path d=\"M17.41 7.96l-1.37-1.37c-.4-.4-.92-.59-1.43-.59-.52 0-1.04.2-1.43.59L10.3 9.45l-7.72 7.72c-.78.78-.78 2.05 0 2.83L4 21.41c.39.39.9.59 1.41.59.51 0 1.02-.2 1.41-.59l7.78-7.78 2.81-2.81c.8-.78.8-2.07 0-2.86zM5.41 20L4 18.59l7.72-7.72 1.47 1.35L5.41 20z\"/>\n",
              "  </svg>\n",
              "      </button>\n",
              "      \n",
              "  <style>\n",
              "    .colab-df-container {\n",
              "      display:flex;\n",
              "      flex-wrap:wrap;\n",
              "      gap: 12px;\n",
              "    }\n",
              "\n",
              "    .colab-df-convert {\n",
              "      background-color: #E8F0FE;\n",
              "      border: none;\n",
              "      border-radius: 50%;\n",
              "      cursor: pointer;\n",
              "      display: none;\n",
              "      fill: #1967D2;\n",
              "      height: 32px;\n",
              "      padding: 0 0 0 0;\n",
              "      width: 32px;\n",
              "    }\n",
              "\n",
              "    .colab-df-convert:hover {\n",
              "      background-color: #E2EBFA;\n",
              "      box-shadow: 0px 1px 2px rgba(60, 64, 67, 0.3), 0px 1px 3px 1px rgba(60, 64, 67, 0.15);\n",
              "      fill: #174EA6;\n",
              "    }\n",
              "\n",
              "    [theme=dark] .colab-df-convert {\n",
              "      background-color: #3B4455;\n",
              "      fill: #D2E3FC;\n",
              "    }\n",
              "\n",
              "    [theme=dark] .colab-df-convert:hover {\n",
              "      background-color: #434B5C;\n",
              "      box-shadow: 0px 1px 3px 1px rgba(0, 0, 0, 0.15);\n",
              "      filter: drop-shadow(0px 1px 2px rgba(0, 0, 0, 0.3));\n",
              "      fill: #FFFFFF;\n",
              "    }\n",
              "  </style>\n",
              "\n",
              "      <script>\n",
              "        const buttonEl =\n",
              "          document.querySelector('#df-94460884-b805-41f1-b95b-6a39bafdd932 button.colab-df-convert');\n",
              "        buttonEl.style.display =\n",
              "          google.colab.kernel.accessAllowed ? 'block' : 'none';\n",
              "\n",
              "        async function convertToInteractive(key) {\n",
              "          const element = document.querySelector('#df-94460884-b805-41f1-b95b-6a39bafdd932');\n",
              "          const dataTable =\n",
              "            await google.colab.kernel.invokeFunction('convertToInteractive',\n",
              "                                                     [key], {});\n",
              "          if (!dataTable) return;\n",
              "\n",
              "          const docLinkHtml = 'Like what you see? Visit the ' +\n",
              "            '<a target=\"_blank\" href=https://colab.research.google.com/notebooks/data_table.ipynb>data table notebook</a>'\n",
              "            + ' to learn more about interactive tables.';\n",
              "          element.innerHTML = '';\n",
              "          dataTable['output_type'] = 'display_data';\n",
              "          await google.colab.output.renderOutput(dataTable, element);\n",
              "          const docLink = document.createElement('div');\n",
              "          docLink.innerHTML = docLinkHtml;\n",
              "          element.appendChild(docLink);\n",
              "        }\n",
              "      </script>\n",
              "    </div>\n",
              "  </div>\n",
              "  "
            ]
          },
          "metadata": {},
          "execution_count": 2
        }
      ]
    },
    {
      "cell_type": "code",
      "source": [
        "len(iris)"
      ],
      "metadata": {
        "colab": {
          "base_uri": "https://localhost:8080/"
        },
        "id": "_xwlLwTeDoAo",
        "outputId": "fd39df40-0dad-48f1-9070-c562d121c077"
      },
      "execution_count": 3,
      "outputs": [
        {
          "output_type": "execute_result",
          "data": {
            "text/plain": [
              "150"
            ]
          },
          "metadata": {},
          "execution_count": 3
        }
      ]
    },
    {
      "cell_type": "code",
      "source": [
        "# Convert data from pandas dataframe to tensor\n",
        "data = torch.tensor(iris[iris.columns[0:4]].values).float()\n",
        "\n",
        "# transform species into numbers\n",
        "labels = torch.zeros(len(data), dtype=torch.long)\n",
        "\n",
        "# Labels for the species\n",
        "labels[iris.species == \"seosa\"] = 0\n",
        "labels[iris.species == \"versicolor\"] = 1\n",
        "labels[iris.species == \"virginica\"] = 2"
      ],
      "metadata": {
        "id": "cEwFlEXS-pCd"
      },
      "execution_count": 4,
      "outputs": []
    },
    {
      "cell_type": "code",
      "source": [
        "data[1:5,:]"
      ],
      "metadata": {
        "colab": {
          "base_uri": "https://localhost:8080/"
        },
        "id": "SxPe4sR__YKC",
        "outputId": "742c48ab-5745-4e3b-8df7-8e759d6ac42a"
      },
      "execution_count": 5,
      "outputs": [
        {
          "output_type": "execute_result",
          "data": {
            "text/plain": [
              "tensor([[4.9000, 3.0000, 1.4000, 0.2000],\n",
              "        [4.7000, 3.2000, 1.3000, 0.2000],\n",
              "        [4.6000, 3.1000, 1.5000, 0.2000],\n",
              "        [5.0000, 3.6000, 1.4000, 0.2000]])"
            ]
          },
          "metadata": {},
          "execution_count": 5
        }
      ]
    },
    {
      "cell_type": "code",
      "source": [
        "labels"
      ],
      "metadata": {
        "colab": {
          "base_uri": "https://localhost:8080/"
        },
        "id": "sVEUVoO5_dVU",
        "outputId": "cf971fc5-832a-41b5-cfd0-47b3412fb2fd"
      },
      "execution_count": 6,
      "outputs": [
        {
          "output_type": "execute_result",
          "data": {
            "text/plain": [
              "tensor([0, 0, 0, 0, 0, 0, 0, 0, 0, 0, 0, 0, 0, 0, 0, 0, 0, 0, 0, 0, 0, 0, 0, 0,\n",
              "        0, 0, 0, 0, 0, 0, 0, 0, 0, 0, 0, 0, 0, 0, 0, 0, 0, 0, 0, 0, 0, 0, 0, 0,\n",
              "        0, 0, 1, 1, 1, 1, 1, 1, 1, 1, 1, 1, 1, 1, 1, 1, 1, 1, 1, 1, 1, 1, 1, 1,\n",
              "        1, 1, 1, 1, 1, 1, 1, 1, 1, 1, 1, 1, 1, 1, 1, 1, 1, 1, 1, 1, 1, 1, 1, 1,\n",
              "        1, 1, 1, 1, 2, 2, 2, 2, 2, 2, 2, 2, 2, 2, 2, 2, 2, 2, 2, 2, 2, 2, 2, 2,\n",
              "        2, 2, 2, 2, 2, 2, 2, 2, 2, 2, 2, 2, 2, 2, 2, 2, 2, 2, 2, 2, 2, 2, 2, 2,\n",
              "        2, 2, 2, 2, 2, 2])"
            ]
          },
          "metadata": {},
          "execution_count": 6
        }
      ]
    },
    {
      "cell_type": "markdown",
      "source": [
        "### Separate into Train and Test Set"
      ],
      "metadata": {
        "id": "eYCEwHxS_iv4"
      }
    },
    {
      "cell_type": "code",
      "source": [
        "# define the proportion of training set\n",
        "propTraining = 0.8\n",
        "nTraining = int(len(labels)*propTraining)\n",
        "\n",
        "# initialize a boolean vector to select data and their labels\n",
        "traintestBool = np.zeros(len(labels), dtype=bool)\n",
        "\n",
        "# One way to select samples\n",
        "traintestBool[range(nTraining)] = True\n",
        "\n",
        "traintestBool\n",
        "# Very bad way, picks almost exclussively the last category"
      ],
      "metadata": {
        "colab": {
          "base_uri": "https://localhost:8080/"
        },
        "id": "WXHFvzAi_mcH",
        "outputId": "7cc5d8b6-54a4-4520-99f7-4a72dc75fb0b"
      },
      "execution_count": 7,
      "outputs": [
        {
          "output_type": "execute_result",
          "data": {
            "text/plain": [
              "array([ True,  True,  True,  True,  True,  True,  True,  True,  True,\n",
              "        True,  True,  True,  True,  True,  True,  True,  True,  True,\n",
              "        True,  True,  True,  True,  True,  True,  True,  True,  True,\n",
              "        True,  True,  True,  True,  True,  True,  True,  True,  True,\n",
              "        True,  True,  True,  True,  True,  True,  True,  True,  True,\n",
              "        True,  True,  True,  True,  True,  True,  True,  True,  True,\n",
              "        True,  True,  True,  True,  True,  True,  True,  True,  True,\n",
              "        True,  True,  True,  True,  True,  True,  True,  True,  True,\n",
              "        True,  True,  True,  True,  True,  True,  True,  True,  True,\n",
              "        True,  True,  True,  True,  True,  True,  True,  True,  True,\n",
              "        True,  True,  True,  True,  True,  True,  True,  True,  True,\n",
              "        True,  True,  True,  True,  True,  True,  True,  True,  True,\n",
              "        True,  True,  True,  True,  True,  True,  True,  True,  True,\n",
              "        True,  True,  True, False, False, False, False, False, False,\n",
              "       False, False, False, False, False, False, False, False, False,\n",
              "       False, False, False, False, False, False, False, False, False,\n",
              "       False, False, False, False, False, False])"
            ]
          },
          "metadata": {},
          "execution_count": 7
        }
      ]
    },
    {
      "cell_type": "code",
      "source": [
        "# Test data balance\n",
        "# remember, data were labeled as 0, 1 and 2. Average always expected to be 1\n",
        "print(\"Average of full data\")\n",
        "print(torch.mean(labels.float()))\n",
        "print()\n",
        "\n",
        "print(\"Average of Training Data\")\n",
        "print(torch.mean(labels[traintestBool].float()))\n",
        "print()\n",
        "\n",
        "print(\"Average of Test Data\")\n",
        "print(torch.mean(labels[~traintestBool].float()))"
      ],
      "metadata": {
        "colab": {
          "base_uri": "https://localhost:8080/"
        },
        "id": "JwRdPeCvAlTT",
        "outputId": "9ae0ba00-6eae-4c8a-c507-edeb212c467a"
      },
      "execution_count": 8,
      "outputs": [
        {
          "output_type": "stream",
          "name": "stdout",
          "text": [
            "Average of full data\n",
            "tensor(1.)\n",
            "\n",
            "Average of Training Data\n",
            "tensor(0.7500)\n",
            "\n",
            "Average of Test Data\n",
            "tensor(2.)\n"
          ]
        }
      ]
    },
    {
      "cell_type": "code",
      "source": [
        "# A better way to separate the dataset\n",
        "traintestBool = np.zeros(len(labels), dtype=bool)\n",
        "# print(traintestBool)\n",
        "items2use4train = np.random.choice(range(len(labels)),nTraining, replace=False)\n",
        "traintestBool[items2use4train] = True\n",
        "traintestBool"
      ],
      "metadata": {
        "colab": {
          "base_uri": "https://localhost:8080/"
        },
        "id": "uqqUBYbTByQJ",
        "outputId": "c6cd677b-64b5-45fe-d76a-b01cae3dfe50"
      },
      "execution_count": 9,
      "outputs": [
        {
          "output_type": "execute_result",
          "data": {
            "text/plain": [
              "array([ True,  True,  True,  True,  True,  True, False,  True, False,\n",
              "        True,  True,  True,  True,  True,  True,  True, False,  True,\n",
              "        True,  True,  True,  True,  True, False,  True,  True,  True,\n",
              "        True,  True, False, False,  True,  True,  True,  True,  True,\n",
              "        True, False,  True,  True,  True,  True,  True, False, False,\n",
              "        True,  True, False,  True,  True,  True,  True,  True,  True,\n",
              "       False,  True,  True,  True, False,  True,  True,  True,  True,\n",
              "       False,  True, False,  True,  True,  True,  True,  True,  True,\n",
              "        True,  True,  True, False,  True,  True,  True,  True,  True,\n",
              "       False,  True,  True,  True, False,  True, False,  True,  True,\n",
              "        True, False,  True,  True,  True,  True,  True, False,  True,\n",
              "        True,  True,  True,  True,  True,  True,  True,  True,  True,\n",
              "        True,  True,  True, False,  True,  True, False,  True,  True,\n",
              "       False,  True, False,  True,  True,  True,  True, False,  True,\n",
              "       False,  True,  True,  True,  True,  True,  True, False,  True,\n",
              "        True, False,  True,  True,  True,  True,  True,  True,  True,\n",
              "        True, False,  True, False,  True,  True])"
            ]
          },
          "metadata": {},
          "execution_count": 9
        }
      ]
    },
    {
      "cell_type": "code",
      "source": [
        "# Now check the balance\n",
        "print(\"Average of full data\")\n",
        "print(torch.mean(labels.float()))\n",
        "print()\n",
        "\n",
        "print(\"Average of Training Data\")\n",
        "print(torch.mean(labels[traintestBool].float()))\n",
        "print()\n",
        "\n",
        "print(\"Average of Test Data\")\n",
        "print(torch.mean(labels[~traintestBool].float()))"
      ],
      "metadata": {
        "colab": {
          "base_uri": "https://localhost:8080/"
        },
        "id": "SQi7P_SfCtd7",
        "outputId": "30d06ee4-5ca1-4d51-bc92-cf7f17e8ac43"
      },
      "execution_count": 10,
      "outputs": [
        {
          "output_type": "stream",
          "name": "stdout",
          "text": [
            "Average of full data\n",
            "tensor(1.)\n",
            "\n",
            "Average of Training Data\n",
            "tensor(1.)\n",
            "\n",
            "Average of Test Data\n",
            "tensor(1.)\n"
          ]
        }
      ]
    },
    {
      "cell_type": "code",
      "source": [
        "# Create the ANN Model with single hidden layer\n",
        "ANNiris = nn.Sequential(\n",
        "    nn.Linear(4,64),\n",
        "    nn.ReLU(),\n",
        "    nn.Linear(64,64),\n",
        "    nn.ReLU(),\n",
        "    nn.Linear(64,3),\n",
        "    )\n",
        "\n",
        "# loss function\n",
        "lossfun = nn.CrossEntropyLoss()\n",
        "\n",
        "# optimizer\n",
        "optimizer = torch.optim.SGD(ANNiris.parameters(), lr=0.01)"
      ],
      "metadata": {
        "id": "gEDfXzOIC7dd"
      },
      "execution_count": 11,
      "outputs": []
    },
    {
      "cell_type": "code",
      "source": [
        "# Check data shape\n",
        "# Entire dataset\n",
        "print(data.shape)\n",
        "print()\n",
        "\n",
        "# Training Data\n",
        "print(data[traintestBool,:].shape)\n",
        "print()\n",
        "\n",
        "# test set\n",
        "print(data[~traintestBool, :].shape)"
      ],
      "metadata": {
        "colab": {
          "base_uri": "https://localhost:8080/"
        },
        "id": "gER7e-dpDp5m",
        "outputId": "74cac4bb-e015-4a76-e290-615355f7c7c3"
      },
      "execution_count": 12,
      "outputs": [
        {
          "output_type": "stream",
          "name": "stdout",
          "text": [
            "torch.Size([150, 4])\n",
            "\n",
            "torch.Size([120, 4])\n",
            "\n",
            "torch.Size([30, 4])\n"
          ]
        }
      ]
    },
    {
      "cell_type": "code",
      "source": [
        "# Train the model\n",
        "numepochs = 1000\n",
        "\n",
        "losses = torch.zeros(numepochs)\n",
        "ongoingAcc = []\n",
        "\n",
        "for epochi in range(numepochs):\n",
        "\n",
        "    # forwad pass\n",
        "    yHat = ANNiris(data[traintestBool,:])\n",
        "\n",
        "    # Copute accuracy\n",
        "    ongoingAcc.append(100*torch.mean((\n",
        "        torch.argmax(yHat,axis=1) == labels[traintestBool]).float()))\n",
        "    \n",
        "    # Compute loss\n",
        "    loss = lossfun(yHat, labels[traintestBool])\n",
        "    losses[epochi] = loss\n",
        "\n",
        "    # Backpropagation\n",
        "    optimizer.zero_grad()\n",
        "    loss.backward()\n",
        "    optimizer.step()"
      ],
      "metadata": {
        "id": "7aG-3OWzEIpI"
      },
      "execution_count": 13,
      "outputs": []
    },
    {
      "cell_type": "code",
      "source": [
        "# Compute train and test accuracies\n",
        "\n",
        "# Final forward pass using training data\n",
        "predictions = ANNiris(data[traintestBool,:])\n",
        "trainacc = 100*torch.mean((torch.argmax(predictions,axis=1)==labels[traintestBool]).float())\n",
        "\n",
        "# Final forward pass using test data\n",
        "predictions = ANNiris(data[~traintestBool,:])\n",
        "testacc = 100*torch.mean((torch.argmax(predictions,axis=1)==labels[~traintestBool]).float())"
      ],
      "metadata": {
        "id": "uWzPgaj8FrKG"
      },
      "execution_count": 14,
      "outputs": []
    },
    {
      "cell_type": "code",
      "source": [
        "print(\"Final train accuracy is {:.3f}%\".format(trainacc))\n",
        "print()\n",
        "print(\"Final test accuracy is {:.3f}%\".format(testacc))"
      ],
      "metadata": {
        "colab": {
          "base_uri": "https://localhost:8080/"
        },
        "id": "BlwZrP4-Gbh4",
        "outputId": "5f921531-2679-4208-d33f-160c4fc70e8b"
      },
      "execution_count": 15,
      "outputs": [
        {
          "output_type": "stream",
          "name": "stdout",
          "text": [
            "Final train accuracy is 97.500%\n",
            "\n",
            "Final test accuracy is 100.000%\n"
          ]
        }
      ]
    },
    {
      "cell_type": "code",
      "source": [
        "# Loss by epoch\n",
        "fig, ax = plt.subplots(1,2,figsize=(12,4))\n",
        "\n",
        "ax[0].plot(losses.detach())\n",
        "ax[0].set_ylabel(\"Loss\")\n",
        "ax[0].set_xlabel(\"Epoch\")\n",
        "ax[0].set_title(\"Losses per epoch\")\n",
        "\n",
        "ax[1].plot(ongoingAcc)\n",
        "ax[1].set_ylabel(\"Accuracy\")\n",
        "ax[1].set_xlabel(\"Epoch\")\n",
        "ax[1].set_title(\"Accuracy per Epoch\")\n",
        "\n",
        "plt.show()"
      ],
      "metadata": {
        "colab": {
          "base_uri": "https://localhost:8080/",
          "height": 295
        },
        "id": "MZP7NPQFG_7T",
        "outputId": "f9e11c5d-29cd-4080-f5d4-46f7dec69199"
      },
      "execution_count": 16,
      "outputs": [
        {
          "output_type": "display_data",
          "data": {
            "text/plain": [
              "<Figure size 864x288 with 2 Axes>"
            ],
            "image/png": "[encoded data removed]"
          },
          "metadata": {
            "needs_background": "light"
          }
        }
      ]
    },
    {
      "cell_type": "markdown",
      "source": [
        "## Cross-Validation with Scikitlearn"
      ],
      "metadata": {
        "id": "jE78ZSjtlUQS"
      }
    },
    {
      "cell_type": "code",
      "source": [
        "# How to use the train-test split\n",
        "fakedata = np.tile(np.array([1,2,3,4]),(10,1)) + np.tile(10*np.arange(1,11),(4,1)).T\n",
        "fakelabels = np.arange(10)>4\n",
        "print(fakedata)\n",
        "print()\n",
        "print(fakelabels)"
      ],
      "metadata": {
        "colab": {
          "base_uri": "https://localhost:8080/"
        },
        "id": "KkA7Zol1lcVj",
        "outputId": "1a2f5e7a-fe12-435c-d3c5-eb827035e46d"
      },
      "execution_count": 17,
      "outputs": [
        {
          "output_type": "stream",
          "name": "stdout",
          "text": [
            "[[ 11  12  13  14]\n",
            " [ 21  22  23  24]\n",
            " [ 31  32  33  34]\n",
            " [ 41  42  43  44]\n",
            " [ 51  52  53  54]\n",
            " [ 61  62  63  64]\n",
            " [ 71  72  73  74]\n",
            " [ 81  82  83  84]\n",
            " [ 91  92  93  94]\n",
            " [101 102 103 104]]\n",
            "\n",
            "[False False False False False  True  True  True  True  True]\n"
          ]
        }
      ]
    },
    {
      "cell_type": "code",
      "source": [
        "# Use sikitlearn to split the data\n",
        "train_data, test_data, train_labels, test_labels = train_test_split(\n",
        "    fakedata, fakelabels, test_size=0.2) #, shuffle = False)\n",
        "\n",
        "# Note the third parameter: it can be specified as test size or train size\n",
        "# Read carefully\n",
        "\n",
        "# print out the sizes\n",
        "print(\"Train data size: {}\".format(train_data.shape))\n",
        "print()\n",
        "print(\"Test data size: {}\".format(test_data.shape))\n",
        "\n",
        "# Print out the train/test data\n",
        "print(\"Training Data:\")\n",
        "print(train_data)\n",
        "print()\n",
        "print(\"Test Data:\")\n",
        "print(test_data)\n",
        "# Randomizing the order of the rows (shuffle = True by default) and train/testing data"
      ],
      "metadata": {
        "colab": {
          "base_uri": "https://localhost:8080/"
        },
        "id": "mXL-xlaLpUma",
        "outputId": "a7cd33b8-8f47-41e7-9034-a2715ec6e6c6"
      },
      "execution_count": 18,
      "outputs": [
        {
          "output_type": "stream",
          "name": "stdout",
          "text": [
            "Train data size: (8, 4)\n",
            "\n",
            "Test data size: (2, 4)\n",
            "Training Data:\n",
            "[[ 41  42  43  44]\n",
            " [ 71  72  73  74]\n",
            " [ 31  32  33  34]\n",
            " [ 11  12  13  14]\n",
            " [ 61  62  63  64]\n",
            " [ 21  22  23  24]\n",
            " [101 102 103 104]\n",
            " [ 81  82  83  84]]\n",
            "\n",
            "Test Data:\n",
            "[[91 92 93 94]\n",
            " [51 52 53 54]]\n"
          ]
        }
      ]
    },
    {
      "cell_type": "code",
      "source": [
        "# Define the model\n",
        "def createANewModel():\n",
        "\n",
        "    # Define model architecture\n",
        "    ANNiris = nn.Sequential(\n",
        "        nn.Linear(4,64),\n",
        "        nn.ReLU(),\n",
        "        nn.Linear(64,64),\n",
        "        nn.ReLU(),\n",
        "        nn.Linear(64,3),\n",
        "        )\n",
        "    \n",
        "    # Loss function\n",
        "    lossfun = nn.CrossEntropyLoss()\n",
        "\n",
        "    # Optimizer\n",
        "    optimizer = torch.optim.SGD(ANNiris.parameters(), lr = 0.01)\n",
        "\n",
        "    return ANNiris, lossfun, optimizer"
      ],
      "metadata": {
        "id": "UyND0byerHgw"
      },
      "execution_count": 19,
      "outputs": []
    },
    {
      "cell_type": "code",
      "source": [
        "# Define function to train the model\n",
        "\n",
        "numepochs = 200\n",
        "def trainTheModel(trainProp):\n",
        "    # This leads to overfitting\n",
        "    # separate train from test data\n",
        "    X_train, X_test, y_train, y_test = train_test_split(data, labels, train_size=trainProp)\n",
        "\n",
        "    # Initialize losses\n",
        "    losses = torch.zeros(numepochs)\n",
        "    trainAcc = []\n",
        "    testAcc = []\n",
        "\n",
        "    # Loop overr the epochs\n",
        "    for epochi in range(numepochs):\n",
        "\n",
        "\n",
        "        # Forward pass and loss\n",
        "        yHat = ANNiris(X_train)\n",
        "        loss = lossfun(yHat, y_train)\n",
        "\n",
        "        # Back Propagation\n",
        "        optimizer.zero_grad()\n",
        "        loss.backward()\n",
        "        optimizer.step()\n",
        "\n",
        "        # Compute the training accuracy\n",
        "        trainAcc.append(100*torch.mean((torch.argmax(yHat,axis=1)==y_train).float()).item())\n",
        "\n",
        "        # test accuracy\n",
        "        # Not leading to overfitting because backpropagation is only used in training set\n",
        "        predlabels = torch.argmax(ANNiris(X_test), axis=1)\n",
        "        testAcc.append(100*torch.mean((predlabels == y_test).float()).item())\n",
        "\n",
        "    return trainAcc, testAcc"
      ],
      "metadata": {
        "id": "I71ewkWmvIld"
      },
      "execution_count": 20,
      "outputs": []
    },
    {
      "cell_type": "code",
      "source": [
        "# Run the mmodel once to make sure its working\n",
        "ANNiris, lossfun, optimizer = createANewModel()\n",
        "\n",
        "# Train it\n",
        "trainAcc, testAcc = trainTheModel(0.8)"
      ],
      "metadata": {
        "id": "MRvsW3hu0EIW"
      },
      "execution_count": 21,
      "outputs": []
    },
    {
      "cell_type": "code",
      "source": [
        "# Plot the results\n",
        "fig = plt.figure(figsize=(10,5))\n",
        "plt.plot(trainAcc, \"ro\")\n",
        "plt.plot(testAcc, \"bs\")\n",
        "plt.xlabel(\"Epochs\")\n",
        "plt.ylabel(\"Accuracy (%)\")\n",
        "plt.legend([\"Train\", \"Test\"])\n",
        "plt.show()"
      ],
      "metadata": {
        "colab": {
          "base_uri": "https://localhost:8080/",
          "height": 334
        },
        "id": "pXnggsZd1N_b",
        "outputId": "6aff4b4e-1d25-4fe9-ca66-8a34719eef5f"
      },
      "execution_count": 22,
      "outputs": [
        {
          "output_type": "display_data",
          "data": {
            "text/plain": [
              "<Figure size 720x360 with 1 Axes>"
            ],
            "image/png": "[encoded data removed]"
          },
          "metadata": {
            "needs_background": "light"
          }
        }
      ]
    },
    {
      "cell_type": "code",
      "source": [
        "print(trainAcc[-1])\n",
        "print()\n",
        "print(testAcc[-1])"
      ],
      "metadata": {
        "colab": {
          "base_uri": "https://localhost:8080/"
        },
        "id": "zdgP5FMu1rof",
        "outputId": "8b71b6b5-bfda-4330-f3a5-0ecdb36158df"
      },
      "execution_count": 23,
      "outputs": [
        {
          "output_type": "stream",
          "name": "stdout",
          "text": [
            "94.16666626930237\n",
            "\n",
            "86.66666746139526\n"
          ]
        }
      ]
    },
    {
      "cell_type": "code",
      "source": [
        "trainSetSizes = np.linspace(0.2, 0.95, 10)\n",
        "\n",
        "allTrainAcc = np.zeros((len(trainSetSizes), numepochs))\n",
        "allTestAcc = np.zeros((len(trainSetSizes), numepochs))\n",
        "\n",
        "for i in range(len(trainSetSizes)):\n",
        "    # Create the model\n",
        "    ANNiris, lossfun, optimizer = createANewModel()\n",
        "\n",
        "    # Train the model\n",
        "    trainAcc, testAcc = trainTheModel(trainSetSizes[i])\n",
        "\n",
        "    # store\n",
        "    allTrainAcc[i,:] = trainAcc\n",
        "    allTestAcc[i,:] = testAcc"
      ],
      "metadata": {
        "id": "wXiZlyTi2I1D"
      },
      "execution_count": 24,
      "outputs": []
    },
    {
      "cell_type": "code",
      "source": [
        "# Plot the stuff\n",
        "fig,ax = plt.subplots(1,2, figsize=(13,5))\n",
        "ax[0].imshow(allTrainAcc, aspect=\"auto\", vmin=50, vmax=90,\n",
        "             extent=[0,numepochs,trainSetSizes[-1], trainSetSizes[0]])\n",
        "ax[0].set_xlabel(\"Epochs\")\n",
        "ax[0].set_ylabel(\"Train Size Proportion\")\n",
        "ax[0].set_title(\"Training Accuracy\")\n",
        "\n",
        "p = ax[1].imshow(allTestAcc, aspect=\"auto\", vmin=50, vmax=90,\n",
        "             extent=[0,numepochs,trainSetSizes[-1], trainSetSizes[0]])\n",
        "ax[1].set_xlabel(\"Epochs\")\n",
        "ax[1].set_ylabel(\"Train Size Proportion\")\n",
        "ax[1].set_title(\"Test Accuracy\")\n",
        "fig.colorbar(p, ax=ax[1])\n",
        "plt.show()"
      ],
      "metadata": {
        "colab": {
          "base_uri": "https://localhost:8080/",
          "height": 350
        },
        "id": "JZVIKBcB22Yn",
        "outputId": "631b9ee7-8777-419f-e4ed-9e51e858fab3"
      },
      "execution_count": 25,
      "outputs": [
        {
          "output_type": "display_data",
          "data": {
            "text/plain": [
              "<Figure size 936x360 with 3 Axes>"
            ],
            "image/png": "[encoded data removed]"
          },
          "metadata": {
            "needs_background": "light"
          }
        }
      ]
    },
    {
      "cell_type": "markdown",
      "source": [
        "## Cross-Validation - DataLoader"
      ],
      "metadata": {
        "id": "s5nkBXDLJK3G"
      }
    },
    {
      "cell_type": "code",
      "source": [
        "# Create fakedata\n",
        "fakedata = np.tile(np.array([1,2,3,4]),(10,1)) + np.tile(10*np.arange(1,11),(4,1)).T\n",
        "fakelabels = np.arange(10)>4\n",
        "print(fakedata)\n",
        "print()\n",
        "print(fakelabels)"
      ],
      "metadata": {
        "colab": {
          "base_uri": "https://localhost:8080/"
        },
        "id": "j1t9G3feL6Mp",
        "outputId": "eaaf4abb-950f-4ca5-db04-d160072e4f07"
      },
      "execution_count": 26,
      "outputs": [
        {
          "output_type": "stream",
          "name": "stdout",
          "text": [
            "[[ 11  12  13  14]\n",
            " [ 21  22  23  24]\n",
            " [ 31  32  33  34]\n",
            " [ 41  42  43  44]\n",
            " [ 51  52  53  54]\n",
            " [ 61  62  63  64]\n",
            " [ 71  72  73  74]\n",
            " [ 81  82  83  84]\n",
            " [ 91  92  93  94]\n",
            " [101 102 103 104]]\n",
            "\n",
            "[False False False False False  True  True  True  True  True]\n"
          ]
        }
      ]
    },
    {
      "cell_type": "code",
      "source": [
        "np.tile(np.array([1,2,3,4]),(10,1))"
      ],
      "metadata": {
        "colab": {
          "base_uri": "https://localhost:8080/"
        },
        "id": "r8tIB4HHq_cy",
        "outputId": "451b47b8-ce58-4540-9813-d75e05d534ef"
      },
      "execution_count": 27,
      "outputs": [
        {
          "output_type": "execute_result",
          "data": {
            "text/plain": [
              "array([[1, 2, 3, 4],\n",
              "       [1, 2, 3, 4],\n",
              "       [1, 2, 3, 4],\n",
              "       [1, 2, 3, 4],\n",
              "       [1, 2, 3, 4],\n",
              "       [1, 2, 3, 4],\n",
              "       [1, 2, 3, 4],\n",
              "       [1, 2, 3, 4],\n",
              "       [1, 2, 3, 4],\n",
              "       [1, 2, 3, 4]])"
            ]
          },
          "metadata": {},
          "execution_count": 27
        }
      ]
    },
    {
      "cell_type": "code",
      "source": [
        "np.tile(10*np.arange(1,11),(4,1)).T"
      ],
      "metadata": {
        "colab": {
          "base_uri": "https://localhost:8080/"
        },
        "id": "mGi9jbwNrHDM",
        "outputId": "c78808eb-481f-4de2-d70b-0af9d78491c4"
      },
      "execution_count": 28,
      "outputs": [
        {
          "output_type": "execute_result",
          "data": {
            "text/plain": [
              "array([[ 10,  10,  10,  10],\n",
              "       [ 20,  20,  20,  20],\n",
              "       [ 30,  30,  30,  30],\n",
              "       [ 40,  40,  40,  40],\n",
              "       [ 50,  50,  50,  50],\n",
              "       [ 60,  60,  60,  60],\n",
              "       [ 70,  70,  70,  70],\n",
              "       [ 80,  80,  80,  80],\n",
              "       [ 90,  90,  90,  90],\n",
              "       [100, 100, 100, 100]])"
            ]
          },
          "metadata": {},
          "execution_count": 28
        }
      ]
    },
    {
      "cell_type": "code",
      "source": [
        "# DataLoader Object\n",
        "fakedataLrd = DataLoader(fakedata, shuffle=True)\n",
        "print(fakedataLrd)\n",
        "print(fakedataLrd.batch_size)"
      ],
      "metadata": {
        "colab": {
          "base_uri": "https://localhost:8080/"
        },
        "id": "XUTqnr0cMCF-",
        "outputId": "8ce862c0-4e5a-4ea8-bcb1-491e96d7115a"
      },
      "execution_count": 29,
      "outputs": [
        {
          "output_type": "stream",
          "name": "stdout",
          "text": [
            "<torch.utils.data.dataloader.DataLoader object at 0x7fca71732340>\n",
            "1\n"
          ]
        }
      ]
    },
    {
      "cell_type": "code",
      "source": [
        "# Iterate through the data\n",
        "for i, oneSample in enumerate(fakedataLrd):\n",
        "    print(i, oneSample, oneSample.shape)"
      ],
      "metadata": {
        "colab": {
          "base_uri": "https://localhost:8080/"
        },
        "id": "ozr7mtmvMWg8",
        "outputId": "176ab09c-abe9-47e2-bb19-4d5663aaaeb0"
      },
      "execution_count": 30,
      "outputs": [
        {
          "output_type": "stream",
          "name": "stdout",
          "text": [
            "0 tensor([[91, 92, 93, 94]]) torch.Size([1, 4])\n",
            "1 tensor([[11, 12, 13, 14]]) torch.Size([1, 4])\n",
            "2 tensor([[101, 102, 103, 104]]) torch.Size([1, 4])\n",
            "3 tensor([[51, 52, 53, 54]]) torch.Size([1, 4])\n",
            "4 tensor([[81, 82, 83, 84]]) torch.Size([1, 4])\n",
            "5 tensor([[71, 72, 73, 74]]) torch.Size([1, 4])\n",
            "6 tensor([[41, 42, 43, 44]]) torch.Size([1, 4])\n",
            "7 tensor([[31, 32, 33, 34]]) torch.Size([1, 4])\n",
            "8 tensor([[21, 22, 23, 24]]) torch.Size([1, 4])\n",
            "9 tensor([[61, 62, 63, 64]]) torch.Size([1, 4])\n"
          ]
        }
      ]
    },
    {
      "cell_type": "code",
      "source": [
        "# from torch.utils.data import TensorDataset\n",
        "# Since the data is shuffled, we need to create a dataset that contains the labels\n",
        "fakeDataset = torch.utils.data.TensorDataset(torch.Tensor(fakedata), torch.Tensor(fakelabels))\n",
        "fakeDataset.tensors\n",
        "# fakeDataset = TensorDataset(torch.Tensor(fakedata), torch.Tensor(fakelabels))\n",
        "# from torch.utils.data import DataLoader, TensorDataset\n",
        "# call TensorDataset directly, no need to add torch.utils.data\n",
        "# Tupple of data and labels"
      ],
      "metadata": {
        "colab": {
          "base_uri": "https://localhost:8080/"
        },
        "id": "7CUwG3OYM3rN",
        "outputId": "6fc7849c-cd64-4743-a933-643445d8350d"
      },
      "execution_count": 31,
      "outputs": [
        {
          "output_type": "execute_result",
          "data": {
            "text/plain": [
              "(tensor([[ 11.,  12.,  13.,  14.],\n",
              "         [ 21.,  22.,  23.,  24.],\n",
              "         [ 31.,  32.,  33.,  34.],\n",
              "         [ 41.,  42.,  43.,  44.],\n",
              "         [ 51.,  52.,  53.,  54.],\n",
              "         [ 61.,  62.,  63.,  64.],\n",
              "         [ 71.,  72.,  73.,  74.],\n",
              "         [ 81.,  82.,  83.,  84.],\n",
              "         [ 91.,  92.,  93.,  94.],\n",
              "         [101., 102., 103., 104.]]),\n",
              " tensor([0., 0., 0., 0., 0., 1., 1., 1., 1., 1.]))"
            ]
          },
          "metadata": {},
          "execution_count": 31
        }
      ]
    },
    {
      "cell_type": "code",
      "source": [
        "# Now create another data loader with numeric data and the label\n",
        "fakedataLrd = DataLoader(fakeDataset, shuffle=True)\n",
        "\n",
        "# iterate through the data again and print data with  the label\n",
        "for i, lab in fakedataLrd:\n",
        "    print(i, lab)"
      ],
      "metadata": {
        "colab": {
          "base_uri": "https://localhost:8080/"
        },
        "id": "5pFihng7NT9O",
        "outputId": "c77c3dba-b855-4a79-8d7b-5ff52a5c0321"
      },
      "execution_count": 32,
      "outputs": [
        {
          "output_type": "stream",
          "name": "stdout",
          "text": [
            "tensor([[31., 32., 33., 34.]]) tensor([0.])\n",
            "tensor([[71., 72., 73., 74.]]) tensor([1.])\n",
            "tensor([[21., 22., 23., 24.]]) tensor([0.])\n",
            "tensor([[41., 42., 43., 44.]]) tensor([0.])\n",
            "tensor([[11., 12., 13., 14.]]) tensor([0.])\n",
            "tensor([[61., 62., 63., 64.]]) tensor([1.])\n",
            "tensor([[51., 52., 53., 54.]]) tensor([0.])\n",
            "tensor([[81., 82., 83., 84.]]) tensor([1.])\n",
            "tensor([[91., 92., 93., 94.]]) tensor([1.])\n",
            "tensor([[101., 102., 103., 104.]]) tensor([1.])\n"
          ]
        }
      ]
    },
    {
      "cell_type": "code",
      "source": [
        "# Split data with sklearn: The actual procedure\n",
        "train_data, test_data, train_labels, test_labels = train_test_split(fakedata,fakelabels, train_size=0.8)\n",
        "\n",
        "# Convert them into PyTorch Datasets separately\n",
        "train_data = torch.utils.data.TensorDataset(torch.Tensor(train_data), torch.Tensor(train_labels))\n",
        "\n",
        "test_data = torch.utils.data.TensorDataset(torch.Tensor(test_data), torch.Tensor(test_labels))\n",
        "\n",
        "# Translate into dataloader objects\n",
        "train_loader = DataLoader(train_data, batch_size=4)\n",
        "test_loader = DataLoader(test_data)"
      ],
      "metadata": {
        "id": "9RgLRUlOOaYM"
      },
      "execution_count": 33,
      "outputs": []
    },
    {
      "cell_type": "code",
      "source": [
        "train_data.tensors"
      ],
      "metadata": {
        "colab": {
          "base_uri": "https://localhost:8080/"
        },
        "id": "OBD75R-0stJP",
        "outputId": "234f6afe-c694-4edd-ad93-666e90f43634"
      },
      "execution_count": 34,
      "outputs": [
        {
          "output_type": "execute_result",
          "data": {
            "text/plain": [
              "(tensor([[ 41.,  42.,  43.,  44.],\n",
              "         [ 71.,  72.,  73.,  74.],\n",
              "         [ 81.,  82.,  83.,  84.],\n",
              "         [101., 102., 103., 104.],\n",
              "         [ 61.,  62.,  63.,  64.],\n",
              "         [ 21.,  22.,  23.,  24.],\n",
              "         [ 51.,  52.,  53.,  54.],\n",
              "         [ 31.,  32.,  33.,  34.]]), tensor([0., 1., 1., 1., 1., 0., 0., 0.]))"
            ]
          },
          "metadata": {},
          "execution_count": 34
        }
      ]
    },
    {
      "cell_type": "code",
      "source": [
        "test_data.tensors"
      ],
      "metadata": {
        "colab": {
          "base_uri": "https://localhost:8080/"
        },
        "id": "GVUj5-XqsyJx",
        "outputId": "48a3f1f1-bb52-47b7-9831-1c06ffa5156b"
      },
      "execution_count": 35,
      "outputs": [
        {
          "output_type": "execute_result",
          "data": {
            "text/plain": [
              "(tensor([[11., 12., 13., 14.],\n",
              "         [91., 92., 93., 94.]]), tensor([0., 1.]))"
            ]
          },
          "metadata": {},
          "execution_count": 35
        }
      ]
    },
    {
      "cell_type": "code",
      "source": [
        "train_loader"
      ],
      "metadata": {
        "colab": {
          "base_uri": "https://localhost:8080/"
        },
        "id": "JDRY_7gCQm8d",
        "outputId": "c7b47acd-b623-452c-d799-2adc67d63149"
      },
      "execution_count": 36,
      "outputs": [
        {
          "output_type": "execute_result",
          "data": {
            "text/plain": [
              "<torch.utils.data.dataloader.DataLoader at 0x7fca715ef0a0>"
            ]
          },
          "metadata": {},
          "execution_count": 36
        }
      ]
    },
    {
      "cell_type": "code",
      "source": [
        "# Check the contents\n",
        "print(\"Training Data\")\n",
        "for batch, label in train_loader:\n",
        "    print(batch, label)\n",
        "    print()\n",
        "\n",
        "print(\"-\"*50)\n",
        "\n",
        "print(\"Testing Data\")\n",
        "for batch, label in test_loader:\n",
        "    print(batch, label)\n",
        "    print()\n",
        "\n",
        "# Because of batch size 4, train data divide into two pieces\n",
        "# Data is shuffled as well"
      ],
      "metadata": {
        "colab": {
          "base_uri": "https://localhost:8080/"
        },
        "id": "wpADKVdaP4Og",
        "outputId": "52a9a9e5-d1e4-4385-98e1-95b78ab73ff0"
      },
      "execution_count": 37,
      "outputs": [
        {
          "output_type": "stream",
          "name": "stdout",
          "text": [
            "Training Data\n",
            "tensor([[ 41.,  42.,  43.,  44.],\n",
            "        [ 71.,  72.,  73.,  74.],\n",
            "        [ 81.,  82.,  83.,  84.],\n",
            "        [101., 102., 103., 104.]]) tensor([0., 1., 1., 1.])\n",
            "\n",
            "tensor([[61., 62., 63., 64.],\n",
            "        [21., 22., 23., 24.],\n",
            "        [51., 52., 53., 54.],\n",
            "        [31., 32., 33., 34.]]) tensor([1., 0., 0., 0.])\n",
            "\n",
            "--------------------------------------------------\n",
            "Testing Data\n",
            "tensor([[11., 12., 13., 14.]]) tensor([0.])\n",
            "\n",
            "tensor([[91., 92., 93., 94.]]) tensor([1.])\n",
            "\n"
          ]
        }
      ]
    },
    {
      "cell_type": "markdown",
      "source": [
        "### Use Real Data (Iris)"
      ],
      "metadata": {
        "id": "GhKozHSTRmbP"
      }
    },
    {
      "cell_type": "code",
      "source": [
        "labels"
      ],
      "metadata": {
        "colab": {
          "base_uri": "https://localhost:8080/"
        },
        "id": "Uyv7vIZwvwe2",
        "outputId": "a32fe06d-079a-467f-dad8-8531b838bde6"
      },
      "execution_count": 38,
      "outputs": [
        {
          "output_type": "execute_result",
          "data": {
            "text/plain": [
              "tensor([0, 0, 0, 0, 0, 0, 0, 0, 0, 0, 0, 0, 0, 0, 0, 0, 0, 0, 0, 0, 0, 0, 0, 0,\n",
              "        0, 0, 0, 0, 0, 0, 0, 0, 0, 0, 0, 0, 0, 0, 0, 0, 0, 0, 0, 0, 0, 0, 0, 0,\n",
              "        0, 0, 1, 1, 1, 1, 1, 1, 1, 1, 1, 1, 1, 1, 1, 1, 1, 1, 1, 1, 1, 1, 1, 1,\n",
              "        1, 1, 1, 1, 1, 1, 1, 1, 1, 1, 1, 1, 1, 1, 1, 1, 1, 1, 1, 1, 1, 1, 1, 1,\n",
              "        1, 1, 1, 1, 2, 2, 2, 2, 2, 2, 2, 2, 2, 2, 2, 2, 2, 2, 2, 2, 2, 2, 2, 2,\n",
              "        2, 2, 2, 2, 2, 2, 2, 2, 2, 2, 2, 2, 2, 2, 2, 2, 2, 2, 2, 2, 2, 2, 2, 2,\n",
              "        2, 2, 2, 2, 2, 2])"
            ]
          },
          "metadata": {},
          "execution_count": 38
        }
      ]
    },
    {
      "cell_type": "code",
      "source": [
        "data[0:5,:]"
      ],
      "metadata": {
        "colab": {
          "base_uri": "https://localhost:8080/"
        },
        "id": "UzE--Dgbv3gw",
        "outputId": "5d851c00-8df2-4aa1-bd50-467d0ad44df3"
      },
      "execution_count": 39,
      "outputs": [
        {
          "output_type": "execute_result",
          "data": {
            "text/plain": [
              "tensor([[5.1000, 3.5000, 1.4000, 0.2000],\n",
              "        [4.9000, 3.0000, 1.4000, 0.2000],\n",
              "        [4.7000, 3.2000, 1.3000, 0.2000],\n",
              "        [4.6000, 3.1000, 1.5000, 0.2000],\n",
              "        [5.0000, 3.6000, 1.4000, 0.2000]])"
            ]
          },
          "metadata": {},
          "execution_count": 39
        }
      ]
    },
    {
      "cell_type": "code",
      "source": [
        "# Using the Iris dataset\n",
        "# Use sikitlearn to split the data\n",
        "train_data, test_data, train_labels, test_labels = train_test_split(data, labels, train_size=0.8)\n",
        "\n",
        "# Convert to pytorch dataset (they are already tensors)\n",
        "train_data = torch.utils.data.TensorDataset(train_data, train_labels)\n",
        "test_data = torch.utils.data.TensorDataset(test_data, test_labels)\n",
        "\n",
        "# Convert them to dataloader objects\n",
        "train_loader = DataLoader(train_data, shuffle=True, batch_size=12)\n",
        "test_loader = DataLoader(test_data, batch_size=test_data.tensors[0].shape[0])"
      ],
      "metadata": {
        "id": "1p-ZZfY5Rqug"
      },
      "execution_count": 40,
      "outputs": []
    },
    {
      "cell_type": "code",
      "source": [
        "# Check sizes of data batches\n",
        "for x,y in train_loader:\n",
        "    print(x.shape, y.shape)\n",
        "\n",
        "print(\"-\"*50)\n",
        "print(x,y)"
      ],
      "metadata": {
        "colab": {
          "base_uri": "https://localhost:8080/"
        },
        "id": "V7HpmrWOTD80",
        "outputId": "333c3373-2254-45a8-b90e-160e032147c4"
      },
      "execution_count": 41,
      "outputs": [
        {
          "output_type": "stream",
          "name": "stdout",
          "text": [
            "torch.Size([12, 4]) torch.Size([12])\n",
            "torch.Size([12, 4]) torch.Size([12])\n",
            "torch.Size([12, 4]) torch.Size([12])\n",
            "torch.Size([12, 4]) torch.Size([12])\n",
            "torch.Size([12, 4]) torch.Size([12])\n",
            "torch.Size([12, 4]) torch.Size([12])\n",
            "torch.Size([12, 4]) torch.Size([12])\n",
            "torch.Size([12, 4]) torch.Size([12])\n",
            "torch.Size([12, 4]) torch.Size([12])\n",
            "torch.Size([12, 4]) torch.Size([12])\n",
            "--------------------------------------------------\n",
            "tensor([[4.8000, 3.4000, 1.9000, 0.2000],\n",
            "        [5.1000, 3.8000, 1.6000, 0.2000],\n",
            "        [7.7000, 3.0000, 6.1000, 2.3000],\n",
            "        [6.3000, 3.4000, 5.6000, 2.4000],\n",
            "        [6.1000, 2.9000, 4.7000, 1.4000],\n",
            "        [5.2000, 3.5000, 1.5000, 0.2000],\n",
            "        [6.7000, 3.0000, 5.0000, 1.7000],\n",
            "        [6.9000, 3.1000, 5.4000, 2.1000],\n",
            "        [6.3000, 3.3000, 6.0000, 2.5000],\n",
            "        [6.1000, 3.0000, 4.9000, 1.8000],\n",
            "        [4.4000, 3.0000, 1.3000, 0.2000],\n",
            "        [5.5000, 2.3000, 4.0000, 1.3000]]) tensor([0, 0, 2, 2, 1, 0, 1, 2, 2, 2, 0, 1])\n"
          ]
        }
      ]
    },
    {
      "cell_type": "code",
      "source": [
        "# Do the same thing for test\n",
        "for x,y in test_loader:\n",
        "    print(x.shape, y.shape)"
      ],
      "metadata": {
        "colab": {
          "base_uri": "https://localhost:8080/"
        },
        "id": "UDQste3dTwJn",
        "outputId": "9c6f2cf3-fd2b-44d5-ef2a-cffaa47cbbd3"
      },
      "execution_count": 42,
      "outputs": [
        {
          "output_type": "stream",
          "name": "stdout",
          "text": [
            "torch.Size([30, 4]) torch.Size([30])\n"
          ]
        }
      ]
    },
    {
      "cell_type": "code",
      "source": [
        "# Now lets create the model\n",
        "def createANewModel():\n",
        "\n",
        "    # Define model architecture\n",
        "    ANNiris = nn.Sequential(\n",
        "        nn.Linear(4,64),\n",
        "        nn.ReLU(),\n",
        "        nn.Linear(64,64),\n",
        "        nn.ReLU(),\n",
        "        nn.Linear(64,3),\n",
        "        )\n",
        "    \n",
        "    # Loss function\n",
        "    lossfun = nn.CrossEntropyLoss()\n",
        "\n",
        "    # Optimizer\n",
        "    optimizer = torch.optim.SGD(ANNiris.parameters(), lr = 0.01)\n",
        "\n",
        "    return ANNiris, lossfun, optimizer"
      ],
      "metadata": {
        "id": "SIthN4hZT-QC"
      },
      "execution_count": 43,
      "outputs": []
    },
    {
      "cell_type": "code",
      "source": [
        "# Now we train in minibatches\n",
        "numepochs = 500\n",
        "def trainTheModel():\n",
        "\n",
        "    # Initialize losses\n",
        "    losses = torch.zeros(numepochs)\n",
        "    trainAcc = []\n",
        "    testAcc = []\n",
        "\n",
        "    # Loop overr the epochs\n",
        "    for epochi in range(numepochs):\n",
        "\n",
        "        # Loop over training data batches\n",
        "        batchAcc = []\n",
        "        for X,y in train_loader:\n",
        "\n",
        "            # Forward pass and loss\n",
        "            yHat = ANNiris(X)\n",
        "            loss = lossfun(yHat, y)\n",
        "\n",
        "            # Back Propagation\n",
        "            optimizer.zero_grad()\n",
        "            loss.backward()\n",
        "            optimizer.step()\n",
        "\n",
        "            # training accuracy for a single batch\n",
        "            batchAcc.append(100*torch.mean((torch.argmax(yHat,axis=1)== y).float()).item())\n",
        "            # end of batch\n",
        "        \n",
        "        # start with epochs loop\n",
        "        trainAcc.append(np.mean(batchAcc))\n",
        "\n",
        "        # Now test the accuracy\n",
        "        # Extract X and Y from test dataloader\n",
        "        # single minibatch, no need for for loop. It is single batch, but it is iterable\n",
        "        X,y = next(iter(test_loader)) \n",
        "        predlabels = torch.argmax(ANNiris(X),axis=1)\n",
        "        testAcc.append(100*torch.mean((predlabels==y).float()).item())\n",
        "\n",
        "    return trainAcc, testAcc"
      ],
      "metadata": {
        "id": "_rD1DURYUIPR"
      },
      "execution_count": 44,
      "outputs": []
    },
    {
      "cell_type": "code",
      "source": [
        "# Run the model\n",
        "ANNiris, lossfun, optimizer = createANewModel()\n",
        "\n",
        "# Train it\n",
        "trainAcc, testAcc = trainTheModel()"
      ],
      "metadata": {
        "id": "RDaDpdqMWvDy"
      },
      "execution_count": 45,
      "outputs": []
    },
    {
      "cell_type": "code",
      "source": [
        "# Plot the results\n",
        "fig = plt.figure(figsize=(10,5))\n",
        "plt.plot(trainAcc, \"r\")\n",
        "plt.plot(testAcc, \"b\")\n",
        "plt.xlabel(\"Epochs\")\n",
        "plt.ylabel(\"Accuracy (%)\")\n",
        "plt.legend([\"Train\", \"Test\"])\n",
        "plt.show()\n",
        "# this is fucking crazy, accuracy above 90% within 50 epochs"
      ],
      "metadata": {
        "colab": {
          "base_uri": "https://localhost:8080/",
          "height": 334
        },
        "id": "Xmwg0HyKXSAB",
        "outputId": "e276f613-2a9d-4fa0-b4bb-442231bd3f98"
      },
      "execution_count": 46,
      "outputs": [
        {
          "output_type": "display_data",
          "data": {
            "text/plain": [
              "<Figure size 720x360 with 1 Axes>"
            ],
            "image/png": "[encoded data removed]"
          },
          "metadata": {
            "needs_background": "light"
          }
        }
      ]
    },
    {
      "cell_type": "markdown",
      "source": [
        "## Split Data into Train, Devset and Test"
      ],
      "metadata": {
        "id": "S2QXXiNMaZRX"
      }
    },
    {
      "cell_type": "code",
      "source": [
        "# Create fakedata\n",
        "fakedata = np.tile(np.array([1,2,3,4]),(10,1)) + np.tile(10*np.arange(1,11),(4,1)).T\n",
        "fakelabels = np.arange(10)>4\n",
        "print(fakedata)\n",
        "print()\n",
        "print(fakelabels)"
      ],
      "metadata": {
        "colab": {
          "base_uri": "https://localhost:8080/"
        },
        "id": "0KFSUPNvaejV",
        "outputId": "d11ce353-1ffe-43bd-9f65-caf983985e4a"
      },
      "execution_count": 47,
      "outputs": [
        {
          "output_type": "stream",
          "name": "stdout",
          "text": [
            "[[ 11  12  13  14]\n",
            " [ 21  22  23  24]\n",
            " [ 31  32  33  34]\n",
            " [ 41  42  43  44]\n",
            " [ 51  52  53  54]\n",
            " [ 61  62  63  64]\n",
            " [ 71  72  73  74]\n",
            " [ 81  82  83  84]\n",
            " [ 91  92  93  94]\n",
            " [101 102 103 104]]\n",
            "\n",
            "[False False False False False  True  True  True  True  True]\n"
          ]
        }
      ]
    },
    {
      "cell_type": "markdown",
      "source": [
        "### Using train-test split"
      ],
      "metadata": {
        "id": "SzvEromZa7w8"
      }
    },
    {
      "cell_type": "code",
      "source": [
        "# Define the sizes of partitions\n",
        "# order is train, devset and test\n",
        "partitions = [0.8, 0.1, 0.1]\n",
        "\n",
        "# split the data\n",
        "train_data, testTMP_data, train_labels, testTMP_labels = train_test_split(fakedata, fakelabels, train_size=partitions[0])\n",
        "\n",
        "# Now split the TMP data\n",
        "split = partitions[1]/np.sum(partitions[1:])\n",
        "print(split)\n",
        "devset_data, test_data, devset_labels, test_labels = train_test_split(testTMP_data, testTMP_labels, train_size=split)\n",
        "\n",
        "print(\"Training Data Size: {}\".format(train_data.shape))\n",
        "print(\"Devset Data Size: {}\".format(devset_data.shape))\n",
        "print(\"Test Data Size: {}\".format(test_data.shape))\n",
        "print()\n",
        "\n",
        "# Print out the data\n",
        "print(\"training Data\")\n",
        "print(train_data)\n",
        "print()\n",
        "print(\"Devset Data\")\n",
        "print(devset_data)\n",
        "print()\n",
        "print(\"Test Data\")\n",
        "print(test_data)"
      ],
      "metadata": {
        "colab": {
          "base_uri": "https://localhost:8080/"
        },
        "id": "yE6622sba4TK",
        "outputId": "0d3c39b9-4d70-477b-b5df-a667f6ab0609"
      },
      "execution_count": 48,
      "outputs": [
        {
          "output_type": "stream",
          "name": "stdout",
          "text": [
            "0.5\n",
            "Training Data Size: (8, 4)\n",
            "Devset Data Size: (1, 4)\n",
            "Test Data Size: (1, 4)\n",
            "\n",
            "training Data\n",
            "[[ 31  32  33  34]\n",
            " [ 21  22  23  24]\n",
            " [ 51  52  53  54]\n",
            " [ 61  62  63  64]\n",
            " [ 71  72  73  74]\n",
            " [101 102 103 104]\n",
            " [ 91  92  93  94]\n",
            " [ 81  82  83  84]]\n",
            "\n",
            "Devset Data\n",
            "[[41 42 43 44]]\n",
            "\n",
            "Test Data\n",
            "[[11 12 13 14]]\n"
          ]
        }
      ]
    },
    {
      "cell_type": "markdown",
      "source": [
        "### Split Manually Using Numpy"
      ],
      "metadata": {
        "id": "-fkCubi6dzSM"
      }
    },
    {
      "cell_type": "code",
      "source": [
        "# Define partitions\n",
        "partitions = np.array([0.8,0.1,0.1])\n",
        "print(\"Partition Proportions: {}\".format(partitions))"
      ],
      "metadata": {
        "colab": {
          "base_uri": "https://localhost:8080/"
        },
        "id": "VB-DOVURd3VY",
        "outputId": "d8d9388c-851d-4e44-e5a9-98ad812cd521"
      },
      "execution_count": 49,
      "outputs": [
        {
          "output_type": "stream",
          "name": "stdout",
          "text": [
            "Partition Proportions: [0.8 0.1 0.1]\n"
          ]
        }
      ]
    },
    {
      "cell_type": "code",
      "source": [
        "# Convert those into integers\n",
        "partitionBnd = np.cumsum(partitions*len(fakelabels)).astype(int)\n",
        "print(\"Partition Boundaries: {}\".format(partitionBnd))"
      ],
      "metadata": {
        "colab": {
          "base_uri": "https://localhost:8080/"
        },
        "id": "oX7K-9WaeMzy",
        "outputId": "77b69e28-f9f1-428b-95f5-40c4d00a1439"
      },
      "execution_count": 50,
      "outputs": [
        {
          "output_type": "stream",
          "name": "stdout",
          "text": [
            "Partition Boundaries: [ 8  9 10]\n"
          ]
        }
      ]
    },
    {
      "cell_type": "code",
      "source": [
        "# Random indices\n",
        "# first 8 will be train, next will be dev and the last one will be test set\n",
        "randindices = np.random.permutation(range(len(fakelabels)))\n",
        "print(\"Random Data Indices: {}\".format(randindices))"
      ],
      "metadata": {
        "colab": {
          "base_uri": "https://localhost:8080/"
        },
        "id": "KkDcp3J-eiZ7",
        "outputId": "d10c5a1d-3a89-47fa-9810-64ecd737f49a"
      },
      "execution_count": 51,
      "outputs": [
        {
          "output_type": "stream",
          "name": "stdout",
          "text": [
            "Random Data Indices: [6 5 7 3 9 1 4 0 8 2]\n"
          ]
        }
      ]
    },
    {
      "cell_type": "code",
      "source": [
        "# Select the rows for training data\n",
        "train_dataN = fakedata[randindices[:partitionBnd[0]],:]\n",
        "train_labelsN = fakelabels[randindices[:partitionBnd[0]]]\n",
        "\n",
        "# Select rows for devset\n",
        "devset_dataN = fakedata[randindices[partitionBnd[0]:partitionBnd[1]],:]\n",
        "devset_labelsN = fakelabels[randindices[partitionBnd[0]:partitionBnd[1]]]\n",
        "\n",
        "# test data\n",
        "test_dataN = fakedata[randindices[partitionBnd[1]:],:]\n",
        "test_labelsN = fakelabels[randindices[partitionBnd[1]:]]"
      ],
      "metadata": {
        "id": "fmqM-hPEe-dM"
      },
      "execution_count": 52,
      "outputs": []
    },
    {
      "cell_type": "code",
      "source": [
        "print(\"Training Data Size: {}\".format(train_dataN.shape))\n",
        "print(\"Devset Data Size: {}\".format(devset_dataN.shape))\n",
        "print(\"Test Data Size: {}\".format(test_dataN.shape))\n",
        "print()\n",
        "\n",
        "# Print out the data\n",
        "print(\"training Data\")\n",
        "print(train_dataN)\n",
        "print()\n",
        "print(\"Devset Data\")\n",
        "print(devset_dataN)\n",
        "print()\n",
        "print(\"Test Data\")\n",
        "print(test_dataN)"
      ],
      "metadata": {
        "colab": {
          "base_uri": "https://localhost:8080/"
        },
        "id": "c1DWL0BfgPz1",
        "outputId": "f9edc90f-e1c3-422f-cfe9-c6ee8c9fef46"
      },
      "execution_count": 53,
      "outputs": [
        {
          "output_type": "stream",
          "name": "stdout",
          "text": [
            "Training Data Size: (8, 4)\n",
            "Devset Data Size: (1, 4)\n",
            "Test Data Size: (1, 4)\n",
            "\n",
            "training Data\n",
            "[[ 71  72  73  74]\n",
            " [ 61  62  63  64]\n",
            " [ 81  82  83  84]\n",
            " [ 41  42  43  44]\n",
            " [101 102 103 104]\n",
            " [ 21  22  23  24]\n",
            " [ 51  52  53  54]\n",
            " [ 11  12  13  14]]\n",
            "\n",
            "Devset Data\n",
            "[[91 92 93 94]]\n",
            "\n",
            "Test Data\n",
            "[[31 32 33 34]]\n"
          ]
        }
      ]
    },
    {
      "cell_type": "markdown",
      "source": [
        "## Cross Validation on Regression"
      ],
      "metadata": {
        "id": "6eU2cHR6gsSA"
      }
    },
    {
      "cell_type": "code",
      "source": [
        "# create the data and the model\n",
        "N = 100\n",
        "x = torch.randn(N,1)\n",
        "y = x + torch.randn(N,1)\n",
        "\n",
        "# PLOT\n",
        "plt.plot(x,y, \"s\");"
      ],
      "metadata": {
        "colab": {
          "base_uri": "https://localhost:8080/",
          "height": 265
        },
        "id": "VYBsQip4gxuv",
        "outputId": "393d3d2f-a3d0-42e6-c93d-10c8505fb559"
      },
      "execution_count": 54,
      "outputs": [
        {
          "output_type": "display_data",
          "data": {
            "text/plain": [
              "<Figure size 432x288 with 1 Axes>"
            ],
            "image/png": "[encoded data removed]"
          },
          "metadata": {
            "needs_background": "light"
          }
        }
      ]
    },
    {
      "cell_type": "code",
      "source": [
        "# Build a simple model\n",
        "ANNreg = nn.Sequential(\n",
        "    nn.Linear(1,1),\n",
        "    nn.ReLU(),\n",
        "    nn.Linear(1,1),\n",
        "    )\n",
        "\n",
        "# Model parameters\n",
        "learningRate = 0.05\n",
        "\n",
        "lossfun = nn.MSELoss()\n",
        "\n",
        "optimizer = torch.optim.SGD(ANNreg.parameters(), lr = learningRate)"
      ],
      "metadata": {
        "id": "ct0VtGwLhEXh"
      },
      "execution_count": 55,
      "outputs": []
    },
    {
      "cell_type": "code",
      "source": [
        "# Select data for teaining\n",
        "trainidx = np.random.choice(range(N), int(0.8*N), replace=False)\n",
        "trainbool = np.zeros(N,dtype=bool)\n",
        "trainbool[trainidx] = True\n",
        "\n",
        "# Show the sizes\n",
        "print(x[trainbool].shape)\n",
        "print(x[~trainbool].shape)"
      ],
      "metadata": {
        "colab": {
          "base_uri": "https://localhost:8080/"
        },
        "id": "ys6qHetph0tq",
        "outputId": "1b42fcfb-8645-4268-e2b6-bb37406c1b2a"
      },
      "execution_count": 56,
      "outputs": [
        {
          "output_type": "stream",
          "name": "stdout",
          "text": [
            "torch.Size([80, 1])\n",
            "torch.Size([20, 1])\n"
          ]
        }
      ]
    },
    {
      "cell_type": "code",
      "source": [
        "# Train the model\n",
        "numepochs = 500\n",
        "for epochi in range(numepochs):\n",
        "\n",
        "    # forward pass\n",
        "    yHat = ANNreg(x[trainbool])\n",
        "\n",
        "    # compute the loss\n",
        "    loss = lossfun(yHat, y[trainbool])\n",
        "\n",
        "    # backpropagation\n",
        "    optimizer.zero_grad()\n",
        "    loss.backward()\n",
        "    optimizer.step()"
      ],
      "metadata": {
        "id": "_e6q7G2SiIl4"
      },
      "execution_count": 57,
      "outputs": []
    },
    {
      "cell_type": "code",
      "source": [
        "# Compute losses on test set\n",
        "predYtest = ANNreg(x[~trainbool])\n",
        "# MSE \n",
        "testloss = (predYtest - y[~trainbool]).pow(2).mean()\n",
        "\n",
        "print(\"Finat Train loss: {:.2f}\".format(loss.detach()))\n",
        "print(\"Finat Test loss: {:.2f}\".format(testloss.detach()))"
      ],
      "metadata": {
        "colab": {
          "base_uri": "https://localhost:8080/"
        },
        "id": "jE2oVHQ3jsFt",
        "outputId": "272763f4-0e0e-4281-e8a6-d23ae11e7222"
      },
      "execution_count": 58,
      "outputs": [
        {
          "output_type": "stream",
          "name": "stdout",
          "text": [
            "Finat Train loss: 1.20\n",
            "Finat Test loss: 0.64\n"
          ]
        }
      ]
    },
    {
      "cell_type": "code",
      "source": [
        "# Plot the data\n",
        "# predictions foR final training run\n",
        "predYtrain = ANNreg(x[trainbool]).detach().numpy()\n",
        "\n",
        "plt.plot(x,y, \"k^\", label = \"All Data\")\n",
        "plt.plot(x[trainbool], predYtrain, \"bs\", markerfacecolor=\"w\", label = \"Training Pred\")\n",
        "plt.plot(x[~trainbool], predYtest.detach(), \"ro\", markerfacecolor=\"w\", label=\"Test Pred\")\n",
        "plt.legend()\n",
        "plt.show()"
      ],
      "metadata": {
        "colab": {
          "base_uri": "https://localhost:8080/",
          "height": 265
        },
        "id": "FRsw8iaykac9",
        "outputId": "2600eca8-5e61-4baa-abc3-8d38b1bd3b86"
      },
      "execution_count": 59,
      "outputs": [
        {
          "output_type": "display_data",
          "data": {
            "text/plain": [
              "<Figure size 432x288 with 1 Axes>"
            ],
            "image/png": "[encoded data removed]"
          },
          "metadata": {
            "needs_background": "light"
          }
        }
      ]
    }
  ]
}