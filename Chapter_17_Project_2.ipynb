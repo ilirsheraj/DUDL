{
  "nbformat": 4,
  "nbformat_minor": 0,
  "metadata": {
    "colab": {
      "provenance": [],
      "authorship_tag": "ABX9TyPRAGHtKxojc1f0YIX6YhFh",
      "include_colab_link": true
    },
    "kernelspec": {
      "name": "python3",
      "display_name": "Python 3"
    },
    "language_info": {
      "name": "python"
    }
  },
  "cells": [
    {
      "cell_type": "markdown",
      "metadata": {
        "id": "view-in-github",
        "colab_type": "text"
      },
      "source": [
        "<a href=\"https://colab.research.google.com/github/ilirsheraj/DUDL/blob/main/Chapter_17_Project_2.ipynb\" target=\"_parent\"><img src=\"https://colab.research.google.com/assets/colab-badge.svg\" alt=\"Open In Colab\"/></a>"
      ]
    },
    {
      "cell_type": "code",
      "execution_count": null,
      "metadata": {
        "id": "7x83gxSVZLPH"
      },
      "outputs": [],
      "source": [
        "# Import the Libraries\n",
        "import numpy as np\n",
        "\n",
        "import torch\n",
        "import torch.nn as nn\n",
        "import torch.nn.functional as F\n",
        "from torch.utils.data import TensorDataset, DataLoader, Subset\n",
        "\n",
        "import torchvision\n",
        "import torchvision.transforms as T\n",
        "\n",
        "import matplotlib.pyplot as plt\n",
        "from IPython import display\n",
        "display.set_matplotlib_formats(\"svg\")"
      ]
    },
    {
      "cell_type": "markdown",
      "source": [
        "# CIFAR-10 Dataset Classification with Autoencoder"
      ],
      "metadata": {
        "id": "c9Z23MCyZUH_"
      }
    },
    {
      "cell_type": "code",
      "source": [
        "# Shift to GPU\n",
        "device = torch.device(\"cuda:0\" if torch.cuda.is_available() else \"cpu\")"
      ],
      "metadata": {
        "id": "BZFoXA98ZYAQ"
      },
      "execution_count": null,
      "outputs": []
    },
    {
      "cell_type": "code",
      "source": [
        "# transformations\n",
        "transform = T.Compose([ T.ToTensor(),\n",
        "                        T.Normalize([.5,.5,.5],[.5,.5,.5])\n",
        "                       ])\n",
        "\n",
        "# import the data and simultaneously apply the transform\n",
        "trainset = torchvision.datasets.CIFAR10(root='./data', train=True,  download=True, transform=transform)\n",
        "testset  = torchvision.datasets.CIFAR10(root='./data', train=False, download=True, transform=transform)\n",
        "\n",
        "# transform to dataloaders\n",
        "batchsize    = 32\n",
        "train_loader = DataLoader(trainset,batch_size=batchsize,shuffle=True,drop_last=True)\n",
        "test_loader  = DataLoader(testset, batch_size=256)"
      ],
      "metadata": {
        "id": "aBcs-en8Za6E"
      },
      "execution_count": null,
      "outputs": []
    },
    {
      "cell_type": "code",
      "source": [
        "# Check some pictures\n",
        "X,y = next(iter(train_loader))\n",
        "\n",
        "fig,axs = plt.subplots(4,4,figsize=(10,10))\n",
        "\n",
        "for (i,ax) in enumerate(axs.flatten()):\n",
        "\n",
        "    # extract that image (need to transpose it back to 32x32x3)\n",
        "    pic = X.data[i].numpy().transpose((1,2,0))\n",
        "    pic = pic/2 + .5 # undo normalization\n",
        "    \n",
        "    # and its label\n",
        "    label = trainset.classes[y[i]]\n",
        "\n",
        "    # and show!\n",
        "    ax.imshow(pic)\n",
        "    ax.text(16,0,label,ha='center',fontweight='bold',color='k',backgroundcolor='y')\n",
        "    ax.axis('off')\n",
        "\n",
        "plt.tight_layout()\n",
        "plt.show()"
      ],
      "metadata": {
        "id": "hRbJ84NyZ-OH"
      },
      "execution_count": null,
      "outputs": []
    }
  ]
}