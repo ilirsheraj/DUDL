{
  "nbformat": 4,
  "nbformat_minor": 0,
  "metadata": {
    "colab": {
      "provenance": [],
      "authorship_tag": "ABX9TyOwEXF4W06duZ843EF5hrZn",
      "include_colab_link": true
    },
    "kernelspec": {
      "name": "python3",
      "display_name": "Python 3"
    },
    "language_info": {
      "name": "python"
    }
  },
  "cells": [
    {
      "cell_type": "markdown",
      "metadata": {
        "id": "view-in-github",
        "colab_type": "text"
      },
      "source": [
        "<a href=\"https://colab.research.google.com/github/ilirsheraj/DUDL/blob/main/Chapter_15_Convolution_Part_3.ipynb\" target=\"_parent\"><img src=\"https://colab.research.google.com/assets/colab-badge.svg\" alt=\"Open In Colab\"/></a>"
      ]
    },
    {
      "cell_type": "code",
      "execution_count": 1,
      "metadata": {
        "id": "2ZfMm-OlrmxJ"
      },
      "outputs": [],
      "source": [
        "# Import the libraries\n",
        "import torch\n",
        "import torch.nn as nn"
      ]
    },
    {
      "cell_type": "markdown",
      "source": [
        "#Mean & Max Pooling"
      ],
      "metadata": {
        "id": "ZTdzU5VJsDEI"
      }
    },
    {
      "cell_type": "markdown",
      "source": [
        "## Create a Max Pool Instance"
      ],
      "metadata": {
        "id": "gmri5gZEsJHS"
      }
    },
    {
      "cell_type": "code",
      "source": [
        "# create a pool class instance with the following parameters\n",
        "poolSize = 3\n",
        "stride = 3\n",
        "\n",
        "# Create the instance\n",
        "p2 = nn.MaxPool2d(poolSize, stride=3)\n",
        "p3 = nn.MaxPool3d(poolSize, stride=3)\n",
        "\n",
        "print(p2)\n",
        "print(p3)"
      ],
      "metadata": {
        "colab": {
          "base_uri": "https://localhost:8080/"
        },
        "id": "VQS1uYJ2sB2w",
        "outputId": "8aa1cec6-717e-4e73-b996-7cf4cbbe0748"
      },
      "execution_count": 4,
      "outputs": [
        {
          "output_type": "stream",
          "name": "stdout",
          "text": [
            "MaxPool2d(kernel_size=3, stride=3, padding=0, dilation=1, ceil_mode=False)\n",
            "MaxPool3d(kernel_size=3, stride=3, padding=0, dilation=1, ceil_mode=False)\n"
          ]
        }
      ]
    },
    {
      "cell_type": "code",
      "source": [
        "# Create an image and apply max pooling\n",
        "\n",
        "# 2D image\n",
        "img2 = torch.randn(1,1,30,30)\n",
        "\n",
        "# 3D image\n",
        "img3 = torch.randn(1,3,30,30)\n",
        "\n",
        "# Check all the combinations of image and maxpool dimensionality\n",
        "img2Pool2 = p2(img2)\n",
        "print(f\"2D image, 2D maxpool: {img2Pool2.shape}\")\n",
        "print()\n",
        "\n",
        "# 2D image cannot be used in 3d pooling operation: It is impossible\n",
        "# img2Pool3 = p3(img2)\n",
        "# print(f\"2D image, 3D maxpool: {img2Pool3.shape}\")\n",
        "# print()\n",
        "\n",
        "img3Pool2 = p2(img3)\n",
        "print(f\"3D image, 2D maxpool: {img3Pool2.shape}\")\n",
        "print()\n",
        "\n",
        "img3Pool3 = p3(img3)\n",
        "print(f\"3D image, 3D maxpool: {img3Pool3.shape}\")\n",
        "print()"
      ],
      "metadata": {
        "colab": {
          "base_uri": "https://localhost:8080/"
        },
        "id": "V-IYj0_esm_H",
        "outputId": "551bd4bb-349d-45e8-e4c2-5cdb98bfd82e"
      },
      "execution_count": 6,
      "outputs": [
        {
          "output_type": "stream",
          "name": "stdout",
          "text": [
            "2D image, 2D maxpool: torch.Size([1, 1, 10, 10])\n",
            "\n",
            "3D image, 2D maxpool: torch.Size([1, 3, 10, 10])\n",
            "\n",
            "3D image, 3D maxpool: torch.Size([1, 1, 10, 10])\n",
            "\n"
          ]
        }
      ]
    },
    {
      "cell_type": "markdown",
      "source": [
        "## Create a CNN"
      ],
      "metadata": {
        "id": "AxDxwrSFuEwC"
      }
    },
    {
      "cell_type": "code",
      "source": [
        "# Construct a simple CNN architecture\n",
        "littlenet = nn.Sequential(\n",
        "\n",
        "    # The convolution-pool block\n",
        "    nn.Conv2d(3,10,5,3,2),  # Convolution layer\n",
        "    nn.ReLU(),              # The activation Function\n",
        "    nn.AvgPool3d(3,3),      # Average pooling\n",
        "\n",
        "    # The Feed-Forward Block\n",
        "    nn.Flatten(),           # Vectorize to het from image to linear\n",
        "    nn.Linear(588,1),       # Fully-Connected linear layer\n",
        "    nn.Sigmoid()            # Output Activation\n",
        "    )"
      ],
      "metadata": {
        "id": "on66V-jItgUW"
      },
      "execution_count": 8,
      "outputs": []
    },
    {
      "cell_type": "code",
      "source": [
        "# Test it with some data\n",
        "img = torch.rand(1,3,128,128)\n",
        "littlenet(img)\n",
        "# A dummy number, not trained model"
      ],
      "metadata": {
        "colab": {
          "base_uri": "https://localhost:8080/"
        },
        "id": "OVdiFwnLvhz7",
        "outputId": "775dc95c-826c-41a6-dd39-82af9a738ae7"
      },
      "execution_count": 9,
      "outputs": [
        {
          "output_type": "execute_result",
          "data": {
            "text/plain": [
              "tensor([[0.4902]], grad_fn=<SigmoidBackward0>)"
            ]
          },
          "metadata": {},
          "execution_count": 9
        }
      ]
    }
  ]
}