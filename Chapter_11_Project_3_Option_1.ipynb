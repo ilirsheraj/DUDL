{
  "nbformat": 4,
  "nbformat_minor": 0,
  "metadata": {
    "colab": {
      "provenance": [],
      "authorship_tag": "ABX9TyMxorBPv60Z1BNCF/QCiVJw",
      "include_colab_link": true
    },
    "kernelspec": {
      "name": "python3",
      "display_name": "Python 3"
    },
    "language_info": {
      "name": "python"
    }
  },
  "cells": [
    {
      "cell_type": "markdown",
      "metadata": {
        "id": "view-in-github",
        "colab_type": "text"
      },
      "source": [
        "<a href=\"https://colab.research.google.com/github/ilirsheraj/DUDL/blob/main/Chapter_11_Project_3_Option_1.ipynb\" target=\"_parent\"><img src=\"https://colab.research.google.com/assets/colab-badge.svg\" alt=\"Open In Colab\"/></a>"
      ]
    },
    {
      "cell_type": "markdown",
      "source": [
        "# Predicting Missing Values in Wine Dataset"
      ],
      "metadata": {
        "id": "d-BtECzFNB3x"
      }
    },
    {
      "cell_type": "markdown",
      "source": [
        "Take the wine dataset, randomly convert 10 values from residual sugar into NaN values, and then use it to train a model to predict the missing values. Finally, compare the values with the true ones using MSE and especially correlation"
      ],
      "metadata": {
        "id": "5MBEEyqKNG9g"
      }
    },
    {
      "cell_type": "code",
      "execution_count": 1,
      "metadata": {
        "id": "IIqGNy2iM2vr"
      },
      "outputs": [],
      "source": [
        "import torch\n",
        "import torch.nn as nn\n",
        "import torch.nn.functional as F\n",
        "import numpy as np\n",
        "import pandas as pd\n",
        "from torch.utils.data import DataLoader, TensorDataset\n",
        "import copy\n",
        "\n",
        "## Data Visualization\n",
        "import matplotlib.pyplot as plt\n",
        "import seaborn as sns\n",
        "\n",
        "## High-Quality Figures\n",
        "from IPython import display\n",
        "display.set_matplotlib_formats(\"svg\")"
      ]
    },
    {
      "cell_type": "code",
      "source": [
        "# We will use the Wine dataset.\n",
        "url = \"https://archive.ics.uci.edu/ml/machine-learning-databases/wine-quality/winequality-red.csv\"\n",
        "data = pd.read_csv(url, sep = \";\")\n",
        "\n",
        "# Remove the outlier in sulfur dioxide (we know it from previous analysis)\n",
        "data = data[data[\"total sulfur dioxide\"] < 200]\n",
        "# remove the quality colum since it is quite subjective and may interfere with the relationship\n",
        "data = data.drop([\"quality\"], axis=1)\n",
        "data.head()"
      ],
      "metadata": {
        "colab": {
          "base_uri": "https://localhost:8080/",
          "height": 206
        },
        "id": "8aqEdydANaZb",
        "outputId": "604cae28-4db0-45d9-d8fb-bdeb2eac46d0"
      },
      "execution_count": 2,
      "outputs": [
        {
          "output_type": "execute_result",
          "data": {
            "text/plain": [
              "   fixed acidity  volatile acidity  citric acid  residual sugar  chlorides  \\\n",
              "0            7.4              0.70         0.00             1.9      0.076   \n",
              "1            7.8              0.88         0.00             2.6      0.098   \n",
              "2            7.8              0.76         0.04             2.3      0.092   \n",
              "3           11.2              0.28         0.56             1.9      0.075   \n",
              "4            7.4              0.70         0.00             1.9      0.076   \n",
              "\n",
              "   free sulfur dioxide  total sulfur dioxide  density    pH  sulphates  \\\n",
              "0                 11.0                  34.0   0.9978  3.51       0.56   \n",
              "1                 25.0                  67.0   0.9968  3.20       0.68   \n",
              "2                 15.0                  54.0   0.9970  3.26       0.65   \n",
              "3                 17.0                  60.0   0.9980  3.16       0.58   \n",
              "4                 11.0                  34.0   0.9978  3.51       0.56   \n",
              "\n",
              "   alcohol  \n",
              "0      9.4  \n",
              "1      9.8  \n",
              "2      9.8  \n",
              "3      9.8  \n",
              "4      9.4  "
            ],
            "text/html": [
              "\n",
              "  <div id=\"df-fbdd4645-db70-4d0e-b828-6541b2144c85\">\n",
              "    <div class=\"colab-df-container\">\n",
              "      <div>\n",
              "<style scoped>\n",
              "    .dataframe tbody tr th:only-of-type {\n",
              "        vertical-align: middle;\n",
              "    }\n",
              "\n",
              "    .dataframe tbody tr th {\n",
              "        vertical-align: top;\n",
              "    }\n",
              "\n",
              "    .dataframe thead th {\n",
              "        text-align: right;\n",
              "    }\n",
              "</style>\n",
              "<table border=\"1\" class=\"dataframe\">\n",
              "  <thead>\n",
              "    <tr style=\"text-align: right;\">\n",
              "      <th></th>\n",
              "      <th>fixed acidity</th>\n",
              "      <th>volatile acidity</th>\n",
              "      <th>citric acid</th>\n",
              "      <th>residual sugar</th>\n",
              "      <th>chlorides</th>\n",
              "      <th>free sulfur dioxide</th>\n",
              "      <th>total sulfur dioxide</th>\n",
              "      <th>density</th>\n",
              "      <th>pH</th>\n",
              "      <th>sulphates</th>\n",
              "      <th>alcohol</th>\n",
              "    </tr>\n",
              "  </thead>\n",
              "  <tbody>\n",
              "    <tr>\n",
              "      <th>0</th>\n",
              "      <td>7.4</td>\n",
              "      <td>0.70</td>\n",
              "      <td>0.00</td>\n",
              "      <td>1.9</td>\n",
              "      <td>0.076</td>\n",
              "      <td>11.0</td>\n",
              "      <td>34.0</td>\n",
              "      <td>0.9978</td>\n",
              "      <td>3.51</td>\n",
              "      <td>0.56</td>\n",
              "      <td>9.4</td>\n",
              "    </tr>\n",
              "    <tr>\n",
              "      <th>1</th>\n",
              "      <td>7.8</td>\n",
              "      <td>0.88</td>\n",
              "      <td>0.00</td>\n",
              "      <td>2.6</td>\n",
              "      <td>0.098</td>\n",
              "      <td>25.0</td>\n",
              "      <td>67.0</td>\n",
              "      <td>0.9968</td>\n",
              "      <td>3.20</td>\n",
              "      <td>0.68</td>\n",
              "      <td>9.8</td>\n",
              "    </tr>\n",
              "    <tr>\n",
              "      <th>2</th>\n",
              "      <td>7.8</td>\n",
              "      <td>0.76</td>\n",
              "      <td>0.04</td>\n",
              "      <td>2.3</td>\n",
              "      <td>0.092</td>\n",
              "      <td>15.0</td>\n",
              "      <td>54.0</td>\n",
              "      <td>0.9970</td>\n",
              "      <td>3.26</td>\n",
              "      <td>0.65</td>\n",
              "      <td>9.8</td>\n",
              "    </tr>\n",
              "    <tr>\n",
              "      <th>3</th>\n",
              "      <td>11.2</td>\n",
              "      <td>0.28</td>\n",
              "      <td>0.56</td>\n",
              "      <td>1.9</td>\n",
              "      <td>0.075</td>\n",
              "      <td>17.0</td>\n",
              "      <td>60.0</td>\n",
              "      <td>0.9980</td>\n",
              "      <td>3.16</td>\n",
              "      <td>0.58</td>\n",
              "      <td>9.8</td>\n",
              "    </tr>\n",
              "    <tr>\n",
              "      <th>4</th>\n",
              "      <td>7.4</td>\n",
              "      <td>0.70</td>\n",
              "      <td>0.00</td>\n",
              "      <td>1.9</td>\n",
              "      <td>0.076</td>\n",
              "      <td>11.0</td>\n",
              "      <td>34.0</td>\n",
              "      <td>0.9978</td>\n",
              "      <td>3.51</td>\n",
              "      <td>0.56</td>\n",
              "      <td>9.4</td>\n",
              "    </tr>\n",
              "  </tbody>\n",
              "</table>\n",
              "</div>\n",
              "      <button class=\"colab-df-convert\" onclick=\"convertToInteractive('df-fbdd4645-db70-4d0e-b828-6541b2144c85')\"\n",
              "              title=\"Convert this dataframe to an interactive table.\"\n",
              "              style=\"display:none;\">\n",
              "        \n",
              "  <svg xmlns=\"http://www.w3.org/2000/svg\" height=\"24px\"viewBox=\"0 0 24 24\"\n",
              "       width=\"24px\">\n",
              "    <path d=\"M0 0h24v24H0V0z\" fill=\"none\"/>\n",
              "    <path d=\"M18.56 5.44l.94 2.06.94-2.06 2.06-.94-2.06-.94-.94-2.06-.94 2.06-2.06.94zm-11 1L8.5 8.5l.94-2.06 2.06-.94-2.06-.94L8.5 2.5l-.94 2.06-2.06.94zm10 10l.94 2.06.94-2.06 2.06-.94-2.06-.94-.94-2.06-.94 2.06-2.06.94z\"/><path d=\"M17.41 7.96l-1.37-1.37c-.4-.4-.92-.59-1.43-.59-.52 0-1.04.2-1.43.59L10.3 9.45l-7.72 7.72c-.78.78-.78 2.05 0 2.83L4 21.41c.39.39.9.59 1.41.59.51 0 1.02-.2 1.41-.59l7.78-7.78 2.81-2.81c.8-.78.8-2.07 0-2.86zM5.41 20L4 18.59l7.72-7.72 1.47 1.35L5.41 20z\"/>\n",
              "  </svg>\n",
              "      </button>\n",
              "      \n",
              "  <style>\n",
              "    .colab-df-container {\n",
              "      display:flex;\n",
              "      flex-wrap:wrap;\n",
              "      gap: 12px;\n",
              "    }\n",
              "\n",
              "    .colab-df-convert {\n",
              "      background-color: #E8F0FE;\n",
              "      border: none;\n",
              "      border-radius: 50%;\n",
              "      cursor: pointer;\n",
              "      display: none;\n",
              "      fill: #1967D2;\n",
              "      height: 32px;\n",
              "      padding: 0 0 0 0;\n",
              "      width: 32px;\n",
              "    }\n",
              "\n",
              "    .colab-df-convert:hover {\n",
              "      background-color: #E2EBFA;\n",
              "      box-shadow: 0px 1px 2px rgba(60, 64, 67, 0.3), 0px 1px 3px 1px rgba(60, 64, 67, 0.15);\n",
              "      fill: #174EA6;\n",
              "    }\n",
              "\n",
              "    [theme=dark] .colab-df-convert {\n",
              "      background-color: #3B4455;\n",
              "      fill: #D2E3FC;\n",
              "    }\n",
              "\n",
              "    [theme=dark] .colab-df-convert:hover {\n",
              "      background-color: #434B5C;\n",
              "      box-shadow: 0px 1px 3px 1px rgba(0, 0, 0, 0.15);\n",
              "      filter: drop-shadow(0px 1px 2px rgba(0, 0, 0, 0.3));\n",
              "      fill: #FFFFFF;\n",
              "    }\n",
              "  </style>\n",
              "\n",
              "      <script>\n",
              "        const buttonEl =\n",
              "          document.querySelector('#df-fbdd4645-db70-4d0e-b828-6541b2144c85 button.colab-df-convert');\n",
              "        buttonEl.style.display =\n",
              "          google.colab.kernel.accessAllowed ? 'block' : 'none';\n",
              "\n",
              "        async function convertToInteractive(key) {\n",
              "          const element = document.querySelector('#df-fbdd4645-db70-4d0e-b828-6541b2144c85');\n",
              "          const dataTable =\n",
              "            await google.colab.kernel.invokeFunction('convertToInteractive',\n",
              "                                                     [key], {});\n",
              "          if (!dataTable) return;\n",
              "\n",
              "          const docLinkHtml = 'Like what you see? Visit the ' +\n",
              "            '<a target=\"_blank\" href=https://colab.research.google.com/notebooks/data_table.ipynb>data table notebook</a>'\n",
              "            + ' to learn more about interactive tables.';\n",
              "          element.innerHTML = '';\n",
              "          dataTable['output_type'] = 'display_data';\n",
              "          await google.colab.output.renderOutput(dataTable, element);\n",
              "          const docLink = document.createElement('div');\n",
              "          docLink.innerHTML = docLinkHtml;\n",
              "          element.appendChild(docLink);\n",
              "        }\n",
              "      </script>\n",
              "    </div>\n",
              "  </div>\n",
              "  "
            ]
          },
          "metadata": {},
          "execution_count": 2
        }
      ]
    },
    {
      "cell_type": "code",
      "source": [
        "# Normalize all features\n",
        "data = (data - data.mean())/data.std(ddof=1)\n",
        "data.head()"
      ],
      "metadata": {
        "colab": {
          "base_uri": "https://localhost:8080/",
          "height": 206
        },
        "id": "-tIKSqr7OinG",
        "outputId": "dbd93d09-8b20-416a-ea3d-29f8b14f11c0"
      },
      "execution_count": 3,
      "outputs": [
        {
          "output_type": "execute_result",
          "data": {
            "text/plain": [
              "   fixed acidity  volatile acidity  citric acid  residual sugar  chlorides  \\\n",
              "0      -0.528185          0.960356    -1.391387       -0.452437  -0.244571   \n",
              "1      -0.298580          1.965999    -1.391387        0.049005   0.222757   \n",
              "2      -0.298580          1.295570    -1.185609       -0.165899   0.095304   \n",
              "3       1.653061         -1.386143     1.489509       -0.452437  -0.265814   \n",
              "4      -0.528185          0.960356    -1.391387       -0.452437  -0.244571   \n",
              "\n",
              "   free sulfur dioxide  total sulfur dioxide   density        pH  sulphates  \\\n",
              "0            -0.464413             -0.382415  0.556633  1.288066  -0.580034   \n",
              "1             0.876758              0.654456  0.025914 -0.723425   0.127797   \n",
              "2            -0.081221              0.245992  0.132058 -0.334104  -0.049161   \n",
              "3             0.110375              0.434514  0.662777 -0.982972  -0.462063   \n",
              "4            -0.464413             -0.382415  0.556633  1.288066  -0.580034   \n",
              "\n",
              "    alcohol  \n",
              "0 -0.959006  \n",
              "1 -0.583159  \n",
              "2 -0.583159  \n",
              "3 -0.583159  \n",
              "4 -0.959006  "
            ],
            "text/html": [
              "\n",
              "  <div id=\"df-0f698cd7-e4ce-4239-854b-09cf1ef6fb47\">\n",
              "    <div class=\"colab-df-container\">\n",
              "      <div>\n",
              "<style scoped>\n",
              "    .dataframe tbody tr th:only-of-type {\n",
              "        vertical-align: middle;\n",
              "    }\n",
              "\n",
              "    .dataframe tbody tr th {\n",
              "        vertical-align: top;\n",
              "    }\n",
              "\n",
              "    .dataframe thead th {\n",
              "        text-align: right;\n",
              "    }\n",
              "</style>\n",
              "<table border=\"1\" class=\"dataframe\">\n",
              "  <thead>\n",
              "    <tr style=\"text-align: right;\">\n",
              "      <th></th>\n",
              "      <th>fixed acidity</th>\n",
              "      <th>volatile acidity</th>\n",
              "      <th>citric acid</th>\n",
              "      <th>residual sugar</th>\n",
              "      <th>chlorides</th>\n",
              "      <th>free sulfur dioxide</th>\n",
              "      <th>total sulfur dioxide</th>\n",
              "      <th>density</th>\n",
              "      <th>pH</th>\n",
              "      <th>sulphates</th>\n",
              "      <th>alcohol</th>\n",
              "    </tr>\n",
              "  </thead>\n",
              "  <tbody>\n",
              "    <tr>\n",
              "      <th>0</th>\n",
              "      <td>-0.528185</td>\n",
              "      <td>0.960356</td>\n",
              "      <td>-1.391387</td>\n",
              "      <td>-0.452437</td>\n",
              "      <td>-0.244571</td>\n",
              "      <td>-0.464413</td>\n",
              "      <td>-0.382415</td>\n",
              "      <td>0.556633</td>\n",
              "      <td>1.288066</td>\n",
              "      <td>-0.580034</td>\n",
              "      <td>-0.959006</td>\n",
              "    </tr>\n",
              "    <tr>\n",
              "      <th>1</th>\n",
              "      <td>-0.298580</td>\n",
              "      <td>1.965999</td>\n",
              "      <td>-1.391387</td>\n",
              "      <td>0.049005</td>\n",
              "      <td>0.222757</td>\n",
              "      <td>0.876758</td>\n",
              "      <td>0.654456</td>\n",
              "      <td>0.025914</td>\n",
              "      <td>-0.723425</td>\n",
              "      <td>0.127797</td>\n",
              "      <td>-0.583159</td>\n",
              "    </tr>\n",
              "    <tr>\n",
              "      <th>2</th>\n",
              "      <td>-0.298580</td>\n",
              "      <td>1.295570</td>\n",
              "      <td>-1.185609</td>\n",
              "      <td>-0.165899</td>\n",
              "      <td>0.095304</td>\n",
              "      <td>-0.081221</td>\n",
              "      <td>0.245992</td>\n",
              "      <td>0.132058</td>\n",
              "      <td>-0.334104</td>\n",
              "      <td>-0.049161</td>\n",
              "      <td>-0.583159</td>\n",
              "    </tr>\n",
              "    <tr>\n",
              "      <th>3</th>\n",
              "      <td>1.653061</td>\n",
              "      <td>-1.386143</td>\n",
              "      <td>1.489509</td>\n",
              "      <td>-0.452437</td>\n",
              "      <td>-0.265814</td>\n",
              "      <td>0.110375</td>\n",
              "      <td>0.434514</td>\n",
              "      <td>0.662777</td>\n",
              "      <td>-0.982972</td>\n",
              "      <td>-0.462063</td>\n",
              "      <td>-0.583159</td>\n",
              "    </tr>\n",
              "    <tr>\n",
              "      <th>4</th>\n",
              "      <td>-0.528185</td>\n",
              "      <td>0.960356</td>\n",
              "      <td>-1.391387</td>\n",
              "      <td>-0.452437</td>\n",
              "      <td>-0.244571</td>\n",
              "      <td>-0.464413</td>\n",
              "      <td>-0.382415</td>\n",
              "      <td>0.556633</td>\n",
              "      <td>1.288066</td>\n",
              "      <td>-0.580034</td>\n",
              "      <td>-0.959006</td>\n",
              "    </tr>\n",
              "  </tbody>\n",
              "</table>\n",
              "</div>\n",
              "      <button class=\"colab-df-convert\" onclick=\"convertToInteractive('df-0f698cd7-e4ce-4239-854b-09cf1ef6fb47')\"\n",
              "              title=\"Convert this dataframe to an interactive table.\"\n",
              "              style=\"display:none;\">\n",
              "        \n",
              "  <svg xmlns=\"http://www.w3.org/2000/svg\" height=\"24px\"viewBox=\"0 0 24 24\"\n",
              "       width=\"24px\">\n",
              "    <path d=\"M0 0h24v24H0V0z\" fill=\"none\"/>\n",
              "    <path d=\"M18.56 5.44l.94 2.06.94-2.06 2.06-.94-2.06-.94-.94-2.06-.94 2.06-2.06.94zm-11 1L8.5 8.5l.94-2.06 2.06-.94-2.06-.94L8.5 2.5l-.94 2.06-2.06.94zm10 10l.94 2.06.94-2.06 2.06-.94-2.06-.94-.94-2.06-.94 2.06-2.06.94z\"/><path d=\"M17.41 7.96l-1.37-1.37c-.4-.4-.92-.59-1.43-.59-.52 0-1.04.2-1.43.59L10.3 9.45l-7.72 7.72c-.78.78-.78 2.05 0 2.83L4 21.41c.39.39.9.59 1.41.59.51 0 1.02-.2 1.41-.59l7.78-7.78 2.81-2.81c.8-.78.8-2.07 0-2.86zM5.41 20L4 18.59l7.72-7.72 1.47 1.35L5.41 20z\"/>\n",
              "  </svg>\n",
              "      </button>\n",
              "      \n",
              "  <style>\n",
              "    .colab-df-container {\n",
              "      display:flex;\n",
              "      flex-wrap:wrap;\n",
              "      gap: 12px;\n",
              "    }\n",
              "\n",
              "    .colab-df-convert {\n",
              "      background-color: #E8F0FE;\n",
              "      border: none;\n",
              "      border-radius: 50%;\n",
              "      cursor: pointer;\n",
              "      display: none;\n",
              "      fill: #1967D2;\n",
              "      height: 32px;\n",
              "      padding: 0 0 0 0;\n",
              "      width: 32px;\n",
              "    }\n",
              "\n",
              "    .colab-df-convert:hover {\n",
              "      background-color: #E2EBFA;\n",
              "      box-shadow: 0px 1px 2px rgba(60, 64, 67, 0.3), 0px 1px 3px 1px rgba(60, 64, 67, 0.15);\n",
              "      fill: #174EA6;\n",
              "    }\n",
              "\n",
              "    [theme=dark] .colab-df-convert {\n",
              "      background-color: #3B4455;\n",
              "      fill: #D2E3FC;\n",
              "    }\n",
              "\n",
              "    [theme=dark] .colab-df-convert:hover {\n",
              "      background-color: #434B5C;\n",
              "      box-shadow: 0px 1px 3px 1px rgba(0, 0, 0, 0.15);\n",
              "      filter: drop-shadow(0px 1px 2px rgba(0, 0, 0, 0.3));\n",
              "      fill: #FFFFFF;\n",
              "    }\n",
              "  </style>\n",
              "\n",
              "      <script>\n",
              "        const buttonEl =\n",
              "          document.querySelector('#df-0f698cd7-e4ce-4239-854b-09cf1ef6fb47 button.colab-df-convert');\n",
              "        buttonEl.style.display =\n",
              "          google.colab.kernel.accessAllowed ? 'block' : 'none';\n",
              "\n",
              "        async function convertToInteractive(key) {\n",
              "          const element = document.querySelector('#df-0f698cd7-e4ce-4239-854b-09cf1ef6fb47');\n",
              "          const dataTable =\n",
              "            await google.colab.kernel.invokeFunction('convertToInteractive',\n",
              "                                                     [key], {});\n",
              "          if (!dataTable) return;\n",
              "\n",
              "          const docLinkHtml = 'Like what you see? Visit the ' +\n",
              "            '<a target=\"_blank\" href=https://colab.research.google.com/notebooks/data_table.ipynb>data table notebook</a>'\n",
              "            + ' to learn more about interactive tables.';\n",
              "          element.innerHTML = '';\n",
              "          dataTable['output_type'] = 'display_data';\n",
              "          await google.colab.output.renderOutput(dataTable, element);\n",
              "          const docLink = document.createElement('div');\n",
              "          docLink.innerHTML = docLinkHtml;\n",
              "          element.appendChild(docLink);\n",
              "        }\n",
              "      </script>\n",
              "    </div>\n",
              "  </div>\n",
              "  "
            ]
          },
          "metadata": {},
          "execution_count": 3
        }
      ]
    },
    {
      "cell_type": "code",
      "source": [
        "fig, ax = plt.subplots(1, figsize=(15,5))\n",
        "ax = sns.boxplot(data = data)\n",
        "ax.set_xticklabels(ax.get_xticklabels(), rotation=45)\n",
        "ax.set_ylabel(\"Normalized Values\")\n",
        "plt.show()"
      ],
      "metadata": {
        "colab": {
          "base_uri": "https://localhost:8080/",
          "height": 510
        },
        "id": "g4h7TBoAP0ld",
        "outputId": "11b63056-0da1-4601-f84d-825e1f18cfba"
      },
      "execution_count": 4,
      "outputs": [
        {
          "output_type": "display_data",
          "data": {
            "text/plain": [
              "<Figure size 1080x360 with 1 Axes>"
            ],
            "image/svg+xml": "<?xml version=\"1.0\" encoding=\"utf-8\" standalone=\"no\"?>\n<!DOCTYPE svg PUBLIC \"-//W3C//DTD SVG 1.1//EN\"\n  \"http://www.w3.org/Graphics/SVG/1.1/DTD/svg11.dtd\">\n<!-- Created with matplotlib (https://matplotlib.org/) -->\n<svg height=\"366.261808pt\" version=\"1.1\" viewBox=\"0 0 886.820312 366.261808\" width=\"886.820312pt\" xmlns=\"http://www.w3.org/2000/svg\" xmlns:xlink=\"http://www.w3.org/1999/xlink\">\n <defs>\n  <style type=\"text/css\">\n*{stroke-linecap:butt;stroke-linejoin:round;}\n  </style>\n </defs>\n <g id=\"figure_1\">\n  <g id=\"patch_1\">\n   <path d=\"M 0 366.261808 \nL 886.820312 366.261808 \nL 886.820312 0 \nL 0 0 \nz\n\" style=\"fill:none;\"/>\n  </g>\n  <g id=\"axes_1\">\n   <g id=\"patch_2\">\n    <path d=\"M 42.620313 279 \nL 879.620312 279 \nL 879.620312 7.2 \nL 42.620313 7.2 \nz\n\" style=\"fill:#ffffff;\"/>\n   </g>\n   <g id=\"patch_3\">\n    <path clip-path=\"url(#p0cacd2b75e)\" d=\"M 50.229403 216.524336 \nL 111.102131 216.524336 \nL 111.102131 196.437671 \nL 50.229403 196.437671 \nL 50.229403 216.524336 \nz\n\" style=\"fill:#ea96a3;stroke:#474747;stroke-linejoin:miter;stroke-width:1.5;\"/>\n   </g>\n   <g id=\"patch_4\">\n    <path clip-path=\"url(#p0cacd2b75e)\" d=\"M 126.320313 217.710707 \nL 187.19304 217.710707 \nL 187.19304 194.436301 \nL 126.320313 194.436301 \nL 126.320313 217.710707 \nz\n\" style=\"fill:#dc924e;stroke:#474747;stroke-linejoin:miter;stroke-width:1.5;\"/>\n   </g>\n   <g id=\"patch_5\">\n    <path clip-path=\"url(#p0cacd2b75e)\" d=\"M 202.411222 220.323589 \nL 263.283949 220.323589 \nL 263.283949 192.034369 \nL 202.411222 192.034369 \nL 202.411222 220.323589 \nz\n\" style=\"fill:#b39d48;stroke:#474747;stroke-linejoin:miter;stroke-width:1.5;\"/>\n   </g>\n   <g id=\"patch_6\">\n    <path clip-path=\"url(#p0cacd2b75e)\" d=\"M 278.502131 212.392592 \nL 339.374858 212.392592 \nL 339.374858 204.036788 \nL 278.502131 204.036788 \nL 278.502131 212.392592 \nz\n\" style=\"fill:#8ea546;stroke:#474747;stroke-linejoin:miter;stroke-width:1.5;\"/>\n   </g>\n   <g id=\"patch_7\">\n    <path clip-path=\"url(#p0cacd2b75e)\" d=\"M 354.59304 211.052634 \nL 415.465767 211.052634 \nL 415.465767 203.973222 \nL 354.59304 203.973222 \nL 354.59304 211.052634 \nz\n\" style=\"fill:#48b067;stroke:#474747;stroke-linejoin:miter;stroke-width:1.5;\"/>\n   </g>\n   <g id=\"patch_8\">\n    <path clip-path=\"url(#p0cacd2b75e)\" d=\"M 430.683949 218.977481 \nL 491.556676 218.977481 \nL 491.556676 196.62882 \nL 430.683949 196.62882 \nL 430.683949 218.977481 \nz\n\" style=\"fill:#4aac98;stroke:#474747;stroke-linejoin:miter;stroke-width:1.5;\"/>\n   </g>\n   <g id=\"patch_9\">\n    <path clip-path=\"url(#p0cacd2b75e)\" d=\"M 506.774858 217.508677 \nL 567.647585 217.508677 \nL 567.647585 196.565691 \nL 506.774858 196.565691 \nL 506.774858 217.508677 \nz\n\" style=\"fill:#4dabb0;stroke:#474747;stroke-linejoin:miter;stroke-width:1.5;\"/>\n   </g>\n   <g id=\"patch_10\">\n    <path clip-path=\"url(#p0cacd2b75e)\" d=\"M 582.865767 215.03394 \nL 643.738494 215.03394 \nL 643.738494 195.224156 \nL 582.865767 195.224156 \nL 582.865767 215.03394 \nz\n\" style=\"fill:#54acd3;stroke:#474747;stroke-linejoin:miter;stroke-width:1.5;\"/>\n   </g>\n   <g id=\"patch_11\">\n    <path clip-path=\"url(#p0cacd2b75e)\" d=\"M 658.956676 215.826965 \nL 719.829403 215.826965 \nL 719.829403 195.28332 \nL 658.956676 195.28332 \nL 658.956676 215.826965 \nz\n\" style=\"fill:#a9aceb;stroke:#474747;stroke-linejoin:miter;stroke-width:1.5;\"/>\n   </g>\n   <g id=\"patch_12\">\n    <path clip-path=\"url(#p0cacd2b75e)\" d=\"M 735.047585 215.50173 \nL 795.920313 215.50173 \nL 795.920313 197.809263 \nL 735.047585 197.809263 \nL 735.047585 215.50173 \nz\n\" style=\"fill:#d795e8;stroke:#474747;stroke-linejoin:miter;stroke-width:1.5;\"/>\n   </g>\n   <g id=\"patch_13\">\n    <path clip-path=\"url(#p0cacd2b75e)\" d=\"M 811.138494 219.268092 \nL 872.011222 219.268092 \nL 872.011222 194.216254 \nL 811.138494 194.216254 \nL 811.138494 219.268092 \nz\n\" style=\"fill:#e88fc9;stroke:#474747;stroke-linejoin:miter;stroke-width:1.5;\"/>\n   </g>\n   <g id=\"matplotlib.axis_1\">\n    <g id=\"xtick_1\">\n     <g id=\"line2d_1\">\n      <defs>\n       <path d=\"M 0 0 \nL 0 3.5 \n\" id=\"m24e419f923\" style=\"stroke:#000000;stroke-width:0.8;\"/>\n      </defs>\n      <g>\n       <use style=\"stroke:#000000;stroke-width:0.8;\" x=\"80.665767\" xlink:href=\"#m24e419f923\" y=\"279\"/>\n      </g>\n     </g>\n     <g id=\"text_1\">\n      <!-- fixed acidity -->\n      <defs>\n       <path d=\"M 37.109375 75.984375 \nL 37.109375 68.5 \nL 28.515625 68.5 \nQ 23.6875 68.5 21.796875 66.546875 \nQ 19.921875 64.59375 19.921875 59.515625 \nL 19.921875 54.6875 \nL 34.71875 54.6875 \nL 34.71875 47.703125 \nL 19.921875 47.703125 \nL 19.921875 0 \nL 10.890625 0 \nL 10.890625 47.703125 \nL 2.296875 47.703125 \nL 2.296875 54.6875 \nL 10.890625 54.6875 \nL 10.890625 58.5 \nQ 10.890625 67.625 15.140625 71.796875 \nQ 19.390625 75.984375 28.609375 75.984375 \nz\n\" id=\"DejaVuSans-102\"/>\n       <path d=\"M 9.421875 54.6875 \nL 18.40625 54.6875 \nL 18.40625 0 \nL 9.421875 0 \nz\nM 9.421875 75.984375 \nL 18.40625 75.984375 \nL 18.40625 64.59375 \nL 9.421875 64.59375 \nz\n\" id=\"DejaVuSans-105\"/>\n       <path d=\"M 54.890625 54.6875 \nL 35.109375 28.078125 \nL 55.90625 0 \nL 45.3125 0 \nL 29.390625 21.484375 \nL 13.484375 0 \nL 2.875 0 \nL 24.125 28.609375 \nL 4.6875 54.6875 \nL 15.28125 54.6875 \nL 29.78125 35.203125 \nL 44.28125 54.6875 \nz\n\" id=\"DejaVuSans-120\"/>\n       <path d=\"M 56.203125 29.59375 \nL 56.203125 25.203125 \nL 14.890625 25.203125 \nQ 15.484375 15.921875 20.484375 11.0625 \nQ 25.484375 6.203125 34.421875 6.203125 \nQ 39.59375 6.203125 44.453125 7.46875 \nQ 49.3125 8.734375 54.109375 11.28125 \nL 54.109375 2.78125 \nQ 49.265625 0.734375 44.1875 -0.34375 \nQ 39.109375 -1.421875 33.890625 -1.421875 \nQ 20.796875 -1.421875 13.15625 6.1875 \nQ 5.515625 13.8125 5.515625 26.8125 \nQ 5.515625 40.234375 12.765625 48.109375 \nQ 20.015625 56 32.328125 56 \nQ 43.359375 56 49.78125 48.890625 \nQ 56.203125 41.796875 56.203125 29.59375 \nz\nM 47.21875 32.234375 \nQ 47.125 39.59375 43.09375 43.984375 \nQ 39.0625 48.390625 32.421875 48.390625 \nQ 24.90625 48.390625 20.390625 44.140625 \nQ 15.875 39.890625 15.1875 32.171875 \nz\n\" id=\"DejaVuSans-101\"/>\n       <path d=\"M 45.40625 46.390625 \nL 45.40625 75.984375 \nL 54.390625 75.984375 \nL 54.390625 0 \nL 45.40625 0 \nL 45.40625 8.203125 \nQ 42.578125 3.328125 38.25 0.953125 \nQ 33.9375 -1.421875 27.875 -1.421875 \nQ 17.96875 -1.421875 11.734375 6.484375 \nQ 5.515625 14.40625 5.515625 27.296875 \nQ 5.515625 40.1875 11.734375 48.09375 \nQ 17.96875 56 27.875 56 \nQ 33.9375 56 38.25 53.625 \nQ 42.578125 51.265625 45.40625 46.390625 \nz\nM 14.796875 27.296875 \nQ 14.796875 17.390625 18.875 11.75 \nQ 22.953125 6.109375 30.078125 6.109375 \nQ 37.203125 6.109375 41.296875 11.75 \nQ 45.40625 17.390625 45.40625 27.296875 \nQ 45.40625 37.203125 41.296875 42.84375 \nQ 37.203125 48.484375 30.078125 48.484375 \nQ 22.953125 48.484375 18.875 42.84375 \nQ 14.796875 37.203125 14.796875 27.296875 \nz\n\" id=\"DejaVuSans-100\"/>\n       <path id=\"DejaVuSans-32\"/>\n       <path d=\"M 34.28125 27.484375 \nQ 23.390625 27.484375 19.1875 25 \nQ 14.984375 22.515625 14.984375 16.5 \nQ 14.984375 11.71875 18.140625 8.90625 \nQ 21.296875 6.109375 26.703125 6.109375 \nQ 34.1875 6.109375 38.703125 11.40625 \nQ 43.21875 16.703125 43.21875 25.484375 \nL 43.21875 27.484375 \nz\nM 52.203125 31.203125 \nL 52.203125 0 \nL 43.21875 0 \nL 43.21875 8.296875 \nQ 40.140625 3.328125 35.546875 0.953125 \nQ 30.953125 -1.421875 24.3125 -1.421875 \nQ 15.921875 -1.421875 10.953125 3.296875 \nQ 6 8.015625 6 15.921875 \nQ 6 25.140625 12.171875 29.828125 \nQ 18.359375 34.515625 30.609375 34.515625 \nL 43.21875 34.515625 \nL 43.21875 35.40625 \nQ 43.21875 41.609375 39.140625 45 \nQ 35.0625 48.390625 27.6875 48.390625 \nQ 23 48.390625 18.546875 47.265625 \nQ 14.109375 46.140625 10.015625 43.890625 \nL 10.015625 52.203125 \nQ 14.9375 54.109375 19.578125 55.046875 \nQ 24.21875 56 28.609375 56 \nQ 40.484375 56 46.34375 49.84375 \nQ 52.203125 43.703125 52.203125 31.203125 \nz\n\" id=\"DejaVuSans-97\"/>\n       <path d=\"M 48.78125 52.59375 \nL 48.78125 44.1875 \nQ 44.96875 46.296875 41.140625 47.34375 \nQ 37.3125 48.390625 33.40625 48.390625 \nQ 24.65625 48.390625 19.8125 42.84375 \nQ 14.984375 37.3125 14.984375 27.296875 \nQ 14.984375 17.28125 19.8125 11.734375 \nQ 24.65625 6.203125 33.40625 6.203125 \nQ 37.3125 6.203125 41.140625 7.25 \nQ 44.96875 8.296875 48.78125 10.40625 \nL 48.78125 2.09375 \nQ 45.015625 0.34375 40.984375 -0.53125 \nQ 36.96875 -1.421875 32.421875 -1.421875 \nQ 20.0625 -1.421875 12.78125 6.34375 \nQ 5.515625 14.109375 5.515625 27.296875 \nQ 5.515625 40.671875 12.859375 48.328125 \nQ 20.21875 56 33.015625 56 \nQ 37.15625 56 41.109375 55.140625 \nQ 45.0625 54.296875 48.78125 52.59375 \nz\n\" id=\"DejaVuSans-99\"/>\n       <path d=\"M 18.3125 70.21875 \nL 18.3125 54.6875 \nL 36.8125 54.6875 \nL 36.8125 47.703125 \nL 18.3125 47.703125 \nL 18.3125 18.015625 \nQ 18.3125 11.328125 20.140625 9.421875 \nQ 21.96875 7.515625 27.59375 7.515625 \nL 36.8125 7.515625 \nL 36.8125 0 \nL 27.59375 0 \nQ 17.1875 0 13.234375 3.875 \nQ 9.28125 7.765625 9.28125 18.015625 \nL 9.28125 47.703125 \nL 2.6875 47.703125 \nL 2.6875 54.6875 \nL 9.28125 54.6875 \nL 9.28125 70.21875 \nz\n\" id=\"DejaVuSans-116\"/>\n       <path d=\"M 32.171875 -5.078125 \nQ 28.375 -14.84375 24.75 -17.8125 \nQ 21.140625 -20.796875 15.09375 -20.796875 \nL 7.90625 -20.796875 \nL 7.90625 -13.28125 \nL 13.1875 -13.28125 \nQ 16.890625 -13.28125 18.9375 -11.515625 \nQ 21 -9.765625 23.484375 -3.21875 \nL 25.09375 0.875 \nL 2.984375 54.6875 \nL 12.5 54.6875 \nL 29.59375 11.921875 \nL 46.6875 54.6875 \nL 56.203125 54.6875 \nz\n\" id=\"DejaVuSans-121\"/>\n      </defs>\n      <g transform=\"translate(61.066203 334.47438)rotate(-45)scale(0.1 -0.1)\">\n       <use xlink:href=\"#DejaVuSans-102\"/>\n       <use x=\"35.205078\" xlink:href=\"#DejaVuSans-105\"/>\n       <use x=\"62.988281\" xlink:href=\"#DejaVuSans-120\"/>\n       <use x=\"119.042969\" xlink:href=\"#DejaVuSans-101\"/>\n       <use x=\"180.566406\" xlink:href=\"#DejaVuSans-100\"/>\n       <use x=\"244.042969\" xlink:href=\"#DejaVuSans-32\"/>\n       <use x=\"275.830078\" xlink:href=\"#DejaVuSans-97\"/>\n       <use x=\"337.109375\" xlink:href=\"#DejaVuSans-99\"/>\n       <use x=\"392.089844\" xlink:href=\"#DejaVuSans-105\"/>\n       <use x=\"419.873047\" xlink:href=\"#DejaVuSans-100\"/>\n       <use x=\"483.349609\" xlink:href=\"#DejaVuSans-105\"/>\n       <use x=\"511.132812\" xlink:href=\"#DejaVuSans-116\"/>\n       <use x=\"550.341797\" xlink:href=\"#DejaVuSans-121\"/>\n      </g>\n     </g>\n    </g>\n    <g id=\"xtick_2\">\n     <g id=\"line2d_2\">\n      <g>\n       <use style=\"stroke:#000000;stroke-width:0.8;\" x=\"156.756676\" xlink:href=\"#m24e419f923\" y=\"279\"/>\n      </g>\n     </g>\n     <g id=\"text_2\">\n      <!-- volatile acidity -->\n      <defs>\n       <path d=\"M 2.984375 54.6875 \nL 12.5 54.6875 \nL 29.59375 8.796875 \nL 46.6875 54.6875 \nL 56.203125 54.6875 \nL 35.6875 0 \nL 23.484375 0 \nz\n\" id=\"DejaVuSans-118\"/>\n       <path d=\"M 30.609375 48.390625 \nQ 23.390625 48.390625 19.1875 42.75 \nQ 14.984375 37.109375 14.984375 27.296875 \nQ 14.984375 17.484375 19.15625 11.84375 \nQ 23.34375 6.203125 30.609375 6.203125 \nQ 37.796875 6.203125 41.984375 11.859375 \nQ 46.1875 17.53125 46.1875 27.296875 \nQ 46.1875 37.015625 41.984375 42.703125 \nQ 37.796875 48.390625 30.609375 48.390625 \nz\nM 30.609375 56 \nQ 42.328125 56 49.015625 48.375 \nQ 55.71875 40.765625 55.71875 27.296875 \nQ 55.71875 13.875 49.015625 6.21875 \nQ 42.328125 -1.421875 30.609375 -1.421875 \nQ 18.84375 -1.421875 12.171875 6.21875 \nQ 5.515625 13.875 5.515625 27.296875 \nQ 5.515625 40.765625 12.171875 48.375 \nQ 18.84375 56 30.609375 56 \nz\n\" id=\"DejaVuSans-111\"/>\n       <path d=\"M 9.421875 75.984375 \nL 18.40625 75.984375 \nL 18.40625 0 \nL 9.421875 0 \nz\n\" id=\"DejaVuSans-108\"/>\n      </defs>\n      <g transform=\"translate(132.855362 343.07788)rotate(-45)scale(0.1 -0.1)\">\n       <use xlink:href=\"#DejaVuSans-118\"/>\n       <use x=\"59.179688\" xlink:href=\"#DejaVuSans-111\"/>\n       <use x=\"120.361328\" xlink:href=\"#DejaVuSans-108\"/>\n       <use x=\"148.144531\" xlink:href=\"#DejaVuSans-97\"/>\n       <use x=\"209.423828\" xlink:href=\"#DejaVuSans-116\"/>\n       <use x=\"248.632812\" xlink:href=\"#DejaVuSans-105\"/>\n       <use x=\"276.416016\" xlink:href=\"#DejaVuSans-108\"/>\n       <use x=\"304.199219\" xlink:href=\"#DejaVuSans-101\"/>\n       <use x=\"365.722656\" xlink:href=\"#DejaVuSans-32\"/>\n       <use x=\"397.509766\" xlink:href=\"#DejaVuSans-97\"/>\n       <use x=\"458.789062\" xlink:href=\"#DejaVuSans-99\"/>\n       <use x=\"513.769531\" xlink:href=\"#DejaVuSans-105\"/>\n       <use x=\"541.552734\" xlink:href=\"#DejaVuSans-100\"/>\n       <use x=\"605.029297\" xlink:href=\"#DejaVuSans-105\"/>\n       <use x=\"632.8125\" xlink:href=\"#DejaVuSans-116\"/>\n       <use x=\"672.021484\" xlink:href=\"#DejaVuSans-121\"/>\n      </g>\n     </g>\n    </g>\n    <g id=\"xtick_3\">\n     <g id=\"line2d_3\">\n      <g>\n       <use style=\"stroke:#000000;stroke-width:0.8;\" x=\"232.847585\" xlink:href=\"#m24e419f923\" y=\"279\"/>\n      </g>\n     </g>\n     <g id=\"text_3\">\n      <!-- citric acid -->\n      <defs>\n       <path d=\"M 41.109375 46.296875 \nQ 39.59375 47.171875 37.8125 47.578125 \nQ 36.03125 48 33.890625 48 \nQ 26.265625 48 22.1875 43.046875 \nQ 18.109375 38.09375 18.109375 28.8125 \nL 18.109375 0 \nL 9.078125 0 \nL 9.078125 54.6875 \nL 18.109375 54.6875 \nL 18.109375 46.1875 \nQ 20.953125 51.171875 25.484375 53.578125 \nQ 30.03125 56 36.53125 56 \nQ 37.453125 56 38.578125 55.875 \nQ 39.703125 55.765625 41.0625 55.515625 \nz\n\" id=\"DejaVuSans-114\"/>\n      </defs>\n      <g transform=\"translate(217.645894 325.678634)rotate(-45)scale(0.1 -0.1)\">\n       <use xlink:href=\"#DejaVuSans-99\"/>\n       <use x=\"54.980469\" xlink:href=\"#DejaVuSans-105\"/>\n       <use x=\"82.763672\" xlink:href=\"#DejaVuSans-116\"/>\n       <use x=\"121.972656\" xlink:href=\"#DejaVuSans-114\"/>\n       <use x=\"163.085938\" xlink:href=\"#DejaVuSans-105\"/>\n       <use x=\"190.869141\" xlink:href=\"#DejaVuSans-99\"/>\n       <use x=\"245.849609\" xlink:href=\"#DejaVuSans-32\"/>\n       <use x=\"277.636719\" xlink:href=\"#DejaVuSans-97\"/>\n       <use x=\"338.916016\" xlink:href=\"#DejaVuSans-99\"/>\n       <use x=\"393.896484\" xlink:href=\"#DejaVuSans-105\"/>\n       <use x=\"421.679688\" xlink:href=\"#DejaVuSans-100\"/>\n      </g>\n     </g>\n    </g>\n    <g id=\"xtick_4\">\n     <g id=\"line2d_4\">\n      <g>\n       <use style=\"stroke:#000000;stroke-width:0.8;\" x=\"308.938494\" xlink:href=\"#m24e419f923\" y=\"279\"/>\n      </g>\n     </g>\n     <g id=\"text_4\">\n      <!-- residual sugar -->\n      <defs>\n       <path d=\"M 44.28125 53.078125 \nL 44.28125 44.578125 \nQ 40.484375 46.53125 36.375 47.5 \nQ 32.28125 48.484375 27.875 48.484375 \nQ 21.1875 48.484375 17.84375 46.4375 \nQ 14.5 44.390625 14.5 40.28125 \nQ 14.5 37.15625 16.890625 35.375 \nQ 19.28125 33.59375 26.515625 31.984375 \nL 29.59375 31.296875 \nQ 39.15625 29.25 43.1875 25.515625 \nQ 47.21875 21.78125 47.21875 15.09375 \nQ 47.21875 7.46875 41.1875 3.015625 \nQ 35.15625 -1.421875 24.609375 -1.421875 \nQ 20.21875 -1.421875 15.453125 -0.5625 \nQ 10.6875 0.296875 5.421875 2 \nL 5.421875 11.28125 \nQ 10.40625 8.6875 15.234375 7.390625 \nQ 20.0625 6.109375 24.8125 6.109375 \nQ 31.15625 6.109375 34.5625 8.28125 \nQ 37.984375 10.453125 37.984375 14.40625 \nQ 37.984375 18.0625 35.515625 20.015625 \nQ 33.0625 21.96875 24.703125 23.78125 \nL 21.578125 24.515625 \nQ 13.234375 26.265625 9.515625 29.90625 \nQ 5.8125 33.546875 5.8125 39.890625 \nQ 5.8125 47.609375 11.28125 51.796875 \nQ 16.75 56 26.8125 56 \nQ 31.78125 56 36.171875 55.265625 \nQ 40.578125 54.546875 44.28125 53.078125 \nz\n\" id=\"DejaVuSans-115\"/>\n       <path d=\"M 8.5 21.578125 \nL 8.5 54.6875 \nL 17.484375 54.6875 \nL 17.484375 21.921875 \nQ 17.484375 14.15625 20.5 10.265625 \nQ 23.53125 6.390625 29.59375 6.390625 \nQ 36.859375 6.390625 41.078125 11.03125 \nQ 45.3125 15.671875 45.3125 23.6875 \nL 45.3125 54.6875 \nL 54.296875 54.6875 \nL 54.296875 0 \nL 45.3125 0 \nL 45.3125 8.40625 \nQ 42.046875 3.421875 37.71875 1 \nQ 33.40625 -1.421875 27.6875 -1.421875 \nQ 18.265625 -1.421875 13.375 4.4375 \nQ 8.5 10.296875 8.5 21.578125 \nz\nM 31.109375 56 \nz\n\" id=\"DejaVuSans-117\"/>\n       <path d=\"M 45.40625 27.984375 \nQ 45.40625 37.75 41.375 43.109375 \nQ 37.359375 48.484375 30.078125 48.484375 \nQ 22.859375 48.484375 18.828125 43.109375 \nQ 14.796875 37.75 14.796875 27.984375 \nQ 14.796875 18.265625 18.828125 12.890625 \nQ 22.859375 7.515625 30.078125 7.515625 \nQ 37.359375 7.515625 41.375 12.890625 \nQ 45.40625 18.265625 45.40625 27.984375 \nz\nM 54.390625 6.78125 \nQ 54.390625 -7.171875 48.1875 -13.984375 \nQ 42 -20.796875 29.203125 -20.796875 \nQ 24.46875 -20.796875 20.265625 -20.09375 \nQ 16.0625 -19.390625 12.109375 -17.921875 \nL 12.109375 -9.1875 \nQ 16.0625 -11.328125 19.921875 -12.34375 \nQ 23.78125 -13.375 27.78125 -13.375 \nQ 36.625 -13.375 41.015625 -8.765625 \nQ 45.40625 -4.15625 45.40625 5.171875 \nL 45.40625 9.625 \nQ 42.625 4.78125 38.28125 2.390625 \nQ 33.9375 0 27.875 0 \nQ 17.828125 0 11.671875 7.65625 \nQ 5.515625 15.328125 5.515625 27.984375 \nQ 5.515625 40.671875 11.671875 48.328125 \nQ 17.828125 56 27.875 56 \nQ 33.9375 56 38.28125 53.609375 \nQ 42.625 51.21875 45.40625 46.390625 \nL 45.40625 54.6875 \nL 54.390625 54.6875 \nz\n\" id=\"DejaVuSans-103\"/>\n      </defs>\n      <g transform=\"translate(285.811683 341.528875)rotate(-45)scale(0.1 -0.1)\">\n       <use xlink:href=\"#DejaVuSans-114\"/>\n       <use x=\"38.863281\" xlink:href=\"#DejaVuSans-101\"/>\n       <use x=\"100.386719\" xlink:href=\"#DejaVuSans-115\"/>\n       <use x=\"152.486328\" xlink:href=\"#DejaVuSans-105\"/>\n       <use x=\"180.269531\" xlink:href=\"#DejaVuSans-100\"/>\n       <use x=\"243.746094\" xlink:href=\"#DejaVuSans-117\"/>\n       <use x=\"307.125\" xlink:href=\"#DejaVuSans-97\"/>\n       <use x=\"368.404297\" xlink:href=\"#DejaVuSans-108\"/>\n       <use x=\"396.1875\" xlink:href=\"#DejaVuSans-32\"/>\n       <use x=\"427.974609\" xlink:href=\"#DejaVuSans-115\"/>\n       <use x=\"480.074219\" xlink:href=\"#DejaVuSans-117\"/>\n       <use x=\"543.453125\" xlink:href=\"#DejaVuSans-103\"/>\n       <use x=\"606.929688\" xlink:href=\"#DejaVuSans-97\"/>\n       <use x=\"668.208984\" xlink:href=\"#DejaVuSans-114\"/>\n      </g>\n     </g>\n    </g>\n    <g id=\"xtick_5\">\n     <g id=\"line2d_5\">\n      <g>\n       <use style=\"stroke:#000000;stroke-width:0.8;\" x=\"385.029403\" xlink:href=\"#m24e419f923\" y=\"279\"/>\n      </g>\n     </g>\n     <g id=\"text_5\">\n      <!-- chlorides -->\n      <defs>\n       <path d=\"M 54.890625 33.015625 \nL 54.890625 0 \nL 45.90625 0 \nL 45.90625 32.71875 \nQ 45.90625 40.484375 42.875 44.328125 \nQ 39.84375 48.1875 33.796875 48.1875 \nQ 26.515625 48.1875 22.3125 43.546875 \nQ 18.109375 38.921875 18.109375 30.90625 \nL 18.109375 0 \nL 9.078125 0 \nL 9.078125 75.984375 \nL 18.109375 75.984375 \nL 18.109375 46.1875 \nQ 21.34375 51.125 25.703125 53.5625 \nQ 30.078125 56 35.796875 56 \nQ 45.21875 56 50.046875 50.171875 \nQ 54.890625 44.34375 54.890625 33.015625 \nz\n\" id=\"DejaVuSans-104\"/>\n      </defs>\n      <g transform=\"translate(370.953007 323.428046)rotate(-45)scale(0.1 -0.1)\">\n       <use xlink:href=\"#DejaVuSans-99\"/>\n       <use x=\"54.980469\" xlink:href=\"#DejaVuSans-104\"/>\n       <use x=\"118.359375\" xlink:href=\"#DejaVuSans-108\"/>\n       <use x=\"146.142578\" xlink:href=\"#DejaVuSans-111\"/>\n       <use x=\"207.324219\" xlink:href=\"#DejaVuSans-114\"/>\n       <use x=\"248.4375\" xlink:href=\"#DejaVuSans-105\"/>\n       <use x=\"276.220703\" xlink:href=\"#DejaVuSans-100\"/>\n       <use x=\"339.697266\" xlink:href=\"#DejaVuSans-101\"/>\n       <use x=\"401.220703\" xlink:href=\"#DejaVuSans-115\"/>\n      </g>\n     </g>\n    </g>\n    <g id=\"xtick_6\">\n     <g id=\"line2d_6\">\n      <g>\n       <use style=\"stroke:#000000;stroke-width:0.8;\" x=\"461.120313\" xlink:href=\"#m24e419f923\" y=\"279\"/>\n      </g>\n     </g>\n     <g id=\"text_6\">\n      <!-- free sulfur dioxide -->\n      <g transform=\"translate(431.077113 355.361651)rotate(-45)scale(0.1 -0.1)\">\n       <use xlink:href=\"#DejaVuSans-102\"/>\n       <use x=\"35.205078\" xlink:href=\"#DejaVuSans-114\"/>\n       <use x=\"74.068359\" xlink:href=\"#DejaVuSans-101\"/>\n       <use x=\"135.591797\" xlink:href=\"#DejaVuSans-101\"/>\n       <use x=\"197.115234\" xlink:href=\"#DejaVuSans-32\"/>\n       <use x=\"228.902344\" xlink:href=\"#DejaVuSans-115\"/>\n       <use x=\"281.001953\" xlink:href=\"#DejaVuSans-117\"/>\n       <use x=\"344.380859\" xlink:href=\"#DejaVuSans-108\"/>\n       <use x=\"372.164062\" xlink:href=\"#DejaVuSans-102\"/>\n       <use x=\"407.369141\" xlink:href=\"#DejaVuSans-117\"/>\n       <use x=\"470.748047\" xlink:href=\"#DejaVuSans-114\"/>\n       <use x=\"511.861328\" xlink:href=\"#DejaVuSans-32\"/>\n       <use x=\"543.648438\" xlink:href=\"#DejaVuSans-100\"/>\n       <use x=\"607.125\" xlink:href=\"#DejaVuSans-105\"/>\n       <use x=\"634.908203\" xlink:href=\"#DejaVuSans-111\"/>\n       <use x=\"692.964844\" xlink:href=\"#DejaVuSans-120\"/>\n       <use x=\"752.144531\" xlink:href=\"#DejaVuSans-105\"/>\n       <use x=\"779.927734\" xlink:href=\"#DejaVuSans-100\"/>\n       <use x=\"843.404297\" xlink:href=\"#DejaVuSans-101\"/>\n      </g>\n     </g>\n    </g>\n    <g id=\"xtick_7\">\n     <g id=\"line2d_7\">\n      <g>\n       <use style=\"stroke:#000000;stroke-width:0.8;\" x=\"537.211222\" xlink:href=\"#m24e419f923\" y=\"279\"/>\n      </g>\n     </g>\n     <g id=\"text_7\">\n      <!-- total sulfur dioxide -->\n      <g transform=\"translate(506.053224 357.591247)rotate(-45)scale(0.1 -0.1)\">\n       <use xlink:href=\"#DejaVuSans-116\"/>\n       <use x=\"39.208984\" xlink:href=\"#DejaVuSans-111\"/>\n       <use x=\"100.390625\" xlink:href=\"#DejaVuSans-116\"/>\n       <use x=\"139.599609\" xlink:href=\"#DejaVuSans-97\"/>\n       <use x=\"200.878906\" xlink:href=\"#DejaVuSans-108\"/>\n       <use x=\"228.662109\" xlink:href=\"#DejaVuSans-32\"/>\n       <use x=\"260.449219\" xlink:href=\"#DejaVuSans-115\"/>\n       <use x=\"312.548828\" xlink:href=\"#DejaVuSans-117\"/>\n       <use x=\"375.927734\" xlink:href=\"#DejaVuSans-108\"/>\n       <use x=\"403.710938\" xlink:href=\"#DejaVuSans-102\"/>\n       <use x=\"438.916016\" xlink:href=\"#DejaVuSans-117\"/>\n       <use x=\"502.294922\" xlink:href=\"#DejaVuSans-114\"/>\n       <use x=\"543.408203\" xlink:href=\"#DejaVuSans-32\"/>\n       <use x=\"575.195312\" xlink:href=\"#DejaVuSans-100\"/>\n       <use x=\"638.671875\" xlink:href=\"#DejaVuSans-105\"/>\n       <use x=\"666.455078\" xlink:href=\"#DejaVuSans-111\"/>\n       <use x=\"724.511719\" xlink:href=\"#DejaVuSans-120\"/>\n       <use x=\"783.691406\" xlink:href=\"#DejaVuSans-105\"/>\n       <use x=\"811.474609\" xlink:href=\"#DejaVuSans-100\"/>\n       <use x=\"874.951172\" xlink:href=\"#DejaVuSans-101\"/>\n      </g>\n     </g>\n    </g>\n    <g id=\"xtick_8\">\n     <g id=\"line2d_8\">\n      <g>\n       <use style=\"stroke:#000000;stroke-width:0.8;\" x=\"613.302131\" xlink:href=\"#m24e419f923\" y=\"279\"/>\n      </g>\n     </g>\n     <g id=\"text_8\">\n      <!-- density -->\n      <defs>\n       <path d=\"M 54.890625 33.015625 \nL 54.890625 0 \nL 45.90625 0 \nL 45.90625 32.71875 \nQ 45.90625 40.484375 42.875 44.328125 \nQ 39.84375 48.1875 33.796875 48.1875 \nQ 26.515625 48.1875 22.3125 43.546875 \nQ 18.109375 38.921875 18.109375 30.90625 \nL 18.109375 0 \nL 9.078125 0 \nL 9.078125 54.6875 \nL 18.109375 54.6875 \nL 18.109375 46.1875 \nQ 21.34375 51.125 25.703125 53.5625 \nQ 30.078125 56 35.796875 56 \nQ 45.21875 56 50.046875 50.171875 \nQ 54.890625 44.34375 54.890625 33.015625 \nz\n\" id=\"DejaVuSans-110\"/>\n      </defs>\n      <g transform=\"translate(602.290047 317.299419)rotate(-45)scale(0.1 -0.1)\">\n       <use xlink:href=\"#DejaVuSans-100\"/>\n       <use x=\"63.476562\" xlink:href=\"#DejaVuSans-101\"/>\n       <use x=\"125\" xlink:href=\"#DejaVuSans-110\"/>\n       <use x=\"188.378906\" xlink:href=\"#DejaVuSans-115\"/>\n       <use x=\"240.478516\" xlink:href=\"#DejaVuSans-105\"/>\n       <use x=\"268.261719\" xlink:href=\"#DejaVuSans-116\"/>\n       <use x=\"307.470703\" xlink:href=\"#DejaVuSans-121\"/>\n      </g>\n     </g>\n    </g>\n    <g id=\"xtick_9\">\n     <g id=\"line2d_9\">\n      <g>\n       <use style=\"stroke:#000000;stroke-width:0.8;\" x=\"689.39304\" xlink:href=\"#m24e419f923\" y=\"279\"/>\n      </g>\n     </g>\n     <g id=\"text_9\">\n      <!-- pH -->\n      <defs>\n       <path d=\"M 18.109375 8.203125 \nL 18.109375 -20.796875 \nL 9.078125 -20.796875 \nL 9.078125 54.6875 \nL 18.109375 54.6875 \nL 18.109375 46.390625 \nQ 20.953125 51.265625 25.265625 53.625 \nQ 29.59375 56 35.59375 56 \nQ 45.5625 56 51.78125 48.09375 \nQ 58.015625 40.1875 58.015625 27.296875 \nQ 58.015625 14.40625 51.78125 6.484375 \nQ 45.5625 -1.421875 35.59375 -1.421875 \nQ 29.59375 -1.421875 25.265625 0.953125 \nQ 20.953125 3.328125 18.109375 8.203125 \nz\nM 48.6875 27.296875 \nQ 48.6875 37.203125 44.609375 42.84375 \nQ 40.53125 48.484375 33.40625 48.484375 \nQ 26.265625 48.484375 22.1875 42.84375 \nQ 18.109375 37.203125 18.109375 27.296875 \nQ 18.109375 17.390625 22.1875 11.75 \nQ 26.265625 6.109375 33.40625 6.109375 \nQ 40.53125 6.109375 44.609375 11.75 \nQ 48.6875 17.390625 48.6875 27.296875 \nz\n\" id=\"DejaVuSans-112\"/>\n       <path d=\"M 9.8125 72.90625 \nL 19.671875 72.90625 \nL 19.671875 43.015625 \nL 55.515625 43.015625 \nL 55.515625 72.90625 \nL 65.375 72.90625 \nL 65.375 0 \nL 55.515625 0 \nL 55.515625 34.71875 \nL 19.671875 34.71875 \nL 19.671875 0 \nL 9.8125 0 \nz\n\" id=\"DejaVuSans-72\"/>\n      </defs>\n      <g transform=\"translate(686.440869 301.179594)rotate(-45)scale(0.1 -0.1)\">\n       <use xlink:href=\"#DejaVuSans-112\"/>\n       <use x=\"63.476562\" xlink:href=\"#DejaVuSans-72\"/>\n      </g>\n     </g>\n    </g>\n    <g id=\"xtick_10\">\n     <g id=\"line2d_10\">\n      <g>\n       <use style=\"stroke:#000000;stroke-width:0.8;\" x=\"765.483949\" xlink:href=\"#m24e419f923\" y=\"279\"/>\n      </g>\n     </g>\n     <g id=\"text_10\">\n      <!-- sulphates -->\n      <g transform=\"translate(750.315404 325.612343)rotate(-45)scale(0.1 -0.1)\">\n       <use xlink:href=\"#DejaVuSans-115\"/>\n       <use x=\"52.099609\" xlink:href=\"#DejaVuSans-117\"/>\n       <use x=\"115.478516\" xlink:href=\"#DejaVuSans-108\"/>\n       <use x=\"143.261719\" xlink:href=\"#DejaVuSans-112\"/>\n       <use x=\"206.738281\" xlink:href=\"#DejaVuSans-104\"/>\n       <use x=\"270.117188\" xlink:href=\"#DejaVuSans-97\"/>\n       <use x=\"331.396484\" xlink:href=\"#DejaVuSans-116\"/>\n       <use x=\"370.605469\" xlink:href=\"#DejaVuSans-101\"/>\n       <use x=\"432.128906\" xlink:href=\"#DejaVuSans-115\"/>\n      </g>\n     </g>\n    </g>\n    <g id=\"xtick_11\">\n     <g id=\"line2d_11\">\n      <g>\n       <use style=\"stroke:#000000;stroke-width:0.8;\" x=\"841.574858\" xlink:href=\"#m24e419f923\" y=\"279\"/>\n      </g>\n     </g>\n     <g id=\"text_11\">\n      <!-- alcohol -->\n      <g transform=\"translate(830.883735 316.657498)rotate(-45)scale(0.1 -0.1)\">\n       <use xlink:href=\"#DejaVuSans-97\"/>\n       <use x=\"61.279297\" xlink:href=\"#DejaVuSans-108\"/>\n       <use x=\"89.0625\" xlink:href=\"#DejaVuSans-99\"/>\n       <use x=\"144.042969\" xlink:href=\"#DejaVuSans-111\"/>\n       <use x=\"205.224609\" xlink:href=\"#DejaVuSans-104\"/>\n       <use x=\"268.603516\" xlink:href=\"#DejaVuSans-111\"/>\n       <use x=\"329.785156\" xlink:href=\"#DejaVuSans-108\"/>\n      </g>\n     </g>\n    </g>\n   </g>\n   <g id=\"matplotlib.axis_2\">\n    <g id=\"ytick_1\">\n     <g id=\"line2d_12\">\n      <defs>\n       <path d=\"M 0 0 \nL -3.5 0 \n\" id=\"m670aab94d9\" style=\"stroke:#000000;stroke-width:0.8;\"/>\n      </defs>\n      <g>\n       <use style=\"stroke:#000000;stroke-width:0.8;\" x=\"42.620313\" xlink:href=\"#m670aab94d9\" y=\"271.507573\"/>\n      </g>\n     </g>\n     <g id=\"text_12\">\n      <!-- −4 -->\n      <defs>\n       <path d=\"M 10.59375 35.5 \nL 73.1875 35.5 \nL 73.1875 27.203125 \nL 10.59375 27.203125 \nz\n\" id=\"DejaVuSans-8722\"/>\n       <path d=\"M 37.796875 64.3125 \nL 12.890625 25.390625 \nL 37.796875 25.390625 \nz\nM 35.203125 72.90625 \nL 47.609375 72.90625 \nL 47.609375 25.390625 \nL 58.015625 25.390625 \nL 58.015625 17.1875 \nL 47.609375 17.1875 \nL 47.609375 0 \nL 37.796875 0 \nL 37.796875 17.1875 \nL 4.890625 17.1875 \nL 4.890625 26.703125 \nz\n\" id=\"DejaVuSans-52\"/>\n      </defs>\n      <g transform=\"translate(20.878125 275.306792)scale(0.1 -0.1)\">\n       <use xlink:href=\"#DejaVuSans-8722\"/>\n       <use x=\"83.789062\" xlink:href=\"#DejaVuSans-52\"/>\n      </g>\n     </g>\n    </g>\n    <g id=\"ytick_2\">\n     <g id=\"line2d_13\">\n      <g>\n       <use style=\"stroke:#000000;stroke-width:0.8;\" x=\"42.620313\" xlink:href=\"#m670aab94d9\" y=\"238.180478\"/>\n      </g>\n     </g>\n     <g id=\"text_13\">\n      <!-- −2 -->\n      <defs>\n       <path d=\"M 19.1875 8.296875 \nL 53.609375 8.296875 \nL 53.609375 0 \nL 7.328125 0 \nL 7.328125 8.296875 \nQ 12.9375 14.109375 22.625 23.890625 \nQ 32.328125 33.6875 34.8125 36.53125 \nQ 39.546875 41.84375 41.421875 45.53125 \nQ 43.3125 49.21875 43.3125 52.78125 \nQ 43.3125 58.59375 39.234375 62.25 \nQ 35.15625 65.921875 28.609375 65.921875 \nQ 23.96875 65.921875 18.8125 64.3125 \nQ 13.671875 62.703125 7.8125 59.421875 \nL 7.8125 69.390625 \nQ 13.765625 71.78125 18.9375 73 \nQ 24.125 74.21875 28.421875 74.21875 \nQ 39.75 74.21875 46.484375 68.546875 \nQ 53.21875 62.890625 53.21875 53.421875 \nQ 53.21875 48.921875 51.53125 44.890625 \nQ 49.859375 40.875 45.40625 35.40625 \nQ 44.1875 33.984375 37.640625 27.21875 \nQ 31.109375 20.453125 19.1875 8.296875 \nz\n\" id=\"DejaVuSans-50\"/>\n      </defs>\n      <g transform=\"translate(20.878125 241.979697)scale(0.1 -0.1)\">\n       <use xlink:href=\"#DejaVuSans-8722\"/>\n       <use x=\"83.789062\" xlink:href=\"#DejaVuSans-50\"/>\n      </g>\n     </g>\n    </g>\n    <g id=\"ytick_3\">\n     <g id=\"line2d_14\">\n      <g>\n       <use style=\"stroke:#000000;stroke-width:0.8;\" x=\"42.620313\" xlink:href=\"#m670aab94d9\" y=\"204.853383\"/>\n      </g>\n     </g>\n     <g id=\"text_14\">\n      <!-- 0 -->\n      <defs>\n       <path d=\"M 31.78125 66.40625 \nQ 24.171875 66.40625 20.328125 58.90625 \nQ 16.5 51.421875 16.5 36.375 \nQ 16.5 21.390625 20.328125 13.890625 \nQ 24.171875 6.390625 31.78125 6.390625 \nQ 39.453125 6.390625 43.28125 13.890625 \nQ 47.125 21.390625 47.125 36.375 \nQ 47.125 51.421875 43.28125 58.90625 \nQ 39.453125 66.40625 31.78125 66.40625 \nz\nM 31.78125 74.21875 \nQ 44.046875 74.21875 50.515625 64.515625 \nQ 56.984375 54.828125 56.984375 36.375 \nQ 56.984375 17.96875 50.515625 8.265625 \nQ 44.046875 -1.421875 31.78125 -1.421875 \nQ 19.53125 -1.421875 13.0625 8.265625 \nQ 6.59375 17.96875 6.59375 36.375 \nQ 6.59375 54.828125 13.0625 64.515625 \nQ 19.53125 74.21875 31.78125 74.21875 \nz\n\" id=\"DejaVuSans-48\"/>\n      </defs>\n      <g transform=\"translate(29.257813 208.652602)scale(0.1 -0.1)\">\n       <use xlink:href=\"#DejaVuSans-48\"/>\n      </g>\n     </g>\n    </g>\n    <g id=\"ytick_4\">\n     <g id=\"line2d_15\">\n      <g>\n       <use style=\"stroke:#000000;stroke-width:0.8;\" x=\"42.620313\" xlink:href=\"#m670aab94d9\" y=\"171.526288\"/>\n      </g>\n     </g>\n     <g id=\"text_15\">\n      <!-- 2 -->\n      <g transform=\"translate(29.257813 175.325507)scale(0.1 -0.1)\">\n       <use xlink:href=\"#DejaVuSans-50\"/>\n      </g>\n     </g>\n    </g>\n    <g id=\"ytick_5\">\n     <g id=\"line2d_16\">\n      <g>\n       <use style=\"stroke:#000000;stroke-width:0.8;\" x=\"42.620313\" xlink:href=\"#m670aab94d9\" y=\"138.199193\"/>\n      </g>\n     </g>\n     <g id=\"text_16\">\n      <!-- 4 -->\n      <g transform=\"translate(29.257813 141.998412)scale(0.1 -0.1)\">\n       <use xlink:href=\"#DejaVuSans-52\"/>\n      </g>\n     </g>\n    </g>\n    <g id=\"ytick_6\">\n     <g id=\"line2d_17\">\n      <g>\n       <use style=\"stroke:#000000;stroke-width:0.8;\" x=\"42.620313\" xlink:href=\"#m670aab94d9\" y=\"104.872098\"/>\n      </g>\n     </g>\n     <g id=\"text_17\">\n      <!-- 6 -->\n      <defs>\n       <path d=\"M 33.015625 40.375 \nQ 26.375 40.375 22.484375 35.828125 \nQ 18.609375 31.296875 18.609375 23.390625 \nQ 18.609375 15.53125 22.484375 10.953125 \nQ 26.375 6.390625 33.015625 6.390625 \nQ 39.65625 6.390625 43.53125 10.953125 \nQ 47.40625 15.53125 47.40625 23.390625 \nQ 47.40625 31.296875 43.53125 35.828125 \nQ 39.65625 40.375 33.015625 40.375 \nz\nM 52.59375 71.296875 \nL 52.59375 62.3125 \nQ 48.875 64.0625 45.09375 64.984375 \nQ 41.3125 65.921875 37.59375 65.921875 \nQ 27.828125 65.921875 22.671875 59.328125 \nQ 17.53125 52.734375 16.796875 39.40625 \nQ 19.671875 43.65625 24.015625 45.921875 \nQ 28.375 48.1875 33.59375 48.1875 \nQ 44.578125 48.1875 50.953125 41.515625 \nQ 57.328125 34.859375 57.328125 23.390625 \nQ 57.328125 12.15625 50.6875 5.359375 \nQ 44.046875 -1.421875 33.015625 -1.421875 \nQ 20.359375 -1.421875 13.671875 8.265625 \nQ 6.984375 17.96875 6.984375 36.375 \nQ 6.984375 53.65625 15.1875 63.9375 \nQ 23.390625 74.21875 37.203125 74.21875 \nQ 40.921875 74.21875 44.703125 73.484375 \nQ 48.484375 72.75 52.59375 71.296875 \nz\n\" id=\"DejaVuSans-54\"/>\n      </defs>\n      <g transform=\"translate(29.257813 108.671317)scale(0.1 -0.1)\">\n       <use xlink:href=\"#DejaVuSans-54\"/>\n      </g>\n     </g>\n    </g>\n    <g id=\"ytick_7\">\n     <g id=\"line2d_18\">\n      <g>\n       <use style=\"stroke:#000000;stroke-width:0.8;\" x=\"42.620313\" xlink:href=\"#m670aab94d9\" y=\"71.545003\"/>\n      </g>\n     </g>\n     <g id=\"text_18\">\n      <!-- 8 -->\n      <defs>\n       <path d=\"M 31.78125 34.625 \nQ 24.75 34.625 20.71875 30.859375 \nQ 16.703125 27.09375 16.703125 20.515625 \nQ 16.703125 13.921875 20.71875 10.15625 \nQ 24.75 6.390625 31.78125 6.390625 \nQ 38.8125 6.390625 42.859375 10.171875 \nQ 46.921875 13.96875 46.921875 20.515625 \nQ 46.921875 27.09375 42.890625 30.859375 \nQ 38.875 34.625 31.78125 34.625 \nz\nM 21.921875 38.8125 \nQ 15.578125 40.375 12.03125 44.71875 \nQ 8.5 49.078125 8.5 55.328125 \nQ 8.5 64.0625 14.71875 69.140625 \nQ 20.953125 74.21875 31.78125 74.21875 \nQ 42.671875 74.21875 48.875 69.140625 \nQ 55.078125 64.0625 55.078125 55.328125 \nQ 55.078125 49.078125 51.53125 44.71875 \nQ 48 40.375 41.703125 38.8125 \nQ 48.828125 37.15625 52.796875 32.3125 \nQ 56.78125 27.484375 56.78125 20.515625 \nQ 56.78125 9.90625 50.3125 4.234375 \nQ 43.84375 -1.421875 31.78125 -1.421875 \nQ 19.734375 -1.421875 13.25 4.234375 \nQ 6.78125 9.90625 6.78125 20.515625 \nQ 6.78125 27.484375 10.78125 32.3125 \nQ 14.796875 37.15625 21.921875 38.8125 \nz\nM 18.3125 54.390625 \nQ 18.3125 48.734375 21.84375 45.5625 \nQ 25.390625 42.390625 31.78125 42.390625 \nQ 38.140625 42.390625 41.71875 45.5625 \nQ 45.3125 48.734375 45.3125 54.390625 \nQ 45.3125 60.0625 41.71875 63.234375 \nQ 38.140625 66.40625 31.78125 66.40625 \nQ 25.390625 66.40625 21.84375 63.234375 \nQ 18.3125 60.0625 18.3125 54.390625 \nz\n\" id=\"DejaVuSans-56\"/>\n      </defs>\n      <g transform=\"translate(29.257813 75.344222)scale(0.1 -0.1)\">\n       <use xlink:href=\"#DejaVuSans-56\"/>\n      </g>\n     </g>\n    </g>\n    <g id=\"ytick_8\">\n     <g id=\"line2d_19\">\n      <g>\n       <use style=\"stroke:#000000;stroke-width:0.8;\" x=\"42.620313\" xlink:href=\"#m670aab94d9\" y=\"38.217908\"/>\n      </g>\n     </g>\n     <g id=\"text_19\">\n      <!-- 10 -->\n      <defs>\n       <path d=\"M 12.40625 8.296875 \nL 28.515625 8.296875 \nL 28.515625 63.921875 \nL 10.984375 60.40625 \nL 10.984375 69.390625 \nL 28.421875 72.90625 \nL 38.28125 72.90625 \nL 38.28125 8.296875 \nL 54.390625 8.296875 \nL 54.390625 0 \nL 12.40625 0 \nz\n\" id=\"DejaVuSans-49\"/>\n      </defs>\n      <g transform=\"translate(22.895313 42.017127)scale(0.1 -0.1)\">\n       <use xlink:href=\"#DejaVuSans-49\"/>\n       <use x=\"63.623047\" xlink:href=\"#DejaVuSans-48\"/>\n      </g>\n     </g>\n    </g>\n    <g id=\"text_20\">\n     <!-- Normalized Values -->\n     <defs>\n      <path d=\"M 9.8125 72.90625 \nL 23.09375 72.90625 \nL 55.421875 11.921875 \nL 55.421875 72.90625 \nL 64.984375 72.90625 \nL 64.984375 0 \nL 51.703125 0 \nL 19.390625 60.984375 \nL 19.390625 0 \nL 9.8125 0 \nz\n\" id=\"DejaVuSans-78\"/>\n      <path d=\"M 52 44.1875 \nQ 55.375 50.25 60.0625 53.125 \nQ 64.75 56 71.09375 56 \nQ 79.640625 56 84.28125 50.015625 \nQ 88.921875 44.046875 88.921875 33.015625 \nL 88.921875 0 \nL 79.890625 0 \nL 79.890625 32.71875 \nQ 79.890625 40.578125 77.09375 44.375 \nQ 74.3125 48.1875 68.609375 48.1875 \nQ 61.625 48.1875 57.5625 43.546875 \nQ 53.515625 38.921875 53.515625 30.90625 \nL 53.515625 0 \nL 44.484375 0 \nL 44.484375 32.71875 \nQ 44.484375 40.625 41.703125 44.40625 \nQ 38.921875 48.1875 33.109375 48.1875 \nQ 26.21875 48.1875 22.15625 43.53125 \nQ 18.109375 38.875 18.109375 30.90625 \nL 18.109375 0 \nL 9.078125 0 \nL 9.078125 54.6875 \nL 18.109375 54.6875 \nL 18.109375 46.1875 \nQ 21.1875 51.21875 25.484375 53.609375 \nQ 29.78125 56 35.6875 56 \nQ 41.65625 56 45.828125 52.96875 \nQ 50 49.953125 52 44.1875 \nz\n\" id=\"DejaVuSans-109\"/>\n      <path d=\"M 5.515625 54.6875 \nL 48.1875 54.6875 \nL 48.1875 46.484375 \nL 14.40625 7.171875 \nL 48.1875 7.171875 \nL 48.1875 0 \nL 4.296875 0 \nL 4.296875 8.203125 \nL 38.09375 47.515625 \nL 5.515625 47.515625 \nz\n\" id=\"DejaVuSans-122\"/>\n      <path d=\"M 28.609375 0 \nL 0.78125 72.90625 \nL 11.078125 72.90625 \nL 34.1875 11.53125 \nL 57.328125 72.90625 \nL 67.578125 72.90625 \nL 39.796875 0 \nz\n\" id=\"DejaVuSans-86\"/>\n     </defs>\n     <g transform=\"translate(14.798438 189.380469)rotate(-90)scale(0.1 -0.1)\">\n      <use xlink:href=\"#DejaVuSans-78\"/>\n      <use x=\"74.804688\" xlink:href=\"#DejaVuSans-111\"/>\n      <use x=\"135.986328\" xlink:href=\"#DejaVuSans-114\"/>\n      <use x=\"175.349609\" xlink:href=\"#DejaVuSans-109\"/>\n      <use x=\"272.761719\" xlink:href=\"#DejaVuSans-97\"/>\n      <use x=\"334.041016\" xlink:href=\"#DejaVuSans-108\"/>\n      <use x=\"361.824219\" xlink:href=\"#DejaVuSans-105\"/>\n      <use x=\"389.607422\" xlink:href=\"#DejaVuSans-122\"/>\n      <use x=\"442.097656\" xlink:href=\"#DejaVuSans-101\"/>\n      <use x=\"503.621094\" xlink:href=\"#DejaVuSans-100\"/>\n      <use x=\"567.097656\" xlink:href=\"#DejaVuSans-32\"/>\n      <use x=\"598.884766\" xlink:href=\"#DejaVuSans-86\"/>\n      <use x=\"659.542969\" xlink:href=\"#DejaVuSans-97\"/>\n      <use x=\"720.822266\" xlink:href=\"#DejaVuSans-108\"/>\n      <use x=\"748.605469\" xlink:href=\"#DejaVuSans-117\"/>\n      <use x=\"811.984375\" xlink:href=\"#DejaVuSans-101\"/>\n      <use x=\"873.507812\" xlink:href=\"#DejaVuSans-115\"/>\n     </g>\n    </g>\n   </g>\n   <g id=\"line2d_20\">\n    <path clip-path=\"url(#p0cacd2b75e)\" d=\"M 80.665767 216.524336 \nL 80.665767 240.437032 \n\" style=\"fill:none;stroke:#474747;stroke-linecap:square;stroke-width:1.5;\"/>\n   </g>\n   <g id=\"line2d_21\">\n    <path clip-path=\"url(#p0cacd2b75e)\" d=\"M 80.665767 196.437671 \nL 80.665767 166.785929 \n\" style=\"fill:none;stroke:#474747;stroke-linecap:square;stroke-width:1.5;\"/>\n   </g>\n   <g id=\"line2d_22\">\n    <path clip-path=\"url(#p0cacd2b75e)\" d=\"M 65.447585 240.437032 \nL 95.883949 240.437032 \n\" style=\"fill:none;stroke:#474747;stroke-linecap:square;stroke-width:1.5;\"/>\n   </g>\n   <g id=\"line2d_23\">\n    <path clip-path=\"url(#p0cacd2b75e)\" d=\"M 65.447585 166.785929 \nL 95.883949 166.785929 \n\" style=\"fill:none;stroke:#474747;stroke-linecap:square;stroke-width:1.5;\"/>\n   </g>\n   <g id=\"line2d_24\">\n    <defs>\n     <path d=\"M -0 3.535534 \nL 2.12132 0 \nL -0 -3.535534 \nL -2.12132 -0 \nz\n\" id=\"m460c345d41\" style=\"stroke:#474747;stroke-linejoin:miter;\"/>\n    </defs>\n    <g clip-path=\"url(#p0cacd2b75e)\">\n     <use style=\"fill:#474747;stroke:#474747;stroke-linejoin:miter;\" x=\"80.665767\" xlink:href=\"#m460c345d41\" y=\"162.003389\"/>\n     <use style=\"fill:#474747;stroke:#474747;stroke-linejoin:miter;\" x=\"80.665767\" xlink:href=\"#m460c345d41\" y=\"162.003389\"/>\n     <use style=\"fill:#474747;stroke:#474747;stroke-linejoin:miter;\" x=\"80.665767\" xlink:href=\"#m460c345d41\" y=\"140.960217\"/>\n     <use style=\"fill:#474747;stroke:#474747;stroke-linejoin:miter;\" x=\"80.665767\" xlink:href=\"#m460c345d41\" y=\"140.960217\"/>\n     <use style=\"fill:#474747;stroke:#474747;stroke-linejoin:miter;\" x=\"80.665767\" xlink:href=\"#m460c345d41\" y=\"164.872913\"/>\n     <use style=\"fill:#474747;stroke:#474747;stroke-linejoin:miter;\" x=\"80.665767\" xlink:href=\"#m460c345d41\" y=\"157.22085\"/>\n     <use style=\"fill:#474747;stroke:#474747;stroke-linejoin:miter;\" x=\"80.665767\" xlink:href=\"#m460c345d41\" y=\"156.264342\"/>\n     <use style=\"fill:#474747;stroke:#474747;stroke-linejoin:miter;\" x=\"80.665767\" xlink:href=\"#m460c345d41\" y=\"165.829421\"/>\n     <use style=\"fill:#474747;stroke:#474747;stroke-linejoin:miter;\" x=\"80.665767\" xlink:href=\"#m460c345d41\" y=\"164.872913\"/>\n     <use style=\"fill:#474747;stroke:#474747;stroke-linejoin:miter;\" x=\"80.665767\" xlink:href=\"#m460c345d41\" y=\"152.438311\"/>\n     <use style=\"fill:#474747;stroke:#474747;stroke-linejoin:miter;\" x=\"80.665767\" xlink:href=\"#m460c345d41\" y=\"155.307835\"/>\n     <use style=\"fill:#474747;stroke:#474747;stroke-linejoin:miter;\" x=\"80.665767\" xlink:href=\"#m460c345d41\" y=\"163.916405\"/>\n     <use style=\"fill:#474747;stroke:#474747;stroke-linejoin:miter;\" x=\"80.665767\" xlink:href=\"#m460c345d41\" y=\"164.872913\"/>\n     <use style=\"fill:#474747;stroke:#474747;stroke-linejoin:miter;\" x=\"80.665767\" xlink:href=\"#m460c345d41\" y=\"162.003389\"/>\n     <use style=\"fill:#474747;stroke:#474747;stroke-linejoin:miter;\" x=\"80.665767\" xlink:href=\"#m460c345d41\" y=\"162.003389\"/>\n     <use style=\"fill:#474747;stroke:#474747;stroke-linejoin:miter;\" x=\"80.665767\" xlink:href=\"#m460c345d41\" y=\"150.525295\"/>\n     <use style=\"fill:#474747;stroke:#474747;stroke-linejoin:miter;\" x=\"80.665767\" xlink:href=\"#m460c345d41\" y=\"153.394819\"/>\n     <use style=\"fill:#474747;stroke:#474747;stroke-linejoin:miter;\" x=\"80.665767\" xlink:href=\"#m460c345d41\" y=\"153.394819\"/>\n     <use style=\"fill:#474747;stroke:#474747;stroke-linejoin:miter;\" x=\"80.665767\" xlink:href=\"#m460c345d41\" y=\"162.959897\"/>\n     <use style=\"fill:#474747;stroke:#474747;stroke-linejoin:miter;\" x=\"80.665767\" xlink:href=\"#m460c345d41\" y=\"164.872913\"/>\n     <use style=\"fill:#474747;stroke:#474747;stroke-linejoin:miter;\" x=\"80.665767\" xlink:href=\"#m460c345d41\" y=\"162.003389\"/>\n     <use style=\"fill:#474747;stroke:#474747;stroke-linejoin:miter;\" x=\"80.665767\" xlink:href=\"#m460c345d41\" y=\"163.916405\"/>\n     <use style=\"fill:#474747;stroke:#474747;stroke-linejoin:miter;\" x=\"80.665767\" xlink:href=\"#m460c345d41\" y=\"135.22117\"/>\n     <use style=\"fill:#474747;stroke:#474747;stroke-linejoin:miter;\" x=\"80.665767\" xlink:href=\"#m460c345d41\" y=\"164.872913\"/>\n     <use style=\"fill:#474747;stroke:#474747;stroke-linejoin:miter;\" x=\"80.665767\" xlink:href=\"#m460c345d41\" y=\"160.090374\"/>\n     <use style=\"fill:#474747;stroke:#474747;stroke-linejoin:miter;\" x=\"80.665767\" xlink:href=\"#m460c345d41\" y=\"164.872913\"/>\n     <use style=\"fill:#474747;stroke:#474747;stroke-linejoin:miter;\" x=\"80.665767\" xlink:href=\"#m460c345d41\" y=\"157.22085\"/>\n     <use style=\"fill:#474747;stroke:#474747;stroke-linejoin:miter;\" x=\"80.665767\" xlink:href=\"#m460c345d41\" y=\"165.829421\"/>\n     <use style=\"fill:#474747;stroke:#474747;stroke-linejoin:miter;\" x=\"80.665767\" xlink:href=\"#m460c345d41\" y=\"164.872913\"/>\n     <use style=\"fill:#474747;stroke:#474747;stroke-linejoin:miter;\" x=\"80.665767\" xlink:href=\"#m460c345d41\" y=\"161.046882\"/>\n     <use style=\"fill:#474747;stroke:#474747;stroke-linejoin:miter;\" x=\"80.665767\" xlink:href=\"#m460c345d41\" y=\"147.655772\"/>\n     <use style=\"fill:#474747;stroke:#474747;stroke-linejoin:miter;\" x=\"80.665767\" xlink:href=\"#m460c345d41\" y=\"165.829421\"/>\n     <use style=\"fill:#474747;stroke:#474747;stroke-linejoin:miter;\" x=\"80.665767\" xlink:href=\"#m460c345d41\" y=\"136.177678\"/>\n     <use style=\"fill:#474747;stroke:#474747;stroke-linejoin:miter;\" x=\"80.665767\" xlink:href=\"#m460c345d41\" y=\"136.177678\"/>\n     <use style=\"fill:#474747;stroke:#474747;stroke-linejoin:miter;\" x=\"80.665767\" xlink:href=\"#m460c345d41\" y=\"135.22117\"/>\n     <use style=\"fill:#474747;stroke:#474747;stroke-linejoin:miter;\" x=\"80.665767\" xlink:href=\"#m460c345d41\" y=\"160.090374\"/>\n     <use style=\"fill:#474747;stroke:#474747;stroke-linejoin:miter;\" x=\"80.665767\" xlink:href=\"#m460c345d41\" y=\"162.959897\"/>\n     <use style=\"fill:#474747;stroke:#474747;stroke-linejoin:miter;\" x=\"80.665767\" xlink:href=\"#m460c345d41\" y=\"160.090374\"/>\n     <use style=\"fill:#474747;stroke:#474747;stroke-linejoin:miter;\" x=\"80.665767\" xlink:href=\"#m460c345d41\" y=\"162.959897\"/>\n     <use style=\"fill:#474747;stroke:#474747;stroke-linejoin:miter;\" x=\"80.665767\" xlink:href=\"#m460c345d41\" y=\"165.829421\"/>\n     <use style=\"fill:#474747;stroke:#474747;stroke-linejoin:miter;\" x=\"80.665767\" xlink:href=\"#m460c345d41\" y=\"162.959897\"/>\n     <use style=\"fill:#474747;stroke:#474747;stroke-linejoin:miter;\" x=\"80.665767\" xlink:href=\"#m460c345d41\" y=\"158.177358\"/>\n     <use style=\"fill:#474747;stroke:#474747;stroke-linejoin:miter;\" x=\"80.665767\" xlink:href=\"#m460c345d41\" y=\"158.177358\"/>\n     <use style=\"fill:#474747;stroke:#474747;stroke-linejoin:miter;\" x=\"80.665767\" xlink:href=\"#m460c345d41\" y=\"158.177358\"/>\n     <use style=\"fill:#474747;stroke:#474747;stroke-linejoin:miter;\" x=\"80.665767\" xlink:href=\"#m460c345d41\" y=\"132.351647\"/>\n     <use style=\"fill:#474747;stroke:#474747;stroke-linejoin:miter;\" x=\"80.665767\" xlink:href=\"#m460c345d41\" y=\"157.22085\"/>\n     <use style=\"fill:#474747;stroke:#474747;stroke-linejoin:miter;\" x=\"80.665767\" xlink:href=\"#m460c345d41\" y=\"161.046882\"/>\n     <use style=\"fill:#474747;stroke:#474747;stroke-linejoin:miter;\" x=\"80.665767\" xlink:href=\"#m460c345d41\" y=\"163.916405\"/>\n     <use style=\"fill:#474747;stroke:#474747;stroke-linejoin:miter;\" x=\"80.665767\" xlink:href=\"#m460c345d41\" y=\"163.916405\"/>\n    </g>\n   </g>\n   <g id=\"line2d_25\">\n    <path clip-path=\"url(#p0cacd2b75e)\" d=\"M 156.756676 217.710707 \nL 156.756676 242.847066 \n\" style=\"fill:none;stroke:#474747;stroke-linecap:square;stroke-width:1.5;\"/>\n   </g>\n   <g id=\"line2d_26\">\n    <path clip-path=\"url(#p0cacd2b75e)\" d=\"M 156.756676 194.436301 \nL 156.756676 159.99018 \n\" style=\"fill:none;stroke:#474747;stroke-linecap:square;stroke-width:1.5;\"/>\n   </g>\n   <g id=\"line2d_27\">\n    <path clip-path=\"url(#p0cacd2b75e)\" d=\"M 141.538494 242.847066 \nL 171.974858 242.847066 \n\" style=\"fill:none;stroke:#474747;stroke-linecap:square;stroke-width:1.5;\"/>\n   </g>\n   <g id=\"line2d_28\">\n    <path clip-path=\"url(#p0cacd2b75e)\" d=\"M 141.538494 159.99018 \nL 171.974858 159.99018 \n\" style=\"fill:none;stroke:#474747;stroke-linecap:square;stroke-width:1.5;\"/>\n   </g>\n   <g id=\"line2d_29\">\n    <g clip-path=\"url(#p0cacd2b75e)\">\n     <use style=\"fill:#474747;stroke:#474747;stroke-linejoin:miter;\" x=\"156.756676\" xlink:href=\"#m460c345d41\" y=\"148.818465\"/>\n     <use style=\"fill:#474747;stroke:#474747;stroke-linejoin:miter;\" x=\"156.756676\" xlink:href=\"#m460c345d41\" y=\"159.059204\"/>\n     <use style=\"fill:#474747;stroke:#474747;stroke-linejoin:miter;\" x=\"156.756676\" xlink:href=\"#m460c345d41\" y=\"154.404323\"/>\n     <use style=\"fill:#474747;stroke:#474747;stroke-linejoin:miter;\" x=\"156.756676\" xlink:href=\"#m460c345d41\" y=\"130.19894\"/>\n     <use style=\"fill:#474747;stroke:#474747;stroke-linejoin:miter;\" x=\"156.756676\" xlink:href=\"#m460c345d41\" y=\"130.19894\"/>\n     <use style=\"fill:#474747;stroke:#474747;stroke-linejoin:miter;\" x=\"156.756676\" xlink:href=\"#m460c345d41\" y=\"157.197251\"/>\n     <use style=\"fill:#474747;stroke:#474747;stroke-linejoin:miter;\" x=\"156.756676\" xlink:href=\"#m460c345d41\" y=\"152.54237\"/>\n     <use style=\"fill:#474747;stroke:#474747;stroke-linejoin:miter;\" x=\"156.756676\" xlink:href=\"#m460c345d41\" y=\"157.197251\"/>\n     <use style=\"fill:#474747;stroke:#474747;stroke-linejoin:miter;\" x=\"156.756676\" xlink:href=\"#m460c345d41\" y=\"138.577726\"/>\n     <use style=\"fill:#474747;stroke:#474747;stroke-linejoin:miter;\" x=\"156.756676\" xlink:href=\"#m460c345d41\" y=\"143.698096\"/>\n     <use style=\"fill:#474747;stroke:#474747;stroke-linejoin:miter;\" x=\"156.756676\" xlink:href=\"#m460c345d41\" y=\"159.059204\"/>\n     <use style=\"fill:#474747;stroke:#474747;stroke-linejoin:miter;\" x=\"156.756676\" xlink:href=\"#m460c345d41\" y=\"157.662739\"/>\n     <use style=\"fill:#474747;stroke:#474747;stroke-linejoin:miter;\" x=\"156.756676\" xlink:href=\"#m460c345d41\" y=\"158.593716\"/>\n     <use style=\"fill:#474747;stroke:#474747;stroke-linejoin:miter;\" x=\"156.756676\" xlink:href=\"#m460c345d41\" y=\"150.214929\"/>\n     <use style=\"fill:#474747;stroke:#474747;stroke-linejoin:miter;\" x=\"156.756676\" xlink:href=\"#m460c345d41\" y=\"159.059204\"/>\n     <use style=\"fill:#474747;stroke:#474747;stroke-linejoin:miter;\" x=\"156.756676\" xlink:href=\"#m460c345d41\" y=\"159.059204\"/>\n     <use style=\"fill:#474747;stroke:#474747;stroke-linejoin:miter;\" x=\"156.756676\" xlink:href=\"#m460c345d41\" y=\"106.924534\"/>\n     <use style=\"fill:#474747;stroke:#474747;stroke-linejoin:miter;\" x=\"156.756676\" xlink:href=\"#m460c345d41\" y=\"144.163584\"/>\n     <use style=\"fill:#474747;stroke:#474747;stroke-linejoin:miter;\" x=\"156.756676\" xlink:href=\"#m460c345d41\" y=\"157.197251\"/>\n    </g>\n   </g>\n   <g id=\"line2d_30\">\n    <path clip-path=\"url(#p0cacd2b75e)\" d=\"M 232.847585 220.323589 \nL 232.847585 228.038831 \n\" style=\"fill:none;stroke:#474747;stroke-linecap:square;stroke-width:1.5;\"/>\n   </g>\n   <g id=\"line2d_31\">\n    <path clip-path=\"url(#p0cacd2b75e)\" d=\"M 232.847585 192.034369 \nL 232.847585 160.316152 \n\" style=\"fill:none;stroke:#474747;stroke-linecap:square;stroke-width:1.5;\"/>\n   </g>\n   <g id=\"line2d_32\">\n    <path clip-path=\"url(#p0cacd2b75e)\" d=\"M 217.629403 228.038831 \nL 248.065767 228.038831 \n\" style=\"fill:none;stroke:#474747;stroke-linecap:square;stroke-width:1.5;\"/>\n   </g>\n   <g id=\"line2d_33\">\n    <path clip-path=\"url(#p0cacd2b75e)\" d=\"M 217.629403 160.316152 \nL 248.065767 160.316152 \n\" style=\"fill:none;stroke:#474747;stroke-linecap:square;stroke-width:1.5;\"/>\n   </g>\n   <g id=\"line2d_34\">\n    <g clip-path=\"url(#p0cacd2b75e)\">\n     <use style=\"fill:#474747;stroke:#474747;stroke-linejoin:miter;\" x=\"232.847585\" xlink:href=\"#m460c345d41\" y=\"142.313921\"/>\n    </g>\n   </g>\n   <g id=\"line2d_35\">\n    <path clip-path=\"url(#p0cacd2b75e)\" d=\"M 308.938494 212.392592 \nL 308.938494 224.329454 \n\" style=\"fill:none;stroke:#474747;stroke-linecap:square;stroke-width:1.5;\"/>\n   </g>\n   <g id=\"line2d_36\">\n    <path clip-path=\"url(#p0cacd2b75e)\" d=\"M 308.938494 204.036788 \nL 308.938494 191.503083 \n\" style=\"fill:none;stroke:#474747;stroke-linecap:square;stroke-width:1.5;\"/>\n   </g>\n   <g id=\"line2d_37\">\n    <path clip-path=\"url(#p0cacd2b75e)\" d=\"M 293.720313 224.329454 \nL 324.156676 224.329454 \n\" style=\"fill:none;stroke:#474747;stroke-linecap:square;stroke-width:1.5;\"/>\n   </g>\n   <g id=\"line2d_38\">\n    <path clip-path=\"url(#p0cacd2b75e)\" d=\"M 293.720313 191.503083 \nL 324.156676 191.503083 \n\" style=\"fill:none;stroke:#474747;stroke-linecap:square;stroke-width:1.5;\"/>\n   </g>\n   <g id=\"line2d_39\">\n    <g clip-path=\"url(#p0cacd2b75e)\">\n     <use style=\"fill:#474747;stroke:#474747;stroke-linejoin:miter;\" x=\"308.938494\" xlink:href=\"#m460c345d41\" y=\"162.25777\"/>\n     <use style=\"fill:#474747;stroke:#474747;stroke-linejoin:miter;\" x=\"308.938494\" xlink:href=\"#m460c345d41\" y=\"162.25777\"/>\n     <use style=\"fill:#474747;stroke:#474747;stroke-linejoin:miter;\" x=\"308.938494\" xlink:href=\"#m460c345d41\" y=\"189.712553\"/>\n     <use style=\"fill:#474747;stroke:#474747;stroke-linejoin:miter;\" x=\"308.938494\" xlink:href=\"#m460c345d41\" y=\"188.518867\"/>\n     <use style=\"fill:#474747;stroke:#474747;stroke-linejoin:miter;\" x=\"308.938494\" xlink:href=\"#m460c345d41\" y=\"182.550436\"/>\n     <use style=\"fill:#474747;stroke:#474747;stroke-linejoin:miter;\" x=\"308.938494\" xlink:href=\"#m460c345d41\" y=\"107.348203\"/>\n     <use style=\"fill:#474747;stroke:#474747;stroke-linejoin:miter;\" x=\"308.938494\" xlink:href=\"#m460c345d41\" y=\"169.419887\"/>\n     <use style=\"fill:#474747;stroke:#474747;stroke-linejoin:miter;\" x=\"308.938494\" xlink:href=\"#m460c345d41\" y=\"164.645142\"/>\n     <use style=\"fill:#474747;stroke:#474747;stroke-linejoin:miter;\" x=\"308.938494\" xlink:href=\"#m460c345d41\" y=\"164.645142\"/>\n     <use style=\"fill:#474747;stroke:#474747;stroke-linejoin:miter;\" x=\"308.938494\" xlink:href=\"#m460c345d41\" y=\"189.712553\"/>\n     <use style=\"fill:#474747;stroke:#474747;stroke-linejoin:miter;\" x=\"308.938494\" xlink:href=\"#m460c345d41\" y=\"174.194632\"/>\n     <use style=\"fill:#474747;stroke:#474747;stroke-linejoin:miter;\" x=\"308.938494\" xlink:href=\"#m460c345d41\" y=\"179.56622\"/>\n     <use style=\"fill:#474747;stroke:#474747;stroke-linejoin:miter;\" x=\"308.938494\" xlink:href=\"#m460c345d41\" y=\"179.56622\"/>\n     <use style=\"fill:#474747;stroke:#474747;stroke-linejoin:miter;\" x=\"308.938494\" xlink:href=\"#m460c345d41\" y=\"169.419887\"/>\n     <use style=\"fill:#474747;stroke:#474747;stroke-linejoin:miter;\" x=\"308.938494\" xlink:href=\"#m460c345d41\" y=\"169.419887\"/>\n     <use style=\"fill:#474747;stroke:#474747;stroke-linejoin:miter;\" x=\"308.938494\" xlink:href=\"#m460c345d41\" y=\"169.419887\"/>\n     <use style=\"fill:#474747;stroke:#474747;stroke-linejoin:miter;\" x=\"308.938494\" xlink:href=\"#m460c345d41\" y=\"169.419887\"/>\n     <use style=\"fill:#474747;stroke:#474747;stroke-linejoin:miter;\" x=\"308.938494\" xlink:href=\"#m460c345d41\" y=\"147.933535\"/>\n     <use style=\"fill:#474747;stroke:#474747;stroke-linejoin:miter;\" x=\"308.938494\" xlink:href=\"#m460c345d41\" y=\"149.127221\"/>\n     <use style=\"fill:#474747;stroke:#474747;stroke-linejoin:miter;\" x=\"308.938494\" xlink:href=\"#m460c345d41\" y=\"189.712553\"/>\n     <use style=\"fill:#474747;stroke:#474747;stroke-linejoin:miter;\" x=\"308.938494\" xlink:href=\"#m460c345d41\" y=\"168.226201\"/>\n     <use style=\"fill:#474747;stroke:#474747;stroke-linejoin:miter;\" x=\"308.938494\" xlink:href=\"#m460c345d41\" y=\"187.325181\"/>\n     <use style=\"fill:#474747;stroke:#474747;stroke-linejoin:miter;\" x=\"308.938494\" xlink:href=\"#m460c345d41\" y=\"187.325181\"/>\n     <use style=\"fill:#474747;stroke:#474747;stroke-linejoin:miter;\" x=\"308.938494\" xlink:href=\"#m460c345d41\" y=\"187.325181\"/>\n     <use style=\"fill:#474747;stroke:#474747;stroke-linejoin:miter;\" x=\"308.938494\" xlink:href=\"#m460c345d41\" y=\"187.325181\"/>\n     <use style=\"fill:#474747;stroke:#474747;stroke-linejoin:miter;\" x=\"308.938494\" xlink:href=\"#m460c345d41\" y=\"151.514594\"/>\n     <use style=\"fill:#474747;stroke:#474747;stroke-linejoin:miter;\" x=\"308.938494\" xlink:href=\"#m460c345d41\" y=\"187.325181\"/>\n     <use style=\"fill:#474747;stroke:#474747;stroke-linejoin:miter;\" x=\"308.938494\" xlink:href=\"#m460c345d41\" y=\"187.325181\"/>\n     <use style=\"fill:#474747;stroke:#474747;stroke-linejoin:miter;\" x=\"308.938494\" xlink:href=\"#m460c345d41\" y=\"158.676711\"/>\n     <use style=\"fill:#474747;stroke:#474747;stroke-linejoin:miter;\" x=\"308.938494\" xlink:href=\"#m460c345d41\" y=\"168.226201\"/>\n     <use style=\"fill:#474747;stroke:#474747;stroke-linejoin:miter;\" x=\"308.938494\" xlink:href=\"#m460c345d41\" y=\"168.226201\"/>\n     <use style=\"fill:#474747;stroke:#474747;stroke-linejoin:miter;\" x=\"308.938494\" xlink:href=\"#m460c345d41\" y=\"103.767145\"/>\n     <use style=\"fill:#474747;stroke:#474747;stroke-linejoin:miter;\" x=\"308.938494\" xlink:href=\"#m460c345d41\" y=\"103.767145\"/>\n     <use style=\"fill:#474747;stroke:#474747;stroke-linejoin:miter;\" x=\"308.938494\" xlink:href=\"#m460c345d41\" y=\"181.35675\"/>\n     <use style=\"fill:#474747;stroke:#474747;stroke-linejoin:miter;\" x=\"308.938494\" xlink:href=\"#m460c345d41\" y=\"177.775691\"/>\n     <use style=\"fill:#474747;stroke:#474747;stroke-linejoin:miter;\" x=\"308.938494\" xlink:href=\"#m460c345d41\" y=\"165.838829\"/>\n     <use style=\"fill:#474747;stroke:#474747;stroke-linejoin:miter;\" x=\"308.938494\" xlink:href=\"#m460c345d41\" y=\"165.838829\"/>\n     <use style=\"fill:#474747;stroke:#474747;stroke-linejoin:miter;\" x=\"308.938494\" xlink:href=\"#m460c345d41\" y=\"189.712553\"/>\n     <use style=\"fill:#474747;stroke:#474747;stroke-linejoin:miter;\" x=\"308.938494\" xlink:href=\"#m460c345d41\" y=\"182.550436\"/>\n     <use style=\"fill:#474747;stroke:#474747;stroke-linejoin:miter;\" x=\"308.938494\" xlink:href=\"#m460c345d41\" y=\"161.064084\"/>\n     <use style=\"fill:#474747;stroke:#474747;stroke-linejoin:miter;\" x=\"308.938494\" xlink:href=\"#m460c345d41\" y=\"184.937808\"/>\n     <use style=\"fill:#474747;stroke:#474747;stroke-linejoin:miter;\" x=\"308.938494\" xlink:href=\"#m460c345d41\" y=\"140.771418\"/>\n     <use style=\"fill:#474747;stroke:#474747;stroke-linejoin:miter;\" x=\"308.938494\" xlink:href=\"#m460c345d41\" y=\"140.771418\"/>\n     <use style=\"fill:#474747;stroke:#474747;stroke-linejoin:miter;\" x=\"308.938494\" xlink:href=\"#m460c345d41\" y=\"190.90624\"/>\n     <use style=\"fill:#474747;stroke:#474747;stroke-linejoin:miter;\" x=\"308.938494\" xlink:href=\"#m460c345d41\" y=\"181.35675\"/>\n     <use style=\"fill:#474747;stroke:#474747;stroke-linejoin:miter;\" x=\"308.938494\" xlink:href=\"#m460c345d41\" y=\"155.095653\"/>\n     <use style=\"fill:#474747;stroke:#474747;stroke-linejoin:miter;\" x=\"308.938494\" xlink:href=\"#m460c345d41\" y=\"156.289339\"/>\n     <use style=\"fill:#474747;stroke:#474747;stroke-linejoin:miter;\" x=\"308.938494\" xlink:href=\"#m460c345d41\" y=\"190.90624\"/>\n     <use style=\"fill:#474747;stroke:#474747;stroke-linejoin:miter;\" x=\"308.938494\" xlink:href=\"#m460c345d41\" y=\"173.000946\"/>\n     <use style=\"fill:#474747;stroke:#474747;stroke-linejoin:miter;\" x=\"308.938494\" xlink:href=\"#m460c345d41\" y=\"50.051264\"/>\n     <use style=\"fill:#474747;stroke:#474747;stroke-linejoin:miter;\" x=\"308.938494\" xlink:href=\"#m460c345d41\" y=\"186.131495\"/>\n     <use style=\"fill:#474747;stroke:#474747;stroke-linejoin:miter;\" x=\"308.938494\" xlink:href=\"#m460c345d41\" y=\"135.996673\"/>\n     <use style=\"fill:#474747;stroke:#474747;stroke-linejoin:miter;\" x=\"308.938494\" xlink:href=\"#m460c345d41\" y=\"156.886182\"/>\n     <use style=\"fill:#474747;stroke:#474747;stroke-linejoin:miter;\" x=\"308.938494\" xlink:href=\"#m460c345d41\" y=\"156.886182\"/>\n     <use style=\"fill:#474747;stroke:#474747;stroke-linejoin:miter;\" x=\"308.938494\" xlink:href=\"#m460c345d41\" y=\"180.163063\"/>\n     <use style=\"fill:#474747;stroke:#474747;stroke-linejoin:miter;\" x=\"308.938494\" xlink:href=\"#m460c345d41\" y=\"162.25777\"/>\n     <use style=\"fill:#474747;stroke:#474747;stroke-linejoin:miter;\" x=\"308.938494\" xlink:href=\"#m460c345d41\" y=\"183.744122\"/>\n     <use style=\"fill:#474747;stroke:#474747;stroke-linejoin:miter;\" x=\"308.938494\" xlink:href=\"#m460c345d41\" y=\"165.838829\"/>\n     <use style=\"fill:#474747;stroke:#474747;stroke-linejoin:miter;\" x=\"308.938494\" xlink:href=\"#m460c345d41\" y=\"173.597789\"/>\n     <use style=\"fill:#474747;stroke:#474747;stroke-linejoin:miter;\" x=\"308.938494\" xlink:href=\"#m460c345d41\" y=\"159.870398\"/>\n     <use style=\"fill:#474747;stroke:#474747;stroke-linejoin:miter;\" x=\"308.938494\" xlink:href=\"#m460c345d41\" y=\"184.937808\"/>\n     <use style=\"fill:#474747;stroke:#474747;stroke-linejoin:miter;\" x=\"308.938494\" xlink:href=\"#m460c345d41\" y=\"184.937808\"/>\n     <use style=\"fill:#474747;stroke:#474747;stroke-linejoin:miter;\" x=\"308.938494\" xlink:href=\"#m460c345d41\" y=\"180.163063\"/>\n     <use style=\"fill:#474747;stroke:#474747;stroke-linejoin:miter;\" x=\"308.938494\" xlink:href=\"#m460c345d41\" y=\"184.937808\"/>\n     <use style=\"fill:#474747;stroke:#474747;stroke-linejoin:miter;\" x=\"308.938494\" xlink:href=\"#m460c345d41\" y=\"180.163063\"/>\n     <use style=\"fill:#474747;stroke:#474747;stroke-linejoin:miter;\" x=\"308.938494\" xlink:href=\"#m460c345d41\" y=\"183.744122\"/>\n     <use style=\"fill:#474747;stroke:#474747;stroke-linejoin:miter;\" x=\"308.938494\" xlink:href=\"#m460c345d41\" y=\"183.744122\"/>\n     <use style=\"fill:#474747;stroke:#474747;stroke-linejoin:miter;\" x=\"308.938494\" xlink:href=\"#m460c345d41\" y=\"140.771418\"/>\n     <use style=\"fill:#474747;stroke:#474747;stroke-linejoin:miter;\" x=\"308.938494\" xlink:href=\"#m460c345d41\" y=\"180.163063\"/>\n     <use style=\"fill:#474747;stroke:#474747;stroke-linejoin:miter;\" x=\"308.938494\" xlink:href=\"#m460c345d41\" y=\"174.194632\"/>\n     <use style=\"fill:#474747;stroke:#474747;stroke-linejoin:miter;\" x=\"308.938494\" xlink:href=\"#m460c345d41\" y=\"168.226201\"/>\n     <use style=\"fill:#474747;stroke:#474747;stroke-linejoin:miter;\" x=\"308.938494\" xlink:href=\"#m460c345d41\" y=\"168.226201\"/>\n     <use style=\"fill:#474747;stroke:#474747;stroke-linejoin:miter;\" x=\"308.938494\" xlink:href=\"#m460c345d41\" y=\"163.451456\"/>\n     <use style=\"fill:#474747;stroke:#474747;stroke-linejoin:miter;\" x=\"308.938494\" xlink:href=\"#m460c345d41\" y=\"132.415614\"/>\n     <use style=\"fill:#474747;stroke:#474747;stroke-linejoin:miter;\" x=\"308.938494\" xlink:href=\"#m460c345d41\" y=\"145.546163\"/>\n     <use style=\"fill:#474747;stroke:#474747;stroke-linejoin:miter;\" x=\"308.938494\" xlink:href=\"#m460c345d41\" y=\"182.550436\"/>\n     <use style=\"fill:#474747;stroke:#474747;stroke-linejoin:miter;\" x=\"308.938494\" xlink:href=\"#m460c345d41\" y=\"184.340965\"/>\n     <use style=\"fill:#474747;stroke:#474747;stroke-linejoin:miter;\" x=\"308.938494\" xlink:href=\"#m460c345d41\" y=\"163.451456\"/>\n     <use style=\"fill:#474747;stroke:#474747;stroke-linejoin:miter;\" x=\"308.938494\" xlink:href=\"#m460c345d41\" y=\"188.518867\"/>\n     <use style=\"fill:#474747;stroke:#474747;stroke-linejoin:miter;\" x=\"308.938494\" xlink:href=\"#m460c345d41\" y=\"184.937808\"/>\n     <use style=\"fill:#474747;stroke:#474747;stroke-linejoin:miter;\" x=\"308.938494\" xlink:href=\"#m460c345d41\" y=\"187.325181\"/>\n     <use style=\"fill:#474747;stroke:#474747;stroke-linejoin:miter;\" x=\"308.938494\" xlink:href=\"#m460c345d41\" y=\"187.325181\"/>\n     <use style=\"fill:#474747;stroke:#474747;stroke-linejoin:miter;\" x=\"308.938494\" xlink:href=\"#m460c345d41\" y=\"187.325181\"/>\n     <use style=\"fill:#474747;stroke:#474747;stroke-linejoin:miter;\" x=\"308.938494\" xlink:href=\"#m460c345d41\" y=\"156.289339\"/>\n     <use style=\"fill:#474747;stroke:#474747;stroke-linejoin:miter;\" x=\"308.938494\" xlink:href=\"#m460c345d41\" y=\"163.451456\"/>\n     <use style=\"fill:#474747;stroke:#474747;stroke-linejoin:miter;\" x=\"308.938494\" xlink:href=\"#m460c345d41\" y=\"163.451456\"/>\n     <use style=\"fill:#474747;stroke:#474747;stroke-linejoin:miter;\" x=\"308.938494\" xlink:href=\"#m460c345d41\" y=\"189.712553\"/>\n     <use style=\"fill:#474747;stroke:#474747;stroke-linejoin:miter;\" x=\"308.938494\" xlink:href=\"#m460c345d41\" y=\"127.640869\"/>\n     <use style=\"fill:#474747;stroke:#474747;stroke-linejoin:miter;\" x=\"308.938494\" xlink:href=\"#m460c345d41\" y=\"180.163063\"/>\n     <use style=\"fill:#474747;stroke:#474747;stroke-linejoin:miter;\" x=\"308.938494\" xlink:href=\"#m460c345d41\" y=\"130.028242\"/>\n     <use style=\"fill:#474747;stroke:#474747;stroke-linejoin:miter;\" x=\"308.938494\" xlink:href=\"#m460c345d41\" y=\"130.028242\"/>\n     <use style=\"fill:#474747;stroke:#474747;stroke-linejoin:miter;\" x=\"308.938494\" xlink:href=\"#m460c345d41\" y=\"175.388319\"/>\n     <use style=\"fill:#474747;stroke:#474747;stroke-linejoin:miter;\" x=\"308.938494\" xlink:href=\"#m460c345d41\" y=\"189.712553\"/>\n     <use style=\"fill:#474747;stroke:#474747;stroke-linejoin:miter;\" x=\"308.938494\" xlink:href=\"#m460c345d41\" y=\"186.131495\"/>\n     <use style=\"fill:#474747;stroke:#474747;stroke-linejoin:miter;\" x=\"308.938494\" xlink:href=\"#m460c345d41\" y=\"164.645142\"/>\n     <use style=\"fill:#474747;stroke:#474747;stroke-linejoin:miter;\" x=\"308.938494\" xlink:href=\"#m460c345d41\" y=\"186.131495\"/>\n     <use style=\"fill:#474747;stroke:#474747;stroke-linejoin:miter;\" x=\"308.938494\" xlink:href=\"#m460c345d41\" y=\"161.064084\"/>\n     <use style=\"fill:#474747;stroke:#474747;stroke-linejoin:miter;\" x=\"308.938494\" xlink:href=\"#m460c345d41\" y=\"128.834556\"/>\n     <use style=\"fill:#474747;stroke:#474747;stroke-linejoin:miter;\" x=\"308.938494\" xlink:href=\"#m460c345d41\" y=\"187.325181\"/>\n     <use style=\"fill:#474747;stroke:#474747;stroke-linejoin:miter;\" x=\"308.938494\" xlink:href=\"#m460c345d41\" y=\"188.518867\"/>\n     <use style=\"fill:#474747;stroke:#474747;stroke-linejoin:miter;\" x=\"308.938494\" xlink:href=\"#m460c345d41\" y=\"187.325181\"/>\n     <use style=\"fill:#474747;stroke:#474747;stroke-linejoin:miter;\" x=\"308.938494\" xlink:href=\"#m460c345d41\" y=\"138.384045\"/>\n     <use style=\"fill:#474747;stroke:#474747;stroke-linejoin:miter;\" x=\"308.938494\" xlink:href=\"#m460c345d41\" y=\"138.384045\"/>\n     <use style=\"fill:#474747;stroke:#474747;stroke-linejoin:miter;\" x=\"308.938494\" xlink:href=\"#m460c345d41\" y=\"158.676711\"/>\n     <use style=\"fill:#474747;stroke:#474747;stroke-linejoin:miter;\" x=\"308.938494\" xlink:href=\"#m460c345d41\" y=\"158.676711\"/>\n     <use style=\"fill:#474747;stroke:#474747;stroke-linejoin:miter;\" x=\"308.938494\" xlink:href=\"#m460c345d41\" y=\"178.969377\"/>\n     <use style=\"fill:#474747;stroke:#474747;stroke-linejoin:miter;\" x=\"308.938494\" xlink:href=\"#m460c345d41\" y=\"169.419887\"/>\n     <use style=\"fill:#474747;stroke:#474747;stroke-linejoin:miter;\" x=\"308.938494\" xlink:href=\"#m460c345d41\" y=\"169.419887\"/>\n     <use style=\"fill:#474747;stroke:#474747;stroke-linejoin:miter;\" x=\"308.938494\" xlink:href=\"#m460c345d41\" y=\"183.744122\"/>\n     <use style=\"fill:#474747;stroke:#474747;stroke-linejoin:miter;\" x=\"308.938494\" xlink:href=\"#m460c345d41\" y=\"169.419887\"/>\n     <use style=\"fill:#474747;stroke:#474747;stroke-linejoin:miter;\" x=\"308.938494\" xlink:href=\"#m460c345d41\" y=\"190.90624\"/>\n     <use style=\"fill:#474747;stroke:#474747;stroke-linejoin:miter;\" x=\"308.938494\" xlink:href=\"#m460c345d41\" y=\"161.064084\"/>\n     <use style=\"fill:#474747;stroke:#474747;stroke-linejoin:miter;\" x=\"308.938494\" xlink:href=\"#m460c345d41\" y=\"168.226201\"/>\n     <use style=\"fill:#474747;stroke:#474747;stroke-linejoin:miter;\" x=\"308.938494\" xlink:href=\"#m460c345d41\" y=\"141.965104\"/>\n     <use style=\"fill:#474747;stroke:#474747;stroke-linejoin:miter;\" x=\"308.938494\" xlink:href=\"#m460c345d41\" y=\"180.163063\"/>\n     <use style=\"fill:#474747;stroke:#474747;stroke-linejoin:miter;\" x=\"308.938494\" xlink:href=\"#m460c345d41\" y=\"165.838829\"/>\n     <use style=\"fill:#474747;stroke:#474747;stroke-linejoin:miter;\" x=\"308.938494\" xlink:href=\"#m460c345d41\" y=\"186.131495\"/>\n     <use style=\"fill:#474747;stroke:#474747;stroke-linejoin:miter;\" x=\"308.938494\" xlink:href=\"#m460c345d41\" y=\"81.087106\"/>\n     <use style=\"fill:#474747;stroke:#474747;stroke-linejoin:miter;\" x=\"308.938494\" xlink:href=\"#m460c345d41\" y=\"183.744122\"/>\n     <use style=\"fill:#474747;stroke:#474747;stroke-linejoin:miter;\" x=\"308.938494\" xlink:href=\"#m460c345d41\" y=\"75.118675\"/>\n     <use style=\"fill:#474747;stroke:#474747;stroke-linejoin:miter;\" x=\"308.938494\" xlink:href=\"#m460c345d41\" y=\"177.775691\"/>\n     <use style=\"fill:#474747;stroke:#474747;stroke-linejoin:miter;\" x=\"308.938494\" xlink:href=\"#m460c345d41\" y=\"159.870398\"/>\n     <use style=\"fill:#474747;stroke:#474747;stroke-linejoin:miter;\" x=\"308.938494\" xlink:href=\"#m460c345d41\" y=\"181.35675\"/>\n     <use style=\"fill:#474747;stroke:#474747;stroke-linejoin:miter;\" x=\"308.938494\" xlink:href=\"#m460c345d41\" y=\"181.35675\"/>\n     <use style=\"fill:#474747;stroke:#474747;stroke-linejoin:miter;\" x=\"308.938494\" xlink:href=\"#m460c345d41\" y=\"183.744122\"/>\n     <use style=\"fill:#474747;stroke:#474747;stroke-linejoin:miter;\" x=\"308.938494\" xlink:href=\"#m460c345d41\" y=\"183.744122\"/>\n     <use style=\"fill:#474747;stroke:#474747;stroke-linejoin:miter;\" x=\"308.938494\" xlink:href=\"#m460c345d41\" y=\"188.518867\"/>\n     <use style=\"fill:#474747;stroke:#474747;stroke-linejoin:miter;\" x=\"308.938494\" xlink:href=\"#m460c345d41\" y=\"189.712553\"/>\n     <use style=\"fill:#474747;stroke:#474747;stroke-linejoin:miter;\" x=\"308.938494\" xlink:href=\"#m460c345d41\" y=\"170.613574\"/>\n     <use style=\"fill:#474747;stroke:#474747;stroke-linejoin:miter;\" x=\"308.938494\" xlink:href=\"#m460c345d41\" y=\"189.712553\"/>\n     <use style=\"fill:#474747;stroke:#474747;stroke-linejoin:miter;\" x=\"308.938494\" xlink:href=\"#m460c345d41\" y=\"162.25777\"/>\n     <use style=\"fill:#474747;stroke:#474747;stroke-linejoin:miter;\" x=\"308.938494\" xlink:href=\"#m460c345d41\" y=\"188.518867\"/>\n     <use style=\"fill:#474747;stroke:#474747;stroke-linejoin:miter;\" x=\"308.938494\" xlink:href=\"#m460c345d41\" y=\"174.194632\"/>\n     <use style=\"fill:#474747;stroke:#474747;stroke-linejoin:miter;\" x=\"308.938494\" xlink:href=\"#m460c345d41\" y=\"174.194632\"/>\n     <use style=\"fill:#474747;stroke:#474747;stroke-linejoin:miter;\" x=\"308.938494\" xlink:href=\"#m460c345d41\" y=\"188.518867\"/>\n     <use style=\"fill:#474747;stroke:#474747;stroke-linejoin:miter;\" x=\"308.938494\" xlink:href=\"#m460c345d41\" y=\"51.244951\"/>\n     <use style=\"fill:#474747;stroke:#474747;stroke-linejoin:miter;\" x=\"308.938494\" xlink:href=\"#m460c345d41\" y=\"51.244951\"/>\n     <use style=\"fill:#474747;stroke:#474747;stroke-linejoin:miter;\" x=\"308.938494\" xlink:href=\"#m460c345d41\" y=\"177.775691\"/>\n     <use style=\"fill:#474747;stroke:#474747;stroke-linejoin:miter;\" x=\"308.938494\" xlink:href=\"#m460c345d41\" y=\"173.000946\"/>\n     <use style=\"fill:#474747;stroke:#474747;stroke-linejoin:miter;\" x=\"308.938494\" xlink:href=\"#m460c345d41\" y=\"173.000946\"/>\n     <use style=\"fill:#474747;stroke:#474747;stroke-linejoin:miter;\" x=\"308.938494\" xlink:href=\"#m460c345d41\" y=\"190.309396\"/>\n     <use style=\"fill:#474747;stroke:#474747;stroke-linejoin:miter;\" x=\"308.938494\" xlink:href=\"#m460c345d41\" y=\"70.34393\"/>\n     <use style=\"fill:#474747;stroke:#474747;stroke-linejoin:miter;\" x=\"308.938494\" xlink:href=\"#m460c345d41\" y=\"70.34393\"/>\n     <use style=\"fill:#474747;stroke:#474747;stroke-linejoin:miter;\" x=\"308.938494\" xlink:href=\"#m460c345d41\" y=\"167.032515\"/>\n     <use style=\"fill:#474747;stroke:#474747;stroke-linejoin:miter;\" x=\"308.938494\" xlink:href=\"#m460c345d41\" y=\"183.744122\"/>\n     <use style=\"fill:#474747;stroke:#474747;stroke-linejoin:miter;\" x=\"308.938494\" xlink:href=\"#m460c345d41\" y=\"186.131495\"/>\n     <use style=\"fill:#474747;stroke:#474747;stroke-linejoin:miter;\" x=\"308.938494\" xlink:href=\"#m460c345d41\" y=\"186.131495\"/>\n     <use style=\"fill:#474747;stroke:#474747;stroke-linejoin:miter;\" x=\"308.938494\" xlink:href=\"#m460c345d41\" y=\"182.550436\"/>\n     <use style=\"fill:#474747;stroke:#474747;stroke-linejoin:miter;\" x=\"308.938494\" xlink:href=\"#m460c345d41\" y=\"190.90624\"/>\n     <use style=\"fill:#474747;stroke:#474747;stroke-linejoin:miter;\" x=\"308.938494\" xlink:href=\"#m460c345d41\" y=\"155.095653\"/>\n     <use style=\"fill:#474747;stroke:#474747;stroke-linejoin:miter;\" x=\"308.938494\" xlink:href=\"#m460c345d41\" y=\"69.150244\"/>\n     <use style=\"fill:#474747;stroke:#474747;stroke-linejoin:miter;\" x=\"308.938494\" xlink:href=\"#m460c345d41\" y=\"174.194632\"/>\n     <use style=\"fill:#474747;stroke:#474747;stroke-linejoin:miter;\" x=\"308.938494\" xlink:href=\"#m460c345d41\" y=\"141.965104\"/>\n    </g>\n   </g>\n   <g id=\"line2d_40\">\n    <path clip-path=\"url(#p0cacd2b75e)\" d=\"M 385.029403 211.052634 \nL 385.029403 221.317781 \n\" style=\"fill:none;stroke:#474747;stroke-linecap:square;stroke-width:1.5;\"/>\n   </g>\n   <g id=\"line2d_41\">\n    <path clip-path=\"url(#p0cacd2b75e)\" d=\"M 385.029403 203.973222 \nL 385.029403 193.708075 \n\" style=\"fill:none;stroke:#474747;stroke-linecap:square;stroke-width:1.5;\"/>\n   </g>\n   <g id=\"line2d_42\">\n    <path clip-path=\"url(#p0cacd2b75e)\" d=\"M 369.811222 221.317781 \nL 400.247585 221.317781 \n\" style=\"fill:none;stroke:#474747;stroke-linecap:square;stroke-width:1.5;\"/>\n   </g>\n   <g id=\"line2d_43\">\n    <path clip-path=\"url(#p0cacd2b75e)\" d=\"M 369.811222 193.708075 \nL 400.247585 193.708075 \n\" style=\"fill:none;stroke:#474747;stroke-linecap:square;stroke-width:1.5;\"/>\n   </g>\n   <g id=\"line2d_44\">\n    <g clip-path=\"url(#p0cacd2b75e)\">\n     <use style=\"fill:#474747;stroke:#474747;stroke-linejoin:miter;\" x=\"385.029403\" xlink:href=\"#m460c345d41\" y=\"222.025722\"/>\n     <use style=\"fill:#474747;stroke:#474747;stroke-linejoin:miter;\" x=\"385.029403\" xlink:href=\"#m460c345d41\" y=\"222.025722\"/>\n     <use style=\"fill:#474747;stroke:#474747;stroke-linejoin:miter;\" x=\"385.029403\" xlink:href=\"#m460c345d41\" y=\"223.795575\"/>\n     <use style=\"fill:#474747;stroke:#474747;stroke-linejoin:miter;\" x=\"385.029403\" xlink:href=\"#m460c345d41\" y=\"222.379693\"/>\n     <use style=\"fill:#474747;stroke:#474747;stroke-linejoin:miter;\" x=\"385.029403\" xlink:href=\"#m460c345d41\" y=\"231.582928\"/>\n     <use style=\"fill:#474747;stroke:#474747;stroke-linejoin:miter;\" x=\"385.029403\" xlink:href=\"#m460c345d41\" y=\"231.582928\"/>\n     <use style=\"fill:#474747;stroke:#474747;stroke-linejoin:miter;\" x=\"385.029403\" xlink:href=\"#m460c345d41\" y=\"222.025722\"/>\n     <use style=\"fill:#474747;stroke:#474747;stroke-linejoin:miter;\" x=\"385.029403\" xlink:href=\"#m460c345d41\" y=\"222.025722\"/>\n     <use style=\"fill:#474747;stroke:#474747;stroke-linejoin:miter;\" x=\"385.029403\" xlink:href=\"#m460c345d41\" y=\"222.379693\"/>\n     <use style=\"fill:#474747;stroke:#474747;stroke-linejoin:miter;\" x=\"385.029403\" xlink:href=\"#m460c345d41\" y=\"173.531751\"/>\n     <use style=\"fill:#474747;stroke:#474747;stroke-linejoin:miter;\" x=\"385.029403\" xlink:href=\"#m460c345d41\" y=\"175.655575\"/>\n     <use style=\"fill:#474747;stroke:#474747;stroke-linejoin:miter;\" x=\"385.029403\" xlink:href=\"#m460c345d41\" y=\"105.569398\"/>\n     <use style=\"fill:#474747;stroke:#474747;stroke-linejoin:miter;\" x=\"385.029403\" xlink:href=\"#m460c345d41\" y=\"115.126604\"/>\n     <use style=\"fill:#474747;stroke:#474747;stroke-linejoin:miter;\" x=\"385.029403\" xlink:href=\"#m460c345d41\" y=\"174.947634\"/>\n     <use style=\"fill:#474747;stroke:#474747;stroke-linejoin:miter;\" x=\"385.029403\" xlink:href=\"#m460c345d41\" y=\"118.31234\"/>\n     <use style=\"fill:#474747;stroke:#474747;stroke-linejoin:miter;\" x=\"385.029403\" xlink:href=\"#m460c345d41\" y=\"71.588222\"/>\n     <use style=\"fill:#474747;stroke:#474747;stroke-linejoin:miter;\" x=\"385.029403\" xlink:href=\"#m460c345d41\" y=\"93.888369\"/>\n     <use style=\"fill:#474747;stroke:#474747;stroke-linejoin:miter;\" x=\"385.029403\" xlink:href=\"#m460c345d41\" y=\"70.52631\"/>\n     <use style=\"fill:#474747;stroke:#474747;stroke-linejoin:miter;\" x=\"385.029403\" xlink:href=\"#m460c345d41\" y=\"192.646163\"/>\n     <use style=\"fill:#474747;stroke:#474747;stroke-linejoin:miter;\" x=\"385.029403\" xlink:href=\"#m460c345d41\" y=\"172.82381\"/>\n     <use style=\"fill:#474747;stroke:#474747;stroke-linejoin:miter;\" x=\"385.029403\" xlink:href=\"#m460c345d41\" y=\"184.150869\"/>\n     <use style=\"fill:#474747;stroke:#474747;stroke-linejoin:miter;\" x=\"385.029403\" xlink:href=\"#m460c345d41\" y=\"152.293516\"/>\n     <use style=\"fill:#474747;stroke:#474747;stroke-linejoin:miter;\" x=\"385.029403\" xlink:href=\"#m460c345d41\" y=\"19.908516\"/>\n     <use style=\"fill:#474747;stroke:#474747;stroke-linejoin:miter;\" x=\"385.029403\" xlink:href=\"#m460c345d41\" y=\"108.401163\"/>\n     <use style=\"fill:#474747;stroke:#474747;stroke-linejoin:miter;\" x=\"385.029403\" xlink:href=\"#m460c345d41\" y=\"140.258516\"/>\n     <use style=\"fill:#474747;stroke:#474747;stroke-linejoin:miter;\" x=\"385.029403\" xlink:href=\"#m460c345d41\" y=\"116.542487\"/>\n     <use style=\"fill:#474747;stroke:#474747;stroke-linejoin:miter;\" x=\"385.029403\" xlink:href=\"#m460c345d41\" y=\"142.73631\"/>\n     <use style=\"fill:#474747;stroke:#474747;stroke-linejoin:miter;\" x=\"385.029403\" xlink:href=\"#m460c345d41\" y=\"19.554545\"/>\n     <use style=\"fill:#474747;stroke:#474747;stroke-linejoin:miter;\" x=\"385.029403\" xlink:href=\"#m460c345d41\" y=\"109.109104\"/>\n     <use style=\"fill:#474747;stroke:#474747;stroke-linejoin:miter;\" x=\"385.029403\" xlink:href=\"#m460c345d41\" y=\"114.418663\"/>\n     <use style=\"fill:#474747;stroke:#474747;stroke-linejoin:miter;\" x=\"385.029403\" xlink:href=\"#m460c345d41\" y=\"169.992046\"/>\n     <use style=\"fill:#474747;stroke:#474747;stroke-linejoin:miter;\" x=\"385.029403\" xlink:href=\"#m460c345d41\" y=\"160.43484\"/>\n     <use style=\"fill:#474747;stroke:#474747;stroke-linejoin:miter;\" x=\"385.029403\" xlink:href=\"#m460c345d41\" y=\"160.080869\"/>\n     <use style=\"fill:#474747;stroke:#474747;stroke-linejoin:miter;\" x=\"385.029403\" xlink:href=\"#m460c345d41\" y=\"193.000134\"/>\n     <use style=\"fill:#474747;stroke:#474747;stroke-linejoin:miter;\" x=\"385.029403\" xlink:href=\"#m460c345d41\" y=\"192.646163\"/>\n     <use style=\"fill:#474747;stroke:#474747;stroke-linejoin:miter;\" x=\"385.029403\" xlink:href=\"#m460c345d41\" y=\"192.646163\"/>\n     <use style=\"fill:#474747;stroke:#474747;stroke-linejoin:miter;\" x=\"385.029403\" xlink:href=\"#m460c345d41\" y=\"190.52234\"/>\n     <use style=\"fill:#474747;stroke:#474747;stroke-linejoin:miter;\" x=\"385.029403\" xlink:href=\"#m460c345d41\" y=\"193.354104\"/>\n     <use style=\"fill:#474747;stroke:#474747;stroke-linejoin:miter;\" x=\"385.029403\" xlink:href=\"#m460c345d41\" y=\"179.549251\"/>\n     <use style=\"fill:#474747;stroke:#474747;stroke-linejoin:miter;\" x=\"385.029403\" xlink:href=\"#m460c345d41\" y=\"191.938222\"/>\n     <use style=\"fill:#474747;stroke:#474747;stroke-linejoin:miter;\" x=\"385.029403\" xlink:href=\"#m460c345d41\" y=\"192.646163\"/>\n     <use style=\"fill:#474747;stroke:#474747;stroke-linejoin:miter;\" x=\"385.029403\" xlink:href=\"#m460c345d41\" y=\"192.646163\"/>\n     <use style=\"fill:#474747;stroke:#474747;stroke-linejoin:miter;\" x=\"385.029403\" xlink:href=\"#m460c345d41\" y=\"174.239693\"/>\n     <use style=\"fill:#474747;stroke:#474747;stroke-linejoin:miter;\" x=\"385.029403\" xlink:href=\"#m460c345d41\" y=\"193.000134\"/>\n     <use style=\"fill:#474747;stroke:#474747;stroke-linejoin:miter;\" x=\"385.029403\" xlink:href=\"#m460c345d41\" y=\"190.87631\"/>\n     <use style=\"fill:#474747;stroke:#474747;stroke-linejoin:miter;\" x=\"385.029403\" xlink:href=\"#m460c345d41\" y=\"89.640722\"/>\n     <use style=\"fill:#474747;stroke:#474747;stroke-linejoin:miter;\" x=\"385.029403\" xlink:href=\"#m460c345d41\" y=\"182.027046\"/>\n     <use style=\"fill:#474747;stroke:#474747;stroke-linejoin:miter;\" x=\"385.029403\" xlink:href=\"#m460c345d41\" y=\"182.027046\"/>\n     <use style=\"fill:#474747;stroke:#474747;stroke-linejoin:miter;\" x=\"385.029403\" xlink:href=\"#m460c345d41\" y=\"191.584251\"/>\n     <use style=\"fill:#474747;stroke:#474747;stroke-linejoin:miter;\" x=\"385.029403\" xlink:href=\"#m460c345d41\" y=\"192.646163\"/>\n     <use style=\"fill:#474747;stroke:#474747;stroke-linejoin:miter;\" x=\"385.029403\" xlink:href=\"#m460c345d41\" y=\"165.036457\"/>\n     <use style=\"fill:#474747;stroke:#474747;stroke-linejoin:miter;\" x=\"385.029403\" xlink:href=\"#m460c345d41\" y=\"175.301604\"/>\n     <use style=\"fill:#474747;stroke:#474747;stroke-linejoin:miter;\" x=\"385.029403\" xlink:href=\"#m460c345d41\" y=\"155.833222\"/>\n     <use style=\"fill:#474747;stroke:#474747;stroke-linejoin:miter;\" x=\"385.029403\" xlink:href=\"#m460c345d41\" y=\"155.833222\"/>\n     <use style=\"fill:#474747;stroke:#474747;stroke-linejoin:miter;\" x=\"385.029403\" xlink:href=\"#m460c345d41\" y=\"147.337928\"/>\n     <use style=\"fill:#474747;stroke:#474747;stroke-linejoin:miter;\" x=\"385.029403\" xlink:href=\"#m460c345d41\" y=\"183.442928\"/>\n     <use style=\"fill:#474747;stroke:#474747;stroke-linejoin:miter;\" x=\"385.029403\" xlink:href=\"#m460c345d41\" y=\"192.646163\"/>\n     <use style=\"fill:#474747;stroke:#474747;stroke-linejoin:miter;\" x=\"385.029403\" xlink:href=\"#m460c345d41\" y=\"191.938222\"/>\n     <use style=\"fill:#474747;stroke:#474747;stroke-linejoin:miter;\" x=\"385.029403\" xlink:href=\"#m460c345d41\" y=\"191.938222\"/>\n     <use style=\"fill:#474747;stroke:#474747;stroke-linejoin:miter;\" x=\"385.029403\" xlink:href=\"#m460c345d41\" y=\"185.212781\"/>\n     <use style=\"fill:#474747;stroke:#474747;stroke-linejoin:miter;\" x=\"385.029403\" xlink:href=\"#m460c345d41\" y=\"157.249104\"/>\n     <use style=\"fill:#474747;stroke:#474747;stroke-linejoin:miter;\" x=\"385.029403\" xlink:href=\"#m460c345d41\" y=\"180.257193\"/>\n     <use style=\"fill:#474747;stroke:#474747;stroke-linejoin:miter;\" x=\"385.029403\" xlink:href=\"#m460c345d41\" y=\"86.454987\"/>\n     <use style=\"fill:#474747;stroke:#474747;stroke-linejoin:miter;\" x=\"385.029403\" xlink:href=\"#m460c345d41\" y=\"98.843957\"/>\n     <use style=\"fill:#474747;stroke:#474747;stroke-linejoin:miter;\" x=\"385.029403\" xlink:href=\"#m460c345d41\" y=\"88.932781\"/>\n     <use style=\"fill:#474747;stroke:#474747;stroke-linejoin:miter;\" x=\"385.029403\" xlink:href=\"#m460c345d41\" y=\"180.257193\"/>\n     <use style=\"fill:#474747;stroke:#474747;stroke-linejoin:miter;\" x=\"385.029403\" xlink:href=\"#m460c345d41\" y=\"180.257193\"/>\n     <use style=\"fill:#474747;stroke:#474747;stroke-linejoin:miter;\" x=\"385.029403\" xlink:href=\"#m460c345d41\" y=\"149.815722\"/>\n     <use style=\"fill:#474747;stroke:#474747;stroke-linejoin:miter;\" x=\"385.029403\" xlink:href=\"#m460c345d41\" y=\"150.523663\"/>\n     <use style=\"fill:#474747;stroke:#474747;stroke-linejoin:miter;\" x=\"385.029403\" xlink:href=\"#m460c345d41\" y=\"168.576163\"/>\n     <use style=\"fill:#474747;stroke:#474747;stroke-linejoin:miter;\" x=\"385.029403\" xlink:href=\"#m460c345d41\" y=\"189.106457\"/>\n     <use style=\"fill:#474747;stroke:#474747;stroke-linejoin:miter;\" x=\"385.029403\" xlink:href=\"#m460c345d41\" y=\"191.230281\"/>\n     <use style=\"fill:#474747;stroke:#474747;stroke-linejoin:miter;\" x=\"385.029403\" xlink:href=\"#m460c345d41\" y=\"177.425428\"/>\n     <use style=\"fill:#474747;stroke:#474747;stroke-linejoin:miter;\" x=\"385.029403\" xlink:href=\"#m460c345d41\" y=\"184.50484\"/>\n     <use style=\"fill:#474747;stroke:#474747;stroke-linejoin:miter;\" x=\"385.029403\" xlink:href=\"#m460c345d41\" y=\"183.796898\"/>\n     <use style=\"fill:#474747;stroke:#474747;stroke-linejoin:miter;\" x=\"385.029403\" xlink:href=\"#m460c345d41\" y=\"167.160281\"/>\n     <use style=\"fill:#474747;stroke:#474747;stroke-linejoin:miter;\" x=\"385.029403\" xlink:href=\"#m460c345d41\" y=\"189.106457\"/>\n     <use style=\"fill:#474747;stroke:#474747;stroke-linejoin:miter;\" x=\"385.029403\" xlink:href=\"#m460c345d41\" y=\"178.84131\"/>\n     <use style=\"fill:#474747;stroke:#474747;stroke-linejoin:miter;\" x=\"385.029403\" xlink:href=\"#m460c345d41\" y=\"193.354104\"/>\n     <use style=\"fill:#474747;stroke:#474747;stroke-linejoin:miter;\" x=\"385.029403\" xlink:href=\"#m460c345d41\" y=\"193.354104\"/>\n     <use style=\"fill:#474747;stroke:#474747;stroke-linejoin:miter;\" x=\"385.029403\" xlink:href=\"#m460c345d41\" y=\"192.292193\"/>\n     <use style=\"fill:#474747;stroke:#474747;stroke-linejoin:miter;\" x=\"385.029403\" xlink:href=\"#m460c345d41\" y=\"192.292193\"/>\n     <use style=\"fill:#474747;stroke:#474747;stroke-linejoin:miter;\" x=\"385.029403\" xlink:href=\"#m460c345d41\" y=\"89.286751\"/>\n     <use style=\"fill:#474747;stroke:#474747;stroke-linejoin:miter;\" x=\"385.029403\" xlink:href=\"#m460c345d41\" y=\"159.372928\"/>\n     <use style=\"fill:#474747;stroke:#474747;stroke-linejoin:miter;\" x=\"385.029403\" xlink:href=\"#m460c345d41\" y=\"175.301604\"/>\n     <use style=\"fill:#474747;stroke:#474747;stroke-linejoin:miter;\" x=\"385.029403\" xlink:href=\"#m460c345d41\" y=\"172.82381\"/>\n     <use style=\"fill:#474747;stroke:#474747;stroke-linejoin:miter;\" x=\"385.029403\" xlink:href=\"#m460c345d41\" y=\"105.215428\"/>\n     <use style=\"fill:#474747;stroke:#474747;stroke-linejoin:miter;\" x=\"385.029403\" xlink:href=\"#m460c345d41\" y=\"177.071457\"/>\n     <use style=\"fill:#474747;stroke:#474747;stroke-linejoin:miter;\" x=\"385.029403\" xlink:href=\"#m460c345d41\" y=\"177.071457\"/>\n     <use style=\"fill:#474747;stroke:#474747;stroke-linejoin:miter;\" x=\"385.029403\" xlink:href=\"#m460c345d41\" y=\"187.690575\"/>\n     <use style=\"fill:#474747;stroke:#474747;stroke-linejoin:miter;\" x=\"385.029403\" xlink:href=\"#m460c345d41\" y=\"189.106457\"/>\n     <use style=\"fill:#474747;stroke:#474747;stroke-linejoin:miter;\" x=\"385.029403\" xlink:href=\"#m460c345d41\" y=\"189.106457\"/>\n     <use style=\"fill:#474747;stroke:#474747;stroke-linejoin:miter;\" x=\"385.029403\" xlink:href=\"#m460c345d41\" y=\"192.292193\"/>\n     <use style=\"fill:#474747;stroke:#474747;stroke-linejoin:miter;\" x=\"385.029403\" xlink:href=\"#m460c345d41\" y=\"192.292193\"/>\n     <use style=\"fill:#474747;stroke:#474747;stroke-linejoin:miter;\" x=\"385.029403\" xlink:href=\"#m460c345d41\" y=\"192.292193\"/>\n     <use style=\"fill:#474747;stroke:#474747;stroke-linejoin:miter;\" x=\"385.029403\" xlink:href=\"#m460c345d41\" y=\"93.180428\"/>\n     <use style=\"fill:#474747;stroke:#474747;stroke-linejoin:miter;\" x=\"385.029403\" xlink:href=\"#m460c345d41\" y=\"187.336604\"/>\n     <use style=\"fill:#474747;stroke:#474747;stroke-linejoin:miter;\" x=\"385.029403\" xlink:href=\"#m460c345d41\" y=\"89.286751\"/>\n     <use style=\"fill:#474747;stroke:#474747;stroke-linejoin:miter;\" x=\"385.029403\" xlink:href=\"#m460c345d41\" y=\"177.071457\"/>\n     <use style=\"fill:#474747;stroke:#474747;stroke-linejoin:miter;\" x=\"385.029403\" xlink:href=\"#m460c345d41\" y=\"176.363516\"/>\n     <use style=\"fill:#474747;stroke:#474747;stroke-linejoin:miter;\" x=\"385.029403\" xlink:href=\"#m460c345d41\" y=\"88.932781\"/>\n     <use style=\"fill:#474747;stroke:#474747;stroke-linejoin:miter;\" x=\"385.029403\" xlink:href=\"#m460c345d41\" y=\"181.673075\"/>\n     <use style=\"fill:#474747;stroke:#474747;stroke-linejoin:miter;\" x=\"385.029403\" xlink:href=\"#m460c345d41\" y=\"88.932781\"/>\n     <use style=\"fill:#474747;stroke:#474747;stroke-linejoin:miter;\" x=\"385.029403\" xlink:href=\"#m460c345d41\" y=\"141.320428\"/>\n     <use style=\"fill:#474747;stroke:#474747;stroke-linejoin:miter;\" x=\"385.029403\" xlink:href=\"#m460c345d41\" y=\"192.292193\"/>\n     <use style=\"fill:#474747;stroke:#474747;stroke-linejoin:miter;\" x=\"385.029403\" xlink:href=\"#m460c345d41\" y=\"160.080869\"/>\n     <use style=\"fill:#474747;stroke:#474747;stroke-linejoin:miter;\" x=\"385.029403\" xlink:href=\"#m460c345d41\" y=\"160.080869\"/>\n     <use style=\"fill:#474747;stroke:#474747;stroke-linejoin:miter;\" x=\"385.029403\" xlink:href=\"#m460c345d41\" y=\"176.009546\"/>\n     <use style=\"fill:#474747;stroke:#474747;stroke-linejoin:miter;\" x=\"385.029403\" xlink:href=\"#m460c345d41\" y=\"163.266604\"/>\n     <use style=\"fill:#474747;stroke:#474747;stroke-linejoin:miter;\" x=\"385.029403\" xlink:href=\"#m460c345d41\" y=\"163.266604\"/>\n     <use style=\"fill:#474747;stroke:#474747;stroke-linejoin:miter;\" x=\"385.029403\" xlink:href=\"#m460c345d41\" y=\"152.647487\"/>\n     <use style=\"fill:#474747;stroke:#474747;stroke-linejoin:miter;\" x=\"385.029403\" xlink:href=\"#m460c345d41\" y=\"154.41734\"/>\n    </g>\n   </g>\n   <g id=\"line2d_45\">\n    <path clip-path=\"url(#p0cacd2b75e)\" d=\"M 461.120313 218.977481 \nL 461.120313 228.555478 \n\" style=\"fill:none;stroke:#474747;stroke-linecap:square;stroke-width:1.5;\"/>\n   </g>\n   <g id=\"line2d_46\">\n    <path clip-path=\"url(#p0cacd2b75e)\" d=\"M 461.120313 196.62882 \nL 461.120313 164.702161 \n\" style=\"fill:none;stroke:#474747;stroke-linecap:square;stroke-width:1.5;\"/>\n   </g>\n   <g id=\"line2d_47\">\n    <path clip-path=\"url(#p0cacd2b75e)\" d=\"M 445.902131 228.555478 \nL 476.338494 228.555478 \n\" style=\"fill:none;stroke:#474747;stroke-linecap:square;stroke-width:1.5;\"/>\n   </g>\n   <g id=\"line2d_48\">\n    <path clip-path=\"url(#p0cacd2b75e)\" d=\"M 445.902131 164.702161 \nL 476.338494 164.702161 \n\" style=\"fill:none;stroke:#474747;stroke-linecap:square;stroke-width:1.5;\"/>\n   </g>\n   <g id=\"line2d_49\">\n    <g clip-path=\"url(#p0cacd2b75e)\">\n     <use style=\"fill:#474747;stroke:#474747;stroke-linejoin:miter;\" x=\"461.120313\" xlink:href=\"#m460c345d41\" y=\"147.142499\"/>\n     <use style=\"fill:#474747;stroke:#474747;stroke-linejoin:miter;\" x=\"461.120313\" xlink:href=\"#m460c345d41\" y=\"148.738832\"/>\n     <use style=\"fill:#474747;stroke:#474747;stroke-linejoin:miter;\" x=\"461.120313\" xlink:href=\"#m460c345d41\" y=\"150.335165\"/>\n     <use style=\"fill:#474747;stroke:#474747;stroke-linejoin:miter;\" x=\"461.120313\" xlink:href=\"#m460c345d41\" y=\"163.105829\"/>\n     <use style=\"fill:#474747;stroke:#474747;stroke-linejoin:miter;\" x=\"461.120313\" xlink:href=\"#m460c345d41\" y=\"121.601172\"/>\n     <use style=\"fill:#474747;stroke:#474747;stroke-linejoin:miter;\" x=\"461.120313\" xlink:href=\"#m460c345d41\" y=\"121.601172\"/>\n     <use style=\"fill:#474747;stroke:#474747;stroke-linejoin:miter;\" x=\"461.120313\" xlink:href=\"#m460c345d41\" y=\"161.509496\"/>\n     <use style=\"fill:#474747;stroke:#474747;stroke-linejoin:miter;\" x=\"461.120313\" xlink:href=\"#m460c345d41\" y=\"155.124164\"/>\n     <use style=\"fill:#474747;stroke:#474747;stroke-linejoin:miter;\" x=\"461.120313\" xlink:href=\"#m460c345d41\" y=\"143.949833\"/>\n     <use style=\"fill:#474747;stroke:#474747;stroke-linejoin:miter;\" x=\"461.120313\" xlink:href=\"#m460c345d41\" y=\"156.720497\"/>\n     <use style=\"fill:#474747;stroke:#474747;stroke-linejoin:miter;\" x=\"461.120313\" xlink:href=\"#m460c345d41\" y=\"158.31683\"/>\n     <use style=\"fill:#474747;stroke:#474747;stroke-linejoin:miter;\" x=\"461.120313\" xlink:href=\"#m460c345d41\" y=\"145.546166\"/>\n     <use style=\"fill:#474747;stroke:#474747;stroke-linejoin:miter;\" x=\"461.120313\" xlink:href=\"#m460c345d41\" y=\"147.142499\"/>\n     <use style=\"fill:#474747;stroke:#474747;stroke-linejoin:miter;\" x=\"461.120313\" xlink:href=\"#m460c345d41\" y=\"148.738832\"/>\n     <use style=\"fill:#474747;stroke:#474747;stroke-linejoin:miter;\" x=\"461.120313\" xlink:href=\"#m460c345d41\" y=\"158.31683\"/>\n     <use style=\"fill:#474747;stroke:#474747;stroke-linejoin:miter;\" x=\"461.120313\" xlink:href=\"#m460c345d41\" y=\"163.105829\"/>\n     <use style=\"fill:#474747;stroke:#474747;stroke-linejoin:miter;\" x=\"461.120313\" xlink:href=\"#m460c345d41\" y=\"139.160835\"/>\n     <use style=\"fill:#474747;stroke:#474747;stroke-linejoin:miter;\" x=\"461.120313\" xlink:href=\"#m460c345d41\" y=\"150.335165\"/>\n     <use style=\"fill:#474747;stroke:#474747;stroke-linejoin:miter;\" x=\"461.120313\" xlink:href=\"#m460c345d41\" y=\"158.31683\"/>\n     <use style=\"fill:#474747;stroke:#474747;stroke-linejoin:miter;\" x=\"461.120313\" xlink:href=\"#m460c345d41\" y=\"153.527831\"/>\n     <use style=\"fill:#474747;stroke:#474747;stroke-linejoin:miter;\" x=\"461.120313\" xlink:href=\"#m460c345d41\" y=\"161.509496\"/>\n     <use style=\"fill:#474747;stroke:#474747;stroke-linejoin:miter;\" x=\"461.120313\" xlink:href=\"#m460c345d41\" y=\"153.527831\"/>\n     <use style=\"fill:#474747;stroke:#474747;stroke-linejoin:miter;\" x=\"461.120313\" xlink:href=\"#m460c345d41\" y=\"115.215841\"/>\n     <use style=\"fill:#474747;stroke:#474747;stroke-linejoin:miter;\" x=\"461.120313\" xlink:href=\"#m460c345d41\" y=\"161.509496\"/>\n     <use style=\"fill:#474747;stroke:#474747;stroke-linejoin:miter;\" x=\"461.120313\" xlink:href=\"#m460c345d41\" y=\"148.738832\"/>\n     <use style=\"fill:#474747;stroke:#474747;stroke-linejoin:miter;\" x=\"461.120313\" xlink:href=\"#m460c345d41\" y=\"148.738832\"/>\n     <use style=\"fill:#474747;stroke:#474747;stroke-linejoin:miter;\" x=\"461.120313\" xlink:href=\"#m460c345d41\" y=\"147.142499\"/>\n     <use style=\"fill:#474747;stroke:#474747;stroke-linejoin:miter;\" x=\"461.120313\" xlink:href=\"#m460c345d41\" y=\"142.3535\"/>\n     <use style=\"fill:#474747;stroke:#474747;stroke-linejoin:miter;\" x=\"461.120313\" xlink:href=\"#m460c345d41\" y=\"142.3535\"/>\n     <use style=\"fill:#474747;stroke:#474747;stroke-linejoin:miter;\" x=\"461.120313\" xlink:href=\"#m460c345d41\" y=\"153.527831\"/>\n     <use style=\"fill:#474747;stroke:#474747;stroke-linejoin:miter;\" x=\"461.120313\" xlink:href=\"#m460c345d41\" y=\"153.527831\"/>\n     <use style=\"fill:#474747;stroke:#474747;stroke-linejoin:miter;\" x=\"461.120313\" xlink:href=\"#m460c345d41\" y=\"163.105829\"/>\n     <use style=\"fill:#474747;stroke:#474747;stroke-linejoin:miter;\" x=\"461.120313\" xlink:href=\"#m460c345d41\" y=\"124.793838\"/>\n    </g>\n   </g>\n   <g id=\"line2d_50\">\n    <path clip-path=\"url(#p0cacd2b75e)\" d=\"M 537.211222 217.508677 \nL 537.211222 225.885872 \n\" style=\"fill:none;stroke:#474747;stroke-linecap:square;stroke-width:1.5;\"/>\n   </g>\n   <g id=\"line2d_51\">\n    <path clip-path=\"url(#p0cacd2b75e)\" d=\"M 537.211222 196.565691 \nL 537.211222 165.151212 \n\" style=\"fill:none;stroke:#474747;stroke-linecap:square;stroke-width:1.5;\"/>\n   </g>\n   <g id=\"line2d_52\">\n    <path clip-path=\"url(#p0cacd2b75e)\" d=\"M 521.99304 225.885872 \nL 552.429403 225.885872 \n\" style=\"fill:none;stroke:#474747;stroke-linecap:square;stroke-width:1.5;\"/>\n   </g>\n   <g id=\"line2d_53\">\n    <path clip-path=\"url(#p0cacd2b75e)\" d=\"M 521.99304 165.151212 \nL 552.429403 165.151212 \n\" style=\"fill:none;stroke:#474747;stroke-linecap:square;stroke-width:1.5;\"/>\n   </g>\n   <g id=\"line2d_54\">\n    <g clip-path=\"url(#p0cacd2b75e)\">\n     <use style=\"fill:#474747;stroke:#474747;stroke-linejoin:miter;\" x=\"537.211222\" xlink:href=\"#m460c345d41\" y=\"153.108995\"/>\n     <use style=\"fill:#474747;stroke:#474747;stroke-linejoin:miter;\" x=\"537.211222\" xlink:href=\"#m460c345d41\" y=\"151.538271\"/>\n     <use style=\"fill:#474747;stroke:#474747;stroke-linejoin:miter;\" x=\"537.211222\" xlink:href=\"#m460c345d41\" y=\"157.821167\"/>\n     <use style=\"fill:#474747;stroke:#474747;stroke-linejoin:miter;\" x=\"537.211222\" xlink:href=\"#m460c345d41\" y=\"163.580488\"/>\n     <use style=\"fill:#474747;stroke:#474747;stroke-linejoin:miter;\" x=\"537.211222\" xlink:href=\"#m460c345d41\" y=\"155.726869\"/>\n     <use style=\"fill:#474747;stroke:#474747;stroke-linejoin:miter;\" x=\"537.211222\" xlink:href=\"#m460c345d41\" y=\"157.821167\"/>\n     <use style=\"fill:#474747;stroke:#474747;stroke-linejoin:miter;\" x=\"537.211222\" xlink:href=\"#m460c345d41\" y=\"159.391891\"/>\n     <use style=\"fill:#474747;stroke:#474747;stroke-linejoin:miter;\" x=\"537.211222\" xlink:href=\"#m460c345d41\" y=\"148.920398\"/>\n     <use style=\"fill:#474747;stroke:#474747;stroke-linejoin:miter;\" x=\"537.211222\" xlink:href=\"#m460c345d41\" y=\"158.868316\"/>\n     <use style=\"fill:#474747;stroke:#474747;stroke-linejoin:miter;\" x=\"537.211222\" xlink:href=\"#m460c345d41\" y=\"155.203294\"/>\n     <use style=\"fill:#474747;stroke:#474747;stroke-linejoin:miter;\" x=\"537.211222\" xlink:href=\"#m460c345d41\" y=\"161.48619\"/>\n     <use style=\"fill:#474747;stroke:#474747;stroke-linejoin:miter;\" x=\"537.211222\" xlink:href=\"#m460c345d41\" y=\"162.009764\"/>\n     <use style=\"fill:#474747;stroke:#474747;stroke-linejoin:miter;\" x=\"537.211222\" xlink:href=\"#m460c345d41\" y=\"161.48619\"/>\n     <use style=\"fill:#474747;stroke:#474747;stroke-linejoin:miter;\" x=\"537.211222\" xlink:href=\"#m460c345d41\" y=\"162.009764\"/>\n     <use style=\"fill:#474747;stroke:#474747;stroke-linejoin:miter;\" x=\"537.211222\" xlink:href=\"#m460c345d41\" y=\"154.156145\"/>\n     <use style=\"fill:#474747;stroke:#474747;stroke-linejoin:miter;\" x=\"537.211222\" xlink:href=\"#m460c345d41\" y=\"153.63257\"/>\n     <use style=\"fill:#474747;stroke:#474747;stroke-linejoin:miter;\" x=\"537.211222\" xlink:href=\"#m460c345d41\" y=\"162.533339\"/>\n     <use style=\"fill:#474747;stroke:#474747;stroke-linejoin:miter;\" x=\"537.211222\" xlink:href=\"#m460c345d41\" y=\"163.056914\"/>\n     <use style=\"fill:#474747;stroke:#474747;stroke-linejoin:miter;\" x=\"537.211222\" xlink:href=\"#m460c345d41\" y=\"153.108995\"/>\n     <use style=\"fill:#474747;stroke:#474747;stroke-linejoin:miter;\" x=\"537.211222\" xlink:href=\"#m460c345d41\" y=\"153.63257\"/>\n     <use style=\"fill:#474747;stroke:#474747;stroke-linejoin:miter;\" x=\"537.211222\" xlink:href=\"#m460c345d41\" y=\"158.344742\"/>\n     <use style=\"fill:#474747;stroke:#474747;stroke-linejoin:miter;\" x=\"537.211222\" xlink:href=\"#m460c345d41\" y=\"142.637502\"/>\n     <use style=\"fill:#474747;stroke:#474747;stroke-linejoin:miter;\" x=\"537.211222\" xlink:href=\"#m460c345d41\" y=\"164.104063\"/>\n     <use style=\"fill:#474747;stroke:#474747;stroke-linejoin:miter;\" x=\"537.211222\" xlink:href=\"#m460c345d41\" y=\"164.104063\"/>\n     <use style=\"fill:#474747;stroke:#474747;stroke-linejoin:miter;\" x=\"537.211222\" xlink:href=\"#m460c345d41\" y=\"158.868316\"/>\n     <use style=\"fill:#474747;stroke:#474747;stroke-linejoin:miter;\" x=\"537.211222\" xlink:href=\"#m460c345d41\" y=\"164.104063\"/>\n     <use style=\"fill:#474747;stroke:#474747;stroke-linejoin:miter;\" x=\"537.211222\" xlink:href=\"#m460c345d41\" y=\"161.48619\"/>\n     <use style=\"fill:#474747;stroke:#474747;stroke-linejoin:miter;\" x=\"537.211222\" xlink:href=\"#m460c345d41\" y=\"149.967547\"/>\n     <use style=\"fill:#474747;stroke:#474747;stroke-linejoin:miter;\" x=\"537.211222\" xlink:href=\"#m460c345d41\" y=\"159.391891\"/>\n     <use style=\"fill:#474747;stroke:#474747;stroke-linejoin:miter;\" x=\"537.211222\" xlink:href=\"#m460c345d41\" y=\"154.679719\"/>\n     <use style=\"fill:#474747;stroke:#474747;stroke-linejoin:miter;\" x=\"537.211222\" xlink:href=\"#m460c345d41\" y=\"151.014697\"/>\n     <use style=\"fill:#474747;stroke:#474747;stroke-linejoin:miter;\" x=\"537.211222\" xlink:href=\"#m460c345d41\" y=\"152.061846\"/>\n     <use style=\"fill:#474747;stroke:#474747;stroke-linejoin:miter;\" x=\"537.211222\" xlink:href=\"#m460c345d41\" y=\"153.108995\"/>\n     <use style=\"fill:#474747;stroke:#474747;stroke-linejoin:miter;\" x=\"537.211222\" xlink:href=\"#m460c345d41\" y=\"151.538271\"/>\n     <use style=\"fill:#474747;stroke:#474747;stroke-linejoin:miter;\" x=\"537.211222\" xlink:href=\"#m460c345d41\" y=\"147.873249\"/>\n     <use style=\"fill:#474747;stroke:#474747;stroke-linejoin:miter;\" x=\"537.211222\" xlink:href=\"#m460c345d41\" y=\"149.967547\"/>\n     <use style=\"fill:#474747;stroke:#474747;stroke-linejoin:miter;\" x=\"537.211222\" xlink:href=\"#m460c345d41\" y=\"149.443973\"/>\n     <use style=\"fill:#474747;stroke:#474747;stroke-linejoin:miter;\" x=\"537.211222\" xlink:href=\"#m460c345d41\" y=\"163.580488\"/>\n     <use style=\"fill:#474747;stroke:#474747;stroke-linejoin:miter;\" x=\"537.211222\" xlink:href=\"#m460c345d41\" y=\"162.533339\"/>\n     <use style=\"fill:#474747;stroke:#474747;stroke-linejoin:miter;\" x=\"537.211222\" xlink:href=\"#m460c345d41\" y=\"156.250443\"/>\n     <use style=\"fill:#474747;stroke:#474747;stroke-linejoin:miter;\" x=\"537.211222\" xlink:href=\"#m460c345d41\" y=\"154.156145\"/>\n     <use style=\"fill:#474747;stroke:#474747;stroke-linejoin:miter;\" x=\"537.211222\" xlink:href=\"#m460c345d41\" y=\"153.63257\"/>\n     <use style=\"fill:#474747;stroke:#474747;stroke-linejoin:miter;\" x=\"537.211222\" xlink:href=\"#m460c345d41\" y=\"160.962615\"/>\n     <use style=\"fill:#474747;stroke:#474747;stroke-linejoin:miter;\" x=\"537.211222\" xlink:href=\"#m460c345d41\" y=\"158.344742\"/>\n     <use style=\"fill:#474747;stroke:#474747;stroke-linejoin:miter;\" x=\"537.211222\" xlink:href=\"#m460c345d41\" y=\"145.255375\"/>\n     <use style=\"fill:#474747;stroke:#474747;stroke-linejoin:miter;\" x=\"537.211222\" xlink:href=\"#m460c345d41\" y=\"155.203294\"/>\n     <use style=\"fill:#474747;stroke:#474747;stroke-linejoin:miter;\" x=\"537.211222\" xlink:href=\"#m460c345d41\" y=\"155.203294\"/>\n     <use style=\"fill:#474747;stroke:#474747;stroke-linejoin:miter;\" x=\"537.211222\" xlink:href=\"#m460c345d41\" y=\"159.391891\"/>\n     <use style=\"fill:#474747;stroke:#474747;stroke-linejoin:miter;\" x=\"537.211222\" xlink:href=\"#m460c345d41\" y=\"152.061846\"/>\n     <use style=\"fill:#474747;stroke:#474747;stroke-linejoin:miter;\" x=\"537.211222\" xlink:href=\"#m460c345d41\" y=\"152.061846\"/>\n     <use style=\"fill:#474747;stroke:#474747;stroke-linejoin:miter;\" x=\"537.211222\" xlink:href=\"#m460c345d41\" y=\"160.43904\"/>\n     <use style=\"fill:#474747;stroke:#474747;stroke-linejoin:miter;\" x=\"537.211222\" xlink:href=\"#m460c345d41\" y=\"160.43904\"/>\n     <use style=\"fill:#474747;stroke:#474747;stroke-linejoin:miter;\" x=\"537.211222\" xlink:href=\"#m460c345d41\" y=\"160.43904\"/>\n    </g>\n   </g>\n   <g id=\"line2d_55\">\n    <path clip-path=\"url(#p0cacd2b75e)\" d=\"M 613.302131 215.03394 \nL 613.302131 243.775816 \n\" style=\"fill:none;stroke:#474747;stroke-linecap:square;stroke-width:1.5;\"/>\n   </g>\n   <g id=\"line2d_56\">\n    <path clip-path=\"url(#p0cacd2b75e)\" d=\"M 613.302131 195.224156 \nL 613.302131 167.27821 \n\" style=\"fill:none;stroke:#474747;stroke-linecap:square;stroke-width:1.5;\"/>\n   </g>\n   <g id=\"line2d_57\">\n    <path clip-path=\"url(#p0cacd2b75e)\" d=\"M 598.083949 243.775816 \nL 628.520313 243.775816 \n\" style=\"fill:none;stroke:#474747;stroke-linecap:square;stroke-width:1.5;\"/>\n   </g>\n   <g id=\"line2d_58\">\n    <path clip-path=\"url(#p0cacd2b75e)\" d=\"M 598.083949 167.27821 \nL 628.520313 167.27821 \n\" style=\"fill:none;stroke:#474747;stroke-linecap:square;stroke-width:1.5;\"/>\n   </g>\n   <g id=\"line2d_59\">\n    <g clip-path=\"url(#p0cacd2b75e)\">\n     <use style=\"fill:#474747;stroke:#474747;stroke-linejoin:miter;\" x=\"613.302131\" xlink:href=\"#m460c345d41\" y=\"250.408556\"/>\n     <use style=\"fill:#474747;stroke:#474747;stroke-linejoin:miter;\" x=\"613.302131\" xlink:href=\"#m460c345d41\" y=\"250.408556\"/>\n     <use style=\"fill:#474747;stroke:#474747;stroke-linejoin:miter;\" x=\"613.302131\" xlink:href=\"#m460c345d41\" y=\"253.946018\"/>\n     <use style=\"fill:#474747;stroke:#474747;stroke-linejoin:miter;\" x=\"613.302131\" xlink:href=\"#m460c345d41\" y=\"249.524191\"/>\n     <use style=\"fill:#474747;stroke:#474747;stroke-linejoin:miter;\" x=\"613.302131\" xlink:href=\"#m460c345d41\" y=\"245.102364\"/>\n     <use style=\"fill:#474747;stroke:#474747;stroke-linejoin:miter;\" x=\"613.302131\" xlink:href=\"#m460c345d41\" y=\"245.986729\"/>\n     <use style=\"fill:#474747;stroke:#474747;stroke-linejoin:miter;\" x=\"613.302131\" xlink:href=\"#m460c345d41\" y=\"250.939175\"/>\n     <use style=\"fill:#474747;stroke:#474747;stroke-linejoin:miter;\" x=\"613.302131\" xlink:href=\"#m460c345d41\" y=\"258.898464\"/>\n     <use style=\"fill:#474747;stroke:#474747;stroke-linejoin:miter;\" x=\"613.302131\" xlink:href=\"#m460c345d41\" y=\"258.898464\"/>\n     <use style=\"fill:#474747;stroke:#474747;stroke-linejoin:miter;\" x=\"613.302131\" xlink:href=\"#m460c345d41\" y=\"250.231683\"/>\n     <use style=\"fill:#474747;stroke:#474747;stroke-linejoin:miter;\" x=\"613.302131\" xlink:href=\"#m460c345d41\" y=\"263.939346\"/>\n     <use style=\"fill:#474747;stroke:#474747;stroke-linejoin:miter;\" x=\"613.302131\" xlink:href=\"#m460c345d41\" y=\"263.939346\"/>\n     <use style=\"fill:#474747;stroke:#474747;stroke-linejoin:miter;\" x=\"613.302131\" xlink:href=\"#m460c345d41\" y=\"262.789671\"/>\n     <use style=\"fill:#474747;stroke:#474747;stroke-linejoin:miter;\" x=\"613.302131\" xlink:href=\"#m460c345d41\" y=\"245.102364\"/>\n     <use style=\"fill:#474747;stroke:#474747;stroke-linejoin:miter;\" x=\"613.302131\" xlink:href=\"#m460c345d41\" y=\"251.292921\"/>\n     <use style=\"fill:#474747;stroke:#474747;stroke-linejoin:miter;\" x=\"613.302131\" xlink:href=\"#m460c345d41\" y=\"250.673866\"/>\n     <use style=\"fill:#474747;stroke:#474747;stroke-linejoin:miter;\" x=\"613.302131\" xlink:href=\"#m460c345d41\" y=\"257.483479\"/>\n     <use style=\"fill:#474747;stroke:#474747;stroke-linejoin:miter;\" x=\"613.302131\" xlink:href=\"#m460c345d41\" y=\"257.129733\"/>\n     <use style=\"fill:#474747;stroke:#474747;stroke-linejoin:miter;\" x=\"613.302131\" xlink:href=\"#m460c345d41\" y=\"247.667023\"/>\n     <use style=\"fill:#474747;stroke:#474747;stroke-linejoin:miter;\" x=\"613.302131\" xlink:href=\"#m460c345d41\" y=\"248.462952\"/>\n     <use style=\"fill:#474747;stroke:#474747;stroke-linejoin:miter;\" x=\"613.302131\" xlink:href=\"#m460c345d41\" y=\"248.462952\"/>\n     <use style=\"fill:#474747;stroke:#474747;stroke-linejoin:miter;\" x=\"613.302131\" xlink:href=\"#m460c345d41\" y=\"163.740748\"/>\n     <use style=\"fill:#474747;stroke:#474747;stroke-linejoin:miter;\" x=\"613.302131\" xlink:href=\"#m460c345d41\" y=\"162.856383\"/>\n     <use style=\"fill:#474747;stroke:#474747;stroke-linejoin:miter;\" x=\"613.302131\" xlink:href=\"#m460c345d41\" y=\"162.856383\"/>\n     <use style=\"fill:#474747;stroke:#474747;stroke-linejoin:miter;\" x=\"613.302131\" xlink:href=\"#m460c345d41\" y=\"160.203286\"/>\n     <use style=\"fill:#474747;stroke:#474747;stroke-linejoin:miter;\" x=\"613.302131\" xlink:href=\"#m460c345d41\" y=\"156.665825\"/>\n     <use style=\"fill:#474747;stroke:#474747;stroke-linejoin:miter;\" x=\"613.302131\" xlink:href=\"#m460c345d41\" y=\"156.665825\"/>\n     <use style=\"fill:#474747;stroke:#474747;stroke-linejoin:miter;\" x=\"613.302131\" xlink:href=\"#m460c345d41\" y=\"163.740748\"/>\n     <use style=\"fill:#474747;stroke:#474747;stroke-linejoin:miter;\" x=\"613.302131\" xlink:href=\"#m460c345d41\" y=\"163.740748\"/>\n     <use style=\"fill:#474747;stroke:#474747;stroke-linejoin:miter;\" x=\"613.302131\" xlink:href=\"#m460c345d41\" y=\"163.740748\"/>\n     <use style=\"fill:#474747;stroke:#474747;stroke-linejoin:miter;\" x=\"613.302131\" xlink:href=\"#m460c345d41\" y=\"163.740748\"/>\n     <use style=\"fill:#474747;stroke:#474747;stroke-linejoin:miter;\" x=\"613.302131\" xlink:href=\"#m460c345d41\" y=\"147.822171\"/>\n     <use style=\"fill:#474747;stroke:#474747;stroke-linejoin:miter;\" x=\"613.302131\" xlink:href=\"#m460c345d41\" y=\"153.128363\"/>\n     <use style=\"fill:#474747;stroke:#474747;stroke-linejoin:miter;\" x=\"613.302131\" xlink:href=\"#m460c345d41\" y=\"163.740748\"/>\n     <use style=\"fill:#474747;stroke:#474747;stroke-linejoin:miter;\" x=\"613.302131\" xlink:href=\"#m460c345d41\" y=\"148.264354\"/>\n     <use style=\"fill:#474747;stroke:#474747;stroke-linejoin:miter;\" x=\"613.302131\" xlink:href=\"#m460c345d41\" y=\"148.264354\"/>\n     <use style=\"fill:#474747;stroke:#474747;stroke-linejoin:miter;\" x=\"613.302131\" xlink:href=\"#m460c345d41\" y=\"148.264354\"/>\n     <use style=\"fill:#474747;stroke:#474747;stroke-linejoin:miter;\" x=\"613.302131\" xlink:href=\"#m460c345d41\" y=\"157.55019\"/>\n     <use style=\"fill:#474747;stroke:#474747;stroke-linejoin:miter;\" x=\"613.302131\" xlink:href=\"#m460c345d41\" y=\"157.55019\"/>\n     <use style=\"fill:#474747;stroke:#474747;stroke-linejoin:miter;\" x=\"613.302131\" xlink:href=\"#m460c345d41\" y=\"153.128363\"/>\n     <use style=\"fill:#474747;stroke:#474747;stroke-linejoin:miter;\" x=\"613.302131\" xlink:href=\"#m460c345d41\" y=\"150.563704\"/>\n     <use style=\"fill:#474747;stroke:#474747;stroke-linejoin:miter;\" x=\"613.302131\" xlink:href=\"#m460c345d41\" y=\"143.488781\"/>\n     <use style=\"fill:#474747;stroke:#474747;stroke-linejoin:miter;\" x=\"613.302131\" xlink:href=\"#m460c345d41\" y=\"143.488781\"/>\n     <use style=\"fill:#474747;stroke:#474747;stroke-linejoin:miter;\" x=\"613.302131\" xlink:href=\"#m460c345d41\" y=\"154.720221\"/>\n     <use style=\"fill:#474747;stroke:#474747;stroke-linejoin:miter;\" x=\"613.302131\" xlink:href=\"#m460c345d41\" y=\"154.720221\"/>\n    </g>\n   </g>\n   <g id=\"line2d_60\">\n    <path clip-path=\"url(#p0cacd2b75e)\" d=\"M 689.39304 215.826965 \nL 689.39304 246.10181 \n\" style=\"fill:none;stroke:#474747;stroke-linecap:square;stroke-width:1.5;\"/>\n   </g>\n   <g id=\"line2d_61\">\n    <path clip-path=\"url(#p0cacd2b75e)\" d=\"M 689.39304 195.28332 \nL 689.39304 165.008475 \n\" style=\"fill:none;stroke:#474747;stroke-linecap:square;stroke-width:1.5;\"/>\n   </g>\n   <g id=\"line2d_62\">\n    <path clip-path=\"url(#p0cacd2b75e)\" d=\"M 674.174858 246.10181 \nL 704.611222 246.10181 \n\" style=\"fill:none;stroke:#474747;stroke-linecap:square;stroke-width:1.5;\"/>\n   </g>\n   <g id=\"line2d_63\">\n    <path clip-path=\"url(#p0cacd2b75e)\" d=\"M 674.174858 165.008475 \nL 704.611222 165.008475 \n\" style=\"fill:none;stroke:#474747;stroke-linecap:square;stroke-width:1.5;\"/>\n   </g>\n   <g id=\"line2d_64\">\n    <g clip-path=\"url(#p0cacd2b75e)\">\n     <use style=\"fill:#474747;stroke:#474747;stroke-linejoin:miter;\" x=\"689.39304\" xlink:href=\"#m460c345d41\" y=\"266.645455\"/>\n     <use style=\"fill:#474747;stroke:#474747;stroke-linejoin:miter;\" x=\"689.39304\" xlink:href=\"#m460c345d41\" y=\"251.508032\"/>\n     <use style=\"fill:#474747;stroke:#474747;stroke-linejoin:miter;\" x=\"689.39304\" xlink:href=\"#m460c345d41\" y=\"253.670521\"/>\n     <use style=\"fill:#474747;stroke:#474747;stroke-linejoin:miter;\" x=\"689.39304\" xlink:href=\"#m460c345d41\" y=\"247.183054\"/>\n     <use style=\"fill:#474747;stroke:#474747;stroke-linejoin:miter;\" x=\"689.39304\" xlink:href=\"#m460c345d41\" y=\"247.183054\"/>\n     <use style=\"fill:#474747;stroke:#474747;stroke-linejoin:miter;\" x=\"689.39304\" xlink:href=\"#m460c345d41\" y=\"247.183054\"/>\n     <use style=\"fill:#474747;stroke:#474747;stroke-linejoin:miter;\" x=\"689.39304\" xlink:href=\"#m460c345d41\" y=\"252.589277\"/>\n     <use style=\"fill:#474747;stroke:#474747;stroke-linejoin:miter;\" x=\"689.39304\" xlink:href=\"#m460c345d41\" y=\"250.426788\"/>\n     <use style=\"fill:#474747;stroke:#474747;stroke-linejoin:miter;\" x=\"689.39304\" xlink:href=\"#m460c345d41\" y=\"250.426788\"/>\n     <use style=\"fill:#474747;stroke:#474747;stroke-linejoin:miter;\" x=\"689.39304\" xlink:href=\"#m460c345d41\" y=\"247.183054\"/>\n     <use style=\"fill:#474747;stroke:#474747;stroke-linejoin:miter;\" x=\"689.39304\" xlink:href=\"#m460c345d41\" y=\"250.426788\"/>\n     <use style=\"fill:#474747;stroke:#474747;stroke-linejoin:miter;\" x=\"689.39304\" xlink:href=\"#m460c345d41\" y=\"250.426788\"/>\n     <use style=\"fill:#474747;stroke:#474747;stroke-linejoin:miter;\" x=\"689.39304\" xlink:href=\"#m460c345d41\" y=\"249.345543\"/>\n     <use style=\"fill:#474747;stroke:#474747;stroke-linejoin:miter;\" x=\"689.39304\" xlink:href=\"#m460c345d41\" y=\"251.508032\"/>\n     <use style=\"fill:#474747;stroke:#474747;stroke-linejoin:miter;\" x=\"689.39304\" xlink:href=\"#m460c345d41\" y=\"141.221097\"/>\n     <use style=\"fill:#474747;stroke:#474747;stroke-linejoin:miter;\" x=\"689.39304\" xlink:href=\"#m460c345d41\" y=\"157.439764\"/>\n     <use style=\"fill:#474747;stroke:#474747;stroke-linejoin:miter;\" x=\"689.39304\" xlink:href=\"#m460c345d41\" y=\"146.627319\"/>\n     <use style=\"fill:#474747;stroke:#474747;stroke-linejoin:miter;\" x=\"689.39304\" xlink:href=\"#m460c345d41\" y=\"163.927231\"/>\n     <use style=\"fill:#474747;stroke:#474747;stroke-linejoin:miter;\" x=\"689.39304\" xlink:href=\"#m460c345d41\" y=\"163.927231\"/>\n     <use style=\"fill:#474747;stroke:#474747;stroke-linejoin:miter;\" x=\"689.39304\" xlink:href=\"#m460c345d41\" y=\"158.521009\"/>\n     <use style=\"fill:#474747;stroke:#474747;stroke-linejoin:miter;\" x=\"689.39304\" xlink:href=\"#m460c345d41\" y=\"160.683497\"/>\n     <use style=\"fill:#474747;stroke:#474747;stroke-linejoin:miter;\" x=\"689.39304\" xlink:href=\"#m460c345d41\" y=\"141.221097\"/>\n     <use style=\"fill:#474747;stroke:#474747;stroke-linejoin:miter;\" x=\"689.39304\" xlink:href=\"#m460c345d41\" y=\"161.764742\"/>\n     <use style=\"fill:#474747;stroke:#474747;stroke-linejoin:miter;\" x=\"689.39304\" xlink:href=\"#m460c345d41\" y=\"163.927231\"/>\n     <use style=\"fill:#474747;stroke:#474747;stroke-linejoin:miter;\" x=\"689.39304\" xlink:href=\"#m460c345d41\" y=\"163.927231\"/>\n     <use style=\"fill:#474747;stroke:#474747;stroke-linejoin:miter;\" x=\"689.39304\" xlink:href=\"#m460c345d41\" y=\"161.764742\"/>\n     <use style=\"fill:#474747;stroke:#474747;stroke-linejoin:miter;\" x=\"689.39304\" xlink:href=\"#m460c345d41\" y=\"161.764742\"/>\n     <use style=\"fill:#474747;stroke:#474747;stroke-linejoin:miter;\" x=\"689.39304\" xlink:href=\"#m460c345d41\" y=\"154.196031\"/>\n     <use style=\"fill:#474747;stroke:#474747;stroke-linejoin:miter;\" x=\"689.39304\" xlink:href=\"#m460c345d41\" y=\"162.845986\"/>\n     <use style=\"fill:#474747;stroke:#474747;stroke-linejoin:miter;\" x=\"689.39304\" xlink:href=\"#m460c345d41\" y=\"154.196031\"/>\n     <use style=\"fill:#474747;stroke:#474747;stroke-linejoin:miter;\" x=\"689.39304\" xlink:href=\"#m460c345d41\" y=\"129.327408\"/>\n     <use style=\"fill:#474747;stroke:#474747;stroke-linejoin:miter;\" x=\"689.39304\" xlink:href=\"#m460c345d41\" y=\"129.327408\"/>\n     <use style=\"fill:#474747;stroke:#474747;stroke-linejoin:miter;\" x=\"689.39304\" xlink:href=\"#m460c345d41\" y=\"161.764742\"/>\n     <use style=\"fill:#474747;stroke:#474747;stroke-linejoin:miter;\" x=\"689.39304\" xlink:href=\"#m460c345d41\" y=\"160.683497\"/>\n     <use style=\"fill:#474747;stroke:#474747;stroke-linejoin:miter;\" x=\"689.39304\" xlink:href=\"#m460c345d41\" y=\"160.683497\"/>\n    </g>\n   </g>\n   <g id=\"line2d_65\">\n    <path clip-path=\"url(#p0cacd2b75e)\" d=\"M 765.483949 215.50173 \nL 765.483949 237.125856 \n\" style=\"fill:none;stroke:#474747;stroke-linecap:square;stroke-width:1.5;\"/>\n   </g>\n   <g id=\"line2d_66\">\n    <path clip-path=\"url(#p0cacd2b75e)\" d=\"M 765.483949 197.809263 \nL 765.483949 172.253477 \n\" style=\"fill:none;stroke:#474747;stroke-linecap:square;stroke-width:1.5;\"/>\n   </g>\n   <g id=\"line2d_67\">\n    <path clip-path=\"url(#p0cacd2b75e)\" d=\"M 750.265767 237.125856 \nL 780.702131 237.125856 \n\" style=\"fill:none;stroke:#474747;stroke-linecap:square;stroke-width:1.5;\"/>\n   </g>\n   <g id=\"line2d_68\">\n    <path clip-path=\"url(#p0cacd2b75e)\" d=\"M 750.265767 172.253477 \nL 780.702131 172.253477 \n\" style=\"fill:none;stroke:#474747;stroke-linecap:square;stroke-width:1.5;\"/>\n   </g>\n   <g id=\"line2d_69\">\n    <g clip-path=\"url(#p0cacd2b75e)\">\n     <use style=\"fill:#474747;stroke:#474747;stroke-linejoin:miter;\" x=\"765.483949\" xlink:href=\"#m460c345d41\" y=\"116.22733\"/>\n     <use style=\"fill:#474747;stroke:#474747;stroke-linejoin:miter;\" x=\"765.483949\" xlink:href=\"#m460c345d41\" y=\"143.748946\"/>\n     <use style=\"fill:#474747;stroke:#474747;stroke-linejoin:miter;\" x=\"765.483949\" xlink:href=\"#m460c345d41\" y=\"163.407243\"/>\n     <use style=\"fill:#474747;stroke:#474747;stroke-linejoin:miter;\" x=\"765.483949\" xlink:href=\"#m460c345d41\" y=\"151.612265\"/>\n     <use style=\"fill:#474747;stroke:#474747;stroke-linejoin:miter;\" x=\"765.483949\" xlink:href=\"#m460c345d41\" y=\"159.475584\"/>\n     <use style=\"fill:#474747;stroke:#474747;stroke-linejoin:miter;\" x=\"765.483949\" xlink:href=\"#m460c345d41\" y=\"143.748946\"/>\n     <use style=\"fill:#474747;stroke:#474747;stroke-linejoin:miter;\" x=\"765.483949\" xlink:href=\"#m460c345d41\" y=\"157.509754\"/>\n     <use style=\"fill:#474747;stroke:#474747;stroke-linejoin:miter;\" x=\"765.483949\" xlink:href=\"#m460c345d41\" y=\"77.893651\"/>\n     <use style=\"fill:#474747;stroke:#474747;stroke-linejoin:miter;\" x=\"765.483949\" xlink:href=\"#m460c345d41\" y=\"149.646435\"/>\n     <use style=\"fill:#474747;stroke:#474747;stroke-linejoin:miter;\" x=\"765.483949\" xlink:href=\"#m460c345d41\" y=\"77.893651\"/>\n     <use style=\"fill:#474747;stroke:#474747;stroke-linejoin:miter;\" x=\"765.483949\" xlink:href=\"#m460c345d41\" y=\"74.944907\"/>\n     <use style=\"fill:#474747;stroke:#474747;stroke-linejoin:miter;\" x=\"765.483949\" xlink:href=\"#m460c345d41\" y=\"140.800202\"/>\n     <use style=\"fill:#474747;stroke:#474747;stroke-linejoin:miter;\" x=\"765.483949\" xlink:href=\"#m460c345d41\" y=\"72.979077\"/>\n     <use style=\"fill:#474747;stroke:#474747;stroke-linejoin:miter;\" x=\"765.483949\" xlink:href=\"#m460c345d41\" y=\"163.407243\"/>\n     <use style=\"fill:#474747;stroke:#474747;stroke-linejoin:miter;\" x=\"765.483949\" xlink:href=\"#m460c345d41\" y=\"113.278586\"/>\n     <use style=\"fill:#474747;stroke:#474747;stroke-linejoin:miter;\" x=\"765.483949\" xlink:href=\"#m460c345d41\" y=\"169.304732\"/>\n     <use style=\"fill:#474747;stroke:#474747;stroke-linejoin:miter;\" x=\"765.483949\" xlink:href=\"#m460c345d41\" y=\"168.321817\"/>\n     <use style=\"fill:#474747;stroke:#474747;stroke-linejoin:miter;\" x=\"765.483949\" xlink:href=\"#m460c345d41\" y=\"111.312756\"/>\n     <use style=\"fill:#474747;stroke:#474747;stroke-linejoin:miter;\" x=\"765.483949\" xlink:href=\"#m460c345d41\" y=\"162.424328\"/>\n     <use style=\"fill:#474747;stroke:#474747;stroke-linejoin:miter;\" x=\"765.483949\" xlink:href=\"#m460c345d41\" y=\"145.714776\"/>\n     <use style=\"fill:#474747;stroke:#474747;stroke-linejoin:miter;\" x=\"765.483949\" xlink:href=\"#m460c345d41\" y=\"163.407243\"/>\n     <use style=\"fill:#474747;stroke:#474747;stroke-linejoin:miter;\" x=\"765.483949\" xlink:href=\"#m460c345d41\" y=\"171.270562\"/>\n     <use style=\"fill:#474747;stroke:#474747;stroke-linejoin:miter;\" x=\"765.483949\" xlink:href=\"#m460c345d41\" y=\"135.885627\"/>\n     <use style=\"fill:#474747;stroke:#474747;stroke-linejoin:miter;\" x=\"765.483949\" xlink:href=\"#m460c345d41\" y=\"153.578095\"/>\n     <use style=\"fill:#474747;stroke:#474747;stroke-linejoin:miter;\" x=\"765.483949\" xlink:href=\"#m460c345d41\" y=\"158.492669\"/>\n     <use style=\"fill:#474747;stroke:#474747;stroke-linejoin:miter;\" x=\"765.483949\" xlink:href=\"#m460c345d41\" y=\"167.338902\"/>\n     <use style=\"fill:#474747;stroke:#474747;stroke-linejoin:miter;\" x=\"765.483949\" xlink:href=\"#m460c345d41\" y=\"160.458498\"/>\n     <use style=\"fill:#474747;stroke:#474747;stroke-linejoin:miter;\" x=\"765.483949\" xlink:href=\"#m460c345d41\" y=\"158.492669\"/>\n     <use style=\"fill:#474747;stroke:#474747;stroke-linejoin:miter;\" x=\"765.483949\" xlink:href=\"#m460c345d41\" y=\"164.390158\"/>\n     <use style=\"fill:#474747;stroke:#474747;stroke-linejoin:miter;\" x=\"765.483949\" xlink:href=\"#m460c345d41\" y=\"165.373073\"/>\n     <use style=\"fill:#474747;stroke:#474747;stroke-linejoin:miter;\" x=\"765.483949\" xlink:href=\"#m460c345d41\" y=\"165.373073\"/>\n     <use style=\"fill:#474747;stroke:#474747;stroke-linejoin:miter;\" x=\"765.483949\" xlink:href=\"#m460c345d41\" y=\"166.355988\"/>\n     <use style=\"fill:#474747;stroke:#474747;stroke-linejoin:miter;\" x=\"765.483949\" xlink:href=\"#m460c345d41\" y=\"165.373073\"/>\n     <use style=\"fill:#474747;stroke:#474747;stroke-linejoin:miter;\" x=\"765.483949\" xlink:href=\"#m460c345d41\" y=\"167.338902\"/>\n     <use style=\"fill:#474747;stroke:#474747;stroke-linejoin:miter;\" x=\"765.483949\" xlink:href=\"#m460c345d41\" y=\"166.355988\"/>\n     <use style=\"fill:#474747;stroke:#474747;stroke-linejoin:miter;\" x=\"765.483949\" xlink:href=\"#m460c345d41\" y=\"169.304732\"/>\n     <use style=\"fill:#474747;stroke:#474747;stroke-linejoin:miter;\" x=\"765.483949\" xlink:href=\"#m460c345d41\" y=\"157.509754\"/>\n     <use style=\"fill:#474747;stroke:#474747;stroke-linejoin:miter;\" x=\"765.483949\" xlink:href=\"#m460c345d41\" y=\"169.304732\"/>\n     <use style=\"fill:#474747;stroke:#474747;stroke-linejoin:miter;\" x=\"765.483949\" xlink:href=\"#m460c345d41\" y=\"135.885627\"/>\n     <use style=\"fill:#474747;stroke:#474747;stroke-linejoin:miter;\" x=\"765.483949\" xlink:href=\"#m460c345d41\" y=\"135.885627\"/>\n     <use style=\"fill:#474747;stroke:#474747;stroke-linejoin:miter;\" x=\"765.483949\" xlink:href=\"#m460c345d41\" y=\"166.355988\"/>\n     <use style=\"fill:#474747;stroke:#474747;stroke-linejoin:miter;\" x=\"765.483949\" xlink:href=\"#m460c345d41\" y=\"154.561009\"/>\n     <use style=\"fill:#474747;stroke:#474747;stroke-linejoin:miter;\" x=\"765.483949\" xlink:href=\"#m460c345d41\" y=\"110.329841\"/>\n     <use style=\"fill:#474747;stroke:#474747;stroke-linejoin:miter;\" x=\"765.483949\" xlink:href=\"#m460c345d41\" y=\"165.373073\"/>\n     <use style=\"fill:#474747;stroke:#474747;stroke-linejoin:miter;\" x=\"765.483949\" xlink:href=\"#m460c345d41\" y=\"153.578095\"/>\n     <use style=\"fill:#474747;stroke:#474747;stroke-linejoin:miter;\" x=\"765.483949\" xlink:href=\"#m460c345d41\" y=\"164.390158\"/>\n     <use style=\"fill:#474747;stroke:#474747;stroke-linejoin:miter;\" x=\"765.483949\" xlink:href=\"#m460c345d41\" y=\"137.851457\"/>\n     <use style=\"fill:#474747;stroke:#474747;stroke-linejoin:miter;\" x=\"765.483949\" xlink:href=\"#m460c345d41\" y=\"155.543924\"/>\n     <use style=\"fill:#474747;stroke:#474747;stroke-linejoin:miter;\" x=\"765.483949\" xlink:href=\"#m460c345d41\" y=\"161.441413\"/>\n     <use style=\"fill:#474747;stroke:#474747;stroke-linejoin:miter;\" x=\"765.483949\" xlink:href=\"#m460c345d41\" y=\"156.526839\"/>\n     <use style=\"fill:#474747;stroke:#474747;stroke-linejoin:miter;\" x=\"765.483949\" xlink:href=\"#m460c345d41\" y=\"154.561009\"/>\n     <use style=\"fill:#474747;stroke:#474747;stroke-linejoin:miter;\" x=\"765.483949\" xlink:href=\"#m460c345d41\" y=\"154.561009\"/>\n     <use style=\"fill:#474747;stroke:#474747;stroke-linejoin:miter;\" x=\"765.483949\" xlink:href=\"#m460c345d41\" y=\"138.834372\"/>\n     <use style=\"fill:#474747;stroke:#474747;stroke-linejoin:miter;\" x=\"765.483949\" xlink:href=\"#m460c345d41\" y=\"153.578095\"/>\n     <use style=\"fill:#474747;stroke:#474747;stroke-linejoin:miter;\" x=\"765.483949\" xlink:href=\"#m460c345d41\" y=\"154.561009\"/>\n     <use style=\"fill:#474747;stroke:#474747;stroke-linejoin:miter;\" x=\"765.483949\" xlink:href=\"#m460c345d41\" y=\"168.321817\"/>\n     <use style=\"fill:#474747;stroke:#474747;stroke-linejoin:miter;\" x=\"765.483949\" xlink:href=\"#m460c345d41\" y=\"154.561009\"/>\n     <use style=\"fill:#474747;stroke:#474747;stroke-linejoin:miter;\" x=\"765.483949\" xlink:href=\"#m460c345d41\" y=\"161.441413\"/>\n     <use style=\"fill:#474747;stroke:#474747;stroke-linejoin:miter;\" x=\"765.483949\" xlink:href=\"#m460c345d41\" y=\"170.287647\"/>\n    </g>\n   </g>\n   <g id=\"line2d_70\">\n    <path clip-path=\"url(#p0cacd2b75e)\" d=\"M 841.574858 219.268092 \nL 841.574858 236.491231 \n\" style=\"fill:none;stroke:#474747;stroke-linecap:square;stroke-width:1.5;\"/>\n   </g>\n   <g id=\"line2d_71\">\n    <path clip-path=\"url(#p0cacd2b75e)\" d=\"M 841.574858 194.216254 \nL 841.574858 158.204238 \n\" style=\"fill:none;stroke:#474747;stroke-linecap:square;stroke-width:1.5;\"/>\n   </g>\n   <g id=\"line2d_72\">\n    <path clip-path=\"url(#p0cacd2b75e)\" d=\"M 826.356676 236.491231 \nL 856.79304 236.491231 \n\" style=\"fill:none;stroke:#474747;stroke-linecap:square;stroke-width:1.5;\"/>\n   </g>\n   <g id=\"line2d_73\">\n    <path clip-path=\"url(#p0cacd2b75e)\" d=\"M 826.356676 158.204238 \nL 856.79304 158.204238 \n\" style=\"fill:none;stroke:#474747;stroke-linecap:square;stroke-width:1.5;\"/>\n   </g>\n   <g id=\"line2d_74\">\n    <g clip-path=\"url(#p0cacd2b75e)\">\n     <use style=\"fill:#474747;stroke:#474747;stroke-linejoin:miter;\" x=\"841.574858\" xlink:href=\"#m460c345d41\" y=\"148.809798\"/>\n     <use style=\"fill:#474747;stroke:#474747;stroke-linejoin:miter;\" x=\"841.574858\" xlink:href=\"#m460c345d41\" y=\"148.809798\"/>\n     <use style=\"fill:#474747;stroke:#474747;stroke-linejoin:miter;\" x=\"841.574858\" xlink:href=\"#m460c345d41\" y=\"148.809798\"/>\n     <use style=\"fill:#474747;stroke:#474747;stroke-linejoin:miter;\" x=\"841.574858\" xlink:href=\"#m460c345d41\" y=\"148.809798\"/>\n     <use style=\"fill:#474747;stroke:#474747;stroke-linejoin:miter;\" x=\"841.574858\" xlink:href=\"#m460c345d41\" y=\"134.71814\"/>\n     <use style=\"fill:#474747;stroke:#474747;stroke-linejoin:miter;\" x=\"841.574858\" xlink:href=\"#m460c345d41\" y=\"148.809798\"/>\n     <use style=\"fill:#474747;stroke:#474747;stroke-linejoin:miter;\" x=\"841.574858\" xlink:href=\"#m460c345d41\" y=\"155.072758\"/>\n     <use style=\"fill:#474747;stroke:#474747;stroke-linejoin:miter;\" x=\"841.574858\" xlink:href=\"#m460c345d41\" y=\"156.638498\"/>\n     <use style=\"fill:#474747;stroke:#474747;stroke-linejoin:miter;\" x=\"841.574858\" xlink:href=\"#m460c345d41\" y=\"155.072758\"/>\n     <use style=\"fill:#474747;stroke:#474747;stroke-linejoin:miter;\" x=\"841.574858\" xlink:href=\"#m460c345d41\" y=\"155.072758\"/>\n     <use style=\"fill:#474747;stroke:#474747;stroke-linejoin:miter;\" x=\"841.574858\" xlink:href=\"#m460c345d41\" y=\"148.809798\"/>\n     <use style=\"fill:#474747;stroke:#474747;stroke-linejoin:miter;\" x=\"841.574858\" xlink:href=\"#m460c345d41\" y=\"148.809798\"/>\n     <use style=\"fill:#474747;stroke:#474747;stroke-linejoin:miter;\" x=\"841.574858\" xlink:href=\"#m460c345d41\" y=\"155.594671\"/>\n     <use style=\"fill:#474747;stroke:#474747;stroke-linejoin:miter;\" x=\"841.574858\" xlink:href=\"#m460c345d41\" y=\"155.072758\"/>\n    </g>\n   </g>\n   <g id=\"line2d_75\">\n    <path clip-path=\"url(#p0cacd2b75e)\" d=\"M 50.229403 208.872273 \nL 111.102131 208.872273 \n\" style=\"fill:none;stroke:#474747;stroke-linecap:square;stroke-width:1.5;\"/>\n   </g>\n   <g id=\"line2d_76\">\n    <path clip-path=\"url(#p0cacd2b75e)\" d=\"M 126.320313 205.608016 \nL 187.19304 205.608016 \n\" style=\"fill:none;stroke:#474747;stroke-linecap:square;stroke-width:1.5;\"/>\n   </g>\n   <g id=\"line2d_77\">\n    <path clip-path=\"url(#p0cacd2b75e)\" d=\"M 202.411222 205.750354 \nL 263.283949 205.750354 \n\" style=\"fill:none;stroke:#474747;stroke-linecap:square;stroke-width:1.5;\"/>\n   </g>\n   <g id=\"line2d_78\">\n    <path clip-path=\"url(#p0cacd2b75e)\" d=\"M 278.502131 208.811533 \nL 339.374858 208.811533 \n\" style=\"fill:none;stroke:#474747;stroke-linecap:square;stroke-width:1.5;\"/>\n   </g>\n   <g id=\"line2d_79\">\n    <path clip-path=\"url(#p0cacd2b75e)\" d=\"M 354.59304 207.866898 \nL 415.465767 207.866898 \n\" style=\"fill:none;stroke:#474747;stroke-linecap:square;stroke-width:1.5;\"/>\n   </g>\n   <g id=\"line2d_80\">\n    <path clip-path=\"url(#p0cacd2b75e)\" d=\"M 430.683949 207.80315 \nL 491.556676 207.80315 \n\" style=\"fill:none;stroke:#474747;stroke-linecap:square;stroke-width:1.5;\"/>\n   </g>\n   <g id=\"line2d_81\">\n    <path clip-path=\"url(#p0cacd2b75e)\" d=\"M 506.774858 209.131483 \nL 567.647585 209.131483 \n\" style=\"fill:none;stroke:#474747;stroke-linecap:square;stroke-width:1.5;\"/>\n   </g>\n   <g id=\"line2d_82\">\n    <path clip-path=\"url(#p0cacd2b75e)\" d=\"M 582.865767 204.863739 \nL 643.738494 204.863739 \n\" style=\"fill:none;stroke:#474747;stroke-linecap:square;stroke-width:1.5;\"/>\n   </g>\n   <g id=\"line2d_83\">\n    <path clip-path=\"url(#p0cacd2b75e)\" d=\"M 658.956676 205.01452 \nL 719.829403 205.01452 \n\" style=\"fill:none;stroke:#474747;stroke-linecap:square;stroke-width:1.5;\"/>\n   </g>\n   <g id=\"line2d_84\">\n    <path clip-path=\"url(#p0cacd2b75e)\" d=\"M 735.047585 208.621326 \nL 795.920313 208.621326 \n\" style=\"fill:none;stroke:#474747;stroke-linecap:square;stroke-width:1.5;\"/>\n   </g>\n   <g id=\"line2d_85\">\n    <path clip-path=\"url(#p0cacd2b75e)\" d=\"M 811.138494 208.307913 \nL 872.011222 208.307913 \n\" style=\"fill:none;stroke:#474747;stroke-linecap:square;stroke-width:1.5;\"/>\n   </g>\n   <g id=\"patch_14\">\n    <path d=\"M 42.620313 279 \nL 42.620313 7.2 \n\" style=\"fill:none;stroke:#000000;stroke-linecap:square;stroke-linejoin:miter;stroke-width:0.8;\"/>\n   </g>\n   <g id=\"patch_15\">\n    <path d=\"M 879.620312 279 \nL 879.620312 7.2 \n\" style=\"fill:none;stroke:#000000;stroke-linecap:square;stroke-linejoin:miter;stroke-width:0.8;\"/>\n   </g>\n   <g id=\"patch_16\">\n    <path d=\"M 42.620313 279 \nL 879.620313 279 \n\" style=\"fill:none;stroke:#000000;stroke-linecap:square;stroke-linejoin:miter;stroke-width:0.8;\"/>\n   </g>\n   <g id=\"patch_17\">\n    <path d=\"M 42.620313 7.2 \nL 879.620313 7.2 \n\" style=\"fill:none;stroke:#000000;stroke-linecap:square;stroke-linejoin:miter;stroke-width:0.8;\"/>\n   </g>\n  </g>\n </g>\n <defs>\n  <clipPath id=\"p0cacd2b75e\">\n   <rect height=\"271.8\" width=\"837\" x=\"42.620313\" y=\"7.2\"/>\n  </clipPath>\n </defs>\n</svg>\n"
          },
          "metadata": {
            "needs_background": "light"
          }
        }
      ]
    },
    {
      "cell_type": "code",
      "source": [
        "# create a deep copy of the data to modify\n",
        "original_data = copy.deepcopy(data)\n",
        "original_data.head()"
      ],
      "metadata": {
        "colab": {
          "base_uri": "https://localhost:8080/",
          "height": 206
        },
        "id": "9C2PZlb0QT7L",
        "outputId": "f63f3454-7e2d-480c-e1e2-bd8bf8b00693"
      },
      "execution_count": 5,
      "outputs": [
        {
          "output_type": "execute_result",
          "data": {
            "text/plain": [
              "   fixed acidity  volatile acidity  citric acid  residual sugar  chlorides  \\\n",
              "0      -0.528185          0.960356    -1.391387       -0.452437  -0.244571   \n",
              "1      -0.298580          1.965999    -1.391387        0.049005   0.222757   \n",
              "2      -0.298580          1.295570    -1.185609       -0.165899   0.095304   \n",
              "3       1.653061         -1.386143     1.489509       -0.452437  -0.265814   \n",
              "4      -0.528185          0.960356    -1.391387       -0.452437  -0.244571   \n",
              "\n",
              "   free sulfur dioxide  total sulfur dioxide   density        pH  sulphates  \\\n",
              "0            -0.464413             -0.382415  0.556633  1.288066  -0.580034   \n",
              "1             0.876758              0.654456  0.025914 -0.723425   0.127797   \n",
              "2            -0.081221              0.245992  0.132058 -0.334104  -0.049161   \n",
              "3             0.110375              0.434514  0.662777 -0.982972  -0.462063   \n",
              "4            -0.464413             -0.382415  0.556633  1.288066  -0.580034   \n",
              "\n",
              "    alcohol  \n",
              "0 -0.959006  \n",
              "1 -0.583159  \n",
              "2 -0.583159  \n",
              "3 -0.583159  \n",
              "4 -0.959006  "
            ],
            "text/html": [
              "\n",
              "  <div id=\"df-e9676c40-3d1d-4c88-9de4-ea979046c439\">\n",
              "    <div class=\"colab-df-container\">\n",
              "      <div>\n",
              "<style scoped>\n",
              "    .dataframe tbody tr th:only-of-type {\n",
              "        vertical-align: middle;\n",
              "    }\n",
              "\n",
              "    .dataframe tbody tr th {\n",
              "        vertical-align: top;\n",
              "    }\n",
              "\n",
              "    .dataframe thead th {\n",
              "        text-align: right;\n",
              "    }\n",
              "</style>\n",
              "<table border=\"1\" class=\"dataframe\">\n",
              "  <thead>\n",
              "    <tr style=\"text-align: right;\">\n",
              "      <th></th>\n",
              "      <th>fixed acidity</th>\n",
              "      <th>volatile acidity</th>\n",
              "      <th>citric acid</th>\n",
              "      <th>residual sugar</th>\n",
              "      <th>chlorides</th>\n",
              "      <th>free sulfur dioxide</th>\n",
              "      <th>total sulfur dioxide</th>\n",
              "      <th>density</th>\n",
              "      <th>pH</th>\n",
              "      <th>sulphates</th>\n",
              "      <th>alcohol</th>\n",
              "    </tr>\n",
              "  </thead>\n",
              "  <tbody>\n",
              "    <tr>\n",
              "      <th>0</th>\n",
              "      <td>-0.528185</td>\n",
              "      <td>0.960356</td>\n",
              "      <td>-1.391387</td>\n",
              "      <td>-0.452437</td>\n",
              "      <td>-0.244571</td>\n",
              "      <td>-0.464413</td>\n",
              "      <td>-0.382415</td>\n",
              "      <td>0.556633</td>\n",
              "      <td>1.288066</td>\n",
              "      <td>-0.580034</td>\n",
              "      <td>-0.959006</td>\n",
              "    </tr>\n",
              "    <tr>\n",
              "      <th>1</th>\n",
              "      <td>-0.298580</td>\n",
              "      <td>1.965999</td>\n",
              "      <td>-1.391387</td>\n",
              "      <td>0.049005</td>\n",
              "      <td>0.222757</td>\n",
              "      <td>0.876758</td>\n",
              "      <td>0.654456</td>\n",
              "      <td>0.025914</td>\n",
              "      <td>-0.723425</td>\n",
              "      <td>0.127797</td>\n",
              "      <td>-0.583159</td>\n",
              "    </tr>\n",
              "    <tr>\n",
              "      <th>2</th>\n",
              "      <td>-0.298580</td>\n",
              "      <td>1.295570</td>\n",
              "      <td>-1.185609</td>\n",
              "      <td>-0.165899</td>\n",
              "      <td>0.095304</td>\n",
              "      <td>-0.081221</td>\n",
              "      <td>0.245992</td>\n",
              "      <td>0.132058</td>\n",
              "      <td>-0.334104</td>\n",
              "      <td>-0.049161</td>\n",
              "      <td>-0.583159</td>\n",
              "    </tr>\n",
              "    <tr>\n",
              "      <th>3</th>\n",
              "      <td>1.653061</td>\n",
              "      <td>-1.386143</td>\n",
              "      <td>1.489509</td>\n",
              "      <td>-0.452437</td>\n",
              "      <td>-0.265814</td>\n",
              "      <td>0.110375</td>\n",
              "      <td>0.434514</td>\n",
              "      <td>0.662777</td>\n",
              "      <td>-0.982972</td>\n",
              "      <td>-0.462063</td>\n",
              "      <td>-0.583159</td>\n",
              "    </tr>\n",
              "    <tr>\n",
              "      <th>4</th>\n",
              "      <td>-0.528185</td>\n",
              "      <td>0.960356</td>\n",
              "      <td>-1.391387</td>\n",
              "      <td>-0.452437</td>\n",
              "      <td>-0.244571</td>\n",
              "      <td>-0.464413</td>\n",
              "      <td>-0.382415</td>\n",
              "      <td>0.556633</td>\n",
              "      <td>1.288066</td>\n",
              "      <td>-0.580034</td>\n",
              "      <td>-0.959006</td>\n",
              "    </tr>\n",
              "  </tbody>\n",
              "</table>\n",
              "</div>\n",
              "      <button class=\"colab-df-convert\" onclick=\"convertToInteractive('df-e9676c40-3d1d-4c88-9de4-ea979046c439')\"\n",
              "              title=\"Convert this dataframe to an interactive table.\"\n",
              "              style=\"display:none;\">\n",
              "        \n",
              "  <svg xmlns=\"http://www.w3.org/2000/svg\" height=\"24px\"viewBox=\"0 0 24 24\"\n",
              "       width=\"24px\">\n",
              "    <path d=\"M0 0h24v24H0V0z\" fill=\"none\"/>\n",
              "    <path d=\"M18.56 5.44l.94 2.06.94-2.06 2.06-.94-2.06-.94-.94-2.06-.94 2.06-2.06.94zm-11 1L8.5 8.5l.94-2.06 2.06-.94-2.06-.94L8.5 2.5l-.94 2.06-2.06.94zm10 10l.94 2.06.94-2.06 2.06-.94-2.06-.94-.94-2.06-.94 2.06-2.06.94z\"/><path d=\"M17.41 7.96l-1.37-1.37c-.4-.4-.92-.59-1.43-.59-.52 0-1.04.2-1.43.59L10.3 9.45l-7.72 7.72c-.78.78-.78 2.05 0 2.83L4 21.41c.39.39.9.59 1.41.59.51 0 1.02-.2 1.41-.59l7.78-7.78 2.81-2.81c.8-.78.8-2.07 0-2.86zM5.41 20L4 18.59l7.72-7.72 1.47 1.35L5.41 20z\"/>\n",
              "  </svg>\n",
              "      </button>\n",
              "      \n",
              "  <style>\n",
              "    .colab-df-container {\n",
              "      display:flex;\n",
              "      flex-wrap:wrap;\n",
              "      gap: 12px;\n",
              "    }\n",
              "\n",
              "    .colab-df-convert {\n",
              "      background-color: #E8F0FE;\n",
              "      border: none;\n",
              "      border-radius: 50%;\n",
              "      cursor: pointer;\n",
              "      display: none;\n",
              "      fill: #1967D2;\n",
              "      height: 32px;\n",
              "      padding: 0 0 0 0;\n",
              "      width: 32px;\n",
              "    }\n",
              "\n",
              "    .colab-df-convert:hover {\n",
              "      background-color: #E2EBFA;\n",
              "      box-shadow: 0px 1px 2px rgba(60, 64, 67, 0.3), 0px 1px 3px 1px rgba(60, 64, 67, 0.15);\n",
              "      fill: #174EA6;\n",
              "    }\n",
              "\n",
              "    [theme=dark] .colab-df-convert {\n",
              "      background-color: #3B4455;\n",
              "      fill: #D2E3FC;\n",
              "    }\n",
              "\n",
              "    [theme=dark] .colab-df-convert:hover {\n",
              "      background-color: #434B5C;\n",
              "      box-shadow: 0px 1px 3px 1px rgba(0, 0, 0, 0.15);\n",
              "      filter: drop-shadow(0px 1px 2px rgba(0, 0, 0, 0.3));\n",
              "      fill: #FFFFFF;\n",
              "    }\n",
              "  </style>\n",
              "\n",
              "      <script>\n",
              "        const buttonEl =\n",
              "          document.querySelector('#df-e9676c40-3d1d-4c88-9de4-ea979046c439 button.colab-df-convert');\n",
              "        buttonEl.style.display =\n",
              "          google.colab.kernel.accessAllowed ? 'block' : 'none';\n",
              "\n",
              "        async function convertToInteractive(key) {\n",
              "          const element = document.querySelector('#df-e9676c40-3d1d-4c88-9de4-ea979046c439');\n",
              "          const dataTable =\n",
              "            await google.colab.kernel.invokeFunction('convertToInteractive',\n",
              "                                                     [key], {});\n",
              "          if (!dataTable) return;\n",
              "\n",
              "          const docLinkHtml = 'Like what you see? Visit the ' +\n",
              "            '<a target=\"_blank\" href=https://colab.research.google.com/notebooks/data_table.ipynb>data table notebook</a>'\n",
              "            + ' to learn more about interactive tables.';\n",
              "          element.innerHTML = '';\n",
              "          dataTable['output_type'] = 'display_data';\n",
              "          await google.colab.output.renderOutput(dataTable, element);\n",
              "          const docLink = document.createElement('div');\n",
              "          docLink.innerHTML = docLinkHtml;\n",
              "          element.appendChild(docLink);\n",
              "        }\n",
              "      </script>\n",
              "    </div>\n",
              "  </div>\n",
              "  "
            ]
          },
          "metadata": {},
          "execution_count": 5
        }
      ]
    },
    {
      "cell_type": "code",
      "source": [
        "data.shape"
      ],
      "metadata": {
        "colab": {
          "base_uri": "https://localhost:8080/"
        },
        "id": "7iC62XrRSgQN",
        "outputId": "26533e75-0127-4fad-c250-e72889528e17"
      },
      "execution_count": 6,
      "outputs": [
        {
          "output_type": "execute_result",
          "data": {
            "text/plain": [
              "(1597, 11)"
            ]
          },
          "metadata": {},
          "execution_count": 6
        }
      ]
    },
    {
      "cell_type": "code",
      "source": [
        "# Introduce Missing Values to the data\n",
        "nan_vals = 10\n",
        "\n",
        "# Get 10 random rows to modify\n",
        "vals2nan = np.random.choice(range(len(data)), size=nan_vals)\n",
        "\n",
        "# Replace the original values\n",
        "data[\"residual sugar\"][vals2nan] = np.nan"
      ],
      "metadata": {
        "id": "DDJfVvnsQx12"
      },
      "execution_count": 7,
      "outputs": []
    },
    {
      "cell_type": "code",
      "source": [
        "# Duble check whether it's changed\n",
        "data.isna().sum()"
      ],
      "metadata": {
        "colab": {
          "base_uri": "https://localhost:8080/"
        },
        "id": "V9iXr8RoRTI8",
        "outputId": "c3d81ac4-a9e4-48f0-f5b3-d0a21fe9f253"
      },
      "execution_count": 8,
      "outputs": [
        {
          "output_type": "execute_result",
          "data": {
            "text/plain": [
              "fixed acidity            0\n",
              "volatile acidity         0\n",
              "citric acid              0\n",
              "residual sugar          10\n",
              "chlorides                0\n",
              "free sulfur dioxide      0\n",
              "total sulfur dioxide     0\n",
              "density                  0\n",
              "pH                       0\n",
              "sulphates                0\n",
              "alcohol                  0\n",
              "dtype: int64"
            ]
          },
          "metadata": {},
          "execution_count": 8
        }
      ]
    },
    {
      "cell_type": "code",
      "source": [
        "# Get a vector of all real-valued rows in residual sugar to split the data\n",
        "loc_nan = np.where(~data[\"residual sugar\"].isna())[0]\n",
        "print(len(loc_nan))"
      ],
      "metadata": {
        "colab": {
          "base_uri": "https://localhost:8080/"
        },
        "id": "N7qg_OA-RoE7",
        "outputId": "3c055e6a-4db1-4e37-b4ee-4d95c69afcba"
      },
      "execution_count": 9,
      "outputs": [
        {
          "output_type": "stream",
          "name": "stdout",
          "text": [
            "1587\n"
          ]
        }
      ]
    },
    {
      "cell_type": "code",
      "source": [
        "# Find the exact row number of NaN values\n",
        "print(np.where(data[\"residual sugar\"].isna())[0])"
      ],
      "metadata": {
        "colab": {
          "base_uri": "https://localhost:8080/"
        },
        "id": "QcaMRcsGSJln",
        "outputId": "665fbdae-dd5f-4484-9268-8d8df92d876d"
      },
      "execution_count": 10,
      "outputs": [
        {
          "output_type": "stream",
          "name": "stdout",
          "text": [
            "[   2  570  809  824  899  926  994 1075 1182 1369]\n"
          ]
        }
      ]
    },
    {
      "cell_type": "code",
      "source": [
        "# Split into train and test data: Convert train data and labels into tesnors\n",
        "cols2keep = data.keys().drop(\"residual sugar\")\n",
        "train_data = data.dropna()\n",
        "data_train = torch.tensor(train_data[cols2keep].values).float()\n",
        "labels_train = torch.tensor(train_data[\"residual sugar\"].values).float()\n",
        "\n",
        "print(data_train.shape)\n",
        "print(labels_train)\n",
        "\n",
        "labels_train = labels_train[:,None]\n",
        "print(labels_train.shape)"
      ],
      "metadata": {
        "colab": {
          "base_uri": "https://localhost:8080/"
        },
        "id": "A_wr8gGXSpy6",
        "outputId": "ec09c9ef-fdee-421a-ab5d-e8a6adb79d7d"
      },
      "execution_count": 11,
      "outputs": [
        {
          "output_type": "stream",
          "name": "stdout",
          "text": [
            "torch.Size([1587, 10])\n",
            "tensor([-0.4524,  0.0490, -0.4524,  ..., -0.1659, -0.3808,  0.7654])\n",
            "torch.Size([1587, 1])\n"
          ]
        }
      ]
    },
    {
      "cell_type": "code",
      "source": [
        "# Generate the test dataset and convert into tesnors\n",
        "test_data = data[data[\"residual sugar\"].isna()]\n",
        "\n",
        "data_test = torch.tensor(test_data[cols2keep].values).float()\n",
        "labels_test = torch.tensor(test_data[\"residual sugar\"].values).float()\n",
        "\n",
        "labels_test = labels_test[:,None]\n",
        "\n",
        "print(data_test.shape)\n",
        "print(labels_test.shape)"
      ],
      "metadata": {
        "colab": {
          "base_uri": "https://localhost:8080/"
        },
        "id": "ywdbEopVU6sz",
        "outputId": "be395e01-1315-4f3b-9873-8eff83e85967"
      },
      "execution_count": 12,
      "outputs": [
        {
          "output_type": "stream",
          "name": "stdout",
          "text": [
            "torch.Size([10, 10])\n",
            "torch.Size([10, 1])\n"
          ]
        }
      ]
    },
    {
      "cell_type": "code",
      "source": [
        "# Convert to Pytorch datasets\n",
        "train_data = TensorDataset(data_train, labels_train)\n",
        "test_data = TensorDataset(data_test, labels_test)\n",
        "\n",
        "# Translate to dataloader objects\n",
        "batchsize = 16\n",
        "train_loader = DataLoader(train_data, batch_size=batchsize, shuffle=True, drop_last=True)\n",
        "test_loader = DataLoader(test_data, batch_size=test_data.tensors[0].shape[0])"
      ],
      "metadata": {
        "id": "zi9VuKDbWlPE"
      },
      "execution_count": 13,
      "outputs": []
    },
    {
      "cell_type": "code",
      "source": [
        "# Build the model architecture\n",
        "class AnnWine(nn.Module):\n",
        "    def __init__(self):\n",
        "        super().__init__()\n",
        "\n",
        "        # Input layer\n",
        "        self.input = nn.Linear(10,16)\n",
        "\n",
        "        # Define two hidden layers\n",
        "        self.fc1 = nn.Linear(16,32)\n",
        "        self.fc2 = nn.Linear(32,64)\n",
        "\n",
        "        # Define the output layer\n",
        "        self.output = nn.Linear(64,1)\n",
        "\n",
        "    # Forwad Pass\n",
        "    def forward(self,x):\n",
        "        x = F.relu(self.input(x))\n",
        "        x = F.relu(self.fc1(x))\n",
        "        x = F.relu(self.fc2(x))\n",
        "\n",
        "        return self.output(x)"
      ],
      "metadata": {
        "id": "uaQcR6ECee4s"
      },
      "execution_count": 14,
      "outputs": []
    },
    {
      "cell_type": "code",
      "source": [
        "numepochs = 200\n",
        "\n",
        "def trainTheModel():\n",
        "\n",
        "    net = AnnWine()\n",
        "    # Loss function and optimizer\n",
        "    lossfun = nn.MSELoss() # Regression, not classification problem\n",
        "    optimizer = torch.optim.SGD(net.parameters(), lr = 0.01)\n",
        "\n",
        "    # Initialize the losses\n",
        "    trainLoss = torch.zeros(numepochs)\n",
        "    trainAcc = torch.zeros(numepochs)\n",
        "\n",
        "    # Loop over the epochs\n",
        "    for epochi in range(numepochs):\n",
        "\n",
        "        # switch on he training mode\n",
        "        net.train()\n",
        "\n",
        "        # Loop over the training data batches\n",
        "        batchLoss = []\n",
        "\n",
        "        for X,y in train_loader:\n",
        "\n",
        "            # Forward pass and loss\n",
        "            yHat = net(X)\n",
        "            loss = lossfun(yHat,y)\n",
        "\n",
        "            # Backpropagation\n",
        "            optimizer.zero_grad()\n",
        "            loss.backward()\n",
        "            optimizer.step()\n",
        "\n",
        "            # loss from single batch\n",
        "            batchLoss.append(loss.item())\n",
        "            \n",
        "        # End of the batch loop\n",
        "        # Average losses accross the baches\n",
        "        trainLoss[epochi] = np.mean(batchLoss)\n",
        "\n",
        "    return trainLoss, net"
      ],
      "metadata": {
        "id": "D5yyZJDBe1dv"
      },
      "execution_count": 15,
      "outputs": []
    },
    {
      "cell_type": "code",
      "source": [
        "trainLoss, net = trainTheModel()"
      ],
      "metadata": {
        "id": "jRazHIB4gBd7"
      },
      "execution_count": 16,
      "outputs": []
    },
    {
      "cell_type": "code",
      "source": [
        "plt.plot(trainLoss)\n",
        "plt.xlabel(\"Training Epoch\")\n",
        "plt.ylabel(\"Loss\")\n",
        "plt.show()"
      ],
      "metadata": {
        "colab": {
          "base_uri": "https://localhost:8080/",
          "height": 371
        },
        "id": "DAncRbIhlm8X",
        "outputId": "2847648f-4a56-4917-a6e4-c6bf94e71e9b"
      },
      "execution_count": 17,
      "outputs": [
        {
          "output_type": "display_data",
          "data": {
            "text/plain": [
              "<Figure size 432x288 with 1 Axes>"
            ],
            "image/svg+xml": "<?xml version=\"1.0\" encoding=\"utf-8\" standalone=\"no\"?>\n<!DOCTYPE svg PUBLIC \"-//W3C//DTD SVG 1.1//EN\"\n  \"http://www.w3.org/Graphics/SVG/1.1/DTD/svg11.dtd\">\n<!-- Created with matplotlib (https://matplotlib.org/) -->\n<svg height=\"262.19625pt\" version=\"1.1\" viewBox=\"0 0 385.78125 262.19625\" width=\"385.78125pt\" xmlns=\"http://www.w3.org/2000/svg\" xmlns:xlink=\"http://www.w3.org/1999/xlink\">\n <defs>\n  <style type=\"text/css\">\n*{stroke-linecap:butt;stroke-linejoin:round;}\n  </style>\n </defs>\n <g id=\"figure_1\">\n  <g id=\"patch_1\">\n   <path d=\"M 0 262.19625 \nL 385.78125 262.19625 \nL 385.78125 0 \nL 0 0 \nz\n\" style=\"fill:none;\"/>\n  </g>\n  <g id=\"axes_1\">\n   <g id=\"patch_2\">\n    <path d=\"M 43.78125 224.64 \nL 378.58125 224.64 \nL 378.58125 7.2 \nL 43.78125 7.2 \nz\n\" style=\"fill:#ffffff;\"/>\n   </g>\n   <g id=\"matplotlib.axis_1\">\n    <g id=\"xtick_1\">\n     <g id=\"line2d_1\">\n      <defs>\n       <path d=\"M 0 0 \nL 0 3.5 \n\" id=\"md0b85360dd\" style=\"stroke:#000000;stroke-width:0.8;\"/>\n      </defs>\n      <g>\n       <use style=\"stroke:#000000;stroke-width:0.8;\" x=\"58.999432\" xlink:href=\"#md0b85360dd\" y=\"224.64\"/>\n      </g>\n     </g>\n     <g id=\"text_1\">\n      <!-- 0 -->\n      <defs>\n       <path d=\"M 31.78125 66.40625 \nQ 24.171875 66.40625 20.328125 58.90625 \nQ 16.5 51.421875 16.5 36.375 \nQ 16.5 21.390625 20.328125 13.890625 \nQ 24.171875 6.390625 31.78125 6.390625 \nQ 39.453125 6.390625 43.28125 13.890625 \nQ 47.125 21.390625 47.125 36.375 \nQ 47.125 51.421875 43.28125 58.90625 \nQ 39.453125 66.40625 31.78125 66.40625 \nz\nM 31.78125 74.21875 \nQ 44.046875 74.21875 50.515625 64.515625 \nQ 56.984375 54.828125 56.984375 36.375 \nQ 56.984375 17.96875 50.515625 8.265625 \nQ 44.046875 -1.421875 31.78125 -1.421875 \nQ 19.53125 -1.421875 13.0625 8.265625 \nQ 6.59375 17.96875 6.59375 36.375 \nQ 6.59375 54.828125 13.0625 64.515625 \nQ 19.53125 74.21875 31.78125 74.21875 \nz\n\" id=\"DejaVuSans-48\"/>\n      </defs>\n      <g transform=\"translate(55.818182 239.238437)scale(0.1 -0.1)\">\n       <use xlink:href=\"#DejaVuSans-48\"/>\n      </g>\n     </g>\n    </g>\n    <g id=\"xtick_2\">\n     <g id=\"line2d_2\">\n      <g>\n       <use style=\"stroke:#000000;stroke-width:0.8;\" x=\"97.23607\" xlink:href=\"#md0b85360dd\" y=\"224.64\"/>\n      </g>\n     </g>\n     <g id=\"text_2\">\n      <!-- 25 -->\n      <defs>\n       <path d=\"M 19.1875 8.296875 \nL 53.609375 8.296875 \nL 53.609375 0 \nL 7.328125 0 \nL 7.328125 8.296875 \nQ 12.9375 14.109375 22.625 23.890625 \nQ 32.328125 33.6875 34.8125 36.53125 \nQ 39.546875 41.84375 41.421875 45.53125 \nQ 43.3125 49.21875 43.3125 52.78125 \nQ 43.3125 58.59375 39.234375 62.25 \nQ 35.15625 65.921875 28.609375 65.921875 \nQ 23.96875 65.921875 18.8125 64.3125 \nQ 13.671875 62.703125 7.8125 59.421875 \nL 7.8125 69.390625 \nQ 13.765625 71.78125 18.9375 73 \nQ 24.125 74.21875 28.421875 74.21875 \nQ 39.75 74.21875 46.484375 68.546875 \nQ 53.21875 62.890625 53.21875 53.421875 \nQ 53.21875 48.921875 51.53125 44.890625 \nQ 49.859375 40.875 45.40625 35.40625 \nQ 44.1875 33.984375 37.640625 27.21875 \nQ 31.109375 20.453125 19.1875 8.296875 \nz\n\" id=\"DejaVuSans-50\"/>\n       <path d=\"M 10.796875 72.90625 \nL 49.515625 72.90625 \nL 49.515625 64.59375 \nL 19.828125 64.59375 \nL 19.828125 46.734375 \nQ 21.96875 47.46875 24.109375 47.828125 \nQ 26.265625 48.1875 28.421875 48.1875 \nQ 40.625 48.1875 47.75 41.5 \nQ 54.890625 34.8125 54.890625 23.390625 \nQ 54.890625 11.625 47.5625 5.09375 \nQ 40.234375 -1.421875 26.90625 -1.421875 \nQ 22.3125 -1.421875 17.546875 -0.640625 \nQ 12.796875 0.140625 7.71875 1.703125 \nL 7.71875 11.625 \nQ 12.109375 9.234375 16.796875 8.0625 \nQ 21.484375 6.890625 26.703125 6.890625 \nQ 35.15625 6.890625 40.078125 11.328125 \nQ 45.015625 15.765625 45.015625 23.390625 \nQ 45.015625 31 40.078125 35.4375 \nQ 35.15625 39.890625 26.703125 39.890625 \nQ 22.75 39.890625 18.8125 39.015625 \nQ 14.890625 38.140625 10.796875 36.28125 \nz\n\" id=\"DejaVuSans-53\"/>\n      </defs>\n      <g transform=\"translate(90.87357 239.238437)scale(0.1 -0.1)\">\n       <use xlink:href=\"#DejaVuSans-50\"/>\n       <use x=\"63.623047\" xlink:href=\"#DejaVuSans-53\"/>\n      </g>\n     </g>\n    </g>\n    <g id=\"xtick_3\">\n     <g id=\"line2d_3\">\n      <g>\n       <use style=\"stroke:#000000;stroke-width:0.8;\" x=\"135.472707\" xlink:href=\"#md0b85360dd\" y=\"224.64\"/>\n      </g>\n     </g>\n     <g id=\"text_3\">\n      <!-- 50 -->\n      <g transform=\"translate(129.110207 239.238437)scale(0.1 -0.1)\">\n       <use xlink:href=\"#DejaVuSans-53\"/>\n       <use x=\"63.623047\" xlink:href=\"#DejaVuSans-48\"/>\n      </g>\n     </g>\n    </g>\n    <g id=\"xtick_4\">\n     <g id=\"line2d_4\">\n      <g>\n       <use style=\"stroke:#000000;stroke-width:0.8;\" x=\"173.709345\" xlink:href=\"#md0b85360dd\" y=\"224.64\"/>\n      </g>\n     </g>\n     <g id=\"text_4\">\n      <!-- 75 -->\n      <defs>\n       <path d=\"M 8.203125 72.90625 \nL 55.078125 72.90625 \nL 55.078125 68.703125 \nL 28.609375 0 \nL 18.3125 0 \nL 43.21875 64.59375 \nL 8.203125 64.59375 \nz\n\" id=\"DejaVuSans-55\"/>\n      </defs>\n      <g transform=\"translate(167.346845 239.238437)scale(0.1 -0.1)\">\n       <use xlink:href=\"#DejaVuSans-55\"/>\n       <use x=\"63.623047\" xlink:href=\"#DejaVuSans-53\"/>\n      </g>\n     </g>\n    </g>\n    <g id=\"xtick_5\">\n     <g id=\"line2d_5\">\n      <g>\n       <use style=\"stroke:#000000;stroke-width:0.8;\" x=\"211.945983\" xlink:href=\"#md0b85360dd\" y=\"224.64\"/>\n      </g>\n     </g>\n     <g id=\"text_5\">\n      <!-- 100 -->\n      <defs>\n       <path d=\"M 12.40625 8.296875 \nL 28.515625 8.296875 \nL 28.515625 63.921875 \nL 10.984375 60.40625 \nL 10.984375 69.390625 \nL 28.421875 72.90625 \nL 38.28125 72.90625 \nL 38.28125 8.296875 \nL 54.390625 8.296875 \nL 54.390625 0 \nL 12.40625 0 \nz\n\" id=\"DejaVuSans-49\"/>\n      </defs>\n      <g transform=\"translate(202.402233 239.238437)scale(0.1 -0.1)\">\n       <use xlink:href=\"#DejaVuSans-49\"/>\n       <use x=\"63.623047\" xlink:href=\"#DejaVuSans-48\"/>\n       <use x=\"127.246094\" xlink:href=\"#DejaVuSans-48\"/>\n      </g>\n     </g>\n    </g>\n    <g id=\"xtick_6\">\n     <g id=\"line2d_6\">\n      <g>\n       <use style=\"stroke:#000000;stroke-width:0.8;\" x=\"250.18262\" xlink:href=\"#md0b85360dd\" y=\"224.64\"/>\n      </g>\n     </g>\n     <g id=\"text_6\">\n      <!-- 125 -->\n      <g transform=\"translate(240.63887 239.238437)scale(0.1 -0.1)\">\n       <use xlink:href=\"#DejaVuSans-49\"/>\n       <use x=\"63.623047\" xlink:href=\"#DejaVuSans-50\"/>\n       <use x=\"127.246094\" xlink:href=\"#DejaVuSans-53\"/>\n      </g>\n     </g>\n    </g>\n    <g id=\"xtick_7\">\n     <g id=\"line2d_7\">\n      <g>\n       <use style=\"stroke:#000000;stroke-width:0.8;\" x=\"288.419258\" xlink:href=\"#md0b85360dd\" y=\"224.64\"/>\n      </g>\n     </g>\n     <g id=\"text_7\">\n      <!-- 150 -->\n      <g transform=\"translate(278.875508 239.238437)scale(0.1 -0.1)\">\n       <use xlink:href=\"#DejaVuSans-49\"/>\n       <use x=\"63.623047\" xlink:href=\"#DejaVuSans-53\"/>\n       <use x=\"127.246094\" xlink:href=\"#DejaVuSans-48\"/>\n      </g>\n     </g>\n    </g>\n    <g id=\"xtick_8\">\n     <g id=\"line2d_8\">\n      <g>\n       <use style=\"stroke:#000000;stroke-width:0.8;\" x=\"326.655896\" xlink:href=\"#md0b85360dd\" y=\"224.64\"/>\n      </g>\n     </g>\n     <g id=\"text_8\">\n      <!-- 175 -->\n      <g transform=\"translate(317.112146 239.238437)scale(0.1 -0.1)\">\n       <use xlink:href=\"#DejaVuSans-49\"/>\n       <use x=\"63.623047\" xlink:href=\"#DejaVuSans-55\"/>\n       <use x=\"127.246094\" xlink:href=\"#DejaVuSans-53\"/>\n      </g>\n     </g>\n    </g>\n    <g id=\"xtick_9\">\n     <g id=\"line2d_9\">\n      <g>\n       <use style=\"stroke:#000000;stroke-width:0.8;\" x=\"364.892534\" xlink:href=\"#md0b85360dd\" y=\"224.64\"/>\n      </g>\n     </g>\n     <g id=\"text_9\">\n      <!-- 200 -->\n      <g transform=\"translate(355.348784 239.238437)scale(0.1 -0.1)\">\n       <use xlink:href=\"#DejaVuSans-50\"/>\n       <use x=\"63.623047\" xlink:href=\"#DejaVuSans-48\"/>\n       <use x=\"127.246094\" xlink:href=\"#DejaVuSans-48\"/>\n      </g>\n     </g>\n    </g>\n    <g id=\"text_10\">\n     <!-- Training Epoch -->\n     <defs>\n      <path d=\"M -0.296875 72.90625 \nL 61.375 72.90625 \nL 61.375 64.59375 \nL 35.5 64.59375 \nL 35.5 0 \nL 25.59375 0 \nL 25.59375 64.59375 \nL -0.296875 64.59375 \nz\n\" id=\"DejaVuSans-84\"/>\n      <path d=\"M 41.109375 46.296875 \nQ 39.59375 47.171875 37.8125 47.578125 \nQ 36.03125 48 33.890625 48 \nQ 26.265625 48 22.1875 43.046875 \nQ 18.109375 38.09375 18.109375 28.8125 \nL 18.109375 0 \nL 9.078125 0 \nL 9.078125 54.6875 \nL 18.109375 54.6875 \nL 18.109375 46.1875 \nQ 20.953125 51.171875 25.484375 53.578125 \nQ 30.03125 56 36.53125 56 \nQ 37.453125 56 38.578125 55.875 \nQ 39.703125 55.765625 41.0625 55.515625 \nz\n\" id=\"DejaVuSans-114\"/>\n      <path d=\"M 34.28125 27.484375 \nQ 23.390625 27.484375 19.1875 25 \nQ 14.984375 22.515625 14.984375 16.5 \nQ 14.984375 11.71875 18.140625 8.90625 \nQ 21.296875 6.109375 26.703125 6.109375 \nQ 34.1875 6.109375 38.703125 11.40625 \nQ 43.21875 16.703125 43.21875 25.484375 \nL 43.21875 27.484375 \nz\nM 52.203125 31.203125 \nL 52.203125 0 \nL 43.21875 0 \nL 43.21875 8.296875 \nQ 40.140625 3.328125 35.546875 0.953125 \nQ 30.953125 -1.421875 24.3125 -1.421875 \nQ 15.921875 -1.421875 10.953125 3.296875 \nQ 6 8.015625 6 15.921875 \nQ 6 25.140625 12.171875 29.828125 \nQ 18.359375 34.515625 30.609375 34.515625 \nL 43.21875 34.515625 \nL 43.21875 35.40625 \nQ 43.21875 41.609375 39.140625 45 \nQ 35.0625 48.390625 27.6875 48.390625 \nQ 23 48.390625 18.546875 47.265625 \nQ 14.109375 46.140625 10.015625 43.890625 \nL 10.015625 52.203125 \nQ 14.9375 54.109375 19.578125 55.046875 \nQ 24.21875 56 28.609375 56 \nQ 40.484375 56 46.34375 49.84375 \nQ 52.203125 43.703125 52.203125 31.203125 \nz\n\" id=\"DejaVuSans-97\"/>\n      <path d=\"M 9.421875 54.6875 \nL 18.40625 54.6875 \nL 18.40625 0 \nL 9.421875 0 \nz\nM 9.421875 75.984375 \nL 18.40625 75.984375 \nL 18.40625 64.59375 \nL 9.421875 64.59375 \nz\n\" id=\"DejaVuSans-105\"/>\n      <path d=\"M 54.890625 33.015625 \nL 54.890625 0 \nL 45.90625 0 \nL 45.90625 32.71875 \nQ 45.90625 40.484375 42.875 44.328125 \nQ 39.84375 48.1875 33.796875 48.1875 \nQ 26.515625 48.1875 22.3125 43.546875 \nQ 18.109375 38.921875 18.109375 30.90625 \nL 18.109375 0 \nL 9.078125 0 \nL 9.078125 54.6875 \nL 18.109375 54.6875 \nL 18.109375 46.1875 \nQ 21.34375 51.125 25.703125 53.5625 \nQ 30.078125 56 35.796875 56 \nQ 45.21875 56 50.046875 50.171875 \nQ 54.890625 44.34375 54.890625 33.015625 \nz\n\" id=\"DejaVuSans-110\"/>\n      <path d=\"M 45.40625 27.984375 \nQ 45.40625 37.75 41.375 43.109375 \nQ 37.359375 48.484375 30.078125 48.484375 \nQ 22.859375 48.484375 18.828125 43.109375 \nQ 14.796875 37.75 14.796875 27.984375 \nQ 14.796875 18.265625 18.828125 12.890625 \nQ 22.859375 7.515625 30.078125 7.515625 \nQ 37.359375 7.515625 41.375 12.890625 \nQ 45.40625 18.265625 45.40625 27.984375 \nz\nM 54.390625 6.78125 \nQ 54.390625 -7.171875 48.1875 -13.984375 \nQ 42 -20.796875 29.203125 -20.796875 \nQ 24.46875 -20.796875 20.265625 -20.09375 \nQ 16.0625 -19.390625 12.109375 -17.921875 \nL 12.109375 -9.1875 \nQ 16.0625 -11.328125 19.921875 -12.34375 \nQ 23.78125 -13.375 27.78125 -13.375 \nQ 36.625 -13.375 41.015625 -8.765625 \nQ 45.40625 -4.15625 45.40625 5.171875 \nL 45.40625 9.625 \nQ 42.625 4.78125 38.28125 2.390625 \nQ 33.9375 0 27.875 0 \nQ 17.828125 0 11.671875 7.65625 \nQ 5.515625 15.328125 5.515625 27.984375 \nQ 5.515625 40.671875 11.671875 48.328125 \nQ 17.828125 56 27.875 56 \nQ 33.9375 56 38.28125 53.609375 \nQ 42.625 51.21875 45.40625 46.390625 \nL 45.40625 54.6875 \nL 54.390625 54.6875 \nz\n\" id=\"DejaVuSans-103\"/>\n      <path id=\"DejaVuSans-32\"/>\n      <path d=\"M 9.8125 72.90625 \nL 55.90625 72.90625 \nL 55.90625 64.59375 \nL 19.671875 64.59375 \nL 19.671875 43.015625 \nL 54.390625 43.015625 \nL 54.390625 34.71875 \nL 19.671875 34.71875 \nL 19.671875 8.296875 \nL 56.78125 8.296875 \nL 56.78125 0 \nL 9.8125 0 \nz\n\" id=\"DejaVuSans-69\"/>\n      <path d=\"M 18.109375 8.203125 \nL 18.109375 -20.796875 \nL 9.078125 -20.796875 \nL 9.078125 54.6875 \nL 18.109375 54.6875 \nL 18.109375 46.390625 \nQ 20.953125 51.265625 25.265625 53.625 \nQ 29.59375 56 35.59375 56 \nQ 45.5625 56 51.78125 48.09375 \nQ 58.015625 40.1875 58.015625 27.296875 \nQ 58.015625 14.40625 51.78125 6.484375 \nQ 45.5625 -1.421875 35.59375 -1.421875 \nQ 29.59375 -1.421875 25.265625 0.953125 \nQ 20.953125 3.328125 18.109375 8.203125 \nz\nM 48.6875 27.296875 \nQ 48.6875 37.203125 44.609375 42.84375 \nQ 40.53125 48.484375 33.40625 48.484375 \nQ 26.265625 48.484375 22.1875 42.84375 \nQ 18.109375 37.203125 18.109375 27.296875 \nQ 18.109375 17.390625 22.1875 11.75 \nQ 26.265625 6.109375 33.40625 6.109375 \nQ 40.53125 6.109375 44.609375 11.75 \nQ 48.6875 17.390625 48.6875 27.296875 \nz\n\" id=\"DejaVuSans-112\"/>\n      <path d=\"M 30.609375 48.390625 \nQ 23.390625 48.390625 19.1875 42.75 \nQ 14.984375 37.109375 14.984375 27.296875 \nQ 14.984375 17.484375 19.15625 11.84375 \nQ 23.34375 6.203125 30.609375 6.203125 \nQ 37.796875 6.203125 41.984375 11.859375 \nQ 46.1875 17.53125 46.1875 27.296875 \nQ 46.1875 37.015625 41.984375 42.703125 \nQ 37.796875 48.390625 30.609375 48.390625 \nz\nM 30.609375 56 \nQ 42.328125 56 49.015625 48.375 \nQ 55.71875 40.765625 55.71875 27.296875 \nQ 55.71875 13.875 49.015625 6.21875 \nQ 42.328125 -1.421875 30.609375 -1.421875 \nQ 18.84375 -1.421875 12.171875 6.21875 \nQ 5.515625 13.875 5.515625 27.296875 \nQ 5.515625 40.765625 12.171875 48.375 \nQ 18.84375 56 30.609375 56 \nz\n\" id=\"DejaVuSans-111\"/>\n      <path d=\"M 48.78125 52.59375 \nL 48.78125 44.1875 \nQ 44.96875 46.296875 41.140625 47.34375 \nQ 37.3125 48.390625 33.40625 48.390625 \nQ 24.65625 48.390625 19.8125 42.84375 \nQ 14.984375 37.3125 14.984375 27.296875 \nQ 14.984375 17.28125 19.8125 11.734375 \nQ 24.65625 6.203125 33.40625 6.203125 \nQ 37.3125 6.203125 41.140625 7.25 \nQ 44.96875 8.296875 48.78125 10.40625 \nL 48.78125 2.09375 \nQ 45.015625 0.34375 40.984375 -0.53125 \nQ 36.96875 -1.421875 32.421875 -1.421875 \nQ 20.0625 -1.421875 12.78125 6.34375 \nQ 5.515625 14.109375 5.515625 27.296875 \nQ 5.515625 40.671875 12.859375 48.328125 \nQ 20.21875 56 33.015625 56 \nQ 37.15625 56 41.109375 55.140625 \nQ 45.0625 54.296875 48.78125 52.59375 \nz\n\" id=\"DejaVuSans-99\"/>\n      <path d=\"M 54.890625 33.015625 \nL 54.890625 0 \nL 45.90625 0 \nL 45.90625 32.71875 \nQ 45.90625 40.484375 42.875 44.328125 \nQ 39.84375 48.1875 33.796875 48.1875 \nQ 26.515625 48.1875 22.3125 43.546875 \nQ 18.109375 38.921875 18.109375 30.90625 \nL 18.109375 0 \nL 9.078125 0 \nL 9.078125 75.984375 \nL 18.109375 75.984375 \nL 18.109375 46.1875 \nQ 21.34375 51.125 25.703125 53.5625 \nQ 30.078125 56 35.796875 56 \nQ 45.21875 56 50.046875 50.171875 \nQ 54.890625 44.34375 54.890625 33.015625 \nz\n\" id=\"DejaVuSans-104\"/>\n     </defs>\n     <g transform=\"translate(174.555469 252.916562)scale(0.1 -0.1)\">\n      <use xlink:href=\"#DejaVuSans-84\"/>\n      <use x=\"46.333984\" xlink:href=\"#DejaVuSans-114\"/>\n      <use x=\"87.447266\" xlink:href=\"#DejaVuSans-97\"/>\n      <use x=\"148.726562\" xlink:href=\"#DejaVuSans-105\"/>\n      <use x=\"176.509766\" xlink:href=\"#DejaVuSans-110\"/>\n      <use x=\"239.888672\" xlink:href=\"#DejaVuSans-105\"/>\n      <use x=\"267.671875\" xlink:href=\"#DejaVuSans-110\"/>\n      <use x=\"331.050781\" xlink:href=\"#DejaVuSans-103\"/>\n      <use x=\"394.527344\" xlink:href=\"#DejaVuSans-32\"/>\n      <use x=\"426.314453\" xlink:href=\"#DejaVuSans-69\"/>\n      <use x=\"489.498047\" xlink:href=\"#DejaVuSans-112\"/>\n      <use x=\"552.974609\" xlink:href=\"#DejaVuSans-111\"/>\n      <use x=\"614.15625\" xlink:href=\"#DejaVuSans-99\"/>\n      <use x=\"669.136719\" xlink:href=\"#DejaVuSans-104\"/>\n     </g>\n    </g>\n   </g>\n   <g id=\"matplotlib.axis_2\">\n    <g id=\"ytick_1\">\n     <g id=\"line2d_10\">\n      <defs>\n       <path d=\"M 0 0 \nL -3.5 0 \n\" id=\"mb76402c516\" style=\"stroke:#000000;stroke-width:0.8;\"/>\n      </defs>\n      <g>\n       <use style=\"stroke:#000000;stroke-width:0.8;\" x=\"43.78125\" xlink:href=\"#mb76402c516\" y=\"192.068529\"/>\n      </g>\n     </g>\n     <g id=\"text_11\">\n      <!-- 0.2 -->\n      <defs>\n       <path d=\"M 10.6875 12.40625 \nL 21 12.40625 \nL 21 0 \nL 10.6875 0 \nz\n\" id=\"DejaVuSans-46\"/>\n      </defs>\n      <g transform=\"translate(20.878125 195.867747)scale(0.1 -0.1)\">\n       <use xlink:href=\"#DejaVuSans-48\"/>\n       <use x=\"63.623047\" xlink:href=\"#DejaVuSans-46\"/>\n       <use x=\"95.410156\" xlink:href=\"#DejaVuSans-50\"/>\n      </g>\n     </g>\n    </g>\n    <g id=\"ytick_2\">\n     <g id=\"line2d_11\">\n      <g>\n       <use style=\"stroke:#000000;stroke-width:0.8;\" x=\"43.78125\" xlink:href=\"#mb76402c516\" y=\"147.493584\"/>\n      </g>\n     </g>\n     <g id=\"text_12\">\n      <!-- 0.4 -->\n      <defs>\n       <path d=\"M 37.796875 64.3125 \nL 12.890625 25.390625 \nL 37.796875 25.390625 \nz\nM 35.203125 72.90625 \nL 47.609375 72.90625 \nL 47.609375 25.390625 \nL 58.015625 25.390625 \nL 58.015625 17.1875 \nL 47.609375 17.1875 \nL 47.609375 0 \nL 37.796875 0 \nL 37.796875 17.1875 \nL 4.890625 17.1875 \nL 4.890625 26.703125 \nz\n\" id=\"DejaVuSans-52\"/>\n      </defs>\n      <g transform=\"translate(20.878125 151.292802)scale(0.1 -0.1)\">\n       <use xlink:href=\"#DejaVuSans-48\"/>\n       <use x=\"63.623047\" xlink:href=\"#DejaVuSans-46\"/>\n       <use x=\"95.410156\" xlink:href=\"#DejaVuSans-52\"/>\n      </g>\n     </g>\n    </g>\n    <g id=\"ytick_3\">\n     <g id=\"line2d_12\">\n      <g>\n       <use style=\"stroke:#000000;stroke-width:0.8;\" x=\"43.78125\" xlink:href=\"#mb76402c516\" y=\"102.918638\"/>\n      </g>\n     </g>\n     <g id=\"text_13\">\n      <!-- 0.6 -->\n      <defs>\n       <path d=\"M 33.015625 40.375 \nQ 26.375 40.375 22.484375 35.828125 \nQ 18.609375 31.296875 18.609375 23.390625 \nQ 18.609375 15.53125 22.484375 10.953125 \nQ 26.375 6.390625 33.015625 6.390625 \nQ 39.65625 6.390625 43.53125 10.953125 \nQ 47.40625 15.53125 47.40625 23.390625 \nQ 47.40625 31.296875 43.53125 35.828125 \nQ 39.65625 40.375 33.015625 40.375 \nz\nM 52.59375 71.296875 \nL 52.59375 62.3125 \nQ 48.875 64.0625 45.09375 64.984375 \nQ 41.3125 65.921875 37.59375 65.921875 \nQ 27.828125 65.921875 22.671875 59.328125 \nQ 17.53125 52.734375 16.796875 39.40625 \nQ 19.671875 43.65625 24.015625 45.921875 \nQ 28.375 48.1875 33.59375 48.1875 \nQ 44.578125 48.1875 50.953125 41.515625 \nQ 57.328125 34.859375 57.328125 23.390625 \nQ 57.328125 12.15625 50.6875 5.359375 \nQ 44.046875 -1.421875 33.015625 -1.421875 \nQ 20.359375 -1.421875 13.671875 8.265625 \nQ 6.984375 17.96875 6.984375 36.375 \nQ 6.984375 53.65625 15.1875 63.9375 \nQ 23.390625 74.21875 37.203125 74.21875 \nQ 40.921875 74.21875 44.703125 73.484375 \nQ 48.484375 72.75 52.59375 71.296875 \nz\n\" id=\"DejaVuSans-54\"/>\n      </defs>\n      <g transform=\"translate(20.878125 106.717857)scale(0.1 -0.1)\">\n       <use xlink:href=\"#DejaVuSans-48\"/>\n       <use x=\"63.623047\" xlink:href=\"#DejaVuSans-46\"/>\n       <use x=\"95.410156\" xlink:href=\"#DejaVuSans-54\"/>\n      </g>\n     </g>\n    </g>\n    <g id=\"ytick_4\">\n     <g id=\"line2d_13\">\n      <g>\n       <use style=\"stroke:#000000;stroke-width:0.8;\" x=\"43.78125\" xlink:href=\"#mb76402c516\" y=\"58.343693\"/>\n      </g>\n     </g>\n     <g id=\"text_14\">\n      <!-- 0.8 -->\n      <defs>\n       <path d=\"M 31.78125 34.625 \nQ 24.75 34.625 20.71875 30.859375 \nQ 16.703125 27.09375 16.703125 20.515625 \nQ 16.703125 13.921875 20.71875 10.15625 \nQ 24.75 6.390625 31.78125 6.390625 \nQ 38.8125 6.390625 42.859375 10.171875 \nQ 46.921875 13.96875 46.921875 20.515625 \nQ 46.921875 27.09375 42.890625 30.859375 \nQ 38.875 34.625 31.78125 34.625 \nz\nM 21.921875 38.8125 \nQ 15.578125 40.375 12.03125 44.71875 \nQ 8.5 49.078125 8.5 55.328125 \nQ 8.5 64.0625 14.71875 69.140625 \nQ 20.953125 74.21875 31.78125 74.21875 \nQ 42.671875 74.21875 48.875 69.140625 \nQ 55.078125 64.0625 55.078125 55.328125 \nQ 55.078125 49.078125 51.53125 44.71875 \nQ 48 40.375 41.703125 38.8125 \nQ 48.828125 37.15625 52.796875 32.3125 \nQ 56.78125 27.484375 56.78125 20.515625 \nQ 56.78125 9.90625 50.3125 4.234375 \nQ 43.84375 -1.421875 31.78125 -1.421875 \nQ 19.734375 -1.421875 13.25 4.234375 \nQ 6.78125 9.90625 6.78125 20.515625 \nQ 6.78125 27.484375 10.78125 32.3125 \nQ 14.796875 37.15625 21.921875 38.8125 \nz\nM 18.3125 54.390625 \nQ 18.3125 48.734375 21.84375 45.5625 \nQ 25.390625 42.390625 31.78125 42.390625 \nQ 38.140625 42.390625 41.71875 45.5625 \nQ 45.3125 48.734375 45.3125 54.390625 \nQ 45.3125 60.0625 41.71875 63.234375 \nQ 38.140625 66.40625 31.78125 66.40625 \nQ 25.390625 66.40625 21.84375 63.234375 \nQ 18.3125 60.0625 18.3125 54.390625 \nz\n\" id=\"DejaVuSans-56\"/>\n      </defs>\n      <g transform=\"translate(20.878125 62.142912)scale(0.1 -0.1)\">\n       <use xlink:href=\"#DejaVuSans-48\"/>\n       <use x=\"63.623047\" xlink:href=\"#DejaVuSans-46\"/>\n       <use x=\"95.410156\" xlink:href=\"#DejaVuSans-56\"/>\n      </g>\n     </g>\n    </g>\n    <g id=\"ytick_5\">\n     <g id=\"line2d_14\">\n      <g>\n       <use style=\"stroke:#000000;stroke-width:0.8;\" x=\"43.78125\" xlink:href=\"#mb76402c516\" y=\"13.768748\"/>\n      </g>\n     </g>\n     <g id=\"text_15\">\n      <!-- 1.0 -->\n      <g transform=\"translate(20.878125 17.567967)scale(0.1 -0.1)\">\n       <use xlink:href=\"#DejaVuSans-49\"/>\n       <use x=\"63.623047\" xlink:href=\"#DejaVuSans-46\"/>\n       <use x=\"95.410156\" xlink:href=\"#DejaVuSans-48\"/>\n      </g>\n     </g>\n    </g>\n    <g id=\"text_16\">\n     <!-- Loss -->\n     <defs>\n      <path d=\"M 9.8125 72.90625 \nL 19.671875 72.90625 \nL 19.671875 8.296875 \nL 55.171875 8.296875 \nL 55.171875 0 \nL 9.8125 0 \nz\n\" id=\"DejaVuSans-76\"/>\n      <path d=\"M 44.28125 53.078125 \nL 44.28125 44.578125 \nQ 40.484375 46.53125 36.375 47.5 \nQ 32.28125 48.484375 27.875 48.484375 \nQ 21.1875 48.484375 17.84375 46.4375 \nQ 14.5 44.390625 14.5 40.28125 \nQ 14.5 37.15625 16.890625 35.375 \nQ 19.28125 33.59375 26.515625 31.984375 \nL 29.59375 31.296875 \nQ 39.15625 29.25 43.1875 25.515625 \nQ 47.21875 21.78125 47.21875 15.09375 \nQ 47.21875 7.46875 41.1875 3.015625 \nQ 35.15625 -1.421875 24.609375 -1.421875 \nQ 20.21875 -1.421875 15.453125 -0.5625 \nQ 10.6875 0.296875 5.421875 2 \nL 5.421875 11.28125 \nQ 10.40625 8.6875 15.234375 7.390625 \nQ 20.0625 6.109375 24.8125 6.109375 \nQ 31.15625 6.109375 34.5625 8.28125 \nQ 37.984375 10.453125 37.984375 14.40625 \nQ 37.984375 18.0625 35.515625 20.015625 \nQ 33.0625 21.96875 24.703125 23.78125 \nL 21.578125 24.515625 \nQ 13.234375 26.265625 9.515625 29.90625 \nQ 5.8125 33.546875 5.8125 39.890625 \nQ 5.8125 47.609375 11.28125 51.796875 \nQ 16.75 56 26.8125 56 \nQ 31.78125 56 36.171875 55.265625 \nQ 40.578125 54.546875 44.28125 53.078125 \nz\n\" id=\"DejaVuSans-115\"/>\n     </defs>\n     <g transform=\"translate(14.798438 126.887187)rotate(-90)scale(0.1 -0.1)\">\n      <use xlink:href=\"#DejaVuSans-76\"/>\n      <use x=\"53.962891\" xlink:href=\"#DejaVuSans-111\"/>\n      <use x=\"115.144531\" xlink:href=\"#DejaVuSans-115\"/>\n      <use x=\"167.244141\" xlink:href=\"#DejaVuSans-115\"/>\n     </g>\n    </g>\n   </g>\n   <g id=\"line2d_15\">\n    <path clip-path=\"url(#pe85d0f3927)\" d=\"M 58.999432 25.831513 \nL 60.528897 17.083636 \nL 62.058363 22.490826 \nL 63.587828 32.250068 \nL 65.117294 45.510167 \nL 66.646759 66.82297 \nL 68.176225 71.814505 \nL 69.70569 89.560908 \nL 71.235156 103.506121 \nL 72.764621 118.549141 \nL 74.294087 125.831041 \nL 75.823552 134.007537 \nL 77.353018 140.810588 \nL 78.882483 144.684244 \nL 80.411949 150.321021 \nL 81.941414 154.484973 \nL 83.47088 157.143102 \nL 85.000345 159.547221 \nL 86.529811 160.824513 \nL 88.059276 164.309116 \nL 91.118208 167.950587 \nL 92.647673 169.220719 \nL 94.177139 173.090004 \nL 95.706604 173.776613 \nL 97.23607 175.833565 \nL 98.765535 176.775646 \nL 100.295001 176.781816 \nL 101.824466 179.6675 \nL 103.353932 181.510069 \nL 104.883397 181.14442 \nL 106.412863 183.247402 \nL 107.942328 182.906913 \nL 109.471794 184.366533 \nL 111.001259 184.6468 \nL 112.530725 188.021342 \nL 114.06019 187.237312 \nL 115.589656 187.5272 \nL 117.119121 189.164143 \nL 120.178052 187.280772 \nL 121.707518 190.692155 \nL 123.236983 189.988651 \nL 124.766449 192.144312 \nL 126.295914 191.867177 \nL 127.82538 192.488975 \nL 129.354845 193.544109 \nL 130.884311 192.029123 \nL 132.413776 193.31245 \nL 133.943242 194.847588 \nL 135.472707 194.491959 \nL 137.002173 195.20884 \nL 138.531638 194.72874 \nL 140.061104 197.374315 \nL 141.590569 196.6025 \nL 143.120035 196.822273 \nL 144.6495 197.223979 \nL 146.178966 197.459308 \nL 147.708431 197.169752 \nL 149.237897 197.400173 \nL 150.767362 199.005997 \nL 152.296828 197.379081 \nL 153.826293 198.481643 \nL 156.885224 198.666356 \nL 158.41469 200.283568 \nL 159.944155 198.363665 \nL 161.473621 200.474973 \nL 163.003086 200.430198 \nL 164.532552 200.25339 \nL 167.591483 200.725719 \nL 169.120948 200.157291 \nL 170.650414 201.563551 \nL 172.17988 202.725106 \nL 175.238811 201.429375 \nL 176.768276 202.699281 \nL 178.297742 202.565763 \nL 179.827207 202.021838 \nL 181.356673 202.909639 \nL 182.886138 203.445979 \nL 184.415604 203.488605 \nL 185.945069 200.239082 \nL 187.474535 203.612814 \nL 189.004 203.664586 \nL 190.533466 204.395566 \nL 192.062931 204.541305 \nL 193.592397 204.565396 \nL 195.121862 205.143994 \nL 196.651328 204.847105 \nL 198.180793 205.052557 \nL 199.710259 204.693195 \nL 201.239724 205.074061 \nL 202.76919 203.805022 \nL 204.298655 205.043288 \nL 205.828121 205.074802 \nL 207.357586 204.154557 \nL 208.887052 205.299042 \nL 210.416517 205.180911 \nL 213.475448 206.530344 \nL 215.004914 206.329939 \nL 216.534379 208.021066 \nL 218.063845 205.198752 \nL 219.59331 205.976535 \nL 221.122776 207.034545 \nL 222.652241 207.274086 \nL 224.181707 206.288671 \nL 225.711172 207.25108 \nL 227.240638 206.339255 \nL 228.770103 207.699428 \nL 230.299569 204.104558 \nL 231.829034 206.984649 \nL 233.3585 207.776182 \nL 234.887965 209.001587 \nL 236.417431 208.214121 \nL 237.946896 208.729392 \nL 239.476362 206.52763 \nL 241.005827 208.291868 \nL 242.535293 201.964496 \nL 244.064758 204.076239 \nL 245.594224 207.689083 \nL 247.123689 209.321077 \nL 248.653155 209.348103 \nL 251.712086 209.837946 \nL 253.241552 208.614273 \nL 254.771017 209.111669 \nL 256.300483 210.033216 \nL 257.829948 209.511167 \nL 259.359414 209.337975 \nL 260.888879 209.831423 \nL 262.418345 209.731618 \nL 263.94781 210.266978 \nL 265.477276 209.779274 \nL 267.006741 210.79038 \nL 268.536207 205.667916 \nL 270.065672 209.331806 \nL 271.595138 209.516173 \nL 273.124603 210.979976 \nL 274.654069 209.209555 \nL 276.183534 210.771915 \nL 277.713 210.343358 \nL 279.242465 208.63117 \nL 280.771931 210.4625 \nL 282.301396 210.546995 \nL 283.830862 211.271527 \nL 285.360327 211.435396 \nL 286.889793 211.731518 \nL 288.419258 211.242837 \nL 289.948724 211.066783 \nL 291.478189 211.749111 \nL 293.007655 211.042615 \nL 294.53712 212.095445 \nL 296.066586 212.479546 \nL 297.596051 212.053242 \nL 299.125517 211.440147 \nL 302.184448 212.112304 \nL 305.243379 212.018301 \nL 306.772844 210.214881 \nL 308.30231 212.274022 \nL 309.831775 213.109002 \nL 311.361241 212.892025 \nL 312.890706 213.428747 \nL 314.420172 212.342006 \nL 315.949637 212.985444 \nL 317.479103 213.276043 \nL 319.008568 212.773142 \nL 320.538034 212.600347 \nL 322.067499 212.855727 \nL 323.596965 212.950533 \nL 325.12643 213.381337 \nL 326.655896 212.860063 \nL 328.185361 213.496441 \nL 329.714827 213.802297 \nL 331.244292 213.370112 \nL 332.773758 214.046676 \nL 334.303224 212.357223 \nL 335.832689 213.777794 \nL 337.362155 214.756364 \nL 338.89162 213.68285 \nL 340.421086 213.041343 \nL 341.950551 213.668394 \nL 343.480017 213.753762 \nL 345.009482 212.863188 \nL 349.597879 214.616368 \nL 351.127344 214.698399 \nL 352.65681 214.389242 \nL 354.186275 213.353063 \nL 355.715741 211.216895 \nL 357.245206 213.077764 \nL 358.774672 212.546975 \nL 360.304137 213.395908 \nL 361.833603 213.645037 \nL 363.363068 211.438783 \nL 363.363068 211.438783 \n\" style=\"fill:none;stroke:#1f77b4;stroke-linecap:square;stroke-width:1.5;\"/>\n   </g>\n   <g id=\"patch_3\">\n    <path d=\"M 43.78125 224.64 \nL 43.78125 7.2 \n\" style=\"fill:none;stroke:#000000;stroke-linecap:square;stroke-linejoin:miter;stroke-width:0.8;\"/>\n   </g>\n   <g id=\"patch_4\">\n    <path d=\"M 378.58125 224.64 \nL 378.58125 7.2 \n\" style=\"fill:none;stroke:#000000;stroke-linecap:square;stroke-linejoin:miter;stroke-width:0.8;\"/>\n   </g>\n   <g id=\"patch_5\">\n    <path d=\"M 43.78125 224.64 \nL 378.58125 224.64 \n\" style=\"fill:none;stroke:#000000;stroke-linecap:square;stroke-linejoin:miter;stroke-width:0.8;\"/>\n   </g>\n   <g id=\"patch_6\">\n    <path d=\"M 43.78125 7.2 \nL 378.58125 7.2 \n\" style=\"fill:none;stroke:#000000;stroke-linecap:square;stroke-linejoin:miter;stroke-width:0.8;\"/>\n   </g>\n  </g>\n </g>\n <defs>\n  <clipPath id=\"pe85d0f3927\">\n   <rect height=\"217.44\" width=\"334.8\" x=\"43.78125\" y=\"7.2\"/>\n  </clipPath>\n </defs>\n</svg>\n"
          },
          "metadata": {
            "needs_background": "light"
          }
        }
      ]
    },
    {
      "cell_type": "code",
      "source": [
        "X,y = next(iter(test_loader))\n",
        "with torch.no_grad():\n",
        "    yHat = net(X)\n",
        "yHat"
      ],
      "metadata": {
        "colab": {
          "base_uri": "https://localhost:8080/"
        },
        "id": "2PBlEoz6hEt1",
        "outputId": "b42b65ae-6c40-4280-96a4-a5dd718dbff4"
      },
      "execution_count": 18,
      "outputs": [
        {
          "output_type": "execute_result",
          "data": {
            "text/plain": [
              "tensor([[-0.1695],\n",
              "        [ 3.2325],\n",
              "        [ 0.9975],\n",
              "        [ 2.5058],\n",
              "        [ 1.5510],\n",
              "        [-0.5898],\n",
              "        [ 0.5802],\n",
              "        [-0.5459],\n",
              "        [ 0.0041],\n",
              "        [ 0.4252]])"
            ]
          },
          "metadata": {},
          "execution_count": 18
        }
      ]
    },
    {
      "cell_type": "code",
      "source": [
        "real_labels = original_data.iloc[list(vals2nan)][\"residual sugar\"].sort_index()\n",
        "real_labels"
      ],
      "metadata": {
        "colab": {
          "base_uri": "https://localhost:8080/"
        },
        "id": "-oCPoZaWpEs6",
        "outputId": "f67ded9c-1c58-43f3-b3af-2c7b6ff1f687"
      },
      "execution_count": 19,
      "outputs": [
        {
          "output_type": "execute_result",
          "data": {
            "text/plain": [
              "2      -0.165899\n",
              "570     0.550447\n",
              "809     0.192274\n",
              "824     0.192274\n",
              "899     0.622082\n",
              "926    -0.165899\n",
              "994    -0.022630\n",
              "1075   -0.380803\n",
              "1186    3.774003\n",
              "1373    0.908620\n",
              "Name: residual sugar, dtype: float64"
            ]
          },
          "metadata": {},
          "execution_count": 19
        }
      ]
    },
    {
      "cell_type": "code",
      "source": [
        "corrTest = np.corrcoef(yHat.detach().T, real_labels.T)[1,0]\n",
        "plt.plot(yHat.detach(), real_labels, \"ro\")\n",
        "plt.xlabel(\"Model Predicted Sugar\")\n",
        "plt.ylabel(\"Real Sugar Values\")\n",
        "plt.title(f\"Correlation: {corrTest:.3f}\")\n",
        "plt.show()"
      ],
      "metadata": {
        "colab": {
          "base_uri": "https://localhost:8080/",
          "height": 391
        },
        "id": "ZsZfqFGGi6gF",
        "outputId": "c0d04997-cb8f-4421-ad35-ab662289bcef"
      },
      "execution_count": 20,
      "outputs": [
        {
          "output_type": "display_data",
          "data": {
            "text/plain": [
              "<Figure size 432x288 with 1 Axes>"
            ],
            "image/svg+xml": "<?xml version=\"1.0\" encoding=\"utf-8\" standalone=\"no\"?>\n<!DOCTYPE svg PUBLIC \"-//W3C//DTD SVG 1.1//EN\"\n  \"http://www.w3.org/Graphics/SVG/1.1/DTD/svg11.dtd\">\n<!-- Created with matplotlib (https://matplotlib.org/) -->\n<svg height=\"277.314375pt\" version=\"1.1\" viewBox=\"0 0 376.240625 277.314375\" width=\"376.240625pt\" xmlns=\"http://www.w3.org/2000/svg\" xmlns:xlink=\"http://www.w3.org/1999/xlink\">\n <defs>\n  <style type=\"text/css\">\n*{stroke-linecap:butt;stroke-linejoin:round;}\n  </style>\n </defs>\n <g id=\"figure_1\">\n  <g id=\"patch_1\">\n   <path d=\"M 0 277.314375 \nL 376.240625 277.314375 \nL 376.240625 0 \nL 0 0 \nz\n\" style=\"fill:none;\"/>\n  </g>\n  <g id=\"axes_1\">\n   <g id=\"patch_2\">\n    <path d=\"M 34.240625 239.758125 \nL 369.040625 239.758125 \nL 369.040625 22.318125 \nL 34.240625 22.318125 \nz\n\" style=\"fill:#ffffff;\"/>\n   </g>\n   <g id=\"matplotlib.axis_1\">\n    <g id=\"xtick_1\">\n     <g id=\"line2d_1\">\n      <defs>\n       <path d=\"M 0 0 \nL 0 3.5 \n\" id=\"m7916d40c17\" style=\"stroke:#000000;stroke-width:0.8;\"/>\n      </defs>\n      <g>\n       <use style=\"stroke:#000000;stroke-width:0.8;\" x=\"56.609144\" xlink:href=\"#m7916d40c17\" y=\"239.758125\"/>\n      </g>\n     </g>\n     <g id=\"text_1\">\n      <!-- −0.5 -->\n      <defs>\n       <path d=\"M 10.59375 35.5 \nL 73.1875 35.5 \nL 73.1875 27.203125 \nL 10.59375 27.203125 \nz\n\" id=\"DejaVuSans-8722\"/>\n       <path d=\"M 31.78125 66.40625 \nQ 24.171875 66.40625 20.328125 58.90625 \nQ 16.5 51.421875 16.5 36.375 \nQ 16.5 21.390625 20.328125 13.890625 \nQ 24.171875 6.390625 31.78125 6.390625 \nQ 39.453125 6.390625 43.28125 13.890625 \nQ 47.125 21.390625 47.125 36.375 \nQ 47.125 51.421875 43.28125 58.90625 \nQ 39.453125 66.40625 31.78125 66.40625 \nz\nM 31.78125 74.21875 \nQ 44.046875 74.21875 50.515625 64.515625 \nQ 56.984375 54.828125 56.984375 36.375 \nQ 56.984375 17.96875 50.515625 8.265625 \nQ 44.046875 -1.421875 31.78125 -1.421875 \nQ 19.53125 -1.421875 13.0625 8.265625 \nQ 6.59375 17.96875 6.59375 36.375 \nQ 6.59375 54.828125 13.0625 64.515625 \nQ 19.53125 74.21875 31.78125 74.21875 \nz\n\" id=\"DejaVuSans-48\"/>\n       <path d=\"M 10.6875 12.40625 \nL 21 12.40625 \nL 21 0 \nL 10.6875 0 \nz\n\" id=\"DejaVuSans-46\"/>\n       <path d=\"M 10.796875 72.90625 \nL 49.515625 72.90625 \nL 49.515625 64.59375 \nL 19.828125 64.59375 \nL 19.828125 46.734375 \nQ 21.96875 47.46875 24.109375 47.828125 \nQ 26.265625 48.1875 28.421875 48.1875 \nQ 40.625 48.1875 47.75 41.5 \nQ 54.890625 34.8125 54.890625 23.390625 \nQ 54.890625 11.625 47.5625 5.09375 \nQ 40.234375 -1.421875 26.90625 -1.421875 \nQ 22.3125 -1.421875 17.546875 -0.640625 \nQ 12.796875 0.140625 7.71875 1.703125 \nL 7.71875 11.625 \nQ 12.109375 9.234375 16.796875 8.0625 \nQ 21.484375 6.890625 26.703125 6.890625 \nQ 35.15625 6.890625 40.078125 11.328125 \nQ 45.015625 15.765625 45.015625 23.390625 \nQ 45.015625 31 40.078125 35.4375 \nQ 35.15625 39.890625 26.703125 39.890625 \nQ 22.75 39.890625 18.8125 39.015625 \nQ 14.890625 38.140625 10.796875 36.28125 \nz\n\" id=\"DejaVuSans-53\"/>\n      </defs>\n      <g transform=\"translate(44.467738 254.356562)scale(0.1 -0.1)\">\n       <use xlink:href=\"#DejaVuSans-8722\"/>\n       <use x=\"83.789062\" xlink:href=\"#DejaVuSans-48\"/>\n       <use x=\"147.412109\" xlink:href=\"#DejaVuSans-46\"/>\n       <use x=\"179.199219\" xlink:href=\"#DejaVuSans-53\"/>\n      </g>\n     </g>\n    </g>\n    <g id=\"xtick_2\">\n     <g id=\"line2d_2\">\n      <g>\n       <use style=\"stroke:#000000;stroke-width:0.8;\" x=\"96.423882\" xlink:href=\"#m7916d40c17\" y=\"239.758125\"/>\n      </g>\n     </g>\n     <g id=\"text_2\">\n      <!-- 0.0 -->\n      <g transform=\"translate(88.472319 254.356562)scale(0.1 -0.1)\">\n       <use xlink:href=\"#DejaVuSans-48\"/>\n       <use x=\"63.623047\" xlink:href=\"#DejaVuSans-46\"/>\n       <use x=\"95.410156\" xlink:href=\"#DejaVuSans-48\"/>\n      </g>\n     </g>\n    </g>\n    <g id=\"xtick_3\">\n     <g id=\"line2d_3\">\n      <g>\n       <use style=\"stroke:#000000;stroke-width:0.8;\" x=\"136.238619\" xlink:href=\"#m7916d40c17\" y=\"239.758125\"/>\n      </g>\n     </g>\n     <g id=\"text_3\">\n      <!-- 0.5 -->\n      <g transform=\"translate(128.287056 254.356562)scale(0.1 -0.1)\">\n       <use xlink:href=\"#DejaVuSans-48\"/>\n       <use x=\"63.623047\" xlink:href=\"#DejaVuSans-46\"/>\n       <use x=\"95.410156\" xlink:href=\"#DejaVuSans-53\"/>\n      </g>\n     </g>\n    </g>\n    <g id=\"xtick_4\">\n     <g id=\"line2d_4\">\n      <g>\n       <use style=\"stroke:#000000;stroke-width:0.8;\" x=\"176.053356\" xlink:href=\"#m7916d40c17\" y=\"239.758125\"/>\n      </g>\n     </g>\n     <g id=\"text_4\">\n      <!-- 1.0 -->\n      <defs>\n       <path d=\"M 12.40625 8.296875 \nL 28.515625 8.296875 \nL 28.515625 63.921875 \nL 10.984375 60.40625 \nL 10.984375 69.390625 \nL 28.421875 72.90625 \nL 38.28125 72.90625 \nL 38.28125 8.296875 \nL 54.390625 8.296875 \nL 54.390625 0 \nL 12.40625 0 \nz\n\" id=\"DejaVuSans-49\"/>\n      </defs>\n      <g transform=\"translate(168.101794 254.356562)scale(0.1 -0.1)\">\n       <use xlink:href=\"#DejaVuSans-49\"/>\n       <use x=\"63.623047\" xlink:href=\"#DejaVuSans-46\"/>\n       <use x=\"95.410156\" xlink:href=\"#DejaVuSans-48\"/>\n      </g>\n     </g>\n    </g>\n    <g id=\"xtick_5\">\n     <g id=\"line2d_5\">\n      <g>\n       <use style=\"stroke:#000000;stroke-width:0.8;\" x=\"215.868094\" xlink:href=\"#m7916d40c17\" y=\"239.758125\"/>\n      </g>\n     </g>\n     <g id=\"text_5\">\n      <!-- 1.5 -->\n      <g transform=\"translate(207.916531 254.356562)scale(0.1 -0.1)\">\n       <use xlink:href=\"#DejaVuSans-49\"/>\n       <use x=\"63.623047\" xlink:href=\"#DejaVuSans-46\"/>\n       <use x=\"95.410156\" xlink:href=\"#DejaVuSans-53\"/>\n      </g>\n     </g>\n    </g>\n    <g id=\"xtick_6\">\n     <g id=\"line2d_6\">\n      <g>\n       <use style=\"stroke:#000000;stroke-width:0.8;\" x=\"255.682831\" xlink:href=\"#m7916d40c17\" y=\"239.758125\"/>\n      </g>\n     </g>\n     <g id=\"text_6\">\n      <!-- 2.0 -->\n      <defs>\n       <path d=\"M 19.1875 8.296875 \nL 53.609375 8.296875 \nL 53.609375 0 \nL 7.328125 0 \nL 7.328125 8.296875 \nQ 12.9375 14.109375 22.625 23.890625 \nQ 32.328125 33.6875 34.8125 36.53125 \nQ 39.546875 41.84375 41.421875 45.53125 \nQ 43.3125 49.21875 43.3125 52.78125 \nQ 43.3125 58.59375 39.234375 62.25 \nQ 35.15625 65.921875 28.609375 65.921875 \nQ 23.96875 65.921875 18.8125 64.3125 \nQ 13.671875 62.703125 7.8125 59.421875 \nL 7.8125 69.390625 \nQ 13.765625 71.78125 18.9375 73 \nQ 24.125 74.21875 28.421875 74.21875 \nQ 39.75 74.21875 46.484375 68.546875 \nQ 53.21875 62.890625 53.21875 53.421875 \nQ 53.21875 48.921875 51.53125 44.890625 \nQ 49.859375 40.875 45.40625 35.40625 \nQ 44.1875 33.984375 37.640625 27.21875 \nQ 31.109375 20.453125 19.1875 8.296875 \nz\n\" id=\"DejaVuSans-50\"/>\n      </defs>\n      <g transform=\"translate(247.731268 254.356562)scale(0.1 -0.1)\">\n       <use xlink:href=\"#DejaVuSans-50\"/>\n       <use x=\"63.623047\" xlink:href=\"#DejaVuSans-46\"/>\n       <use x=\"95.410156\" xlink:href=\"#DejaVuSans-48\"/>\n      </g>\n     </g>\n    </g>\n    <g id=\"xtick_7\">\n     <g id=\"line2d_7\">\n      <g>\n       <use style=\"stroke:#000000;stroke-width:0.8;\" x=\"295.497568\" xlink:href=\"#m7916d40c17\" y=\"239.758125\"/>\n      </g>\n     </g>\n     <g id=\"text_7\">\n      <!-- 2.5 -->\n      <g transform=\"translate(287.546006 254.356562)scale(0.1 -0.1)\">\n       <use xlink:href=\"#DejaVuSans-50\"/>\n       <use x=\"63.623047\" xlink:href=\"#DejaVuSans-46\"/>\n       <use x=\"95.410156\" xlink:href=\"#DejaVuSans-53\"/>\n      </g>\n     </g>\n    </g>\n    <g id=\"xtick_8\">\n     <g id=\"line2d_8\">\n      <g>\n       <use style=\"stroke:#000000;stroke-width:0.8;\" x=\"335.312305\" xlink:href=\"#m7916d40c17\" y=\"239.758125\"/>\n      </g>\n     </g>\n     <g id=\"text_8\">\n      <!-- 3.0 -->\n      <defs>\n       <path d=\"M 40.578125 39.3125 \nQ 47.65625 37.796875 51.625 33 \nQ 55.609375 28.21875 55.609375 21.1875 \nQ 55.609375 10.40625 48.1875 4.484375 \nQ 40.765625 -1.421875 27.09375 -1.421875 \nQ 22.515625 -1.421875 17.65625 -0.515625 \nQ 12.796875 0.390625 7.625 2.203125 \nL 7.625 11.71875 \nQ 11.71875 9.328125 16.59375 8.109375 \nQ 21.484375 6.890625 26.8125 6.890625 \nQ 36.078125 6.890625 40.9375 10.546875 \nQ 45.796875 14.203125 45.796875 21.1875 \nQ 45.796875 27.640625 41.28125 31.265625 \nQ 36.765625 34.90625 28.71875 34.90625 \nL 20.21875 34.90625 \nL 20.21875 43.015625 \nL 29.109375 43.015625 \nQ 36.375 43.015625 40.234375 45.921875 \nQ 44.09375 48.828125 44.09375 54.296875 \nQ 44.09375 59.90625 40.109375 62.90625 \nQ 36.140625 65.921875 28.71875 65.921875 \nQ 24.65625 65.921875 20.015625 65.03125 \nQ 15.375 64.15625 9.8125 62.3125 \nL 9.8125 71.09375 \nQ 15.4375 72.65625 20.34375 73.4375 \nQ 25.25 74.21875 29.59375 74.21875 \nQ 40.828125 74.21875 47.359375 69.109375 \nQ 53.90625 64.015625 53.90625 55.328125 \nQ 53.90625 49.265625 50.4375 45.09375 \nQ 46.96875 40.921875 40.578125 39.3125 \nz\n\" id=\"DejaVuSans-51\"/>\n      </defs>\n      <g transform=\"translate(327.360743 254.356562)scale(0.1 -0.1)\">\n       <use xlink:href=\"#DejaVuSans-51\"/>\n       <use x=\"63.623047\" xlink:href=\"#DejaVuSans-46\"/>\n       <use x=\"95.410156\" xlink:href=\"#DejaVuSans-48\"/>\n      </g>\n     </g>\n    </g>\n    <g id=\"text_9\">\n     <!-- Model Predicted Sugar -->\n     <defs>\n      <path d=\"M 9.8125 72.90625 \nL 24.515625 72.90625 \nL 43.109375 23.296875 \nL 61.8125 72.90625 \nL 76.515625 72.90625 \nL 76.515625 0 \nL 66.890625 0 \nL 66.890625 64.015625 \nL 48.09375 14.015625 \nL 38.1875 14.015625 \nL 19.390625 64.015625 \nL 19.390625 0 \nL 9.8125 0 \nz\n\" id=\"DejaVuSans-77\"/>\n      <path d=\"M 30.609375 48.390625 \nQ 23.390625 48.390625 19.1875 42.75 \nQ 14.984375 37.109375 14.984375 27.296875 \nQ 14.984375 17.484375 19.15625 11.84375 \nQ 23.34375 6.203125 30.609375 6.203125 \nQ 37.796875 6.203125 41.984375 11.859375 \nQ 46.1875 17.53125 46.1875 27.296875 \nQ 46.1875 37.015625 41.984375 42.703125 \nQ 37.796875 48.390625 30.609375 48.390625 \nz\nM 30.609375 56 \nQ 42.328125 56 49.015625 48.375 \nQ 55.71875 40.765625 55.71875 27.296875 \nQ 55.71875 13.875 49.015625 6.21875 \nQ 42.328125 -1.421875 30.609375 -1.421875 \nQ 18.84375 -1.421875 12.171875 6.21875 \nQ 5.515625 13.875 5.515625 27.296875 \nQ 5.515625 40.765625 12.171875 48.375 \nQ 18.84375 56 30.609375 56 \nz\n\" id=\"DejaVuSans-111\"/>\n      <path d=\"M 45.40625 46.390625 \nL 45.40625 75.984375 \nL 54.390625 75.984375 \nL 54.390625 0 \nL 45.40625 0 \nL 45.40625 8.203125 \nQ 42.578125 3.328125 38.25 0.953125 \nQ 33.9375 -1.421875 27.875 -1.421875 \nQ 17.96875 -1.421875 11.734375 6.484375 \nQ 5.515625 14.40625 5.515625 27.296875 \nQ 5.515625 40.1875 11.734375 48.09375 \nQ 17.96875 56 27.875 56 \nQ 33.9375 56 38.25 53.625 \nQ 42.578125 51.265625 45.40625 46.390625 \nz\nM 14.796875 27.296875 \nQ 14.796875 17.390625 18.875 11.75 \nQ 22.953125 6.109375 30.078125 6.109375 \nQ 37.203125 6.109375 41.296875 11.75 \nQ 45.40625 17.390625 45.40625 27.296875 \nQ 45.40625 37.203125 41.296875 42.84375 \nQ 37.203125 48.484375 30.078125 48.484375 \nQ 22.953125 48.484375 18.875 42.84375 \nQ 14.796875 37.203125 14.796875 27.296875 \nz\n\" id=\"DejaVuSans-100\"/>\n      <path d=\"M 56.203125 29.59375 \nL 56.203125 25.203125 \nL 14.890625 25.203125 \nQ 15.484375 15.921875 20.484375 11.0625 \nQ 25.484375 6.203125 34.421875 6.203125 \nQ 39.59375 6.203125 44.453125 7.46875 \nQ 49.3125 8.734375 54.109375 11.28125 \nL 54.109375 2.78125 \nQ 49.265625 0.734375 44.1875 -0.34375 \nQ 39.109375 -1.421875 33.890625 -1.421875 \nQ 20.796875 -1.421875 13.15625 6.1875 \nQ 5.515625 13.8125 5.515625 26.8125 \nQ 5.515625 40.234375 12.765625 48.109375 \nQ 20.015625 56 32.328125 56 \nQ 43.359375 56 49.78125 48.890625 \nQ 56.203125 41.796875 56.203125 29.59375 \nz\nM 47.21875 32.234375 \nQ 47.125 39.59375 43.09375 43.984375 \nQ 39.0625 48.390625 32.421875 48.390625 \nQ 24.90625 48.390625 20.390625 44.140625 \nQ 15.875 39.890625 15.1875 32.171875 \nz\n\" id=\"DejaVuSans-101\"/>\n      <path d=\"M 9.421875 75.984375 \nL 18.40625 75.984375 \nL 18.40625 0 \nL 9.421875 0 \nz\n\" id=\"DejaVuSans-108\"/>\n      <path id=\"DejaVuSans-32\"/>\n      <path d=\"M 19.671875 64.796875 \nL 19.671875 37.40625 \nL 32.078125 37.40625 \nQ 38.96875 37.40625 42.71875 40.96875 \nQ 46.484375 44.53125 46.484375 51.125 \nQ 46.484375 57.671875 42.71875 61.234375 \nQ 38.96875 64.796875 32.078125 64.796875 \nz\nM 9.8125 72.90625 \nL 32.078125 72.90625 \nQ 44.34375 72.90625 50.609375 67.359375 \nQ 56.890625 61.8125 56.890625 51.125 \nQ 56.890625 40.328125 50.609375 34.8125 \nQ 44.34375 29.296875 32.078125 29.296875 \nL 19.671875 29.296875 \nL 19.671875 0 \nL 9.8125 0 \nz\n\" id=\"DejaVuSans-80\"/>\n      <path d=\"M 41.109375 46.296875 \nQ 39.59375 47.171875 37.8125 47.578125 \nQ 36.03125 48 33.890625 48 \nQ 26.265625 48 22.1875 43.046875 \nQ 18.109375 38.09375 18.109375 28.8125 \nL 18.109375 0 \nL 9.078125 0 \nL 9.078125 54.6875 \nL 18.109375 54.6875 \nL 18.109375 46.1875 \nQ 20.953125 51.171875 25.484375 53.578125 \nQ 30.03125 56 36.53125 56 \nQ 37.453125 56 38.578125 55.875 \nQ 39.703125 55.765625 41.0625 55.515625 \nz\n\" id=\"DejaVuSans-114\"/>\n      <path d=\"M 9.421875 54.6875 \nL 18.40625 54.6875 \nL 18.40625 0 \nL 9.421875 0 \nz\nM 9.421875 75.984375 \nL 18.40625 75.984375 \nL 18.40625 64.59375 \nL 9.421875 64.59375 \nz\n\" id=\"DejaVuSans-105\"/>\n      <path d=\"M 48.78125 52.59375 \nL 48.78125 44.1875 \nQ 44.96875 46.296875 41.140625 47.34375 \nQ 37.3125 48.390625 33.40625 48.390625 \nQ 24.65625 48.390625 19.8125 42.84375 \nQ 14.984375 37.3125 14.984375 27.296875 \nQ 14.984375 17.28125 19.8125 11.734375 \nQ 24.65625 6.203125 33.40625 6.203125 \nQ 37.3125 6.203125 41.140625 7.25 \nQ 44.96875 8.296875 48.78125 10.40625 \nL 48.78125 2.09375 \nQ 45.015625 0.34375 40.984375 -0.53125 \nQ 36.96875 -1.421875 32.421875 -1.421875 \nQ 20.0625 -1.421875 12.78125 6.34375 \nQ 5.515625 14.109375 5.515625 27.296875 \nQ 5.515625 40.671875 12.859375 48.328125 \nQ 20.21875 56 33.015625 56 \nQ 37.15625 56 41.109375 55.140625 \nQ 45.0625 54.296875 48.78125 52.59375 \nz\n\" id=\"DejaVuSans-99\"/>\n      <path d=\"M 18.3125 70.21875 \nL 18.3125 54.6875 \nL 36.8125 54.6875 \nL 36.8125 47.703125 \nL 18.3125 47.703125 \nL 18.3125 18.015625 \nQ 18.3125 11.328125 20.140625 9.421875 \nQ 21.96875 7.515625 27.59375 7.515625 \nL 36.8125 7.515625 \nL 36.8125 0 \nL 27.59375 0 \nQ 17.1875 0 13.234375 3.875 \nQ 9.28125 7.765625 9.28125 18.015625 \nL 9.28125 47.703125 \nL 2.6875 47.703125 \nL 2.6875 54.6875 \nL 9.28125 54.6875 \nL 9.28125 70.21875 \nz\n\" id=\"DejaVuSans-116\"/>\n      <path d=\"M 53.515625 70.515625 \nL 53.515625 60.890625 \nQ 47.90625 63.578125 42.921875 64.890625 \nQ 37.9375 66.21875 33.296875 66.21875 \nQ 25.25 66.21875 20.875 63.09375 \nQ 16.5 59.96875 16.5 54.203125 \nQ 16.5 49.359375 19.40625 46.890625 \nQ 22.3125 44.4375 30.421875 42.921875 \nL 36.375 41.703125 \nQ 47.40625 39.59375 52.65625 34.296875 \nQ 57.90625 29 57.90625 20.125 \nQ 57.90625 9.515625 50.796875 4.046875 \nQ 43.703125 -1.421875 29.984375 -1.421875 \nQ 24.8125 -1.421875 18.96875 -0.25 \nQ 13.140625 0.921875 6.890625 3.21875 \nL 6.890625 13.375 \nQ 12.890625 10.015625 18.65625 8.296875 \nQ 24.421875 6.59375 29.984375 6.59375 \nQ 38.421875 6.59375 43.015625 9.90625 \nQ 47.609375 13.234375 47.609375 19.390625 \nQ 47.609375 24.75 44.3125 27.78125 \nQ 41.015625 30.8125 33.5 32.328125 \nL 27.484375 33.5 \nQ 16.453125 35.6875 11.515625 40.375 \nQ 6.59375 45.0625 6.59375 53.421875 \nQ 6.59375 63.09375 13.40625 68.65625 \nQ 20.21875 74.21875 32.171875 74.21875 \nQ 37.3125 74.21875 42.625 73.28125 \nQ 47.953125 72.359375 53.515625 70.515625 \nz\n\" id=\"DejaVuSans-83\"/>\n      <path d=\"M 8.5 21.578125 \nL 8.5 54.6875 \nL 17.484375 54.6875 \nL 17.484375 21.921875 \nQ 17.484375 14.15625 20.5 10.265625 \nQ 23.53125 6.390625 29.59375 6.390625 \nQ 36.859375 6.390625 41.078125 11.03125 \nQ 45.3125 15.671875 45.3125 23.6875 \nL 45.3125 54.6875 \nL 54.296875 54.6875 \nL 54.296875 0 \nL 45.3125 0 \nL 45.3125 8.40625 \nQ 42.046875 3.421875 37.71875 1 \nQ 33.40625 -1.421875 27.6875 -1.421875 \nQ 18.265625 -1.421875 13.375 4.4375 \nQ 8.5 10.296875 8.5 21.578125 \nz\nM 31.109375 56 \nz\n\" id=\"DejaVuSans-117\"/>\n      <path d=\"M 45.40625 27.984375 \nQ 45.40625 37.75 41.375 43.109375 \nQ 37.359375 48.484375 30.078125 48.484375 \nQ 22.859375 48.484375 18.828125 43.109375 \nQ 14.796875 37.75 14.796875 27.984375 \nQ 14.796875 18.265625 18.828125 12.890625 \nQ 22.859375 7.515625 30.078125 7.515625 \nQ 37.359375 7.515625 41.375 12.890625 \nQ 45.40625 18.265625 45.40625 27.984375 \nz\nM 54.390625 6.78125 \nQ 54.390625 -7.171875 48.1875 -13.984375 \nQ 42 -20.796875 29.203125 -20.796875 \nQ 24.46875 -20.796875 20.265625 -20.09375 \nQ 16.0625 -19.390625 12.109375 -17.921875 \nL 12.109375 -9.1875 \nQ 16.0625 -11.328125 19.921875 -12.34375 \nQ 23.78125 -13.375 27.78125 -13.375 \nQ 36.625 -13.375 41.015625 -8.765625 \nQ 45.40625 -4.15625 45.40625 5.171875 \nL 45.40625 9.625 \nQ 42.625 4.78125 38.28125 2.390625 \nQ 33.9375 0 27.875 0 \nQ 17.828125 0 11.671875 7.65625 \nQ 5.515625 15.328125 5.515625 27.984375 \nQ 5.515625 40.671875 11.671875 48.328125 \nQ 17.828125 56 27.875 56 \nQ 33.9375 56 38.28125 53.609375 \nQ 42.625 51.21875 45.40625 46.390625 \nL 45.40625 54.6875 \nL 54.390625 54.6875 \nz\n\" id=\"DejaVuSans-103\"/>\n      <path d=\"M 34.28125 27.484375 \nQ 23.390625 27.484375 19.1875 25 \nQ 14.984375 22.515625 14.984375 16.5 \nQ 14.984375 11.71875 18.140625 8.90625 \nQ 21.296875 6.109375 26.703125 6.109375 \nQ 34.1875 6.109375 38.703125 11.40625 \nQ 43.21875 16.703125 43.21875 25.484375 \nL 43.21875 27.484375 \nz\nM 52.203125 31.203125 \nL 52.203125 0 \nL 43.21875 0 \nL 43.21875 8.296875 \nQ 40.140625 3.328125 35.546875 0.953125 \nQ 30.953125 -1.421875 24.3125 -1.421875 \nQ 15.921875 -1.421875 10.953125 3.296875 \nQ 6 8.015625 6 15.921875 \nQ 6 25.140625 12.171875 29.828125 \nQ 18.359375 34.515625 30.609375 34.515625 \nL 43.21875 34.515625 \nL 43.21875 35.40625 \nQ 43.21875 41.609375 39.140625 45 \nQ 35.0625 48.390625 27.6875 48.390625 \nQ 23 48.390625 18.546875 47.265625 \nQ 14.109375 46.140625 10.015625 43.890625 \nL 10.015625 52.203125 \nQ 14.9375 54.109375 19.578125 55.046875 \nQ 24.21875 56 28.609375 56 \nQ 40.484375 56 46.34375 49.84375 \nQ 52.203125 43.703125 52.203125 31.203125 \nz\n\" id=\"DejaVuSans-97\"/>\n     </defs>\n     <g transform=\"translate(145.342187 268.034687)scale(0.1 -0.1)\">\n      <use xlink:href=\"#DejaVuSans-77\"/>\n      <use x=\"86.279297\" xlink:href=\"#DejaVuSans-111\"/>\n      <use x=\"147.460938\" xlink:href=\"#DejaVuSans-100\"/>\n      <use x=\"210.9375\" xlink:href=\"#DejaVuSans-101\"/>\n      <use x=\"272.460938\" xlink:href=\"#DejaVuSans-108\"/>\n      <use x=\"300.244141\" xlink:href=\"#DejaVuSans-32\"/>\n      <use x=\"332.03125\" xlink:href=\"#DejaVuSans-80\"/>\n      <use x=\"390.583984\" xlink:href=\"#DejaVuSans-114\"/>\n      <use x=\"429.447266\" xlink:href=\"#DejaVuSans-101\"/>\n      <use x=\"490.970703\" xlink:href=\"#DejaVuSans-100\"/>\n      <use x=\"554.447266\" xlink:href=\"#DejaVuSans-105\"/>\n      <use x=\"582.230469\" xlink:href=\"#DejaVuSans-99\"/>\n      <use x=\"637.210938\" xlink:href=\"#DejaVuSans-116\"/>\n      <use x=\"676.419922\" xlink:href=\"#DejaVuSans-101\"/>\n      <use x=\"737.943359\" xlink:href=\"#DejaVuSans-100\"/>\n      <use x=\"801.419922\" xlink:href=\"#DejaVuSans-32\"/>\n      <use x=\"833.207031\" xlink:href=\"#DejaVuSans-83\"/>\n      <use x=\"896.683594\" xlink:href=\"#DejaVuSans-117\"/>\n      <use x=\"960.0625\" xlink:href=\"#DejaVuSans-103\"/>\n      <use x=\"1023.539062\" xlink:href=\"#DejaVuSans-97\"/>\n      <use x=\"1084.818359\" xlink:href=\"#DejaVuSans-114\"/>\n     </g>\n    </g>\n   </g>\n   <g id=\"matplotlib.axis_2\">\n    <g id=\"ytick_1\">\n     <g id=\"line2d_9\">\n      <defs>\n       <path d=\"M 0 0 \nL -3.5 0 \n\" id=\"mc52a7b543e\" style=\"stroke:#000000;stroke-width:0.8;\"/>\n      </defs>\n      <g>\n       <use style=\"stroke:#000000;stroke-width:0.8;\" x=\"34.240625\" xlink:href=\"#mc52a7b543e\" y=\"211.757085\"/>\n      </g>\n     </g>\n     <g id=\"text_10\">\n      <!-- 0 -->\n      <g transform=\"translate(20.878125 215.556304)scale(0.1 -0.1)\">\n       <use xlink:href=\"#DejaVuSans-48\"/>\n      </g>\n     </g>\n    </g>\n    <g id=\"ytick_2\">\n     <g id=\"line2d_10\">\n      <g>\n       <use style=\"stroke:#000000;stroke-width:0.8;\" x=\"34.240625\" xlink:href=\"#mc52a7b543e\" y=\"164.180196\"/>\n      </g>\n     </g>\n     <g id=\"text_11\">\n      <!-- 1 -->\n      <g transform=\"translate(20.878125 167.979415)scale(0.1 -0.1)\">\n       <use xlink:href=\"#DejaVuSans-49\"/>\n      </g>\n     </g>\n    </g>\n    <g id=\"ytick_3\">\n     <g id=\"line2d_11\">\n      <g>\n       <use style=\"stroke:#000000;stroke-width:0.8;\" x=\"34.240625\" xlink:href=\"#mc52a7b543e\" y=\"116.603307\"/>\n      </g>\n     </g>\n     <g id=\"text_12\">\n      <!-- 2 -->\n      <g transform=\"translate(20.878125 120.402526)scale(0.1 -0.1)\">\n       <use xlink:href=\"#DejaVuSans-50\"/>\n      </g>\n     </g>\n    </g>\n    <g id=\"ytick_4\">\n     <g id=\"line2d_12\">\n      <g>\n       <use style=\"stroke:#000000;stroke-width:0.8;\" x=\"34.240625\" xlink:href=\"#mc52a7b543e\" y=\"69.026418\"/>\n      </g>\n     </g>\n     <g id=\"text_13\">\n      <!-- 3 -->\n      <g transform=\"translate(20.878125 72.825637)scale(0.1 -0.1)\">\n       <use xlink:href=\"#DejaVuSans-51\"/>\n      </g>\n     </g>\n    </g>\n    <g id=\"text_14\">\n     <!-- Real Sugar Values -->\n     <defs>\n      <path d=\"M 44.390625 34.1875 \nQ 47.5625 33.109375 50.5625 29.59375 \nQ 53.5625 26.078125 56.59375 19.921875 \nL 66.609375 0 \nL 56 0 \nL 46.6875 18.703125 \nQ 43.0625 26.03125 39.671875 28.421875 \nQ 36.28125 30.8125 30.421875 30.8125 \nL 19.671875 30.8125 \nL 19.671875 0 \nL 9.8125 0 \nL 9.8125 72.90625 \nL 32.078125 72.90625 \nQ 44.578125 72.90625 50.734375 67.671875 \nQ 56.890625 62.453125 56.890625 51.90625 \nQ 56.890625 45.015625 53.6875 40.46875 \nQ 50.484375 35.9375 44.390625 34.1875 \nz\nM 19.671875 64.796875 \nL 19.671875 38.921875 \nL 32.078125 38.921875 \nQ 39.203125 38.921875 42.84375 42.21875 \nQ 46.484375 45.515625 46.484375 51.90625 \nQ 46.484375 58.296875 42.84375 61.546875 \nQ 39.203125 64.796875 32.078125 64.796875 \nz\n\" id=\"DejaVuSans-82\"/>\n      <path d=\"M 28.609375 0 \nL 0.78125 72.90625 \nL 11.078125 72.90625 \nL 34.1875 11.53125 \nL 57.328125 72.90625 \nL 67.578125 72.90625 \nL 39.796875 0 \nz\n\" id=\"DejaVuSans-86\"/>\n      <path d=\"M 44.28125 53.078125 \nL 44.28125 44.578125 \nQ 40.484375 46.53125 36.375 47.5 \nQ 32.28125 48.484375 27.875 48.484375 \nQ 21.1875 48.484375 17.84375 46.4375 \nQ 14.5 44.390625 14.5 40.28125 \nQ 14.5 37.15625 16.890625 35.375 \nQ 19.28125 33.59375 26.515625 31.984375 \nL 29.59375 31.296875 \nQ 39.15625 29.25 43.1875 25.515625 \nQ 47.21875 21.78125 47.21875 15.09375 \nQ 47.21875 7.46875 41.1875 3.015625 \nQ 35.15625 -1.421875 24.609375 -1.421875 \nQ 20.21875 -1.421875 15.453125 -0.5625 \nQ 10.6875 0.296875 5.421875 2 \nL 5.421875 11.28125 \nQ 10.40625 8.6875 15.234375 7.390625 \nQ 20.0625 6.109375 24.8125 6.109375 \nQ 31.15625 6.109375 34.5625 8.28125 \nQ 37.984375 10.453125 37.984375 14.40625 \nQ 37.984375 18.0625 35.515625 20.015625 \nQ 33.0625 21.96875 24.703125 23.78125 \nL 21.578125 24.515625 \nQ 13.234375 26.265625 9.515625 29.90625 \nQ 5.8125 33.546875 5.8125 39.890625 \nQ 5.8125 47.609375 11.28125 51.796875 \nQ 16.75 56 26.8125 56 \nQ 31.78125 56 36.171875 55.265625 \nQ 40.578125 54.546875 44.28125 53.078125 \nz\n\" id=\"DejaVuSans-115\"/>\n     </defs>\n     <g transform=\"translate(14.798438 175.967812)rotate(-90)scale(0.1 -0.1)\">\n      <use xlink:href=\"#DejaVuSans-82\"/>\n      <use x=\"64.982422\" xlink:href=\"#DejaVuSans-101\"/>\n      <use x=\"126.505859\" xlink:href=\"#DejaVuSans-97\"/>\n      <use x=\"187.785156\" xlink:href=\"#DejaVuSans-108\"/>\n      <use x=\"215.568359\" xlink:href=\"#DejaVuSans-32\"/>\n      <use x=\"247.355469\" xlink:href=\"#DejaVuSans-83\"/>\n      <use x=\"310.832031\" xlink:href=\"#DejaVuSans-117\"/>\n      <use x=\"374.210938\" xlink:href=\"#DejaVuSans-103\"/>\n      <use x=\"437.6875\" xlink:href=\"#DejaVuSans-97\"/>\n      <use x=\"498.966797\" xlink:href=\"#DejaVuSans-114\"/>\n      <use x=\"540.080078\" xlink:href=\"#DejaVuSans-32\"/>\n      <use x=\"571.867188\" xlink:href=\"#DejaVuSans-86\"/>\n      <use x=\"632.525391\" xlink:href=\"#DejaVuSans-97\"/>\n      <use x=\"693.804688\" xlink:href=\"#DejaVuSans-108\"/>\n      <use x=\"721.587891\" xlink:href=\"#DejaVuSans-117\"/>\n      <use x=\"784.966797\" xlink:href=\"#DejaVuSans-101\"/>\n      <use x=\"846.490234\" xlink:href=\"#DejaVuSans-115\"/>\n     </g>\n    </g>\n   </g>\n   <g id=\"line2d_13\">\n    <defs>\n     <path d=\"M 0 3 \nC 0.795609 3 1.55874 2.683901 2.12132 2.12132 \nC 2.683901 1.55874 3 0.795609 3 0 \nC 3 -0.795609 2.683901 -1.55874 2.12132 -2.12132 \nC 1.55874 -2.683901 0.795609 -3 0 -3 \nC -0.795609 -3 -1.55874 -2.683901 -2.12132 -2.12132 \nC -2.683901 -1.55874 -3 -0.795609 -3 0 \nC -3 0.795609 -2.683901 1.55874 -2.12132 2.12132 \nC -1.55874 2.683901 -0.795609 3 0 3 \nz\n\" id=\"mae5866ee0b\" style=\"stroke:#ff0000;\"/>\n    </defs>\n    <g clip-path=\"url(#p9cebd1f036)\">\n     <use style=\"fill:#ff0000;stroke:#ff0000;\" x=\"82.923625\" xlink:href=\"#mae5866ee0b\" y=\"219.650037\"/>\n     <use style=\"fill:#ff0000;stroke:#ff0000;\" x=\"353.822443\" xlink:href=\"#mae5866ee0b\" y=\"185.568533\"/>\n     <use style=\"fill:#ff0000;stroke:#ff0000;\" x=\"175.850453\" xlink:href=\"#mae5866ee0b\" y=\"202.609285\"/>\n     <use style=\"fill:#ff0000;stroke:#ff0000;\" x=\"295.960236\" xlink:href=\"#mae5866ee0b\" y=\"202.609285\"/>\n     <use style=\"fill:#ff0000;stroke:#ff0000;\" x=\"219.932225\" xlink:href=\"#mae5866ee0b\" y=\"182.160382\"/>\n     <use style=\"fill:#ff0000;stroke:#ff0000;\" x=\"49.458807\" xlink:href=\"#mae5866ee0b\" y=\"219.650037\"/>\n     <use style=\"fill:#ff0000;stroke:#ff0000;\" x=\"142.624767\" xlink:href=\"#mae5866ee0b\" y=\"212.833736\"/>\n     <use style=\"fill:#ff0000;stroke:#ff0000;\" x=\"52.95794\" xlink:href=\"#mae5866ee0b\" y=\"229.874489\"/>\n     <use style=\"fill:#ff0000;stroke:#ff0000;\" x=\"96.748846\" xlink:href=\"#mae5866ee0b\" y=\"32.201761\"/>\n     <use style=\"fill:#ff0000;stroke:#ff0000;\" x=\"130.285378\" xlink:href=\"#mae5866ee0b\" y=\"168.52778\"/>\n    </g>\n   </g>\n   <g id=\"patch_3\">\n    <path d=\"M 34.240625 239.758125 \nL 34.240625 22.318125 \n\" style=\"fill:none;stroke:#000000;stroke-linecap:square;stroke-linejoin:miter;stroke-width:0.8;\"/>\n   </g>\n   <g id=\"patch_4\">\n    <path d=\"M 369.040625 239.758125 \nL 369.040625 22.318125 \n\" style=\"fill:none;stroke:#000000;stroke-linecap:square;stroke-linejoin:miter;stroke-width:0.8;\"/>\n   </g>\n   <g id=\"patch_5\">\n    <path d=\"M 34.240625 239.758125 \nL 369.040625 239.758125 \n\" style=\"fill:none;stroke:#000000;stroke-linecap:square;stroke-linejoin:miter;stroke-width:0.8;\"/>\n   </g>\n   <g id=\"patch_6\">\n    <path d=\"M 34.240625 22.318125 \nL 369.040625 22.318125 \n\" style=\"fill:none;stroke:#000000;stroke-linecap:square;stroke-linejoin:miter;stroke-width:0.8;\"/>\n   </g>\n   <g id=\"text_15\">\n    <!-- Correlation: -0.019 -->\n    <defs>\n     <path d=\"M 64.40625 67.28125 \nL 64.40625 56.890625 \nQ 59.421875 61.53125 53.78125 63.8125 \nQ 48.140625 66.109375 41.796875 66.109375 \nQ 29.296875 66.109375 22.65625 58.46875 \nQ 16.015625 50.828125 16.015625 36.375 \nQ 16.015625 21.96875 22.65625 14.328125 \nQ 29.296875 6.6875 41.796875 6.6875 \nQ 48.140625 6.6875 53.78125 8.984375 \nQ 59.421875 11.28125 64.40625 15.921875 \nL 64.40625 5.609375 \nQ 59.234375 2.09375 53.4375 0.328125 \nQ 47.65625 -1.421875 41.21875 -1.421875 \nQ 24.65625 -1.421875 15.125 8.703125 \nQ 5.609375 18.84375 5.609375 36.375 \nQ 5.609375 53.953125 15.125 64.078125 \nQ 24.65625 74.21875 41.21875 74.21875 \nQ 47.75 74.21875 53.53125 72.484375 \nQ 59.328125 70.75 64.40625 67.28125 \nz\n\" id=\"DejaVuSans-67\"/>\n     <path d=\"M 54.890625 33.015625 \nL 54.890625 0 \nL 45.90625 0 \nL 45.90625 32.71875 \nQ 45.90625 40.484375 42.875 44.328125 \nQ 39.84375 48.1875 33.796875 48.1875 \nQ 26.515625 48.1875 22.3125 43.546875 \nQ 18.109375 38.921875 18.109375 30.90625 \nL 18.109375 0 \nL 9.078125 0 \nL 9.078125 54.6875 \nL 18.109375 54.6875 \nL 18.109375 46.1875 \nQ 21.34375 51.125 25.703125 53.5625 \nQ 30.078125 56 35.796875 56 \nQ 45.21875 56 50.046875 50.171875 \nQ 54.890625 44.34375 54.890625 33.015625 \nz\n\" id=\"DejaVuSans-110\"/>\n     <path d=\"M 11.71875 12.40625 \nL 22.015625 12.40625 \nL 22.015625 0 \nL 11.71875 0 \nz\nM 11.71875 51.703125 \nL 22.015625 51.703125 \nL 22.015625 39.3125 \nL 11.71875 39.3125 \nz\n\" id=\"DejaVuSans-58\"/>\n     <path d=\"M 4.890625 31.390625 \nL 31.203125 31.390625 \nL 31.203125 23.390625 \nL 4.890625 23.390625 \nz\n\" id=\"DejaVuSans-45\"/>\n     <path d=\"M 10.984375 1.515625 \nL 10.984375 10.5 \nQ 14.703125 8.734375 18.5 7.8125 \nQ 22.3125 6.890625 25.984375 6.890625 \nQ 35.75 6.890625 40.890625 13.453125 \nQ 46.046875 20.015625 46.78125 33.40625 \nQ 43.953125 29.203125 39.59375 26.953125 \nQ 35.25 24.703125 29.984375 24.703125 \nQ 19.046875 24.703125 12.671875 31.3125 \nQ 6.296875 37.9375 6.296875 49.421875 \nQ 6.296875 60.640625 12.9375 67.421875 \nQ 19.578125 74.21875 30.609375 74.21875 \nQ 43.265625 74.21875 49.921875 64.515625 \nQ 56.59375 54.828125 56.59375 36.375 \nQ 56.59375 19.140625 48.40625 8.859375 \nQ 40.234375 -1.421875 26.421875 -1.421875 \nQ 22.703125 -1.421875 18.890625 -0.6875 \nQ 15.09375 0.046875 10.984375 1.515625 \nz\nM 30.609375 32.421875 \nQ 37.25 32.421875 41.125 36.953125 \nQ 45.015625 41.5 45.015625 49.421875 \nQ 45.015625 57.28125 41.125 61.84375 \nQ 37.25 66.40625 30.609375 66.40625 \nQ 23.96875 66.40625 20.09375 61.84375 \nQ 16.21875 57.28125 16.21875 49.421875 \nQ 16.21875 41.5 20.09375 36.953125 \nQ 23.96875 32.421875 30.609375 32.421875 \nz\n\" id=\"DejaVuSans-57\"/>\n    </defs>\n    <g transform=\"translate(145.288437 16.318125)scale(0.12 -0.12)\">\n     <use xlink:href=\"#DejaVuSans-67\"/>\n     <use x=\"69.824219\" xlink:href=\"#DejaVuSans-111\"/>\n     <use x=\"131.005859\" xlink:href=\"#DejaVuSans-114\"/>\n     <use x=\"170.369141\" xlink:href=\"#DejaVuSans-114\"/>\n     <use x=\"209.232422\" xlink:href=\"#DejaVuSans-101\"/>\n     <use x=\"270.755859\" xlink:href=\"#DejaVuSans-108\"/>\n     <use x=\"298.539062\" xlink:href=\"#DejaVuSans-97\"/>\n     <use x=\"359.818359\" xlink:href=\"#DejaVuSans-116\"/>\n     <use x=\"399.027344\" xlink:href=\"#DejaVuSans-105\"/>\n     <use x=\"426.810547\" xlink:href=\"#DejaVuSans-111\"/>\n     <use x=\"487.992188\" xlink:href=\"#DejaVuSans-110\"/>\n     <use x=\"551.371094\" xlink:href=\"#DejaVuSans-58\"/>\n     <use x=\"585.0625\" xlink:href=\"#DejaVuSans-32\"/>\n     <use x=\"616.849609\" xlink:href=\"#DejaVuSans-45\"/>\n     <use x=\"652.933594\" xlink:href=\"#DejaVuSans-48\"/>\n     <use x=\"716.556641\" xlink:href=\"#DejaVuSans-46\"/>\n     <use x=\"748.34375\" xlink:href=\"#DejaVuSans-48\"/>\n     <use x=\"811.966797\" xlink:href=\"#DejaVuSans-49\"/>\n     <use x=\"875.589844\" xlink:href=\"#DejaVuSans-57\"/>\n    </g>\n   </g>\n  </g>\n </g>\n <defs>\n  <clipPath id=\"p9cebd1f036\">\n   <rect height=\"217.44\" width=\"334.8\" x=\"34.240625\" y=\"22.318125\"/>\n  </clipPath>\n </defs>\n</svg>\n"
          },
          "metadata": {
            "needs_background": "light"
          }
        }
      ]
    }
  ]
}