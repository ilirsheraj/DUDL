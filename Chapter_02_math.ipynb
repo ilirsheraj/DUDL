{
  "nbformat": 4,
  "nbformat_minor": 0,
  "metadata": {
    "colab": {
      "name": "chapter_02_math.ipynb",
      "provenance": [],
      "authorship_tag": "ABX9TyN5Hz7ntRdLnqy03a0YcWPO",
      "include_colab_link": true
    },
    "kernelspec": {
      "name": "python3",
      "display_name": "Python 3"
    },
    "language_info": {
      "name": "python"
    }
  },
  "cells": [
    {
      "cell_type": "markdown",
      "metadata": {
        "id": "view-in-github",
        "colab_type": "text"
      },
      "source": [
        "<a href=\"https://colab.research.google.com/github/ilirsheraj/DUDL/blob/main/Chapter_02_math.ipynb\" target=\"_parent\"><img src=\"https://colab.research.google.com/assets/colab-badge.svg\" alt=\"Open In Colab\"/></a>"
      ]
    },
    {
      "cell_type": "markdown",
      "source": [
        "## Vector and Matrix Transpose"
      ],
      "metadata": {
        "id": "apK8XbRwOBdo"
      }
    },
    {
      "cell_type": "code",
      "execution_count": 1,
      "metadata": {
        "id": "Wq919Bw6Ny1A"
      },
      "outputs": [],
      "source": [
        "import numpy as np\n",
        "import torch\n",
        "import torch.nn as nn\n",
        "import torch.nn.functional as F\n",
        "import matplotlib.pyplot as plt"
      ]
    },
    {
      "cell_type": "code",
      "source": [
        "#!pip install -q --upgrade ipython\n",
        "#!pip install -q --upgrade ipykernel"
      ],
      "metadata": {
        "id": "n9Xwh4wI9Rxi"
      },
      "execution_count": 2,
      "outputs": []
    },
    {
      "cell_type": "markdown",
      "source": [
        "### Use Numpy"
      ],
      "metadata": {
        "id": "8uVvrys1Oi-j"
      }
    },
    {
      "cell_type": "code",
      "source": [
        "# create a row vector [[]], otherwise [] will be column vector only\n",
        "nv = np.array([ [1,2,3,4] ])\n",
        "print(nv)"
      ],
      "metadata": {
        "colab": {
          "base_uri": "https://localhost:8080/"
        },
        "id": "UM0CqcE2OhVc",
        "outputId": "09576866-d149-4668-bd1a-480070cd16b7"
      },
      "execution_count": 3,
      "outputs": [
        {
          "output_type": "stream",
          "name": "stdout",
          "text": [
            "[[1 2 3 4]]\n"
          ]
        }
      ]
    },
    {
      "cell_type": "code",
      "source": [
        "# A less common way\n",
        "nv_t = np.transpose(nv)\n",
        "print(nv_t)"
      ],
      "metadata": {
        "colab": {
          "base_uri": "https://localhost:8080/"
        },
        "id": "mVeWkvLoE9k_",
        "outputId": "d0c84507-6cd1-44ef-a5b4-f604d7ab7fe0"
      },
      "execution_count": 4,
      "outputs": [
        {
          "output_type": "stream",
          "name": "stdout",
          "text": [
            "[[1]\n",
            " [2]\n",
            " [3]\n",
            " [4]]\n"
          ]
        }
      ]
    },
    {
      "cell_type": "code",
      "source": [
        "# transpose the vector\n",
        "print(nv.T)"
      ],
      "metadata": {
        "colab": {
          "base_uri": "https://localhost:8080/"
        },
        "id": "Pq_qEuA7PNvz",
        "outputId": "f5c59a31-2574-42ad-f8a0-1141e01cbddb"
      },
      "execution_count": 5,
      "outputs": [
        {
          "output_type": "stream",
          "name": "stdout",
          "text": [
            "[[1]\n",
            " [2]\n",
            " [3]\n",
            " [4]]\n"
          ]
        }
      ]
    },
    {
      "cell_type": "code",
      "source": [
        "# Make the change permanent by assigning it to a new vector\n",
        "nvT = nv.T\n",
        "print(nvT)"
      ],
      "metadata": {
        "colab": {
          "base_uri": "https://localhost:8080/"
        },
        "id": "6Cfvg_HVPSa6",
        "outputId": "7ee14c88-900f-41b4-d839-a49d961eff78"
      },
      "execution_count": 6,
      "outputs": [
        {
          "output_type": "stream",
          "name": "stdout",
          "text": [
            "[[1]\n",
            " [2]\n",
            " [3]\n",
            " [4]]\n"
          ]
        }
      ]
    },
    {
      "cell_type": "code",
      "source": [
        "# Do the same for a matrix: 2 rows by 4 columns\n",
        "nM = np.array([[1,2,3,4],\n",
        "               [5,6,7,8]])\n",
        "print(nM)"
      ],
      "metadata": {
        "colab": {
          "base_uri": "https://localhost:8080/"
        },
        "id": "lsGCkQg8PgQr",
        "outputId": "2cb326a9-61ef-42f0-d44b-d2d26ac7fc4a"
      },
      "execution_count": 7,
      "outputs": [
        {
          "output_type": "stream",
          "name": "stdout",
          "text": [
            "[[1 2 3 4]\n",
            " [5 6 7 8]]\n"
          ]
        }
      ]
    },
    {
      "cell_type": "code",
      "source": [
        "# Transpose it\n",
        "print(nM.T)"
      ],
      "metadata": {
        "colab": {
          "base_uri": "https://localhost:8080/"
        },
        "id": "SOMRCdLePq14",
        "outputId": "61cd5daa-a176-4370-944c-4cbdbeba9673"
      },
      "execution_count": 8,
      "outputs": [
        {
          "output_type": "stream",
          "name": "stdout",
          "text": [
            "[[1 5]\n",
            " [2 6]\n",
            " [3 7]\n",
            " [4 8]]\n"
          ]
        }
      ]
    },
    {
      "cell_type": "code",
      "source": [
        "# Assign the transposed part to a new name\n",
        "nMT = nM.T\n",
        "print(nMT)"
      ],
      "metadata": {
        "colab": {
          "base_uri": "https://localhost:8080/"
        },
        "id": "3ajIpgM_PvC9",
        "outputId": "d11d442b-2d99-4401-f894-8755f0208f3f"
      },
      "execution_count": 9,
      "outputs": [
        {
          "output_type": "stream",
          "name": "stdout",
          "text": [
            "[[1 5]\n",
            " [2 6]\n",
            " [3 7]\n",
            " [4 8]]\n"
          ]
        }
      ]
    },
    {
      "cell_type": "markdown",
      "source": [
        "### Using PyTorch"
      ],
      "metadata": {
        "id": "aWsKyehHP1WV"
      }
    },
    {
      "cell_type": "code",
      "source": [
        "# Create a vector: In this case it is the same as numpy\n",
        "tv = torch.tensor([[1,2,3,4]])\n",
        "print(tv)"
      ],
      "metadata": {
        "colab": {
          "base_uri": "https://localhost:8080/"
        },
        "id": "TdL7p9HCP5U2",
        "outputId": "e25c16cd-e623-4b1b-a191-4ef4c973ec2c"
      },
      "execution_count": 10,
      "outputs": [
        {
          "output_type": "stream",
          "name": "stdout",
          "text": [
            "tensor([[1, 2, 3, 4]])\n"
          ]
        }
      ]
    },
    {
      "cell_type": "code",
      "source": [
        "# Transpose it\n",
        "tvT = tv.T\n",
        "print(tvT)"
      ],
      "metadata": {
        "colab": {
          "base_uri": "https://localhost:8080/"
        },
        "id": "5yXVa82eQHLA",
        "outputId": "be82d0ab-68d8-4f30-f42e-b555223ea762"
      },
      "execution_count": 11,
      "outputs": [
        {
          "output_type": "stream",
          "name": "stdout",
          "text": [
            "tensor([[1],\n",
            "        [2],\n",
            "        [3],\n",
            "        [4]])\n"
          ]
        }
      ]
    },
    {
      "cell_type": "code",
      "source": [
        "# Create a matrix\n",
        "tM = torch.tensor([[1,2,3,4], [5,6,7,8]])\n",
        "print(tM)"
      ],
      "metadata": {
        "colab": {
          "base_uri": "https://localhost:8080/"
        },
        "id": "BQrpBqIeQQXp",
        "outputId": "a2cea562-b75c-4b11-9904-df4b847673cc"
      },
      "execution_count": 12,
      "outputs": [
        {
          "output_type": "stream",
          "name": "stdout",
          "text": [
            "tensor([[1, 2, 3, 4],\n",
            "        [5, 6, 7, 8]])\n"
          ]
        }
      ]
    },
    {
      "cell_type": "code",
      "source": [
        "# Transpose it\n",
        "tMT = tM.T\n",
        "print(tMT)"
      ],
      "metadata": {
        "colab": {
          "base_uri": "https://localhost:8080/"
        },
        "id": "UmDaSEmhQZYN",
        "outputId": "141846bf-ad23-4ee5-ef8b-06dd12a141da"
      },
      "execution_count": 13,
      "outputs": [
        {
          "output_type": "stream",
          "name": "stdout",
          "text": [
            "tensor([[1, 5],\n",
            "        [2, 6],\n",
            "        [3, 7],\n",
            "        [4, 8]])\n"
          ]
        }
      ]
    },
    {
      "cell_type": "code",
      "source": [
        "# Check the datatypes\n",
        "print(f\"Variable nv is of type {type(nv)}\")\n",
        "print(f\"Variable nM is of type {type(nM)}\")\n",
        "print(f\"Variable tv is of type {type(tv)}\")\n",
        "print(f\"Variable tM is of type {type(tM)}\")"
      ],
      "metadata": {
        "colab": {
          "base_uri": "https://localhost:8080/"
        },
        "id": "GrQJN7Q8Qie4",
        "outputId": "bc051ac0-f256-489a-8243-ced5f46803ee"
      },
      "execution_count": 14,
      "outputs": [
        {
          "output_type": "stream",
          "name": "stdout",
          "text": [
            "Variable nv is of type <class 'numpy.ndarray'>\n",
            "Variable nM is of type <class 'numpy.ndarray'>\n",
            "Variable tv is of type <class 'torch.Tensor'>\n",
            "Variable tM is of type <class 'torch.Tensor'>\n"
          ]
        }
      ]
    },
    {
      "cell_type": "markdown",
      "source": [
        "## Dot Product"
      ],
      "metadata": {
        "id": "JOGNa2p9Sgbz"
      }
    },
    {
      "cell_type": "markdown",
      "source": [
        "Dot product is one of the most important mathematical operations in Linear Algebra, and by default in Deep Learning"
      ],
      "metadata": {
        "id": "wHmfR8T-GT8P"
      }
    },
    {
      "cell_type": "markdown",
      "source": [
        "### Numpy"
      ],
      "metadata": {
        "id": "uN__KNVQTCJd"
      }
    },
    {
      "cell_type": "code",
      "source": [
        "# create two vectors: Column vectors\n",
        "nv1 = np.array([1,2,3,4])\n",
        "nv2 = np.array([0,1,0,-1])\n",
        "\n",
        "# dot product via function\n",
        "print(np.dot(nv1,nv2))\n",
        "\n",
        "# dot product via computation\n",
        "print(np.sum(nv1*nv2))"
      ],
      "metadata": {
        "colab": {
          "base_uri": "https://localhost:8080/"
        },
        "id": "Gg7VTMlESgDI",
        "outputId": "0700eb8c-1a4c-4642-c7be-a2f1170be29c"
      },
      "execution_count": 15,
      "outputs": [
        {
          "output_type": "stream",
          "name": "stdout",
          "text": [
            "-2\n",
            "-2\n"
          ]
        }
      ]
    },
    {
      "cell_type": "markdown",
      "source": [
        "### Pytorch"
      ],
      "metadata": {
        "id": "ynjE6NPBTEWE"
      }
    },
    {
      "cell_type": "code",
      "source": [
        "# create two vectors\n",
        "nv1 = torch.tensor([1,2,3,4])\n",
        "nv2 = torch.tensor([0,1,0,-1])\n",
        "\n",
        "# dot product via function\n",
        "print(torch.dot(nv1,nv2))\n",
        "\n",
        "# dot product via computation\n",
        "print(torch.sum(nv1*nv2))"
      ],
      "metadata": {
        "colab": {
          "base_uri": "https://localhost:8080/"
        },
        "id": "AxvhIqpwTGQq",
        "outputId": "8181a8e0-94d1-4f07-9cc0-d52b28c182a7"
      },
      "execution_count": 16,
      "outputs": [
        {
          "output_type": "stream",
          "name": "stdout",
          "text": [
            "tensor(-2)\n",
            "tensor(-2)\n"
          ]
        }
      ]
    },
    {
      "cell_type": "markdown",
      "source": [
        "## Matrix Multiplication"
      ],
      "metadata": {
        "id": "_IXR1t6VX8Af"
      }
    },
    {
      "cell_type": "markdown",
      "source": [
        "Matrix Multiplication is an application of the Dot Product, but it is more involved than just computing the dot product because we care about initial dimensionality and the final dimensionality as well. MxN @ NxK = MxK"
      ],
      "metadata": {
        "id": "jSeWqK8DIvVY"
      }
    },
    {
      "cell_type": "markdown",
      "source": [
        "### Numpy"
      ],
      "metadata": {
        "id": "Ngn_IjP6X_nO"
      }
    },
    {
      "cell_type": "code",
      "source": [
        "# Create random matrices\n",
        "A = np.random.randn(3,4)\n",
        "B = np.random.randn(4,5)\n",
        "C = np.random.randn(3,7)\n",
        "\n",
        "# Try multiplications\n",
        "print(np.round(A@B,2))\n",
        "print(\"=\"*30)\n",
        "print(np.round(A.T@C,2))\n",
        "print(\"=\"*30)\n",
        "print(np.round(C.T@A,2))"
      ],
      "metadata": {
        "colab": {
          "base_uri": "https://localhost:8080/"
        },
        "id": "NEwZ0NpVTVNf",
        "outputId": "8c058fc0-5952-467f-dd40-c8aaa93875ee"
      },
      "execution_count": 17,
      "outputs": [
        {
          "output_type": "stream",
          "name": "stdout",
          "text": [
            "[[-2.96 -3.67 -1.48 -3.7   0.16]\n",
            " [ 3.32 -1.1  -0.7   0.45  5.15]\n",
            " [-2.1  -1.89 -0.78 -1.77 -0.21]]\n",
            "==============================\n",
            "[[-0.27  2.22 -0.58 -1.48  0.08  1.06  0.45]\n",
            " [ 1.38 -5.74 -0.34  0.06 -0.21 -2.52  0.78]\n",
            " [ 1.94 -1.4  -2.71 -4.9  -0.55 -0.97  3.51]\n",
            " [-1.4   1.34 -0.94 -3.12  1.17  2.27 -0.41]]\n",
            "==============================\n",
            "[[-0.27  1.38  1.94 -1.4 ]\n",
            " [ 2.22 -5.74 -1.4   1.34]\n",
            " [-0.58 -0.34 -2.71 -0.94]\n",
            " [-1.48  0.06 -4.9  -3.12]\n",
            " [ 0.08 -0.21 -0.55  1.17]\n",
            " [ 1.06 -2.52 -0.97  2.27]\n",
            " [ 0.45  0.78  3.51 -0.41]]\n"
          ]
        }
      ]
    },
    {
      "cell_type": "code",
      "source": [
        "# Matrix Multiplication using np.matmul()\n",
        "print(np.round(np.matmul(A,B),2))\n",
        "print(\"=\"*30)\n",
        "print(np.round(np.matmul(A.T, C,),2))\n",
        "print(\"=\"*30)\n",
        "print(np.round(np.matmul(C.T, A),2))"
      ],
      "metadata": {
        "colab": {
          "base_uri": "https://localhost:8080/"
        },
        "id": "1jFrsZe_LT7n",
        "outputId": "4f51e1f9-1214-4b1a-df39-8891a4f10eb7"
      },
      "execution_count": 18,
      "outputs": [
        {
          "output_type": "stream",
          "name": "stdout",
          "text": [
            "[[-2.96 -3.67 -1.48 -3.7   0.16]\n",
            " [ 3.32 -1.1  -0.7   0.45  5.15]\n",
            " [-2.1  -1.89 -0.78 -1.77 -0.21]]\n",
            "==============================\n",
            "[[-0.27  2.22 -0.58 -1.48  0.08  1.06  0.45]\n",
            " [ 1.38 -5.74 -0.34  0.06 -0.21 -2.52  0.78]\n",
            " [ 1.94 -1.4  -2.71 -4.9  -0.55 -0.97  3.51]\n",
            " [-1.4   1.34 -0.94 -3.12  1.17  2.27 -0.41]]\n",
            "==============================\n",
            "[[-0.27  1.38  1.94 -1.4 ]\n",
            " [ 2.22 -5.74 -1.4   1.34]\n",
            " [-0.58 -0.34 -2.71 -0.94]\n",
            " [-1.48  0.06 -4.9  -3.12]\n",
            " [ 0.08 -0.21 -0.55  1.17]\n",
            " [ 1.06 -2.52 -0.97  2.27]\n",
            " [ 0.45  0.78  3.51 -0.41]]\n"
          ]
        }
      ]
    },
    {
      "cell_type": "markdown",
      "source": [
        "### Using Pytorch"
      ],
      "metadata": {
        "id": "9kDtQz7VYrPA"
      }
    },
    {
      "cell_type": "code",
      "source": [
        "# Create random matrices\n",
        "A = torch.randn(3,4)\n",
        "B = torch.randn(4,5)\n",
        "C1 = np.random.randn(3,7)\n",
        "C2 = torch.tensor(C1, dtype=torch.float)\n",
        "\n",
        "# Try multiplications\n",
        "print(np.round(A@B,2))\n",
        "print(\"=\"*30)\n",
        "# print(np.round(A@B.T,2))  # Not working because of dimensionality issues\n",
        "print(np.round(A.T@C1,2))  # np matrix can be multiplied with a tensor\n",
        "print(\"=\"*30)\n",
        "print(np.round(A.T@C2,2))\n",
        "print(\"=\"*30)\n",
        "print(np.round(C2.T@A,2))"
      ],
      "metadata": {
        "colab": {
          "base_uri": "https://localhost:8080/"
        },
        "id": "8XF9y9HPYtV3",
        "outputId": "608180cb-a4cb-4873-c61d-a9fb80f47f97"
      },
      "execution_count": 19,
      "outputs": [
        {
          "output_type": "stream",
          "name": "stdout",
          "text": [
            "tensor([[ 3.5500,  6.0800, -0.2900, -1.2600, -1.4900],\n",
            "        [ 3.4200,  3.8400, -0.4000, -1.1900, -0.9000],\n",
            "        [-1.0800, -1.6700,  0.6600,  0.6500,  0.4700]])\n",
            "==============================\n",
            "tensor([[-2.6600,  0.0300,  3.9900,  0.1200, -0.3600, -0.7900,  1.2300],\n",
            "        [ 0.4200, -1.5000, -2.2000, -1.6200,  0.2200,  1.4700, -1.4100],\n",
            "        [ 3.9200,  1.0100, -4.9900,  0.6000, -0.4600,  0.1700, -0.7800],\n",
            "        [ 2.1700,  0.0900, -3.5200, -0.6100, -1.3100,  0.4500, -0.5700]],\n",
            "       dtype=torch.float64)\n",
            "==============================\n",
            "tensor([[-2.6600,  0.0300,  3.9900,  0.1200, -0.3600, -0.7900,  1.2300],\n",
            "        [ 0.4200, -1.5000, -2.2000, -1.6200,  0.2200,  1.4700, -1.4100],\n",
            "        [ 3.9200,  1.0100, -4.9900,  0.6000, -0.4600,  0.1700, -0.7800],\n",
            "        [ 2.1700,  0.0900, -3.5200, -0.6100, -1.3100,  0.4500, -0.5700]])\n",
            "==============================\n",
            "tensor([[-2.6600,  0.4200,  3.9200,  2.1700],\n",
            "        [ 0.0300, -1.5000,  1.0100,  0.0900],\n",
            "        [ 3.9900, -2.2000, -4.9900, -3.5200],\n",
            "        [ 0.1200, -1.6200,  0.6000, -0.6100],\n",
            "        [-0.3600,  0.2200, -0.4600, -1.3100],\n",
            "        [-0.7900,  1.4700,  0.1700,  0.4500],\n",
            "        [ 1.2300, -1.4100, -0.7800, -0.5700]])\n"
          ]
        }
      ]
    },
    {
      "cell_type": "markdown",
      "source": [
        "## Softmax Function"
      ],
      "metadata": {
        "id": "I2GMTqIX3kXz"
      }
    },
    {
      "cell_type": "markdown",
      "source": [
        "Softmax function is defined as $\\sigma = e^{z_i} / \\sum e^z $"
      ],
      "metadata": {
        "id": "cFTdfc8uO-xl"
      }
    },
    {
      "cell_type": "markdown",
      "source": [
        "### Softmax in Numpy"
      ],
      "metadata": {
        "id": "JtshfZCz3nqY"
      }
    },
    {
      "cell_type": "code",
      "source": [
        "# define a list of numbers\n",
        "z = [1,2,3]\n",
        "\n",
        "# compute the softmax resulrs\n",
        "num = np.exp(z)\n",
        "den = np.sum(np.exp(z))\n",
        "sigma = num/den\n",
        "print(sigma)"
      ],
      "metadata": {
        "colab": {
          "base_uri": "https://localhost:8080/"
        },
        "id": "BkFLym1D3spk",
        "outputId": "debbd73d-8cf7-4796-afc9-9fe413074c76"
      },
      "execution_count": 20,
      "outputs": [
        {
          "output_type": "stream",
          "name": "stdout",
          "text": [
            "[0.09003057 0.24472847 0.66524096]\n"
          ]
        }
      ]
    },
    {
      "cell_type": "code",
      "source": [
        "# Use a buch of random integers\n",
        "z = np.random.randint(-5,15,size=25)\n",
        "print(z)"
      ],
      "metadata": {
        "colab": {
          "base_uri": "https://localhost:8080/"
        },
        "id": "19p_IoAJ4H26",
        "outputId": "e25457e5-9f92-4d00-b305-ccf264bbbc1d"
      },
      "execution_count": 21,
      "outputs": [
        {
          "output_type": "stream",
          "name": "stdout",
          "text": [
            "[ 9 13  2  7 -3  1  7  3  9 -1  5 10  6  8  7  2 14  4 12  8  6 12 -1  1\n",
            "  5]\n"
          ]
        }
      ]
    },
    {
      "cell_type": "code",
      "source": [
        "def my_softmax(z):\n",
        "  return np.exp(z)/np.sum(np.exp(z))\n",
        "\n",
        "sigma = my_softmax(z)\n",
        "sigma"
      ],
      "metadata": {
        "colab": {
          "base_uri": "https://localhost:8080/"
        },
        "id": "mNLrpeae4UaF",
        "outputId": "0f8ba27b-7a40-435e-fa8e-fdce0bfcfafe"
      },
      "execution_count": 22,
      "outputs": [
        {
          "output_type": "execute_result",
          "data": {
            "text/plain": [
              "array([4.01299499e-03, 2.19102102e-01, 3.65937776e-06, 5.43099813e-04,\n",
              "       2.46566934e-08, 1.34620984e-06, 5.43099813e-04, 9.94722006e-06,\n",
              "       4.01299499e-03, 1.82189691e-07, 7.35005671e-05, 1.09084514e-02,\n",
              "       1.99795256e-04, 1.47629835e-03, 5.43099813e-04, 3.65937776e-06,\n",
              "       5.95581264e-01, 2.70393475e-05, 8.06031590e-02, 1.47629835e-03,\n",
              "       1.99795256e-04, 8.06031590e-02, 1.82189691e-07, 1.34620984e-06,\n",
              "       7.35005671e-05])"
            ]
          },
          "metadata": {},
          "execution_count": 22
        }
      ]
    },
    {
      "cell_type": "code",
      "source": [
        "# Compare\n",
        "plt.plot(z,sigma,\"bo\")\n",
        "plt.xlabel(\"Original Number (z)\")\n",
        "plt.ylabel(\"Softmax Ouput ($\\sigma$)\")\n",
        "plt.title(\"$\\sum\\sigma$ = %g\"%np.sum(sigma))\n",
        "plt.show()"
      ],
      "metadata": {
        "colab": {
          "base_uri": "https://localhost:8080/",
          "height": 299
        },
        "id": "nRqrAmLL4pyQ",
        "outputId": "02dd165b-f53c-4724-81ac-dbb385344edf"
      },
      "execution_count": 23,
      "outputs": [
        {
          "output_type": "display_data",
          "data": {
            "text/plain": [
              "<Figure size 432x288 with 1 Axes>"
            ],
            "image/png": "[encoded data removed]"
          },
          "metadata": {
            "needs_background": "light"
          }
        }
      ]
    },
    {
      "cell_type": "code",
      "source": [
        "# Make the y-scale logarithmic\n",
        "plt.plot(z,sigma,\"bo\")\n",
        "plt.yscale(\"log\")\n",
        "plt.xlabel(\"Original Number (z)\")\n",
        "plt.ylabel(\"Softmax Ouput ($\\sigma$)\")\n",
        "plt.title(\"$\\sum\\sigma$ = %g\"%np.sum(sigma))\n",
        "plt.show()"
      ],
      "metadata": {
        "colab": {
          "base_uri": "https://localhost:8080/",
          "height": 299
        },
        "id": "gi9zf52N6OHU",
        "outputId": "59c21358-dbe0-487f-bc99-0189cdcc49b8"
      },
      "execution_count": 24,
      "outputs": [
        {
          "output_type": "display_data",
          "data": {
            "text/plain": [
              "<Figure size 432x288 with 1 Axes>"
            ],
            "image/png": "[encoded data removed]"
          },
          "metadata": {
            "needs_background": "light"
          }
        }
      ]
    },
    {
      "cell_type": "markdown",
      "source": [
        "### Using Pytorch"
      ],
      "metadata": {
        "id": "5FkuoIa963YC"
      }
    },
    {
      "cell_type": "code",
      "source": [
        "# First create an instance of Softmax activation class\n",
        "softfun = nn.Softmax(dim=0)\n",
        "print(softfun)"
      ],
      "metadata": {
        "colab": {
          "base_uri": "https://localhost:8080/"
        },
        "id": "n_9g8EYy65yk",
        "outputId": "5cfa65a4-54d9-4900-92f2-6a0f3c7bddf9"
      },
      "execution_count": 25,
      "outputs": [
        {
          "output_type": "stream",
          "name": "stdout",
          "text": [
            "Softmax(dim=0)\n"
          ]
        }
      ]
    },
    {
      "cell_type": "code",
      "source": [
        "# Apply the data to the function\n",
        "sigmaT = softfun(torch.Tensor(z))\n",
        "\n",
        "print(sigmaT)"
      ],
      "metadata": {
        "colab": {
          "base_uri": "https://localhost:8080/"
        },
        "id": "zX4MrFfxrljv",
        "outputId": "3c0193fa-6a51-40f2-ec64-d5fd4491b326"
      },
      "execution_count": 26,
      "outputs": [
        {
          "output_type": "stream",
          "name": "stdout",
          "text": [
            "tensor([4.0130e-03, 2.1910e-01, 3.6594e-06, 5.4310e-04, 2.4657e-08, 1.3462e-06,\n",
            "        5.4310e-04, 9.9472e-06, 4.0130e-03, 1.8219e-07, 7.3501e-05, 1.0908e-02,\n",
            "        1.9980e-04, 1.4763e-03, 5.4310e-04, 3.6594e-06, 5.9558e-01, 2.7039e-05,\n",
            "        8.0603e-02, 1.4763e-03, 1.9980e-04, 8.0603e-02, 1.8219e-07, 1.3462e-06,\n",
            "        7.3501e-05])\n"
          ]
        }
      ]
    },
    {
      "cell_type": "code",
      "source": [
        "print(type(z))\n",
        "print(sigmaT)"
      ],
      "metadata": {
        "colab": {
          "base_uri": "https://localhost:8080/"
        },
        "id": "jOqhlTr5-H0w",
        "outputId": "ae60148b-8999-492a-f576-1f443e1283ce"
      },
      "execution_count": 27,
      "outputs": [
        {
          "output_type": "stream",
          "name": "stdout",
          "text": [
            "<class 'numpy.ndarray'>\n",
            "tensor([4.0130e-03, 2.1910e-01, 3.6594e-06, 5.4310e-04, 2.4657e-08, 1.3462e-06,\n",
            "        5.4310e-04, 9.9472e-06, 4.0130e-03, 1.8219e-07, 7.3501e-05, 1.0908e-02,\n",
            "        1.9980e-04, 1.4763e-03, 5.4310e-04, 3.6594e-06, 5.9558e-01, 2.7039e-05,\n",
            "        8.0603e-02, 1.4763e-03, 1.9980e-04, 8.0603e-02, 1.8219e-07, 1.3462e-06,\n",
            "        7.3501e-05])\n"
          ]
        }
      ]
    },
    {
      "cell_type": "code",
      "source": [
        "plt.plot(z, sigmaT, \"bo\")\n",
        "#plt.yscale(\"log\")\n",
        "plt.xlabel(\"Original Number (z)\")\n",
        "plt.ylabel(\"Softmax Ouput ($\\sigma$)\")\n",
        "plt.title(\"$\\sum\\sigma$ = %g\"%np.sum(sigma))\n",
        "plt.show()"
      ],
      "metadata": {
        "colab": {
          "base_uri": "https://localhost:8080/",
          "height": 299
        },
        "id": "EbGltcsC-RuC",
        "outputId": "69521056-2992-4f19-dc1e-1e463801fb01"
      },
      "execution_count": 28,
      "outputs": [
        {
          "output_type": "display_data",
          "data": {
            "text/plain": [
              "<Figure size 432x288 with 1 Axes>"
            ],
            "image/png": "[encoded data removed]"
          },
          "metadata": {
            "needs_background": "light"
          }
        }
      ]
    },
    {
      "cell_type": "code",
      "source": [
        "plt.plot(z, sigmaT, \"bo\")\n",
        "plt.yscale(\"log\")\n",
        "plt.xlabel(\"Original Number (z)\")\n",
        "plt.ylabel(\"Softmax Ouput ($\\sigma$)\")\n",
        "plt.title(\"$\\sum\\sigma$ = %g\"%np.sum(sigma))\n",
        "plt.show()"
      ],
      "metadata": {
        "colab": {
          "base_uri": "https://localhost:8080/",
          "height": 299
        },
        "id": "GyX-NM_I-hLl",
        "outputId": "14a5038b-69bc-4d46-90f3-6b6df6385302"
      },
      "execution_count": 29,
      "outputs": [
        {
          "output_type": "display_data",
          "data": {
            "text/plain": [
              "<Figure size 432x288 with 1 Axes>"
            ],
            "image/png": "[encoded data removed]"
          },
          "metadata": {
            "needs_background": "light"
          }
        }
      ]
    },
    {
      "cell_type": "code",
      "source": [
        "# Check the output correlation\n",
        "plt.plot(sigma, sigmaT, \"bo\")\n",
        "plt.xlabel(\"Numpy Softmax\")\n",
        "plt.ylabel(\"Pytorch nn.Softmax\")\n",
        "plt.title(f\"The two methods correlate at r={np.corrcoef(sigma,sigmaT)[0,1]}\")\n",
        "plt.show()"
      ],
      "metadata": {
        "colab": {
          "base_uri": "https://localhost:8080/",
          "height": 295
        },
        "id": "DncGJeRX-0SL",
        "outputId": "1f161f67-baf5-4e8a-a5d9-245a687c9d84"
      },
      "execution_count": 30,
      "outputs": [
        {
          "output_type": "display_data",
          "data": {
            "text/plain": [
              "<Figure size 432x288 with 1 Axes>"
            ],
            "image/png": "[encoded data removed]"
          },
          "metadata": {
            "needs_background": "light"
          }
        }
      ]
    },
    {
      "cell_type": "markdown",
      "source": [
        "## Logarithmic Functions"
      ],
      "metadata": {
        "id": "_Pqigb31FvOr"
      }
    },
    {
      "cell_type": "markdown",
      "source": [
        "* Logarithm is a monotinc function of x: Minimizing x is the same thing as minimizing log(x).\n",
        "* It streches out small values of x: This is important because log better distinguishes small and closely spaced numbers.\n"
      ],
      "metadata": {
        "id": "mVBD-A_U199X"
      }
    },
    {
      "cell_type": "code",
      "source": [
        "# Define a set of points to evaluate\n",
        "# np.linespace(beginning, end, number of elements)\n",
        "x = np.linspace(0.0001, 1, 200)\n",
        "\n",
        "# Compue log\n",
        "logx = np.log(x)\n",
        "\n",
        "# plot\n",
        "fig = plt.figure(figsize=(10,4))\n",
        "\n",
        "# Increase the fontsize\n",
        "plt.rcParams.update({\"font.size\":15})\n",
        "plt.plot(x,logx,\"bs-\", markerfacecolor=\"r\")\n",
        "plt.xlabel(\"x\")\n",
        "plt.ylabel(\"log(x) \")\n",
        "plt.show()"
      ],
      "metadata": {
        "colab": {
          "base_uri": "https://localhost:8080/",
          "height": 289
        },
        "id": "P2slBOKKFzdv",
        "outputId": "23af8640-2a29-4641-c4ae-7c5fc60a731d"
      },
      "execution_count": 31,
      "outputs": [
        {
          "output_type": "display_data",
          "data": {
            "text/plain": [
              "<Figure size 720x288 with 1 Axes>"
            ],
            "image/png": "[encoded data removed]"
          },
          "metadata": {
            "needs_background": "light"
          }
        }
      ]
    },
    {
      "cell_type": "code",
      "source": [
        "# Show that log and exp are inverses of each other\n",
        "# redefine same x with fewer points\n",
        "x = np.linspace(0.0001, 1, 30)\n",
        "\n",
        "logx = np.log(x)\n",
        "expx = np.exp(x)\n",
        "\n",
        "plt.plot(x,x,color=[0.8,0.8,0.8])\n",
        "plt.plot(x,np.exp(logx), \"o\", markersize=8)\n",
        "plt.plot(x,np.log(expx), \"x\", markersize=8)\n",
        "plt.xlabel(\"X\")\n",
        "plt.ylabel(\"f(g(x))\")\n",
        "plt.legend([\"unity\", \"exp(log(x))\", \"log(exp(x))\"])\n",
        "plt.show()"
      ],
      "metadata": {
        "colab": {
          "base_uri": "https://localhost:8080/",
          "height": 289
        },
        "id": "QwpnYFjjGrki",
        "outputId": "1d53c1a2-372e-4185-fed1-191de9463046"
      },
      "execution_count": 32,
      "outputs": [
        {
          "output_type": "display_data",
          "data": {
            "text/plain": [
              "<Figure size 432x288 with 1 Axes>"
            ],
            "image/png": "[encoded data removed]"
          },
          "metadata": {
            "needs_background": "light"
          }
        }
      ]
    },
    {
      "cell_type": "markdown",
      "source": [
        "## Entropy & Cross-Entropy"
      ],
      "metadata": {
        "id": "IHBE622u0Hv5"
      }
    },
    {
      "cell_type": "markdown",
      "source": [
        "* In DL we are interested in information theoretic entropy (Shanon's Entropy), not the one related to physics.\n",
        "\n",
        "* Entropy formula: $H(p) = -\\sum_{x} p(x)log(p(x))$\n",
        "\n",
        "* x = data values, p = probability the event occurs. Units of entropy are called bits\n",
        "\n",
        "* High entropy: data with a lot of variability, and vice versa, low entropy means most of the values of the dataset repeat and therefore are redundant.\n",
        "\n",
        "* Cross-Entropy describes the relationship between two probability distributions and is defined as $H(p,q) = -\\sum_{x} p(x) log(q(x)) $ \n",
        "\n",
        "* In DL we use cross entropy to characterize the performance of the model: p(x) describes the probability the picture represnetns cat, while q(x) will be the probability of the model that the picture is a cat."
      ],
      "metadata": {
        "id": "UBVoxRGO0PHS"
      }
    },
    {
      "cell_type": "code",
      "source": [
        "# Define the probability of en event happening\n",
        "p = 0.25\n",
        "q = 1-p\n",
        "\n",
        "# Wrong way of defining entrpy (Event of happening)\n",
        "H = -(p*np.log(p))\n",
        "print(\"Wrong Entropy: {:.2f}\".format(H))"
      ],
      "metadata": {
        "colab": {
          "base_uri": "https://localhost:8080/"
        },
        "id": "7r6iGMm50LZE",
        "outputId": "0fa6e1ef-0193-4043-a2da-e1af6d8cde93"
      },
      "execution_count": 33,
      "outputs": [
        {
          "output_type": "stream",
          "name": "stdout",
          "text": [
            "Wrong Entropy: 0.35\n"
          ]
        }
      ]
    },
    {
      "cell_type": "code",
      "source": [
        "# Correct way to compute entropy\n",
        "x = [0.25, 0.75]\n",
        "\n",
        "H = 0\n",
        "for p in x:\n",
        "  H = H - p*np.log(p)\n",
        "\n",
        "print(\"Correct Entropy: {:.2f}\".format(H))"
      ],
      "metadata": {
        "colab": {
          "base_uri": "https://localhost:8080/"
        },
        "id": "9mgLUZBd1sLf",
        "outputId": "7240b943-4de9-4d0c-c4fb-32ae96bc11aa"
      },
      "execution_count": 34,
      "outputs": [
        {
          "output_type": "stream",
          "name": "stdout",
          "text": [
            "Correct Entropy: 0.56\n"
          ]
        }
      ]
    },
    {
      "cell_type": "code",
      "source": [
        "# Hard-coded for two events only\n",
        "# Formula for Binary Entropy\n",
        "H = -(p*np.log(p) + (1-p)*np.log(1-p))\n",
        "print(H)"
      ],
      "metadata": {
        "colab": {
          "base_uri": "https://localhost:8080/"
        },
        "id": "m8IYhtEs2Y_g",
        "outputId": "323fd287-131d-42d7-9e42-5c5307e092f2"
      },
      "execution_count": 35,
      "outputs": [
        {
          "output_type": "stream",
          "name": "stdout",
          "text": [
            "0.5623351446188083\n"
          ]
        }
      ]
    },
    {
      "cell_type": "code",
      "source": [
        "# Cross-Entropy: now we need two probabilities\n",
        "p = [1, 0]\n",
        "q = [0.25, 0.75]\n",
        "H = 0\n",
        "for i in range(len(p)):\n",
        "  H = H - p[i]*np.log(q[i])\n",
        "\n",
        "print(\"Cross-Entropy is: {:.2f}\".format(H))"
      ],
      "metadata": {
        "colab": {
          "base_uri": "https://localhost:8080/"
        },
        "id": "1y_dYVsL3Fus",
        "outputId": "404f100e-8d5e-42be-bab5-e30b299471d8"
      },
      "execution_count": 36,
      "outputs": [
        {
          "output_type": "stream",
          "name": "stdout",
          "text": [
            "Cross-Entropy is: 1.39\n"
          ]
        }
      ]
    },
    {
      "cell_type": "code",
      "source": [
        "# Hard-coded for 2 events\n",
        "H = -(p[0]*np.log(q[0]) + p[1]*np.log(q[1]))\n",
        "print(H)"
      ],
      "metadata": {
        "colab": {
          "base_uri": "https://localhost:8080/"
        },
        "id": "oxVFQc9f3pYg",
        "outputId": "66899e64-e2a7-4d51-9616-5df1c8a47c2c"
      },
      "execution_count": 37,
      "outputs": [
        {
          "output_type": "stream",
          "name": "stdout",
          "text": [
            "1.3862943611198906\n"
          ]
        }
      ]
    },
    {
      "cell_type": "code",
      "source": [
        "# Further simplification when p=[1,0]\n",
        "H = -np.log(q[0])\n",
        "print(H)"
      ],
      "metadata": {
        "colab": {
          "base_uri": "https://localhost:8080/"
        },
        "id": "um_iVhHl4XgN",
        "outputId": "1b45b225-a716-456a-c467-e20394f569fa"
      },
      "execution_count": 38,
      "outputs": [
        {
          "output_type": "stream",
          "name": "stdout",
          "text": [
            "1.3862943611198906\n"
          ]
        }
      ]
    },
    {
      "cell_type": "markdown",
      "source": [
        "### Cross-Entropy in PyTorch"
      ],
      "metadata": {
        "id": "hha2aj324njW"
      }
    },
    {
      "cell_type": "code",
      "source": [
        "# torch.nn.functional as F\n",
        "# Inputs must be tensors\n",
        "q_tensor = torch.Tensor(q)\n",
        "p_tensor = torch.Tensor(p)\n",
        "\n",
        "# Only two options: present vs absent\n",
        "# doesnt work with numpy arrays\n",
        "# order q(model prediction) and p(original probability) order is important in pytorch\n",
        "F.binary_cross_entropy(q_tensor,p_tensor)"
      ],
      "metadata": {
        "colab": {
          "base_uri": "https://localhost:8080/"
        },
        "id": "XXMqYjsE4mBW",
        "outputId": "76b82702-f96c-49dc-e75b-a061c50ed615"
      },
      "execution_count": 39,
      "outputs": [
        {
          "output_type": "execute_result",
          "data": {
            "text/plain": [
              "tensor(1.3863)"
            ]
          },
          "metadata": {},
          "execution_count": 39
        }
      ]
    },
    {
      "cell_type": "markdown",
      "source": [
        "## argmin and argmax functions"
      ],
      "metadata": {
        "id": "d6pIX5b_rRGq"
      }
    },
    {
      "cell_type": "markdown",
      "source": [
        "* min() and max() give the minimum and maximum number in a list or array of numbers.\n",
        "\n",
        "* argmin() and argmax() return the location of the minimum and maximum value in a list or array of numbers"
      ],
      "metadata": {
        "id": "YtCeMr-xjLeg"
      }
    },
    {
      "cell_type": "markdown",
      "source": [
        "### Using Numpy"
      ],
      "metadata": {
        "id": "VEQZgGNOrVhr"
      }
    },
    {
      "cell_type": "code",
      "source": [
        "# Create a vector using numpy\n",
        "v = np.array([1,40,2,-3])\n",
        "\n",
        "# Find and report the minimum and maximum values\n",
        "minval = np.min(v)\n",
        "maxval = np.max(v)\n",
        "\n",
        "print(\"min, max: %g,%g\"%(minval, maxval))"
      ],
      "metadata": {
        "colab": {
          "base_uri": "https://localhost:8080/"
        },
        "id": "rnjcLGtKrYwA",
        "outputId": "ded77d37-8964-457c-dbba-6ae1ed2b0401"
      },
      "execution_count": 40,
      "outputs": [
        {
          "output_type": "stream",
          "name": "stdout",
          "text": [
            "min, max: -3,40\n"
          ]
        }
      ]
    },
    {
      "cell_type": "code",
      "source": [
        "# use argmin and argmax\n",
        "minidx = np.argmin(v)\n",
        "maxidx = np.argmax(v)\n",
        "\n",
        "print(\"min, max indices: %g,%g\"%(minidx, maxidx))"
      ],
      "metadata": {
        "colab": {
          "base_uri": "https://localhost:8080/"
        },
        "id": "had93WNDr-kK",
        "outputId": "2d05eb2b-e782-40e2-dc28-e85af10e68b7"
      },
      "execution_count": 41,
      "outputs": [
        {
          "output_type": "stream",
          "name": "stdout",
          "text": [
            "min, max indices: 3,1\n"
          ]
        }
      ]
    },
    {
      "cell_type": "code",
      "source": [
        "# Confirm\n",
        "print(\"Min value is {}, and max value is {}\".format(v[minidx], v[maxidx]))"
      ],
      "metadata": {
        "colab": {
          "base_uri": "https://localhost:8080/"
        },
        "id": "wiIARA7YsSL9",
        "outputId": "5eff8a11-7d40-4509-fcc0-8389dbdd430e"
      },
      "execution_count": 42,
      "outputs": [
        {
          "output_type": "stream",
          "name": "stdout",
          "text": [
            "Min value is -3, and max value is 40\n"
          ]
        }
      ]
    },
    {
      "cell_type": "code",
      "source": [
        "print(f\"Min value is {v[minidx]}, and max value is {v[maxidx]}\")"
      ],
      "metadata": {
        "colab": {
          "base_uri": "https://localhost:8080/"
        },
        "id": "U2utoUdrkNn4",
        "outputId": "280d815b-d501-44a2-d4c8-95803c3389d0"
      },
      "execution_count": 43,
      "outputs": [
        {
          "output_type": "stream",
          "name": "stdout",
          "text": [
            "Min value is -3, and max value is 40\n"
          ]
        }
      ]
    },
    {
      "cell_type": "code",
      "source": [
        "# repeat the same thing for matrices\n",
        "M = np.array([[0,1,10],\n",
        "              [20,8,5]])\n",
        "\n",
        "print(M)"
      ],
      "metadata": {
        "colab": {
          "base_uri": "https://localhost:8080/"
        },
        "id": "FIWGSdy6ssQW",
        "outputId": "ec9e0d8c-6011-4437-edb0-360567267389"
      },
      "execution_count": 44,
      "outputs": [
        {
          "output_type": "stream",
          "name": "stdout",
          "text": [
            "[[ 0  1 10]\n",
            " [20  8  5]]\n"
          ]
        }
      ]
    },
    {
      "cell_type": "code",
      "source": [
        "# Different types of minima in matrix. Same for max\n",
        "# overall minimum value\n",
        "minval1 = np.min(M)\n",
        "# minimum of each column\n",
        "minval2 = np.min(M,axis=0)\n",
        "# minimum for each row\n",
        "minval3 = np.min(M,axis=1)\n",
        "\n",
        "print(minval1)\n",
        "print()\n",
        "print(minval2)\n",
        "print()\n",
        "print(minval3)"
      ],
      "metadata": {
        "colab": {
          "base_uri": "https://localhost:8080/"
        },
        "id": "ruC5Bpz9s4Fl",
        "outputId": "9411e95a-6cce-4d44-d2c6-8e1d0186e88f"
      },
      "execution_count": 45,
      "outputs": [
        {
          "output_type": "stream",
          "name": "stdout",
          "text": [
            "0\n",
            "\n",
            "[0 1 5]\n",
            "\n",
            "[0 5]\n"
          ]
        }
      ]
    },
    {
      "cell_type": "code",
      "source": [
        "# Do the same for argmin\n",
        "minidx1 = np.argmin(M)\n",
        "minidx2 = np.argmin(M,axis=0)\n",
        "minidx3 = np.argmin(M,axis=1)\n",
        "\n",
        "print(minidx1)\n",
        "print()\n",
        "print(minidx2)\n",
        "print()\n",
        "print(minidx3)"
      ],
      "metadata": {
        "colab": {
          "base_uri": "https://localhost:8080/"
        },
        "id": "wMD1nkP2t4_W",
        "outputId": "3f4a2f06-0160-4ac4-f992-aed1e5fa0eb3"
      },
      "execution_count": 46,
      "outputs": [
        {
          "output_type": "stream",
          "name": "stdout",
          "text": [
            "0\n",
            "\n",
            "[0 0 1]\n",
            "\n",
            "[0 2]\n"
          ]
        }
      ]
    },
    {
      "cell_type": "markdown",
      "source": [
        "### Using PyToch"
      ],
      "metadata": {
        "id": "-qpfw-PruQ8F"
      }
    },
    {
      "cell_type": "code",
      "source": [
        "# First with vectors\n",
        "v = torch.tensor([1,40,2,-3])\n",
        "\n",
        "# find max and min values\n",
        "minval = torch.min(v)\n",
        "maxval = torch.max(v)\n",
        "\n",
        "print(\"min,max vals: %g,%g\"%(minval,maxval))"
      ],
      "metadata": {
        "colab": {
          "base_uri": "https://localhost:8080/"
        },
        "id": "4ftkqMt1uTJf",
        "outputId": "ff52578f-4988-4378-f5be-939808e19846"
      },
      "execution_count": 47,
      "outputs": [
        {
          "output_type": "stream",
          "name": "stdout",
          "text": [
            "min,max vals: -3,40\n"
          ]
        }
      ]
    },
    {
      "cell_type": "code",
      "source": [
        "minidx = torch.argmin(v)\n",
        "maxidx = torch.argmax(v)\n",
        "\n",
        "print(\"min,max args: %g,%g\"%(minidx,maxidx))"
      ],
      "metadata": {
        "colab": {
          "base_uri": "https://localhost:8080/"
        },
        "id": "y3HnL05SvCnS",
        "outputId": "64eb9fd7-a617-4a84-db09-fdc9a5e32e06"
      },
      "execution_count": 48,
      "outputs": [
        {
          "output_type": "stream",
          "name": "stdout",
          "text": [
            "min,max args: 3,1\n"
          ]
        }
      ]
    },
    {
      "cell_type": "code",
      "source": [
        "# Confirm the whole thing\n",
        "print(\"Min value is {}, and max value is {}\".format(v[minidx], v[maxidx]))"
      ],
      "metadata": {
        "colab": {
          "base_uri": "https://localhost:8080/"
        },
        "id": "1b3zecnfvQo8",
        "outputId": "14039bd4-5b8f-4bb0-f2d6-d3af6048bc44"
      },
      "execution_count": 49,
      "outputs": [
        {
          "output_type": "stream",
          "name": "stdout",
          "text": [
            "Min value is -3, and max value is 40\n"
          ]
        }
      ]
    },
    {
      "cell_type": "code",
      "source": [
        "# Do the same with matrix\n",
        "M = torch.tensor([[0,1,10],\n",
        "                  [20,8,5]])\n",
        "print(M)"
      ],
      "metadata": {
        "colab": {
          "base_uri": "https://localhost:8080/"
        },
        "id": "tp67FS0DvbiO",
        "outputId": "d4a08e0b-ad7c-41dc-a081-f4faa4bd9f28"
      },
      "execution_count": 50,
      "outputs": [
        {
          "output_type": "stream",
          "name": "stdout",
          "text": [
            "tensor([[ 0,  1, 10],\n",
            "        [20,  8,  5]])\n"
          ]
        }
      ]
    },
    {
      "cell_type": "code",
      "source": [
        "# Differet minimas of the matrix\n",
        "# overall\n",
        "minval1 = torch.min(M)\n",
        "# minimum of each column\n",
        "minval2 = torch.min(M,axis=0)\n",
        "# minimum for each row\n",
        "minval3 = torch.min(M,axis=1)\n",
        "\n",
        "print(minval1)\n",
        "print()\n",
        "print(minval2)  # torch object\n",
        "print()\n",
        "print(minval2.values)  # numerical results\n",
        "print()\n",
        "print(minval2.indices)  # indices of minimum values\n",
        "print()\n",
        "print(minval3)  # both values and indices"
      ],
      "metadata": {
        "colab": {
          "base_uri": "https://localhost:8080/"
        },
        "id": "e3Y4Hot7vmZi",
        "outputId": "618cc573-148c-49a6-a39e-796886a3e4e6"
      },
      "execution_count": 51,
      "outputs": [
        {
          "output_type": "stream",
          "name": "stdout",
          "text": [
            "tensor(0)\n",
            "\n",
            "torch.return_types.min(\n",
            "values=tensor([0, 1, 5]),\n",
            "indices=tensor([0, 0, 1]))\n",
            "\n",
            "tensor([0, 1, 5])\n",
            "\n",
            "tensor([0, 0, 1])\n",
            "\n",
            "torch.return_types.min(\n",
            "values=tensor([0, 5]),\n",
            "indices=tensor([0, 2]))\n"
          ]
        }
      ]
    },
    {
      "cell_type": "code",
      "source": [
        "minval2.values"
      ],
      "metadata": {
        "colab": {
          "base_uri": "https://localhost:8080/"
        },
        "id": "T6rMnOESl96w",
        "outputId": "abed695b-6c17-46a1-c826-72c2dcb66ff0"
      },
      "execution_count": 52,
      "outputs": [
        {
          "output_type": "execute_result",
          "data": {
            "text/plain": [
              "tensor([0, 1, 5])"
            ]
          },
          "metadata": {},
          "execution_count": 52
        }
      ]
    },
    {
      "cell_type": "code",
      "source": [
        "# Do the same for argmin\n",
        "minidx1 = torch.argmin(M)\n",
        "minidx2 = torch.argmin(M,axis=0)\n",
        "minidx3 = torch.argmin(M,axis=1)\n",
        "\n",
        "print(minidx1)\n",
        "print()\n",
        "print(minidx2)\n",
        "print()\n",
        "print(minidx3)"
      ],
      "metadata": {
        "colab": {
          "base_uri": "https://localhost:8080/"
        },
        "id": "xahk-aEOv3NY",
        "outputId": "f4127787-b788-4288-f3aa-5de0e34b9d4d"
      },
      "execution_count": 53,
      "outputs": [
        {
          "output_type": "stream",
          "name": "stdout",
          "text": [
            "tensor(0)\n",
            "\n",
            "tensor([0, 0, 1])\n",
            "\n",
            "tensor([0, 2])\n"
          ]
        }
      ]
    },
    {
      "cell_type": "markdown",
      "source": [
        "## Mean and Variance"
      ],
      "metadata": {
        "id": "G4JjR6N9VKIW"
      }
    },
    {
      "cell_type": "markdown",
      "source": [
        "* Mean is the most commonly used measure of central tendency of the data. Defined as $\\bar{x} = n^{-1} \\sum_{i=1}^{n} x_i$. It is mostly suitable for normal or nearly noramally distributed data.\n",
        "\n",
        "* Variance is suitable for any distribution and data type. It is defined as $ \\sigma^2 = 1/(n-1) \\sum_{i=1}^{n} (x_i - \\bar{x})^2$\n",
        "\n",
        "* Standard deviation is just the square root of the variance, therefore it is indicated by $\\sigma$."
      ],
      "metadata": {
        "id": "wEkHadVao1jk"
      }
    },
    {
      "cell_type": "code",
      "source": [
        "# Generate a list of numbers\n",
        "x = [1,2,4,6,5,4,0]\n",
        "n = len(x)\n",
        "\n",
        "# Compute the mean in two different ways\n",
        "mean1 = np.mean(x)\n",
        "mean2 = np.sum(x)/len(x)\n",
        "\n",
        "print(mean1)\n",
        "print()\n",
        "print(mean2)"
      ],
      "metadata": {
        "colab": {
          "base_uri": "https://localhost:8080/"
        },
        "id": "zvK-wQ7cVN3V",
        "outputId": "24e66d25-2640-47d6-9946-8039e89a6cdf"
      },
      "execution_count": 54,
      "outputs": [
        {
          "output_type": "stream",
          "name": "stdout",
          "text": [
            "3.142857142857143\n",
            "\n",
            "3.142857142857143\n"
          ]
        }
      ]
    },
    {
      "cell_type": "code",
      "source": [
        "# Variance\n",
        "var1 = np.var(x) # biased variance (ddof=0 is the default)\n",
        "var1ub = np.var(x, ddof=1)\n",
        "var2 = (1/(n-1))*np.sum((x - mean1)**2) # unbiased variance\n",
        "\n",
        "print(var1)\n",
        "print()\n",
        "print(var1ub)\n",
        "print()\n",
        "print(var2)"
      ],
      "metadata": {
        "colab": {
          "base_uri": "https://localhost:8080/"
        },
        "id": "HxGmS0MxVr-8",
        "outputId": "97f8794e-ef93-470f-fc00-63214fb5969b"
      },
      "execution_count": 55,
      "outputs": [
        {
          "output_type": "stream",
          "name": "stdout",
          "text": [
            "4.122448979591836\n",
            "\n",
            "4.809523809523809\n",
            "\n",
            "4.809523809523809\n"
          ]
        }
      ]
    },
    {
      "cell_type": "code",
      "source": [
        "# For large samples, biased vs unbiased makes no difference\n",
        "N = 1000\n",
        "x = np.random.randint(0, high=20,size=N)\n",
        "\n",
        "varb = np.var(x, ddof=0)  # Biased variance\n",
        "varu = np.var(x, ddof=1)  # Unbiased Variance\n",
        "\n",
        "print(\"Biased variance: {:.4f}\".format(varb))\n",
        "print(\"Unbiased variance: {:.4f}\".format(varu))"
      ],
      "metadata": {
        "colab": {
          "base_uri": "https://localhost:8080/"
        },
        "id": "t9UegSNiWxXi",
        "outputId": "910ced2a-0ce2-4e96-e63d-165489796840"
      },
      "execution_count": 56,
      "outputs": [
        {
          "output_type": "stream",
          "name": "stdout",
          "text": [
            "Biased variance: 32.7964\n",
            "Unbiased variance: 32.8292\n"
          ]
        }
      ]
    },
    {
      "cell_type": "markdown",
      "source": [
        "## Sampling"
      ],
      "metadata": {
        "id": "z3lYbBUvuaZL"
      }
    },
    {
      "cell_type": "markdown",
      "source": [
        "* **Sampling Variability**: Different samples from the same population can have different values of the same measurement.\n",
        "\n",
        "* Implications of sampling variability: A single measurement may be an unreliable estimate of a population parameter.\n",
        "\n",
        "* Sources of Sampling Variability\n",
        "-a. Natural Variation: Often seen in biology\n",
        "-b. Measurement Noise: Sensors are imperfect\n",
        "-c. Complex Systems: Measuring some factors while ignoring others\n",
        "-d. Stochasticity (randomness) everywhere in the universe."
      ],
      "metadata": {
        "id": "j7DYEiXws5wX"
      }
    },
    {
      "cell_type": "code",
      "source": [
        "# create a list of number and compute its mean and vaiance\n",
        "x = [1,2,4,6,5,4,0,-4,5,-2,6,10,-9,1,3,-6]\n",
        "n = len(x)\n",
        "\n",
        "# compute population mean\n",
        "popmean = np.mean(x)\n",
        "\n",
        "# pick a sample and compute its mean\n",
        "sample = np.random.choice(x,size = 5, replace=True)\n",
        "sampmean = np.mean(sample)\n",
        "\n",
        "print(popmean)\n",
        "print()\n",
        "print(sampmean)"
      ],
      "metadata": {
        "colab": {
          "base_uri": "https://localhost:8080/"
        },
        "id": "94GFoogIucGx",
        "outputId": "ac909b6e-b0a6-441f-b176-3ed5a3fbc865"
      },
      "execution_count": 57,
      "outputs": [
        {
          "output_type": "stream",
          "name": "stdout",
          "text": [
            "1.625\n",
            "\n",
            "1.6\n"
          ]
        }
      ]
    },
    {
      "cell_type": "code",
      "source": [
        "# Compute many sample means\n",
        "N = 10000\n",
        "sampleMean = np.zeros(N)\n",
        "for i in range(N):\n",
        "  # get a random sample\n",
        "  sample = np.random.choice(x, size = 5, replace=True)\n",
        "\n",
        "  # Compute the sample mean\n",
        "  sampleMean[i] = np.mean(sample)\n",
        "\n",
        "plt.hist(sampleMean, bins=40, density=True)\n",
        "plt.plot([popmean,popmean],[0,0.3], \"m--\")\n",
        "plt.ylabel(\"Count\")\n",
        "plt.xlabel(\"Sample Mean\")\n",
        "plt.show()"
      ],
      "metadata": {
        "colab": {
          "base_uri": "https://localhost:8080/",
          "height": 289
        },
        "id": "2vwxKhIXvnqg",
        "outputId": "6191630c-7e9c-47de-b7a2-5eb596f8d80f"
      },
      "execution_count": 58,
      "outputs": [
        {
          "output_type": "display_data",
          "data": {
            "text/plain": [
              "<Figure size 432x288 with 1 Axes>"
            ],
            "image/png": "[encoded data removed]"
          },
          "metadata": {
            "needs_background": "light"
          }
        }
      ]
    },
    {
      "cell_type": "markdown",
      "source": [
        "## Random Seeds"
      ],
      "metadata": {
        "id": "2Ydey-_nyXU6"
      }
    },
    {
      "cell_type": "markdown",
      "source": [
        "### Random Seeding in Pyhon"
      ],
      "metadata": {
        "id": "nUDWgMLByXoB"
      }
    },
    {
      "cell_type": "code",
      "source": [
        "# Generate some random numbers\n",
        "np.random.randn(5)"
      ],
      "metadata": {
        "colab": {
          "base_uri": "https://localhost:8080/"
        },
        "id": "dWzHA37hydU8",
        "outputId": "102b36d0-10bb-4c02-e060-e173551dd161"
      },
      "execution_count": 59,
      "outputs": [
        {
          "output_type": "execute_result",
          "data": {
            "text/plain": [
              "array([ 0.70196659, -0.76049987, -1.38263957,  0.17405765,  0.05812293])"
            ]
          },
          "metadata": {},
          "execution_count": 59
        }
      ]
    },
    {
      "cell_type": "code",
      "source": [
        "# fix a seed\n",
        "np.random.seed(17)\n",
        "print(np.random.randn(5))\n",
        "print(np.random.randn(5))"
      ],
      "metadata": {
        "colab": {
          "base_uri": "https://localhost:8080/"
        },
        "id": "bNRPKg7Syuy8",
        "outputId": "77581a26-2f33-4f98-f0eb-0825fb20ef57"
      },
      "execution_count": 60,
      "outputs": [
        {
          "output_type": "stream",
          "name": "stdout",
          "text": [
            "[ 0.27626589 -1.85462808  0.62390111  1.14531129  1.03719047]\n",
            "[ 1.88663893 -0.11169829 -0.36210134  0.14867505 -0.43778315]\n"
          ]
        }
      ]
    },
    {
      "cell_type": "code",
      "source": [
        "# The new seed mechanism in Numpy\n",
        "randseed1 = np.random.RandomState(17)\n",
        "randseed2 = np.random.RandomState(1234)\n",
        "# local scope for the seed, not global like the upper approach\n",
        "print(randseed1.randn(5))\n",
        "print()\n",
        "print(randseed2.randn(5))\n",
        "print()\n",
        "print(randseed1.randn(5))\n",
        "print()\n",
        "print(randseed2.randn(5))\n",
        "print()\n",
        "print(np.random.randn(5)) # not seeded"
      ],
      "metadata": {
        "colab": {
          "base_uri": "https://localhost:8080/"
        },
        "id": "M32Wa-vby7Pi",
        "outputId": "649e7cd4-5ca7-42c3-e45c-61ac6cbf3bcf"
      },
      "execution_count": 61,
      "outputs": [
        {
          "output_type": "stream",
          "name": "stdout",
          "text": [
            "[ 0.27626589 -1.85462808  0.62390111  1.14531129  1.03719047]\n",
            "\n",
            "[ 0.47143516 -1.19097569  1.43270697 -0.3126519  -0.72058873]\n",
            "\n",
            "[ 1.88663893 -0.11169829 -0.36210134  0.14867505 -0.43778315]\n",
            "\n",
            "[ 0.88716294  0.85958841 -0.6365235   0.01569637 -2.24268495]\n",
            "\n",
            "[ 2.171257    1.15231025 -1.81881234 -0.13804934  0.53983961]\n"
          ]
        }
      ]
    },
    {
      "cell_type": "markdown",
      "source": [
        "### In pytorch"
      ],
      "metadata": {
        "id": "YaRqLTtk0eZs"
      }
    },
    {
      "cell_type": "code",
      "source": [
        "# tensor of random numbers\n",
        "torch.randn(5)"
      ],
      "metadata": {
        "colab": {
          "base_uri": "https://localhost:8080/"
        },
        "id": "zW8SYOjP0c9W",
        "outputId": "865f7ddc-c2b2-4e51-cc3c-54220e6678d6"
      },
      "execution_count": 62,
      "outputs": [
        {
          "output_type": "execute_result",
          "data": {
            "text/plain": [
              "tensor([-0.2005,  0.0591, -0.4651,  2.0095,  0.9924])"
            ]
          },
          "metadata": {},
          "execution_count": 62
        }
      ]
    },
    {
      "cell_type": "code",
      "source": [
        "# Similar to numpy's old system\n",
        "torch.manual_seed(17)\n",
        "print(torch.randn(5))\n",
        "\n",
        "# Torch's seed does not spread to numpy: different every time\n",
        "print(np.random.randn(5))"
      ],
      "metadata": {
        "colab": {
          "base_uri": "https://localhost:8080/"
        },
        "id": "3rJH7iPh0kXh",
        "outputId": "f020b849-e083-42ab-e022-84aa5568a88f"
      },
      "execution_count": 63,
      "outputs": [
        {
          "output_type": "stream",
          "name": "stdout",
          "text": [
            "tensor([-1.4135,  0.2336,  0.0340,  0.3499, -0.0145])\n",
            "[-1.77528229  1.31487654 -0.47344805 -1.0922299  -0.25002744]\n"
          ]
        }
      ]
    },
    {
      "cell_type": "markdown",
      "source": [
        "## t-test"
      ],
      "metadata": {
        "id": "kA-zNKIN3eci"
      }
    },
    {
      "cell_type": "markdown",
      "source": [
        "* t-test is a way to deterimne whether data drwan from one distribution (or sample) is significantly different from the data drawn from another distribution (or sample). In DL we use it to compare model performances: The alternative hypothesis is that model A is significantly different than model B, while the null hypothesis is that the two models performed equally well. \n",
        "\n",
        "* $t_k = (\\bar{x} - \\bar{y}) / (s/ \\sqrt(n)$"
      ],
      "metadata": {
        "id": "vnqXGzoMzaLe"
      }
    },
    {
      "cell_type": "code",
      "source": [
        "# we need scipy.stats for statistical tests\n",
        "import scipy.stats as stats"
      ],
      "metadata": {
        "id": "dPmPP-7L3hH4"
      },
      "execution_count": 64,
      "outputs": []
    },
    {
      "cell_type": "code",
      "source": [
        "# define the parameters\n",
        "n1 = 30   # samples in dataset 1\n",
        "n2 = 40   # samples in dataset 2\n",
        "mu1 = 1   # population mean of dataset 1\n",
        "mu2 = 2   # population mean of dataset 2\n",
        "\n",
        "# generate the data according to these parameters\n",
        "data1 = mu1 + np.random.randn(n1)\n",
        "data2 = mu2 + np.random.randn(n2)\n",
        "\n",
        "# plot everything\n",
        "plt.plot(np.zeros(n1), data1, \"ro\", markerfacecolor=\"w\", markersize=14)\n",
        "plt.plot(np.ones(n2), data2, \"bs\", markerfacecolor=\"w\", markersize=14)\n",
        "plt.xlim([-1,2])\n",
        "plt.xticks([0,1], labels=[\"Group1\", \"Group2\"])\n",
        "plt.show()"
      ],
      "metadata": {
        "colab": {
          "base_uri": "https://localhost:8080/",
          "height": 275
        },
        "id": "gEBioWpy3r7N",
        "outputId": "74ebe253-7b53-48e6-d96a-3e732383e124"
      },
      "execution_count": 65,
      "outputs": [
        {
          "output_type": "display_data",
          "data": {
            "text/plain": [
              "<Figure size 432x288 with 1 Axes>"
            ],
            "image/png": "[encoded data removed]"
          },
          "metadata": {
            "needs_background": "light"
          }
        }
      ]
    },
    {
      "cell_type": "code",
      "source": [
        "# test whether their means change significantly\n",
        "# _ind = independent samples\n",
        "t,p = stats.ttest_ind(data1,data2)\n",
        "print(t)\n",
        "print()\n",
        "print(p)"
      ],
      "metadata": {
        "colab": {
          "base_uri": "https://localhost:8080/"
        },
        "id": "UPwqix7j5HzW",
        "outputId": "c1311cb2-a565-4e88-f6b0-80f67de74e19"
      },
      "execution_count": 66,
      "outputs": [
        {
          "output_type": "stream",
          "name": "stdout",
          "text": [
            "-3.9795870896140824\n",
            "\n",
            "0.0001701882699200114\n"
          ]
        }
      ]
    },
    {
      "cell_type": "code",
      "source": [
        "# Common way to show t=test results in a plot\n",
        "fig = plt.figure(figsize=(10,4))\n",
        "plt.rcParams.update({\"font.size\":12}) # change the fontsize of labels on picture\n",
        "\n",
        "plt.plot(0+np.random.randn(n1)/15, data1, \"ro\", markerfacecolor=\"w\", markersize=14)\n",
        "plt.plot(1+np.random.randn(n1)/15, data1, \"bs\", markerfacecolor=\"w\", markersize=14)\n",
        "plt.xlim([-1,2])\n",
        "plt.xticks([0,1], labels=[\"Group 1\", \"Group 2\"])\n",
        "\n",
        "# Set the title to include the t- and p-values\n",
        "plt.title(f\"t = {t:.2f}, p = {p:.3f}\")\n",
        "plt.show()"
      ],
      "metadata": {
        "colab": {
          "base_uri": "https://localhost:8080/",
          "height": 285
        },
        "id": "HgaVSX145cZt",
        "outputId": "da87394d-9904-49db-ecab-8b62df70355d"
      },
      "execution_count": 67,
      "outputs": [
        {
          "output_type": "display_data",
          "data": {
            "text/plain": [
              "<Figure size 720x288 with 1 Axes>"
            ],
            "image/png": "[encoded data removed]"
          },
          "metadata": {
            "needs_background": "light"
          }
        }
      ]
    },
    {
      "cell_type": "markdown",
      "source": [
        "## Derivatives"
      ],
      "metadata": {
        "id": "CIT6w8qHBGt1"
      }
    },
    {
      "cell_type": "markdown",
      "source": [
        "Why Derivatives matter in DL:\n",
        "\n",
        "* Derivatives point in the direction of increases and decreases in a mathematical function (Definition).\n",
        "\n",
        "* The goal of the algorithm is represented as an error function. Thus the best solution is the point with the smallest error.\n",
        "\n",
        "* The derivative tells us which way to move in that error landscape in order to find the optimal solution\n",
        "\n",
        "* There is no DL without derivatives!"
      ],
      "metadata": {
        "id": "Qe2gh8es6kH7"
      }
    },
    {
      "cell_type": "code",
      "source": [
        "# sympy = symbolic math in python\n",
        "import sympy as sym\n",
        "import sympy.plotting.plot as symplot"
      ],
      "metadata": {
        "id": "tSUctaB9BJFf"
      },
      "execution_count": 68,
      "outputs": []
    },
    {
      "cell_type": "code",
      "source": [
        "# create symbolic vaiables in sympy\n",
        "x = sym.symbols(\"x\")\n",
        "\n",
        "# create a unction\n",
        "fx = 2*x**2\n",
        "\n",
        "# compute its derivative\n",
        "df = sym.diff(fx,x)\n",
        "\n",
        "print(x)\n",
        "print()\n",
        "print(fx)\n",
        "print()\n",
        "print(df)"
      ],
      "metadata": {
        "colab": {
          "base_uri": "https://localhost:8080/"
        },
        "id": "OGA-CxycBYvJ",
        "outputId": "e3b767ac-474b-4a50-a130-95cee462d7a2"
      },
      "execution_count": 69,
      "outputs": [
        {
          "output_type": "stream",
          "name": "stdout",
          "text": [
            "x\n",
            "\n",
            "2*x**2\n",
            "\n",
            "4*x\n"
          ]
        }
      ]
    },
    {
      "cell_type": "code",
      "source": [
        "# Plot the function and its derivative\n",
        "symplot(fx, (x,-4,4), title=\"The Function\")\n",
        "plt.show()"
      ],
      "metadata": {
        "colab": {
          "base_uri": "https://localhost:8080/",
          "height": 293
        },
        "id": "kFheZlJEBylw",
        "outputId": "de5d1d04-a6c2-45b2-f564-fafce2355718"
      },
      "execution_count": 70,
      "outputs": [
        {
          "output_type": "display_data",
          "data": {
            "text/plain": [
              "<Figure size 432x288 with 1 Axes>"
            ],
            "image/png": "[encoded data removed]"
          },
          "metadata": {
            "needs_background": "light"
          }
        }
      ]
    },
    {
      "cell_type": "code",
      "source": [
        "# Draw the derivative of the function\n",
        "symplot(df,(x,-4,4), title=\"Derivative\")\n",
        "plt.show()"
      ],
      "metadata": {
        "colab": {
          "base_uri": "https://localhost:8080/",
          "height": 293
        },
        "id": "T43Jl6JcB-I4",
        "outputId": "4e1d6027-cb1b-45c8-9c57-c5aab34be09b"
      },
      "execution_count": 71,
      "outputs": [
        {
          "output_type": "display_data",
          "data": {
            "text/plain": [
              "<Figure size 432x288 with 1 Axes>"
            ],
            "image/png": "[encoded data removed]"
          },
          "metadata": {
            "needs_background": "light"
          }
        }
      ]
    },
    {
      "cell_type": "code",
      "source": [
        "# Repeat it for ReLU and Sigmoid\n",
        "# create symbolic functions\n",
        "relu = sym.Max(0,x)\n",
        "sigmoid = 1/(1+sym.exp(-x))\n",
        "\n",
        "print(relu)\n",
        "print()\n",
        "print(sigmoid)"
      ],
      "metadata": {
        "colab": {
          "base_uri": "https://localhost:8080/"
        },
        "id": "EtRQBk6HCJBi",
        "outputId": "f9699b12-0bc8-4fb5-e7f2-6ee530137b2c"
      },
      "execution_count": 72,
      "outputs": [
        {
          "output_type": "stream",
          "name": "stdout",
          "text": [
            "Max(0, x)\n",
            "\n",
            "1/(1 + exp(-x))\n"
          ]
        }
      ]
    },
    {
      "cell_type": "code",
      "source": [
        "# Show them on graphs\n",
        "p = symplot(relu,(x,-4,4), label=\"ReLU\",show=False, lin_color=\"blue\")\n",
        "p.extend(symplot(sigmoid,(x,-4,4),label=\"Sigmoid\",show=False,line_color=\"red\"))\n",
        "p.legend = True\n",
        "# p.title = \"The Functions\"\n",
        "p.show()"
      ],
      "metadata": {
        "colab": {
          "base_uri": "https://localhost:8080/",
          "height": 293
        },
        "id": "tjggI1HdC-Ue",
        "outputId": "48ab68a6-1d6d-47f5-feea-1f44c361855d"
      },
      "execution_count": 73,
      "outputs": [
        {
          "output_type": "display_data",
          "data": {
            "text/plain": [
              "<Figure size 432x288 with 1 Axes>"
            ],
            "image/png": "[encoded data removed]"
          },
          "metadata": {
            "needs_background": "light"
          }
        }
      ]
    },
    {
      "cell_type": "code",
      "source": [
        "# Graph their derivatives\n",
        "p = symplot(sym.diff(relu), (x,-4,4),label=\"df(ReLU)\",show=False,line_color=\"blue\")\n",
        "p.extend(symplot(sym.diff(sigmoid),(x,-4,4),label=\"df(Sigmoid)\", show=False, line_color=\"red\"))\n",
        "p.legend=True\n",
        "# p.title = \"Derivatives\"\n",
        "p.show()"
      ],
      "metadata": {
        "colab": {
          "base_uri": "https://localhost:8080/",
          "height": 293
        },
        "id": "XqsB1rB_EqKY",
        "outputId": "18505660-1288-44d5-9914-76a5114c10eb"
      },
      "execution_count": 74,
      "outputs": [
        {
          "output_type": "display_data",
          "data": {
            "text/plain": [
              "<Figure size 432x288 with 1 Axes>"
            ],
            "image/png": "[encoded data removed]"
          },
          "metadata": {
            "needs_background": "light"
          }
        }
      ]
    },
    {
      "cell_type": "markdown",
      "source": [
        "## Minima and Maxima"
      ],
      "metadata": {
        "id": "5PkOyHnt9eiT"
      }
    },
    {
      "cell_type": "code",
      "source": [
        "# Define a function and take its derivative\n",
        "fx = -x**4 + 3*x**2\n",
        "dfx = sym.diff(fx, x)\n",
        "print(fx)\n",
        "print()\n",
        "print(dfx)"
      ],
      "metadata": {
        "colab": {
          "base_uri": "https://localhost:8080/"
        },
        "id": "qqdJUj1Y9jOX",
        "outputId": "d31be5a3-2c14-4d3f-ece9-00af16fd1467"
      },
      "execution_count": 75,
      "outputs": [
        {
          "output_type": "stream",
          "name": "stdout",
          "text": [
            "-x**4 + 3*x**2\n",
            "\n",
            "-4*x**3 + 6*x\n"
          ]
        }
      ]
    },
    {
      "cell_type": "code",
      "source": [
        "# Show them on graphs\n",
        "p = symplot(fx,(x,-2,2), label=\"f(x)\",show=False, lin_color=\"blue\")\n",
        "p.extend(symplot(dfx,(x,-1.5,1.5),label=\"df(x)\",show=False,line_color=\"red\"))\n",
        "p.legend = True\n",
        "p.show()"
      ],
      "metadata": {
        "colab": {
          "base_uri": "https://localhost:8080/",
          "height": 293
        },
        "id": "SHLBH0TF-cA2",
        "outputId": "2e73e8d4-d583-41b5-a927-faed3a713493"
      },
      "execution_count": 76,
      "outputs": [
        {
          "output_type": "display_data",
          "data": {
            "text/plain": [
              "<Figure size 432x288 with 1 Axes>"
            ],
            "image/png": "[encoded data removed]"
          },
          "metadata": {
            "needs_background": "light"
          }
        }
      ]
    },
    {
      "cell_type": "code",
      "source": [
        "# Define another function\n",
        "fx = x*sym.sin(x**2) + 1\n",
        "dfx = sym.diff(fx, x)\n",
        "print(fx)\n",
        "print()\n",
        "print(dfx)"
      ],
      "metadata": {
        "colab": {
          "base_uri": "https://localhost:8080/"
        },
        "id": "pgUqajH2ACZz",
        "outputId": "e92d18f6-60d1-4927-f353-ea88fc07b493"
      },
      "execution_count": 77,
      "outputs": [
        {
          "output_type": "stream",
          "name": "stdout",
          "text": [
            "x*sin(x**2) + 1\n",
            "\n",
            "2*x**2*cos(x**2) + sin(x**2)\n"
          ]
        }
      ]
    },
    {
      "cell_type": "code",
      "source": [
        "# Show them on graphs\n",
        "p = symplot(fx,(x,-2,3), label=\"f(x)\",show=False, lin_color=\"blue\")\n",
        "p.extend(symplot(dfx,(x,-2,3),label=\"df(x)\",show=False,line_color=\"red\"))\n",
        "p.legend = True\n",
        "p.show()"
      ],
      "metadata": {
        "colab": {
          "base_uri": "https://localhost:8080/",
          "height": 293
        },
        "id": "a8Igs7pdAUuJ",
        "outputId": "7e4b4d50-8b1d-441a-fa08-cb7db1b34156"
      },
      "execution_count": 78,
      "outputs": [
        {
          "output_type": "display_data",
          "data": {
            "text/plain": [
              "<Figure size 432x288 with 1 Axes>"
            ],
            "image/png": "[encoded data removed]"
          },
          "metadata": {
            "needs_background": "light"
          }
        }
      ]
    },
    {
      "cell_type": "markdown",
      "source": [
        "## Product and Chain Rule"
      ],
      "metadata": {
        "id": "9rlPyQW5iD9p"
      }
    },
    {
      "cell_type": "code",
      "source": [
        "from IPython.display import display"
      ],
      "metadata": {
        "id": "Wta-GhgvEfUc"
      },
      "execution_count": 79,
      "outputs": []
    },
    {
      "cell_type": "code",
      "source": [
        "# create symbolic variables in sympy\n",
        "x = sym.symbols(\"x\")\n",
        "\n",
        "# create two functions\n",
        "fx = 2*x**2\n",
        "gx = 4*x**3 - 3*x**4\n",
        "\n",
        "# compute their derivatives\n",
        "df = sym.diff(fx)\n",
        "dg = sym.diff(gx)\n",
        "\n",
        "print(df)\n",
        "print()\n",
        "print(dg)"
      ],
      "metadata": {
        "colab": {
          "base_uri": "https://localhost:8080/"
        },
        "id": "aJrsecd2iTsv",
        "outputId": "eff41f3d-5959-47bc-e9fb-c28dbf2d9de4"
      },
      "execution_count": 80,
      "outputs": [
        {
          "output_type": "stream",
          "name": "stdout",
          "text": [
            "4*x\n",
            "\n",
            "-12*x**3 + 12*x**2\n"
          ]
        }
      ]
    },
    {
      "cell_type": "code",
      "source": [
        "# manually apply the product rule\n",
        "manual = df*gx + fx*dg\n",
        "\n",
        "print(manual)"
      ],
      "metadata": {
        "colab": {
          "base_uri": "https://localhost:8080/"
        },
        "id": "1v7DXqnCi4XC",
        "outputId": "491e672b-26c6-421c-fcda-7303b1a8a30c"
      },
      "execution_count": 81,
      "outputs": [
        {
          "output_type": "stream",
          "name": "stdout",
          "text": [
            "2*x**2*(-12*x**3 + 12*x**2) + 4*x*(-3*x**4 + 4*x**3)\n"
          ]
        }
      ]
    },
    {
      "cell_type": "code",
      "source": [
        "# do the same using sympy\n",
        "viasympy = sym.diff(fx*gx)\n",
        "print(viasympy)"
      ],
      "metadata": {
        "colab": {
          "base_uri": "https://localhost:8080/"
        },
        "id": "BgCXSQw-jJAW",
        "outputId": "70a4f6b1-4fd3-424a-e82f-821130e08225"
      },
      "execution_count": 82,
      "outputs": [
        {
          "output_type": "stream",
          "name": "stdout",
          "text": [
            "2*x**2*(-12*x**3 + 12*x**2) + 4*x*(-3*x**4 + 4*x**3)\n"
          ]
        }
      ]
    },
    {
      "cell_type": "code",
      "source": [
        "# use display from IPython\n",
        "print(\"Original Functions\")\n",
        "display(fx)\n",
        "display(gx)\n",
        "print()\n",
        "print(\"Their Derivatives\")\n",
        "display(df)\n",
        "display(dg)\n",
        "print()\n",
        "print(\"Manual product Rule\")\n",
        "display(manual)\n",
        "print()\n",
        "print(\"Sympy product Rule\")\n",
        "display(viasympy)"
      ],
      "metadata": {
        "colab": {
          "base_uri": "https://localhost:8080/",
          "height": 266
        },
        "id": "vQYliYCZjZlI",
        "outputId": "d83e6ce4-366c-4929-b71d-f35f538675ef"
      },
      "execution_count": 83,
      "outputs": [
        {
          "output_type": "stream",
          "name": "stdout",
          "text": [
            "Original Functions\n"
          ]
        },
        {
          "output_type": "display_data",
          "data": {
            "text/plain": [
              "2*x**2"
            ],
            "text/latex": "$\\displaystyle 2 x^{2}$"
          },
          "metadata": {}
        },
        {
          "output_type": "display_data",
          "data": {
            "text/plain": [
              "-3*x**4 + 4*x**3"
            ],
            "text/latex": "$\\displaystyle - 3 x^{4} + 4 x^{3}$"
          },
          "metadata": {}
        },
        {
          "output_type": "stream",
          "name": "stdout",
          "text": [
            "\n",
            "Their Derivatives\n"
          ]
        },
        {
          "output_type": "display_data",
          "data": {
            "text/plain": [
              "4*x"
            ],
            "text/latex": "$\\displaystyle 4 x$"
          },
          "metadata": {}
        },
        {
          "output_type": "display_data",
          "data": {
            "text/plain": [
              "-12*x**3 + 12*x**2"
            ],
            "text/latex": "$\\displaystyle - 12 x^{3} + 12 x^{2}$"
          },
          "metadata": {}
        },
        {
          "output_type": "stream",
          "name": "stdout",
          "text": [
            "\n",
            "Manual product Rule\n"
          ]
        },
        {
          "output_type": "display_data",
          "data": {
            "text/plain": [
              "2*x**2*(-12*x**3 + 12*x**2) + 4*x*(-3*x**4 + 4*x**3)"
            ],
            "text/latex": "$\\displaystyle 2 x^{2} \\left(- 12 x^{3} + 12 x^{2}\\right) + 4 x \\left(- 3 x^{4} + 4 x^{3}\\right)$"
          },
          "metadata": {}
        },
        {
          "output_type": "stream",
          "name": "stdout",
          "text": [
            "\n",
            "Sympy product Rule\n"
          ]
        },
        {
          "output_type": "display_data",
          "data": {
            "text/plain": [
              "2*x**2*(-12*x**3 + 12*x**2) + 4*x*(-3*x**4 + 4*x**3)"
            ],
            "text/latex": "$\\displaystyle 2 x^{2} \\left(- 12 x^{3} + 12 x^{2}\\right) + 4 x \\left(- 3 x^{4} + 4 x^{3}\\right)$"
          },
          "metadata": {}
        }
      ]
    },
    {
      "cell_type": "code",
      "source": [
        "# use the chain rule\n",
        "fx = (x**2 + 4*x**3)**5\n",
        "\n",
        "print(\"The function\")\n",
        "display(fx)\n",
        "print(\"\")\n",
        "\n",
        "print(\"Has derivative\")\n",
        "display(sym.diff(fx))"
      ],
      "metadata": {
        "colab": {
          "base_uri": "https://localhost:8080/",
          "height": 118
        },
        "id": "LGRmuMfxkW83",
        "outputId": "2fd76954-2dcf-41a0-8e69-5443a6c8f74b"
      },
      "execution_count": 84,
      "outputs": [
        {
          "output_type": "stream",
          "name": "stdout",
          "text": [
            "The function\n"
          ]
        },
        {
          "output_type": "display_data",
          "data": {
            "text/plain": [
              "(4*x**3 + x**2)**5"
            ],
            "text/latex": "$\\displaystyle \\left(4 x^{3} + x^{2}\\right)^{5}$"
          },
          "metadata": {}
        },
        {
          "output_type": "stream",
          "name": "stdout",
          "text": [
            "\n",
            "Has derivative\n"
          ]
        },
        {
          "output_type": "display_data",
          "data": {
            "text/plain": [
              "(60*x**2 + 10*x)*(4*x**3 + x**2)**4"
            ],
            "text/latex": "$\\displaystyle \\left(60 x^{2} + 10 x\\right) \\left(4 x^{3} + x^{2}\\right)^{4}$"
          },
          "metadata": {}
        }
      ]
    }
  ]
}