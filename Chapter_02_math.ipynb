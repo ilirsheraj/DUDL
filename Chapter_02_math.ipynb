{
  "nbformat": 4,
  "nbformat_minor": 0,
  "metadata": {
    "colab": {
      "name": "chapter_02_math.ipynb",
      "provenance": [],
      "authorship_tag": "ABX9TyOJchoHbG2l8nuiX1jP8jC/",
      "include_colab_link": true
    },
    "kernelspec": {
      "name": "python3",
      "display_name": "Python 3"
    },
    "language_info": {
      "name": "python"
    }
  },
  "cells": [
    {
      "cell_type": "markdown",
      "metadata": {
        "id": "view-in-github",
        "colab_type": "text"
      },
      "source": [
        "<a href=\"https://colab.research.google.com/github/ilirsheraj/DUDL/blob/main/Chapter_02_math.ipynb\" target=\"_parent\"><img src=\"https://colab.research.google.com/assets/colab-badge.svg\" alt=\"Open In Colab\"/></a>"
      ]
    },
    {
      "cell_type": "markdown",
      "source": [
        "## Vector and Matrix Transpose"
      ],
      "metadata": {
        "id": "apK8XbRwOBdo"
      }
    },
    {
      "cell_type": "code",
      "execution_count": 1,
      "metadata": {
        "id": "Wq919Bw6Ny1A"
      },
      "outputs": [],
      "source": [
        "import numpy as np\n",
        "import torch\n",
        "import torch.nn as nn\n",
        "import torch.nn.functional as F\n",
        "import matplotlib.pyplot as plt"
      ]
    },
    {
      "cell_type": "code",
      "source": [
        "#!pip install -q --upgrade ipython\n",
        "#!pip install -q --upgrade ipykernel"
      ],
      "metadata": {
        "id": "n9Xwh4wI9Rxi"
      },
      "execution_count": null,
      "outputs": []
    },
    {
      "cell_type": "markdown",
      "source": [
        "### Use Numpy"
      ],
      "metadata": {
        "id": "8uVvrys1Oi-j"
      }
    },
    {
      "cell_type": "code",
      "source": [
        "# create a row vector [[]], otherwise [] will be column vector only\n",
        "nv = np.array([ [1,2,3,4] ])\n",
        "print(nv)"
      ],
      "metadata": {
        "colab": {
          "base_uri": "https://localhost:8080/"
        },
        "id": "UM0CqcE2OhVc",
        "outputId": "84c9b503-0133-4150-9b64-171d9a8eecac"
      },
      "execution_count": null,
      "outputs": [
        {
          "output_type": "stream",
          "name": "stdout",
          "text": [
            "[[1 2 3 4]]\n"
          ]
        }
      ]
    },
    {
      "cell_type": "code",
      "source": [
        "# A less common way\n",
        "nv_t = np.transpose(nv)\n",
        "print(nv_t)"
      ],
      "metadata": {
        "colab": {
          "base_uri": "https://localhost:8080/"
        },
        "id": "mVeWkvLoE9k_",
        "outputId": "373ecf0a-b190-4352-f5e4-0913c67e95d9"
      },
      "execution_count": null,
      "outputs": [
        {
          "output_type": "stream",
          "name": "stdout",
          "text": [
            "[[1]\n",
            " [2]\n",
            " [3]\n",
            " [4]]\n"
          ]
        }
      ]
    },
    {
      "cell_type": "code",
      "source": [
        "# transpose the vector\n",
        "print(nv.T)"
      ],
      "metadata": {
        "colab": {
          "base_uri": "https://localhost:8080/"
        },
        "id": "Pq_qEuA7PNvz",
        "outputId": "cfce807a-3d3d-4d92-bf57-4672e8f87a1b"
      },
      "execution_count": null,
      "outputs": [
        {
          "output_type": "stream",
          "name": "stdout",
          "text": [
            "[[1]\n",
            " [2]\n",
            " [3]\n",
            " [4]]\n"
          ]
        }
      ]
    },
    {
      "cell_type": "code",
      "source": [
        "# Make the change permanent by assigning it to a new vector\n",
        "nvT = nv.T\n",
        "print(nvT)"
      ],
      "metadata": {
        "colab": {
          "base_uri": "https://localhost:8080/"
        },
        "id": "6Cfvg_HVPSa6",
        "outputId": "2a6471b9-6888-42ae-a56b-7e722534e185"
      },
      "execution_count": null,
      "outputs": [
        {
          "output_type": "stream",
          "name": "stdout",
          "text": [
            "[[1]\n",
            " [2]\n",
            " [3]\n",
            " [4]]\n"
          ]
        }
      ]
    },
    {
      "cell_type": "code",
      "source": [
        "# Do the same for a matrix: 2 rows by 4 columns\n",
        "nM = np.array([[1,2,3,4],\n",
        "               [5,6,7,8]])\n",
        "print(nM)"
      ],
      "metadata": {
        "colab": {
          "base_uri": "https://localhost:8080/"
        },
        "id": "lsGCkQg8PgQr",
        "outputId": "26c1447d-ecf7-46da-8949-2a740f85cade"
      },
      "execution_count": null,
      "outputs": [
        {
          "output_type": "stream",
          "name": "stdout",
          "text": [
            "[[1 2 3 4]\n",
            " [5 6 7 8]]\n"
          ]
        }
      ]
    },
    {
      "cell_type": "code",
      "source": [
        "# Transpose it\n",
        "print(nM.T)"
      ],
      "metadata": {
        "colab": {
          "base_uri": "https://localhost:8080/"
        },
        "id": "SOMRCdLePq14",
        "outputId": "215d6984-8c58-4905-8e77-d8d820d76261"
      },
      "execution_count": null,
      "outputs": [
        {
          "output_type": "stream",
          "name": "stdout",
          "text": [
            "[[1 5]\n",
            " [2 6]\n",
            " [3 7]\n",
            " [4 8]]\n"
          ]
        }
      ]
    },
    {
      "cell_type": "code",
      "source": [
        "# Assign the transposed part to a new name\n",
        "nMT = nM.T\n",
        "print(nMT)"
      ],
      "metadata": {
        "colab": {
          "base_uri": "https://localhost:8080/"
        },
        "id": "3ajIpgM_PvC9",
        "outputId": "09d8baa8-c259-4e76-ad9c-9a4a7bb83e5c"
      },
      "execution_count": null,
      "outputs": [
        {
          "output_type": "stream",
          "name": "stdout",
          "text": [
            "[[1 5]\n",
            " [2 6]\n",
            " [3 7]\n",
            " [4 8]]\n"
          ]
        }
      ]
    },
    {
      "cell_type": "markdown",
      "source": [
        "### Using PyTorch"
      ],
      "metadata": {
        "id": "aWsKyehHP1WV"
      }
    },
    {
      "cell_type": "code",
      "source": [
        "# Create a vector: In this case it is the same as numpy\n",
        "tv = torch.tensor([[1,2,3,4]])\n",
        "print(tv)"
      ],
      "metadata": {
        "colab": {
          "base_uri": "https://localhost:8080/"
        },
        "id": "TdL7p9HCP5U2",
        "outputId": "cb6db00a-3f39-408e-f7ef-d18ad9a3de43"
      },
      "execution_count": null,
      "outputs": [
        {
          "output_type": "stream",
          "name": "stdout",
          "text": [
            "tensor([[1, 2, 3, 4]])\n"
          ]
        }
      ]
    },
    {
      "cell_type": "code",
      "source": [
        "# Transpose it\n",
        "tvT = tv.T\n",
        "print(tvT)"
      ],
      "metadata": {
        "colab": {
          "base_uri": "https://localhost:8080/"
        },
        "id": "5yXVa82eQHLA",
        "outputId": "fe1aa52e-223d-43c2-8781-d0c8e651aad4"
      },
      "execution_count": null,
      "outputs": [
        {
          "output_type": "stream",
          "name": "stdout",
          "text": [
            "tensor([[1],\n",
            "        [2],\n",
            "        [3],\n",
            "        [4]])\n"
          ]
        }
      ]
    },
    {
      "cell_type": "code",
      "source": [
        "# Create a matrix\n",
        "tM = torch.tensor([[1,2,3,4], [5,6,7,8]])\n",
        "print(tM)"
      ],
      "metadata": {
        "colab": {
          "base_uri": "https://localhost:8080/"
        },
        "id": "BQrpBqIeQQXp",
        "outputId": "c13b2548-6ec4-4d8b-e3d0-1a1a76eb233b"
      },
      "execution_count": null,
      "outputs": [
        {
          "output_type": "stream",
          "name": "stdout",
          "text": [
            "tensor([[1, 2, 3, 4],\n",
            "        [5, 6, 7, 8]])\n"
          ]
        }
      ]
    },
    {
      "cell_type": "code",
      "source": [
        "# Transpose it\n",
        "tMT = tM.T\n",
        "print(tMT)"
      ],
      "metadata": {
        "colab": {
          "base_uri": "https://localhost:8080/"
        },
        "id": "UmDaSEmhQZYN",
        "outputId": "6728d51c-06c8-4239-c675-f5704177dd20"
      },
      "execution_count": null,
      "outputs": [
        {
          "output_type": "stream",
          "name": "stdout",
          "text": [
            "tensor([[1, 5],\n",
            "        [2, 6],\n",
            "        [3, 7],\n",
            "        [4, 8]])\n"
          ]
        }
      ]
    },
    {
      "cell_type": "code",
      "source": [
        "# Check the datatypes\n",
        "print(f\"Variable nv is of type {type(nv)}\")\n",
        "print(f\"Variable nM is of type {type(nM)}\")\n",
        "print(f\"Variable tv is of type {type(tv)}\")\n",
        "print(f\"Variable tM is of type {type(tM)}\")"
      ],
      "metadata": {
        "colab": {
          "base_uri": "https://localhost:8080/"
        },
        "id": "GrQJN7Q8Qie4",
        "outputId": "53f60e25-2bec-484d-9f6f-7beda7e4e65a"
      },
      "execution_count": null,
      "outputs": [
        {
          "output_type": "stream",
          "name": "stdout",
          "text": [
            "Variable nv is of type <class 'numpy.ndarray'>\n",
            "Variable nM is of type <class 'numpy.ndarray'>\n",
            "Variable tv is of type <class 'torch.Tensor'>\n",
            "Variable tM is of type <class 'torch.Tensor'>\n"
          ]
        }
      ]
    },
    {
      "cell_type": "markdown",
      "source": [
        "## Dot Product"
      ],
      "metadata": {
        "id": "JOGNa2p9Sgbz"
      }
    },
    {
      "cell_type": "markdown",
      "source": [
        "Dot product is one of the most important mathematical operations in Linear Algebra, and by default in Deep Learning"
      ],
      "metadata": {
        "id": "wHmfR8T-GT8P"
      }
    },
    {
      "cell_type": "markdown",
      "source": [
        "### Numpy"
      ],
      "metadata": {
        "id": "uN__KNVQTCJd"
      }
    },
    {
      "cell_type": "code",
      "source": [
        "# create two vectors: Column vectors\n",
        "nv1 = np.array([1,2,3,4])\n",
        "nv2 = np.array([0,1,0,-1])\n",
        "\n",
        "# dot product via function\n",
        "print(np.dot(nv1,nv2))\n",
        "\n",
        "# dot product via computation\n",
        "print(np.sum(nv1*nv2))"
      ],
      "metadata": {
        "colab": {
          "base_uri": "https://localhost:8080/"
        },
        "id": "Gg7VTMlESgDI",
        "outputId": "656ddac9-424e-4eb1-cde4-0c7c2f4b75cb"
      },
      "execution_count": null,
      "outputs": [
        {
          "output_type": "stream",
          "name": "stdout",
          "text": [
            "-2\n",
            "-2\n"
          ]
        }
      ]
    },
    {
      "cell_type": "markdown",
      "source": [
        "### Pytorch"
      ],
      "metadata": {
        "id": "ynjE6NPBTEWE"
      }
    },
    {
      "cell_type": "code",
      "source": [
        "# create two vectors\n",
        "nv1 = torch.tensor([1,2,3,4])\n",
        "nv2 = torch.tensor([0,1,0,-1])\n",
        "\n",
        "# dot product via function\n",
        "print(torch.dot(nv1,nv2))\n",
        "\n",
        "# dot product via computation\n",
        "print(torch.sum(nv1*nv2))"
      ],
      "metadata": {
        "colab": {
          "base_uri": "https://localhost:8080/"
        },
        "id": "AxvhIqpwTGQq",
        "outputId": "d5f0b20e-9428-47ef-b217-b63d1d6b5f3e"
      },
      "execution_count": null,
      "outputs": [
        {
          "output_type": "stream",
          "name": "stdout",
          "text": [
            "tensor(-2)\n",
            "tensor(-2)\n"
          ]
        }
      ]
    },
    {
      "cell_type": "markdown",
      "source": [
        "## Matrix Multiplication"
      ],
      "metadata": {
        "id": "_IXR1t6VX8Af"
      }
    },
    {
      "cell_type": "markdown",
      "source": [
        "Matrix Multiplication is an application of the Dot Product, but it is more involved than just computing the dot product because we care about initial dimensionality and the final dimensionality as well. MxN @ NxK = MxK"
      ],
      "metadata": {
        "id": "jSeWqK8DIvVY"
      }
    },
    {
      "cell_type": "markdown",
      "source": [
        "### Numpy"
      ],
      "metadata": {
        "id": "Ngn_IjP6X_nO"
      }
    },
    {
      "cell_type": "code",
      "source": [
        "# Create random matrices\n",
        "A = np.random.randn(3,4)\n",
        "B = np.random.randn(4,5)\n",
        "C = np.random.randn(3,7)\n",
        "\n",
        "# Try multiplications\n",
        "print(np.round(A@B,2))\n",
        "print(\"=\"*30)\n",
        "print(np.round(A.T@C,2))\n",
        "print(\"=\"*30)\n",
        "print(np.round(C.T@A,2))"
      ],
      "metadata": {
        "colab": {
          "base_uri": "https://localhost:8080/"
        },
        "id": "NEwZ0NpVTVNf",
        "outputId": "783a12f2-bf38-4522-8ad0-9e891a8f8bb0"
      },
      "execution_count": null,
      "outputs": [
        {
          "output_type": "stream",
          "name": "stdout",
          "text": [
            "[[-1.61  0.21 -1.07 -0.24 -1.74]\n",
            " [-1.29  0.43 -0.04 -1.18 -1.24]\n",
            " [ 1.38  1.45  2.43 -0.5  -0.73]]\n",
            "==============================\n",
            "[[-1.26 -0.22  1.52 -0.64 -2.55 -0.27 -1.23]\n",
            " [-1.5  -0.87  2.83 -1.37 -0.87  2.54 -2.64]\n",
            " [-0.68  1.2   1.07 -0.67 -1.28  1.17 -1.6 ]\n",
            " [ 0.62  1.09 -1.24  0.53 -0.01 -0.97  0.87]]\n",
            "==============================\n",
            "[[-1.26 -1.5  -0.68  0.62]\n",
            " [-0.22 -0.87  1.2   1.09]\n",
            " [ 1.52  2.83  1.07 -1.24]\n",
            " [-0.64 -1.37 -0.67  0.53]\n",
            " [-2.55 -0.87 -1.28 -0.01]\n",
            " [-0.27  2.54  1.17 -0.97]\n",
            " [-1.23 -2.64 -1.6   0.87]]\n"
          ]
        }
      ]
    },
    {
      "cell_type": "code",
      "source": [
        "# Matrix Multiplication using np.matmul()\n",
        "print(np.round(np.matmul(A,B),2))\n",
        "print(\"=\"*30)\n",
        "print(np.round(np.matmul(A.T, C,),2))\n",
        "print(\"=\"*30)\n",
        "print(np.round(np.matmul(C.T, A),2))"
      ],
      "metadata": {
        "colab": {
          "base_uri": "https://localhost:8080/"
        },
        "id": "1jFrsZe_LT7n",
        "outputId": "1d22f13e-e0c1-4a43-feb1-fd518bae03d3"
      },
      "execution_count": null,
      "outputs": [
        {
          "output_type": "stream",
          "name": "stdout",
          "text": [
            "[[-1.61  0.21 -1.07 -0.24 -1.74]\n",
            " [-1.29  0.43 -0.04 -1.18 -1.24]\n",
            " [ 1.38  1.45  2.43 -0.5  -0.73]]\n",
            "==============================\n",
            "[[-1.26 -0.22  1.52 -0.64 -2.55 -0.27 -1.23]\n",
            " [-1.5  -0.87  2.83 -1.37 -0.87  2.54 -2.64]\n",
            " [-0.68  1.2   1.07 -0.67 -1.28  1.17 -1.6 ]\n",
            " [ 0.62  1.09 -1.24  0.53 -0.01 -0.97  0.87]]\n",
            "==============================\n",
            "[[-1.26 -1.5  -0.68  0.62]\n",
            " [-0.22 -0.87  1.2   1.09]\n",
            " [ 1.52  2.83  1.07 -1.24]\n",
            " [-0.64 -1.37 -0.67  0.53]\n",
            " [-2.55 -0.87 -1.28 -0.01]\n",
            " [-0.27  2.54  1.17 -0.97]\n",
            " [-1.23 -2.64 -1.6   0.87]]\n"
          ]
        }
      ]
    },
    {
      "cell_type": "markdown",
      "source": [
        "### Using Pytorch"
      ],
      "metadata": {
        "id": "9kDtQz7VYrPA"
      }
    },
    {
      "cell_type": "code",
      "source": [
        "# Create random matrices\n",
        "A = torch.randn(3,4)\n",
        "B = torch.randn(4,5)\n",
        "C1 = np.random.randn(3,7)\n",
        "C2 = torch.tensor(C1, dtype=torch.float)\n",
        "\n",
        "# Try multiplications\n",
        "print(np.round(A@B,2))\n",
        "print(\"=\"*30)\n",
        "# print(np.round(A@B.T,2))  # Not working because of dimensionality issues\n",
        "print(np.round(A.T@C1,2))  # np matrix can be multiplied with a tensor\n",
        "print(\"=\"*30)\n",
        "print(np.round(A.T@C2,2))\n",
        "print(\"=\"*30)\n",
        "print(np.round(C2.T@A,2))"
      ],
      "metadata": {
        "colab": {
          "base_uri": "https://localhost:8080/"
        },
        "id": "8XF9y9HPYtV3",
        "outputId": "c28c9c0f-2eb0-44ed-cb31-eecb9ce360e3"
      },
      "execution_count": null,
      "outputs": [
        {
          "output_type": "stream",
          "name": "stdout",
          "text": [
            "tensor([[-0.3900,  1.9300, -0.1600,  0.0100, -1.7500],\n",
            "        [-0.8300, -1.7300, -0.6900, -0.8600,  1.5900],\n",
            "        [-0.7700,  0.1200, -0.3100,  0.9100, -1.2600]])\n",
            "==============================\n",
            "tensor([[ 2.1100,  0.9500, -1.2400,  5.2400, -2.2200,  3.1100, -0.8100],\n",
            "        [-1.9400, -0.6800, -0.5700, -0.0200, -1.4000, -1.9300, -0.2200],\n",
            "        [-0.2500,  2.2800, -1.8300,  3.8100, -1.3800, -0.9200,  2.9700],\n",
            "        [ 0.8100,  0.0000,  0.3900, -0.2800,  0.6100,  0.9200, -0.3100]],\n",
            "       dtype=torch.float64)\n",
            "==============================\n",
            "tensor([[ 2.1100,  0.9500, -1.2400,  5.2400, -2.2200,  3.1100, -0.8100],\n",
            "        [-1.9400, -0.6800, -0.5700, -0.0200, -1.4000, -1.9300, -0.2200],\n",
            "        [-0.2500,  2.2800, -1.8300,  3.8100, -1.3800, -0.9200,  2.9700],\n",
            "        [ 0.8100,  0.0000,  0.3900, -0.2800,  0.6100,  0.9200, -0.3100]])\n",
            "==============================\n",
            "tensor([[ 2.1100, -1.9400, -0.2500,  0.8100],\n",
            "        [ 0.9500, -0.6800,  2.2800,  0.0000],\n",
            "        [-1.2400, -0.5700, -1.8300,  0.3900],\n",
            "        [ 5.2400, -0.0200,  3.8100, -0.2800],\n",
            "        [-2.2200, -1.4000, -1.3800,  0.6100],\n",
            "        [ 3.1100, -1.9300, -0.9200,  0.9200],\n",
            "        [-0.8100, -0.2200,  2.9700, -0.3100]])\n"
          ]
        }
      ]
    },
    {
      "cell_type": "markdown",
      "source": [
        "## Softmax Function"
      ],
      "metadata": {
        "id": "I2GMTqIX3kXz"
      }
    },
    {
      "cell_type": "markdown",
      "source": [
        "Softmax function is defined as $\\sigma = e^{z_i} / \\sum e^z $"
      ],
      "metadata": {
        "id": "cFTdfc8uO-xl"
      }
    },
    {
      "cell_type": "markdown",
      "source": [
        "### Softmax in Numpy"
      ],
      "metadata": {
        "id": "JtshfZCz3nqY"
      }
    },
    {
      "cell_type": "code",
      "source": [
        "# define a list of numbers\n",
        "z = [1,2,3]\n",
        "\n",
        "# compute the softmax resulrs\n",
        "num = np.exp(z)\n",
        "den = np.sum(np.exp(z))\n",
        "sigma = num/den\n",
        "print(sigma)"
      ],
      "metadata": {
        "colab": {
          "base_uri": "https://localhost:8080/"
        },
        "id": "BkFLym1D3spk",
        "outputId": "367ae3a2-4dc3-42b8-8fc0-33fa79ae4c1a"
      },
      "execution_count": null,
      "outputs": [
        {
          "output_type": "stream",
          "name": "stdout",
          "text": [
            "[0.09003057 0.24472847 0.66524096]\n"
          ]
        }
      ]
    },
    {
      "cell_type": "code",
      "source": [
        "# Use a buch of random integers\n",
        "z = np.random.randint(-5,15,size=25)\n",
        "print(z)"
      ],
      "metadata": {
        "colab": {
          "base_uri": "https://localhost:8080/"
        },
        "id": "19p_IoAJ4H26",
        "outputId": "7f85d43e-0eea-4ebf-b662-1c3f6a563b1f"
      },
      "execution_count": null,
      "outputs": [
        {
          "output_type": "stream",
          "name": "stdout",
          "text": [
            "[-2 -1  4  2  2 11  1  5  5 13 -5  6  8 12 12  5  2 10  8 10  4  8  3  1\n",
            " -5]\n"
          ]
        }
      ]
    },
    {
      "cell_type": "code",
      "source": [
        "def my_softmax(z):\n",
        "  return np.exp(z)/np.sum(np.exp(z))\n",
        "\n",
        "sigma = my_softmax(z)\n",
        "sigma"
      ],
      "metadata": {
        "colab": {
          "base_uri": "https://localhost:8080/"
        },
        "id": "mNLrpeae4UaF",
        "outputId": "ca3647a3-295c-430c-8dbd-5ed4ea3ffe06"
      },
      "execution_count": null,
      "outputs": [
        {
          "output_type": "execute_result",
          "data": {
            "text/plain": [
              "array([1.53476341e-07, 4.17191950e-07, 6.19167752e-05, 8.37952431e-06,\n",
              "       8.37952431e-06, 6.78999888e-02, 3.08265472e-06, 1.68307245e-04,\n",
              "       1.68307245e-04, 5.01716826e-01, 7.64113710e-09, 4.57506526e-04,\n",
              "       3.38054138e-03, 1.84571306e-01, 1.84571306e-01, 1.68307245e-04,\n",
              "       8.37952431e-06, 2.49790099e-02, 3.38054138e-03, 2.49790099e-02,\n",
              "       6.19167752e-05, 3.38054138e-03, 2.27779087e-05, 3.08265472e-06,\n",
              "       7.64113710e-09])"
            ]
          },
          "metadata": {},
          "execution_count": 22
        }
      ]
    },
    {
      "cell_type": "code",
      "source": [
        "# Compare\n",
        "plt.plot(z,sigma,\"bo\")\n",
        "plt.xlabel(\"Original Number (z)\")\n",
        "plt.ylabel(\"Softmax Ouput ($\\sigma$)\")\n",
        "plt.title(\"$\\sum\\sigma$ = %g\"%np.sum(sigma))\n",
        "plt.show()"
      ],
      "metadata": {
        "colab": {
          "base_uri": "https://localhost:8080/",
          "height": 299
        },
        "id": "nRqrAmLL4pyQ",
        "outputId": "91eea640-2705-441e-800f-9ff785c254c1"
      },
      "execution_count": null,
      "outputs": [
        {
          "output_type": "display_data",
          "data": {
            "text/plain": [
              "<Figure size 432x288 with 1 Axes>"
            ],
            "image/png": "[encoded data removed]"
          },
          "metadata": {
            "needs_background": "light"
          }
        }
      ]
    },
    {
      "cell_type": "code",
      "source": [
        "# Make the y-scale logarithmic\n",
        "plt.plot(z,sigma,\"bo\")\n",
        "plt.yscale(\"log\")\n",
        "plt.xlabel(\"Original Number (z)\")\n",
        "plt.ylabel(\"Softmax Ouput ($\\sigma$)\")\n",
        "plt.title(\"$\\sum\\sigma$ = %g\"%np.sum(sigma))\n",
        "plt.show()"
      ],
      "metadata": {
        "colab": {
          "base_uri": "https://localhost:8080/",
          "height": 299
        },
        "id": "gi9zf52N6OHU",
        "outputId": "4eb1986b-eb9e-4141-964c-9b3478822371"
      },
      "execution_count": null,
      "outputs": [
        {
          "output_type": "display_data",
          "data": {
            "text/plain": [
              "<Figure size 432x288 with 1 Axes>"
            ],
            "image/png": "[encoded data removed]"
          },
          "metadata": {
            "needs_background": "light"
          }
        }
      ]
    },
    {
      "cell_type": "markdown",
      "source": [
        "### Using Pytorch"
      ],
      "metadata": {
        "id": "5FkuoIa963YC"
      }
    },
    {
      "cell_type": "code",
      "source": [
        "# First create an instance of Softmax activation class\n",
        "softfun = nn.Softmax(dim=0)\n",
        "print(softfun)"
      ],
      "metadata": {
        "colab": {
          "base_uri": "https://localhost:8080/"
        },
        "id": "n_9g8EYy65yk",
        "outputId": "ccc95256-ecd5-4cc4-fd45-a70a312655e3"
      },
      "execution_count": null,
      "outputs": [
        {
          "output_type": "stream",
          "name": "stdout",
          "text": [
            "Softmax(dim=0)\n"
          ]
        }
      ]
    },
    {
      "cell_type": "code",
      "source": [
        "# Apply the data to the function\n",
        "sigmaT = softfun(torch.Tensor(z))\n",
        "\n",
        "print(sigmaT)"
      ],
      "metadata": {
        "colab": {
          "base_uri": "https://localhost:8080/"
        },
        "id": "zX4MrFfxrljv",
        "outputId": "e198ee0f-21fd-4800-d6ee-1affd823ff0e"
      },
      "execution_count": null,
      "outputs": [
        {
          "output_type": "stream",
          "name": "stdout",
          "text": [
            "tensor([1.5348e-07, 4.1719e-07, 6.1917e-05, 8.3795e-06, 8.3795e-06, 6.7900e-02,\n",
            "        3.0827e-06, 1.6831e-04, 1.6831e-04, 5.0172e-01, 7.6411e-09, 4.5751e-04,\n",
            "        3.3805e-03, 1.8457e-01, 1.8457e-01, 1.6831e-04, 8.3795e-06, 2.4979e-02,\n",
            "        3.3805e-03, 2.4979e-02, 6.1917e-05, 3.3805e-03, 2.2778e-05, 3.0827e-06,\n",
            "        7.6411e-09])\n"
          ]
        }
      ]
    },
    {
      "cell_type": "code",
      "source": [
        "print(type(z))\n",
        "print(sigmaT)"
      ],
      "metadata": {
        "colab": {
          "base_uri": "https://localhost:8080/"
        },
        "id": "jOqhlTr5-H0w",
        "outputId": "b741e476-67f7-46f7-8953-413e966e2a52"
      },
      "execution_count": null,
      "outputs": [
        {
          "output_type": "stream",
          "name": "stdout",
          "text": [
            "<class 'numpy.ndarray'>\n",
            "tensor([1.5348e-07, 4.1719e-07, 6.1917e-05, 8.3795e-06, 8.3795e-06, 6.7900e-02,\n",
            "        3.0827e-06, 1.6831e-04, 1.6831e-04, 5.0172e-01, 7.6411e-09, 4.5751e-04,\n",
            "        3.3805e-03, 1.8457e-01, 1.8457e-01, 1.6831e-04, 8.3795e-06, 2.4979e-02,\n",
            "        3.3805e-03, 2.4979e-02, 6.1917e-05, 3.3805e-03, 2.2778e-05, 3.0827e-06,\n",
            "        7.6411e-09])\n"
          ]
        }
      ]
    },
    {
      "cell_type": "code",
      "source": [
        "plt.plot(z, sigmaT, \"bo\")\n",
        "#plt.yscale(\"log\")\n",
        "plt.xlabel(\"Original Number (z)\")\n",
        "plt.ylabel(\"Softmax Ouput ($\\sigma$)\")\n",
        "plt.title(\"$\\sum\\sigma$ = %g\"%np.sum(sigma))\n",
        "plt.show()"
      ],
      "metadata": {
        "colab": {
          "base_uri": "https://localhost:8080/",
          "height": 299
        },
        "id": "EbGltcsC-RuC",
        "outputId": "107e2797-2f00-4c7f-a177-41790ac554c8"
      },
      "execution_count": null,
      "outputs": [
        {
          "output_type": "display_data",
          "data": {
            "text/plain": [
              "<Figure size 432x288 with 1 Axes>"
            ],
            "image/png": "[encoded data removed]"
          },
          "metadata": {
            "needs_background": "light"
          }
        }
      ]
    },
    {
      "cell_type": "code",
      "source": [
        "plt.plot(z, sigmaT, \"bo\")\n",
        "plt.yscale(\"log\")\n",
        "plt.xlabel(\"Original Number (z)\")\n",
        "plt.ylabel(\"Softmax Ouput ($\\sigma$)\")\n",
        "plt.title(\"$\\sum\\sigma$ = %g\"%np.sum(sigma))\n",
        "plt.show()"
      ],
      "metadata": {
        "colab": {
          "base_uri": "https://localhost:8080/",
          "height": 299
        },
        "id": "GyX-NM_I-hLl",
        "outputId": "ef7be96b-4d8c-4690-bc65-d7ea9593ca2d"
      },
      "execution_count": null,
      "outputs": [
        {
          "output_type": "display_data",
          "data": {
            "text/plain": [
              "<Figure size 432x288 with 1 Axes>"
            ],
            "image/png": "[encoded data removed]"
          },
          "metadata": {
            "needs_background": "light"
          }
        }
      ]
    },
    {
      "cell_type": "code",
      "source": [
        "# Check the output correlation\n",
        "plt.plot(sigma, sigmaT, \"bo\")\n",
        "plt.xlabel(\"Numpy Softmax\")\n",
        "plt.ylabel(\"Pytorch nn.Softmax\")\n",
        "plt.title(f\"The two methods correlate at r={np.corrcoef(sigma,sigmaT)[0,1]}\")\n",
        "plt.show()"
      ],
      "metadata": {
        "colab": {
          "base_uri": "https://localhost:8080/",
          "height": 295
        },
        "id": "DncGJeRX-0SL",
        "outputId": "ef30224f-68ec-4721-94da-01b2ecbc4323"
      },
      "execution_count": null,
      "outputs": [
        {
          "output_type": "display_data",
          "data": {
            "text/plain": [
              "<Figure size 432x288 with 1 Axes>"
            ],
            "image/png": "[encoded data removed]"
          },
          "metadata": {
            "needs_background": "light"
          }
        }
      ]
    },
    {
      "cell_type": "markdown",
      "source": [
        "## Logarithmic Functions"
      ],
      "metadata": {
        "id": "_Pqigb31FvOr"
      }
    },
    {
      "cell_type": "markdown",
      "source": [
        "* Logarithm is a monotinc function of x: Minimizing x is the same thing as minimizing log(x).\n",
        "* It streches out small values of x: This is important because log better distinguishes small and closely spaced numbers.\n"
      ],
      "metadata": {
        "id": "mVBD-A_U199X"
      }
    },
    {
      "cell_type": "code",
      "source": [
        "# Define a set of points to evaluate\n",
        "# np.linespace(beginning, end, number of elements)\n",
        "x = np.linspace(0.0001, 1, 200)\n",
        "\n",
        "# Compue log\n",
        "logx = np.log(x)\n",
        "\n",
        "# plot\n",
        "fig = plt.figure(figsize=(10,4))\n",
        "\n",
        "# Increase the fontsize\n",
        "plt.rcParams.update({\"font.size\":15})\n",
        "plt.plot(x,logx,\"bs-\", markerfacecolor=\"r\")\n",
        "plt.xlabel(\"x\")\n",
        "plt.ylabel(\"log(x) \")\n",
        "plt.show()"
      ],
      "metadata": {
        "colab": {
          "base_uri": "https://localhost:8080/",
          "height": 289
        },
        "id": "P2slBOKKFzdv",
        "outputId": "0393c029-82c0-4ce4-81fc-77657d3f89fd"
      },
      "execution_count": null,
      "outputs": [
        {
          "output_type": "display_data",
          "data": {
            "text/plain": [
              "<Figure size 720x288 with 1 Axes>"
            ],
            "image/png": "[encoded data removed]"
          },
          "metadata": {
            "needs_background": "light"
          }
        }
      ]
    },
    {
      "cell_type": "code",
      "source": [
        "# Show that log and exp are inverses of each other\n",
        "# redefine same x with fewer points\n",
        "x = np.linspace(0.0001, 1, 30)\n",
        "\n",
        "logx = np.log(x)\n",
        "expx = np.exp(x)\n",
        "\n",
        "plt.plot(x,x,color=[0.8,0.8,0.8])\n",
        "plt.plot(x,np.exp(logx), \"o\", markersize=8)\n",
        "plt.plot(x,np.log(expx), \"x\", markersize=8)\n",
        "plt.xlabel(\"X\")\n",
        "plt.ylabel(\"f(g(x))\")\n",
        "plt.legend([\"unity\", \"exp(log(x))\", \"log(exp(x))\"])\n",
        "plt.show()"
      ],
      "metadata": {
        "colab": {
          "base_uri": "https://localhost:8080/",
          "height": 289
        },
        "id": "QwpnYFjjGrki",
        "outputId": "84aa9cee-6b41-4c11-f511-0517b5b8a9c1"
      },
      "execution_count": null,
      "outputs": [
        {
          "output_type": "display_data",
          "data": {
            "text/plain": [
              "<Figure size 432x288 with 1 Axes>"
            ],
            "image/png": "[encoded data removed]"
          },
          "metadata": {
            "needs_background": "light"
          }
        }
      ]
    },
    {
      "cell_type": "markdown",
      "source": [
        "## Entropy & Cross-Entropy"
      ],
      "metadata": {
        "id": "IHBE622u0Hv5"
      }
    },
    {
      "cell_type": "markdown",
      "source": [
        "* In DL we are interested in information theoretic entropy (Shanon's Entropy), not the one related to physics.\n",
        "\n",
        "* Entropy formula: $H(p) = -\\sum_{x} p(x)log(p(x))$\n",
        "\n",
        "* x = data values, p = probability the event occurs. Units of entropy are called bits\n",
        "\n",
        "* High entropy: data with a lot of variability, and vice versa, low entropy means most of the values of the dataset repeat and therefore are redundant.\n",
        "\n",
        "* Cross-Entropy describes the relationship between two probability distributions and is defined as $H(p,q) = -\\sum_{x} p(x) log(q(x)) $ \n",
        "\n",
        "* In DL we use cross entropy to characterize the performance of the model: p(x) describes the probability the picture represnetns cat, while q(x) will be the probability of the model that the picture is a cat."
      ],
      "metadata": {
        "id": "UBVoxRGO0PHS"
      }
    },
    {
      "cell_type": "code",
      "source": [
        "# Define the probability of en event happening\n",
        "p = 0.25\n",
        "q = 1-p\n",
        "\n",
        "# Wrong way of defining entrpy (Event of happening)\n",
        "H = -(p*np.log(p))\n",
        "print(\"Wrong Entropy: {:.2f}\".format(H))"
      ],
      "metadata": {
        "colab": {
          "base_uri": "https://localhost:8080/"
        },
        "id": "7r6iGMm50LZE",
        "outputId": "4ab78fb2-cfd4-4f08-ee0b-91e4c1aafba3"
      },
      "execution_count": null,
      "outputs": [
        {
          "output_type": "stream",
          "name": "stdout",
          "text": [
            "Wrong Entropy: 0.35\n"
          ]
        }
      ]
    },
    {
      "cell_type": "code",
      "source": [
        "# Correct way to compute entropy\n",
        "x = [0.25, 0.75]\n",
        "\n",
        "H = 0\n",
        "for p in x:\n",
        "  H = H - p*np.log(p)\n",
        "\n",
        "print(\"Correct Entropy: {:.2f}\".format(H))"
      ],
      "metadata": {
        "colab": {
          "base_uri": "https://localhost:8080/"
        },
        "id": "9mgLUZBd1sLf",
        "outputId": "8fdc62ef-d048-4310-ddd8-e6ffd24969bb"
      },
      "execution_count": null,
      "outputs": [
        {
          "output_type": "stream",
          "name": "stdout",
          "text": [
            "Correct Entropy: 0.56\n"
          ]
        }
      ]
    },
    {
      "cell_type": "code",
      "source": [
        "# Hard-coded for two events only\n",
        "# Formula for Binary Entropy\n",
        "H = -(p*np.log(p) + (1-p)*np.log(1-p))\n",
        "print(H)"
      ],
      "metadata": {
        "colab": {
          "base_uri": "https://localhost:8080/"
        },
        "id": "m8IYhtEs2Y_g",
        "outputId": "529c92a9-3b28-4b37-80ef-3db104dd41e0"
      },
      "execution_count": null,
      "outputs": [
        {
          "output_type": "stream",
          "name": "stdout",
          "text": [
            "0.5623351446188083\n"
          ]
        }
      ]
    },
    {
      "cell_type": "code",
      "source": [
        "# Cross-Entropy: now we need two probabilities\n",
        "p = [1, 0]\n",
        "q = [0.25, 0.75]\n",
        "H = 0\n",
        "for i in range(len(p)):\n",
        "  H = H - p[i]*np.log(q[i])\n",
        "\n",
        "print(\"Cross-Entropy is: {:.2f}\".format(H))"
      ],
      "metadata": {
        "colab": {
          "base_uri": "https://localhost:8080/"
        },
        "id": "1y_dYVsL3Fus",
        "outputId": "19c1b441-bf4f-4c54-9b08-b073c8342372"
      },
      "execution_count": null,
      "outputs": [
        {
          "output_type": "stream",
          "name": "stdout",
          "text": [
            "Cross-Entropy is: 1.39\n"
          ]
        }
      ]
    },
    {
      "cell_type": "code",
      "source": [
        "# Hard-coded for 2 events\n",
        "H = -(p[0]*np.log(q[0]) + p[1]*np.log(q[1]))\n",
        "print(H)"
      ],
      "metadata": {
        "colab": {
          "base_uri": "https://localhost:8080/"
        },
        "id": "oxVFQc9f3pYg",
        "outputId": "08ada9de-b098-4c42-fd7f-22bc48178195"
      },
      "execution_count": null,
      "outputs": [
        {
          "output_type": "stream",
          "name": "stdout",
          "text": [
            "1.3862943611198906\n"
          ]
        }
      ]
    },
    {
      "cell_type": "code",
      "source": [
        "# Further simplification when p=[1,0]\n",
        "H = -np.log(q[0])\n",
        "print(H)"
      ],
      "metadata": {
        "colab": {
          "base_uri": "https://localhost:8080/"
        },
        "id": "um_iVhHl4XgN",
        "outputId": "3743cc40-7d74-475f-9abe-d6bb9e87c4bc"
      },
      "execution_count": null,
      "outputs": [
        {
          "output_type": "stream",
          "name": "stdout",
          "text": [
            "1.3862943611198906\n"
          ]
        }
      ]
    },
    {
      "cell_type": "markdown",
      "source": [
        "### Cross-Entropy in PyTorch"
      ],
      "metadata": {
        "id": "hha2aj324njW"
      }
    },
    {
      "cell_type": "code",
      "source": [
        "# torch.nn.functional as F\n",
        "# Inputs must be tensors\n",
        "q_tensor = torch.Tensor(q)\n",
        "p_tensor = torch.Tensor(p)\n",
        "\n",
        "# Only two options: present vs absent\n",
        "# doesnt work with numpy arrays\n",
        "# order q(model prediction) and p(original probability) order is important in pytorch\n",
        "F.binary_cross_entropy(q_tensor,p_tensor)"
      ],
      "metadata": {
        "colab": {
          "base_uri": "https://localhost:8080/"
        },
        "id": "XXMqYjsE4mBW",
        "outputId": "2865ff78-51b8-4df1-aab3-2df719915a32"
      },
      "execution_count": null,
      "outputs": [
        {
          "output_type": "execute_result",
          "data": {
            "text/plain": [
              "tensor(1.3863)"
            ]
          },
          "metadata": {},
          "execution_count": 46
        }
      ]
    },
    {
      "cell_type": "markdown",
      "source": [
        "## argmin and argmax functions"
      ],
      "metadata": {
        "id": "d6pIX5b_rRGq"
      }
    },
    {
      "cell_type": "markdown",
      "source": [
        "* min() and max() give the minimum and maximum number in a list or array of numbers.\n",
        "\n",
        "* argmin() and argmax() return the location of the minimum and maximum value in a list or array of numbers"
      ],
      "metadata": {
        "id": "YtCeMr-xjLeg"
      }
    },
    {
      "cell_type": "markdown",
      "source": [
        "### Using Numpy"
      ],
      "metadata": {
        "id": "VEQZgGNOrVhr"
      }
    },
    {
      "cell_type": "code",
      "source": [
        "# Create a vector using numpy\n",
        "v = np.array([1,40,2,-3])\n",
        "\n",
        "# Find and report the minimum and maximum values\n",
        "minval = np.min(v)\n",
        "maxval = np.max(v)\n",
        "\n",
        "print(\"min, max: %g,%g\"%(minval, maxval))"
      ],
      "metadata": {
        "colab": {
          "base_uri": "https://localhost:8080/"
        },
        "id": "rnjcLGtKrYwA",
        "outputId": "0e28ad39-cfca-437e-ff5f-2bf39c484f29"
      },
      "execution_count": 2,
      "outputs": [
        {
          "output_type": "stream",
          "name": "stdout",
          "text": [
            "min, max: -3,40\n"
          ]
        }
      ]
    },
    {
      "cell_type": "code",
      "source": [
        "# use argmin and argmax\n",
        "minidx = np.argmin(v)\n",
        "maxidx = np.argmax(v)\n",
        "\n",
        "print(\"min, max indices: %g,%g\"%(minidx, maxidx))"
      ],
      "metadata": {
        "colab": {
          "base_uri": "https://localhost:8080/"
        },
        "id": "had93WNDr-kK",
        "outputId": "903d9ec8-189e-42dc-9ca4-1f9a9bbb4140"
      },
      "execution_count": 3,
      "outputs": [
        {
          "output_type": "stream",
          "name": "stdout",
          "text": [
            "min, max indices: 3,1\n"
          ]
        }
      ]
    },
    {
      "cell_type": "code",
      "source": [
        "# Confirm\n",
        "print(\"Min value is {}, and max value is {}\".format(v[minidx], v[maxidx]))"
      ],
      "metadata": {
        "colab": {
          "base_uri": "https://localhost:8080/"
        },
        "id": "wiIARA7YsSL9",
        "outputId": "864a2af1-dd7c-4f08-a6eb-8d1fe8e3de60"
      },
      "execution_count": 4,
      "outputs": [
        {
          "output_type": "stream",
          "name": "stdout",
          "text": [
            "Min value is -3, and max value is 40\n"
          ]
        }
      ]
    },
    {
      "cell_type": "code",
      "source": [
        "print(f\"Min value is {v[minidx]}, and max value is {v[maxidx]}\")"
      ],
      "metadata": {
        "colab": {
          "base_uri": "https://localhost:8080/"
        },
        "id": "U2utoUdrkNn4",
        "outputId": "0aed13c2-241d-4711-db46-7d17cc39ca56"
      },
      "execution_count": 5,
      "outputs": [
        {
          "output_type": "stream",
          "name": "stdout",
          "text": [
            "Min value is -3, and max value is 40\n"
          ]
        }
      ]
    },
    {
      "cell_type": "code",
      "source": [
        "# repeat the same thing for matrices\n",
        "M = np.array([[0,1,10],\n",
        "              [20,8,5]])\n",
        "\n",
        "print(M)"
      ],
      "metadata": {
        "colab": {
          "base_uri": "https://localhost:8080/"
        },
        "id": "FIWGSdy6ssQW",
        "outputId": "e21d3180-7b3d-4651-a306-5a34edeb173b"
      },
      "execution_count": 7,
      "outputs": [
        {
          "output_type": "stream",
          "name": "stdout",
          "text": [
            "[[ 0  1 10]\n",
            " [20  8  5]]\n"
          ]
        }
      ]
    },
    {
      "cell_type": "code",
      "source": [
        "# Different types of minima in matrix. Same for max\n",
        "# overall minimum value\n",
        "minval1 = np.min(M)\n",
        "# minimum of each column\n",
        "minval2 = np.min(M,axis=0)\n",
        "# minimum for each row\n",
        "minval3 = np.min(M,axis=1)\n",
        "\n",
        "print(minval1)\n",
        "print()\n",
        "print(minval2)\n",
        "print()\n",
        "print(minval3)"
      ],
      "metadata": {
        "colab": {
          "base_uri": "https://localhost:8080/"
        },
        "id": "ruC5Bpz9s4Fl",
        "outputId": "fe82abe9-1a28-4abc-eef5-f6db35b2ace9"
      },
      "execution_count": 8,
      "outputs": [
        {
          "output_type": "stream",
          "name": "stdout",
          "text": [
            "0\n",
            "\n",
            "[0 1 5]\n",
            "\n",
            "[0 5]\n"
          ]
        }
      ]
    },
    {
      "cell_type": "code",
      "source": [
        "# Do the same for argmin\n",
        "minidx1 = np.argmin(M)\n",
        "minidx2 = np.argmin(M,axis=0)\n",
        "minidx3 = np.argmin(M,axis=1)\n",
        "\n",
        "print(minidx1)\n",
        "print()\n",
        "print(minidx2)\n",
        "print()\n",
        "print(minidx3)"
      ],
      "metadata": {
        "colab": {
          "base_uri": "https://localhost:8080/"
        },
        "id": "wMD1nkP2t4_W",
        "outputId": "671e2eeb-914c-4ac0-81c2-080ea2c98065"
      },
      "execution_count": 9,
      "outputs": [
        {
          "output_type": "stream",
          "name": "stdout",
          "text": [
            "0\n",
            "\n",
            "[0 0 1]\n",
            "\n",
            "[0 2]\n"
          ]
        }
      ]
    },
    {
      "cell_type": "markdown",
      "source": [
        "### Using PyToch"
      ],
      "metadata": {
        "id": "-qpfw-PruQ8F"
      }
    },
    {
      "cell_type": "code",
      "source": [
        "# First with vectors\n",
        "v = torch.tensor([1,40,2,-3])\n",
        "\n",
        "# find max and min values\n",
        "minval = torch.min(v)\n",
        "maxval = torch.max(v)\n",
        "\n",
        "print(\"min,max vals: %g,%g\"%(minval,maxval))"
      ],
      "metadata": {
        "colab": {
          "base_uri": "https://localhost:8080/"
        },
        "id": "4ftkqMt1uTJf",
        "outputId": "e47876eb-d66f-4a15-9bbb-c00c098d88b3"
      },
      "execution_count": 10,
      "outputs": [
        {
          "output_type": "stream",
          "name": "stdout",
          "text": [
            "min,max vals: -3,40\n"
          ]
        }
      ]
    },
    {
      "cell_type": "code",
      "source": [
        "minidx = torch.argmin(v)\n",
        "maxidx = torch.argmax(v)\n",
        "\n",
        "print(\"min,max args: %g,%g\"%(minidx,maxidx))"
      ],
      "metadata": {
        "colab": {
          "base_uri": "https://localhost:8080/"
        },
        "id": "y3HnL05SvCnS",
        "outputId": "c764dd60-7b78-4e43-f371-c66b4bc7dcac"
      },
      "execution_count": 11,
      "outputs": [
        {
          "output_type": "stream",
          "name": "stdout",
          "text": [
            "min,max args: 3,1\n"
          ]
        }
      ]
    },
    {
      "cell_type": "code",
      "source": [
        "# Confirm the whole thing\n",
        "print(\"Min value is {}, and max value is {}\".format(v[minidx], v[maxidx]))"
      ],
      "metadata": {
        "colab": {
          "base_uri": "https://localhost:8080/"
        },
        "id": "1b3zecnfvQo8",
        "outputId": "e0872521-74c4-4d91-9252-9e5d20a4387e"
      },
      "execution_count": 12,
      "outputs": [
        {
          "output_type": "stream",
          "name": "stdout",
          "text": [
            "Min value is -3, and max value is 40\n"
          ]
        }
      ]
    },
    {
      "cell_type": "code",
      "source": [
        "# Do the same with matrix\n",
        "M = torch.tensor([[0,1,10],\n",
        "                  [20,8,5]])\n",
        "print(M)"
      ],
      "metadata": {
        "colab": {
          "base_uri": "https://localhost:8080/"
        },
        "id": "tp67FS0DvbiO",
        "outputId": "120e9163-cc89-4a05-9981-2d9b782b2b23"
      },
      "execution_count": 13,
      "outputs": [
        {
          "output_type": "stream",
          "name": "stdout",
          "text": [
            "tensor([[ 0,  1, 10],\n",
            "        [20,  8,  5]])\n"
          ]
        }
      ]
    },
    {
      "cell_type": "code",
      "source": [
        "# Differet minimas of the matrix\n",
        "# overall\n",
        "minval1 = torch.min(M)\n",
        "# minimum of each column\n",
        "minval2 = torch.min(M,axis=0)\n",
        "# minimum for each row\n",
        "minval3 = torch.min(M,axis=1)\n",
        "\n",
        "print(minval1)\n",
        "print()\n",
        "print(minval2)  # torch object\n",
        "print()\n",
        "print(minval2.values)  # numerical results\n",
        "print()\n",
        "print(minval2.indices)  # indices of minimum values\n",
        "print()\n",
        "print(minval3)  # both values and indices"
      ],
      "metadata": {
        "colab": {
          "base_uri": "https://localhost:8080/"
        },
        "id": "e3Y4Hot7vmZi",
        "outputId": "7703764a-9a17-4afe-97ad-4650e002eb2c"
      },
      "execution_count": 14,
      "outputs": [
        {
          "output_type": "stream",
          "name": "stdout",
          "text": [
            "tensor(0)\n",
            "\n",
            "torch.return_types.min(\n",
            "values=tensor([0, 1, 5]),\n",
            "indices=tensor([0, 0, 1]))\n",
            "\n",
            "tensor([0, 1, 5])\n",
            "\n",
            "tensor([0, 0, 1])\n",
            "\n",
            "torch.return_types.min(\n",
            "values=tensor([0, 5]),\n",
            "indices=tensor([0, 2]))\n"
          ]
        }
      ]
    },
    {
      "cell_type": "code",
      "source": [
        "minval2.values"
      ],
      "metadata": {
        "colab": {
          "base_uri": "https://localhost:8080/"
        },
        "id": "T6rMnOESl96w",
        "outputId": "9e84d726-c4f9-4011-d7d4-bd39969521e6"
      },
      "execution_count": 16,
      "outputs": [
        {
          "output_type": "execute_result",
          "data": {
            "text/plain": [
              "tensor([0, 1, 5])"
            ]
          },
          "metadata": {},
          "execution_count": 16
        }
      ]
    },
    {
      "cell_type": "code",
      "source": [
        "# Do the same for argmin\n",
        "minidx1 = torch.argmin(M)\n",
        "minidx2 = torch.argmin(M,axis=0)\n",
        "minidx3 = torch.argmin(M,axis=1)\n",
        "\n",
        "print(minidx1)\n",
        "print()\n",
        "print(minidx2)\n",
        "print()\n",
        "print(minidx3)"
      ],
      "metadata": {
        "colab": {
          "base_uri": "https://localhost:8080/"
        },
        "id": "xahk-aEOv3NY",
        "outputId": "8e5cb74d-4338-4b42-ad5e-17cb3cde37b9"
      },
      "execution_count": 15,
      "outputs": [
        {
          "output_type": "stream",
          "name": "stdout",
          "text": [
            "tensor(0)\n",
            "\n",
            "tensor([0, 0, 1])\n",
            "\n",
            "tensor([0, 2])\n"
          ]
        }
      ]
    },
    {
      "cell_type": "markdown",
      "source": [
        "## Mean and Variance"
      ],
      "metadata": {
        "id": "G4JjR6N9VKIW"
      }
    },
    {
      "cell_type": "markdown",
      "source": [
        "* Mean is the most commonly used measure of central tendency of the data. Defined as $\\bar{x} = n^{-1} \\sum_{i=1}^{n} x_i$. It is mostly suitable for normal or nearly noramally distributed data.\n",
        "\n",
        "* Variance is suitable for any distribution and data type. It is defined as $ \\sigma^2 = 1/(n-1) \\sum_{i=1}^{n} (x_i - \\bar{x})^2$\n",
        "\n",
        "* Standard deviation is just the square root of the variance, therefore it is indicated by $\\sigma$."
      ],
      "metadata": {
        "id": "wEkHadVao1jk"
      }
    },
    {
      "cell_type": "code",
      "source": [
        "# Generate a list of numbers\n",
        "x = [1,2,4,6,5,4,0]\n",
        "n = len(x)\n",
        "\n",
        "# Compute the mean in two different ways\n",
        "mean1 = np.mean(x)\n",
        "mean2 = np.sum(x)/len(x)\n",
        "\n",
        "print(mean1)\n",
        "print()\n",
        "print(mean2)"
      ],
      "metadata": {
        "colab": {
          "base_uri": "https://localhost:8080/"
        },
        "id": "zvK-wQ7cVN3V",
        "outputId": "d87dfb0a-66bd-4402-ad3f-86d07be04767"
      },
      "execution_count": 17,
      "outputs": [
        {
          "output_type": "stream",
          "name": "stdout",
          "text": [
            "3.142857142857143\n",
            "\n",
            "3.142857142857143\n"
          ]
        }
      ]
    },
    {
      "cell_type": "code",
      "source": [
        "# Variance\n",
        "var1 = np.var(x) # biased variance (ddof=0 is the default)\n",
        "var1ub = np.var(x, ddof=1)\n",
        "var2 = (1/(n-1))*np.sum((x - mean1)**2) # unbiased variance\n",
        "\n",
        "print(var1)\n",
        "print()\n",
        "print(var1ub)\n",
        "print()\n",
        "print(var2)"
      ],
      "metadata": {
        "colab": {
          "base_uri": "https://localhost:8080/"
        },
        "id": "HxGmS0MxVr-8",
        "outputId": "6126013c-e453-47ec-d75f-ea47d93be367"
      },
      "execution_count": 18,
      "outputs": [
        {
          "output_type": "stream",
          "name": "stdout",
          "text": [
            "4.122448979591836\n",
            "\n",
            "4.809523809523809\n",
            "\n",
            "4.809523809523809\n"
          ]
        }
      ]
    },
    {
      "cell_type": "code",
      "source": [
        "# For large samples, biased vs unbiased makes no difference\n",
        "N = 1000\n",
        "x = np.random.randint(0, high=20,size=N)\n",
        "\n",
        "varb = np.var(x, ddof=0)  # Biased variance\n",
        "varu = np.var(x, ddof=1)  # Unbiased Variance\n",
        "\n",
        "print(\"Biased variance: {:.4f}\".format(varb))\n",
        "print(\"Unbiased variance: {:.4f}\".format(varu))"
      ],
      "metadata": {
        "colab": {
          "base_uri": "https://localhost:8080/"
        },
        "id": "t9UegSNiWxXi",
        "outputId": "5eae7891-4391-4037-a399-e17e552b3474"
      },
      "execution_count": 19,
      "outputs": [
        {
          "output_type": "stream",
          "name": "stdout",
          "text": [
            "Biased variance: 33.5492\n",
            "Unbiased variance: 33.5828\n"
          ]
        }
      ]
    },
    {
      "cell_type": "markdown",
      "source": [
        "## Sampling"
      ],
      "metadata": {
        "id": "z3lYbBUvuaZL"
      }
    },
    {
      "cell_type": "markdown",
      "source": [
        "* **Sampling Variability**: Different samples from the same population can have different values of the same measurement.\n",
        "\n",
        "* Implications of sampling variability: A single measurement may be an unreliable estimate of a population parameter.\n",
        "\n",
        "* Sources of Sampling Variability\n",
        "-a. Natural Variation: Often seen in biology\n",
        "-b. Measurement Noise: Sensors are imperfect\n",
        "-c. Complex Systems: Measuring some factors while ignoring others\n",
        "-d. Stochasticity (randomness) everywhere in the universe."
      ],
      "metadata": {
        "id": "j7DYEiXws5wX"
      }
    },
    {
      "cell_type": "code",
      "source": [
        "# create a list of number and compute its mean and vaiance\n",
        "x = [1,2,4,6,5,4,0,-4,5,-2,6,10,-9,1,3,-6]\n",
        "n = len(x)\n",
        "\n",
        "# compute population mean\n",
        "popmean = np.mean(x)\n",
        "\n",
        "# pick a sample and compute its mean\n",
        "sample = np.random.choice(x,size = 5, replace=True)\n",
        "sampmean = np.mean(sample)\n",
        "\n",
        "print(popmean)\n",
        "print()\n",
        "print(sampmean)"
      ],
      "metadata": {
        "colab": {
          "base_uri": "https://localhost:8080/"
        },
        "id": "94GFoogIucGx",
        "outputId": "eda3e85f-b9b5-4695-d26f-f51bdef125c6"
      },
      "execution_count": 27,
      "outputs": [
        {
          "output_type": "stream",
          "name": "stdout",
          "text": [
            "1.625\n",
            "\n",
            "2.6\n"
          ]
        }
      ]
    },
    {
      "cell_type": "code",
      "source": [
        "# Compute many sample means\n",
        "N = 10000\n",
        "sampleMean = np.zeros(N)\n",
        "for i in range(N):\n",
        "  # get a random sample\n",
        "  sample = np.random.choice(x, size = 5, replace=True)\n",
        "\n",
        "  # Compute the sample mean\n",
        "  sampleMean[i] = np.mean(sample)\n",
        "\n",
        "plt.hist(sampleMean, bins=40, density=True)\n",
        "plt.plot([popmean,popmean],[0,0.3], \"m--\")\n",
        "plt.ylabel(\"Count\")\n",
        "plt.xlabel(\"Sample Mean\")\n",
        "plt.show()"
      ],
      "metadata": {
        "colab": {
          "base_uri": "https://localhost:8080/",
          "height": 279
        },
        "id": "2vwxKhIXvnqg",
        "outputId": "10b98373-433b-42a7-a264-62e14e45027a"
      },
      "execution_count": 34,
      "outputs": [
        {
          "output_type": "display_data",
          "data": {
            "text/plain": [
              "<Figure size 432x288 with 1 Axes>"
            ],
            "image/png": "[encoded data removed]"
          },
          "metadata": {
            "needs_background": "light"
          }
        }
      ]
    },
    {
      "cell_type": "markdown",
      "source": [
        "## Random Seeds"
      ],
      "metadata": {
        "id": "2Ydey-_nyXU6"
      }
    },
    {
      "cell_type": "markdown",
      "source": [
        "### Random Seeding in Pyhon"
      ],
      "metadata": {
        "id": "nUDWgMLByXoB"
      }
    },
    {
      "cell_type": "code",
      "source": [
        "# Generate some random numbers\n",
        "np.random.randn(5)"
      ],
      "metadata": {
        "colab": {
          "base_uri": "https://localhost:8080/"
        },
        "id": "dWzHA37hydU8",
        "outputId": "4f749258-5e67-4c76-cdce-e3a812c3fea5"
      },
      "execution_count": 36,
      "outputs": [
        {
          "output_type": "execute_result",
          "data": {
            "text/plain": [
              "array([ 0.30442961,  0.82414841, -0.33442285, -0.08255232,  0.01213551])"
            ]
          },
          "metadata": {},
          "execution_count": 36
        }
      ]
    },
    {
      "cell_type": "code",
      "source": [
        "# fix a seed\n",
        "np.random.seed(17)\n",
        "print(np.random.randn(5))\n",
        "print(np.random.randn(5))"
      ],
      "metadata": {
        "colab": {
          "base_uri": "https://localhost:8080/"
        },
        "id": "bNRPKg7Syuy8",
        "outputId": "dd91dd5b-215f-4341-fa2d-8cf5013d3749"
      },
      "execution_count": 38,
      "outputs": [
        {
          "output_type": "stream",
          "name": "stdout",
          "text": [
            "[ 0.27626589 -1.85462808  0.62390111  1.14531129  1.03719047]\n",
            "[ 1.88663893 -0.11169829 -0.36210134  0.14867505 -0.43778315]\n"
          ]
        }
      ]
    },
    {
      "cell_type": "code",
      "source": [
        "# The new seed mechanism in Numpy\n",
        "randseed1 = np.random.RandomState(17)\n",
        "randseed2 = np.random.RandomState(1234)\n",
        "# local scope for the seed, not global like the upper approach\n",
        "print(randseed1.randn(5))\n",
        "print()\n",
        "print(randseed2.randn(5))\n",
        "print()\n",
        "print(randseed1.randn(5))\n",
        "print()\n",
        "print(randseed2.randn(5))\n",
        "print()\n",
        "print(np.random.randn(5)) # not seeded"
      ],
      "metadata": {
        "colab": {
          "base_uri": "https://localhost:8080/"
        },
        "id": "M32Wa-vby7Pi",
        "outputId": "65613b55-e96a-4c30-cd06-cf60cc4a934c"
      },
      "execution_count": 41,
      "outputs": [
        {
          "output_type": "stream",
          "name": "stdout",
          "text": [
            "[ 0.27626589 -1.85462808  0.62390111  1.14531129  1.03719047]\n",
            "\n",
            "[ 0.47143516 -1.19097569  1.43270697 -0.3126519  -0.72058873]\n",
            "\n",
            "[ 1.88663893 -0.11169829 -0.36210134  0.14867505 -0.43778315]\n",
            "\n",
            "[ 0.88716294  0.85958841 -0.6365235   0.01569637 -2.24268495]\n",
            "\n",
            "[-0.9822943   1.03126909  0.49133378 -0.4466466  -0.80636008]\n"
          ]
        }
      ]
    },
    {
      "cell_type": "markdown",
      "source": [
        "### In pytorch"
      ],
      "metadata": {
        "id": "YaRqLTtk0eZs"
      }
    },
    {
      "cell_type": "code",
      "source": [
        "# tensor of random numbers\n",
        "torch.randn(5)"
      ],
      "metadata": {
        "colab": {
          "base_uri": "https://localhost:8080/"
        },
        "id": "zW8SYOjP0c9W",
        "outputId": "6fc1f376-26a0-4962-fb47-8da9b233d719"
      },
      "execution_count": 42,
      "outputs": [
        {
          "output_type": "execute_result",
          "data": {
            "text/plain": [
              "tensor([ 0.9402,  0.7631,  0.0617, -1.5071, -0.1781])"
            ]
          },
          "metadata": {},
          "execution_count": 42
        }
      ]
    },
    {
      "cell_type": "code",
      "source": [
        "# Similar to numpy's old system\n",
        "torch.manual_seed(17)\n",
        "print(torch.randn(5))\n",
        "\n",
        "# Torch's seed does not spread to numpy: different every time\n",
        "print(np.random.randn(5))"
      ],
      "metadata": {
        "colab": {
          "base_uri": "https://localhost:8080/"
        },
        "id": "3rJH7iPh0kXh",
        "outputId": "3303656e-98da-4b8b-9590-6e8e8e47bf82"
      },
      "execution_count": 45,
      "outputs": [
        {
          "output_type": "stream",
          "name": "stdout",
          "text": [
            "tensor([-1.4135,  0.2336,  0.0340,  0.3499, -0.0145])\n",
            "[ 0.86962384  0.56778309  0.46528234 -1.16537308 -2.03599479]\n"
          ]
        }
      ]
    },
    {
      "cell_type": "markdown",
      "source": [
        "## t-test"
      ],
      "metadata": {
        "id": "kA-zNKIN3eci"
      }
    },
    {
      "cell_type": "markdown",
      "source": [
        "* t-test is a way to deterimne whether data drwan from one distribution (or sample) is significantly different from the data drawn from another distribution (or sample). In DL we use it to compare model performances: The alternative hypothesis is that model A is significantly different than model B, while the null hypothesis is that the two models performed equally well. \n",
        "\n",
        "* $t_k = (\\bar{x} - \\bar{y}) / (s/ \\sqrt(n)$"
      ],
      "metadata": {
        "id": "vnqXGzoMzaLe"
      }
    },
    {
      "cell_type": "code",
      "source": [
        "# we need scipy.stats for statistical tests\n",
        "import scipy.stats as stats"
      ],
      "metadata": {
        "id": "dPmPP-7L3hH4"
      },
      "execution_count": 46,
      "outputs": []
    },
    {
      "cell_type": "code",
      "source": [
        "# define the parameters\n",
        "n1 = 30   # samples in dataset 1\n",
        "n2 = 40   # samples in dataset 2\n",
        "mu1 = 1   # population mean of dataset 1\n",
        "mu2 = 2   # population mean of dataset 2\n",
        "\n",
        "# generate the data according to these parameters\n",
        "data1 = mu1 + np.random.randn(n1)\n",
        "data2 = mu2 + np.random.randn(n2)\n",
        "\n",
        "# plot everything\n",
        "plt.plot(np.zeros(n1), data1, \"ro\", markerfacecolor=\"w\", markersize=14)\n",
        "plt.plot(np.ones(n2), data2, \"bs\", markerfacecolor=\"w\", markersize=14)\n",
        "plt.xlim([-1,2])\n",
        "plt.xticks([0,1], labels=[\"Group1\", \"Group2\"])\n",
        "plt.show()"
      ],
      "metadata": {
        "colab": {
          "base_uri": "https://localhost:8080/",
          "height": 265
        },
        "id": "gEBioWpy3r7N",
        "outputId": "e9d41b84-7c77-476d-ebf2-39b94219cab1"
      },
      "execution_count": 47,
      "outputs": [
        {
          "output_type": "display_data",
          "data": {
            "text/plain": [
              "<Figure size 432x288 with 1 Axes>"
            ],
            "image/png": "[encoded data removed]"
          },
          "metadata": {
            "needs_background": "light"
          }
        }
      ]
    },
    {
      "cell_type": "code",
      "source": [
        "# test whether their means change significantly\n",
        "# _ind = independent samples\n",
        "t,p = stats.ttest_ind(data1,data2)\n",
        "print(t)\n",
        "print()\n",
        "print(p)"
      ],
      "metadata": {
        "colab": {
          "base_uri": "https://localhost:8080/"
        },
        "id": "UPwqix7j5HzW",
        "outputId": "f636035c-a997-4563-a32b-b5dac4ebdafc"
      },
      "execution_count": 48,
      "outputs": [
        {
          "output_type": "stream",
          "name": "stdout",
          "text": [
            "-4.344297032577141\n",
            "\n",
            "4.772736012560633e-05\n"
          ]
        }
      ]
    },
    {
      "cell_type": "code",
      "source": [
        "# Common way to show t=test results in a plot\n",
        "fig = plt.figure(figsize=(10,4))\n",
        "plt.rcParams.update({\"font.size\":12}) # change the fontsize of labels on picture\n",
        "\n",
        "plt.plot(0+np.random.randn(n1)/15, data1, \"ro\", markerfacecolor=\"w\", markersize=14)\n",
        "plt.plot(1+np.random.randn(n1)/15, data1, \"bs\", markerfacecolor=\"w\", markersize=14)\n",
        "plt.xlim([-1,2])\n",
        "plt.xticks([0,1], labels=[\"Group 1\", \"Group 2\"])\n",
        "\n",
        "# Set the title to include the t- and p-values\n",
        "plt.title(f\"t = {t:.2f}, p = {p:.3f}\")\n",
        "plt.show()"
      ],
      "metadata": {
        "colab": {
          "base_uri": "https://localhost:8080/",
          "height": 285
        },
        "id": "HgaVSX145cZt",
        "outputId": "24c8ba6f-bd65-4672-a1b8-0846eeaef098"
      },
      "execution_count": 49,
      "outputs": [
        {
          "output_type": "display_data",
          "data": {
            "text/plain": [
              "<Figure size 720x288 with 1 Axes>"
            ],
            "image/png": "[encoded data removed]"
          },
          "metadata": {
            "needs_background": "light"
          }
        }
      ]
    },
    {
      "cell_type": "markdown",
      "source": [
        "## Derivatives"
      ],
      "metadata": {
        "id": "CIT6w8qHBGt1"
      }
    },
    {
      "cell_type": "markdown",
      "source": [
        "Why Derivatives matter in DL:\n",
        "\n",
        "* Derivatives point in the direction of increases and decreases in a mathematical function (Definition).\n",
        "\n",
        "* The goal of the algorithm is represented as an error function. Thus the best solution is the point with the smallest error.\n",
        "\n",
        "* The derivative tells us which way to move in that error landscape in order to find the optimal solution\n",
        "\n",
        "* There is no DL without derivatives!"
      ],
      "metadata": {
        "id": "Qe2gh8es6kH7"
      }
    },
    {
      "cell_type": "code",
      "source": [
        "# sympy = symbolic math in python\n",
        "import sympy as sym\n",
        "import sympy.plotting.plot as symplot"
      ],
      "metadata": {
        "id": "tSUctaB9BJFf"
      },
      "execution_count": 50,
      "outputs": []
    },
    {
      "cell_type": "code",
      "source": [
        "# create symbolic vaiables in sympy\n",
        "x = sym.symbols(\"x\")\n",
        "\n",
        "# create a unction\n",
        "fx = 2*x**2\n",
        "\n",
        "# compute its derivative\n",
        "df = sym.diff(fx,x)\n",
        "\n",
        "print(x)\n",
        "print()\n",
        "print(fx)\n",
        "print()\n",
        "print(df)"
      ],
      "metadata": {
        "colab": {
          "base_uri": "https://localhost:8080/"
        },
        "id": "OGA-CxycBYvJ",
        "outputId": "104a6192-f8ae-4e01-d77c-8ba0b24d095b"
      },
      "execution_count": 51,
      "outputs": [
        {
          "output_type": "stream",
          "name": "stdout",
          "text": [
            "x\n",
            "\n",
            "2*x**2\n",
            "\n",
            "4*x\n"
          ]
        }
      ]
    },
    {
      "cell_type": "code",
      "source": [
        "# Plot the function and its derivative\n",
        "symplot(fx, (x,-4,4), title=\"The Function\")\n",
        "plt.show()"
      ],
      "metadata": {
        "colab": {
          "base_uri": "https://localhost:8080/",
          "height": 293
        },
        "id": "kFheZlJEBylw",
        "outputId": "d2b22f97-6ad9-4bdf-8259-5c214b053dc4"
      },
      "execution_count": 53,
      "outputs": [
        {
          "output_type": "display_data",
          "data": {
            "text/plain": [
              "<Figure size 432x288 with 1 Axes>"
            ],
            "image/png": "[encoded data removed]"
          },
          "metadata": {
            "needs_background": "light"
          }
        }
      ]
    },
    {
      "cell_type": "code",
      "source": [
        "# Draw the derivative of the function\n",
        "symplot(df,(x,-4,4), title=\"Derivative\")\n",
        "plt.show()"
      ],
      "metadata": {
        "colab": {
          "base_uri": "https://localhost:8080/",
          "height": 293
        },
        "id": "T43Jl6JcB-I4",
        "outputId": "969f8cf4-f487-4536-bc12-fab4737d0991"
      },
      "execution_count": 54,
      "outputs": [
        {
          "output_type": "display_data",
          "data": {
            "text/plain": [
              "<Figure size 432x288 with 1 Axes>"
            ],
            "image/png": "[encoded data removed]"
          },
          "metadata": {
            "needs_background": "light"
          }
        }
      ]
    },
    {
      "cell_type": "code",
      "source": [
        "# Repeat it for ReLU and Sigmoid\n",
        "# create symbolic functions\n",
        "relu = sym.Max(0,x)\n",
        "sigmoid = 1/(1+sym.exp(-x))\n",
        "\n",
        "print(relu)\n",
        "print()\n",
        "print(sigmoid)"
      ],
      "metadata": {
        "colab": {
          "base_uri": "https://localhost:8080/"
        },
        "id": "EtRQBk6HCJBi",
        "outputId": "d6067203-e329-4647-e53c-40dbce372ca4"
      },
      "execution_count": 55,
      "outputs": [
        {
          "output_type": "stream",
          "name": "stdout",
          "text": [
            "Max(0, x)\n",
            "\n",
            "1/(1 + exp(-x))\n"
          ]
        }
      ]
    },
    {
      "cell_type": "code",
      "source": [
        "# Show them on graphs\n",
        "p = symplot(relu,(x,-4,4), label=\"ReLU\",show=False, lin_color=\"blue\")\n",
        "p.extend(symplot(sigmoid,(x,-4,4),label=\"Sigmoid\",show=False,line_color=\"red\"))\n",
        "p.legend = True\n",
        "# p.title = \"The Functions\"\n",
        "p.show()"
      ],
      "metadata": {
        "colab": {
          "base_uri": "https://localhost:8080/",
          "height": 293
        },
        "id": "tjggI1HdC-Ue",
        "outputId": "23051c25-7c8e-4404-88ae-60f3864e0f42"
      },
      "execution_count": 56,
      "outputs": [
        {
          "output_type": "display_data",
          "data": {
            "text/plain": [
              "<Figure size 432x288 with 1 Axes>"
            ],
            "image/png": "[encoded data removed]"
          },
          "metadata": {
            "needs_background": "light"
          }
        }
      ]
    },
    {
      "cell_type": "code",
      "source": [
        "# Graph their derivatives\n",
        "p = symplot(sym.diff(relu), (x,-4,4),label=\"df(ReLU)\",show=False,line_color=\"blue\")\n",
        "p.extend(symplot(sym.diff(sigmoid),(x,-4,4),label=\"df(Sigmoid)\", show=False, line_color=\"red\"))\n",
        "p.legend=True\n",
        "# p.title = \"Derivatives\"\n",
        "p.show()"
      ],
      "metadata": {
        "colab": {
          "base_uri": "https://localhost:8080/",
          "height": 293
        },
        "id": "XqsB1rB_EqKY",
        "outputId": "a37ee7ad-085a-4768-e093-7fcf3a96fa0d"
      },
      "execution_count": 57,
      "outputs": [
        {
          "output_type": "display_data",
          "data": {
            "text/plain": [
              "<Figure size 432x288 with 1 Axes>"
            ],
            "image/png": "[encoded data removed]"
          },
          "metadata": {
            "needs_background": "light"
          }
        }
      ]
    },
    {
      "cell_type": "markdown",
      "source": [
        "## Product and Chain Rule"
      ],
      "metadata": {
        "id": "9rlPyQW5iD9p"
      }
    },
    {
      "cell_type": "code",
      "source": [
        "from IPython.display import display"
      ],
      "metadata": {
        "id": "Wta-GhgvEfUc"
      },
      "execution_count": null,
      "outputs": []
    },
    {
      "cell_type": "code",
      "source": [
        "# create symbolic variables in sympy\n",
        "x = sym.symbols(\"x\")\n",
        "\n",
        "# create two functions\n",
        "fx = 2*x**2\n",
        "gx = 4*x**3 - 3*x**4\n",
        "\n",
        "# compute their derivatives\n",
        "df = sym.diff(fx)\n",
        "dg = sym.diff(gx)\n",
        "\n",
        "print(df)\n",
        "print()\n",
        "print(dg)"
      ],
      "metadata": {
        "colab": {
          "base_uri": "https://localhost:8080/"
        },
        "id": "aJrsecd2iTsv",
        "outputId": "a8c678f3-a1ea-460a-810e-7c6f3806bf83"
      },
      "execution_count": null,
      "outputs": [
        {
          "output_type": "stream",
          "name": "stdout",
          "text": [
            "4*x\n",
            "\n",
            "-12*x**3 + 12*x**2\n"
          ]
        }
      ]
    },
    {
      "cell_type": "code",
      "source": [
        "# manually apply the product rule\n",
        "manual = df*gx + fx*dg\n",
        "\n",
        "print(manual)"
      ],
      "metadata": {
        "colab": {
          "base_uri": "https://localhost:8080/"
        },
        "id": "1v7DXqnCi4XC",
        "outputId": "02a6894a-13da-4dd7-8358-42ee158473d5"
      },
      "execution_count": null,
      "outputs": [
        {
          "output_type": "stream",
          "name": "stdout",
          "text": [
            "2*x**2*(-12*x**3 + 12*x**2) + 4*x*(-3*x**4 + 4*x**3)\n"
          ]
        }
      ]
    },
    {
      "cell_type": "code",
      "source": [
        "# do the same using sympy\n",
        "viasympy = sym.diff(fx*gx)\n",
        "print(viasympy)"
      ],
      "metadata": {
        "colab": {
          "base_uri": "https://localhost:8080/"
        },
        "id": "BgCXSQw-jJAW",
        "outputId": "b204d292-17a6-4a75-9ccd-6f626b67fce2"
      },
      "execution_count": null,
      "outputs": [
        {
          "output_type": "stream",
          "name": "stdout",
          "text": [
            "2*x**2*(-12*x**3 + 12*x**2) + 4*x*(-3*x**4 + 4*x**3)\n"
          ]
        }
      ]
    },
    {
      "cell_type": "code",
      "source": [
        "# use display from IPython\n",
        "print(\"Original Functions\")\n",
        "display(fx)\n",
        "display(gx)\n",
        "print()\n",
        "print(\"Their Derivatives\")\n",
        "display(df)\n",
        "display(dg)\n",
        "print()\n",
        "print(\"Manual product Rule\")\n",
        "display(manual)\n",
        "print()\n",
        "print(\"Sympy product Rule\")\n",
        "display(viasympy)"
      ],
      "metadata": {
        "colab": {
          "base_uri": "https://localhost:8080/",
          "height": 273
        },
        "id": "vQYliYCZjZlI",
        "outputId": "f82cb29f-7d6b-4edb-c80c-ebe61b7b5ead"
      },
      "execution_count": null,
      "outputs": [
        {
          "output_type": "stream",
          "name": "stdout",
          "text": [
            "Original Functions\n"
          ]
        },
        {
          "output_type": "display_data",
          "data": {
            "text/plain": [
              "2*x**2"
            ],
            "text/latex": "$\\displaystyle 2 x^{2}$"
          },
          "metadata": {}
        },
        {
          "output_type": "display_data",
          "data": {
            "text/plain": [
              "-3*x**4 + 4*x**3"
            ],
            "text/latex": "$\\displaystyle - 3 x^{4} + 4 x^{3}$"
          },
          "metadata": {}
        },
        {
          "output_type": "stream",
          "name": "stdout",
          "text": [
            "\n",
            "Their Derivatives\n"
          ]
        },
        {
          "output_type": "display_data",
          "data": {
            "text/plain": [
              "4*x"
            ],
            "text/latex": "$\\displaystyle 4 x$"
          },
          "metadata": {}
        },
        {
          "output_type": "display_data",
          "data": {
            "text/plain": [
              "-12*x**3 + 12*x**2"
            ],
            "text/latex": "$\\displaystyle - 12 x^{3} + 12 x^{2}$"
          },
          "metadata": {}
        },
        {
          "output_type": "stream",
          "name": "stdout",
          "text": [
            "\n",
            "Manual product Rule\n"
          ]
        },
        {
          "output_type": "display_data",
          "data": {
            "text/plain": [
              "2*x**2*(-12*x**3 + 12*x**2) + 4*x*(-3*x**4 + 4*x**3)"
            ],
            "text/latex": "$\\displaystyle 2 x^{2} \\left(- 12 x^{3} + 12 x^{2}\\right) + 4 x \\left(- 3 x^{4} + 4 x^{3}\\right)$"
          },
          "metadata": {}
        },
        {
          "output_type": "stream",
          "name": "stdout",
          "text": [
            "\n",
            "Sympy product Rule\n"
          ]
        },
        {
          "output_type": "display_data",
          "data": {
            "text/plain": [
              "2*x**2*(-12*x**3 + 12*x**2) + 4*x*(-3*x**4 + 4*x**3)"
            ],
            "text/latex": "$\\displaystyle 2 x^{2} \\left(- 12 x^{3} + 12 x^{2}\\right) + 4 x \\left(- 3 x^{4} + 4 x^{3}\\right)$"
          },
          "metadata": {}
        }
      ]
    },
    {
      "cell_type": "code",
      "source": [
        "# use the chain rule\n",
        "fx = (x**2 + 4*x**3)**5\n",
        "\n",
        "print(\"The function\")\n",
        "display(fx)\n",
        "print(\"\")\n",
        "\n",
        "print(\"Has derivative\")\n",
        "display(sym.diff(fx))"
      ],
      "metadata": {
        "colab": {
          "base_uri": "https://localhost:8080/",
          "height": 119
        },
        "id": "LGRmuMfxkW83",
        "outputId": "d47825c2-ee11-46ba-8c4f-f00c950ef9a4"
      },
      "execution_count": null,
      "outputs": [
        {
          "output_type": "stream",
          "name": "stdout",
          "text": [
            "The function\n"
          ]
        },
        {
          "output_type": "display_data",
          "data": {
            "text/plain": [
              "(4*x**3 + x**2)**5"
            ],
            "text/latex": "$\\displaystyle \\left(4 x^{3} + x^{2}\\right)^{5}$"
          },
          "metadata": {}
        },
        {
          "output_type": "stream",
          "name": "stdout",
          "text": [
            "\n",
            "Has derivative\n"
          ]
        },
        {
          "output_type": "display_data",
          "data": {
            "text/plain": [
              "(60*x**2 + 10*x)*(4*x**3 + x**2)**4"
            ],
            "text/latex": "$\\displaystyle \\left(60 x^{2} + 10 x\\right) \\left(4 x^{3} + x^{2}\\right)^{4}$"
          },
          "metadata": {}
        }
      ]
    }
  ]
}