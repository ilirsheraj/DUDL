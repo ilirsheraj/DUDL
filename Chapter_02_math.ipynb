{
  "nbformat": 4,
  "nbformat_minor": 0,
  "metadata": {
    "colab": {
      "name": "chapter_02_math.ipynb",
      "provenance": [],
      "authorship_tag": "ABX9TyMtmyGs8HJq8nM5vKLs395C",
      "include_colab_link": true
    },
    "kernelspec": {
      "name": "python3",
      "display_name": "Python 3"
    },
    "language_info": {
      "name": "python"
    }
  },
  "cells": [
    {
      "cell_type": "markdown",
      "metadata": {
        "id": "view-in-github",
        "colab_type": "text"
      },
      "source": [
        "<a href=\"https://colab.research.google.com/github/ilirsheraj/DUDL/blob/main/Chapter_02_math.ipynb\" target=\"_parent\"><img src=\"https://colab.research.google.com/assets/colab-badge.svg\" alt=\"Open In Colab\"/></a>"
      ]
    },
    {
      "cell_type": "markdown",
      "source": [
        "## Vector and Matrix Transpose"
      ],
      "metadata": {
        "id": "apK8XbRwOBdo"
      }
    },
    {
      "cell_type": "code",
      "execution_count": 1,
      "metadata": {
        "id": "Wq919Bw6Ny1A"
      },
      "outputs": [],
      "source": [
        "import numpy as np\n",
        "import torch\n",
        "import torch.nn as nn\n",
        "import torch.nn.functional as F\n",
        "import matplotlib.pyplot as plt"
      ]
    },
    {
      "cell_type": "code",
      "source": [
        "#!pip install -q --upgrade ipython\n",
        "#!pip install -q --upgrade ipykernel"
      ],
      "metadata": {
        "id": "n9Xwh4wI9Rxi"
      },
      "execution_count": null,
      "outputs": []
    },
    {
      "cell_type": "markdown",
      "source": [
        "### Use Numpy"
      ],
      "metadata": {
        "id": "8uVvrys1Oi-j"
      }
    },
    {
      "cell_type": "code",
      "source": [
        "# create a row vector [[]], otherwise [] will be column vector only\n",
        "nv = np.array([ [1,2,3,4] ])\n",
        "print(nv)"
      ],
      "metadata": {
        "colab": {
          "base_uri": "https://localhost:8080/"
        },
        "id": "UM0CqcE2OhVc",
        "outputId": "84c9b503-0133-4150-9b64-171d9a8eecac"
      },
      "execution_count": 2,
      "outputs": [
        {
          "output_type": "stream",
          "name": "stdout",
          "text": [
            "[[1 2 3 4]]\n"
          ]
        }
      ]
    },
    {
      "cell_type": "code",
      "source": [
        "# A less common way\n",
        "nv_t = np.transpose(nv)\n",
        "print(nv_t)"
      ],
      "metadata": {
        "colab": {
          "base_uri": "https://localhost:8080/"
        },
        "id": "mVeWkvLoE9k_",
        "outputId": "373ecf0a-b190-4352-f5e4-0913c67e95d9"
      },
      "execution_count": 3,
      "outputs": [
        {
          "output_type": "stream",
          "name": "stdout",
          "text": [
            "[[1]\n",
            " [2]\n",
            " [3]\n",
            " [4]]\n"
          ]
        }
      ]
    },
    {
      "cell_type": "code",
      "source": [
        "# transpose the vector\n",
        "print(nv.T)"
      ],
      "metadata": {
        "colab": {
          "base_uri": "https://localhost:8080/"
        },
        "id": "Pq_qEuA7PNvz",
        "outputId": "cfce807a-3d3d-4d92-bf57-4672e8f87a1b"
      },
      "execution_count": 4,
      "outputs": [
        {
          "output_type": "stream",
          "name": "stdout",
          "text": [
            "[[1]\n",
            " [2]\n",
            " [3]\n",
            " [4]]\n"
          ]
        }
      ]
    },
    {
      "cell_type": "code",
      "source": [
        "# Make the change permanent by assigning it to a new vector\n",
        "nvT = nv.T\n",
        "print(nvT)"
      ],
      "metadata": {
        "colab": {
          "base_uri": "https://localhost:8080/"
        },
        "id": "6Cfvg_HVPSa6",
        "outputId": "2a6471b9-6888-42ae-a56b-7e722534e185"
      },
      "execution_count": 5,
      "outputs": [
        {
          "output_type": "stream",
          "name": "stdout",
          "text": [
            "[[1]\n",
            " [2]\n",
            " [3]\n",
            " [4]]\n"
          ]
        }
      ]
    },
    {
      "cell_type": "code",
      "source": [
        "# Do the same for a matrix: 2 rows by 4 columns\n",
        "nM = np.array([[1,2,3,4],\n",
        "               [5,6,7,8]])\n",
        "print(nM)"
      ],
      "metadata": {
        "colab": {
          "base_uri": "https://localhost:8080/"
        },
        "id": "lsGCkQg8PgQr",
        "outputId": "26c1447d-ecf7-46da-8949-2a740f85cade"
      },
      "execution_count": 6,
      "outputs": [
        {
          "output_type": "stream",
          "name": "stdout",
          "text": [
            "[[1 2 3 4]\n",
            " [5 6 7 8]]\n"
          ]
        }
      ]
    },
    {
      "cell_type": "code",
      "source": [
        "# Transpose it\n",
        "print(nM.T)"
      ],
      "metadata": {
        "colab": {
          "base_uri": "https://localhost:8080/"
        },
        "id": "SOMRCdLePq14",
        "outputId": "215d6984-8c58-4905-8e77-d8d820d76261"
      },
      "execution_count": 7,
      "outputs": [
        {
          "output_type": "stream",
          "name": "stdout",
          "text": [
            "[[1 5]\n",
            " [2 6]\n",
            " [3 7]\n",
            " [4 8]]\n"
          ]
        }
      ]
    },
    {
      "cell_type": "code",
      "source": [
        "# Assign the transposed part to a new name\n",
        "nMT = nM.T\n",
        "print(nMT)"
      ],
      "metadata": {
        "colab": {
          "base_uri": "https://localhost:8080/"
        },
        "id": "3ajIpgM_PvC9",
        "outputId": "09d8baa8-c259-4e76-ad9c-9a4a7bb83e5c"
      },
      "execution_count": 8,
      "outputs": [
        {
          "output_type": "stream",
          "name": "stdout",
          "text": [
            "[[1 5]\n",
            " [2 6]\n",
            " [3 7]\n",
            " [4 8]]\n"
          ]
        }
      ]
    },
    {
      "cell_type": "markdown",
      "source": [
        "### Using PyTorch"
      ],
      "metadata": {
        "id": "aWsKyehHP1WV"
      }
    },
    {
      "cell_type": "code",
      "source": [
        "# Create a vector: In this case it is the same as numpy\n",
        "tv = torch.tensor([[1,2,3,4]])\n",
        "print(tv)"
      ],
      "metadata": {
        "colab": {
          "base_uri": "https://localhost:8080/"
        },
        "id": "TdL7p9HCP5U2",
        "outputId": "cb6db00a-3f39-408e-f7ef-d18ad9a3de43"
      },
      "execution_count": 9,
      "outputs": [
        {
          "output_type": "stream",
          "name": "stdout",
          "text": [
            "tensor([[1, 2, 3, 4]])\n"
          ]
        }
      ]
    },
    {
      "cell_type": "code",
      "source": [
        "# Transpose it\n",
        "tvT = tv.T\n",
        "print(tvT)"
      ],
      "metadata": {
        "colab": {
          "base_uri": "https://localhost:8080/"
        },
        "id": "5yXVa82eQHLA",
        "outputId": "fe1aa52e-223d-43c2-8781-d0c8e651aad4"
      },
      "execution_count": 10,
      "outputs": [
        {
          "output_type": "stream",
          "name": "stdout",
          "text": [
            "tensor([[1],\n",
            "        [2],\n",
            "        [3],\n",
            "        [4]])\n"
          ]
        }
      ]
    },
    {
      "cell_type": "code",
      "source": [
        "# Create a matrix\n",
        "tM = torch.tensor([[1,2,3,4], [5,6,7,8]])\n",
        "print(tM)"
      ],
      "metadata": {
        "colab": {
          "base_uri": "https://localhost:8080/"
        },
        "id": "BQrpBqIeQQXp",
        "outputId": "c13b2548-6ec4-4d8b-e3d0-1a1a76eb233b"
      },
      "execution_count": 11,
      "outputs": [
        {
          "output_type": "stream",
          "name": "stdout",
          "text": [
            "tensor([[1, 2, 3, 4],\n",
            "        [5, 6, 7, 8]])\n"
          ]
        }
      ]
    },
    {
      "cell_type": "code",
      "source": [
        "# Transpose it\n",
        "tMT = tM.T\n",
        "print(tMT)"
      ],
      "metadata": {
        "colab": {
          "base_uri": "https://localhost:8080/"
        },
        "id": "UmDaSEmhQZYN",
        "outputId": "6728d51c-06c8-4239-c675-f5704177dd20"
      },
      "execution_count": 12,
      "outputs": [
        {
          "output_type": "stream",
          "name": "stdout",
          "text": [
            "tensor([[1, 5],\n",
            "        [2, 6],\n",
            "        [3, 7],\n",
            "        [4, 8]])\n"
          ]
        }
      ]
    },
    {
      "cell_type": "code",
      "source": [
        "# Check the datatypes\n",
        "print(f\"Variable nv is of type {type(nv)}\")\n",
        "print(f\"Variable nM is of type {type(nM)}\")\n",
        "print(f\"Variable tv is of type {type(tv)}\")\n",
        "print(f\"Variable tM is of type {type(tM)}\")"
      ],
      "metadata": {
        "colab": {
          "base_uri": "https://localhost:8080/"
        },
        "id": "GrQJN7Q8Qie4",
        "outputId": "53f60e25-2bec-484d-9f6f-7beda7e4e65a"
      },
      "execution_count": 13,
      "outputs": [
        {
          "output_type": "stream",
          "name": "stdout",
          "text": [
            "Variable nv is of type <class 'numpy.ndarray'>\n",
            "Variable nM is of type <class 'numpy.ndarray'>\n",
            "Variable tv is of type <class 'torch.Tensor'>\n",
            "Variable tM is of type <class 'torch.Tensor'>\n"
          ]
        }
      ]
    },
    {
      "cell_type": "markdown",
      "source": [
        "## Dot Product"
      ],
      "metadata": {
        "id": "JOGNa2p9Sgbz"
      }
    },
    {
      "cell_type": "markdown",
      "source": [
        "Dot product is one of the most important mathematical operations in Linear Algebra, and by default in Deep Learning"
      ],
      "metadata": {
        "id": "wHmfR8T-GT8P"
      }
    },
    {
      "cell_type": "markdown",
      "source": [
        "### Numpy"
      ],
      "metadata": {
        "id": "uN__KNVQTCJd"
      }
    },
    {
      "cell_type": "code",
      "source": [
        "# create two vectors: Column vectors\n",
        "nv1 = np.array([1,2,3,4])\n",
        "nv2 = np.array([0,1,0,-1])\n",
        "\n",
        "# dot product via function\n",
        "print(np.dot(nv1,nv2))\n",
        "\n",
        "# dot product via computation\n",
        "print(np.sum(nv1*nv2))"
      ],
      "metadata": {
        "colab": {
          "base_uri": "https://localhost:8080/"
        },
        "id": "Gg7VTMlESgDI",
        "outputId": "656ddac9-424e-4eb1-cde4-0c7c2f4b75cb"
      },
      "execution_count": 14,
      "outputs": [
        {
          "output_type": "stream",
          "name": "stdout",
          "text": [
            "-2\n",
            "-2\n"
          ]
        }
      ]
    },
    {
      "cell_type": "markdown",
      "source": [
        "### Pytorch"
      ],
      "metadata": {
        "id": "ynjE6NPBTEWE"
      }
    },
    {
      "cell_type": "code",
      "source": [
        "# create two vectors\n",
        "nv1 = torch.tensor([1,2,3,4])\n",
        "nv2 = torch.tensor([0,1,0,-1])\n",
        "\n",
        "# dot product via function\n",
        "print(torch.dot(nv1,nv2))\n",
        "\n",
        "# dot product via computation\n",
        "print(torch.sum(nv1*nv2))"
      ],
      "metadata": {
        "colab": {
          "base_uri": "https://localhost:8080/"
        },
        "id": "AxvhIqpwTGQq",
        "outputId": "d5f0b20e-9428-47ef-b217-b63d1d6b5f3e"
      },
      "execution_count": 15,
      "outputs": [
        {
          "output_type": "stream",
          "name": "stdout",
          "text": [
            "tensor(-2)\n",
            "tensor(-2)\n"
          ]
        }
      ]
    },
    {
      "cell_type": "markdown",
      "source": [
        "## Matrix Multiplication"
      ],
      "metadata": {
        "id": "_IXR1t6VX8Af"
      }
    },
    {
      "cell_type": "markdown",
      "source": [
        "Matrix Multiplication is an application of the Dot Product, but it is more involved than just computing the dot product because we care about initial dimensionality and the final dimensionality as well. MxN @ NxK = MxK"
      ],
      "metadata": {
        "id": "jSeWqK8DIvVY"
      }
    },
    {
      "cell_type": "markdown",
      "source": [
        "### Numpy"
      ],
      "metadata": {
        "id": "Ngn_IjP6X_nO"
      }
    },
    {
      "cell_type": "code",
      "source": [
        "# Create random matrices\n",
        "A = np.random.randn(3,4)\n",
        "B = np.random.randn(4,5)\n",
        "C = np.random.randn(3,7)\n",
        "\n",
        "# Try multiplications\n",
        "print(np.round(A@B,2))\n",
        "print(\"=\"*30)\n",
        "print(np.round(A.T@C,2))\n",
        "print(\"=\"*30)\n",
        "print(np.round(C.T@A,2))"
      ],
      "metadata": {
        "colab": {
          "base_uri": "https://localhost:8080/"
        },
        "id": "NEwZ0NpVTVNf",
        "outputId": "783a12f2-bf38-4522-8ad0-9e891a8f8bb0"
      },
      "execution_count": 16,
      "outputs": [
        {
          "output_type": "stream",
          "name": "stdout",
          "text": [
            "[[-1.61  0.21 -1.07 -0.24 -1.74]\n",
            " [-1.29  0.43 -0.04 -1.18 -1.24]\n",
            " [ 1.38  1.45  2.43 -0.5  -0.73]]\n",
            "==============================\n",
            "[[-1.26 -0.22  1.52 -0.64 -2.55 -0.27 -1.23]\n",
            " [-1.5  -0.87  2.83 -1.37 -0.87  2.54 -2.64]\n",
            " [-0.68  1.2   1.07 -0.67 -1.28  1.17 -1.6 ]\n",
            " [ 0.62  1.09 -1.24  0.53 -0.01 -0.97  0.87]]\n",
            "==============================\n",
            "[[-1.26 -1.5  -0.68  0.62]\n",
            " [-0.22 -0.87  1.2   1.09]\n",
            " [ 1.52  2.83  1.07 -1.24]\n",
            " [-0.64 -1.37 -0.67  0.53]\n",
            " [-2.55 -0.87 -1.28 -0.01]\n",
            " [-0.27  2.54  1.17 -0.97]\n",
            " [-1.23 -2.64 -1.6   0.87]]\n"
          ]
        }
      ]
    },
    {
      "cell_type": "code",
      "source": [
        "# Matrix Multiplication using np.matmul()\n",
        "print(np.round(np.matmul(A,B),2))\n",
        "print(\"=\"*30)\n",
        "print(np.round(np.matmul(A.T, C,),2))\n",
        "print(\"=\"*30)\n",
        "print(np.round(np.matmul(C.T, A),2))"
      ],
      "metadata": {
        "colab": {
          "base_uri": "https://localhost:8080/"
        },
        "id": "1jFrsZe_LT7n",
        "outputId": "1d22f13e-e0c1-4a43-feb1-fd518bae03d3"
      },
      "execution_count": 17,
      "outputs": [
        {
          "output_type": "stream",
          "name": "stdout",
          "text": [
            "[[-1.61  0.21 -1.07 -0.24 -1.74]\n",
            " [-1.29  0.43 -0.04 -1.18 -1.24]\n",
            " [ 1.38  1.45  2.43 -0.5  -0.73]]\n",
            "==============================\n",
            "[[-1.26 -0.22  1.52 -0.64 -2.55 -0.27 -1.23]\n",
            " [-1.5  -0.87  2.83 -1.37 -0.87  2.54 -2.64]\n",
            " [-0.68  1.2   1.07 -0.67 -1.28  1.17 -1.6 ]\n",
            " [ 0.62  1.09 -1.24  0.53 -0.01 -0.97  0.87]]\n",
            "==============================\n",
            "[[-1.26 -1.5  -0.68  0.62]\n",
            " [-0.22 -0.87  1.2   1.09]\n",
            " [ 1.52  2.83  1.07 -1.24]\n",
            " [-0.64 -1.37 -0.67  0.53]\n",
            " [-2.55 -0.87 -1.28 -0.01]\n",
            " [-0.27  2.54  1.17 -0.97]\n",
            " [-1.23 -2.64 -1.6   0.87]]\n"
          ]
        }
      ]
    },
    {
      "cell_type": "markdown",
      "source": [
        "### Using Pytorch"
      ],
      "metadata": {
        "id": "9kDtQz7VYrPA"
      }
    },
    {
      "cell_type": "code",
      "source": [
        "# Create random matrices\n",
        "A = torch.randn(3,4)\n",
        "B = torch.randn(4,5)\n",
        "C1 = np.random.randn(3,7)\n",
        "C2 = torch.tensor(C1, dtype=torch.float)\n",
        "\n",
        "# Try multiplications\n",
        "print(np.round(A@B,2))\n",
        "print(\"=\"*30)\n",
        "# print(np.round(A@B.T,2))  # Not working because of dimensionality issues\n",
        "print(np.round(A.T@C1,2))  # np matrix can be multiplied with a tensor\n",
        "print(\"=\"*30)\n",
        "print(np.round(A.T@C2,2))\n",
        "print(\"=\"*30)\n",
        "print(np.round(C2.T@A,2))"
      ],
      "metadata": {
        "colab": {
          "base_uri": "https://localhost:8080/"
        },
        "id": "8XF9y9HPYtV3",
        "outputId": "c28c9c0f-2eb0-44ed-cb31-eecb9ce360e3"
      },
      "execution_count": 18,
      "outputs": [
        {
          "output_type": "stream",
          "name": "stdout",
          "text": [
            "tensor([[-0.3900,  1.9300, -0.1600,  0.0100, -1.7500],\n",
            "        [-0.8300, -1.7300, -0.6900, -0.8600,  1.5900],\n",
            "        [-0.7700,  0.1200, -0.3100,  0.9100, -1.2600]])\n",
            "==============================\n",
            "tensor([[ 2.1100,  0.9500, -1.2400,  5.2400, -2.2200,  3.1100, -0.8100],\n",
            "        [-1.9400, -0.6800, -0.5700, -0.0200, -1.4000, -1.9300, -0.2200],\n",
            "        [-0.2500,  2.2800, -1.8300,  3.8100, -1.3800, -0.9200,  2.9700],\n",
            "        [ 0.8100,  0.0000,  0.3900, -0.2800,  0.6100,  0.9200, -0.3100]],\n",
            "       dtype=torch.float64)\n",
            "==============================\n",
            "tensor([[ 2.1100,  0.9500, -1.2400,  5.2400, -2.2200,  3.1100, -0.8100],\n",
            "        [-1.9400, -0.6800, -0.5700, -0.0200, -1.4000, -1.9300, -0.2200],\n",
            "        [-0.2500,  2.2800, -1.8300,  3.8100, -1.3800, -0.9200,  2.9700],\n",
            "        [ 0.8100,  0.0000,  0.3900, -0.2800,  0.6100,  0.9200, -0.3100]])\n",
            "==============================\n",
            "tensor([[ 2.1100, -1.9400, -0.2500,  0.8100],\n",
            "        [ 0.9500, -0.6800,  2.2800,  0.0000],\n",
            "        [-1.2400, -0.5700, -1.8300,  0.3900],\n",
            "        [ 5.2400, -0.0200,  3.8100, -0.2800],\n",
            "        [-2.2200, -1.4000, -1.3800,  0.6100],\n",
            "        [ 3.1100, -1.9300, -0.9200,  0.9200],\n",
            "        [-0.8100, -0.2200,  2.9700, -0.3100]])\n"
          ]
        }
      ]
    },
    {
      "cell_type": "markdown",
      "source": [
        "## Softmax Function"
      ],
      "metadata": {
        "id": "I2GMTqIX3kXz"
      }
    },
    {
      "cell_type": "markdown",
      "source": [
        "Softmax function is defined as $\\sigma = e^{z_i} / \\sum e^z $"
      ],
      "metadata": {
        "id": "cFTdfc8uO-xl"
      }
    },
    {
      "cell_type": "markdown",
      "source": [
        "### Softmax in Numpy"
      ],
      "metadata": {
        "id": "JtshfZCz3nqY"
      }
    },
    {
      "cell_type": "code",
      "source": [
        "# define a list of numbers\n",
        "z = [1,2,3]\n",
        "\n",
        "# compute the softmax resulrs\n",
        "num = np.exp(z)\n",
        "den = np.sum(np.exp(z))\n",
        "sigma = num/den\n",
        "print(sigma)"
      ],
      "metadata": {
        "colab": {
          "base_uri": "https://localhost:8080/"
        },
        "id": "BkFLym1D3spk",
        "outputId": "367ae3a2-4dc3-42b8-8fc0-33fa79ae4c1a"
      },
      "execution_count": 19,
      "outputs": [
        {
          "output_type": "stream",
          "name": "stdout",
          "text": [
            "[0.09003057 0.24472847 0.66524096]\n"
          ]
        }
      ]
    },
    {
      "cell_type": "code",
      "source": [
        "# Use a buch of random integers\n",
        "z = np.random.randint(-5,15,size=25)\n",
        "print(z)"
      ],
      "metadata": {
        "colab": {
          "base_uri": "https://localhost:8080/"
        },
        "id": "19p_IoAJ4H26",
        "outputId": "7f85d43e-0eea-4ebf-b662-1c3f6a563b1f"
      },
      "execution_count": 21,
      "outputs": [
        {
          "output_type": "stream",
          "name": "stdout",
          "text": [
            "[-2 -1  4  2  2 11  1  5  5 13 -5  6  8 12 12  5  2 10  8 10  4  8  3  1\n",
            " -5]\n"
          ]
        }
      ]
    },
    {
      "cell_type": "code",
      "source": [
        "def my_softmax(z):\n",
        "  return np.exp(z)/np.sum(np.exp(z))\n",
        "\n",
        "sigma = my_softmax(z)\n",
        "sigma"
      ],
      "metadata": {
        "colab": {
          "base_uri": "https://localhost:8080/"
        },
        "id": "mNLrpeae4UaF",
        "outputId": "ca3647a3-295c-430c-8dbd-5ed4ea3ffe06"
      },
      "execution_count": 22,
      "outputs": [
        {
          "output_type": "execute_result",
          "data": {
            "text/plain": [
              "array([1.53476341e-07, 4.17191950e-07, 6.19167752e-05, 8.37952431e-06,\n",
              "       8.37952431e-06, 6.78999888e-02, 3.08265472e-06, 1.68307245e-04,\n",
              "       1.68307245e-04, 5.01716826e-01, 7.64113710e-09, 4.57506526e-04,\n",
              "       3.38054138e-03, 1.84571306e-01, 1.84571306e-01, 1.68307245e-04,\n",
              "       8.37952431e-06, 2.49790099e-02, 3.38054138e-03, 2.49790099e-02,\n",
              "       6.19167752e-05, 3.38054138e-03, 2.27779087e-05, 3.08265472e-06,\n",
              "       7.64113710e-09])"
            ]
          },
          "metadata": {},
          "execution_count": 22
        }
      ]
    },
    {
      "cell_type": "code",
      "source": [
        "# Compare\n",
        "plt.plot(z,sigma,\"bo\")\n",
        "plt.xlabel(\"Original Number (z)\")\n",
        "plt.ylabel(\"Softmax Ouput ($\\sigma$)\")\n",
        "plt.title(\"$\\sum\\sigma$ = %g\"%np.sum(sigma))\n",
        "plt.show()"
      ],
      "metadata": {
        "colab": {
          "base_uri": "https://localhost:8080/",
          "height": 299
        },
        "id": "nRqrAmLL4pyQ",
        "outputId": "91eea640-2705-441e-800f-9ff785c254c1"
      },
      "execution_count": 23,
      "outputs": [
        {
          "output_type": "display_data",
          "data": {
            "text/plain": [
              "<Figure size 432x288 with 1 Axes>"
            ],
            "image/png": "[encoded data removed]"
          },
          "metadata": {
            "needs_background": "light"
          }
        }
      ]
    },
    {
      "cell_type": "code",
      "source": [
        "# Make the y-scale logarithmic\n",
        "plt.plot(z,sigma,\"bo\")\n",
        "plt.yscale(\"log\")\n",
        "plt.xlabel(\"Original Number (z)\")\n",
        "plt.ylabel(\"Softmax Ouput ($\\sigma$)\")\n",
        "plt.title(\"$\\sum\\sigma$ = %g\"%np.sum(sigma))\n",
        "plt.show()"
      ],
      "metadata": {
        "colab": {
          "base_uri": "https://localhost:8080/",
          "height": 299
        },
        "id": "gi9zf52N6OHU",
        "outputId": "4eb1986b-eb9e-4141-964c-9b3478822371"
      },
      "execution_count": 24,
      "outputs": [
        {
          "output_type": "display_data",
          "data": {
            "text/plain": [
              "<Figure size 432x288 with 1 Axes>"
            ],
            "image/png": "[encoded data removed]"
          },
          "metadata": {
            "needs_background": "light"
          }
        }
      ]
    },
    {
      "cell_type": "markdown",
      "source": [
        "### Using Pytorch"
      ],
      "metadata": {
        "id": "5FkuoIa963YC"
      }
    },
    {
      "cell_type": "code",
      "source": [
        "# First create an instance of Softmax activation class\n",
        "softfun = nn.Softmax(dim=0)\n",
        "print(softfun)"
      ],
      "metadata": {
        "colab": {
          "base_uri": "https://localhost:8080/"
        },
        "id": "n_9g8EYy65yk",
        "outputId": "ccc95256-ecd5-4cc4-fd45-a70a312655e3"
      },
      "execution_count": 32,
      "outputs": [
        {
          "output_type": "stream",
          "name": "stdout",
          "text": [
            "Softmax(dim=0)\n"
          ]
        }
      ]
    },
    {
      "cell_type": "code",
      "source": [
        "# Apply the data to the function\n",
        "sigmaT = softfun(torch.Tensor(z))\n",
        "\n",
        "print(sigmaT)"
      ],
      "metadata": {
        "id": "zX4MrFfxrljv",
        "outputId": "e198ee0f-21fd-4800-d6ee-1affd823ff0e",
        "colab": {
          "base_uri": "https://localhost:8080/"
        }
      },
      "execution_count": 33,
      "outputs": [
        {
          "output_type": "stream",
          "name": "stdout",
          "text": [
            "tensor([1.5348e-07, 4.1719e-07, 6.1917e-05, 8.3795e-06, 8.3795e-06, 6.7900e-02,\n",
            "        3.0827e-06, 1.6831e-04, 1.6831e-04, 5.0172e-01, 7.6411e-09, 4.5751e-04,\n",
            "        3.3805e-03, 1.8457e-01, 1.8457e-01, 1.6831e-04, 8.3795e-06, 2.4979e-02,\n",
            "        3.3805e-03, 2.4979e-02, 6.1917e-05, 3.3805e-03, 2.2778e-05, 3.0827e-06,\n",
            "        7.6411e-09])\n"
          ]
        }
      ]
    },
    {
      "cell_type": "code",
      "source": [
        "print(type(z))\n",
        "print(sigmaT)"
      ],
      "metadata": {
        "colab": {
          "base_uri": "https://localhost:8080/"
        },
        "id": "jOqhlTr5-H0w",
        "outputId": "b741e476-67f7-46f7-8953-413e966e2a52"
      },
      "execution_count": 34,
      "outputs": [
        {
          "output_type": "stream",
          "name": "stdout",
          "text": [
            "<class 'numpy.ndarray'>\n",
            "tensor([1.5348e-07, 4.1719e-07, 6.1917e-05, 8.3795e-06, 8.3795e-06, 6.7900e-02,\n",
            "        3.0827e-06, 1.6831e-04, 1.6831e-04, 5.0172e-01, 7.6411e-09, 4.5751e-04,\n",
            "        3.3805e-03, 1.8457e-01, 1.8457e-01, 1.6831e-04, 8.3795e-06, 2.4979e-02,\n",
            "        3.3805e-03, 2.4979e-02, 6.1917e-05, 3.3805e-03, 2.2778e-05, 3.0827e-06,\n",
            "        7.6411e-09])\n"
          ]
        }
      ]
    },
    {
      "cell_type": "code",
      "source": [
        "plt.plot(z, sigmaT, \"bo\")\n",
        "#plt.yscale(\"log\")\n",
        "plt.xlabel(\"Original Number (z)\")\n",
        "plt.ylabel(\"Softmax Ouput ($\\sigma$)\")\n",
        "plt.title(\"$\\sum\\sigma$ = %g\"%np.sum(sigma))\n",
        "plt.show()"
      ],
      "metadata": {
        "colab": {
          "base_uri": "https://localhost:8080/",
          "height": 299
        },
        "id": "EbGltcsC-RuC",
        "outputId": "107e2797-2f00-4c7f-a177-41790ac554c8"
      },
      "execution_count": 35,
      "outputs": [
        {
          "output_type": "display_data",
          "data": {
            "text/plain": [
              "<Figure size 432x288 with 1 Axes>"
            ],
            "image/png": "[encoded data removed]"
          },
          "metadata": {
            "needs_background": "light"
          }
        }
      ]
    },
    {
      "cell_type": "code",
      "source": [
        "plt.plot(z, sigmaT, \"bo\")\n",
        "plt.yscale(\"log\")\n",
        "plt.xlabel(\"Original Number (z)\")\n",
        "plt.ylabel(\"Softmax Ouput ($\\sigma$)\")\n",
        "plt.title(\"$\\sum\\sigma$ = %g\"%np.sum(sigma))\n",
        "plt.show()"
      ],
      "metadata": {
        "colab": {
          "base_uri": "https://localhost:8080/",
          "height": 299
        },
        "id": "GyX-NM_I-hLl",
        "outputId": "ef7be96b-4d8c-4690-bc65-d7ea9593ca2d"
      },
      "execution_count": 36,
      "outputs": [
        {
          "output_type": "display_data",
          "data": {
            "text/plain": [
              "<Figure size 432x288 with 1 Axes>"
            ],
            "image/png": "[encoded data removed]"
          },
          "metadata": {
            "needs_background": "light"
          }
        }
      ]
    },
    {
      "cell_type": "code",
      "source": [
        "# Check the output correlation\n",
        "plt.plot(sigma, sigmaT, \"bo\")\n",
        "plt.xlabel(\"Numpy Softmax\")\n",
        "plt.ylabel(\"Pytorch nn.Softmax\")\n",
        "plt.title(f\"The two methods correlate at r={np.corrcoef(sigma,sigmaT)[0,1]}\")\n",
        "plt.show()"
      ],
      "metadata": {
        "colab": {
          "base_uri": "https://localhost:8080/",
          "height": 295
        },
        "id": "DncGJeRX-0SL",
        "outputId": "ef30224f-68ec-4721-94da-01b2ecbc4323"
      },
      "execution_count": 37,
      "outputs": [
        {
          "output_type": "display_data",
          "data": {
            "text/plain": [
              "<Figure size 432x288 with 1 Axes>"
            ],
            "image/png": "[encoded data removed]"
          },
          "metadata": {
            "needs_background": "light"
          }
        }
      ]
    },
    {
      "cell_type": "markdown",
      "source": [
        "## Logarithmic Functions"
      ],
      "metadata": {
        "id": "_Pqigb31FvOr"
      }
    },
    {
      "cell_type": "code",
      "source": [
        "# Define a set of points to evaluate\n",
        "x = np.linspace(0.0001, 1, 200)\n",
        "\n",
        "# Compue log\n",
        "logx = np.log(x)\n",
        "\n",
        "# plot\n",
        "fig = plt.figure(figsize=(10,4))\n",
        "\n",
        "# Increase the fontsize\n",
        "plt.rcParams.update({\"font.size\":15})\n",
        "plt.plot(x,logx,\"bs-\", markerfacecolor=\"r\")\n",
        "plt.xlabel(\"x\")\n",
        "plt.ylabel(\"log(x) \")\n",
        "plt.show()"
      ],
      "metadata": {
        "colab": {
          "base_uri": "https://localhost:8080/",
          "height": 289
        },
        "id": "P2slBOKKFzdv",
        "outputId": "76be43aa-b07c-4f0f-9ffa-061268330f3c"
      },
      "execution_count": null,
      "outputs": [
        {
          "output_type": "display_data",
          "data": {
            "text/plain": [
              "<Figure size 720x288 with 1 Axes>"
            ],
            "image/png": "[encoded data removed]"
          },
          "metadata": {
            "needs_background": "light"
          }
        }
      ]
    },
    {
      "cell_type": "code",
      "source": [
        "# Show that log and exp are inverses of each other\n",
        "# redefine same x with fewer points\n",
        "x = np.linspace(0.0001, 1, 30)\n",
        "\n",
        "logx = np.log(x)\n",
        "expx = np.exp(x)\n",
        "\n",
        "plt.plot(x,x,color=[0.8,0.8,0.8])\n",
        "plt.plot(x,np.exp(logx), \"o\", markersize=8)\n",
        "plt.plot(x,np.log(expx), \"x\", markersize=8)\n",
        "plt.xlabel(\"X\")\n",
        "plt.ylabel(\"f(g(x))\")\n",
        "plt.legend([\"unity\", \"exp(log(x))\", \"log(exp(x))\"])\n",
        "plt.show()"
      ],
      "metadata": {
        "colab": {
          "base_uri": "https://localhost:8080/",
          "height": 289
        },
        "id": "QwpnYFjjGrki",
        "outputId": "33098451-7aaa-453f-9d1b-307c641aee81"
      },
      "execution_count": null,
      "outputs": [
        {
          "output_type": "display_data",
          "data": {
            "text/plain": [
              "<Figure size 432x288 with 1 Axes>"
            ],
            "image/png": "[encoded data removed]"
          },
          "metadata": {
            "needs_background": "light"
          }
        }
      ]
    },
    {
      "cell_type": "markdown",
      "source": [
        "## Entropy & Cross-Entropy"
      ],
      "metadata": {
        "id": "IHBE622u0Hv5"
      }
    },
    {
      "cell_type": "markdown",
      "source": [
        "Entropy formula: $H(p) = -\\sum_{x} p(x)log(p(x))$"
      ],
      "metadata": {
        "id": "UBVoxRGO0PHS"
      }
    },
    {
      "cell_type": "code",
      "source": [
        "# Define the probability of en event happening\n",
        "p = 0.25\n",
        "q = 1-p\n",
        "\n",
        "# Wrong way of defining entrpy (Event of happening)\n",
        "H = -(p*np.log(p))\n",
        "print(\"Wrong Entropy: {:.2f}\".format(H))"
      ],
      "metadata": {
        "colab": {
          "base_uri": "https://localhost:8080/"
        },
        "id": "7r6iGMm50LZE",
        "outputId": "dea5f495-bf8e-4e3f-f0b6-965bb405a0f3"
      },
      "execution_count": null,
      "outputs": [
        {
          "output_type": "stream",
          "name": "stdout",
          "text": [
            "Wrong Entropy: 0.35\n"
          ]
        }
      ]
    },
    {
      "cell_type": "code",
      "source": [
        "# Correct way to compute entropy\n",
        "x = [0.25, 0.75]\n",
        "\n",
        "H = 0\n",
        "for p in x:\n",
        "  H = H - p*np.log(p)\n",
        "\n",
        "print(\"Correct Entropy: {:.2f}\".format(H))"
      ],
      "metadata": {
        "colab": {
          "base_uri": "https://localhost:8080/"
        },
        "id": "9mgLUZBd1sLf",
        "outputId": "987ab321-1604-4829-b022-66e3bf4e726b"
      },
      "execution_count": null,
      "outputs": [
        {
          "output_type": "stream",
          "name": "stdout",
          "text": [
            "Correct Entropy: 0.56\n"
          ]
        }
      ]
    },
    {
      "cell_type": "code",
      "source": [
        "# Hard-coded for two events only\n",
        "# Formula for Binary Cross Entropy\n",
        "H = -(p*np.log(p) + (1-p)*np.log(1-p))\n",
        "print(H)"
      ],
      "metadata": {
        "colab": {
          "base_uri": "https://localhost:8080/"
        },
        "id": "m8IYhtEs2Y_g",
        "outputId": "f6464619-304b-4622-c709-0ac65350f05e"
      },
      "execution_count": null,
      "outputs": [
        {
          "output_type": "stream",
          "name": "stdout",
          "text": [
            "0.5623351446188083\n"
          ]
        }
      ]
    },
    {
      "cell_type": "code",
      "source": [
        "# Cross-Entropy: now we need two probabilities\n",
        "p = [1, 0]\n",
        "q = [0.25, 0.75]\n",
        "H = 0\n",
        "for i in range(len(p)):\n",
        "  H = H - p[i]*np.log(q[i])\n",
        "\n",
        "print(\"Cross-Entropy is: {:.2f}\".format(H))"
      ],
      "metadata": {
        "colab": {
          "base_uri": "https://localhost:8080/"
        },
        "id": "1y_dYVsL3Fus",
        "outputId": "57e4f1a7-5721-4f23-cc82-3f21dfd80d6d"
      },
      "execution_count": null,
      "outputs": [
        {
          "output_type": "stream",
          "name": "stdout",
          "text": [
            "Cross-Entropy is: 1.39\n"
          ]
        }
      ]
    },
    {
      "cell_type": "code",
      "source": [
        "# Hard-coded for 2 events\n",
        "H = -(p[0]*np.log(q[0]) + p[1]*np.log(q[1]))\n",
        "print(H)"
      ],
      "metadata": {
        "colab": {
          "base_uri": "https://localhost:8080/"
        },
        "id": "oxVFQc9f3pYg",
        "outputId": "dd14bfe1-8ca7-4d75-a040-ba864cadd566"
      },
      "execution_count": null,
      "outputs": [
        {
          "output_type": "stream",
          "name": "stdout",
          "text": [
            "1.3862943611198906\n"
          ]
        }
      ]
    },
    {
      "cell_type": "code",
      "source": [
        "# Further simplification when p=[1,0]\n",
        "H = -np.log(q[0])\n",
        "print(H)"
      ],
      "metadata": {
        "colab": {
          "base_uri": "https://localhost:8080/"
        },
        "id": "um_iVhHl4XgN",
        "outputId": "76330dfa-d880-4627-80f8-9bd9352c4213"
      },
      "execution_count": null,
      "outputs": [
        {
          "output_type": "stream",
          "name": "stdout",
          "text": [
            "1.3862943611198906\n"
          ]
        }
      ]
    },
    {
      "cell_type": "markdown",
      "source": [
        "### Cross-Entropy in PyTorch"
      ],
      "metadata": {
        "id": "hha2aj324njW"
      }
    },
    {
      "cell_type": "code",
      "source": [
        "# torch.nn.functional as F\n",
        "# Inputs must be tensors\n",
        "q_tensor = torch.Tensor(q)\n",
        "p_tensor = torch.Tensor(p)\n",
        "\n",
        "# Only two options: present vs absent\n",
        "# doesnt work with numpy arrays\n",
        "# order q(model prediction) and p(original probability) order is important in pytorch\n",
        "F.binary_cross_entropy(q_tensor,p_tensor)"
      ],
      "metadata": {
        "colab": {
          "base_uri": "https://localhost:8080/"
        },
        "id": "XXMqYjsE4mBW",
        "outputId": "bb5aabf4-39ab-47a3-bf9b-5592d0747ddd"
      },
      "execution_count": null,
      "outputs": [
        {
          "output_type": "execute_result",
          "data": {
            "text/plain": [
              "tensor(1.3863)"
            ]
          },
          "metadata": {},
          "execution_count": 36
        }
      ]
    },
    {
      "cell_type": "markdown",
      "source": [
        "## argmin and argmax functions"
      ],
      "metadata": {
        "id": "d6pIX5b_rRGq"
      }
    },
    {
      "cell_type": "markdown",
      "source": [
        "### Using Numpy"
      ],
      "metadata": {
        "id": "VEQZgGNOrVhr"
      }
    },
    {
      "cell_type": "code",
      "source": [
        "# Create a vector\n",
        "v = np.array([1,40,2,-3])\n",
        "\n",
        "# Find and report the minimum and maximum values\n",
        "minval = np.min(v)\n",
        "maxval = np.max(v)\n",
        "\n",
        "print(\"min, max: %g,%g\"%(minval, maxval))"
      ],
      "metadata": {
        "colab": {
          "base_uri": "https://localhost:8080/"
        },
        "id": "rnjcLGtKrYwA",
        "outputId": "c7e1796a-215e-4cea-e5ea-0edca0ee5c33"
      },
      "execution_count": null,
      "outputs": [
        {
          "output_type": "stream",
          "name": "stdout",
          "text": [
            "min, max: -3,40\n"
          ]
        }
      ]
    },
    {
      "cell_type": "code",
      "source": [
        "# use argmin and argmax\n",
        "minidx = np.argmin(v)\n",
        "maxidx = np.argmax(v)\n",
        "\n",
        "print(\"min, max indices: %g,%g\"%(minidx, maxidx))"
      ],
      "metadata": {
        "colab": {
          "base_uri": "https://localhost:8080/"
        },
        "id": "had93WNDr-kK",
        "outputId": "6d15ff2a-7da5-4b36-bfee-680c9f22f05a"
      },
      "execution_count": null,
      "outputs": [
        {
          "output_type": "stream",
          "name": "stdout",
          "text": [
            "min, max indices: 3,1\n"
          ]
        }
      ]
    },
    {
      "cell_type": "code",
      "source": [
        "# Confirm\n",
        "print(\"Min value is {}, and max value is {}\".format(v[minidx], v[maxidx]))"
      ],
      "metadata": {
        "colab": {
          "base_uri": "https://localhost:8080/"
        },
        "id": "wiIARA7YsSL9",
        "outputId": "d43ecbf1-641b-4561-c8e2-41bde95a507c"
      },
      "execution_count": null,
      "outputs": [
        {
          "output_type": "stream",
          "name": "stdout",
          "text": [
            "Min value is -3, and max value is 40\n"
          ]
        }
      ]
    },
    {
      "cell_type": "code",
      "source": [
        "# repeat the same thing for matrices\n",
        "M = np.array([[0,1,10],\n",
        "              [20,8,5]])\n",
        "\n",
        "print(M)"
      ],
      "metadata": {
        "colab": {
          "base_uri": "https://localhost:8080/"
        },
        "id": "FIWGSdy6ssQW",
        "outputId": "8cab2341-0aa6-4093-fcab-50dbdb40650b"
      },
      "execution_count": null,
      "outputs": [
        {
          "output_type": "stream",
          "name": "stdout",
          "text": [
            "[[ 0  1 10]\n",
            " [20  8  5]]\n"
          ]
        }
      ]
    },
    {
      "cell_type": "code",
      "source": [
        "# Different types of minima in matrix. Same for max\n",
        "# overall\n",
        "minval1 = np.min(M)\n",
        "# minimum of each column\n",
        "minval2 = np.min(M,axis=0)\n",
        "# minimum for each row\n",
        "minval3 = np.min(M,axis=1)\n",
        "\n",
        "print(minval1)\n",
        "print()\n",
        "print(minval2)\n",
        "print()\n",
        "print(minval3)"
      ],
      "metadata": {
        "colab": {
          "base_uri": "https://localhost:8080/"
        },
        "id": "ruC5Bpz9s4Fl",
        "outputId": "c788960b-80ca-4278-d74c-d3ae3dcc34e5"
      },
      "execution_count": null,
      "outputs": [
        {
          "output_type": "stream",
          "name": "stdout",
          "text": [
            "0\n",
            "\n",
            "[0 1 5]\n",
            "\n",
            "[0 5]\n"
          ]
        }
      ]
    },
    {
      "cell_type": "code",
      "source": [
        "# Do the same for argmin\n",
        "minidx1 = np.argmin(M)\n",
        "minidx2 = np.argmin(M,axis=0)\n",
        "minidx3 = np.argmin(M,axis=1)\n",
        "\n",
        "print(minidx1)\n",
        "print()\n",
        "print(minidx2)\n",
        "print()\n",
        "print(minidx3)"
      ],
      "metadata": {
        "colab": {
          "base_uri": "https://localhost:8080/"
        },
        "id": "wMD1nkP2t4_W",
        "outputId": "60453b5e-48c6-4751-b86d-0dec4bcdf9c9"
      },
      "execution_count": null,
      "outputs": [
        {
          "output_type": "stream",
          "name": "stdout",
          "text": [
            "0\n",
            "\n",
            "[0 0 1]\n",
            "\n",
            "[0 2]\n"
          ]
        }
      ]
    },
    {
      "cell_type": "markdown",
      "source": [
        "### Using PyToch"
      ],
      "metadata": {
        "id": "-qpfw-PruQ8F"
      }
    },
    {
      "cell_type": "code",
      "source": [
        "# First with vectors\n",
        "v = torch.tensor([1,40,2,-3])\n",
        "\n",
        "# find max and min values\n",
        "minval = torch.min(v)\n",
        "maxval = torch.max(v)\n",
        "\n",
        "print(\"min,max vals: %g,%g\"%(minval,maxval))"
      ],
      "metadata": {
        "colab": {
          "base_uri": "https://localhost:8080/"
        },
        "id": "4ftkqMt1uTJf",
        "outputId": "c78f93f0-e543-4100-d17a-35e7094a6381"
      },
      "execution_count": null,
      "outputs": [
        {
          "output_type": "stream",
          "name": "stdout",
          "text": [
            "min,max vals: -3,40\n"
          ]
        }
      ]
    },
    {
      "cell_type": "code",
      "source": [
        "minidx = torch.argmin(v)\n",
        "maxidx = torch.argmax(v)\n",
        "\n",
        "print(\"min,max args: %g,%g\"%(minidx,maxidx))"
      ],
      "metadata": {
        "colab": {
          "base_uri": "https://localhost:8080/"
        },
        "id": "y3HnL05SvCnS",
        "outputId": "8e7c7b36-37e6-4f03-d63e-d1ec25ad01b6"
      },
      "execution_count": null,
      "outputs": [
        {
          "output_type": "stream",
          "name": "stdout",
          "text": [
            "min,max args: 3,1\n"
          ]
        }
      ]
    },
    {
      "cell_type": "code",
      "source": [
        "# Confirm the whole thing\n",
        "print(\"Min value is {}, and max value is {}\".format(v[minidx], v[maxidx]))"
      ],
      "metadata": {
        "colab": {
          "base_uri": "https://localhost:8080/"
        },
        "id": "1b3zecnfvQo8",
        "outputId": "af8c1c6f-d4b5-4bcd-a8e8-aee127e6099b"
      },
      "execution_count": null,
      "outputs": [
        {
          "output_type": "stream",
          "name": "stdout",
          "text": [
            "Min value is -3, and max value is 40\n"
          ]
        }
      ]
    },
    {
      "cell_type": "code",
      "source": [
        "# Do the same with matrix\n",
        "M = torch.tensor([[0,1,10],\n",
        "                  [20,8,5]])\n",
        "print(M)"
      ],
      "metadata": {
        "colab": {
          "base_uri": "https://localhost:8080/"
        },
        "id": "tp67FS0DvbiO",
        "outputId": "5aa5d3a7-1c3a-4a95-b239-5e5cc6c07222"
      },
      "execution_count": null,
      "outputs": [
        {
          "output_type": "stream",
          "name": "stdout",
          "text": [
            "tensor([[ 0,  1, 10],\n",
            "        [20,  8,  5]])\n"
          ]
        }
      ]
    },
    {
      "cell_type": "code",
      "source": [
        "# Differet minimas of the matrix\n",
        "# overall\n",
        "minval1 = torch.min(M)\n",
        "# minimum of each column\n",
        "minval2 = torch.min(M,axis=0)\n",
        "# minimum for each row\n",
        "minval3 = torch.min(M,axis=1)\n",
        "\n",
        "print(minval1)\n",
        "print()\n",
        "print(minval2) # torch object\n",
        "print()\n",
        "print(minval2.values) # numerical results\n",
        "print()\n",
        "print(minval2.indices)\n",
        "print()\n",
        "print(minval3)"
      ],
      "metadata": {
        "colab": {
          "base_uri": "https://localhost:8080/"
        },
        "id": "e3Y4Hot7vmZi",
        "outputId": "b3ea38d7-6195-4e18-8961-36b3a514b643"
      },
      "execution_count": null,
      "outputs": [
        {
          "output_type": "stream",
          "name": "stdout",
          "text": [
            "tensor(0)\n",
            "\n",
            "torch.return_types.min(\n",
            "values=tensor([0, 1, 5]),\n",
            "indices=tensor([0, 0, 1]))\n",
            "\n",
            "tensor([0, 1, 5])\n",
            "\n",
            "tensor([0, 0, 1])\n",
            "\n",
            "torch.return_types.min(\n",
            "values=tensor([0, 5]),\n",
            "indices=tensor([0, 2]))\n"
          ]
        }
      ]
    },
    {
      "cell_type": "code",
      "source": [
        "# Do the same for argmin\n",
        "minidx1 = torch.argmin(M)\n",
        "minidx2 = torch.argmin(M,axis=0)\n",
        "minidx3 = torch.argmin(M,axis=1)\n",
        "\n",
        "print(minidx1)\n",
        "print()\n",
        "print(minidx2)\n",
        "print()\n",
        "print(minidx3)"
      ],
      "metadata": {
        "colab": {
          "base_uri": "https://localhost:8080/"
        },
        "id": "xahk-aEOv3NY",
        "outputId": "244e3d7a-84b2-4d28-a483-4f701dcbda23"
      },
      "execution_count": null,
      "outputs": [
        {
          "output_type": "stream",
          "name": "stdout",
          "text": [
            "tensor(0)\n",
            "\n",
            "tensor([0, 0, 1])\n",
            "\n",
            "tensor([0, 2])\n"
          ]
        }
      ]
    },
    {
      "cell_type": "markdown",
      "source": [
        "## Mean and Variance"
      ],
      "metadata": {
        "id": "G4JjR6N9VKIW"
      }
    },
    {
      "cell_type": "code",
      "source": [
        "# Generate a list of numbers\n",
        "x = [1,2,4,6,5,4,0]\n",
        "n = len(x)\n",
        "\n",
        "# Compute the mean in two different ways\n",
        "mean1 = np.mean(x)\n",
        "mean2 = np.sum(x)/len(x)\n",
        "\n",
        "print(mean1)\n",
        "print()\n",
        "print(mean2)"
      ],
      "metadata": {
        "colab": {
          "base_uri": "https://localhost:8080/"
        },
        "id": "zvK-wQ7cVN3V",
        "outputId": "7f5c58ec-ba66-427f-cbb2-b59d789142eb"
      },
      "execution_count": null,
      "outputs": [
        {
          "output_type": "stream",
          "name": "stdout",
          "text": [
            "3.142857142857143\n",
            "\n",
            "3.142857142857143\n"
          ]
        }
      ]
    },
    {
      "cell_type": "code",
      "source": [
        "# Variance\n",
        "var1 = np.var(x) # biased variance (ddof=0 is the default)\n",
        "var1ub = np.var(x, ddof=1)\n",
        "var2 = (1/(n-1))*np.sum((x - mean1)**2) # unbiased variance\n",
        "\n",
        "print(var1)\n",
        "print()\n",
        "print(var1ub)\n",
        "print()\n",
        "print(var2)"
      ],
      "metadata": {
        "colab": {
          "base_uri": "https://localhost:8080/"
        },
        "id": "HxGmS0MxVr-8",
        "outputId": "1a09727d-a5f3-45be-c2de-4d6cb737f3a9"
      },
      "execution_count": null,
      "outputs": [
        {
          "output_type": "stream",
          "name": "stdout",
          "text": [
            "4.122448979591836\n",
            "\n",
            "4.809523809523809\n",
            "\n",
            "4.809523809523809\n"
          ]
        }
      ]
    },
    {
      "cell_type": "code",
      "source": [
        "# For large samples, biased vs unbiased makes no difference\n",
        "N = 1000\n",
        "x = np.random.randint(0, high=20,size=N)\n",
        "\n",
        "varb = np.var(x, ddof=0)\n",
        "varu = np.var(x, ddof=1)\n",
        "\n",
        "print(\"Biased variance: {:.4f}\".format(varb))\n",
        "print(\"Unbiased variance: {:.4f}\".format(varu))"
      ],
      "metadata": {
        "colab": {
          "base_uri": "https://localhost:8080/"
        },
        "id": "t9UegSNiWxXi",
        "outputId": "a33f50c7-db4b-47a7-ba2d-3bccf08ba2a7"
      },
      "execution_count": null,
      "outputs": [
        {
          "output_type": "stream",
          "name": "stdout",
          "text": [
            "Biased variance: 33.4406\n",
            "Unbiased variance: 33.4741\n"
          ]
        }
      ]
    },
    {
      "cell_type": "markdown",
      "source": [
        "## Sampling"
      ],
      "metadata": {
        "id": "z3lYbBUvuaZL"
      }
    },
    {
      "cell_type": "code",
      "source": [
        "# create a list of number and compute its mean and vaiance\n",
        "x = [1,2,4,6,5,4,0,-4,5,-2,6,10,-9,1,3,-6]\n",
        "n = len(x)\n",
        "\n",
        "# compute population mean\n",
        "popmean = np.mean(x)\n",
        "\n",
        "# pick a sample and compute its mean\n",
        "sample = np.random.choice(x,size = 5, replace=True)\n",
        "sampmean = np.mean(sample)\n",
        "\n",
        "print(popmean)\n",
        "print()\n",
        "print(sampmean)"
      ],
      "metadata": {
        "colab": {
          "base_uri": "https://localhost:8080/"
        },
        "id": "94GFoogIucGx",
        "outputId": "e8b318e8-5234-477c-e51b-adbe59af54a7"
      },
      "execution_count": null,
      "outputs": [
        {
          "output_type": "stream",
          "name": "stdout",
          "text": [
            "1.625\n",
            "\n",
            "-5.4\n"
          ]
        }
      ]
    },
    {
      "cell_type": "code",
      "source": [
        "# Compute many sample means\n",
        "N = 10000\n",
        "sampleMean = np.zeros(N)\n",
        "for i in range(N):\n",
        "  # get a random sample\n",
        "  sample = np.random.choice(x, size = 5, replace=True)\n",
        "\n",
        "  # Compute the sample mean\n",
        "  sampleMean[i] = np.mean(sample)\n",
        "\n",
        "plt.hist(sampleMean, bins=40, density=True)\n",
        "plt.plot([popmean,popmean],[0,0.3], \"m--\")\n",
        "plt.ylabel(\"Count\")\n",
        "plt.xlabel(\"Sample Mean\")\n",
        "plt.show()"
      ],
      "metadata": {
        "colab": {
          "base_uri": "https://localhost:8080/",
          "height": 289
        },
        "id": "2vwxKhIXvnqg",
        "outputId": "92ab0b50-2bd8-440b-dede-a9b1e4e8dcf3"
      },
      "execution_count": null,
      "outputs": [
        {
          "output_type": "display_data",
          "data": {
            "text/plain": [
              "<Figure size 432x288 with 1 Axes>"
            ],
            "image/png": "[encoded data removed]"
          },
          "metadata": {
            "needs_background": "light"
          }
        }
      ]
    },
    {
      "cell_type": "markdown",
      "source": [
        "## Random Seeds"
      ],
      "metadata": {
        "id": "2Ydey-_nyXU6"
      }
    },
    {
      "cell_type": "markdown",
      "source": [
        "### Random Seeding in Pyhon"
      ],
      "metadata": {
        "id": "nUDWgMLByXoB"
      }
    },
    {
      "cell_type": "code",
      "source": [
        "# Generate some random numbers\n",
        "np.random.randn(5)"
      ],
      "metadata": {
        "colab": {
          "base_uri": "https://localhost:8080/"
        },
        "id": "dWzHA37hydU8",
        "outputId": "74ca96b6-9f18-42db-a356-f49f71b272f5"
      },
      "execution_count": null,
      "outputs": [
        {
          "output_type": "execute_result",
          "data": {
            "text/plain": [
              "array([ 0.09558945,  0.40355418,  1.12686428,  0.86592223, -1.02108087])"
            ]
          },
          "metadata": {},
          "execution_count": 54
        }
      ]
    },
    {
      "cell_type": "code",
      "source": [
        "# fix a seed\n",
        "np.random.seed(17)\n",
        "print(np.random.randn(5))\n",
        "print(np.random.randn(5))"
      ],
      "metadata": {
        "colab": {
          "base_uri": "https://localhost:8080/"
        },
        "id": "bNRPKg7Syuy8",
        "outputId": "5b5d5f6c-b868-4c91-c0b5-805813588eed"
      },
      "execution_count": null,
      "outputs": [
        {
          "output_type": "stream",
          "name": "stdout",
          "text": [
            "[ 0.27626589 -1.85462808  0.62390111  1.14531129  1.03719047]\n",
            "[ 1.88663893 -0.11169829 -0.36210134  0.14867505 -0.43778315]\n"
          ]
        }
      ]
    },
    {
      "cell_type": "code",
      "source": [
        "# The new seed mechanism in Numpy\n",
        "randseed1 = np.random.RandomState(17)\n",
        "randseed2 = np.random.RandomState(1234)\n",
        "# local scope for the seed, not global like the upper approach\n",
        "print(randseed1.randn(5))\n",
        "print()\n",
        "print(randseed2.randn(5))\n",
        "print()\n",
        "print(randseed1.randn(5))\n",
        "print()\n",
        "print(randseed2.randn(5))\n",
        "print()\n",
        "print(np.random.randn(5)) # not seeded"
      ],
      "metadata": {
        "colab": {
          "base_uri": "https://localhost:8080/"
        },
        "id": "M32Wa-vby7Pi",
        "outputId": "96bf5931-d7f0-43c5-b914-9ca1b6ef2cb5"
      },
      "execution_count": null,
      "outputs": [
        {
          "output_type": "stream",
          "name": "stdout",
          "text": [
            "[ 0.27626589 -1.85462808  0.62390111  1.14531129  1.03719047]\n",
            "\n",
            "[ 0.47143516 -1.19097569  1.43270697 -0.3126519  -0.72058873]\n",
            "\n",
            "[ 1.88663893 -0.11169829 -0.36210134  0.14867505 -0.43778315]\n",
            "\n",
            "[ 0.88716294  0.85958841 -0.6365235   0.01569637 -2.24268495]\n",
            "\n",
            "[ 2.171257    1.15231025 -1.81881234 -0.13804934  0.53983961]\n"
          ]
        }
      ]
    },
    {
      "cell_type": "markdown",
      "source": [
        "### In pytorch"
      ],
      "metadata": {
        "id": "YaRqLTtk0eZs"
      }
    },
    {
      "cell_type": "code",
      "source": [
        "torch.randn(5)"
      ],
      "metadata": {
        "colab": {
          "base_uri": "https://localhost:8080/"
        },
        "id": "zW8SYOjP0c9W",
        "outputId": "d0c3bf53-cb70-41df-b833-b6a01650d6ac"
      },
      "execution_count": null,
      "outputs": [
        {
          "output_type": "execute_result",
          "data": {
            "text/plain": [
              "tensor([-0.7370,  1.6448, -0.4899, -0.2346, -0.4846])"
            ]
          },
          "metadata": {},
          "execution_count": 57
        }
      ]
    },
    {
      "cell_type": "code",
      "source": [
        "# Similar to numpy's old system\n",
        "torch.manual_seed(17)\n",
        "print(torch.randn(5))\n",
        "\n",
        "# Torch's seed does not spread to numpy: different every time\n",
        "print(np.random.randn(5))"
      ],
      "metadata": {
        "colab": {
          "base_uri": "https://localhost:8080/"
        },
        "id": "3rJH7iPh0kXh",
        "outputId": "92a05a90-236b-49e7-82c1-078621320ffb"
      },
      "execution_count": null,
      "outputs": [
        {
          "output_type": "stream",
          "name": "stdout",
          "text": [
            "tensor([-1.4135,  0.2336,  0.0340,  0.3499, -0.0145])\n",
            "[-1.77528229  1.31487654 -0.47344805 -1.0922299  -0.25002744]\n"
          ]
        }
      ]
    },
    {
      "cell_type": "markdown",
      "source": [
        "## t-test"
      ],
      "metadata": {
        "id": "kA-zNKIN3eci"
      }
    },
    {
      "cell_type": "code",
      "source": [
        "# we need scipy.stats for statistical tests\n",
        "import scipy.stats as stats"
      ],
      "metadata": {
        "id": "dPmPP-7L3hH4"
      },
      "execution_count": null,
      "outputs": []
    },
    {
      "cell_type": "code",
      "source": [
        "# define the parameters\n",
        "n1 = 30   # samples in dataset 1\n",
        "n2 = 40   # samples in dataset 2\n",
        "mu1 = 1   # population mean of dataset 1\n",
        "mu2 = 2   # population mean of dataset 2\n",
        "\n",
        "# generate the data according to these parameters\n",
        "data1 = mu1 + np.random.randn(n1)\n",
        "data2 = mu2 + np.random.randn(n2)\n",
        "\n",
        "# plot everything\n",
        "plt.plot(np.zeros(n1), data1, \"ro\", markerfacecolor=\"w\", markersize=14)\n",
        "plt.plot(np.ones(n2), data2, \"bs\", markerfacecolor=\"w\", markersize=14)\n",
        "plt.xlim([-1,2])\n",
        "plt.xticks([0,1], labels=[\"Group1\", \"Group2\"])\n",
        "plt.show()"
      ],
      "metadata": {
        "colab": {
          "base_uri": "https://localhost:8080/",
          "height": 275
        },
        "id": "gEBioWpy3r7N",
        "outputId": "c1e286ae-b978-4988-cf56-ad4d1df8bf1a"
      },
      "execution_count": null,
      "outputs": [
        {
          "output_type": "display_data",
          "data": {
            "text/plain": [
              "<Figure size 432x288 with 1 Axes>"
            ],
            "image/png": "[encoded data removed]"
          },
          "metadata": {
            "needs_background": "light"
          }
        }
      ]
    },
    {
      "cell_type": "code",
      "source": [
        "# test whether their means change significantly\n",
        "# _ind = independent samples\n",
        "t,p = stats.ttest_ind(data1,data2)\n",
        "print(t)\n",
        "print()\n",
        "print(p)"
      ],
      "metadata": {
        "colab": {
          "base_uri": "https://localhost:8080/"
        },
        "id": "UPwqix7j5HzW",
        "outputId": "3f39d6a1-d3e5-467f-f000-4d200c55f604"
      },
      "execution_count": null,
      "outputs": [
        {
          "output_type": "stream",
          "name": "stdout",
          "text": [
            "-3.9795870896140824\n",
            "\n",
            "0.0001701882699200114\n"
          ]
        }
      ]
    },
    {
      "cell_type": "code",
      "source": [
        "# Common way to show t=test results in a plot\n",
        "fig = plt.figure(figsize=(10,4))\n",
        "plt.rcParams.update({\"font.size\":12}) # change the fontsize of labels on picture\n",
        "\n",
        "plt.plot(0+np.random.randn(n1)/15, data1, \"ro\", markerfacecolor=\"w\", markersize=14)\n",
        "plt.plot(1+np.random.randn(n1)/15, data1, \"bs\", markerfacecolor=\"w\", markersize=14)\n",
        "plt.xlim([-1,2])\n",
        "plt.xticks([0,1], labels=[\"Group 1\", \"Group 2\"])\n",
        "\n",
        "# Set the title to include the t- and p-values\n",
        "plt.title(f\"t = {t:.2f}, p = {p:.3f}\")\n",
        "plt.show()"
      ],
      "metadata": {
        "colab": {
          "base_uri": "https://localhost:8080/",
          "height": 285
        },
        "id": "HgaVSX145cZt",
        "outputId": "a3eea936-67c7-484e-88f8-71432aa44b1a"
      },
      "execution_count": null,
      "outputs": [
        {
          "output_type": "display_data",
          "data": {
            "text/plain": [
              "<Figure size 720x288 with 1 Axes>"
            ],
            "image/png": "[encoded data removed]"
          },
          "metadata": {
            "needs_background": "light"
          }
        }
      ]
    },
    {
      "cell_type": "markdown",
      "source": [
        "## Derivatives"
      ],
      "metadata": {
        "id": "CIT6w8qHBGt1"
      }
    },
    {
      "cell_type": "code",
      "source": [
        "# sympy = symbolic math in python\n",
        "import sympy as sym\n",
        "import sympy.plotting.plot as symplot"
      ],
      "metadata": {
        "id": "tSUctaB9BJFf"
      },
      "execution_count": null,
      "outputs": []
    },
    {
      "cell_type": "code",
      "source": [
        "# create symbolic vaiables in sympy\n",
        "x = sym.symbols(\"x\")\n",
        "\n",
        "# create a unction\n",
        "fx = 2*x**2\n",
        "\n",
        "# compute its derivative\n",
        "df = sym.diff(fx,x)\n",
        "\n",
        "print(fx)\n",
        "print()\n",
        "print(df)"
      ],
      "metadata": {
        "colab": {
          "base_uri": "https://localhost:8080/"
        },
        "id": "OGA-CxycBYvJ",
        "outputId": "73d72bdb-83c9-4f86-9a6a-cce47a719804"
      },
      "execution_count": null,
      "outputs": [
        {
          "output_type": "stream",
          "name": "stdout",
          "text": [
            "2*x**2\n",
            "\n",
            "4*x\n"
          ]
        }
      ]
    },
    {
      "cell_type": "code",
      "source": [
        "# Plot the function and its derivative\n",
        "symplot(fx, (x,-4,4), title=\"The Function\")\n",
        "plt.show()"
      ],
      "metadata": {
        "colab": {
          "base_uri": "https://localhost:8080/",
          "height": 293
        },
        "id": "kFheZlJEBylw",
        "outputId": "9ea615a7-6629-4baf-adff-2e67bb730777"
      },
      "execution_count": null,
      "outputs": [
        {
          "output_type": "display_data",
          "data": {
            "text/plain": [
              "<Figure size 432x288 with 1 Axes>"
            ],
            "image/png": "[encoded data removed]"
          },
          "metadata": {
            "needs_background": "light"
          }
        }
      ]
    },
    {
      "cell_type": "code",
      "source": [
        "symplot(df,(x,-4,4), title=\"Derivative\")\n",
        "plt.show()"
      ],
      "metadata": {
        "colab": {
          "base_uri": "https://localhost:8080/",
          "height": 293
        },
        "id": "T43Jl6JcB-I4",
        "outputId": "b63a43bf-76d6-4216-ec8c-899a0df32afb"
      },
      "execution_count": null,
      "outputs": [
        {
          "output_type": "display_data",
          "data": {
            "text/plain": [
              "<Figure size 432x288 with 1 Axes>"
            ],
            "image/png": "[encoded data removed]"
          },
          "metadata": {
            "needs_background": "light"
          }
        }
      ]
    },
    {
      "cell_type": "code",
      "source": [
        "# Repeat it for ReLU and Sigmoid\n",
        "# create symbolic functions\n",
        "relu = sym.Max(0,x)\n",
        "sigmoid = 1/(1+sym.exp(-x))\n",
        "\n",
        "print(relu)\n",
        "print()\n",
        "print(sigmoid)"
      ],
      "metadata": {
        "colab": {
          "base_uri": "https://localhost:8080/"
        },
        "id": "EtRQBk6HCJBi",
        "outputId": "5c068b1c-8819-467b-fa76-a0c58f8f3943"
      },
      "execution_count": null,
      "outputs": [
        {
          "output_type": "stream",
          "name": "stdout",
          "text": [
            "Max(0, x)\n",
            "\n",
            "1/(1 + exp(-x))\n"
          ]
        }
      ]
    },
    {
      "cell_type": "code",
      "source": [
        "# Show them on graphs\n",
        "p = symplot(relu,(x,-4,4), label=\"ReLU\",show=False, lin_color=\"blue\")\n",
        "p.extend(symplot(sigmoid,(x,-4,4),label=\"Sigmoid\",show=False,line_color=\"red\"))\n",
        "p.legend = True\n",
        "p.title = \"The Functions\"\n",
        "p.show()"
      ],
      "metadata": {
        "colab": {
          "base_uri": "https://localhost:8080/",
          "height": 293
        },
        "id": "tjggI1HdC-Ue",
        "outputId": "bf6dbbb4-1e4a-45bb-fee6-e86c33f84787"
      },
      "execution_count": null,
      "outputs": [
        {
          "output_type": "display_data",
          "data": {
            "text/plain": [
              "<Figure size 432x288 with 1 Axes>"
            ],
            "image/png": "[encoded data removed]"
          },
          "metadata": {
            "needs_background": "light"
          }
        }
      ]
    },
    {
      "cell_type": "code",
      "source": [
        "# Graph their derivatives\n",
        "p = symplot(sym.diff(relu), (x,-4,4),label=\"df(ReLU)\",show=False,line_color=\"blue\")\n",
        "p.extend(symplot(sym.diff(sigmoid),(x,-4,4),label=\"df(Sigmoid)\", show=False, line_color=\"red\"))\n",
        "p.legend=True\n",
        "p.title = \"Derivatives\"\n",
        "p.show()"
      ],
      "metadata": {
        "colab": {
          "base_uri": "https://localhost:8080/",
          "height": 293
        },
        "id": "XqsB1rB_EqKY",
        "outputId": "b4376a5d-ed6b-40a2-d02d-7fab0a04d2d9"
      },
      "execution_count": null,
      "outputs": [
        {
          "output_type": "display_data",
          "data": {
            "text/plain": [
              "<Figure size 432x288 with 1 Axes>"
            ],
            "image/png": "[encoded data removed]"
          },
          "metadata": {
            "needs_background": "light"
          }
        }
      ]
    },
    {
      "cell_type": "markdown",
      "source": [
        "## Product and Chain Rule"
      ],
      "metadata": {
        "id": "9rlPyQW5iD9p"
      }
    },
    {
      "cell_type": "code",
      "source": [
        "from IPython.display import display"
      ],
      "metadata": {
        "id": "Wta-GhgvEfUc"
      },
      "execution_count": null,
      "outputs": []
    },
    {
      "cell_type": "code",
      "source": [
        "# create symbolic variables in sympy\n",
        "x = sym.symbols(\"x\")\n",
        "\n",
        "# create two functions\n",
        "fx = 2*x**2\n",
        "gx = 4*x**3 - 3*x**4\n",
        "\n",
        "# compute their derivatives\n",
        "df = sym.diff(fx)\n",
        "dg = sym.diff(gx)\n",
        "\n",
        "print(df)\n",
        "print()\n",
        "print(dg)"
      ],
      "metadata": {
        "colab": {
          "base_uri": "https://localhost:8080/"
        },
        "id": "aJrsecd2iTsv",
        "outputId": "a8c678f3-a1ea-460a-810e-7c6f3806bf83"
      },
      "execution_count": null,
      "outputs": [
        {
          "output_type": "stream",
          "name": "stdout",
          "text": [
            "4*x\n",
            "\n",
            "-12*x**3 + 12*x**2\n"
          ]
        }
      ]
    },
    {
      "cell_type": "code",
      "source": [
        "# manually apply the product rule\n",
        "manual = df*gx + fx*dg\n",
        "\n",
        "print(manual)"
      ],
      "metadata": {
        "colab": {
          "base_uri": "https://localhost:8080/"
        },
        "id": "1v7DXqnCi4XC",
        "outputId": "02a6894a-13da-4dd7-8358-42ee158473d5"
      },
      "execution_count": null,
      "outputs": [
        {
          "output_type": "stream",
          "name": "stdout",
          "text": [
            "2*x**2*(-12*x**3 + 12*x**2) + 4*x*(-3*x**4 + 4*x**3)\n"
          ]
        }
      ]
    },
    {
      "cell_type": "code",
      "source": [
        "# do the same using sympy\n",
        "viasympy = sym.diff(fx*gx)\n",
        "print(viasympy)"
      ],
      "metadata": {
        "colab": {
          "base_uri": "https://localhost:8080/"
        },
        "id": "BgCXSQw-jJAW",
        "outputId": "b204d292-17a6-4a75-9ccd-6f626b67fce2"
      },
      "execution_count": null,
      "outputs": [
        {
          "output_type": "stream",
          "name": "stdout",
          "text": [
            "2*x**2*(-12*x**3 + 12*x**2) + 4*x*(-3*x**4 + 4*x**3)\n"
          ]
        }
      ]
    },
    {
      "cell_type": "code",
      "source": [
        "# use display from IPython\n",
        "print(\"Original Functions\")\n",
        "display(fx)\n",
        "display(gx)\n",
        "print()\n",
        "print(\"Their Derivatives\")\n",
        "display(df)\n",
        "display(dg)\n",
        "print()\n",
        "print(\"Manual product Rule\")\n",
        "display(manual)\n",
        "print()\n",
        "print(\"Sympy product Rule\")\n",
        "display(viasympy)"
      ],
      "metadata": {
        "colab": {
          "base_uri": "https://localhost:8080/",
          "height": 273
        },
        "id": "vQYliYCZjZlI",
        "outputId": "f82cb29f-7d6b-4edb-c80c-ebe61b7b5ead"
      },
      "execution_count": null,
      "outputs": [
        {
          "output_type": "stream",
          "name": "stdout",
          "text": [
            "Original Functions\n"
          ]
        },
        {
          "output_type": "display_data",
          "data": {
            "text/plain": [
              "2*x**2"
            ],
            "text/latex": "$\\displaystyle 2 x^{2}$"
          },
          "metadata": {}
        },
        {
          "output_type": "display_data",
          "data": {
            "text/plain": [
              "-3*x**4 + 4*x**3"
            ],
            "text/latex": "$\\displaystyle - 3 x^{4} + 4 x^{3}$"
          },
          "metadata": {}
        },
        {
          "output_type": "stream",
          "name": "stdout",
          "text": [
            "\n",
            "Their Derivatives\n"
          ]
        },
        {
          "output_type": "display_data",
          "data": {
            "text/plain": [
              "4*x"
            ],
            "text/latex": "$\\displaystyle 4 x$"
          },
          "metadata": {}
        },
        {
          "output_type": "display_data",
          "data": {
            "text/plain": [
              "-12*x**3 + 12*x**2"
            ],
            "text/latex": "$\\displaystyle - 12 x^{3} + 12 x^{2}$"
          },
          "metadata": {}
        },
        {
          "output_type": "stream",
          "name": "stdout",
          "text": [
            "\n",
            "Manual product Rule\n"
          ]
        },
        {
          "output_type": "display_data",
          "data": {
            "text/plain": [
              "2*x**2*(-12*x**3 + 12*x**2) + 4*x*(-3*x**4 + 4*x**3)"
            ],
            "text/latex": "$\\displaystyle 2 x^{2} \\left(- 12 x^{3} + 12 x^{2}\\right) + 4 x \\left(- 3 x^{4} + 4 x^{3}\\right)$"
          },
          "metadata": {}
        },
        {
          "output_type": "stream",
          "name": "stdout",
          "text": [
            "\n",
            "Sympy product Rule\n"
          ]
        },
        {
          "output_type": "display_data",
          "data": {
            "text/plain": [
              "2*x**2*(-12*x**3 + 12*x**2) + 4*x*(-3*x**4 + 4*x**3)"
            ],
            "text/latex": "$\\displaystyle 2 x^{2} \\left(- 12 x^{3} + 12 x^{2}\\right) + 4 x \\left(- 3 x^{4} + 4 x^{3}\\right)$"
          },
          "metadata": {}
        }
      ]
    },
    {
      "cell_type": "code",
      "source": [
        "# use the chain rule\n",
        "fx = (x**2 + 4*x**3)**5\n",
        "\n",
        "print(\"The function\")\n",
        "display(fx)\n",
        "print(\"\")\n",
        "\n",
        "print(\"Has derivative\")\n",
        "display(sym.diff(fx))"
      ],
      "metadata": {
        "colab": {
          "base_uri": "https://localhost:8080/",
          "height": 119
        },
        "id": "LGRmuMfxkW83",
        "outputId": "d47825c2-ee11-46ba-8c4f-f00c950ef9a4"
      },
      "execution_count": null,
      "outputs": [
        {
          "output_type": "stream",
          "name": "stdout",
          "text": [
            "The function\n"
          ]
        },
        {
          "output_type": "display_data",
          "data": {
            "text/plain": [
              "(4*x**3 + x**2)**5"
            ],
            "text/latex": "$\\displaystyle \\left(4 x^{3} + x^{2}\\right)^{5}$"
          },
          "metadata": {}
        },
        {
          "output_type": "stream",
          "name": "stdout",
          "text": [
            "\n",
            "Has derivative\n"
          ]
        },
        {
          "output_type": "display_data",
          "data": {
            "text/plain": [
              "(60*x**2 + 10*x)*(4*x**3 + x**2)**4"
            ],
            "text/latex": "$\\displaystyle \\left(60 x^{2} + 10 x\\right) \\left(4 x^{3} + x^{2}\\right)^{4}$"
          },
          "metadata": {}
        }
      ]
    }
  ]
}