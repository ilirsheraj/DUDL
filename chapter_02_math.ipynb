{
  "nbformat": 4,
  "nbformat_minor": 0,
  "metadata": {
    "colab": {
      "name": "chapter_02_math.ipynb",
      "provenance": [],
      "collapsed_sections": [],
      "authorship_tag": "ABX9TyMJS03vS/9LESyoNqsUttBl",
      "include_colab_link": true
    },
    "kernelspec": {
      "name": "python3",
      "display_name": "Python 3"
    },
    "language_info": {
      "name": "python"
    }
  },
  "cells": [
    {
      "cell_type": "markdown",
      "metadata": {
        "id": "view-in-github",
        "colab_type": "text"
      },
      "source": [
        "<a href=\"https://colab.research.google.com/github/ilirsheraj/DUDL/blob/main/chapter_02_math.ipynb\" target=\"_parent\"><img src=\"https://colab.research.google.com/assets/colab-badge.svg\" alt=\"Open In Colab\"/></a>"
      ]
    },
    {
      "cell_type": "markdown",
      "source": [
        "## Vector and Matrix Transpose"
      ],
      "metadata": {
        "id": "apK8XbRwOBdo"
      }
    },
    {
      "cell_type": "code",
      "execution_count": 53,
      "metadata": {
        "id": "Wq919Bw6Ny1A"
      },
      "outputs": [],
      "source": [
        "import numpy as np\n",
        "import torch\n",
        "import torch.nn as nn\n",
        "import torch.nn.functional as F\n",
        "import matplotlib.pyplot as plt"
      ]
    },
    {
      "cell_type": "code",
      "source": [
        "#!pip install -q --upgrade ipython\n",
        "#!pip install -q --upgrade ipykernel"
      ],
      "metadata": {
        "id": "n9Xwh4wI9Rxi"
      },
      "execution_count": 54,
      "outputs": []
    },
    {
      "cell_type": "markdown",
      "source": [
        "### Use Numpy"
      ],
      "metadata": {
        "id": "8uVvrys1Oi-j"
      }
    },
    {
      "cell_type": "code",
      "source": [
        "# create a vector\n",
        "nv = np.array([[1,2,3,4]])\n",
        "print(nv)"
      ],
      "metadata": {
        "colab": {
          "base_uri": "https://localhost:8080/"
        },
        "id": "UM0CqcE2OhVc",
        "outputId": "a75d6b54-2254-4be5-a386-8df5f6cda571"
      },
      "execution_count": 55,
      "outputs": [
        {
          "output_type": "stream",
          "name": "stdout",
          "text": [
            "[[1 2 3 4]]\n"
          ]
        }
      ]
    },
    {
      "cell_type": "code",
      "source": [
        "# transpose the vector\n",
        "print(nv.T)"
      ],
      "metadata": {
        "colab": {
          "base_uri": "https://localhost:8080/"
        },
        "id": "Pq_qEuA7PNvz",
        "outputId": "3904c4b0-c2f9-4150-a5e4-b9eb3957e896"
      },
      "execution_count": 56,
      "outputs": [
        {
          "output_type": "stream",
          "name": "stdout",
          "text": [
            "[[1]\n",
            " [2]\n",
            " [3]\n",
            " [4]]\n"
          ]
        }
      ]
    },
    {
      "cell_type": "code",
      "source": [
        "nvT = nv.T\n",
        "print(nvT)"
      ],
      "metadata": {
        "colab": {
          "base_uri": "https://localhost:8080/"
        },
        "id": "6Cfvg_HVPSa6",
        "outputId": "b00f17d2-8352-4f21-9a0e-94aa4304e03c"
      },
      "execution_count": 57,
      "outputs": [
        {
          "output_type": "stream",
          "name": "stdout",
          "text": [
            "[[1]\n",
            " [2]\n",
            " [3]\n",
            " [4]]\n"
          ]
        }
      ]
    },
    {
      "cell_type": "code",
      "source": [
        "# Do the same for a matrix\n",
        "nM = np.array([[1,2,3,4],[5,6,7,8]])\n",
        "print(nM)"
      ],
      "metadata": {
        "colab": {
          "base_uri": "https://localhost:8080/"
        },
        "id": "lsGCkQg8PgQr",
        "outputId": "1ac63f4f-6b53-4005-9a4c-e0f8e58ee764"
      },
      "execution_count": 58,
      "outputs": [
        {
          "output_type": "stream",
          "name": "stdout",
          "text": [
            "[[1 2 3 4]\n",
            " [5 6 7 8]]\n"
          ]
        }
      ]
    },
    {
      "cell_type": "code",
      "source": [
        "print(nM.T)"
      ],
      "metadata": {
        "colab": {
          "base_uri": "https://localhost:8080/"
        },
        "id": "SOMRCdLePq14",
        "outputId": "e70f4655-3694-407b-eb25-5915cd6bf5e5"
      },
      "execution_count": 59,
      "outputs": [
        {
          "output_type": "stream",
          "name": "stdout",
          "text": [
            "[[1 5]\n",
            " [2 6]\n",
            " [3 7]\n",
            " [4 8]]\n"
          ]
        }
      ]
    },
    {
      "cell_type": "code",
      "source": [
        "nMT = nM.T\n",
        "print(nMT)"
      ],
      "metadata": {
        "colab": {
          "base_uri": "https://localhost:8080/"
        },
        "id": "3ajIpgM_PvC9",
        "outputId": "4c73cb39-be16-4754-ebc5-f04b47a507dd"
      },
      "execution_count": 60,
      "outputs": [
        {
          "output_type": "stream",
          "name": "stdout",
          "text": [
            "[[1 5]\n",
            " [2 6]\n",
            " [3 7]\n",
            " [4 8]]\n"
          ]
        }
      ]
    },
    {
      "cell_type": "markdown",
      "source": [
        "### Using PyTorch"
      ],
      "metadata": {
        "id": "aWsKyehHP1WV"
      }
    },
    {
      "cell_type": "code",
      "source": [
        "# Create a vector\n",
        "tv = torch.tensor([[1,2,3,4]])\n",
        "print(tv)"
      ],
      "metadata": {
        "colab": {
          "base_uri": "https://localhost:8080/"
        },
        "id": "TdL7p9HCP5U2",
        "outputId": "c59ca7b5-9874-45bc-8524-970d21b12745"
      },
      "execution_count": 61,
      "outputs": [
        {
          "output_type": "stream",
          "name": "stdout",
          "text": [
            "tensor([[1, 2, 3, 4]])\n"
          ]
        }
      ]
    },
    {
      "cell_type": "code",
      "source": [
        "# Transpose it\n",
        "tvT = tv.T\n",
        "print(tvT)"
      ],
      "metadata": {
        "colab": {
          "base_uri": "https://localhost:8080/"
        },
        "id": "5yXVa82eQHLA",
        "outputId": "46624442-f09d-42c9-eb91-aba72500ac5a"
      },
      "execution_count": 62,
      "outputs": [
        {
          "output_type": "stream",
          "name": "stdout",
          "text": [
            "tensor([[1],\n",
            "        [2],\n",
            "        [3],\n",
            "        [4]])\n"
          ]
        }
      ]
    },
    {
      "cell_type": "code",
      "source": [
        "# Create a matrix\n",
        "tM = torch.tensor([[1,2,3,4], [5,6,7,8]])\n",
        "print(tM)"
      ],
      "metadata": {
        "colab": {
          "base_uri": "https://localhost:8080/"
        },
        "id": "BQrpBqIeQQXp",
        "outputId": "11af05f4-35d5-4cce-853a-47eef887fe30"
      },
      "execution_count": 63,
      "outputs": [
        {
          "output_type": "stream",
          "name": "stdout",
          "text": [
            "tensor([[1, 2, 3, 4],\n",
            "        [5, 6, 7, 8]])\n"
          ]
        }
      ]
    },
    {
      "cell_type": "code",
      "source": [
        "# Transpose it\n",
        "tMT = tM.T\n",
        "print(tMT)"
      ],
      "metadata": {
        "colab": {
          "base_uri": "https://localhost:8080/"
        },
        "id": "UmDaSEmhQZYN",
        "outputId": "1c8891d7-64eb-4a3b-8a20-9375fd51fb27"
      },
      "execution_count": 64,
      "outputs": [
        {
          "output_type": "stream",
          "name": "stdout",
          "text": [
            "tensor([[1, 5],\n",
            "        [2, 6],\n",
            "        [3, 7],\n",
            "        [4, 8]])\n"
          ]
        }
      ]
    },
    {
      "cell_type": "code",
      "source": [
        "# Check the datatypes\n",
        "print(f\"Variable nv is of type {type(nv)}\")\n",
        "print(f\"Variable nM is of type {type(nM)}\")\n",
        "print(f\"Variable tv is of type {type(tv)}\")\n",
        "print(f\"Variable tM is of type {type(tM)}\")"
      ],
      "metadata": {
        "colab": {
          "base_uri": "https://localhost:8080/"
        },
        "id": "GrQJN7Q8Qie4",
        "outputId": "2bf31d57-5bdc-430e-d25f-bb5f4120bf3e"
      },
      "execution_count": 65,
      "outputs": [
        {
          "output_type": "stream",
          "name": "stdout",
          "text": [
            "Variable nv is of type <class 'numpy.ndarray'>\n",
            "Variable nM is of type <class 'numpy.ndarray'>\n",
            "Variable tv is of type <class 'torch.Tensor'>\n",
            "Variable tM is of type <class 'torch.Tensor'>\n"
          ]
        }
      ]
    },
    {
      "cell_type": "markdown",
      "source": [
        "## Dot Product"
      ],
      "metadata": {
        "id": "JOGNa2p9Sgbz"
      }
    },
    {
      "cell_type": "markdown",
      "source": [
        "### Numpy"
      ],
      "metadata": {
        "id": "uN__KNVQTCJd"
      }
    },
    {
      "cell_type": "code",
      "source": [
        "# create two vectors\n",
        "nv1 = np.array([1,2,3,4])\n",
        "nv2 = np.array([0,1,0,-1])\n",
        "\n",
        "# dot product via function\n",
        "print(np.dot(nv1,nv2))\n",
        "\n",
        "# dot product via computation\n",
        "print(np.sum(nv1*nv2))"
      ],
      "metadata": {
        "colab": {
          "base_uri": "https://localhost:8080/"
        },
        "id": "Gg7VTMlESgDI",
        "outputId": "0890bbea-de9f-495c-ccd6-dc3ca5e3bb64"
      },
      "execution_count": 66,
      "outputs": [
        {
          "output_type": "stream",
          "name": "stdout",
          "text": [
            "-2\n",
            "-2\n"
          ]
        }
      ]
    },
    {
      "cell_type": "markdown",
      "source": [
        "### Pytorch"
      ],
      "metadata": {
        "id": "ynjE6NPBTEWE"
      }
    },
    {
      "cell_type": "code",
      "source": [
        "# create two vectors\n",
        "nv1 = torch.tensor([1,2,3,4])\n",
        "nv2 = torch.tensor([0,1,0,-1])\n",
        "\n",
        "# dot product via function\n",
        "print(torch.dot(nv1,nv2))\n",
        "\n",
        "# dot product via computation\n",
        "print(torch.sum(nv1*nv2))"
      ],
      "metadata": {
        "colab": {
          "base_uri": "https://localhost:8080/"
        },
        "id": "AxvhIqpwTGQq",
        "outputId": "486facfa-6cce-42b8-c927-6550d4ae0a1f"
      },
      "execution_count": 67,
      "outputs": [
        {
          "output_type": "stream",
          "name": "stdout",
          "text": [
            "tensor(-2)\n",
            "tensor(-2)\n"
          ]
        }
      ]
    },
    {
      "cell_type": "markdown",
      "source": [
        "## Matrix Multiplication"
      ],
      "metadata": {
        "id": "_IXR1t6VX8Af"
      }
    },
    {
      "cell_type": "markdown",
      "source": [
        "### Numpy"
      ],
      "metadata": {
        "id": "Ngn_IjP6X_nO"
      }
    },
    {
      "cell_type": "code",
      "source": [
        "# Create random matrices\n",
        "A = np.random.randn(3,4)\n",
        "B = np.random.randn(4,5)\n",
        "C = np.random.randn(3,7)\n",
        "\n",
        "# Try multiplications\n",
        "print(np.round(A@B,2))\n",
        "print(\"-\"*30)\n",
        "print(np.round(A.T@C,2))\n",
        "print(\"-\"*30)\n",
        "print(np.round(C.T@A,2))"
      ],
      "metadata": {
        "colab": {
          "base_uri": "https://localhost:8080/"
        },
        "id": "NEwZ0NpVTVNf",
        "outputId": "4d306432-a275-457c-c177-9ec622c08cdd"
      },
      "execution_count": 68,
      "outputs": [
        {
          "output_type": "stream",
          "name": "stdout",
          "text": [
            "[[  1.98  -0.46   0.03  -1.05  -2.4 ]\n",
            " [  1.06   0.     0.95  -0.5   -0.5 ]\n",
            " [  5.34  -3.58  -7.84  -2.18 -11.03]]\n",
            "------------------------------\n",
            "[[-5.03 -5.35 -1.32 -2.74 -6.7  -7.39  1.69]\n",
            " [ 1.92  1.75  0.67  1.73  3.39  3.33 -0.41]\n",
            " [ 1.95  2.75 -0.02 -0.44  0.68  1.65 -1.06]\n",
            " [ 0.51 -1.08  1.03  4.19  5.37  3.63  1.21]]\n",
            "------------------------------\n",
            "[[-5.03  1.92  1.95  0.51]\n",
            " [-5.35  1.75  2.75 -1.08]\n",
            " [-1.32  0.67 -0.02  1.03]\n",
            " [-2.74  1.73 -0.44  4.19]\n",
            " [-6.7   3.39  0.68  5.37]\n",
            " [-7.39  3.33  1.65  3.63]\n",
            " [ 1.69 -0.41 -1.06  1.21]]\n"
          ]
        }
      ]
    },
    {
      "cell_type": "markdown",
      "source": [
        "### Using Pytorch"
      ],
      "metadata": {
        "id": "9kDtQz7VYrPA"
      }
    },
    {
      "cell_type": "code",
      "source": [
        "# Create random matrices\n",
        "A = torch.randn(3,4)\n",
        "B = torch.randn(4,5)\n",
        "C1 = np.random.randn(3,7)\n",
        "C2 = torch.tensor(C1, dtype=torch.float)\n",
        "\n",
        "# Try multiplications\n",
        "print(np.round(A@B,2))\n",
        "print(\"-\"*30)\n",
        "print(np.round(A.T@C,2))\n",
        "print(\"-\"*30)\n",
        "# print(np.round(A@C1,2))\n",
        "print(np.round(C2.T@A,2))"
      ],
      "metadata": {
        "colab": {
          "base_uri": "https://localhost:8080/"
        },
        "id": "8XF9y9HPYtV3",
        "outputId": "aa3accea-0a48-4b78-9ea1-05f3572d2659"
      },
      "execution_count": 69,
      "outputs": [
        {
          "output_type": "stream",
          "name": "stdout",
          "text": [
            "tensor([[ 2.9600, -3.5900, -0.5900,  0.5400, -1.7800],\n",
            "        [ 2.0200, -1.3300,  3.3000,  1.2100,  0.0600],\n",
            "        [-1.0800, -1.3900, -1.8700, -2.7400, -0.8500]])\n",
            "------------------------------\n",
            "tensor([[-0.6200, -0.5200,  0.6400, -1.6600, -1.6900, -1.2500, -0.9400],\n",
            "        [ 4.8300,  6.6400,  0.1200, -0.6600,  2.2400,  4.4500, -2.5400],\n",
            "        [ 0.6100,  1.0300, -0.3300, -0.2700, -0.1400,  0.2600, -0.2000],\n",
            "        [ 0.9800,  2.1500, -0.4500, -2.0400, -1.8600, -0.5200, -1.1600]],\n",
            "       dtype=torch.float64)\n",
            "------------------------------\n",
            "tensor([[ 1.9700, -0.9500,  0.1300,  1.9700],\n",
            "        [-1.0600, -1.7100,  0.0600, -0.5600],\n",
            "        [ 0.2200, -6.0300, -0.8700, -1.9500],\n",
            "        [ 4.0500, -4.9400, -0.6000,  1.7700],\n",
            "        [-2.4400, -0.7000,  0.1800, -1.3500],\n",
            "        [ 1.0300, -0.7500,  0.1900,  1.4000],\n",
            "        [ 0.4200,  0.6100, -0.1500, -0.1500]])\n"
          ]
        }
      ]
    },
    {
      "cell_type": "markdown",
      "source": [
        "## Softmax Function"
      ],
      "metadata": {
        "id": "I2GMTqIX3kXz"
      }
    },
    {
      "cell_type": "markdown",
      "source": [
        "### Softmax in Numpy"
      ],
      "metadata": {
        "id": "JtshfZCz3nqY"
      }
    },
    {
      "cell_type": "code",
      "source": [
        "# define a list of numbers\n",
        "z = [1,2,3]\n",
        "\n",
        "# compute the softmax resulrs\n",
        "num = np.exp(z)\n",
        "den = np.sum(np.exp(z))\n",
        "sigma = num/den\n",
        "print(sigma)"
      ],
      "metadata": {
        "colab": {
          "base_uri": "https://localhost:8080/"
        },
        "id": "BkFLym1D3spk",
        "outputId": "bf801604-cfb6-4a18-8668-2f609191d4da"
      },
      "execution_count": 70,
      "outputs": [
        {
          "output_type": "stream",
          "name": "stdout",
          "text": [
            "[0.09003057 0.24472847 0.66524096]\n"
          ]
        }
      ]
    },
    {
      "cell_type": "code",
      "source": [
        "# Use a buch of random integers\n",
        "z = np.random.randint(-5,15,size=15)\n",
        "print(z)"
      ],
      "metadata": {
        "colab": {
          "base_uri": "https://localhost:8080/"
        },
        "id": "19p_IoAJ4H26",
        "outputId": "b1f2a872-73c4-414f-a576-6bf0ee462024"
      },
      "execution_count": 71,
      "outputs": [
        {
          "output_type": "stream",
          "name": "stdout",
          "text": [
            "[ 7  9 -4  6 10  6 12 10 13  9  0  3 -4 12  5]\n"
          ]
        }
      ]
    },
    {
      "cell_type": "code",
      "source": [
        "def my_softmax(z):\n",
        "  return np.exp(z)/np.sum(np.exp(z))\n",
        "\n",
        "sigma = my_softmax(z)\n",
        "sigma"
      ],
      "metadata": {
        "colab": {
          "base_uri": "https://localhost:8080/"
        },
        "id": "mNLrpeae4UaF",
        "outputId": "726e204a-7e05-487e-9c21-d09a7bd2ffd8"
      },
      "execution_count": 72,
      "outputs": [
        {
          "output_type": "execute_result",
          "data": {
            "text/plain": [
              "array([1.32083881e-03, 9.75975206e-03, 2.20602546e-08, 4.85909443e-04,\n",
              "       2.65297567e-02, 4.85909443e-04, 1.96029860e-01, 2.65297567e-02,\n",
              "       5.32864407e-01, 9.75975206e-03, 1.20444909e-06, 2.41920067e-05,\n",
              "       2.20602546e-08, 1.96029860e-01, 1.78756094e-04])"
            ]
          },
          "metadata": {},
          "execution_count": 72
        }
      ]
    },
    {
      "cell_type": "code",
      "source": [
        "# Compare\n",
        "plt.plot(z,sigma,\"bo\")\n",
        "plt.xlabel(\"Original Number (z)\")\n",
        "plt.ylabel(\"Softmax Ouput ($\\sigma$)\")\n",
        "plt.title(\"$\\sum\\sigma$ = %g\"%np.sum(sigma))\n",
        "plt.show()"
      ],
      "metadata": {
        "colab": {
          "base_uri": "https://localhost:8080/",
          "height": 317
        },
        "id": "nRqrAmLL4pyQ",
        "outputId": "f9154cc2-bbea-4142-d2dc-7ec99dbe474d"
      },
      "execution_count": 73,
      "outputs": [
        {
          "output_type": "display_data",
          "data": {
            "text/plain": [
              "<Figure size 432x288 with 1 Axes>"
            ],
            "image/png": "[encoded data removed]"
          },
          "metadata": {
            "needs_background": "light"
          }
        }
      ]
    },
    {
      "cell_type": "code",
      "source": [
        "# Make the y-scale logarithmic\n",
        "plt.plot(z,sigma,\"bo\")\n",
        "plt.yscale(\"log\")\n",
        "plt.xlabel(\"Original Number (z)\")\n",
        "plt.ylabel(\"Softmax Ouput ($\\sigma$)\")\n",
        "plt.title(\"$\\sum\\sigma$ = %g\"%np.sum(sigma))\n",
        "plt.show()"
      ],
      "metadata": {
        "colab": {
          "base_uri": "https://localhost:8080/",
          "height": 317
        },
        "id": "gi9zf52N6OHU",
        "outputId": "baa63443-66e3-4fc0-fbfe-fdeaf9cc6401"
      },
      "execution_count": 74,
      "outputs": [
        {
          "output_type": "display_data",
          "data": {
            "text/plain": [
              "<Figure size 432x288 with 1 Axes>"
            ],
            "image/png": "[encoded data removed]"
          },
          "metadata": {
            "needs_background": "light"
          }
        }
      ]
    },
    {
      "cell_type": "markdown",
      "source": [
        "### Using Pytorch"
      ],
      "metadata": {
        "id": "5FkuoIa963YC"
      }
    },
    {
      "cell_type": "code",
      "source": [
        "# First create an instance of Softmax activation class\n",
        "softfun = nn.Softmax(dim=0)\n",
        "\n",
        "# Apply the data to the function\n",
        "sigmaT = softfun(torch.Tensor(z))\n",
        "\n",
        "print(sigmaT)"
      ],
      "metadata": {
        "colab": {
          "base_uri": "https://localhost:8080/"
        },
        "id": "n_9g8EYy65yk",
        "outputId": "70d4cc42-8d6e-4fd4-c465-a55786c46983"
      },
      "execution_count": 75,
      "outputs": [
        {
          "output_type": "stream",
          "name": "stdout",
          "text": [
            "tensor([1.3208e-03, 9.7598e-03, 2.2060e-08, 4.8591e-04, 2.6530e-02, 4.8591e-04,\n",
            "        1.9603e-01, 2.6530e-02, 5.3286e-01, 9.7598e-03, 1.2044e-06, 2.4192e-05,\n",
            "        2.2060e-08, 1.9603e-01, 1.7876e-04])\n"
          ]
        }
      ]
    },
    {
      "cell_type": "code",
      "source": [
        "print(type(z))\n",
        "print(sigmaT)"
      ],
      "metadata": {
        "colab": {
          "base_uri": "https://localhost:8080/"
        },
        "id": "jOqhlTr5-H0w",
        "outputId": "2d1bcfe1-8564-4bc8-d552-a5d8d72be9af"
      },
      "execution_count": 76,
      "outputs": [
        {
          "output_type": "stream",
          "name": "stdout",
          "text": [
            "<class 'numpy.ndarray'>\n",
            "tensor([1.3208e-03, 9.7598e-03, 2.2060e-08, 4.8591e-04, 2.6530e-02, 4.8591e-04,\n",
            "        1.9603e-01, 2.6530e-02, 5.3286e-01, 9.7598e-03, 1.2044e-06, 2.4192e-05,\n",
            "        2.2060e-08, 1.9603e-01, 1.7876e-04])\n"
          ]
        }
      ]
    },
    {
      "cell_type": "code",
      "source": [
        "plt.plot(z, sigmaT, \"bo\")\n",
        "#plt.yscale(\"log\")\n",
        "plt.xlabel(\"Original Number (z)\")\n",
        "plt.ylabel(\"Softmax Ouput ($\\sigma$)\")\n",
        "plt.title(\"$\\sum\\sigma$ = %g\"%np.sum(sigma))\n",
        "plt.show()"
      ],
      "metadata": {
        "colab": {
          "base_uri": "https://localhost:8080/",
          "height": 317
        },
        "id": "EbGltcsC-RuC",
        "outputId": "e04f01a0-3f27-4a24-ad31-858282f4fce8"
      },
      "execution_count": 77,
      "outputs": [
        {
          "output_type": "display_data",
          "data": {
            "text/plain": [
              "<Figure size 432x288 with 1 Axes>"
            ],
            "image/png": "[encoded data removed]"
          },
          "metadata": {
            "needs_background": "light"
          }
        }
      ]
    },
    {
      "cell_type": "code",
      "source": [
        "plt.plot(z, sigmaT, \"bo\")\n",
        "plt.yscale(\"log\")\n",
        "plt.xlabel(\"Original Number (z)\")\n",
        "plt.ylabel(\"Softmax Ouput ($\\sigma$)\")\n",
        "plt.title(\"$\\sum\\sigma$ = %g\"%np.sum(sigma))\n",
        "plt.show()"
      ],
      "metadata": {
        "colab": {
          "base_uri": "https://localhost:8080/",
          "height": 317
        },
        "id": "GyX-NM_I-hLl",
        "outputId": "e9f2d167-bba0-458a-fdc3-367bd7354f22"
      },
      "execution_count": 78,
      "outputs": [
        {
          "output_type": "display_data",
          "data": {
            "text/plain": [
              "<Figure size 432x288 with 1 Axes>"
            ],
            "image/png": "[encoded data removed]"
          },
          "metadata": {
            "needs_background": "light"
          }
        }
      ]
    },
    {
      "cell_type": "code",
      "source": [
        "# Check the output correlation\n",
        "plt.plot(sigma, sigmaT, \"bo\")\n",
        "plt.xlabel(\"Numpy Softmax\")\n",
        "plt.ylabel(\"Pytorch nn.Softmax\")\n",
        "plt.title(f\"The two methods correlate at r={np.corrcoef(sigma,sigmaT)[0,1]}\")\n",
        "plt.show()"
      ],
      "metadata": {
        "colab": {
          "base_uri": "https://localhost:8080/",
          "height": 309
        },
        "id": "DncGJeRX-0SL",
        "outputId": "66b3d3bf-b764-426a-c1a2-af87f664c12d"
      },
      "execution_count": 79,
      "outputs": [
        {
          "output_type": "display_data",
          "data": {
            "text/plain": [
              "<Figure size 432x288 with 1 Axes>"
            ],
            "image/png": "[encoded data removed]"
          },
          "metadata": {
            "needs_background": "light"
          }
        }
      ]
    },
    {
      "cell_type": "markdown",
      "source": [
        "## Logarithmic Functions"
      ],
      "metadata": {
        "id": "_Pqigb31FvOr"
      }
    },
    {
      "cell_type": "code",
      "source": [
        "# Define a set of points to evaluate\n",
        "x = np.linspace(0.0001, 1, 200)\n",
        "\n",
        "# Compue log\n",
        "logx = np.log(x)\n",
        "\n",
        "# plot\n",
        "fig = plt.figure(figsize=(10,4))\n",
        "\n",
        "# Increase the fontsize\n",
        "plt.rcParams.update({\"font.size\":15})\n",
        "plt.plot(x,logx,\"bs-\", markerfacecolor=\"r\")\n",
        "plt.xlabel(\"x\")\n",
        "plt.ylabel(\"log(x) \")\n",
        "plt.show()"
      ],
      "metadata": {
        "colab": {
          "base_uri": "https://localhost:8080/",
          "height": 289
        },
        "id": "P2slBOKKFzdv",
        "outputId": "3a81c4e5-4d9f-4396-e9bc-7de1c0fdd196"
      },
      "execution_count": 80,
      "outputs": [
        {
          "output_type": "display_data",
          "data": {
            "text/plain": [
              "<Figure size 720x288 with 1 Axes>"
            ],
            "image/png": "[encoded data removed]"
          },
          "metadata": {
            "needs_background": "light"
          }
        }
      ]
    },
    {
      "cell_type": "code",
      "source": [
        "# Show that log and exp are inverses of each other\n",
        "# redefine same x with fewer points\n",
        "x = np.linspace(0.0001, 1, 30)\n",
        "\n",
        "logx = np.log(x)\n",
        "expx = np.exp(x)\n",
        "\n",
        "plt.plot(x,x,color=[0.8,0.8,0.8])\n",
        "plt.plot(x,np.exp(logx), \"o\", markersize=8)\n",
        "plt.plot(x,np.log(expx), \"x\", markersize=8)\n",
        "plt.xlabel(\"X\")\n",
        "plt.ylabel(\"f(g(x))\")\n",
        "plt.legend([\"unity\", \"exp(log(x))\", \"log(exp(x))\"])\n",
        "plt.show()"
      ],
      "metadata": {
        "colab": {
          "base_uri": "https://localhost:8080/",
          "height": 289
        },
        "id": "QwpnYFjjGrki",
        "outputId": "c82c93bc-3b89-42cf-9756-7834573552ba"
      },
      "execution_count": 81,
      "outputs": [
        {
          "output_type": "display_data",
          "data": {
            "text/plain": [
              "<Figure size 432x288 with 1 Axes>"
            ],
            "image/png": "[encoded data removed]"
          },
          "metadata": {
            "needs_background": "light"
          }
        }
      ]
    },
    {
      "cell_type": "markdown",
      "source": [
        "## Entropy & Cross-Entropy"
      ],
      "metadata": {
        "id": "IHBE622u0Hv5"
      }
    },
    {
      "cell_type": "markdown",
      "source": [
        "Entropy formula: $H(p) = -\\sum_{x} p(x)log(p(x))$"
      ],
      "metadata": {
        "id": "UBVoxRGO0PHS"
      }
    },
    {
      "cell_type": "code",
      "source": [
        "# Define the probability of en event happening\n",
        "p = 0.25\n",
        "q = 1-p\n",
        "\n",
        "# Wrong way of defining entrpy (Event of happening)\n",
        "H = -(p*np.log(p))\n",
        "print(\"Wrong Entropy: {:.2f}\".format(H))"
      ],
      "metadata": {
        "colab": {
          "base_uri": "https://localhost:8080/"
        },
        "id": "7r6iGMm50LZE",
        "outputId": "ad6d6a3d-1cbc-4ffb-dc57-4e9dfd273920"
      },
      "execution_count": 82,
      "outputs": [
        {
          "output_type": "stream",
          "name": "stdout",
          "text": [
            "Wrong Entropy: 0.35\n"
          ]
        }
      ]
    },
    {
      "cell_type": "code",
      "source": [
        "# Correct way to compute entropy\n",
        "x = [0.25, 0.75]\n",
        "\n",
        "H = 0\n",
        "for p in x:\n",
        "  H = H - p*np.log(p)\n",
        "\n",
        "print(\"Correct Entropy: {:.2f}\".format(H))"
      ],
      "metadata": {
        "colab": {
          "base_uri": "https://localhost:8080/"
        },
        "id": "9mgLUZBd1sLf",
        "outputId": "e695aa35-d738-4696-ba34-db823ac10782"
      },
      "execution_count": 83,
      "outputs": [
        {
          "output_type": "stream",
          "name": "stdout",
          "text": [
            "Correct Entropy: 0.56\n"
          ]
        }
      ]
    },
    {
      "cell_type": "code",
      "source": [
        "# Hard-coded for two events only\n",
        "# Formula for Binary Cross Entropy\n",
        "H = -(p*np.log(p) + (1-p)*np.log(1-p))\n",
        "print(H)"
      ],
      "metadata": {
        "colab": {
          "base_uri": "https://localhost:8080/"
        },
        "id": "m8IYhtEs2Y_g",
        "outputId": "03f0fb84-6716-4e6f-9668-048d07b758f9"
      },
      "execution_count": 84,
      "outputs": [
        {
          "output_type": "stream",
          "name": "stdout",
          "text": [
            "0.5623351446188083\n"
          ]
        }
      ]
    },
    {
      "cell_type": "code",
      "source": [
        "# Cross-Entropy: now we need two probabilities\n",
        "p = [1, 0]\n",
        "q = [0.25, 0.75]\n",
        "H = 0\n",
        "for i in range(len(p)):\n",
        "  H = H - p[i]*np.log(q[i])\n",
        "\n",
        "print(\"Cross-Entropy is: {:.2f}\".format(H))"
      ],
      "metadata": {
        "colab": {
          "base_uri": "https://localhost:8080/"
        },
        "id": "1y_dYVsL3Fus",
        "outputId": "904018d3-f63a-43a1-fc86-1f3436058ad5"
      },
      "execution_count": 85,
      "outputs": [
        {
          "output_type": "stream",
          "name": "stdout",
          "text": [
            "Cross-Entropy is: 1.39\n"
          ]
        }
      ]
    },
    {
      "cell_type": "code",
      "source": [
        "# Hard-coded for 2 events\n",
        "H = -(p[0]*np.log(q[0]) + p[1]*np.log(q[1]))\n",
        "print(H)"
      ],
      "metadata": {
        "colab": {
          "base_uri": "https://localhost:8080/"
        },
        "id": "oxVFQc9f3pYg",
        "outputId": "6b182e2e-8a2d-4312-ad45-eb5c2001ea8a"
      },
      "execution_count": 86,
      "outputs": [
        {
          "output_type": "stream",
          "name": "stdout",
          "text": [
            "1.3862943611198906\n"
          ]
        }
      ]
    },
    {
      "cell_type": "code",
      "source": [
        "# Further simplification when p=[1,0]\n",
        "H = -np.log(q[0])\n",
        "print(H)"
      ],
      "metadata": {
        "colab": {
          "base_uri": "https://localhost:8080/"
        },
        "id": "um_iVhHl4XgN",
        "outputId": "e33ea901-7553-444e-b953-5283c11b58c4"
      },
      "execution_count": 87,
      "outputs": [
        {
          "output_type": "stream",
          "name": "stdout",
          "text": [
            "1.3862943611198906\n"
          ]
        }
      ]
    },
    {
      "cell_type": "markdown",
      "source": [
        "### Cross-Entropy in PyTorch"
      ],
      "metadata": {
        "id": "hha2aj324njW"
      }
    },
    {
      "cell_type": "code",
      "source": [
        "# torch.nn.functional as F\n",
        "# Inputs must be tensors\n",
        "q_tensor = torch.Tensor(q)\n",
        "p_tensor = torch.Tensor(p)\n",
        "\n",
        "# Only two options: present vs absent\n",
        "# doesnt work with numpy arrays\n",
        "# order q(model prediction) and p(original probability) order is important in pytorch\n",
        "F.binary_cross_entropy(q_tensor,p_tensor)"
      ],
      "metadata": {
        "colab": {
          "base_uri": "https://localhost:8080/"
        },
        "id": "XXMqYjsE4mBW",
        "outputId": "773602cb-d0ef-437a-9094-1be126029b33"
      },
      "execution_count": 88,
      "outputs": [
        {
          "output_type": "execute_result",
          "data": {
            "text/plain": [
              "tensor(1.3863)"
            ]
          },
          "metadata": {},
          "execution_count": 88
        }
      ]
    },
    {
      "cell_type": "markdown",
      "source": [
        "## argmin and argmax functions"
      ],
      "metadata": {
        "id": "d6pIX5b_rRGq"
      }
    },
    {
      "cell_type": "markdown",
      "source": [
        "### Using Numpy"
      ],
      "metadata": {
        "id": "VEQZgGNOrVhr"
      }
    },
    {
      "cell_type": "code",
      "source": [
        "# Create a vector\n",
        "v = np.array([1,40,2,-3])\n",
        "\n",
        "# Find and report the minimum and maximum values\n",
        "minval = np.min(v)\n",
        "maxval = np.max(v)\n",
        "\n",
        "print(\"min, max: %g,%g\"%(minval, maxval))"
      ],
      "metadata": {
        "colab": {
          "base_uri": "https://localhost:8080/"
        },
        "id": "rnjcLGtKrYwA",
        "outputId": "aee27691-9afd-48a0-c1dc-85b82f5cf784"
      },
      "execution_count": 89,
      "outputs": [
        {
          "output_type": "stream",
          "name": "stdout",
          "text": [
            "min, max: -3,40\n"
          ]
        }
      ]
    },
    {
      "cell_type": "code",
      "source": [
        "# use argmin and argmax\n",
        "minidx = np.argmin(v)\n",
        "maxidx = np.argmax(v)\n",
        "\n",
        "print(\"min, max indices: %g,%g\"%(minidx, maxidx))"
      ],
      "metadata": {
        "colab": {
          "base_uri": "https://localhost:8080/"
        },
        "id": "had93WNDr-kK",
        "outputId": "02d7aa69-eeef-433b-8b83-f67591a3b51d"
      },
      "execution_count": 90,
      "outputs": [
        {
          "output_type": "stream",
          "name": "stdout",
          "text": [
            "min, max indices: 3,1\n"
          ]
        }
      ]
    },
    {
      "cell_type": "code",
      "source": [
        "# Confirm\n",
        "print(\"Min value is {}, and max value is {}\".format(v[minidx], v[maxidx]))"
      ],
      "metadata": {
        "colab": {
          "base_uri": "https://localhost:8080/"
        },
        "id": "wiIARA7YsSL9",
        "outputId": "f44ce22d-48b3-4d16-a681-6d25dec3671a"
      },
      "execution_count": 91,
      "outputs": [
        {
          "output_type": "stream",
          "name": "stdout",
          "text": [
            "Min value is -3, and max value is 40\n"
          ]
        }
      ]
    },
    {
      "cell_type": "code",
      "source": [
        "# repeat the same thing for matrices\n",
        "M = np.array([[0,1,10],\n",
        "              [20,8,5]])\n",
        "\n",
        "print(M)"
      ],
      "metadata": {
        "colab": {
          "base_uri": "https://localhost:8080/"
        },
        "id": "FIWGSdy6ssQW",
        "outputId": "5079bb4c-ed3d-4391-d94f-42a84d914ef1"
      },
      "execution_count": 92,
      "outputs": [
        {
          "output_type": "stream",
          "name": "stdout",
          "text": [
            "[[ 0  1 10]\n",
            " [20  8  5]]\n"
          ]
        }
      ]
    },
    {
      "cell_type": "code",
      "source": [
        "# Different types of minima in matrix. Same for max\n",
        "# overall\n",
        "minval1 = np.min(M)\n",
        "# minimum of each column\n",
        "minval2 = np.min(M,axis=0)\n",
        "# minimum for each row\n",
        "minval3 = np.min(M,axis=1)\n",
        "\n",
        "print(minval1)\n",
        "print()\n",
        "print(minval2)\n",
        "print()\n",
        "print(minval3)"
      ],
      "metadata": {
        "colab": {
          "base_uri": "https://localhost:8080/"
        },
        "id": "ruC5Bpz9s4Fl",
        "outputId": "e1d78574-4802-45f6-dad9-8296c5a7e229"
      },
      "execution_count": 93,
      "outputs": [
        {
          "output_type": "stream",
          "name": "stdout",
          "text": [
            "0\n",
            "\n",
            "[0 1 5]\n",
            "\n",
            "[0 5]\n"
          ]
        }
      ]
    },
    {
      "cell_type": "code",
      "source": [
        "# Do the same for argmin\n",
        "minidx1 = np.argmin(M)\n",
        "minidx2 = np.argmin(M,axis=0)\n",
        "minidx3 = np.argmin(M,axis=1)\n",
        "\n",
        "print(minidx1)\n",
        "print()\n",
        "print(minidx2)\n",
        "print()\n",
        "print(minidx3)"
      ],
      "metadata": {
        "colab": {
          "base_uri": "https://localhost:8080/"
        },
        "id": "wMD1nkP2t4_W",
        "outputId": "a35b1812-4212-45ec-8337-bf933ff46b9d"
      },
      "execution_count": 94,
      "outputs": [
        {
          "output_type": "stream",
          "name": "stdout",
          "text": [
            "0\n",
            "\n",
            "[0 0 1]\n",
            "\n",
            "[0 2]\n"
          ]
        }
      ]
    },
    {
      "cell_type": "markdown",
      "source": [
        "### Using PyToch"
      ],
      "metadata": {
        "id": "-qpfw-PruQ8F"
      }
    },
    {
      "cell_type": "code",
      "source": [
        "# First with vectors\n",
        "v = torch.tensor([1,40,2,-3])\n",
        "\n",
        "# find max and min values\n",
        "minval = torch.min(v)\n",
        "maxval = torch.max(v)\n",
        "\n",
        "print(\"min,max vals: %g,%g\"%(minval,maxval))"
      ],
      "metadata": {
        "colab": {
          "base_uri": "https://localhost:8080/"
        },
        "id": "4ftkqMt1uTJf",
        "outputId": "0b2d583a-a6ef-48e8-8136-bedd0fc333d7"
      },
      "execution_count": 95,
      "outputs": [
        {
          "output_type": "stream",
          "name": "stdout",
          "text": [
            "min,max vals: -3,40\n"
          ]
        }
      ]
    },
    {
      "cell_type": "code",
      "source": [
        "minidx = torch.argmin(v)\n",
        "maxidx = torch.argmax(v)\n",
        "\n",
        "print(\"min,max args: %g,%g\"%(minidx,maxidx))"
      ],
      "metadata": {
        "colab": {
          "base_uri": "https://localhost:8080/"
        },
        "id": "y3HnL05SvCnS",
        "outputId": "12ffef34-7c9d-4a2d-bf45-aea5c6ba7940"
      },
      "execution_count": 96,
      "outputs": [
        {
          "output_type": "stream",
          "name": "stdout",
          "text": [
            "min,max args: 3,1\n"
          ]
        }
      ]
    },
    {
      "cell_type": "code",
      "source": [
        "# Confirm the whole thing\n",
        "print(\"Min value is {}, and max value is {}\".format(v[minidx], v[maxidx]))"
      ],
      "metadata": {
        "colab": {
          "base_uri": "https://localhost:8080/"
        },
        "id": "1b3zecnfvQo8",
        "outputId": "4765318b-3ca8-47c4-cb88-1363313b6e8a"
      },
      "execution_count": 97,
      "outputs": [
        {
          "output_type": "stream",
          "name": "stdout",
          "text": [
            "Min value is -3, and max value is 40\n"
          ]
        }
      ]
    },
    {
      "cell_type": "code",
      "source": [
        "# Do the same with matrix\n",
        "M = torch.tensor([[0,1,10],\n",
        "                  [20,8,5]])\n",
        "print(M)"
      ],
      "metadata": {
        "colab": {
          "base_uri": "https://localhost:8080/"
        },
        "id": "tp67FS0DvbiO",
        "outputId": "aa57e398-ccc8-4c15-a9cf-7228be02c9cb"
      },
      "execution_count": 98,
      "outputs": [
        {
          "output_type": "stream",
          "name": "stdout",
          "text": [
            "tensor([[ 0,  1, 10],\n",
            "        [20,  8,  5]])\n"
          ]
        }
      ]
    },
    {
      "cell_type": "code",
      "source": [
        "# Differet minimas of the matrix\n",
        "# overall\n",
        "minval1 = torch.min(M)\n",
        "# minimum of each column\n",
        "minval2 = torch.min(M,axis=0)\n",
        "# minimum for each row\n",
        "minval3 = torch.min(M,axis=1)\n",
        "\n",
        "print(minval1)\n",
        "print()\n",
        "print(minval2) # torch object\n",
        "print()\n",
        "print(minval2.values) # numerical results\n",
        "print()\n",
        "print(minval2.indices)\n",
        "print()\n",
        "print(minval3)"
      ],
      "metadata": {
        "colab": {
          "base_uri": "https://localhost:8080/"
        },
        "id": "e3Y4Hot7vmZi",
        "outputId": "36160091-d603-4202-fea5-b8a90599108c"
      },
      "execution_count": 99,
      "outputs": [
        {
          "output_type": "stream",
          "name": "stdout",
          "text": [
            "tensor(0)\n",
            "\n",
            "torch.return_types.min(\n",
            "values=tensor([0, 1, 5]),\n",
            "indices=tensor([0, 0, 1]))\n",
            "\n",
            "tensor([0, 1, 5])\n",
            "\n",
            "tensor([0, 0, 1])\n",
            "\n",
            "torch.return_types.min(\n",
            "values=tensor([0, 5]),\n",
            "indices=tensor([0, 2]))\n"
          ]
        }
      ]
    },
    {
      "cell_type": "code",
      "source": [
        "# Do the same for argmin\n",
        "minidx1 = torch.argmin(M)\n",
        "minidx2 = torch.argmin(M,axis=0)\n",
        "minidx3 = torch.argmin(M,axis=1)\n",
        "\n",
        "print(minidx1)\n",
        "print()\n",
        "print(minidx2)\n",
        "print()\n",
        "print(minidx3)"
      ],
      "metadata": {
        "colab": {
          "base_uri": "https://localhost:8080/"
        },
        "id": "xahk-aEOv3NY",
        "outputId": "7853686c-123f-4945-f009-46321abdec1b"
      },
      "execution_count": 100,
      "outputs": [
        {
          "output_type": "stream",
          "name": "stdout",
          "text": [
            "tensor(0)\n",
            "\n",
            "tensor([0, 0, 1])\n",
            "\n",
            "tensor([0, 2])\n"
          ]
        }
      ]
    },
    {
      "cell_type": "markdown",
      "source": [
        "## Mean and Variance"
      ],
      "metadata": {
        "id": "G4JjR6N9VKIW"
      }
    },
    {
      "cell_type": "code",
      "source": [
        "# Generate a list of numbers\n",
        "x = [1,2,4,6,5,4,0]\n",
        "n = len(x)\n",
        "\n",
        "# Compute the mean in two different ways\n",
        "mean1 = np.mean(x)\n",
        "mean2 = np.sum(x)/len(x)\n",
        "\n",
        "print(mean1)\n",
        "print()\n",
        "print(mean2)"
      ],
      "metadata": {
        "colab": {
          "base_uri": "https://localhost:8080/"
        },
        "id": "zvK-wQ7cVN3V",
        "outputId": "12812eb2-b0e6-49e1-d05d-1dfd71bde0e1"
      },
      "execution_count": 101,
      "outputs": [
        {
          "output_type": "stream",
          "name": "stdout",
          "text": [
            "3.142857142857143\n",
            "\n",
            "3.142857142857143\n"
          ]
        }
      ]
    },
    {
      "cell_type": "code",
      "source": [
        "# Variance\n",
        "var1 = np.var(x) # biased variance (ddof=0 is the default)\n",
        "var1ub = np.var(x, ddof=1)\n",
        "var2 = (1/(n-1))*np.sum((x - mean1)**2) # unbiased variance\n",
        "\n",
        "print(var1)\n",
        "print()\n",
        "print(var1ub)\n",
        "print()\n",
        "print(var2)"
      ],
      "metadata": {
        "colab": {
          "base_uri": "https://localhost:8080/"
        },
        "id": "HxGmS0MxVr-8",
        "outputId": "7e42c16c-d900-4012-e7a0-d1989f328fb8"
      },
      "execution_count": 102,
      "outputs": [
        {
          "output_type": "stream",
          "name": "stdout",
          "text": [
            "4.122448979591836\n",
            "\n",
            "4.809523809523809\n",
            "\n",
            "4.809523809523809\n"
          ]
        }
      ]
    },
    {
      "cell_type": "code",
      "source": [
        "# For large samples, biased vs unbiased makes no difference\n",
        "N = 1000\n",
        "x = np.random.randint(0, high=20,size=N)\n",
        "\n",
        "varb = np.var(x, ddof=0)\n",
        "varu = np.var(x, ddof=1)\n",
        "\n",
        "print(\"Biased variance: {:.4f}\".format(varb))\n",
        "print(\"Unbiased variance: {:.4f}\".format(varu))"
      ],
      "metadata": {
        "colab": {
          "base_uri": "https://localhost:8080/"
        },
        "id": "t9UegSNiWxXi",
        "outputId": "087967f1-5a67-42b8-e79a-d3ad009dd5ca"
      },
      "execution_count": 103,
      "outputs": [
        {
          "output_type": "stream",
          "name": "stdout",
          "text": [
            "Biased variance: 35.0535\n",
            "Unbiased variance: 35.0886\n"
          ]
        }
      ]
    },
    {
      "cell_type": "markdown",
      "source": [
        "## Sampling"
      ],
      "metadata": {
        "id": "z3lYbBUvuaZL"
      }
    },
    {
      "cell_type": "code",
      "source": [
        "# create a list of number and compute its mean and vaiance\n",
        "x = [1,2,4,6,5,4,0,-4,5,-2,6,10,-9,1,3,-6]\n",
        "n = len(x)\n",
        "\n",
        "# compute population mean\n",
        "popmean = np.mean(x)\n",
        "\n",
        "# pick a sample and compute its mean\n",
        "sample = np.random.choice(x,size = 5, replace=True)\n",
        "sampmean = np.mean(sample)\n",
        "\n",
        "print(popmean)\n",
        "print()\n",
        "print(sampmean)"
      ],
      "metadata": {
        "colab": {
          "base_uri": "https://localhost:8080/"
        },
        "id": "94GFoogIucGx",
        "outputId": "66f70e96-1a33-4d15-880a-602151820354"
      },
      "execution_count": 114,
      "outputs": [
        {
          "output_type": "stream",
          "name": "stdout",
          "text": [
            "1.625\n",
            "\n",
            "5.0\n"
          ]
        }
      ]
    },
    {
      "cell_type": "code",
      "source": [
        "# Compute many sample means\n",
        "N = 10000\n",
        "sampleMean = np.zeros(N)\n",
        "for i in range(N):\n",
        "  # get a random sample\n",
        "  sample = np.random.choice(x, size = 5, replace=True)\n",
        "\n",
        "  # Compute the sample mean\n",
        "  sampleMean[i] = np.mean(sample)\n",
        "\n",
        "plt.hist(sampleMean, bins=40, density=True)\n",
        "plt.plot([popmean,popmean],[0,0.3], \"m--\")\n",
        "plt.ylabel(\"Count\")\n",
        "plt.xlabel(\"Sample Mean\")\n",
        "plt.show()"
      ],
      "metadata": {
        "colab": {
          "base_uri": "https://localhost:8080/",
          "height": 289
        },
        "id": "2vwxKhIXvnqg",
        "outputId": "1af24c37-4d26-4c0f-e269-0bf678d9e005"
      },
      "execution_count": 120,
      "outputs": [
        {
          "output_type": "display_data",
          "data": {
            "text/plain": [
              "<Figure size 432x288 with 1 Axes>"
            ],
            "image/png": "[encoded data removed]"
          },
          "metadata": {
            "needs_background": "light"
          }
        }
      ]
    },
    {
      "cell_type": "markdown",
      "source": [
        "## Random Seeds"
      ],
      "metadata": {
        "id": "2Ydey-_nyXU6"
      }
    },
    {
      "cell_type": "markdown",
      "source": [
        "### Random Seeding in Pyhon"
      ],
      "metadata": {
        "id": "nUDWgMLByXoB"
      }
    },
    {
      "cell_type": "code",
      "source": [
        "# Generate some random numbers\n",
        "np.random.randn(5)"
      ],
      "metadata": {
        "colab": {
          "base_uri": "https://localhost:8080/"
        },
        "id": "dWzHA37hydU8",
        "outputId": "2ef343a3-cb0e-4c74-dcca-497af0629477"
      },
      "execution_count": 124,
      "outputs": [
        {
          "output_type": "execute_result",
          "data": {
            "text/plain": [
              "array([ 1.88406304, -0.18772964,  0.25071837,  0.14670087, -0.84374916])"
            ]
          },
          "metadata": {},
          "execution_count": 124
        }
      ]
    },
    {
      "cell_type": "code",
      "source": [
        "# fix a seed\n",
        "np.random.seed(17)\n",
        "print(np.random.randn(5))\n",
        "print(np.random.randn(5))"
      ],
      "metadata": {
        "colab": {
          "base_uri": "https://localhost:8080/"
        },
        "id": "bNRPKg7Syuy8",
        "outputId": "7b5ec9fa-e8f4-4380-d017-8d05080980e7"
      },
      "execution_count": 127,
      "outputs": [
        {
          "output_type": "stream",
          "name": "stdout",
          "text": [
            "[ 0.27626589 -1.85462808  0.62390111  1.14531129  1.03719047]\n",
            "[ 1.88663893 -0.11169829 -0.36210134  0.14867505 -0.43778315]\n"
          ]
        }
      ]
    },
    {
      "cell_type": "code",
      "source": [
        "# The new seed mechanism in Numpy\n",
        "randseed1 = np.random.RandomState(17)\n",
        "randseed2 = np.random.RandomState(1234)\n",
        "# local scope for the seed, not global like the upper approach\n",
        "print(randseed1.randn(5))\n",
        "print()\n",
        "print(randseed2.randn(5))\n",
        "print()\n",
        "print(randseed1.randn(5))\n",
        "print()\n",
        "print(randseed2.randn(5))\n",
        "print()\n",
        "print(np.random.randn(5)) # not seeded"
      ],
      "metadata": {
        "colab": {
          "base_uri": "https://localhost:8080/"
        },
        "id": "M32Wa-vby7Pi",
        "outputId": "7588f933-a568-4779-9ce3-9d2bac5424d4"
      },
      "execution_count": 136,
      "outputs": [
        {
          "output_type": "stream",
          "name": "stdout",
          "text": [
            "[ 0.27626589 -1.85462808  0.62390111  1.14531129  1.03719047]\n",
            "\n",
            "[ 0.47143516 -1.19097569  1.43270697 -0.3126519  -0.72058873]\n",
            "\n",
            "[ 1.88663893 -0.11169829 -0.36210134  0.14867505 -0.43778315]\n",
            "\n",
            "[ 0.88716294  0.85958841 -0.6365235   0.01569637 -2.24268495]\n",
            "\n",
            "[ 0.0991466   0.63792617  0.70311068 -0.91609315 -0.78601423]\n"
          ]
        }
      ]
    },
    {
      "cell_type": "markdown",
      "source": [
        "### In pytorch"
      ],
      "metadata": {
        "id": "YaRqLTtk0eZs"
      }
    },
    {
      "cell_type": "code",
      "source": [
        "torch.randn(5)"
      ],
      "metadata": {
        "colab": {
          "base_uri": "https://localhost:8080/"
        },
        "id": "zW8SYOjP0c9W",
        "outputId": "693f18e9-51ae-4f96-c99b-e1232f882236"
      },
      "execution_count": 137,
      "outputs": [
        {
          "output_type": "execute_result",
          "data": {
            "text/plain": [
              "tensor([-1.9367,  1.0798,  1.0399,  1.1079,  0.5460])"
            ]
          },
          "metadata": {},
          "execution_count": 137
        }
      ]
    },
    {
      "cell_type": "code",
      "source": [
        "# Similar to numpy's old system\n",
        "torch.manual_seed(17)\n",
        "print(torch.randn(5))\n",
        "\n",
        "# Torch's seed does not spread to numpy: different every time\n",
        "print(np.random.randn(5))"
      ],
      "metadata": {
        "colab": {
          "base_uri": "https://localhost:8080/"
        },
        "id": "3rJH7iPh0kXh",
        "outputId": "89b02d27-7a6c-4566-a721-e84486b88f11"
      },
      "execution_count": 141,
      "outputs": [
        {
          "output_type": "stream",
          "name": "stdout",
          "text": [
            "tensor([-1.4135,  0.2336,  0.0340,  0.3499, -0.0145])\n",
            "[0.28458225 0.52253728 0.08355444 2.72079559 0.61100788]\n"
          ]
        }
      ]
    },
    {
      "cell_type": "markdown",
      "source": [
        "## t-test"
      ],
      "metadata": {
        "id": "kA-zNKIN3eci"
      }
    },
    {
      "cell_type": "code",
      "source": [
        "# we need scipy.stats for statistical tests\n",
        "import scipy.stats as stats"
      ],
      "metadata": {
        "id": "dPmPP-7L3hH4"
      },
      "execution_count": 142,
      "outputs": []
    },
    {
      "cell_type": "code",
      "source": [
        "# define the parameters\n",
        "n1 = 30   # samples in dataset 1\n",
        "n2 = 40   # samples in dataset 2\n",
        "mu1 = 1   # population mean of dataset 1\n",
        "mu2 = 2   # population mean of dataset 2\n",
        "\n",
        "# generate the data according to these parameters\n",
        "data1 = mu1 + np.random.randn(n1)\n",
        "data2 = mu2 + np.random.randn(n2)\n",
        "\n",
        "# plot everything\n",
        "plt.plot(np.zeros(n1), data1, \"ro\", markerfacecolor=\"w\", markersize=14)\n",
        "plt.plot(np.ones(n2), data2, \"bs\", markerfacecolor=\"w\", markersize=14)\n",
        "plt.xlim([-1,2])\n",
        "plt.xticks([0,1], labels=[\"Group1\", \"Group2\"])\n",
        "plt.show()"
      ],
      "metadata": {
        "colab": {
          "base_uri": "https://localhost:8080/",
          "height": 268
        },
        "id": "gEBioWpy3r7N",
        "outputId": "a0dc60a2-ebbf-499b-eab1-1fab4700ec1b"
      },
      "execution_count": 161,
      "outputs": [
        {
          "output_type": "display_data",
          "data": {
            "text/plain": [
              "<Figure size 432x288 with 1 Axes>"
            ],
            "image/png": "[encoded data removed]"
          },
          "metadata": {
            "needs_background": "light"
          }
        }
      ]
    },
    {
      "cell_type": "code",
      "source": [
        "# test whether their means change significantly\n",
        "# _ind = independent samples\n",
        "t,p = stats.ttest_ind(data1,data2)\n",
        "print(t)\n",
        "print()\n",
        "print(p)"
      ],
      "metadata": {
        "colab": {
          "base_uri": "https://localhost:8080/"
        },
        "id": "UPwqix7j5HzW",
        "outputId": "f9b2a320-e39f-4465-e086-9f5a7e5db1fa"
      },
      "execution_count": 162,
      "outputs": [
        {
          "output_type": "stream",
          "name": "stdout",
          "text": [
            "-5.9009936763803905\n",
            "\n",
            "1.2654189482463733e-07\n"
          ]
        }
      ]
    },
    {
      "cell_type": "code",
      "source": [
        "# Common way to show t=test results in a plot\n",
        "fig = plt.figure(figsize=(10,4))\n",
        "plt.rcParams.update({\"font.size\":12}) # change the fontsize of labels on picture\n",
        "\n",
        "plt.plot(0+np.random.randn(n1)/15, data1, \"ro\", markerfacecolor=\"w\", markersize=14)\n",
        "plt.plot(1+np.random.randn(n1)/15, data1, \"bs\", markerfacecolor=\"w\", markersize=14)\n",
        "plt.xlim([-1,2])\n",
        "plt.xticks([0,1], labels=[\"Group 1\", \"Group 2\"])\n",
        "\n",
        "# Set the title to include the t- and p-values\n",
        "plt.title(f\"t = {t:.2f}, p = {p:.3f}\")\n",
        "plt.show()"
      ],
      "metadata": {
        "colab": {
          "base_uri": "https://localhost:8080/",
          "height": 285
        },
        "id": "HgaVSX145cZt",
        "outputId": "c6f2afaa-cc07-46e2-ed48-908f8170ee26"
      },
      "execution_count": 163,
      "outputs": [
        {
          "output_type": "display_data",
          "data": {
            "text/plain": [
              "<Figure size 720x288 with 1 Axes>"
            ],
            "image/png": "[encoded data removed]"
          },
          "metadata": {
            "needs_background": "light"
          }
        }
      ]
    },
    {
      "cell_type": "markdown",
      "source": [
        "## Derivatives"
      ],
      "metadata": {
        "id": "CIT6w8qHBGt1"
      }
    },
    {
      "cell_type": "code",
      "source": [
        "# sympy = symbolic math in python\n",
        "import sympy as sym\n",
        "import sympy.plotting.plot as symplot"
      ],
      "metadata": {
        "id": "tSUctaB9BJFf"
      },
      "execution_count": 164,
      "outputs": []
    },
    {
      "cell_type": "code",
      "source": [
        "# create symbolic vaiables in sympy\n",
        "x = sym.symbols(\"x\")\n",
        "\n",
        "# create a unction\n",
        "fx = 2*x**2\n",
        "\n",
        "# compute its derivative\n",
        "df = sym.diff(fx,x)\n",
        "\n",
        "print(fx)\n",
        "print()\n",
        "print(df)"
      ],
      "metadata": {
        "colab": {
          "base_uri": "https://localhost:8080/"
        },
        "id": "OGA-CxycBYvJ",
        "outputId": "3f52ef1d-794e-40e5-b9f9-e1aa2b2f5f25"
      },
      "execution_count": 165,
      "outputs": [
        {
          "output_type": "stream",
          "name": "stdout",
          "text": [
            "2*x**2\n",
            "\n",
            "4*x\n"
          ]
        }
      ]
    },
    {
      "cell_type": "code",
      "source": [
        "# Plot the function and its derivative\n",
        "symplot(fx, (x,-4,4), title=\"The Function\")\n",
        "plt.show()"
      ],
      "metadata": {
        "colab": {
          "base_uri": "https://localhost:8080/",
          "height": 293
        },
        "id": "kFheZlJEBylw",
        "outputId": "746e713e-525e-443d-f07e-31a65de30d53"
      },
      "execution_count": 166,
      "outputs": [
        {
          "output_type": "display_data",
          "data": {
            "text/plain": [
              "<Figure size 432x288 with 1 Axes>"
            ],
            "image/png": "[encoded data removed]"
          },
          "metadata": {
            "needs_background": "light"
          }
        }
      ]
    },
    {
      "cell_type": "code",
      "source": [
        "symplot(df,(x,-4,4), title=\"Derivative\")\n",
        "plt.show()"
      ],
      "metadata": {
        "colab": {
          "base_uri": "https://localhost:8080/",
          "height": 293
        },
        "id": "T43Jl6JcB-I4",
        "outputId": "a62b47a5-b293-4aa8-ed66-8a18a6e97d06"
      },
      "execution_count": 167,
      "outputs": [
        {
          "output_type": "display_data",
          "data": {
            "text/plain": [
              "<Figure size 432x288 with 1 Axes>"
            ],
            "image/png": "[encoded data removed]"
          },
          "metadata": {
            "needs_background": "light"
          }
        }
      ]
    },
    {
      "cell_type": "code",
      "source": [
        "# Repeat it for ReLU and Sigmoid\n",
        "# create symbolic functions\n",
        "relu = sym.Max(0,x)\n",
        "sigmoid = 1/(1+sym.exp(-x))\n",
        "\n",
        "print(relu)\n",
        "print()\n",
        "print(sigmoid)"
      ],
      "metadata": {
        "colab": {
          "base_uri": "https://localhost:8080/"
        },
        "id": "EtRQBk6HCJBi",
        "outputId": "cf8b405a-d8a6-4b16-a9f2-e05a48d9e93e"
      },
      "execution_count": 168,
      "outputs": [
        {
          "output_type": "stream",
          "name": "stdout",
          "text": [
            "Max(0, x)\n",
            "\n",
            "1/(1 + exp(-x))\n"
          ]
        }
      ]
    },
    {
      "cell_type": "code",
      "source": [
        "# Show them on graphs\n",
        "p = symplot(relu,(x,-4,4), label=\"ReLU\",show=False, lin_color=\"blue\")\n",
        "p.extend(symplot(sigmoid,(x,-4,4),label=\"Sigmoid\",show=False,line_color=\"red\"))\n",
        "p.legend = True\n",
        "p.title = \"The Functions\"\n",
        "p.show()"
      ],
      "metadata": {
        "colab": {
          "base_uri": "https://localhost:8080/",
          "height": 293
        },
        "id": "tjggI1HdC-Ue",
        "outputId": "bfe9b525-117d-4e7b-e07b-31f58d627553"
      },
      "execution_count": 172,
      "outputs": [
        {
          "output_type": "display_data",
          "data": {
            "text/plain": [
              "<Figure size 432x288 with 1 Axes>"
            ],
            "image/png": "[encoded data removed]"
          },
          "metadata": {
            "needs_background": "light"
          }
        }
      ]
    },
    {
      "cell_type": "code",
      "source": [
        "# Graph their derivatives\n",
        "p = symplot(sym.diff(relu), (x,-4,4),label=\"df(ReLU)\",show=False,line_color=\"blue\")\n",
        "p.extend(symplot(sym.diff(sigmoid),(x,-4,4),label=\"df(Sigmoid)\", show=False, line_color=\"red\"))\n",
        "p.legend=True\n",
        "p.title = \"Derivatives\"\n",
        "p.show()"
      ],
      "metadata": {
        "colab": {
          "base_uri": "https://localhost:8080/",
          "height": 293
        },
        "id": "XqsB1rB_EqKY",
        "outputId": "bfd09857-c3ae-4d98-a523-f12a9ed50c89"
      },
      "execution_count": 175,
      "outputs": [
        {
          "output_type": "display_data",
          "data": {
            "text/plain": [
              "<Figure size 432x288 with 1 Axes>"
            ],
            "image/png": "[encoded data removed]"
          },
          "metadata": {
            "needs_background": "light"
          }
        }
      ]
    },
    {
      "cell_type": "code",
      "source": [
        ""
      ],
      "metadata": {
        "id": "Wta-GhgvEfUc"
      },
      "execution_count": null,
      "outputs": []
    }
  ]
}