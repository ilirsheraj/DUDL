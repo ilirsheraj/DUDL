{
  "nbformat": 4,
  "nbformat_minor": 0,
  "metadata": {
    "colab": {
      "name": "chapter_02_math.ipynb",
      "provenance": [],
      "collapsed_sections": [],
      "authorship_tag": "ABX9TyMhAVZxXx8pticTUeHM7bAH",
      "include_colab_link": true
    },
    "kernelspec": {
      "name": "python3",
      "display_name": "Python 3"
    },
    "language_info": {
      "name": "python"
    }
  },
  "cells": [
    {
      "cell_type": "markdown",
      "metadata": {
        "id": "view-in-github",
        "colab_type": "text"
      },
      "source": [
        "<a href=\"https://colab.research.google.com/github/ilirsheraj/DUDL/blob/main/chapter_02_math.ipynb\" target=\"_parent\"><img src=\"https://colab.research.google.com/assets/colab-badge.svg\" alt=\"Open In Colab\"/></a>"
      ]
    },
    {
      "cell_type": "markdown",
      "source": [
        "## Vector and Matrix Transpose"
      ],
      "metadata": {
        "id": "apK8XbRwOBdo"
      }
    },
    {
      "cell_type": "code",
      "execution_count": 1,
      "metadata": {
        "id": "Wq919Bw6Ny1A"
      },
      "outputs": [],
      "source": [
        "import numpy as np\n",
        "import torch\n",
        "import torch.nn as nn\n",
        "import torch.nn.functional as F\n",
        "import matplotlib.pyplot as plt"
      ]
    },
    {
      "cell_type": "code",
      "source": [
        "#!pip install -q --upgrade ipython\n",
        "#!pip install -q --upgrade ipykernel"
      ],
      "metadata": {
        "id": "n9Xwh4wI9Rxi"
      },
      "execution_count": 2,
      "outputs": []
    },
    {
      "cell_type": "markdown",
      "source": [
        "### Use Numpy"
      ],
      "metadata": {
        "id": "8uVvrys1Oi-j"
      }
    },
    {
      "cell_type": "code",
      "source": [
        "# create a vector\n",
        "nv = np.array([[1,2,3,4]])\n",
        "print(nv)"
      ],
      "metadata": {
        "colab": {
          "base_uri": "https://localhost:8080/"
        },
        "id": "UM0CqcE2OhVc",
        "outputId": "03e92faa-afee-4099-948c-907a880a1912"
      },
      "execution_count": 3,
      "outputs": [
        {
          "output_type": "stream",
          "name": "stdout",
          "text": [
            "[[1 2 3 4]]\n"
          ]
        }
      ]
    },
    {
      "cell_type": "code",
      "source": [
        "# transpose the vector\n",
        "print(nv.T)"
      ],
      "metadata": {
        "colab": {
          "base_uri": "https://localhost:8080/"
        },
        "id": "Pq_qEuA7PNvz",
        "outputId": "4e344346-773a-407a-fe5e-9e85a0f5edbc"
      },
      "execution_count": 4,
      "outputs": [
        {
          "output_type": "stream",
          "name": "stdout",
          "text": [
            "[[1]\n",
            " [2]\n",
            " [3]\n",
            " [4]]\n"
          ]
        }
      ]
    },
    {
      "cell_type": "code",
      "source": [
        "nvT = nv.T\n",
        "print(nvT)"
      ],
      "metadata": {
        "colab": {
          "base_uri": "https://localhost:8080/"
        },
        "id": "6Cfvg_HVPSa6",
        "outputId": "6e3ad05c-f937-48c6-98b6-bfce3d2eb591"
      },
      "execution_count": 5,
      "outputs": [
        {
          "output_type": "stream",
          "name": "stdout",
          "text": [
            "[[1]\n",
            " [2]\n",
            " [3]\n",
            " [4]]\n"
          ]
        }
      ]
    },
    {
      "cell_type": "code",
      "source": [
        "# Do the same for a matrix\n",
        "nM = np.array([[1,2,3,4],[5,6,7,8]])\n",
        "print(nM)"
      ],
      "metadata": {
        "colab": {
          "base_uri": "https://localhost:8080/"
        },
        "id": "lsGCkQg8PgQr",
        "outputId": "1b450625-9f56-4c34-d887-5c806048723a"
      },
      "execution_count": 6,
      "outputs": [
        {
          "output_type": "stream",
          "name": "stdout",
          "text": [
            "[[1 2 3 4]\n",
            " [5 6 7 8]]\n"
          ]
        }
      ]
    },
    {
      "cell_type": "code",
      "source": [
        "print(nM.T)"
      ],
      "metadata": {
        "colab": {
          "base_uri": "https://localhost:8080/"
        },
        "id": "SOMRCdLePq14",
        "outputId": "8265eeb8-bfb1-403e-8e27-fd59f9110c56"
      },
      "execution_count": 7,
      "outputs": [
        {
          "output_type": "stream",
          "name": "stdout",
          "text": [
            "[[1 5]\n",
            " [2 6]\n",
            " [3 7]\n",
            " [4 8]]\n"
          ]
        }
      ]
    },
    {
      "cell_type": "code",
      "source": [
        "nMT = nM.T\n",
        "print(nMT)"
      ],
      "metadata": {
        "colab": {
          "base_uri": "https://localhost:8080/"
        },
        "id": "3ajIpgM_PvC9",
        "outputId": "1fa1c1a6-309e-48fd-eba0-ebba56ee6de2"
      },
      "execution_count": 8,
      "outputs": [
        {
          "output_type": "stream",
          "name": "stdout",
          "text": [
            "[[1 5]\n",
            " [2 6]\n",
            " [3 7]\n",
            " [4 8]]\n"
          ]
        }
      ]
    },
    {
      "cell_type": "markdown",
      "source": [
        "### Using PyTorch"
      ],
      "metadata": {
        "id": "aWsKyehHP1WV"
      }
    },
    {
      "cell_type": "code",
      "source": [
        "# Create a vector\n",
        "tv = torch.tensor([[1,2,3,4]])\n",
        "print(tv)"
      ],
      "metadata": {
        "colab": {
          "base_uri": "https://localhost:8080/"
        },
        "id": "TdL7p9HCP5U2",
        "outputId": "1b3ecac7-3153-49e6-ee4f-f78bba75e0bc"
      },
      "execution_count": 9,
      "outputs": [
        {
          "output_type": "stream",
          "name": "stdout",
          "text": [
            "tensor([[1, 2, 3, 4]])\n"
          ]
        }
      ]
    },
    {
      "cell_type": "code",
      "source": [
        "# Transpose it\n",
        "tvT = tv.T\n",
        "print(tvT)"
      ],
      "metadata": {
        "colab": {
          "base_uri": "https://localhost:8080/"
        },
        "id": "5yXVa82eQHLA",
        "outputId": "0d37bbad-234a-42bf-fb44-9684f3d530d0"
      },
      "execution_count": 10,
      "outputs": [
        {
          "output_type": "stream",
          "name": "stdout",
          "text": [
            "tensor([[1],\n",
            "        [2],\n",
            "        [3],\n",
            "        [4]])\n"
          ]
        }
      ]
    },
    {
      "cell_type": "code",
      "source": [
        "# Create a matrix\n",
        "tM = torch.tensor([[1,2,3,4], [5,6,7,8]])\n",
        "print(tM)"
      ],
      "metadata": {
        "colab": {
          "base_uri": "https://localhost:8080/"
        },
        "id": "BQrpBqIeQQXp",
        "outputId": "c7484693-d45c-4ae4-d921-29d080ce3b68"
      },
      "execution_count": 11,
      "outputs": [
        {
          "output_type": "stream",
          "name": "stdout",
          "text": [
            "tensor([[1, 2, 3, 4],\n",
            "        [5, 6, 7, 8]])\n"
          ]
        }
      ]
    },
    {
      "cell_type": "code",
      "source": [
        "# Transpose it\n",
        "tMT = tM.T\n",
        "print(tMT)"
      ],
      "metadata": {
        "colab": {
          "base_uri": "https://localhost:8080/"
        },
        "id": "UmDaSEmhQZYN",
        "outputId": "817d6f06-6ec1-4645-d4dd-b7e42c466349"
      },
      "execution_count": 12,
      "outputs": [
        {
          "output_type": "stream",
          "name": "stdout",
          "text": [
            "tensor([[1, 5],\n",
            "        [2, 6],\n",
            "        [3, 7],\n",
            "        [4, 8]])\n"
          ]
        }
      ]
    },
    {
      "cell_type": "code",
      "source": [
        "# Check the datatypes\n",
        "print(f\"Variable nv is of type {type(nv)}\")\n",
        "print(f\"Variable nM is of type {type(nM)}\")\n",
        "print(f\"Variable tv is of type {type(tv)}\")\n",
        "print(f\"Variable tM is of type {type(tM)}\")"
      ],
      "metadata": {
        "colab": {
          "base_uri": "https://localhost:8080/"
        },
        "id": "GrQJN7Q8Qie4",
        "outputId": "0a9ac118-52e6-46e3-991f-b4e67ea2a1ce"
      },
      "execution_count": 13,
      "outputs": [
        {
          "output_type": "stream",
          "name": "stdout",
          "text": [
            "Variable nv is of type <class 'numpy.ndarray'>\n",
            "Variable nM is of type <class 'numpy.ndarray'>\n",
            "Variable tv is of type <class 'torch.Tensor'>\n",
            "Variable tM is of type <class 'torch.Tensor'>\n"
          ]
        }
      ]
    },
    {
      "cell_type": "markdown",
      "source": [
        "## Dot Product"
      ],
      "metadata": {
        "id": "JOGNa2p9Sgbz"
      }
    },
    {
      "cell_type": "markdown",
      "source": [
        "### Numpy"
      ],
      "metadata": {
        "id": "uN__KNVQTCJd"
      }
    },
    {
      "cell_type": "code",
      "source": [
        "# create two vectors\n",
        "nv1 = np.array([1,2,3,4])\n",
        "nv2 = np.array([0,1,0,-1])\n",
        "\n",
        "# dot product via function\n",
        "print(np.dot(nv1,nv2))\n",
        "\n",
        "# dot product via computation\n",
        "print(np.sum(nv1*nv2))"
      ],
      "metadata": {
        "colab": {
          "base_uri": "https://localhost:8080/"
        },
        "id": "Gg7VTMlESgDI",
        "outputId": "234aa69f-7ad5-4e94-ec5d-e22be47eed67"
      },
      "execution_count": 14,
      "outputs": [
        {
          "output_type": "stream",
          "name": "stdout",
          "text": [
            "-2\n",
            "-2\n"
          ]
        }
      ]
    },
    {
      "cell_type": "markdown",
      "source": [
        "### Pytorch"
      ],
      "metadata": {
        "id": "ynjE6NPBTEWE"
      }
    },
    {
      "cell_type": "code",
      "source": [
        "# create two vectors\n",
        "nv1 = torch.tensor([1,2,3,4])\n",
        "nv2 = torch.tensor([0,1,0,-1])\n",
        "\n",
        "# dot product via function\n",
        "print(torch.dot(nv1,nv2))\n",
        "\n",
        "# dot product via computation\n",
        "print(torch.sum(nv1*nv2))"
      ],
      "metadata": {
        "colab": {
          "base_uri": "https://localhost:8080/"
        },
        "id": "AxvhIqpwTGQq",
        "outputId": "37fd3927-85a9-48f5-a53c-4a74bfdeca52"
      },
      "execution_count": 15,
      "outputs": [
        {
          "output_type": "stream",
          "name": "stdout",
          "text": [
            "tensor(-2)\n",
            "tensor(-2)\n"
          ]
        }
      ]
    },
    {
      "cell_type": "markdown",
      "source": [
        "## Matrix Multiplication"
      ],
      "metadata": {
        "id": "_IXR1t6VX8Af"
      }
    },
    {
      "cell_type": "markdown",
      "source": [
        "### Numpy"
      ],
      "metadata": {
        "id": "Ngn_IjP6X_nO"
      }
    },
    {
      "cell_type": "code",
      "source": [
        "# Create random matrices\n",
        "A = np.random.randn(3,4)\n",
        "B = np.random.randn(4,5)\n",
        "C = np.random.randn(3,7)\n",
        "\n",
        "# Try multiplications\n",
        "print(np.round(A@B,2))\n",
        "print(\"-\"*30)\n",
        "print(np.round(A.T@C,2))\n",
        "print(\"-\"*30)\n",
        "print(np.round(C.T@A,2))"
      ],
      "metadata": {
        "colab": {
          "base_uri": "https://localhost:8080/"
        },
        "id": "NEwZ0NpVTVNf",
        "outputId": "95743461-a6d6-4f70-9051-68232c8f6a1d"
      },
      "execution_count": 16,
      "outputs": [
        {
          "output_type": "stream",
          "name": "stdout",
          "text": [
            "[[-0.35 -1.   -0.22 -0.02 -0.28]\n",
            " [-0.29 -0.28  1.79 -1.52 -0.3 ]\n",
            " [ 3.83  0.52 -1.97 -2.53  1.71]]\n",
            "------------------------------\n",
            "[[-0.58 -1.5   1.69  3.34 -1.68 -0.02  0.03]\n",
            " [ 0.35  1.03 -1.51 -2.39  1.23  0.24 -0.46]\n",
            " [ 0.35  0.72 -2.25 -2.93  0.34 -0.33 -1.31]\n",
            " [-0.96 -1.8   3.04  5.72 -1.05  1.21  0.56]]\n",
            "------------------------------\n",
            "[[-0.58  0.35  0.35 -0.96]\n",
            " [-1.5   1.03  0.72 -1.8 ]\n",
            " [ 1.69 -1.51 -2.25  3.04]\n",
            " [ 3.34 -2.39 -2.93  5.72]\n",
            " [-1.68  1.23  0.34 -1.05]\n",
            " [-0.02  0.24 -0.33  1.21]\n",
            " [ 0.03 -0.46 -1.31  0.56]]\n"
          ]
        }
      ]
    },
    {
      "cell_type": "markdown",
      "source": [
        "### Using Pytorch"
      ],
      "metadata": {
        "id": "9kDtQz7VYrPA"
      }
    },
    {
      "cell_type": "code",
      "source": [
        "# Create random matrices\n",
        "A = torch.randn(3,4)\n",
        "B = torch.randn(4,5)\n",
        "C1 = np.random.randn(3,7)\n",
        "C2 = torch.tensor(C1, dtype=torch.float)\n",
        "\n",
        "# Try multiplications\n",
        "print(np.round(A@B,2))\n",
        "print(\"-\"*30)\n",
        "print(np.round(A.T@C,2))\n",
        "print(\"-\"*30)\n",
        "# print(np.round(A@C1,2))\n",
        "print(np.round(C2.T@A,2))"
      ],
      "metadata": {
        "colab": {
          "base_uri": "https://localhost:8080/"
        },
        "id": "8XF9y9HPYtV3",
        "outputId": "6029660c-037d-471b-87c7-0cd93275e4ff"
      },
      "execution_count": 17,
      "outputs": [
        {
          "output_type": "stream",
          "name": "stdout",
          "text": [
            "tensor([[-1.7200,  0.9800, -0.2100,  0.3300,  1.6700],\n",
            "        [-2.7600, -0.6500,  0.0500,  0.9100,  1.1300],\n",
            "        [ 1.5000, -1.9100,  0.1900,  0.0600, -0.6000]])\n",
            "------------------------------\n",
            "tensor([[ 0.2700,  1.1800,  0.4200, -0.6500,  2.2000,  0.9000,  1.3700],\n",
            "        [-0.1300,  0.2300,  1.0600,  1.2500,  1.1400,  1.0300,  0.9000],\n",
            "        [-0.0900, -0.2900,  0.9300,  1.0300, -0.2600, -0.0900,  0.6500],\n",
            "        [ 0.5300,  1.1200, -3.2700, -4.3800,  0.5700, -0.5000, -1.8300]],\n",
            "       dtype=torch.float64)\n",
            "------------------------------\n",
            "tensor([[-1.9000, -0.3600,  0.3300, -1.5000],\n",
            "        [-2.7900, -1.4600, -0.2500,  0.6900],\n",
            "        [-4.8600, -3.1300, -0.0900,  1.1000],\n",
            "        [-0.8100,  0.0500, -0.5500,  0.7900],\n",
            "        [ 1.2400,  1.1700, -0.0500, -0.5500],\n",
            "        [ 5.9800,  2.4100,  0.9200, -1.5400],\n",
            "        [ 1.5200,  1.0900,  0.2600, -1.0400]])\n"
          ]
        }
      ]
    },
    {
      "cell_type": "markdown",
      "source": [
        "## Softmax Function"
      ],
      "metadata": {
        "id": "I2GMTqIX3kXz"
      }
    },
    {
      "cell_type": "markdown",
      "source": [
        "### Softmax in Numpy"
      ],
      "metadata": {
        "id": "JtshfZCz3nqY"
      }
    },
    {
      "cell_type": "code",
      "source": [
        "# define a list of numbers\n",
        "z = [1,2,3]\n",
        "\n",
        "# compute the softmax resulrs\n",
        "num = np.exp(z)\n",
        "den = np.sum(np.exp(z))\n",
        "sigma = num/den\n",
        "print(sigma)"
      ],
      "metadata": {
        "colab": {
          "base_uri": "https://localhost:8080/"
        },
        "id": "BkFLym1D3spk",
        "outputId": "cf3283a2-4eb4-484d-b538-9b189625b22b"
      },
      "execution_count": 18,
      "outputs": [
        {
          "output_type": "stream",
          "name": "stdout",
          "text": [
            "[0.09003057 0.24472847 0.66524096]\n"
          ]
        }
      ]
    },
    {
      "cell_type": "code",
      "source": [
        "# Use a buch of random integers\n",
        "z = np.random.randint(-5,15,size=15)\n",
        "print(z)"
      ],
      "metadata": {
        "colab": {
          "base_uri": "https://localhost:8080/"
        },
        "id": "19p_IoAJ4H26",
        "outputId": "8d2bb6de-6b6b-4247-e04d-54bbfa26855d"
      },
      "execution_count": 19,
      "outputs": [
        {
          "output_type": "stream",
          "name": "stdout",
          "text": [
            "[ 6 -1 -2  1  2 14  7 13 10  4 14 14  3 13  3]\n"
          ]
        }
      ]
    },
    {
      "cell_type": "code",
      "source": [
        "def my_softmax(z):\n",
        "  return np.exp(z)/np.sum(np.exp(z))\n",
        "\n",
        "sigma = my_softmax(z)\n",
        "sigma"
      ],
      "metadata": {
        "colab": {
          "base_uri": "https://localhost:8080/"
        },
        "id": "mNLrpeae4UaF",
        "outputId": "4617cad6-e3d9-4b49-f202-5d51712070b1"
      },
      "execution_count": 20,
      "outputs": [
        {
          "output_type": "execute_result",
          "data": {
            "text/plain": [
              "array([8.93278426e-05, 8.14564487e-08, 2.99661528e-08, 6.01886269e-07,\n",
              "       1.63609651e-06, 2.66282546e-01, 2.42818251e-04, 9.79598741e-02,\n",
              "       4.87713495e-03, 1.20892089e-05, 2.66282546e-01, 2.66282546e-01,\n",
              "       4.44737141e-06, 9.79598741e-02, 4.44737141e-06])"
            ]
          },
          "metadata": {},
          "execution_count": 20
        }
      ]
    },
    {
      "cell_type": "code",
      "source": [
        "# Compare\n",
        "plt.plot(z,sigma,\"bo\")\n",
        "plt.xlabel(\"Original Number (z)\")\n",
        "plt.ylabel(\"Softmax Ouput ($\\sigma$)\")\n",
        "plt.title(\"$\\sum\\sigma$ = %g\"%np.sum(sigma))\n",
        "plt.show()"
      ],
      "metadata": {
        "colab": {
          "base_uri": "https://localhost:8080/",
          "height": 299
        },
        "id": "nRqrAmLL4pyQ",
        "outputId": "ab8d9f1a-0c30-4e4f-9d51-4d056e48b387"
      },
      "execution_count": 21,
      "outputs": [
        {
          "output_type": "display_data",
          "data": {
            "text/plain": [
              "<Figure size 432x288 with 1 Axes>"
            ],
            "image/png": "[encoded data removed]"
          },
          "metadata": {
            "needs_background": "light"
          }
        }
      ]
    },
    {
      "cell_type": "code",
      "source": [
        "# Make the y-scale logarithmic\n",
        "plt.plot(z,sigma,\"bo\")\n",
        "plt.yscale(\"log\")\n",
        "plt.xlabel(\"Original Number (z)\")\n",
        "plt.ylabel(\"Softmax Ouput ($\\sigma$)\")\n",
        "plt.title(\"$\\sum\\sigma$ = %g\"%np.sum(sigma))\n",
        "plt.show()"
      ],
      "metadata": {
        "colab": {
          "base_uri": "https://localhost:8080/",
          "height": 299
        },
        "id": "gi9zf52N6OHU",
        "outputId": "b541a005-50f5-4f80-eac6-2e83c6a03d83"
      },
      "execution_count": 22,
      "outputs": [
        {
          "output_type": "display_data",
          "data": {
            "text/plain": [
              "<Figure size 432x288 with 1 Axes>"
            ],
            "image/png": "[encoded data removed]"
          },
          "metadata": {
            "needs_background": "light"
          }
        }
      ]
    },
    {
      "cell_type": "markdown",
      "source": [
        "### Using Pytorch"
      ],
      "metadata": {
        "id": "5FkuoIa963YC"
      }
    },
    {
      "cell_type": "code",
      "source": [
        "# First create an instance of Softmax activation class\n",
        "softfun = nn.Softmax(dim=0)\n",
        "\n",
        "# Apply the data to the function\n",
        "sigmaT = softfun(torch.Tensor(z))\n",
        "\n",
        "print(sigmaT)"
      ],
      "metadata": {
        "colab": {
          "base_uri": "https://localhost:8080/"
        },
        "id": "n_9g8EYy65yk",
        "outputId": "9a7dab30-7b58-4d36-886a-36c594b11bca"
      },
      "execution_count": 23,
      "outputs": [
        {
          "output_type": "stream",
          "name": "stdout",
          "text": [
            "tensor([8.9328e-05, 8.1456e-08, 2.9966e-08, 6.0189e-07, 1.6361e-06, 2.6628e-01,\n",
            "        2.4282e-04, 9.7960e-02, 4.8771e-03, 1.2089e-05, 2.6628e-01, 2.6628e-01,\n",
            "        4.4474e-06, 9.7960e-02, 4.4474e-06])\n"
          ]
        }
      ]
    },
    {
      "cell_type": "code",
      "source": [
        "print(type(z))\n",
        "print(sigmaT)"
      ],
      "metadata": {
        "colab": {
          "base_uri": "https://localhost:8080/"
        },
        "id": "jOqhlTr5-H0w",
        "outputId": "c1bce92f-4bfa-4ae1-e9e3-951cb3fb2d4d"
      },
      "execution_count": 24,
      "outputs": [
        {
          "output_type": "stream",
          "name": "stdout",
          "text": [
            "<class 'numpy.ndarray'>\n",
            "tensor([8.9328e-05, 8.1456e-08, 2.9966e-08, 6.0189e-07, 1.6361e-06, 2.6628e-01,\n",
            "        2.4282e-04, 9.7960e-02, 4.8771e-03, 1.2089e-05, 2.6628e-01, 2.6628e-01,\n",
            "        4.4474e-06, 9.7960e-02, 4.4474e-06])\n"
          ]
        }
      ]
    },
    {
      "cell_type": "code",
      "source": [
        "plt.plot(z, sigmaT, \"bo\")\n",
        "#plt.yscale(\"log\")\n",
        "plt.xlabel(\"Original Number (z)\")\n",
        "plt.ylabel(\"Softmax Ouput ($\\sigma$)\")\n",
        "plt.title(\"$\\sum\\sigma$ = %g\"%np.sum(sigma))\n",
        "plt.show()"
      ],
      "metadata": {
        "colab": {
          "base_uri": "https://localhost:8080/",
          "height": 299
        },
        "id": "EbGltcsC-RuC",
        "outputId": "779a2d46-b14b-4335-865b-c330da012f15"
      },
      "execution_count": 25,
      "outputs": [
        {
          "output_type": "display_data",
          "data": {
            "text/plain": [
              "<Figure size 432x288 with 1 Axes>"
            ],
            "image/png": "[encoded data removed]"
          },
          "metadata": {
            "needs_background": "light"
          }
        }
      ]
    },
    {
      "cell_type": "code",
      "source": [
        "plt.plot(z, sigmaT, \"bo\")\n",
        "plt.yscale(\"log\")\n",
        "plt.xlabel(\"Original Number (z)\")\n",
        "plt.ylabel(\"Softmax Ouput ($\\sigma$)\")\n",
        "plt.title(\"$\\sum\\sigma$ = %g\"%np.sum(sigma))\n",
        "plt.show()"
      ],
      "metadata": {
        "colab": {
          "base_uri": "https://localhost:8080/",
          "height": 299
        },
        "id": "GyX-NM_I-hLl",
        "outputId": "5f0541e5-4b5a-4b44-a3ac-1da11155112f"
      },
      "execution_count": 26,
      "outputs": [
        {
          "output_type": "display_data",
          "data": {
            "text/plain": [
              "<Figure size 432x288 with 1 Axes>"
            ],
            "image/png": "[encoded data removed]"
          },
          "metadata": {
            "needs_background": "light"
          }
        }
      ]
    },
    {
      "cell_type": "code",
      "source": [
        "# Check the output correlation\n",
        "plt.plot(sigma, sigmaT, \"bo\")\n",
        "plt.xlabel(\"Numpy Softmax\")\n",
        "plt.ylabel(\"Pytorch nn.Softmax\")\n",
        "plt.title(f\"The two methods correlate at r={np.corrcoef(sigma,sigmaT)[0,1]}\")\n",
        "plt.show()"
      ],
      "metadata": {
        "colab": {
          "base_uri": "https://localhost:8080/",
          "height": 295
        },
        "id": "DncGJeRX-0SL",
        "outputId": "91b77086-d108-483d-ffa5-b48e61ab822a"
      },
      "execution_count": 27,
      "outputs": [
        {
          "output_type": "display_data",
          "data": {
            "text/plain": [
              "<Figure size 432x288 with 1 Axes>"
            ],
            "image/png": "[encoded data removed]"
          },
          "metadata": {
            "needs_background": "light"
          }
        }
      ]
    },
    {
      "cell_type": "markdown",
      "source": [
        "## Logarithmic Functions"
      ],
      "metadata": {
        "id": "_Pqigb31FvOr"
      }
    },
    {
      "cell_type": "code",
      "source": [
        "# Define a set of points to evaluate\n",
        "x = np.linspace(0.0001, 1, 200)\n",
        "\n",
        "# Compue log\n",
        "logx = np.log(x)\n",
        "\n",
        "# plot\n",
        "fig = plt.figure(figsize=(10,4))\n",
        "\n",
        "# Increase the fontsize\n",
        "plt.rcParams.update({\"font.size\":15})\n",
        "plt.plot(x,logx,\"bs-\", markerfacecolor=\"r\")\n",
        "plt.xlabel(\"x\")\n",
        "plt.ylabel(\"log(x) \")\n",
        "plt.show()"
      ],
      "metadata": {
        "colab": {
          "base_uri": "https://localhost:8080/",
          "height": 289
        },
        "id": "P2slBOKKFzdv",
        "outputId": "2498b739-ff6f-4e77-818c-472d2247de0a"
      },
      "execution_count": 28,
      "outputs": [
        {
          "output_type": "display_data",
          "data": {
            "text/plain": [
              "<Figure size 720x288 with 1 Axes>"
            ],
            "image/png": "[encoded data removed]"
          },
          "metadata": {
            "needs_background": "light"
          }
        }
      ]
    },
    {
      "cell_type": "code",
      "source": [
        "# Show that log and exp are inverses of each other\n",
        "# redefine same x with fewer points\n",
        "x = np.linspace(0.0001, 1, 30)\n",
        "\n",
        "logx = np.log(x)\n",
        "expx = np.exp(x)\n",
        "\n",
        "plt.plot(x,x,color=[0.8,0.8,0.8])\n",
        "plt.plot(x,np.exp(logx), \"o\", markersize=8)\n",
        "plt.plot(x,np.log(expx), \"x\", markersize=8)\n",
        "plt.xlabel(\"X\")\n",
        "plt.ylabel(\"f(g(x))\")\n",
        "plt.legend([\"unity\", \"exp(log(x))\", \"log(exp(x))\"])\n",
        "plt.show()"
      ],
      "metadata": {
        "colab": {
          "base_uri": "https://localhost:8080/",
          "height": 289
        },
        "id": "QwpnYFjjGrki",
        "outputId": "6268fccd-d607-478c-bdfd-caacaf073bb8"
      },
      "execution_count": 29,
      "outputs": [
        {
          "output_type": "display_data",
          "data": {
            "text/plain": [
              "<Figure size 432x288 with 1 Axes>"
            ],
            "image/png": "[encoded data removed]"
          },
          "metadata": {
            "needs_background": "light"
          }
        }
      ]
    },
    {
      "cell_type": "markdown",
      "source": [
        "## Entropy & Cross-Entropy"
      ],
      "metadata": {
        "id": "IHBE622u0Hv5"
      }
    },
    {
      "cell_type": "markdown",
      "source": [
        "Entropy formula: $H(p) = -\\sum_{x} p(x)log(p(x))$"
      ],
      "metadata": {
        "id": "UBVoxRGO0PHS"
      }
    },
    {
      "cell_type": "code",
      "source": [
        "# Define the probability of en event happening\n",
        "p = 0.25\n",
        "q = 1-p\n",
        "\n",
        "# Wrong way of defining entrpy (Event of happening)\n",
        "H = -(p*np.log(p))\n",
        "print(\"Wrong Entropy: {:.2f}\".format(H))"
      ],
      "metadata": {
        "colab": {
          "base_uri": "https://localhost:8080/"
        },
        "id": "7r6iGMm50LZE",
        "outputId": "5d7e3922-8f09-48e8-b36d-239612790199"
      },
      "execution_count": 30,
      "outputs": [
        {
          "output_type": "stream",
          "name": "stdout",
          "text": [
            "Wrong Entropy: 0.35\n"
          ]
        }
      ]
    },
    {
      "cell_type": "code",
      "source": [
        "# Correct way to compute entropy\n",
        "x = [0.25, 0.75]\n",
        "\n",
        "H = 0\n",
        "for p in x:\n",
        "  H = H - p*np.log(p)\n",
        "\n",
        "print(\"Correct Entropy: {:.2f}\".format(H))"
      ],
      "metadata": {
        "colab": {
          "base_uri": "https://localhost:8080/"
        },
        "id": "9mgLUZBd1sLf",
        "outputId": "e3b354bb-83b1-481d-ce1b-413ecb3b2252"
      },
      "execution_count": 31,
      "outputs": [
        {
          "output_type": "stream",
          "name": "stdout",
          "text": [
            "Correct Entropy: 0.56\n"
          ]
        }
      ]
    },
    {
      "cell_type": "code",
      "source": [
        "# Hard-coded for two events only\n",
        "# Formula for Binary Cross Entropy\n",
        "H = -(p*np.log(p) + (1-p)*np.log(1-p))\n",
        "print(H)"
      ],
      "metadata": {
        "colab": {
          "base_uri": "https://localhost:8080/"
        },
        "id": "m8IYhtEs2Y_g",
        "outputId": "e57bff5f-abe2-4594-c612-cf8dba95476d"
      },
      "execution_count": 32,
      "outputs": [
        {
          "output_type": "stream",
          "name": "stdout",
          "text": [
            "0.5623351446188083\n"
          ]
        }
      ]
    },
    {
      "cell_type": "code",
      "source": [
        "# Cross-Entropy: now we need two probabilities\n",
        "p = [1, 0]\n",
        "q = [0.25, 0.75]\n",
        "H = 0\n",
        "for i in range(len(p)):\n",
        "  H = H - p[i]*np.log(q[i])\n",
        "\n",
        "print(\"Cross-Entropy is: {:.2f}\".format(H))"
      ],
      "metadata": {
        "colab": {
          "base_uri": "https://localhost:8080/"
        },
        "id": "1y_dYVsL3Fus",
        "outputId": "36514f81-67ec-4f82-8d94-1c9da7c10856"
      },
      "execution_count": 33,
      "outputs": [
        {
          "output_type": "stream",
          "name": "stdout",
          "text": [
            "Cross-Entropy is: 1.39\n"
          ]
        }
      ]
    },
    {
      "cell_type": "code",
      "source": [
        "# Hard-coded for 2 events\n",
        "H = -(p[0]*np.log(q[0]) + p[1]*np.log(q[1]))\n",
        "print(H)"
      ],
      "metadata": {
        "colab": {
          "base_uri": "https://localhost:8080/"
        },
        "id": "oxVFQc9f3pYg",
        "outputId": "4aefd7ec-fa15-4bbf-bef5-ef8461b1ef0c"
      },
      "execution_count": 34,
      "outputs": [
        {
          "output_type": "stream",
          "name": "stdout",
          "text": [
            "1.3862943611198906\n"
          ]
        }
      ]
    },
    {
      "cell_type": "code",
      "source": [
        "# Further simplification when p=[1,0]\n",
        "H = -np.log(q[0])\n",
        "print(H)"
      ],
      "metadata": {
        "colab": {
          "base_uri": "https://localhost:8080/"
        },
        "id": "um_iVhHl4XgN",
        "outputId": "f9f62a1c-a73c-4d55-bc06-e934a918ddd6"
      },
      "execution_count": 35,
      "outputs": [
        {
          "output_type": "stream",
          "name": "stdout",
          "text": [
            "1.3862943611198906\n"
          ]
        }
      ]
    },
    {
      "cell_type": "markdown",
      "source": [
        "### Cross-Entropy in PyTorch"
      ],
      "metadata": {
        "id": "hha2aj324njW"
      }
    },
    {
      "cell_type": "code",
      "source": [
        "# torch.nn.functional as F\n",
        "# Inputs must be tensors\n",
        "q_tensor = torch.Tensor(q)\n",
        "p_tensor = torch.Tensor(p)\n",
        "\n",
        "# Only two options: present vs absent\n",
        "# doesnt work with numpy arrays\n",
        "# order q(model prediction) and p(original probability) order is important in pytorch\n",
        "F.binary_cross_entropy(q_tensor,p_tensor)"
      ],
      "metadata": {
        "colab": {
          "base_uri": "https://localhost:8080/"
        },
        "id": "XXMqYjsE4mBW",
        "outputId": "03afc4fb-1309-43cc-9c82-56c0dd14593b"
      },
      "execution_count": 36,
      "outputs": [
        {
          "output_type": "execute_result",
          "data": {
            "text/plain": [
              "tensor(1.3863)"
            ]
          },
          "metadata": {},
          "execution_count": 36
        }
      ]
    },
    {
      "cell_type": "markdown",
      "source": [
        "## argmin and argmax functions"
      ],
      "metadata": {
        "id": "d6pIX5b_rRGq"
      }
    },
    {
      "cell_type": "markdown",
      "source": [
        "### Using Numpy"
      ],
      "metadata": {
        "id": "VEQZgGNOrVhr"
      }
    },
    {
      "cell_type": "code",
      "source": [
        "# Create a vector\n",
        "v = np.array([1,40,2,-3])\n",
        "\n",
        "# Find and report the minimum and maximum values\n",
        "minval = np.min(v)\n",
        "maxval = np.max(v)\n",
        "\n",
        "print(\"min, max: %g,%g\"%(minval, maxval))"
      ],
      "metadata": {
        "colab": {
          "base_uri": "https://localhost:8080/"
        },
        "id": "rnjcLGtKrYwA",
        "outputId": "7a5acf3c-f657-45a6-d6cb-572078230e7c"
      },
      "execution_count": 37,
      "outputs": [
        {
          "output_type": "stream",
          "name": "stdout",
          "text": [
            "min, max: -3,40\n"
          ]
        }
      ]
    },
    {
      "cell_type": "code",
      "source": [
        "# use argmin and argmax\n",
        "minidx = np.argmin(v)\n",
        "maxidx = np.argmax(v)\n",
        "\n",
        "print(\"min, max indices: %g,%g\"%(minidx, maxidx))"
      ],
      "metadata": {
        "colab": {
          "base_uri": "https://localhost:8080/"
        },
        "id": "had93WNDr-kK",
        "outputId": "1d4b46bf-500c-4d1f-b07d-3da57df91136"
      },
      "execution_count": 38,
      "outputs": [
        {
          "output_type": "stream",
          "name": "stdout",
          "text": [
            "min, max indices: 3,1\n"
          ]
        }
      ]
    },
    {
      "cell_type": "code",
      "source": [
        "# Confirm\n",
        "print(\"Min value is {}, and max value is {}\".format(v[minidx], v[maxidx]))"
      ],
      "metadata": {
        "colab": {
          "base_uri": "https://localhost:8080/"
        },
        "id": "wiIARA7YsSL9",
        "outputId": "7bc2f2d9-d13b-4279-fd03-8bf34a396c4a"
      },
      "execution_count": 39,
      "outputs": [
        {
          "output_type": "stream",
          "name": "stdout",
          "text": [
            "Min value is -3, and max value is 40\n"
          ]
        }
      ]
    },
    {
      "cell_type": "code",
      "source": [
        "# repeat the same thing for matrices\n",
        "M = np.array([[0,1,10],\n",
        "              [20,8,5]])\n",
        "\n",
        "print(M)"
      ],
      "metadata": {
        "colab": {
          "base_uri": "https://localhost:8080/"
        },
        "id": "FIWGSdy6ssQW",
        "outputId": "9e14edf5-64ec-4721-a51c-3877a697bfd4"
      },
      "execution_count": 40,
      "outputs": [
        {
          "output_type": "stream",
          "name": "stdout",
          "text": [
            "[[ 0  1 10]\n",
            " [20  8  5]]\n"
          ]
        }
      ]
    },
    {
      "cell_type": "code",
      "source": [
        "# Different types of minima in matrix. Same for max\n",
        "# overall\n",
        "minval1 = np.min(M)\n",
        "# minimum of each column\n",
        "minval2 = np.min(M,axis=0)\n",
        "# minimum for each row\n",
        "minval3 = np.min(M,axis=1)\n",
        "\n",
        "print(minval1)\n",
        "print()\n",
        "print(minval2)\n",
        "print()\n",
        "print(minval3)"
      ],
      "metadata": {
        "colab": {
          "base_uri": "https://localhost:8080/"
        },
        "id": "ruC5Bpz9s4Fl",
        "outputId": "269492da-55fd-46af-cb09-043829eb8a03"
      },
      "execution_count": 41,
      "outputs": [
        {
          "output_type": "stream",
          "name": "stdout",
          "text": [
            "0\n",
            "\n",
            "[0 1 5]\n",
            "\n",
            "[0 5]\n"
          ]
        }
      ]
    },
    {
      "cell_type": "code",
      "source": [
        "# Do the same for argmin\n",
        "minidx1 = np.argmin(M)\n",
        "minidx2 = np.argmin(M,axis=0)\n",
        "minidx3 = np.argmin(M,axis=1)\n",
        "\n",
        "print(minidx1)\n",
        "print()\n",
        "print(minidx2)\n",
        "print()\n",
        "print(minidx3)"
      ],
      "metadata": {
        "colab": {
          "base_uri": "https://localhost:8080/"
        },
        "id": "wMD1nkP2t4_W",
        "outputId": "4e7bae95-08c8-4d93-fb2d-50a20653f086"
      },
      "execution_count": 42,
      "outputs": [
        {
          "output_type": "stream",
          "name": "stdout",
          "text": [
            "0\n",
            "\n",
            "[0 0 1]\n",
            "\n",
            "[0 2]\n"
          ]
        }
      ]
    },
    {
      "cell_type": "markdown",
      "source": [
        "### Using PyToch"
      ],
      "metadata": {
        "id": "-qpfw-PruQ8F"
      }
    },
    {
      "cell_type": "code",
      "source": [
        "# First with vectors\n",
        "v = torch.tensor([1,40,2,-3])\n",
        "\n",
        "# find max and min values\n",
        "minval = torch.min(v)\n",
        "maxval = torch.max(v)\n",
        "\n",
        "print(\"min,max vals: %g,%g\"%(minval,maxval))"
      ],
      "metadata": {
        "colab": {
          "base_uri": "https://localhost:8080/"
        },
        "id": "4ftkqMt1uTJf",
        "outputId": "bb8418d2-cd38-4b67-b716-5e0a2dea36eb"
      },
      "execution_count": 44,
      "outputs": [
        {
          "output_type": "stream",
          "name": "stdout",
          "text": [
            "min,max vals: -3,40\n"
          ]
        }
      ]
    },
    {
      "cell_type": "code",
      "source": [
        "minidx = torch.argmin(v)\n",
        "maxidx = torch.argmax(v)\n",
        "\n",
        "print(\"min,max args: %g,%g\"%(minidx,maxidx))"
      ],
      "metadata": {
        "colab": {
          "base_uri": "https://localhost:8080/"
        },
        "id": "y3HnL05SvCnS",
        "outputId": "5f632f26-cea5-499c-e1da-a6907ee63d99"
      },
      "execution_count": 45,
      "outputs": [
        {
          "output_type": "stream",
          "name": "stdout",
          "text": [
            "min,max args: 3,1\n"
          ]
        }
      ]
    },
    {
      "cell_type": "code",
      "source": [
        "# Confirm the whole thing\n",
        "print(\"Min value is {}, and max value is {}\".format(v[minidx], v[maxidx]))"
      ],
      "metadata": {
        "colab": {
          "base_uri": "https://localhost:8080/"
        },
        "id": "1b3zecnfvQo8",
        "outputId": "655d9691-92ae-485a-a85b-86aaefa283cf"
      },
      "execution_count": 46,
      "outputs": [
        {
          "output_type": "stream",
          "name": "stdout",
          "text": [
            "Min value is -3, and max value is 40\n"
          ]
        }
      ]
    },
    {
      "cell_type": "code",
      "source": [
        "# Do the same with matrix\n",
        "M = torch.tensor([[0,1,10],\n",
        "                  [20,8,5]])\n",
        "print(M)"
      ],
      "metadata": {
        "colab": {
          "base_uri": "https://localhost:8080/"
        },
        "id": "tp67FS0DvbiO",
        "outputId": "3358ab4b-9893-4c66-863d-63bcfe02e55a"
      },
      "execution_count": 47,
      "outputs": [
        {
          "output_type": "stream",
          "name": "stdout",
          "text": [
            "tensor([[ 0,  1, 10],\n",
            "        [20,  8,  5]])\n"
          ]
        }
      ]
    },
    {
      "cell_type": "code",
      "source": [
        "# Differet minimas of the matrix\n",
        "# overall\n",
        "minval1 = torch.min(M)\n",
        "# minimum of each column\n",
        "minval2 = torch.min(M,axis=0)\n",
        "# minimum for each row\n",
        "minval3 = torch.min(M,axis=1)\n",
        "\n",
        "print(minval1)\n",
        "print()\n",
        "print(minval2) # torch object\n",
        "print()\n",
        "print(minval2.values) # numerical results\n",
        "print()\n",
        "print(minval2.indices)\n",
        "print()\n",
        "print(minval3)"
      ],
      "metadata": {
        "colab": {
          "base_uri": "https://localhost:8080/"
        },
        "id": "e3Y4Hot7vmZi",
        "outputId": "ff2de042-dfca-47e1-8028-7a418b41d29b"
      },
      "execution_count": 50,
      "outputs": [
        {
          "output_type": "stream",
          "name": "stdout",
          "text": [
            "tensor(0)\n",
            "\n",
            "torch.return_types.min(\n",
            "values=tensor([0, 1, 5]),\n",
            "indices=tensor([0, 0, 1]))\n",
            "\n",
            "tensor([0, 1, 5])\n",
            "\n",
            "tensor([0, 0, 1])\n",
            "\n",
            "torch.return_types.min(\n",
            "values=tensor([0, 5]),\n",
            "indices=tensor([0, 2]))\n"
          ]
        }
      ]
    },
    {
      "cell_type": "code",
      "source": [
        "# Do the same for argmin\n",
        "minidx1 = torch.argmin(M)\n",
        "minidx2 = torch.argmin(M,axis=0)\n",
        "minidx3 = torch.argmin(M,axis=1)\n",
        "\n",
        "print(minidx1)\n",
        "print()\n",
        "print(minidx2)\n",
        "print()\n",
        "print(minidx3)"
      ],
      "metadata": {
        "colab": {
          "base_uri": "https://localhost:8080/"
        },
        "id": "xahk-aEOv3NY",
        "outputId": "d3c83ade-b6c1-4839-979e-d202260be0fe"
      },
      "execution_count": 49,
      "outputs": [
        {
          "output_type": "stream",
          "name": "stdout",
          "text": [
            "tensor(0)\n",
            "\n",
            "tensor([0, 0, 1])\n",
            "\n",
            "tensor([0, 2])\n"
          ]
        }
      ]
    }
  ]
}